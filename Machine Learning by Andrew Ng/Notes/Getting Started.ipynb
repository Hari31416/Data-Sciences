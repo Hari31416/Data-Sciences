{
 "cells": [
  {
   "cell_type": "markdown",
   "metadata": {},
   "source": [
    "## Definition of Machine Learning\n",
    "Two definitions of Machine Learning are offered. Arthur Samuel described it as:<i> \"the field of study that gives computers the ability to learn without being explicitly programmed.\"</i> This is an older, informal definition.\n",
    "<br><br>\n",
    "Tom Mitchell provides a more modern definition:<i> \"A computer program is said to learn from experience E with respect to some class of tasks T and performance measure P, if its performance at tasks in T, as measured by P, improves with experience E.\"</i>\n",
    "<br>\n",
    "Example: playing checkers.<br>\n",
    "<b> E </b> = the experience of playing many games of checkers\n",
    "<br>\n",
    "<b> T </b>  = the task of playing checkers.\n",
    "<br>\n",
    "<b> P </b>  = the probability that the program will win the next game.\n",
    "<br><br>\n",
    "In general, any machine learning problem can be assigned to one of two broad classifications:\n",
    "<br>\n",
    "Supervised learning and Unsupervised learning."
   ]
  },
  {
   "cell_type": "markdown",
   "metadata": {},
   "source": [
    "## Supervised Learning\n",
    "In supervised learning, we are given a data set and already know what our correct output should look like, having the idea that there is a relationship between the input and the output.\n",
    "<br><br>\n",
    "Supervised learning problems are categorized into \"regression\" and \"classification\" problems. In a regression problem, we are trying to predict results within a continuous output, meaning that we are trying to map input variables to some continuous function. In a classification problem, we are instead trying to predict results in a discrete output. In other words, we are trying to map input variables into discrete categories. \n",
    "<br>\n",
    "### Example 1:\n",
    "\n",
    "Given data about the size of houses on the real estate market, try to predict their price. Price as a function of size is a continuous output, so this is a regression problem.\n",
    "<br>\n",
    "We could turn this example into a classification problem by instead making our output about whether the house \"sells for more or less than the asking price.\" Here we are classifying the houses based on price into two discrete categories.\n",
    "<br>\n",
    "### Example 2:\n",
    "(a) Regression - Given a picture of a person, we have to predict their age on the basis of the given picture\n",
    "<br>\n",
    "(b) Classification - Given a patient with a tumor, we have to predict whether the tumor is malignant or benign. "
   ]
  },
  {
   "cell_type": "markdown",
   "metadata": {},
   "source": [
    "## Unsupervised Learning\n",
    "Unsupervised learning allows us to approach problems with little or no idea what our results should look like. We can derive structure from data where we don't necessarily know the effect of the variables.\n",
    "<br>\n",
    "We can derive this structure by clustering the data based on relationships among the variables in the data.\n",
    "<br>\n",
    "With unsupervised learning there is no feedback based on the prediction results.\n",
    "\n",
    "### Example:\n",
    "\n",
    "Clustering: Take a collection of 1,000,000 different genes, and find a way to automatically group these genes into groups that are somehow similar or related by different variables, such as lifespan, location, roles, and so on.\n",
    "<br>\n",
    "Non-clustering: The \"Cocktail Party Algorithm\", allows you to find structure in a chaotic environment. (i.e. identifying individual voices and music from a mesh of sounds at a cocktail party)."
   ]
  },
  {
   "cell_type": "code",
   "execution_count": null,
   "metadata": {},
   "outputs": [],
   "source": []
  }
 ],
 "metadata": {
  "language_info": {
   "name": "python"
  },
  "orig_nbformat": 4
 },
 "nbformat": 4,
 "nbformat_minor": 2
}
