{
 "cells": [
  {
   "cell_type": "code",
   "execution_count": 1,
   "metadata": {},
   "outputs": [],
   "source": [
    "import os\n",
    "import shutil\n",
    "from life_saving_tools.Files import Notebook\n",
    "import nbformat\n",
    "from nbconvert import HTMLExporter"
   ]
  },
  {
   "cell_type": "markdown",
   "metadata": {},
   "source": [
    "## Saving Notebooks to HTML"
   ]
  },
  {
   "cell_type": "markdown",
   "metadata": {},
   "source": [
    "### Steps\n",
    "1. Remove The Logo\n",
    "2. Remove the 'Great Job' text\n",
    "3. Save the notebook as HTML\n",
    "4. Keep track of output file path\n",
    "5. Excluding the Exercises"
   ]
  },
  {
   "cell_type": "code",
   "execution_count": 2,
   "metadata": {},
   "outputs": [
    {
     "name": "stdout",
     "output_type": "stream",
     "text": [
      "111\n"
     ]
    }
   ],
   "source": [
    "i=0\n",
    "for folder, _, files in os.walk('.'):\n",
    "    for file in files:\n",
    "        if file.endswith('.ipynb'):\n",
    "            i+=1\n",
    "\n",
    "print(i)"
   ]
  },
  {
   "cell_type": "code",
   "execution_count": 7,
   "metadata": {},
   "outputs": [],
   "source": [
    "file = r\"02-Python-for-Data-Analysis-NumPy\\02-Numpy Indexing and Selection.ipynb\"\n",
    "notebook = nbformat.read(file, as_version=4)"
   ]
  },
  {
   "cell_type": "code",
   "execution_count": 4,
   "metadata": {},
   "outputs": [],
   "source": [
    "import re\n",
    "def remove_logo(notebook):\n",
    "    regex = re.compile(r'</a>\\n___')\n",
    "    text = notebook.cells[0].source\n",
    "    try:\n",
    "        find_index = regex.search(text).span()[1]\n",
    "    except AttributeError:\n",
    "        find_index = 0\n",
    "    text = text[find_index:]\n",
    "    notebook.cells[0].source = text"
   ]
  },
  {
   "cell_type": "code",
   "execution_count": null,
   "metadata": {},
   "outputs": [],
   "source": [
    "#fixing the output file name\n"
   ]
  },
  {
   "cell_type": "code",
   "execution_count": 69,
   "metadata": {},
   "outputs": [],
   "source": [
    "def convert_new(input, output = None):\n",
    "    #Loading the file\n",
    "    notebook = nbformat.read(input, as_version=4)\n",
    "    #Removing the logo\n",
    "    \n",
    "    remove_logo(notebook)\n",
    "    #Removing the final text\n",
    "    text = notebook.cells[-1].source\n",
    "    if \"Great Job\" in text:\n",
    "        notebook.cells[-1].source = \"\"\n",
    "    #Converting to HTML\n",
    "    html_exporter = HTMLExporter(template_name=\"classic\")\n",
    "    (body, _) = html_exporter.from_notebook_node(notebook)\n",
    "    # Fixing the title\n",
    "    title = input.split(os.path.sep)[-1].split(\".\")[0]\n",
    "    title = title.replace(\"_\", \" \").title()\n",
    "    regex =re.compile(r\"\\d\")\n",
    "    title = regex.sub(\"\", title)\n",
    "    title = title.replace(\"-\", \"\")\n",
    "    body = re.sub(\"<title>Notebook</title>\", f\"<title>{title}</title>\", body)\n",
    "\n",
    "    if output is None:\n",
    "        #Fixing the path\n",
    "        output = os.path.splitext(input)[0].replace(\" \", \"_\") + \".html\"\n",
    "\n",
    "    with open(output, \"w\") as f:\n",
    "        f.write(body)\n",
    "    \n",
    "    #Fixing the title\n",
    "    return output, title"
   ]
  },
  {
   "cell_type": "code",
   "execution_count": 70,
   "metadata": {},
   "outputs": [
    {
     "data": {
      "text/plain": [
       "('01-Python-Crash-Course\\\\01-Python_Crash_Course.html', 'Python Crash Course')"
      ]
     },
     "execution_count": 70,
     "metadata": {},
     "output_type": "execute_result"
    }
   ],
   "source": [
    "convert_new(r\"01-Python-Crash-Course\\01-Python Crash Course.ipynb\")"
   ]
  },
  {
   "cell_type": "code",
   "execution_count": 73,
   "metadata": {},
   "outputs": [],
   "source": [
    "from IPython.display import clear_output"
   ]
  },
  {
   "cell_type": "code",
   "execution_count": 74,
   "metadata": {},
   "outputs": [],
   "source": [
    "titles = []\n",
    "paths = []\n",
    "for folder, _, files in os.walk(\".\"):\n",
    "    print(\"Currently on: \", folder)\n",
    "    for file in files:\n",
    "        if \"exercise\" in file.lower():\n",
    "            print(\"Found an exercise: \", file)\n",
    "            print(\"Skipped\")\n",
    "            continue\n",
    "        if file.endswith(\".ipynb\"):\n",
    "            print(\"Converting: \", file)\n",
    "            path, title = convert_new(os.path.join(folder, file))\n",
    "            paths.append(path)\n",
    "            titles.append(title)\n",
    "            print(\"Converted\")\n",
    "    clear_output()"
   ]
  },
  {
   "cell_type": "markdown",
   "metadata": {},
   "source": [
    "text = \"\"\"<li><a href='Notes\\Tensorflow_Deep_Learning\\00_tensorflow_fundamentals.html' target='blank' class='links'> Tensorflow Fundamentals</a></li>\"\"\""
   ]
  },
  {
   "cell_type": "code",
   "execution_count": null,
   "metadata": {},
   "outputs": [],
   "source": [
    "skeleton = \"\"\"\"<li><a href='Notes\\Notes1\\Tensorflow_Deep_Learning\\00_tensorflow_fundamentals.html'\\\n",
    "target='blank' class='links'> Tensorflow Fundamentals</a></li>\"\"\""
   ]
  },
  {
   "cell_type": "code",
   "execution_count": 90,
   "metadata": {},
   "outputs": [
    {
     "data": {
      "text/plain": [
       "'Notes1\\\\01-Python-Crash-Course\\\\01-Python_Crash_Course.html'"
      ]
     },
     "execution_count": 90,
     "metadata": {},
     "output_type": "execute_result"
    }
   ],
   "source": [
    "path = paths[1].replace(\".\", \"Notes1\", 1)\n",
    "path"
   ]
  },
  {
   "cell_type": "code",
   "execution_count": 92,
   "metadata": {},
   "outputs": [
    {
     "data": {
      "text/plain": [
       "'Python Crash Course'"
      ]
     },
     "execution_count": 92,
     "metadata": {},
     "output_type": "execute_result"
    }
   ],
   "source": [
    "titles[1]"
   ]
  },
  {
   "cell_type": "code",
   "execution_count": 105,
   "metadata": {},
   "outputs": [],
   "source": [
    "text = \"\"\n",
    "for title, path in zip(titles, paths):\n",
    "    if 'checkpoint' in path.lower():\n",
    "        continue\n",
    "    path = path.replace(\".\", \"Notes1\", 1)\n",
    "    text+= f\"\"\"<li><a href='Notes\\{path}' target='blank' class='links'>{title}</a></li>\"\"\""
   ]
  },
  {
   "cell_type": "code",
   "execution_count": 106,
   "metadata": {},
   "outputs": [
    {
     "name": "stdout",
     "output_type": "stream",
     "text": [
      "<li><a href='Notes\\Notes1\\start.html' target='blank' class='links'>Start</a></li><li><a href='Notes\\Notes1\\01-Python-Crash-Course\\01-Python_Crash_Course.html' target='blank' class='links'>Python Crash Course</a></li><li><a href='Notes\\Notes1\\02-Python-for-Data-Analysis-NumPy\\01-NumPy_Arrays.html' target='blank' class='links'>Numpy Arrays</a></li><li><a href='Notes\\Notes1\\02-Python-for-Data-Analysis-NumPy\\02-Numpy_Indexing_and_Selection.html' target='blank' class='links'>Numpy Indexing And Selection</a></li><li><a href='Notes\\Notes1\\02-Python-for-Data-Analysis-NumPy\\03-Numpy_Operations.html' target='blank' class='links'>Numpy Operations</a></li><li><a href='Notes\\Notes1\\03-Python-for-Data-Analysis-Pandas\\01-Introduction_to_Pandas.html' target='blank' class='links'>Introduction To Pandas</a></li><li><a href='Notes\\Notes1\\03-Python-for-Data-Analysis-Pandas\\02-Series.html' target='blank' class='links'>Series</a></li><li><a href='Notes\\Notes1\\03-Python-for-Data-Analysis-Pandas\\03-DataFrames.html' target='blank' class='links'>Dataframes</a></li><li><a href='Notes\\Notes1\\03-Python-for-Data-Analysis-Pandas\\04-Missing_Data.html' target='blank' class='links'>Missing Data</a></li><li><a href='Notes\\Notes1\\03-Python-for-Data-Analysis-Pandas\\05-Groupby.html' target='blank' class='links'>Groupby</a></li><li><a href='Notes\\Notes1\\03-Python-for-Data-Analysis-Pandas\\06-Merging,_Joining,_and_Concatenating.html' target='blank' class='links'>Merging, Joining, And Concatenating</a></li><li><a href='Notes\\Notes1\\03-Python-for-Data-Analysis-Pandas\\07-Operations.html' target='blank' class='links'>Operations</a></li><li><a href='Notes\\Notes1\\03-Python-for-Data-Analysis-Pandas\\08-Data_Input_and_Output.html' target='blank' class='links'>Data Input And Output</a></li><li><a href='Notes\\Notes1\\05-Data-Visualization-with-Matplotlib\\01-Matplotlib_Concepts_Lecture.html' target='blank' class='links'>Matplotlib Concepts Lecture</a></li><li><a href='Notes\\Notes1\\05-Data-Visualization-with-Matplotlib\\04-Advanced_Matplotlib_Concepts.html' target='blank' class='links'>Advanced Matplotlib Concepts</a></li><li><a href='Notes\\Notes1\\05-Data-Visualization-with-Matplotlib\\temp.html' target='blank' class='links'>Temp</a></li><li><a href='Notes\\Notes1\\06-Data-Visualization-with-Seaborn\\01-Distribution_Plots.html' target='blank' class='links'>Distribution Plots</a></li><li><a href='Notes\\Notes1\\06-Data-Visualization-with-Seaborn\\02-Categorical_Plots.html' target='blank' class='links'>Categorical Plots</a></li><li><a href='Notes\\Notes1\\06-Data-Visualization-with-Seaborn\\03-Matrix_Plots.html' target='blank' class='links'>Matrix Plots</a></li><li><a href='Notes\\Notes1\\06-Data-Visualization-with-Seaborn\\04-Grids.html' target='blank' class='links'>Grids</a></li><li><a href='Notes\\Notes1\\06-Data-Visualization-with-Seaborn\\05-Regression_Plots.html' target='blank' class='links'>Regression Plots</a></li><li><a href='Notes\\Notes1\\06-Data-Visualization-with-Seaborn\\06-Style_and_Color.html' target='blank' class='links'>Style And Color</a></li><li><a href='Notes\\Notes1\\07-Pandas-Built-in-Data-Viz\\01-Pandas_Built-in_Data_Visualization.html' target='blank' class='links'>Pandas BuiltIn Data Visualization</a></li><li><a href='Notes\\Notes1\\08-Plotly-and-Cufflinks\\01-Plotly_and_Cufflinks.html' target='blank' class='links'>Plotly And Cufflinks</a></li><li><a href='Notes\\Notes1\\09-Geographical-Plotting\\01-Choropleth_Maps.html' target='blank' class='links'>Choropleth Maps</a></li><li><a href='Notes\\Notes1\\10-Data-Capstone-Projects\\01-911_Calls_Data_Capstone_Project.html' target='blank' class='links'> Calls Data Capstone Project</a></li><li><a href='Notes\\Notes1\\10-Data-Capstone-Projects\\02-911_Calls_Data_Capstone_Project_-_Solutions.html' target='blank' class='links'> Calls Data Capstone Project  Solutions</a></li><li><a href='Notes\\Notes1\\10-Data-Capstone-Projects\\03-Finance_Project.html' target='blank' class='links'>Finance Project</a></li><li><a href='Notes\\Notes1\\10-Data-Capstone-Projects\\04-Finance_Project_-_Solutions.html' target='blank' class='links'>Finance Project  Solutions</a></li><li><a href='Notes\\Notes1\\11-Linear-Regression\\01-Linear_Regression_with_Python.html' target='blank' class='links'>Linear Regression With Python</a></li><li><a href='Notes\\Notes1\\11-Linear-Regression\\02-Linear_Regression_Project.html' target='blank' class='links'>Linear Regression Project</a></li><li><a href='Notes\\Notes1\\11-Linear-Regression\\03-Linear_Regression_Project_-_Solutions.html' target='blank' class='links'>Linear Regression Project  Solutions</a></li><li><a href='Notes\\Notes1\\13-Logistic-Regression\\01-Logistic_Regression_with_Python.html' target='blank' class='links'>Logistic Regression With Python</a></li><li><a href='Notes\\Notes1\\13-Logistic-Regression\\02-Logistic_Regression_Project.html' target='blank' class='links'>Logistic Regression Project</a></li><li><a href='Notes\\Notes1\\13-Logistic-Regression\\03-Logistic_Regression_Project_-_Solutions.html' target='blank' class='links'>Logistic Regression Project  Solutions</a></li><li><a href='Notes\\Notes1\\14-K-Nearest-Neighbors\\01-K_Nearest_Neighbors_with_Python.html' target='blank' class='links'>K Nearest Neighbors With Python</a></li><li><a href='Notes\\Notes1\\14-K-Nearest-Neighbors\\02-K_Nearest_Neighbors_Project.html' target='blank' class='links'>K Nearest Neighbors Project</a></li><li><a href='Notes\\Notes1\\14-K-Nearest-Neighbors\\03-K_Nearest_Neighbors_Project_-_Solutions.html' target='blank' class='links'>K Nearest Neighbors Project  Solutions</a></li><li><a href='Notes\\Notes1\\15-Decision-Trees-and-Random-Forests\\01-Decision_Trees_and_Random_Forests_in_Python.html' target='blank' class='links'>Decision Trees And Random Forests In Python</a></li><li><a href='Notes\\Notes1\\15-Decision-Trees-and-Random-Forests\\02-Decision_Trees_and_Random_Forest_Project.html' target='blank' class='links'>Decision Trees And Random Forest Project</a></li><li><a href='Notes\\Notes1\\15-Decision-Trees-and-Random-Forests\\03-Decision_Trees_and_Random_Forest_Project_-_Solutions.html' target='blank' class='links'>Decision Trees And Random Forest Project  Solutions</a></li><li><a href='Notes\\Notes1\\16-Support-Vector-Machines\\01-Support_Vector_Machines_with_Python.html' target='blank' class='links'>Support Vector Machines With Python</a></li><li><a href='Notes\\Notes1\\16-Support-Vector-Machines\\02-Support_Vector_Machines_Project.html' target='blank' class='links'>Support Vector Machines Project</a></li><li><a href='Notes\\Notes1\\16-Support-Vector-Machines\\03-Support_Vector_Machines_Project_-_Solutions.html' target='blank' class='links'>Support Vector Machines Project  Solutions</a></li><li><a href='Notes\\Notes1\\17-K-Means-Clustering\\01-K_Means_Clustering_with_Python.html' target='blank' class='links'>K Means Clustering With Python</a></li><li><a href='Notes\\Notes1\\17-K-Means-Clustering\\02-K_Means_Clustering_Project.html' target='blank' class='links'>K Means Clustering Project</a></li><li><a href='Notes\\Notes1\\17-K-Means-Clustering\\03-K_Means_Clustering_Project_-_Solutions.html' target='blank' class='links'>K Means Clustering Project  Solutions</a></li><li><a href='Notes\\Notes1\\18-Principal-Component-Analysis\\01-Principal_Component_Analysis.html' target='blank' class='links'>Principal Component Analysis</a></li><li><a href='Notes\\Notes1\\19-Recommender-Systems\\01-Recommender_Systems_with_Python.html' target='blank' class='links'>Recommender Systems With Python</a></li><li><a href='Notes\\Notes1\\19-Recommender-Systems\\02-Advanced_Recommender_Systems_with_Python.html' target='blank' class='links'>Advanced Recommender Systems With Python</a></li><li><a href='Notes\\Notes1\\20-Natural-Language-Processing\\01-NLP_(Natural_Language_Processing)_with_Python.html' target='blank' class='links'>Nlp (Natural Language Processing) With Python</a></li><li><a href='Notes\\Notes1\\20-Natural-Language-Processing\\02-NLP_Project.html' target='blank' class='links'>Nlp Project</a></li><li><a href='Notes\\Notes1\\20-Natural-Language-Processing\\03-NLP_Project_-_Solutions.html' target='blank' class='links'>Nlp Project  Solutions</a></li><li><a href='Notes\\Notes1\\21-Big-Data-and-Spark\\01-Introduction_to_Spark_and_Python.html' target='blank' class='links'>Introduction To Spark And Python</a></li><li><a href='Notes\\Notes1\\21-Big-Data-and-Spark\\02-Lambda_Expressions.html' target='blank' class='links'>Lambda Expressions</a></li><li><a href='Notes\\Notes1\\21-Big-Data-and-Spark\\03-RDD_Transformations_and_Actions.html' target='blank' class='links'>Rdd Transformations And Actions</a></li><li><a href='Notes\\Notes1\\22-Deep-Learning\\01-Tensorflow_Basics.html' target='blank' class='links'>Tensorflow Basics</a></li><li><a href='Notes\\Notes1\\22-Deep-Learning\\02-MNIST-with-Tensorflow.html' target='blank' class='links'>MnistWithTensorflow</a></li><li><a href='Notes\\Notes1\\22-Deep-Learning\\03-Tensorflow_with_Estimators.html' target='blank' class='links'>Tensorflow With Estimators</a></li><li><a href='Notes\\Notes1\\23-EXTRA-NOTES-SciPy\\01-SciPy.html' target='blank' class='links'>Scipy</a></li><li><a href='Notes\\Notes1\\TensorFlow_FILES\\ANNs\\00-Keras-Syntax-Basics.html' target='blank' class='links'>KerasSyntaxBasics</a></li><li><a href='Notes\\Notes1\\TensorFlow_FILES\\ANNs\\01-Keras-Regression.html' target='blank' class='links'>KerasRegression</a></li><li><a href='Notes\\Notes1\\TensorFlow_FILES\\ANNs\\02-Keras-Classification.html' target='blank' class='links'>KerasClassification</a></li><li><a href='Notes\\Notes1\\TensorFlow_FILES\\ANNs\\05-Tensorboard.html' target='blank' class='links'>Tensorboard</a></li>\n"
     ]
    }
   ],
   "source": [
    "print(text)"
   ]
  },
  {
   "cell_type": "code",
   "execution_count": null,
   "metadata": {},
   "outputs": [],
   "source": []
  }
 ],
 "metadata": {
  "interpreter": {
   "hash": "ce44b17c45080b8f56a19c9450d52461d624c968fcd959bb1916985c5ffa2b94"
  },
  "kernelspec": {
   "display_name": "Python 3.8.5 64-bit ('base': conda)",
   "language": "python",
   "name": "python3"
  },
  "language_info": {
   "codemirror_mode": {
    "name": "ipython",
    "version": 3
   },
   "file_extension": ".py",
   "mimetype": "text/x-python",
   "name": "python",
   "nbconvert_exporter": "python",
   "pygments_lexer": "ipython3",
   "version": "3.8.5"
  },
  "orig_nbformat": 4
 },
 "nbformat": 4,
 "nbformat_minor": 2
}
