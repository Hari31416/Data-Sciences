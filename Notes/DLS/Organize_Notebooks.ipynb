{
 "cells": [
  {
   "cell_type": "markdown",
   "metadata": {},
   "source": [
    "<table class=\"tfo-notebook-buttons\" align=\"left\">\n",
    "<td style=\"border: none;\">\n",
    "<a target=\"blank\" href=\"https://colab.research.google.com/github/Hari31416/Data-Sciences/blob/main/Notes/DLS/Oragnize_Notebooks.ipynb?hl=en\"><img src=\"https://colab.research.google.com/img/colab_favicon_256px.png\" width=\"28\" height=\"28\"/>Run on Google Colab</a></td>\n",
    "<td style=\"border: none;\">\n",
    "<a target=\"blank\" href=\"https://github.com/Hari31416/Data-Sciences/blob/main/Notes/DLS/Oragnize_Notebooks.ipynb\"><img src=\"https://cdn.icon-icons.com/icons2/2368/PNG/512/github_logo_icon_143772.png\" width=\"28\" height=\"28\"/>View on Github</a></td>\n",
    "</table>"
   ]
  },
  {
   "cell_type": "markdown",
   "metadata": {},
   "source": [
    "### Removing whitespace"
   ]
  },
  {
   "cell_type": "code",
   "execution_count": 1,
   "metadata": {},
   "outputs": [],
   "source": [
    "from life_saving_tools.files import Files\n",
    "import os\n",
    "f = Files.FileOrganizer(os.curdir)"
   ]
  },
  {
   "cell_type": "code",
   "execution_count": 3,
   "metadata": {},
   "outputs": [
    {
     "data": {
      "text/plain": [
       "'c:\\\\Users\\\\harik\\\\Desktop\\\\Data-Sciences\\\\Notes\\\\DLS'"
      ]
     },
     "execution_count": 3,
     "metadata": {},
     "output_type": "execute_result"
    }
   ],
   "source": [
    "%pwd"
   ]
  },
  {
   "cell_type": "code",
   "execution_count": 4,
   "metadata": {},
   "outputs": [],
   "source": [
    "f.remove_spaces(all = True)"
   ]
  },
  {
   "cell_type": "markdown",
   "metadata": {},
   "source": [
    "### Unzipping"
   ]
  },
  {
   "cell_type": "code",
   "execution_count": 1,
   "metadata": {},
   "outputs": [
    {
     "name": "stdout",
     "output_type": "stream",
     "text": [
      "Unzipping Tensorflow_introduction.zip\n"
     ]
    }
   ],
   "source": [
    "import zipfile\n",
    "import os\n",
    "\n",
    "for folder, _, files in os.walk(os.curdir):\n",
    "    for file in files:\n",
    "        if file.endswith('.zip'):\n",
    "            print(f\"Unzipping {file}\")\n",
    "            file_path = os.path.join(folder, file)\n",
    "            zip_ref = zipfile.ZipFile(file_path, 'r')\n",
    "            zip_ref.extractall(file_path[:-4])\n",
    "            zip_ref.close()"
   ]
  },
  {
   "cell_type": "markdown",
   "metadata": {},
   "source": [
    "### Deleting zip files"
   ]
  },
  {
   "cell_type": "code",
   "execution_count": 2,
   "metadata": {},
   "outputs": [
    {
     "name": "stdout",
     "output_type": "stream",
     "text": [
      "Deleting Tensorflow_introduction.zip\n"
     ]
    }
   ],
   "source": [
    "import send2trash\n",
    "\n",
    "for folder, _, files in os.walk(os.curdir):\n",
    "    for file in files:\n",
    "        if file.endswith('.zip'):\n",
    "            print(f\"Deleting {file}\")\n",
    "            file_path = os.path.join(folder, file)\n",
    "            send2trash.send2trash(file_path)"
   ]
  },
  {
   "cell_type": "markdown",
   "metadata": {},
   "source": [
    "### Adding Github and Colab links to the files"
   ]
  },
  {
   "cell_type": "code",
   "execution_count": 4,
   "metadata": {},
   "outputs": [],
   "source": [
    "import pyperclip\n",
    "file_path = pyperclip.paste()\n",
    "file_path = file_path.replace(\"\\\\\", \"/\")\n",
    "\n",
    "text = f\"\"\"<table class='tfo-notebook-buttons' align='left'>\n",
    "<td style='border: none;'>\n",
    "<a target='blank' href='https://colab.research.google.com/github/Hari31416/Data-Sciences/blob/main/Notes/DLS/{file_path}?hl=en'><img src='https://colab.research.google.com/img/colab_favicon_256px.png' width='28' height='28'/>Run on Google Colab</a></td>\n",
    "<td style='border: none;'>\n",
    "<a target='blank' href='https://github.com/Hari31416/Data-Sciences/blob/main/Notes/DLS/{file_path}'><img src='https://cdn.icon-icons.com/icons2/2368/PNG/512/github_logo_icon_143772.png' width='28' height='28'/>View on Github</a></td>\n",
    "</table>\"\"\"\n",
    "\n",
    "pyperclip.copy(text)"
   ]
  },
  {
   "cell_type": "markdown",
   "metadata": {},
   "source": [
    "### Converting the notes to HTML"
   ]
  },
  {
   "cell_type": "code",
   "execution_count": 8,
   "metadata": {},
   "outputs": [],
   "source": [
    "from life_saving_tools.files.notebook import Notebook\n",
    "import os\n",
    "f = Notebook(os.curdir)"
   ]
  },
  {
   "cell_type": "code",
   "execution_count": 9,
   "metadata": {},
   "outputs": [],
   "source": [
    "file_path = r\"C2\\Assignments\\Tensorflow_introduction\\Tensorflow_introduction.ipynb\"\n",
    "output = f.export_notebook(file_path)"
   ]
  },
  {
   "cell_type": "code",
   "execution_count": 12,
   "metadata": {},
   "outputs": [
    {
     "name": "stdout",
     "output_type": "stream",
     "text": [
      "Converting Building_a_Recurrent_Neural_Network_Step_by_Step.ipynb\n",
      "Converting Dinosaurus_Island_Character_level_language_model.ipynb\n",
      "Converting Improvise_a_Jazz_Solo_with_an_LSTM_Network_v4.ipynb\n"
     ]
    }
   ],
   "source": [
    "outputs = []\n",
    "for folder, _, files in os.walk(\"C5\"):\n",
    "    for file in files:\n",
    "        if file.endswith('.ipynb'):\n",
    "            file_path = os.path.join(folder, file)\n",
    "            if \".ipynb_checkpoints\" in file_path:\n",
    "                continue\n",
    "            \n",
    "            print(f\"Converting {file}\")\n",
    "            try:\n",
    "                output = f.export_notebook(file_path)\n",
    "                outputs.append(output)\n",
    "            except Exception as e:\n",
    "                print(f\"Error converting {file}\")\n",
    "                print(e)"
   ]
  },
  {
   "cell_type": "code",
   "execution_count": null,
   "metadata": {},
   "outputs": [],
   "source": [
    "f.export_notebook()"
   ]
  },
  {
   "cell_type": "markdown",
   "metadata": {},
   "source": [
    "### Adding them to index.html"
   ]
  },
  {
   "cell_type": "code",
   "execution_count": 13,
   "metadata": {},
   "outputs": [
    {
     "data": {
      "text/plain": [
       "['C5\\\\Assignments\\\\Building_a_Recurrent_Neural_Network_Step_by_Step\\\\Building_a_Recurrent_Neural_Network_Step_by_Step.html',\n",
       " 'C5\\\\Assignments\\\\Dinosaurus_Island_Character_level_language_model\\\\Dinosaurus_Island_Character_level_language_model.html',\n",
       " 'C5\\\\Assignments\\\\Improvise_a_Jazz_Solo_with_an_LSTM_Network\\\\Improvise_a_Jazz_Solo_with_an_LSTM_Network_v4.html']"
      ]
     },
     "execution_count": 13,
     "metadata": {},
     "output_type": "execute_result"
    }
   ],
   "source": [
    "outputs"
   ]
  },
  {
   "cell_type": "code",
   "execution_count": 14,
   "metadata": {},
   "outputs": [
    {
     "name": "stdout",
     "output_type": "stream",
     "text": [
      "<li>\n",
      "        <a href=\"Notes/DLS/Assignments/Building_a_Recurrent_Neural_Network_Step_by_Step/Building_a_Recurrent_Neural_Network_Step_by_Step.html\" target = 'blank' class = 'links'>Building A Recurrent Neural Network Step By Step</a>\n",
      "        </li>\n",
      "        <li>\n",
      "        <a href=\"Notes/DLS/Assignments/Dinosaurus_Island_Character_level_language_model/Dinosaurus_Island_Character_level_language_model.html\" target = 'blank' class = 'links'>Dinosaurus Island Character Level Language Model</a>\n",
      "        </li>\n",
      "        <li>\n",
      "        <a href=\"Notes/DLS/Assignments/Improvise_a_Jazz_Solo_with_an_LSTM_Network/Improvise_a_Jazz_Solo_with_an_LSTM_Network_v4.html\" target = 'blank' class = 'links'>Improvise A Jazz Solo With An Lstm Network V4</a>\n",
      "        </li>\n",
      "        \n"
     ]
    }
   ],
   "source": [
    "string = ''\n",
    "for file_path in outputs:\n",
    "    final_path = '/'.join(file_path.split(\"\\\\\")[1:])\n",
    "    if \".ipynb_checkpoints\" in final_path:\n",
    "        pass\n",
    "    else:\n",
    "        title = final_path.split(\"/\")[-1]\n",
    "        title = title.split(\".\")[0]\n",
    "        title = title.replace(\"_\", \" \").title()\n",
    "        txt = f\"\"\"<li>\n",
    "        <a href=\"Notes/DLS/{final_path}\" target = 'blank' class = 'links'>{title}</a>\n",
    "        </li>\n",
    "        \"\"\"\n",
    "        string += txt\n",
    "\n",
    "print(string)"
   ]
  },
  {
   "cell_type": "code",
   "execution_count": null,
   "metadata": {},
   "outputs": [],
   "source": []
  }
 ],
 "metadata": {
  "interpreter": {
   "hash": "21040c1b576dca9f4f330277849b9f4819256d524dee23c2b89e431027dafe11"
  },
  "kernelspec": {
   "display_name": "Python 3.8.5",
   "language": "python",
   "name": "python3"
  },
  "language_info": {
   "codemirror_mode": {
    "name": "ipython",
    "version": 3
   },
   "file_extension": ".py",
   "mimetype": "text/x-python",
   "name": "python",
   "nbconvert_exporter": "python",
   "pygments_lexer": "ipython3",
   "version": "3.8.5"
  },
  "orig_nbformat": 4
 },
 "nbformat": 4,
 "nbformat_minor": 2
}
