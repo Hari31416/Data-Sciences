{
 "cells": [
  {
   "cell_type": "markdown",
   "metadata": {},
   "source": [
    "## Inner Join"
   ]
  },
  {
   "cell_type": "markdown",
   "metadata": {},
   "source": [
    "`pandas.merge` is used to join two DataFrames. The syntax is:\n",
    ">merged_df = left_df.merge(right_df, on=common_id, suffixes=(first_df_suffix,second_df_suffix))"
   ]
  },
  {
   "cell_type": "markdown",
   "metadata": {},
   "source": [
    "<figure>\n",
    "<figcaption><h4>The Inner Merge</h4><f/igcaption>\n",
    "<img src=\"img/01_01.png\"/>\n",
    "</figure>"
   ]
  },
  {
   "cell_type": "markdown",
   "metadata": {},
   "source": [
    ">It is necessary to understand that inner joins only return the rows with matching values in both tables."
   ]
  },
  {
   "cell_type": "markdown",
   "metadata": {},
   "source": [
    "### One-to-many classification and many-to-one classification"
   ]
  },
  {
   "cell_type": "markdown",
   "metadata": {},
   "source": [
    "To see difference between one-to-many and many-to-one joins, let's look at the following DataFrames:\n",
    "* A `customer` table with information about each customer\n",
    "* A `cust_tax_info` table with customers unique tax IDs\n",
    "* An `orders` table with information about each order\n",
    "* A `products` table with details about each unique product sold\n",
    "* An `inventory` table with information on how much total inventory is available to sell for each product"
   ]
  },
  {
   "cell_type": "markdown",
   "metadata": {},
   "source": [
    "<figure>\n",
    "<figcaption><h4>One-to-many classification and many-to-one classification</h4><f/igcaption>\n",
    "<img src=\"img/01_02.png\"/>\n",
    "</figure>"
   ]
  },
  {
   "cell_type": "markdown",
   "metadata": {},
   "source": [
    "We can even merge two tables based on more than one columns. Common syntax is:\n",
    ">merged_df = left_df.merge(right_df, on=list_of_common_id)"
   ]
  },
  {
   "cell_type": "markdown",
   "metadata": {},
   "source": [
    "Furthermore, we can also merger more than two tables. Start by merging two tables, then merge the result with the third table. This process can be repeated until all tables are merged."
   ]
  },
  {
   "cell_type": "markdown",
   "metadata": {},
   "source": []
  }
 ],
 "metadata": {
  "language_info": {
   "name": "python"
  },
  "orig_nbformat": 4
 },
 "nbformat": 4,
 "nbformat_minor": 2
}
