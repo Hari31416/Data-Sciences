{
 "cells": [
  {
   "cell_type": "markdown",
   "metadata": {},
   "source": [
    "## CASE Statements"
   ]
  },
  {
   "cell_type": "markdown",
   "metadata": {},
   "source": [
    "A `CASE` statement is SQl version of 'if this then that' statements.<br>\n",
    "`CASE` statements can be used to:\n",
    "* Categorizing data\n",
    "* Filtering data\n",
    "* Aggregating data"
   ]
  },
  {
   "cell_type": "markdown",
   "metadata": {},
   "source": [
    "<figure>\n",
    "<figcaption><h4>Basic CASE Syntax</h4><f/igcaption>\n",
    "<img src=\"img/02_01.png\"/>\n",
    "</figure>"
   ]
  },
  {
   "cell_type": "markdown",
   "metadata": {},
   "source": [
    ">SELECT date<br>\n",
    "\tCASE WHEN home_goal > away_goal THEN 'Home win!'<br>\n",
    "        WHEN home_goal < away_goal THEN 'Home loss :(' <br>\n",
    "        ELSE 'Tie' END AS outcome<br>\n",
    "FROM matches_spain;<br>"
   ]
  },
  {
   "cell_type": "markdown",
   "metadata": {},
   "source": [
    "The above query uses the `CASE` statement to create a new column called `outcome` that contains the outcome of the match."
   ]
  },
  {
   "cell_type": "markdown",
   "metadata": {},
   "source": [
    "It is possible to combine multiple logics inside a `CASE` statement. The following query check if the team is *Chelsea* and classifies the outcome only when this is true!"
   ]
  },
  {
   "cell_type": "markdown",
   "metadata": {},
   "source": [
    "<figure>\n",
    "<figcaption><h4>CASE Syntax With AND</h4><f/igcaption>\n",
    "<img src=\"img/02_02.png\"/>\n",
    "</figure>"
   ]
  },
  {
   "cell_type": "markdown",
   "metadata": {},
   "source": [
    "It is important to add the final `WHEN` condition otherwise the `CASE` statement will output the result coressponding to all teams, not only *Chelsea*."
   ]
  },
  {
   "cell_type": "markdown",
   "metadata": {},
   "source": [
    "If we don't want the final `ELSE` clause, we can leave out the `ELSE` clause and it will result in a value of `NULL` everywhere the `ELSE` clause was supposed to return. (In above case, there will be no *Loss or tie :(* in reslting table, instead, it will be `NULL`.). However, we can do better and drop all these `NULL` values using a `WHERE` clause. The syntax is:"
   ]
  },
  {
   "cell_type": "markdown",
   "metadata": {},
   "source": [
    "<figure>\n",
    "<figcaption><h4>CASE Syntax With AND and WHERE</h4><f/igcaption>\n",
    "<img src=\"img/02_03.png\"/>\n",
    "</figure>"
   ]
  },
  {
   "cell_type": "markdown",
   "metadata": {},
   "source": [
    "> We don't need to filter anymore. ):"
   ]
  },
  {
   "cell_type": "markdown",
   "metadata": {},
   "source": [
    ">SELECT <br>\n",
    "\tdate,<br>\n",
    "\tCASE WHEN hometeam_id = 8634 THEN 'FC Barcelona' <br>\n",
    "         ELSE 'Real Madrid CF' END as home,<br>\n",
    "\tCASE WHEN awayteam_id = 8634 THEN 'FC Barcelona' <br>\n",
    "         ELSE 'Real Madrid CF' END as away,<br>\n",
    "\tCASE WHEN home_goal > away_goal AND hometeam_id = 8634 THEN 'Barcelona win!'<br>\n",
    "        WHEN home_goal > away_goal AND hometeam_id = 8633 THEN 'Real Madrid win!'<br>\n",
    "        WHEN home_goal < away_goal AND awayteam_id = 8634 THEN 'Barcelona win!'<br>\n",
    "        WHEN home_goal < away_goal AND awayteam_id = 8633 THEN 'Real Madrid win!'<br>\n",
    "        ELSE 'Tie!' END AS outcome<br>\n",
    "FROM matches_spain<br>\n",
    "WHERE (awayteam_id = 8634 OR hometeam_id = 8634)<br>\n",
    "      AND (awayteam_id = 8633 OR hometeam_id = 8633);<br>"
   ]
  },
  {
   "cell_type": "markdown",
   "metadata": {},
   "source": [
    "The above query returns the result of all the matches between *Barcelona* and *Real Madrid*. The result is in column `outcome` and has three different values: `Barcelona win!`, `Real Madrid win!` and `Tie!`."
   ]
  },
  {
   "cell_type": "markdown",
   "metadata": {},
   "source": [
    ">`CASE` statements allow you to categorize data that you're interested in - and exclude data you're not interested in. In order to do this, you can use a `CASE` statement as a filter in the `WHERE` statement to remove output you don't want to see."
   ]
  },
  {
   "cell_type": "markdown",
   "metadata": {},
   "source": [
    ">SELECT <br>\n",
    "\tseason,<br>\n",
    "    date,<br>\n",
    "\thome_goal,<br>\n",
    "\taway_goal<br>\n",
    "FROM matches_italy<br>\n",
    "WHERE <br>\n",
    "\tCASE WHEN hometeam_id = 9857 AND home_goal > away_goal THEN 'Bologna Win'<br>\n",
    "\t\tWHEN awayteam_id = 9857 AND away_goal > home_goal THEN 'Bologna Win' <br>\n",
    "\t\tEND IS NOT NULL;"
   ]
  },
  {
   "cell_type": "markdown",
   "metadata": {},
   "source": [
    "The above query gives details on every match in this database where *Bologna* won. It excludes matches where *Bologna* didn't win."
   ]
  },
  {
   "cell_type": "markdown",
   "metadata": {},
   "source": [
    "`CASE` statements are like any column in our database. So, we can use `COUNT` on them to use `GROUP BY`. The syntax is:"
   ]
  },
  {
   "cell_type": "markdown",
   "metadata": {},
   "source": [
    "<figure>\n",
    "<figcaption><h4>CASE Syntax With COUNT and GROUP BY</h4><f/igcaption>\n",
    "<img src=\"img/02_04.png\"/>\n",
    "</figure>"
   ]
  },
  {
   "cell_type": "markdown",
   "metadata": {},
   "source": [
    "> Note that SQL counts the number of rows that match the `CASE` statement. So, you use any number or string between `THEN` and `END` to group the data."
   ]
  },
  {
   "cell_type": "markdown",
   "metadata": {},
   "source": [
    "In case the `CASE` statement returns a number, we can use `SUM` to sum the returned values."
   ]
  },
  {
   "cell_type": "markdown",
   "metadata": {},
   "source": [
    "<figure>\n",
    "<figcaption><h4>CASE Syntax With SUM</h4><f/igcaption>\n",
    "<img src=\"img/02_05.png\"/>\n",
    "</figure>"
   ]
  },
  {
   "cell_type": "markdown",
   "metadata": {},
   "source": [
    "> The `AVG` can be used the same way."
   ]
  },
  {
   "cell_type": "markdown",
   "metadata": {},
   "source": [
    "Another use of `AVG` function is to calculate percentages. The syntax is:"
   ]
  },
  {
   "cell_type": "markdown",
   "metadata": {},
   "source": [
    "<figure>\n",
    "<figcaption><h4>CASE Syntax With AVG</h4><f/igcaption>\n",
    "<img src=\"img/02_06.png\"/>\n",
    "</figure>"
   ]
  },
  {
   "cell_type": "markdown",
   "metadata": {},
   "source": [
    "Here, the query returns the percentage of matches where the team won. We have used the `ROUND` function to round the result to two decimal places."
   ]
  },
  {
   "cell_type": "markdown",
   "metadata": {},
   "source": [
    ">SELECT <br>\n",
    "\tc.name AS country,<br>\n",
    "\tCOUNT(CASE WHEN m.season = '2012/2013' THEN m.id END) AS matches_2012_2013,<br>\n",
    "\tCOUNT(CASE WHEN m.season = '2013/2014' THEN m.id END) AS matches_2013_2014,<br>\n",
    "\tCOUNT(CASE WHEN m.season = '2014/2015' THEN m.id END) AS matches_2014_2015<br>\n",
    "FROM country AS c<br>\n",
    "LEFT JOIN match AS m<br>\n",
    "ON c.id = m.country_id<br>\n",
    "GROUP BY c.name;"
   ]
  },
  {
   "cell_type": "markdown",
   "metadata": {},
   "source": [
    "The above query gives the number of matches played by countries in year 2012-13, 2013-14 and 2014-15."
   ]
  },
  {
   "cell_type": "markdown",
   "metadata": {},
   "source": [
    ">In R or Python, you have the ability to calculate a `SUM` of logical values (i.e., TRUE/FALSE) directly. In SQL, you have to convert these values into 1 and 0 before calculating a sum. This can be done using a `CASE` statement."
   ]
  },
  {
   "cell_type": "markdown",
   "metadata": {},
   "source": [
    ">SELECT <br>\n",
    "\tc.name AS country,<br>\n",
    "\tSUM(CASE WHEN m.season = '2012/2013' AND m.home_goal > m.away_goal <br>\n",
    "        THEN 1 ELSE 0 END) AS matches_2012_2013,<br>\n",
    " \tSUM(CASE WHEN m.season = '2013/2014' AND m.home_goal > m.away_goal <br>\n",
    "        THEN 1 ELSE 0 END) AS matches_2013_2014,<br>\n",
    "\tSUM(CASE WHEN m.season = '2014/2015' AND m.home_goal > m.away_goal <br>\n",
    "        THEN 1 ELSE 0 END) AS matches_2014_2015<br>\n",
    "FROM country AS c<br>\n",
    "LEFT JOIN match AS m<br>\n",
    "ON c.id = m.country_id<br>\n",
    "GROUP BY c.name;"
   ]
  },
  {
   "cell_type": "markdown",
   "metadata": {},
   "source": [
    "Here, we have converted the boolean `TRUE` and `FALSE` values into 1 and 0 and summed it."
   ]
  },
  {
   "cell_type": "markdown",
   "metadata": {},
   "source": [
    "`CASE` statements will return any value you specify in your `THEN` clause. This is an incredibly powerful tool for robust calculations and data manipulation when used in conjunction with an aggregate statement. One key task you can perform is using `CASE` inside an `AVG` function to calculate a percentage of information in your database.\n",
    ">AVG(CASE WHEN condition_is_met THEN 1<br>\n",
    "         WHEN condition_is_not_met THEN 0 END)"
   ]
  },
  {
   "cell_type": "markdown",
   "metadata": {},
   "source": [
    ">SELECT <br>\n",
    "\tc.name AS country,<br>\n",
    "\tROUND(AVG(CASE WHEN m.season='2013/2014' AND m.home_goal = m.away_goal THEN 1<br>\n",
    "\t\t\t WHEN m.season='2013/2014' AND m.home_goal != m.away_goal THEN 0<br>\n",
    "\t\t\t END),2) AS pct_ties_2013_2014,<br>\n",
    "\tROUND(AVG(CASE WHEN m.season='2014/2015' AND m.home_goal = m.away_goal THEN 1<br>\n",
    "\t\t\t WHEN m.season='2014/2015' AND m.home_goal != m.away_goal THEN 0<br>\n",
    "\t\t\t END),2) AS pct_ties_2014_2015<br>\n",
    "FROM country AS c<br>\n",
    "LEFT JOIN matches AS m<br>\n",
    "ON c.id = m.country_id<br>\n",
    "GROUP BY country;"
   ]
  },
  {
   "cell_type": "markdown",
   "metadata": {},
   "source": [
    "The above query gives the percentage of tied matches. It also rounds off the result to two decimal places."
   ]
  }
 ],
 "metadata": {
  "language_info": {
   "name": "python"
  },
  "orig_nbformat": 4
 },
 "nbformat": 4,
 "nbformat_minor": 2
}
