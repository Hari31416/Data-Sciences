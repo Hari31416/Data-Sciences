{
 "cells": [
  {
   "cell_type": "markdown",
   "metadata": {},
   "source": [
    "## Inner Join"
   ]
  },
  {
   "cell_type": "markdown",
   "metadata": {},
   "source": [
    "The basic syntax for an `INNER JOIN`, here including all columns in both tables:\n",
    "\n",
    ">SELECT * <br>\n",
    "FROM left_table <br>\n",
    "INNER JOIN right_table <br>\n",
    "ON left_table.id = right_table.id;"
   ]
  },
  {
   "cell_type": "markdown",
   "metadata": {},
   "source": [
    "Instead of writing the full table name, you can use table aliasing as a shortcut. For tables you also use `AS` to add the alias immediately after the table name with a space. Check out the aliasing of cities and countries below.\n",
    "\n",
    ">SELECT c1.name AS city, c2.name AS country <br>\n",
    "FROM cities AS c1<br>\n",
    "INNER JOIN countries AS c2<br>\n",
    "ON c1.country_code = c2.code;"
   ]
  },
  {
   "cell_type": "markdown",
   "metadata": {},
   "source": [
    "Notice that to select a field in your query that appears in multiple tables, you'll need to identify which table/table alias you're referring to by using a `.` in your `SELECT` statement."
   ]
  },
  {
   "cell_type": "markdown",
   "metadata": {},
   "source": [
    "In SQL, the joining can be done for even multiple tables.\n",
    ">SELECT * <br>\n",
    "FROM left_table <br>\n",
    "  INNER JOIN right_table <br>\n",
    "    ON left_table.id = right_table.id <br>\n",
    "  INNER JOIN another_table <br>\n",
    "    ON left_table.id = another_table.id; <br>"
   ]
  },
  {
   "cell_type": "markdown",
   "metadata": {},
   "source": [
    "When doing this type of long joining, it becomes useful to alias each table using the first letter of its name (e.g. `countries AS c`)!"
   ]
  },
  {
   "cell_type": "markdown",
   "metadata": {},
   "source": [
    "### Inner Join via `USING`"
   ]
  },
  {
   "cell_type": "markdown",
   "metadata": {},
   "source": [
    "When joining tables with a common field name, e.g.\n",
    ">SELECT *<br>\n",
    "FROM countries<br>\n",
    "  INNER JOIN economies<br>\n",
    "    ON countries.code = economies.code<br>\n",
    "\n",
    "You can use USING as a shortcut:\n",
    ">SELECT *<br>\n",
    "FROM countries<br>\n",
    "  INNER JOIN economies<br>\n",
    "    USING(code)"
   ]
  },
  {
   "cell_type": "markdown",
   "metadata": {},
   "source": [
    "### Self-join"
   ]
  },
  {
   "cell_type": "markdown",
   "metadata": {},
   "source": [
    "Self-join is exactly what it says it is. It joins a table with itself. But why would we do that? Well, it can be used to perform some special queries. The syntax is:\n",
    ">SELECT p1.country_code, p1.size as size2010, p2.size as size2015<br>\n",
    "FROM populations (alias as p1)<br>\n",
    "FROM populations as p1<br>\n",
    "Join to itself (alias as p2)<br>\n",
    "  INNER JOIN populations as p2<br>\n",
    "Match on country code<br>\n",
    "    USING(country_code)<br>\n",
    "    AND p1.year = p2.year - 5"
   ]
  },
  {
   "cell_type": "markdown",
   "metadata": {},
   "source": [
    "Here, using self-join we can calculate the increase in population from 2010 to 2015 for each country code! Using \n",
    ">((p2.size - p1.size)/p1.size * 100.0) AS growth_percent\n",
    "\n",
    "also gives the percentage growth."
   ]
  },
  {
   "cell_type": "markdown",
   "metadata": {},
   "source": [
    "### Case when and then"
   ]
  },
  {
   "cell_type": "markdown",
   "metadata": {},
   "source": [
    "Often it's useful to look at a numerical field not as raw data, but instead as being in different categories or groups. We can use `CASE` with `WHEN`, `THEN`, `ELSE`, and `END` to define a new grouping field. The syntax is:\n"
   ]
  },
  {
   "cell_type": "markdown",
   "metadata": {},
   "source": [
    ">SELECT name, continent, code, surface_area,<br>\n",
    "    CASE WHEN surface_area > 2000000 THEN 'large'<br>\n",
    "        -- Second case<br>\n",
    "        WHEN surface_area > 350000 THEN 'medium'<br>\n",
    "        -- Else clause + end<br>\n",
    "        ELSE 'small' END<br>\n",
    "        -- Alias name<br>\n",
    "        AS geosize_group<br>\n",
    "-- From table<br>\n",
    "FROM countries;"
   ]
  },
  {
   "cell_type": "markdown",
   "metadata": {},
   "source": [
    "Using `INTO countries_plus` just before `FROM` is a shortcut for creating a new table with the same columns as the original table plus the new field."
   ]
  },
  {
   "cell_type": "markdown",
   "metadata": {},
   "source": [
    "## Outer Joins"
   ]
  },
  {
   "cell_type": "markdown",
   "metadata": {},
   "source": [
    "### Left and Right Joins"
   ]
  },
  {
   "cell_type": "markdown",
   "metadata": {},
   "source": [
    "<figure>\n",
    "<figcaption><h4>Left Join</h4><f/igcaption>\n",
    "<img src=\"img/01_01.png\"/>\n",
    "</figure>"
   ]
  },
  {
   "cell_type": "markdown",
   "metadata": {},
   "source": [
    "<figure>\n",
    "<figcaption><h4>Right Join</h4><f/igcaption>\n",
    "<img src=\"img/01_02.png\"/>\n",
    "</figure>"
   ]
  },
  {
   "cell_type": "markdown",
   "metadata": {},
   "source": [
    "The syntax for these is similar to the `INNER JOIN` syntax, but with a `LEFT` or `RIGHT` keyword in front of the `INNER` keyword."
   ]
  },
  {
   "cell_type": "markdown",
   "metadata": {},
   "source": [
    ">Right joins aren't as common as left joins. One reason why is that you can always write a right join as a left join."
   ]
  },
  {
   "cell_type": "markdown",
   "metadata": {},
   "source": []
  },
  {
   "cell_type": "markdown",
   "metadata": {},
   "source": [
    "### Full Joins"
   ]
  },
  {
   "cell_type": "markdown",
   "metadata": {},
   "source": [
    "<figure>\n",
    "<figcaption><h4>Full Join</h4><f/igcaption>\n",
    "<img src=\"img/01_03.png\"/>\n",
    "</figure>"
   ]
  },
  {
   "cell_type": "markdown",
   "metadata": {},
   "source": [
    ">The `FULL JOIN` query returned 17 rows, the `OUTER JOIN` returned 4 rows, and the `INNER JOIN` only returned 3 rows. "
   ]
  },
  {
   "cell_type": "markdown",
   "metadata": {},
   "source": [
    "### Cross Joins"
   ]
  },
  {
   "cell_type": "markdown",
   "metadata": {},
   "source": [
    "<figure>\n",
    "<figcaption><h4>Cross Join</h4><f/igcaption>\n",
    "<img src=\"img/01_04.png\"/>\n",
    "</figure>"
   ]
  },
  {
   "cell_type": "markdown",
   "metadata": {},
   "source": []
  },
  {
   "cell_type": "markdown",
   "metadata": {},
   "source": [
    "## Set Operations"
   ]
  },
  {
   "cell_type": "markdown",
   "metadata": {},
   "source": [
    "<figure>\n",
    "<figcaption><h4>Venn Diagrams</h4><f/igcaption>\n",
    "<img src=\"img/01_06.png\"/>\n",
    "</figure>"
   ]
  },
  {
   "cell_type": "markdown",
   "metadata": {},
   "source": [
    "### Union"
   ]
  },
  {
   "cell_type": "markdown",
   "metadata": {},
   "source": [
    "<figure>\n",
    "<figcaption><h4>Union Syntax</h4><f/igcaption>\n",
    "<img src=\"img/01_05.png\"/>\n",
    "</figure>"
   ]
  },
  {
   "cell_type": "markdown",
   "metadata": {},
   "source": [
    "### Intersect Syntax"
   ]
  },
  {
   "cell_type": "markdown",
   "metadata": {},
   "source": [
    "<figure>\n",
    "<figcaption><h4>Intersect Syntax</h4><f/igcaption>\n",
    "<img src=\"img/01_07.png\"/>\n",
    "</figure>"
   ]
  },
  {
   "cell_type": "markdown",
   "metadata": {},
   "source": [
    "### Except Syntax"
   ]
  },
  {
   "cell_type": "markdown",
   "metadata": {},
   "source": [
    "<figure>\n",
    "<figcaption><h4>Except Syntax</h4><f/igcaption>\n",
    "<img src=\"img/01_08.png\"/>\n",
    "</figure>"
   ]
  },
  {
   "cell_type": "markdown",
   "metadata": {},
   "source": [
    "### Semi-Join"
   ]
  },
  {
   "cell_type": "markdown",
   "metadata": {},
   "source": [
    "<figure>\n",
    "<figcaption><h4>Semi Syntax</h4><f/igcaption>\n",
    "<img src=\"img/01_09.png\"/>\n",
    "</figure>"
   ]
  },
  {
   "cell_type": "markdown",
   "metadata": {},
   "source": [
    ">The above syntax shows an example of inner query, where the result of the inner query is used in the outer query."
   ]
  },
  {
   "cell_type": "markdown",
   "metadata": {},
   "source": [
    ">SELECT DISTINCT name<br>\n",
    "FROM languages<br>\n",
    "WHERE code IN<br>\n",
    "  (SELECT code<br>\n",
    "   FROM countries<br>\n",
    "   WHERE region = 'Middle East')<br>\n",
    "ORDER BY name;\n",
    "\n",
    "This query returns the names of all languages spoken in the Middle East."
   ]
  },
  {
   "cell_type": "markdown",
   "metadata": {},
   "source": [
    "Sometimes problems solved with semi-joins can also be solved using an inner join.\n",
    ">SELECT DISTINCT languages.name AS language<br>\n",
    "FROM languages<br>\n",
    "INNER JOIN countries<br>\n",
    "ON languages.code = countries.code<br>\n",
    "WHERE region = 'Middle East'<br>\n",
    "ORDER BY language;"
   ]
  },
  {
   "cell_type": "markdown",
   "metadata": {},
   "source": [
    "### Anti-Join"
   ]
  },
  {
   "cell_type": "markdown",
   "metadata": {},
   "source": [
    "<figure>\n",
    "<figcaption><h4>Anti-join Syntax</h4><f/igcaption>\n",
    "<img src=\"img/01_10.png\"/>\n",
    "</figure>"
   ]
  },
  {
   "cell_type": "markdown",
   "metadata": {},
   "source": [
    ">As we can see, the syntax is almost identical to the semi-join with `IN` replaced with `NOT IN`.\n",
    "\n",
    "It is particularly useful in identifying which records are causing an incorrect number of records to appear in join queries."
   ]
  },
  {
   "cell_type": "markdown",
   "metadata": {},
   "source": []
  },
  {
   "cell_type": "markdown",
   "metadata": {},
   "source": [
    "## Subqueries"
   ]
  },
  {
   "cell_type": "markdown",
   "metadata": {},
   "source": [
    "### Subqueries inside `WHERE`"
   ]
  },
  {
   "cell_type": "markdown",
   "metadata": {},
   "source": [
    "The most basic way to use subqeuries is inside the `WHERE` clause. The following query returns all the sates in continent Asia where the fertility rate is lower than avergare."
   ]
  },
  {
   "cell_type": "markdown",
   "metadata": {},
   "source": [
    "<figure>\n",
    "<figcaption><h4>Subqueries inside WHERE</h4><f/igcaption>\n",
    "<img src=\"img/01_11.png\"/>\n",
    "</figure>"
   ]
  },
  {
   "cell_type": "markdown",
   "metadata": {},
   "source": [
    ">-- Select fields<br>\n",
    "SELECT name, country_code, urbanarea_pop<br>\n",
    "  -- From cities<br>\n",
    "  FROM cities<br>\n",
    "-- Where city name in the field of capital cities<br>\n",
    "WHERE name IN<br>\n",
    "  -- Subquery<br>\n",
    "  (SELECT capital<br>\n",
    "   FROM countries)<br>\n",
    "ORDER BY urbanarea_pop DESC;"
   ]
  },
  {
   "cell_type": "markdown",
   "metadata": {},
   "source": [
    "The above query gets the urban area population for only capital cities."
   ]
  },
  {
   "cell_type": "markdown",
   "metadata": {},
   "source": [
    "### Subqueries Inside `SELECT`"
   ]
  },
  {
   "cell_type": "markdown",
   "metadata": {},
   "source": [
    "<figure>\n",
    "<figcaption><h4>Subqueries inside SELECT</h4><f/igcaption>\n",
    "<img src=\"img/01_12.png\"/>\n",
    "</figure>"
   ]
  },
  {
   "cell_type": "markdown",
   "metadata": {},
   "source": [
    "The query above returns the count of countries which are listed in both the `prime_minister` table and states `table`."
   ]
  },
  {
   "cell_type": "markdown",
   "metadata": {},
   "source": [
    "Sometimes, a query, done by `INNER JOIN` can also be done using a subquery."
   ]
  },
  {
   "cell_type": "markdown",
   "metadata": {},
   "source": [
    "SELECT countries.name AS country, COUNT(*) AS cities_num<br>\n",
    "  FROM cities<br>\n",
    "    INNER JOIN countries<br>\n",
    "    ON countries.code = cities.country_code<br>\n",
    "GROUP BY country<br>\n",
    "ORDER BY cities_num DESC, country<br>\n",
    "LIMIT 9;\n",
    "\n",
    "SELECT name AS country,<br>\n",
    "  (SELECT COUNT(*)<br>\n",
    "   FROM cities<br>\n",
    "   WHERE countries.code = cities.country_code) AS cities_num<br>\n",
    "FROM countries<br>\n",
    "ORDER BY cities_num DESC, country<br>\n",
    "LIMIT 9;\n"
   ]
  },
  {
   "cell_type": "markdown",
   "metadata": {},
   "source": [
    "Both these queries give the same result."
   ]
  },
  {
   "cell_type": "markdown",
   "metadata": {},
   "source": [
    "### Subqeuries Inside `FROM`"
   ]
  },
  {
   "cell_type": "markdown",
   "metadata": {},
   "source": [
    "<figure>\n",
    "<figcaption><h4>Subqueries inside FROM</h4><f/igcaption>\n",
    "<img src=\"img/01_13.png\"/>\n",
    "</figure>"
   ]
  },
  {
   "cell_type": "markdown",
   "metadata": {},
   "source": [
    "> SELECT local_name, lang_num <br>\n",
    " FROM countries,<br>\n",
    "  \t(SELECT code, COUNT(*) AS lang_num<br>\n",
    "  \t FROM languages<br>\n",
    "  \t GROUP BY code) AS subquery<br>\n",
    "  WHERE countries.code = subquery.code<br>\n",
    "ORDER BY lang_num DESC;"
   ]
  },
  {
   "cell_type": "markdown",
   "metadata": {},
   "source": [
    "The above query counts the number of languages spoken for each country, identified by the country's local name"
   ]
  }
 ],
 "metadata": {
  "language_info": {
   "name": "python"
  },
  "orig_nbformat": 4
 },
 "nbformat": 4,
 "nbformat_minor": 2
}
