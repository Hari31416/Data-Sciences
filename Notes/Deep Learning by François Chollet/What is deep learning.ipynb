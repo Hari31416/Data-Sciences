{
 "cells": [
  {
   "cell_type": "markdown",
   "metadata": {},
   "source": [
    "### Definition"
   ]
  },
  {
   "cell_type": "markdown",
   "metadata": {},
   "source": [
    "<figure>\n",
    "<figcaption><h4>Artificial intelligence,\n",
    "machine learning, and deep learning</h4></figcaption>\n",
    "<img src = \"img/01_01.png\">\n",
    "</figure>"
   ]
  },
  {
   "cell_type": "markdown",
   "metadata": {},
   "source": [
    "#### Artificial Intelligence"
   ]
  },
  {
   "cell_type": "markdown",
   "metadata": {},
   "source": [
    "A concise definition of AI would be as follows: *the effort to automate intellectual tasks normally performed by humans.* For a fairly long time, many\n",
    "experts believed that human-level artificial intelligence could be achieved by having\n",
    "programmers handcraft a sufficiently large set of explicit rules for manipulating\n",
    "knowledge. This approach is known as *symbolic AI*, and it was the dominant paradigm\n",
    "in AI from the 1950s to the late 1980s. It reached its peak popularity during the expert\n",
    "systems boom of the 1980s.<br>\n",
    "Although *symbolic AI* proved suitable to solve well-defined, logical problems, such as\n",
    "playing chess, it turned out to be intractable to figure out explicit rules for solving more\n",
    "complex, fuzzy problems, such as image classification, speech recognition, and language translation. A new approach arose to take *symbolic AI*’s place: machine learning."
   ]
  },
  {
   "cell_type": "markdown",
   "metadata": {},
   "source": [
    "#### Machine Learning"
   ]
  },
  {
   "cell_type": "markdown",
   "metadata": {},
   "source": [
    "Machine learning arises from this question: could a computer go beyond “what we\n",
    "know how to order it to perform” and learn on its own how to perform a specified task? With\n",
    "machine learning, humans input data as well as the answers expected from the data,\n",
    "and out come the rules. These rules can then be applied to new data to produce original answers."
   ]
  },
  {
   "cell_type": "markdown",
   "metadata": {},
   "source": [
    "<figure>\n",
    "<figcaption><h4>Machine learning:\n",
    "a new programming paradigm</h4></figcaption>\n",
    "<img src = \"img/01_02.png\">\n",
    "</figure>"
   ]
  },
  {
   "cell_type": "markdown",
   "metadata": {},
   "source": [
    ">A machine-learning system is trained rather than explicitly programmed. It’s presented\n",
    "with many examples relevant to a task, and it finds statistical structure in these examples that eventually allows the system to come up with rules for automating the task."
   ]
  },
  {
   "cell_type": "markdown",
   "metadata": {},
   "source": [
    "To do machine learning, we need three things:\n",
    "* *Input data points*—For instance, if the task is speech recognition, these data\n",
    "points could be sound files of people speaking. If the task is image tagging,\n",
    "they could be pictures.\n",
    "* *Examples of the expected output*—In a speech-recognition task, these could be\n",
    "human-generated transcripts of sound files. In an image task, expected outputs\n",
    "could be tags such as “dog,” “cat,” and so on.\n",
    "* *A way to measure whether the algorithm is doing a good job*—This is necessary in\n",
    "order to determine the distance between the algorithm’s current output and\n",
    "its expected output. The measurement is used as a feedback signal to adjust\n",
    "the way the algorithm works. This adjustment step is what we call learning."
   ]
  },
  {
   "cell_type": "markdown",
   "metadata": {},
   "source": [
    "Machine-learning models are all about finding appropriate representations for their input data—transformations of the data that make it more amenable to the task at hand, such as a classification task."
   ]
  },
  {
   "cell_type": "markdown",
   "metadata": {},
   "source": [
    "<figure>\n",
    "<figcaption><h4>Coordinate Change</h4></figcaption>\n",
    "<img src = \"img/01_03.png\">\n",
    "</figure>"
   ]
  },
  {
   "cell_type": "markdown",
   "metadata": {},
   "source": [
    "The above figure shows how, by changing coordinates, we can classifify the black and white datasets. With this representation, the\n",
    "black/white classification problem can be expressed as a simple rule: “Black points\n",
    "are such that $x > 0$,” or “White points are such that $x < 0$.” This new representation\n",
    "basically solves the classification problem.\n",
    "<br>In this case, we defined the coordinate change by hand. But if instead we tried systematically searching for different possible coordinate changes, and used as feedback\n",
    "the percentage of points being correctly classified, then we would be doing machine\n",
    "learning."
   ]
  },
  {
   "cell_type": "markdown",
   "metadata": {},
   "source": [
    ">Machine-learning algorithms aren’t usually creative in finding these transformations; they’re merely searching through a predefined set of\n",
    "operations, called a hypothesis space.<br>\n",
    "So that’s what machine learning is, technically: searching for useful representations of some input data, within a predefined space of possibilities, using guidance\n",
    "from a feedback signal. "
   ]
  },
  {
   "cell_type": "markdown",
   "metadata": {},
   "source": [
    "#### Deep Learning"
   ]
  },
  {
   "cell_type": "markdown",
   "metadata": {},
   "source": [
    "Deep learning is a specific subfield of machine learning: a new take on learning representations from data that puts an emphasis on learning successive layers of increasingly\n",
    "meaningful representations. The deep in deep learning isn’t a reference to any kind of\n",
    "deeper understanding achieved by the approach; rather, it stands for this idea of successive layers of representations. How many layers contribute to a model of the data is\n",
    "called the *depth* of the model. Other appropriate names for the field could have been\n",
    "*layered representations learning* and *hierarchical representations learning*."
   ]
  },
  {
   "cell_type": "markdown",
   "metadata": {},
   "source": [
    "In deep learning, these layered representations are (almost always) learned via\n",
    "models called *neural networks*, structured in literal layers stacked on top of each other.\n",
    "The term *neural network* is a reference to neurobiology, but although some of the central concepts in deep learning were developed in part by drawing inspiration from our\n",
    "understanding of the brain, deep-learning models are **not** models of the brain."
   ]
  },
  {
   "cell_type": "markdown",
   "metadata": {},
   "source": [
    "<figure>\n",
    "<figcaption><h4>Deep representations learned by a digit-classification model</h4></figcaption>\n",
    "<img src = \"img/01_04.png\">\n",
    "</figure>"
   ]
  },
  {
   "cell_type": "markdown",
   "metadata": {},
   "source": [
    "As you can see in figure, the network transforms the digit image into representations that are increasingly different from the original image and increasingly informative about the final result. You can think of a deep network as a multistage\n",
    "information-distillation operation, where information goes through successive filters\n",
    "and comes out increasingly *purified*."
   ]
  },
  {
   "cell_type": "markdown",
   "metadata": {},
   "source": [
    "### How Deep Learning Works?"
   ]
  },
  {
   "cell_type": "markdown",
   "metadata": {},
   "source": [
    "#### 1"
   ]
  },
  {
   "cell_type": "markdown",
   "metadata": {},
   "source": [
    "The specification of what a layer does to its input data is stored in the layer’s\n",
    "*weights*, which in essence are a bunch of numbers. In technical terms, we’d say that the\n",
    "transformation implemented by a layer is *parameterized* by its weights.\n",
    "(Weights are also sometimes called the *parameters* of a layer.) In this context, learning\n",
    "means finding a set of values for the weights of all layers in a network, such that the\n",
    "network will correctly map example inputs to their associated targets."
   ]
  },
  {
   "cell_type": "markdown",
   "metadata": {},
   "source": [
    "<figure>\n",
    "<figcaption><h4>A neural network is\n",
    "parameterized by its weights</h4></figcaption>\n",
    "<img src = \"img/01_05.png\">\n",
    "</figure>"
   ]
  },
  {
   "cell_type": "markdown",
   "metadata": {},
   "source": [
    "#### 2"
   ]
  },
  {
   "cell_type": "markdown",
   "metadata": {},
   "source": [
    "To control the output of\n",
    "a neural network, you need to be able to measure how far this output is from what you\n",
    "expected. This is the job of the loss *function* of the network, also called the *objective\n",
    "function*. The loss function takes the predictions of the network and the true target\n",
    "(what you wanted the network to output) and computes a distance score, capturing\n",
    "how well the network has done on this specific example"
   ]
  },
  {
   "cell_type": "markdown",
   "metadata": {},
   "source": [
    "<figure>\n",
    "<figcaption><h4>A loss function measures\n",
    "the quality of the network’s output</h4></figcaption>\n",
    "<img src = \"img/01_06.png\">\n",
    "</figure>"
   ]
  },
  {
   "cell_type": "markdown",
   "metadata": {},
   "source": [
    "#### 3"
   ]
  },
  {
   "cell_type": "markdown",
   "metadata": {},
   "source": [
    "The fundamental trick in deep learning is to use this score as a feedback signal to\n",
    "adjust the value of the weights a little, in a direction that will lower the loss score for\n",
    "the current example. This adjustment is the job of the optimizer, which\n",
    "implements what’s called the *Backpropagation algorithm*: the central algorithm in deep\n",
    "learning. Initially, the weights of the network are assigned random values, so the network\n",
    "merely implements a series of random transformations. Naturally, its output is far\n",
    "from what it should ideally be, and the loss score is accordingly very high. But with\n",
    "every example the network processes, the weights are adjusted a little in the correct\n",
    "direction, and the loss score decreases."
   ]
  },
  {
   "cell_type": "markdown",
   "metadata": {},
   "source": [
    "<figure>\n",
    "<figcaption><h4>The loss score is used as a\n",
    "feedback signal to adjust the weights</h4></figcaption>\n",
    "<img src = \"img/01_07.png\">\n",
    "</figure>"
   ]
  },
  {
   "cell_type": "markdown",
   "metadata": {},
   "source": [
    "### Has Deep Learning Very Short Life?"
   ]
  },
  {
   "cell_type": "markdown",
   "metadata": {},
   "source": [
    "Twice in the past, AI went through a cycle of intense\n",
    "optimism followed by disappointment and skepticism, with a dearth of funding as a\n",
    "result. It started with symbolic AI in the 1960s. In those early days, projections about AI\n",
    "were flying high. In the 1960s and early 1970s, several experts believed\n",
    "it to be right around the corner. A few years later, as these\n",
    "high expectations failed to materialize, researchers and government funds turned\n",
    "away from the field, marking the start of the first AI winter."
   ]
  },
  {
   "cell_type": "markdown",
   "metadata": {},
   "source": [
    " In the 1980s, a new take on symbolic AI, expert systems,\n",
    "started gathering steam among large companies. A few initial success stories triggered\n",
    "a wave of investment, with corporations around the world starting their own in-house\n",
    "AI departments to develop expert systems. Around 1985, companies were spending\n",
    "over $1 billion each year on the technology; but by the early 1990s, these systems had\n",
    "proven expensive to maintain, difficult to scale, and limited in scope, and interest\n",
    "died down. Thus began the second AI winter."
   ]
  },
  {
   "cell_type": "markdown",
   "metadata": {},
   "source": [
    "However, this time, things are different. We have a lot of positive things which suggest that the current wave of AI is going to be a long-term success, like:\n",
    "* Hardware\n",
    "* Datasets and benchmarks\n",
    "* Algorithmic advances"
   ]
  },
  {
   "cell_type": "markdown",
   "metadata": {},
   "source": [
    ">Deep learning has reached a level of public attention and industry investment never\n",
    "before seen in the history of AI, but it isn’t the first successful form of machine learning. It’s safe to say that most of the machine-learning algorithms used in the industry\n",
    "today aren’t deep-learning algorithms. Deep learning isn’t always the right tool for the\n",
    "job—sometimes there isn’t enough data for deep learning to be applicable, and sometimes the problem is better solved by a different algorithm"
   ]
  },
  {
   "cell_type": "markdown",
   "metadata": {},
   "source": [
    ">Naive Bayes is a type of machine-learning classifier based on applying Bayes’ theorem while assuming that the features in the input data are all independent (a strong,\n",
    "or “naive” assumption, which is where the name comes from). This form of data analysis predates computers and was applied by hand decades before its first computer\n",
    "implementation (most likely dating back to the 1950s). Bayes’ theorem and the foundations of statistics date back to the eighteenth century, and these are all you need to\n",
    "start using Naive Bayes classifiers."
   ]
  },
  {
   "cell_type": "code",
   "execution_count": null,
   "metadata": {},
   "outputs": [],
   "source": []
  }
 ],
 "metadata": {
  "interpreter": {
   "hash": "ce44b17c45080b8f56a19c9450d52461d624c968fcd959bb1916985c5ffa2b94"
  },
  "kernelspec": {
   "display_name": "Python 3.8.5 64-bit ('base': conda)",
   "language": "python",
   "name": "python3"
  },
  "language_info": {
   "codemirror_mode": {
    "name": "ipython",
    "version": 3
   },
   "file_extension": ".py",
   "mimetype": "text/x-python",
   "name": "python",
   "nbconvert_exporter": "python",
   "pygments_lexer": "ipython3",
   "version": "3.8.5"
  },
  "orig_nbformat": 4
 },
 "nbformat": 4,
 "nbformat_minor": 2
}
