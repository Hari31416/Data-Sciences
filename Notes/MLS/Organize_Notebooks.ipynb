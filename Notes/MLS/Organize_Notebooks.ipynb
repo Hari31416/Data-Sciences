{
 "cells": [
  {
   "cell_type": "markdown",
   "metadata": {},
   "source": [
    "<table class=\"tfo-notebook-buttons\" align=\"left\">\n",
    "<td style=\"border: none;\">\n",
    "<a target=\"blank\" href=\"https://colab.research.google.com/github/Hari31416/Data-Sciences/blob/main/Notes/DLS/Oragnize_Notebooks.ipynb?hl=en\"><img src=\"https://colab.research.google.com/img/colab_favicon_256px.png\" width=\"28\" height=\"28\"/>Run on Google Colab</a></td>\n",
    "<td style=\"border: none;\">\n",
    "<a target=\"blank\" href=\"https://github.com/Hari31416/Data-Sciences/blob/main/Notes/DLS/Oragnize_Notebooks.ipynb\"><img src=\"https://cdn.icon-icons.com/icons2/2368/PNG/512/github_logo_icon_143772.png\" width=\"28\" height=\"28\"/>View on Github</a></td>\n",
    "</table>"
   ]
  },
  {
   "cell_type": "code",
   "execution_count": 4,
   "metadata": {},
   "outputs": [],
   "source": [
    "import sys\n",
    "sys.path.append(\"../../tools\")"
   ]
  },
  {
   "cell_type": "markdown",
   "metadata": {},
   "source": [
    "### Converting the notes to HTML"
   ]
  },
  {
   "cell_type": "code",
   "execution_count": 7,
   "metadata": {},
   "outputs": [],
   "source": [
    "from files.notebook import Notebook\n",
    "import os\n",
    "f = Notebook(\"C2\")"
   ]
  },
  {
   "cell_type": "code",
   "execution_count": 26,
   "metadata": {},
   "outputs": [
    {
     "name": "stdout",
     "output_type": "stream",
     "text": [
      "Converting C3_W1_KMeans_Assignment.ipynb\n",
      "Converting C3_W1_Anomaly_Detection.ipynb\n",
      "Converting C3_W2_Collaborative_RecSys_Assignment.ipynb\n",
      "Converting C3_W2_RecSysNN_Assignment.ipynb\n",
      "Converting C3_W3_A1_Assignment.ipynb\n",
      "Converting State-action value function example.ipynb\n"
     ]
    }
   ],
   "source": [
    "outputs = []\n",
    "for folder, _, files in os.walk(\"C3\"):\n",
    "    for file in files:\n",
    "        if file.endswith('.ipynb'):\n",
    "            file_path = os.path.join(folder, file)\n",
    "            if \".ipynb_checkpoints\" in file_path:\n",
    "                continue\n",
    "            if \"betaversion\" in file_path.lower():\n",
    "                continue\n",
    "            if \"notes\" in file_path.lower():\n",
    "                continue\n",
    "            \n",
    "            print(f\"Converting {file}\")\n",
    "            try:\n",
    "                output = f.export_notebook(file_path)\n",
    "                outputs.append(output)\n",
    "            except Exception as e:\n",
    "                print(f\"Error converting {file}\")\n",
    "                print(e)"
   ]
  },
  {
   "cell_type": "markdown",
   "metadata": {},
   "source": [
    "### Adding them to index.html"
   ]
  },
  {
   "cell_type": "code",
   "execution_count": 27,
   "metadata": {},
   "outputs": [
    {
     "data": {
      "text/plain": [
       "['C3/W1/Assignment/A1/C3_W1_KMeans_Assignment.html',\n",
       " 'C3/W1/Assignment/A2/C3_W1_Anomaly_Detection.html',\n",
       " 'C3/W2/Assignment/A1/C3_W2_Collaborative_RecSys_Assignment.html',\n",
       " 'C3/W2/Assignment/A2/C3_W2_RecSysNN_Assignment.html',\n",
       " 'C3/W3/Assignment/C3_W3_A1_Assignment.html',\n",
       " 'C3/W3/Lab/State-action value function example.html']"
      ]
     },
     "execution_count": 27,
     "metadata": {},
     "output_type": "execute_result"
    }
   ],
   "source": [
    "outputs"
   ]
  },
  {
   "cell_type": "code",
   "execution_count": 16,
   "metadata": {},
   "outputs": [
    {
     "data": {
      "text/plain": [
       "'Regularization_Soln.html'"
      ]
     },
     "execution_count": 16,
     "metadata": {},
     "output_type": "execute_result"
    }
   ],
   "source": [
    "title = \"C1_W3_Lab09_Regularization_Soln.html\"\n",
    "\"_\".join(title.split(\"_\")[3:])"
   ]
  },
  {
   "cell_type": "code",
   "execution_count": 25,
   "metadata": {},
   "outputs": [
    {
     "data": {
      "text/plain": [
       "'C2_W1_Assignment'"
      ]
     },
     "execution_count": 25,
     "metadata": {},
     "output_type": "execute_result"
    }
   ],
   "source": [
    "outputs[0].split(\"/\")[-1].split(\".\")[0]"
   ]
  },
  {
   "cell_type": "code",
   "execution_count": 28,
   "metadata": {},
   "outputs": [
    {
     "name": "stdout",
     "output_type": "stream",
     "text": [
      "<li>\n",
      "        <a href=\"Notes/MLS/C2/W1/Assignment/A1/C3_W1_KMeans_Assignment.html\" target = 'blank' class = 'links'>C3 W1 Kmeans Assignment</a>\n",
      "        </li>\n",
      "        <li>\n",
      "        <a href=\"Notes/MLS/C2/W1/Assignment/A2/C3_W1_Anomaly_Detection.html\" target = 'blank' class = 'links'>C3 W1 Anomaly Detection</a>\n",
      "        </li>\n",
      "        <li>\n",
      "        <a href=\"Notes/MLS/C2/W2/Assignment/A1/C3_W2_Collaborative_RecSys_Assignment.html\" target = 'blank' class = 'links'>C3 W2 Collaborative Recsys Assignment</a>\n",
      "        </li>\n",
      "        <li>\n",
      "        <a href=\"Notes/MLS/C2/W2/Assignment/A2/C3_W2_RecSysNN_Assignment.html\" target = 'blank' class = 'links'>C3 W2 Recsysnn Assignment</a>\n",
      "        </li>\n",
      "        <li>\n",
      "        <a href=\"Notes/MLS/C2/W3/Assignment/C3_W3_A1_Assignment.html\" target = 'blank' class = 'links'>C3 W3 A1 Assignment</a>\n",
      "        </li>\n",
      "        <li>\n",
      "        <a href=\"Notes/MLS/C2/W3/Lab/State-action value function example.html\" target = 'blank' class = 'links'>State-Action Value Function Example</a>\n",
      "        </li>\n",
      "        \n"
     ]
    }
   ],
   "source": [
    "string = ''\n",
    "for file_path in outputs:\n",
    "    final_path = '/'.join(file_path.split(\"/\")[1:])\n",
    "    if \".ipynb_checkpoints\" in final_path:\n",
    "        pass\n",
    "    else:\n",
    "        title = final_path.split(\"/\")[-1]\n",
    "        title = title.split(\".\")[0]\n",
    "        title = title.split(\".\")[0]\n",
    "        title = title.replace(\"_\", \" \").title()\n",
    "        txt = f\"\"\"<li>\n",
    "        <a href=\"Notes/MLS/C2/{final_path}\" target = 'blank' class = 'links'>{title}</a>\n",
    "        </li>\n",
    "        \"\"\"\n",
    "        string += txt\n",
    "\n",
    "print(string)"
   ]
  },
  {
   "cell_type": "code",
   "execution_count": 21,
   "metadata": {},
   "outputs": [],
   "source": [
    "import pyperclip\n",
    "pyperclip.copy(string)"
   ]
  },
  {
   "cell_type": "code",
   "execution_count": null,
   "metadata": {},
   "outputs": [],
   "source": []
  }
 ],
 "metadata": {
  "kernelspec": {
   "display_name": "Python 3.9.12 ('data-science')",
   "language": "python",
   "name": "python3"
  },
  "language_info": {
   "codemirror_mode": {
    "name": "ipython",
    "version": 3
   },
   "file_extension": ".py",
   "mimetype": "text/x-python",
   "name": "python",
   "nbconvert_exporter": "python",
   "pygments_lexer": "ipython3",
   "version": "3.9.12"
  },
  "orig_nbformat": 4,
  "vscode": {
   "interpreter": {
    "hash": "2efee1efa502125d01e6b4768ba06d9453d29f3642bfd14ad5d4a769de82e88c"
   }
  }
 },
 "nbformat": 4,
 "nbformat_minor": 2
}
