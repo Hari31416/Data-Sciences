{
 "cells": [
  {
   "cell_type": "markdown",
   "metadata": {},
   "source": [
    "<table class=\"tfo-notebook-buttons\" align=\"left\">\n",
    "<td style=\"border: none;\">\n",
    "<a target=\"blank\" href=\"https://colab.research.google.com/github/Hari31416/Data-Sciences/blob/main/Notes/DLS/Oragnize_Notebooks.ipynb?hl=en\"><img src=\"https://colab.research.google.com/img/colab_favicon_256px.png\" width=\"28\" height=\"28\"/>Run on Google Colab</a></td>\n",
    "<td style=\"border: none;\">\n",
    "<a target=\"blank\" href=\"https://github.com/Hari31416/Data-Sciences/blob/main/Notes/DLS/Oragnize_Notebooks.ipynb\"><img src=\"https://cdn.icon-icons.com/icons2/2368/PNG/512/github_logo_icon_143772.png\" width=\"28\" height=\"28\"/>View on Github</a></td>\n",
    "</table>"
   ]
  },
  {
   "cell_type": "markdown",
   "metadata": {},
   "source": [
    "### Removing whitespace"
   ]
  },
  {
   "cell_type": "code",
   "execution_count": 1,
   "metadata": {},
   "outputs": [],
   "source": [
    "from life_saving_tools.files import Files\n",
    "import os\n",
    "f = Files.FileOrganizer(\"C1\")"
   ]
  },
  {
   "cell_type": "code",
   "execution_count": 2,
   "metadata": {},
   "outputs": [
    {
     "data": {
      "text/plain": [
       "'c:\\\\Users\\\\harik\\\\Desktop\\\\Data-Sciences\\\\Notes\\\\DLS'"
      ]
     },
     "execution_count": 2,
     "metadata": {},
     "output_type": "execute_result"
    }
   ],
   "source": [
    "%pwd"
   ]
  },
  {
   "cell_type": "code",
   "execution_count": 3,
   "metadata": {},
   "outputs": [],
   "source": [
    "f.remove_spaces(all=True)"
   ]
  },
  {
   "cell_type": "markdown",
   "metadata": {},
   "source": [
    "### Unzipping"
   ]
  },
  {
   "cell_type": "code",
   "execution_count": 1,
   "metadata": {},
   "outputs": [
    {
     "name": "stdout",
     "output_type": "stream",
     "text": [
      "Unzipping Tensorflow_introduction.zip\n"
     ]
    }
   ],
   "source": [
    "import zipfile\n",
    "import os\n",
    "\n",
    "for folder, _, files in os.walk(os.curdir):\n",
    "    for file in files:\n",
    "        if file.endswith('.zip'):\n",
    "            print(f\"Unzipping {file}\")\n",
    "            file_path = os.path.join(folder, file)\n",
    "            zip_ref = zipfile.ZipFile(file_path, 'r')\n",
    "            zip_ref.extractall(file_path[:-4])\n",
    "            zip_ref.close()"
   ]
  },
  {
   "cell_type": "markdown",
   "metadata": {},
   "source": [
    "### Deleting zip files"
   ]
  },
  {
   "cell_type": "code",
   "execution_count": 2,
   "metadata": {},
   "outputs": [
    {
     "name": "stdout",
     "output_type": "stream",
     "text": [
      "Deleting Tensorflow_introduction.zip\n"
     ]
    }
   ],
   "source": [
    "import send2trash\n",
    "\n",
    "for folder, _, files in os.walk(os.curdir):\n",
    "    for file in files:\n",
    "        if file.endswith('.zip'):\n",
    "            print(f\"Deleting {file}\")\n",
    "            file_path = os.path.join(folder, file)\n",
    "            send2trash.send2trash(file_path)"
   ]
  },
  {
   "cell_type": "markdown",
   "metadata": {},
   "source": [
    "### Adding Github and Colab links to the files"
   ]
  },
  {
   "cell_type": "code",
   "execution_count": 4,
   "metadata": {},
   "outputs": [],
   "source": [
    "import pyperclip\n",
    "file_path = pyperclip.paste()\n",
    "file_path = file_path.replace(\"\\\\\", \"/\")\n",
    "\n",
    "text = f\"\"\"<table class='tfo-notebook-buttons' align='left'>\n",
    "<td style='border: none;'>\n",
    "<a target='blank' href='https://colab.research.google.com/github/Hari31416/Data-Sciences/blob/main/Notes/MLS/{file_path}?hl=en'><img src='https://colab.research.google.com/img/colab_favicon_256px.png' width='28' height='28'/>Run on Google Colab</a></td>\n",
    "<td style='border: none;'>\n",
    "<a target='blank' href='https://github.com/Hari31416/Data-Sciences/blob/main/Notes/MLS/{file_path}'><img src='https://cdn.icon-icons.com/icons2/2368/PNG/512/github_logo_icon_143772.png' width='28' height='28'/>View on Github</a></td>\n",
    "</table>\"\"\"\n",
    "\n",
    "pyperclip.copy(text)"
   ]
  },
  {
   "cell_type": "markdown",
   "metadata": {},
   "source": [
    "### Converting the notes to HTML"
   ]
  },
  {
   "cell_type": "code",
   "execution_count": 5,
   "metadata": {},
   "outputs": [],
   "source": [
    "from life_saving_tools.files.notebook import Notebook\n",
    "import os\n",
    "f = Notebook(\"C1\")"
   ]
  },
  {
   "cell_type": "code",
   "execution_count": 19,
   "metadata": {},
   "outputs": [
    {
     "name": "stdout",
     "output_type": "stream",
     "text": [
      "Converting C1_W1_Lab03_Model_Representation_Soln.ipynb\n",
      "Converting C1_W1_Lab04_Cost_function_Soln.ipynb\n",
      "Converting C1_W1_Lab05_Gradient_Descent_Soln.ipynb\n",
      "Converting C1_W2_Lab01_Python_Numpy_Vectorization_Soln.ipynb\n",
      "Converting C1_W2_Lab02_Multiple_Variable_Soln.ipynb\n",
      "Converting C1_W2_Lab03_Feature_Scaling_and_Learning_Rate_Soln.ipynb\n",
      "Converting C1_W2_Lab04_FeatEng_PolyReg_Soln.ipynb\n",
      "Converting C1_W2_Lab05_Sklearn_GD_Soln.ipynb\n",
      "Converting C1_W2_Lab06_Sklearn_Normal_Soln.ipynb\n",
      "Converting C1_W2_Linear_Regression.ipynb\n",
      "Converting C1_W3_Lab01_Classification_Soln.ipynb\n",
      "Converting C1_W3_Lab02_Sigmoid_function_Soln.ipynb\n",
      "Converting C1_W3_Lab03_Decision_Boundary_Soln.ipynb\n",
      "Converting C1_W3_Lab04_LogisticLoss_Soln.ipynb\n",
      "Converting C1_W3_Lab05_Cost_Function_Soln.ipynb\n",
      "Converting C1_W3_Lab06_Gradient_Descent_Soln.ipynb\n",
      "Converting C1_W3_Lab07_Scikit_Learn_Soln.ipynb\n",
      "Converting C1_W3_Lab08_Overfitting_Soln.ipynb\n",
      "Converting C1_W3_Lab09_Regularization_Soln.ipynb\n"
     ]
    }
   ],
   "source": [
    "outputs = []\n",
    "for folder, _, files in os.walk(\"C1\"):\n",
    "    for file in files:\n",
    "        if file.endswith('.ipynb'):\n",
    "            file_path = os.path.join(folder, file)\n",
    "            if \".ipynb_checkpoints\" in file_path:\n",
    "                continue\n",
    "            if \"betaversion\" in file_path:\n",
    "                continue\n",
    "            if \"notes\" in file_path.lower():\n",
    "                continue\n",
    "            \n",
    "            print(f\"Converting {file}\")\n",
    "            try:\n",
    "                output = f.export_notebook(file_path)\n",
    "                outputs.append(output)\n",
    "            except Exception as e:\n",
    "                print(f\"Error converting {file}\")\n",
    "                print(e)"
   ]
  },
  {
   "cell_type": "code",
   "execution_count": null,
   "metadata": {},
   "outputs": [],
   "source": [
    "f.export_notebook()"
   ]
  },
  {
   "cell_type": "markdown",
   "metadata": {},
   "source": [
    "### Adding them to index.html"
   ]
  },
  {
   "cell_type": "code",
   "execution_count": 8,
   "metadata": {},
   "outputs": [
    {
     "data": {
      "text/plain": [
       "['C1\\\\W1\\\\Assignments\\\\Gradient_Descent\\\\C1_W1_Lab03_Model_Representation_Soln.html',\n",
       " 'C1\\\\W1\\\\Assignments\\\\Gradient_Descent\\\\C1_W1_Lab04_Cost_function_Soln.html',\n",
       " 'C1\\\\W1\\\\Assignments\\\\Gradient_Descent\\\\C1_W1_Lab05_Gradient_Descent_Soln.html',\n",
       " 'C1\\\\W1\\\\Notes\\\\Linear_Regression.html',\n",
       " 'C1\\\\W1\\\\Notes\\\\Overview.html',\n",
       " 'C1\\\\W2\\\\Assignments\\\\C1_W2_Lab01_Python_Numpy_Vectorization_Soln.html',\n",
       " 'C1\\\\W2\\\\Assignments\\\\C1_W2_Lab02_Multiple_Variable_Soln.html',\n",
       " 'C1\\\\W2\\\\Assignments\\\\C1_W2_Lab03_Feature_Scaling_and_Learning_Rate_Soln.html',\n",
       " 'C1\\\\W2\\\\Assignments\\\\C1_W2_Lab04_FeatEng_PolyReg_Soln.html',\n",
       " 'C1\\\\W2\\\\Assignments\\\\C1_W2_Lab05_Sklearn_GD_Soln.html',\n",
       " 'C1\\\\W2\\\\Assignments\\\\C1_W2_Lab06_Sklearn_Normal_Soln.html',\n",
       " 'C1\\\\W2\\\\Assignments\\\\Linear_Regression\\\\C1_W2_Linear_Regression.html',\n",
       " 'C1\\\\W3\\\\Assignments\\\\C1_W3_Lab01_Classification_Soln.html',\n",
       " 'C1\\\\W3\\\\Assignments\\\\C1_W3_Lab02_Sigmoid_function_Soln.html',\n",
       " 'C1\\\\W3\\\\Assignments\\\\C1_W3_Lab03_Decision_Boundary_Soln.html',\n",
       " 'C1\\\\W3\\\\Assignments\\\\C1_W3_Lab04_LogisticLoss_Soln.html',\n",
       " 'C1\\\\W3\\\\Assignments\\\\C1_W3_Lab05_Cost_Function_Soln.html',\n",
       " 'C1\\\\W3\\\\Assignments\\\\C1_W3_Lab06_Gradient_Descent_Soln.html',\n",
       " 'C1\\\\W3\\\\Assignments\\\\C1_W3_Lab07_Scikit_Learn_Soln.html',\n",
       " 'C1\\\\W3\\\\Assignments\\\\C1_W3_Lab08_Overfitting_Soln.html',\n",
       " 'C1\\\\W3\\\\Assignments\\\\C1_W3_Lab09_Regularization_Soln.html']"
      ]
     },
     "execution_count": 8,
     "metadata": {},
     "output_type": "execute_result"
    }
   ],
   "source": [
    "outputs"
   ]
  },
  {
   "cell_type": "code",
   "execution_count": 16,
   "metadata": {},
   "outputs": [
    {
     "data": {
      "text/plain": [
       "'Regularization_Soln.html'"
      ]
     },
     "execution_count": 16,
     "metadata": {},
     "output_type": "execute_result"
    }
   ],
   "source": [
    "title = \"C1_W3_Lab09_Regularization_Soln.html\"\n",
    "\"_\".join(title.split(\"_\")[3:])"
   ]
  },
  {
   "cell_type": "code",
   "execution_count": 20,
   "metadata": {},
   "outputs": [
    {
     "name": "stdout",
     "output_type": "stream",
     "text": [
      "<li>\n",
      "        <a href=\"Notes/MLS/C1/W1/Assignments/Gradient_Descent/C1_W1_Lab03_Model_Representation_Soln.html\" target = 'blank' class = 'links'>Model Representation Soln</a>\n",
      "        </li>\n",
      "        <li>\n",
      "        <a href=\"Notes/MLS/C1/W1/Assignments/Gradient_Descent/C1_W1_Lab04_Cost_function_Soln.html\" target = 'blank' class = 'links'>Cost Function Soln</a>\n",
      "        </li>\n",
      "        <li>\n",
      "        <a href=\"Notes/MLS/C1/W1/Assignments/Gradient_Descent/C1_W1_Lab05_Gradient_Descent_Soln.html\" target = 'blank' class = 'links'>Gradient Descent Soln</a>\n",
      "        </li>\n",
      "        <li>\n",
      "        <a href=\"Notes/MLS/C1/W2/Assignments/C1_W2_Lab01_Python_Numpy_Vectorization_Soln.html\" target = 'blank' class = 'links'>Python Numpy Vectorization Soln</a>\n",
      "        </li>\n",
      "        <li>\n",
      "        <a href=\"Notes/MLS/C1/W2/Assignments/C1_W2_Lab02_Multiple_Variable_Soln.html\" target = 'blank' class = 'links'>Multiple Variable Soln</a>\n",
      "        </li>\n",
      "        <li>\n",
      "        <a href=\"Notes/MLS/C1/W2/Assignments/C1_W2_Lab03_Feature_Scaling_and_Learning_Rate_Soln.html\" target = 'blank' class = 'links'>Feature Scaling And Learning Rate Soln</a>\n",
      "        </li>\n",
      "        <li>\n",
      "        <a href=\"Notes/MLS/C1/W2/Assignments/C1_W2_Lab04_FeatEng_PolyReg_Soln.html\" target = 'blank' class = 'links'>Feateng Polyreg Soln</a>\n",
      "        </li>\n",
      "        <li>\n",
      "        <a href=\"Notes/MLS/C1/W2/Assignments/C1_W2_Lab05_Sklearn_GD_Soln.html\" target = 'blank' class = 'links'>Sklearn Gd Soln</a>\n",
      "        </li>\n",
      "        <li>\n",
      "        <a href=\"Notes/MLS/C1/W2/Assignments/C1_W2_Lab06_Sklearn_Normal_Soln.html\" target = 'blank' class = 'links'>Sklearn Normal Soln</a>\n",
      "        </li>\n",
      "        <li>\n",
      "        <a href=\"Notes/MLS/C1/W2/Assignments/Linear_Regression/C1_W2_Linear_Regression.html\" target = 'blank' class = 'links'>Regression</a>\n",
      "        </li>\n",
      "        <li>\n",
      "        <a href=\"Notes/MLS/C1/W3/Assignments/C1_W3_Lab01_Classification_Soln.html\" target = 'blank' class = 'links'>Classification Soln</a>\n",
      "        </li>\n",
      "        <li>\n",
      "        <a href=\"Notes/MLS/C1/W3/Assignments/C1_W3_Lab02_Sigmoid_function_Soln.html\" target = 'blank' class = 'links'>Sigmoid Function Soln</a>\n",
      "        </li>\n",
      "        <li>\n",
      "        <a href=\"Notes/MLS/C1/W3/Assignments/C1_W3_Lab03_Decision_Boundary_Soln.html\" target = 'blank' class = 'links'>Decision Boundary Soln</a>\n",
      "        </li>\n",
      "        <li>\n",
      "        <a href=\"Notes/MLS/C1/W3/Assignments/C1_W3_Lab04_LogisticLoss_Soln.html\" target = 'blank' class = 'links'>Logisticloss Soln</a>\n",
      "        </li>\n",
      "        <li>\n",
      "        <a href=\"Notes/MLS/C1/W3/Assignments/C1_W3_Lab05_Cost_Function_Soln.html\" target = 'blank' class = 'links'>Cost Function Soln</a>\n",
      "        </li>\n",
      "        <li>\n",
      "        <a href=\"Notes/MLS/C1/W3/Assignments/C1_W3_Lab06_Gradient_Descent_Soln.html\" target = 'blank' class = 'links'>Gradient Descent Soln</a>\n",
      "        </li>\n",
      "        <li>\n",
      "        <a href=\"Notes/MLS/C1/W3/Assignments/C1_W3_Lab07_Scikit_Learn_Soln.html\" target = 'blank' class = 'links'>Scikit Learn Soln</a>\n",
      "        </li>\n",
      "        <li>\n",
      "        <a href=\"Notes/MLS/C1/W3/Assignments/C1_W3_Lab08_Overfitting_Soln.html\" target = 'blank' class = 'links'>Overfitting Soln</a>\n",
      "        </li>\n",
      "        <li>\n",
      "        <a href=\"Notes/MLS/C1/W3/Assignments/C1_W3_Lab09_Regularization_Soln.html\" target = 'blank' class = 'links'>Regularization Soln</a>\n",
      "        </li>\n",
      "        \n"
     ]
    }
   ],
   "source": [
    "string = ''\n",
    "for file_path in outputs:\n",
    "    final_path = '/'.join(file_path.split(\"\\\\\")[1:])\n",
    "    if \".ipynb_checkpoints\" in final_path:\n",
    "        pass\n",
    "    else:\n",
    "        title = final_path.split(\"/\")[-1]\n",
    "        title = \"_\".join(title.split(\"_\")[3:])\n",
    "        title = title.split(\".\")[0]\n",
    "        title = title.replace(\"_\", \" \").title()\n",
    "        txt = f\"\"\"<li>\n",
    "        <a href=\"Notes/MLS/C1/{final_path}\" target = 'blank' class = 'links'>{title}</a>\n",
    "        </li>\n",
    "        \"\"\"\n",
    "        string += txt\n",
    "\n",
    "print(string)"
   ]
  },
  {
   "cell_type": "code",
   "execution_count": 21,
   "metadata": {},
   "outputs": [],
   "source": [
    "import pyperclip\n",
    "pyperclip.copy(string)"
   ]
  },
  {
   "cell_type": "code",
   "execution_count": null,
   "metadata": {},
   "outputs": [],
   "source": []
  }
 ],
 "metadata": {
  "interpreter": {
   "hash": "21040c1b576dca9f4f330277849b9f4819256d524dee23c2b89e431027dafe11"
  },
  "kernelspec": {
   "display_name": "Python 3.8.5",
   "language": "python",
   "name": "python3"
  },
  "language_info": {
   "codemirror_mode": {
    "name": "ipython",
    "version": 3
   },
   "file_extension": ".py",
   "mimetype": "text/x-python",
   "name": "python",
   "nbconvert_exporter": "python",
   "pygments_lexer": "ipython3",
   "version": "3.8.5"
  },
  "orig_nbformat": 4
 },
 "nbformat": 4,
 "nbformat_minor": 2
}
