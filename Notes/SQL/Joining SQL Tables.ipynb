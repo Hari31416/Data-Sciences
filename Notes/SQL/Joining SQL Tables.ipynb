{
 "cells": [
  {
   "cell_type": "markdown",
   "metadata": {},
   "source": [
    "## Inner Join"
   ]
  },
  {
   "cell_type": "markdown",
   "metadata": {},
   "source": [
    "The basic syntax for an `INNER JOIN`, here including all columns in both tables:\n",
    "\n",
    ">SELECT * <br>\n",
    "FROM left_table <br>\n",
    "INNER JOIN right_table <br>\n",
    "ON left_table.id = right_table.id;"
   ]
  },
  {
   "cell_type": "markdown",
   "metadata": {},
   "source": [
    "Instead of writing the full table name, you can use table aliasing as a shortcut. For tables you also use `AS` to add the alias immediately after the table name with a space. Check out the aliasing of cities and countries below.\n",
    "\n",
    ">SELECT c1.name AS city, c2.name AS country <br>\n",
    "FROM cities AS c1<br>\n",
    "INNER JOIN countries AS c2<br>\n",
    "ON c1.country_code = c2.code;"
   ]
  },
  {
   "cell_type": "markdown",
   "metadata": {},
   "source": [
    "Notice that to select a field in your query that appears in multiple tables, you'll need to identify which table/table alias you're referring to by using a `.` in your `SELECT` statement."
   ]
  },
  {
   "cell_type": "markdown",
   "metadata": {},
   "source": [
    "In SQL, the joining can be done for even multiple tables.\n",
    ">SELECT * <br>\n",
    "FROM left_table <br>\n",
    "  INNER JOIN right_table <br>\n",
    "    ON left_table.id = right_table.id <br>\n",
    "  INNER JOIN another_table <br>\n",
    "    ON left_table.id = another_table.id; <br>"
   ]
  },
  {
   "cell_type": "markdown",
   "metadata": {},
   "source": [
    "When doing this type of long joining, it becomes useful to alias each table using the first letter of its name (e.g. `countries AS c`)!"
   ]
  },
  {
   "cell_type": "code",
   "execution_count": null,
   "metadata": {},
   "outputs": [],
   "source": []
  }
 ],
 "metadata": {
  "language_info": {
   "name": "python"
  },
  "orig_nbformat": 4
 },
 "nbformat": 4,
 "nbformat_minor": 2
}
