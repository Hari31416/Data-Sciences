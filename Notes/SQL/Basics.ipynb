{
 "cells": [
  {
   "cell_type": "markdown",
   "metadata": {},
   "source": [
    "## BASICS"
   ]
  },
  {
   "cell_type": "markdown",
   "metadata": {},
   "source": [
    "### SELECTing single columns"
   ]
  },
  {
   "cell_type": "markdown",
   "metadata": {},
   "source": [
    "In `SQL`, you can select data from a table using a `SELECT` statement. For example, the following query selects the name column from the people table:"
   ]
  },
  {
   "cell_type": "markdown",
   "metadata": {},
   "source": [
    ">SELECT name<br>\n",
    "FROM people;"
   ]
  },
  {
   "cell_type": "markdown",
   "metadata": {},
   "source": [
    "In this query, `SELECT` and `FROM` are called keywords. In `SQL`, keywords are not case-sensitive, which means you can write the same query as:\n",
    "\n",
    ">select name<br>\n",
    "from people;\n"
   ]
  },
  {
   "cell_type": "markdown",
   "metadata": {},
   "source": [
    "That said, it's good practice to make `SQL` keywords uppercase to distinguish them from other parts of your query, like column and table names."
   ]
  },
  {
   "cell_type": "markdown",
   "metadata": {},
   "source": [
    "It's also good practice to include a semicolon at the end of your query. This tells `SQL` where the end of your query is!"
   ]
  },
  {
   "cell_type": "markdown",
   "metadata": {},
   "source": [
    "### SELECTing multiple columns"
   ]
  },
  {
   "cell_type": "markdown",
   "metadata": {},
   "source": [
    "To select multiple columns from a table, simply separate the column names with commas!\n",
    "<br>For example, this query selects two columns, `name` and `birthdate`, from the `people` table:\n",
    "\n",
    ">SELECT name, birthdate\n",
    "FROM people;"
   ]
  },
  {
   "cell_type": "markdown",
   "metadata": {},
   "source": [
    "Sometimes, you may want to select all columns from a table. Typing out every column name would be a pain, so there's a handy shortcut:\n",
    "\n",
    ">SELECT *\n",
    "FROM people;"
   ]
  },
  {
   "cell_type": "markdown",
   "metadata": {},
   "source": [
    "If you only want to return a certain number of results, you can use the LIMIT keyword to limit the number of rows returned:\n",
    "\n",
    ">SELECT *\n",
    "FROM people\n",
    "LIMIT 10;"
   ]
  },
  {
   "cell_type": "markdown",
   "metadata": {},
   "source": [
    "### DISTINCT Values"
   ]
  },
  {
   "cell_type": "markdown",
   "metadata": {},
   "source": [
    "Often your results will include many duplicate values. If you want to select all the unique values from a column, you can use the `DISTINCT` keyword."
   ]
  },
  {
   "cell_type": "markdown",
   "metadata": {},
   "source": [
    "### Learning to COUNT"
   ]
  },
  {
   "cell_type": "markdown",
   "metadata": {},
   "source": [
    "The `COUNT()` function lets you do this by returning the number of rows in one or more columns.<br>`COUNT(*)` tells you how many rows are in a table. However, if you want to count the number of non-missing values in a particular column, you can call `COUNT()` on just that column."
   ]
  },
  {
   "cell_type": "markdown",
   "metadata": {},
   "source": [
    "For example, to count the number of birth dates present in the people table:\n",
    "\n",
    ">SELECT COUNT(birthdate)\n",
    "FROM people;"
   ]
  },
  {
   "cell_type": "markdown",
   "metadata": {},
   "source": [
    "It's also common to combine `COUNT()` with `DISTINCT` to count the number of distinct values in a column.\n",
    "For example, this query counts the number of distinct birth dates contained in the people table:\n",
    "\n",
    ">SELECT COUNT(DISTINCT birthdate)\n",
    "FROM people;"
   ]
  },
  {
   "cell_type": "markdown",
   "metadata": {},
   "source": [
    "## Filtering"
   ]
  },
  {
   "cell_type": "markdown",
   "metadata": {},
   "source": [
    "In `SQL`, the `WHERE` keyword allows you to filter based on both text and numeric values in a table. There are a few different comparison operators you can use:\n",
    "\n",
    "* = equal\n",
    "* <> not equal\n",
    "* < less than\n",
    "* {}> greater than\n",
    "* <= less than or equal to\n",
    "* {}>= greater than or equal to<br>\n",
    "**Ignore the {}**\n",
    "<br>\n",
    "For example, you can filter text records such as `title`. The following code returns all films with the `title` 'Metropolis':\n",
    "\n",
    ">SELECT title<br>\n",
    "FROM films<br>\n",
    "WHERE title = 'Metropolis';\n"
   ]
  },
  {
   "cell_type": "markdown",
   "metadata": {},
   "source": [
    "### Simple filtering of numeric values"
   ]
  },
  {
   "cell_type": "markdown",
   "metadata": {},
   "source": [
    "The following query selects all details for films with a budget over ten thousand dollars:\n",
    "\n",
    ">SELECT *<br>\n",
    "FROM films<br>\n",
    "WHERE budget > 10000;"
   ]
  },
  {
   "cell_type": "markdown",
   "metadata": {},
   "source": [
    "### Simple filtering of text"
   ]
  },
  {
   "cell_type": "markdown",
   "metadata": {},
   "source": [
    "The `WHERE` clause can also be used to filter text results, such as names or countries.\n",
    "\n",
    "For example, this query gets the titles of all films which were filmed in China:\n",
    "\n",
    ">SELECT title\n",
    "FROM films\n",
    "WHERE country = 'China';"
   ]
  },
  {
   "cell_type": "markdown",
   "metadata": {},
   "source": [
    "### `WHERE` `AND`"
   ]
  },
  {
   "cell_type": "markdown",
   "metadata": {},
   "source": [
    "Often, you'll want to select data based on multiple conditions. You can build up your `WHERE` queries by combining multiple conditions with the `AND` keyword.\n",
    "\n",
    "For example,\n",
    "\n",
    ">SELECT title<br>\n",
    "FROM films<br>\n",
    "WHERE release_year > 1994<br>\n",
    "AND release_year < 2000;"
   ]
  },
  {
   "cell_type": "markdown",
   "metadata": {},
   "source": [
    "gives you the titles of films released between 1994 and 2000."
   ]
  },
  {
   "cell_type": "markdown",
   "metadata": {},
   "source": [
    "Note that you need to specify the column name separately for every `AND` condition, so the following would be invalid:\n",
    "\n",
    ">SELECT title<br>\n",
    "FROM films<br>\n",
    "WHERE release_year > 1994 AND < 2000;"
   ]
  },
  {
   "cell_type": "markdown",
   "metadata": {},
   "source": [
    "### `WHERE` `AND` `OR`"
   ]
  },
  {
   "cell_type": "markdown",
   "metadata": {},
   "source": [
    "In case you want to select rows based on multiple conditions where some but not all of the conditions need to be met you can use SQL's `OR` operator.\n",
    "\n",
    "For example, the following returns all films released in either 1994 or 2000:\n",
    "\n",
    ">SELECT title <br>\n",
    "FROM films<br>\n",
    "WHERE release_year = 1994<br>\n",
    "OR release_year = 2000;"
   ]
  },
  {
   "cell_type": "markdown",
   "metadata": {},
   "source": [
    "Note that just like `AND` you need to specify the column for every `OR` condition"
   ]
  },
  {
   "cell_type": "markdown",
   "metadata": {},
   "source": [
    "When combining `AND` and `OR`, be sure to enclose the individual clauses in parentheses, like so:\n",
    "\n",
    ">SELECT title <br>\n",
    "FROM films<br>\n",
    "WHERE (release_year = 1994 OR release_year = 1995)<br>\n",
    "AND (certification = 'PG' OR certification = 'R');"
   ]
  },
  {
   "cell_type": "markdown",
   "metadata": {},
   "source": [
    "Otherwise, due to SQL's precedence rules, you may not get the results you're expecting!"
   ]
  },
  {
   "cell_type": "markdown",
   "metadata": {},
   "source": [
    "### `BETWEEN`"
   ]
  },
  {
   "cell_type": "markdown",
   "metadata": {},
   "source": [
    "In SQL the `BETWEEN` keyword provides a useful shorthand for filtering values within a specified range."
   ]
  },
  {
   "cell_type": "markdown",
   "metadata": {},
   "source": [
    ">SELECT title<br>\n",
    "FROM films<br>\n",
    "WHERE release_year<br>\n",
    "BETWEEN 1994 AND 2000;"
   ]
  },
  {
   "cell_type": "markdown",
   "metadata": {},
   "source": [
    "The above query is the same as\n",
    ">SELECT title<br>\n",
    "FROM films<br>\n",
    "WHERE release_year >= 1994<br>\n",
    "AND release_year <= 2000;"
   ]
  },
  {
   "cell_type": "markdown",
   "metadata": {},
   "source": [
    "**It's important to remember that BETWEEN is inclusive, meaning the beginning and end values are included in the results!**"
   ]
  },
  {
   "cell_type": "markdown",
   "metadata": {},
   "source": [
    "Similar to the `WHERE` clause, the `BETWEEN` clause can be used with multiple `AND` and `OR` operators. For example, suppose we have a table called kids. We can get the names of all kids between the ages of 2 and 12 from the United States:"
   ]
  },
  {
   "cell_type": "markdown",
   "metadata": {},
   "source": [
    ">SELECT name<br>\n",
    "FROM kids<br>\n",
    "WHERE age BETWEEN 2 AND 12<br>\n",
    "AND nationality = 'USA';"
   ]
  },
  {
   "cell_type": "markdown",
   "metadata": {},
   "source": [
    "### `IN BETWEEN`"
   ]
  },
  {
   "cell_type": "markdown",
   "metadata": {},
   "source": [
    "The `IN` operator allows you to specify multiple values in a `WHERE` clause, making it easier and quicker to specify multiple `OR` conditions."
   ]
  },
  {
   "cell_type": "markdown",
   "metadata": {},
   "source": [
    ">SELECT name<br>\n",
    "FROM kids<br>\n",
    "WHERE age IN (2, 4, 6, 8, 10);"
   ]
  },
  {
   "cell_type": "markdown",
   "metadata": {},
   "source": [
    "### Introduction to `NULL` and `IS NULL`"
   ]
  },
  {
   "cell_type": "markdown",
   "metadata": {},
   "source": [
    "In SQL, `NULL` represents a missing or unknown value. You can check for `NULL` values using the expression `IS NULL`. For example, to count the number of missing birth dates in the `people` table:\n",
    "\n",
    ">SELECT COUNT(*)<br>\n",
    "FROM people<br>\n",
    "WHERE birthdate IS NULL;"
   ]
  },
  {
   "cell_type": "markdown",
   "metadata": {},
   "source": [
    "Sometimes, you'll want to filter out missing values so you only get results which are not NULL. To do this, you can use the `IS NOT NULL` operator.\n",
    ">SELECT COUNT(*)<br>\n",
    "FROM people<br>\n",
    "WHERE birthdate IS NOT NULL;"
   ]
  },
  {
   "cell_type": "markdown",
   "metadata": {},
   "source": [
    "### `LIKE` and `NOT LIKE`"
   ]
  },
  {
   "cell_type": "markdown",
   "metadata": {},
   "source": [
    "In `SQL`, the `LIKE` operator can be used in a `WHERE` clause to search for a pattern in a column. To accomplish this, you use something called a wildcard as a placeholder for some other values. There are two wildcards you can use with `LIKE`:\n",
    "\n",
    "The `%` wildcard will match zero, one, or many characters in text. For example, the following query matches companies like `'Data'`, `'DataC'` `'DataCamp'`, `'DataMind'`, and so on:\n",
    ">SELECT name<br>\n",
    "FROM companies<br>\n",
    "WHERE name LIKE 'Data%';"
   ]
  },
  {
   "cell_type": "markdown",
   "metadata": {},
   "source": [
    "The `_` wildcard will match a single character. For example, the following query matches companies like `'DataCamp'`, `'DataComp'`, and so on:\n",
    ">SELECT name <br>\n",
    "FROM companies<br>\n",
    "WHERE name LIKE 'DataC_mp';\n"
   ]
  },
  {
   "cell_type": "markdown",
   "metadata": {},
   "source": [
    "You can also use the `NOT LIKE `operator to find records that don't match the pattern you specify."
   ]
  },
  {
   "cell_type": "markdown",
   "metadata": {},
   "source": [
    "## Aggregate functions and Aliasing"
   ]
  },
  {
   "cell_type": "markdown",
   "metadata": {},
   "source": [
    "Often, you will want to perform some calculation on the data in a database. `SQL` provides a few functions, called *aggregate functions*, to help you out with this.\n",
    "\n",
    "For example,\n",
    ">SELECT AVG(budget) <br>\n",
    "FROM films;<br>\n",
    "\n",
    "gives you the average value from the budget column of the films table. Similarly, the `MAX()` function returns the highest budget:\n",
    "\n",
    ">SELECT MAX(budget) <br>\n",
    "FROM films;\n",
    "\n",
    "And more"
   ]
  },
  {
   "cell_type": "markdown",
   "metadata": {},
   "source": [
    "### Combining aggregate functions with `WHERE`"
   ]
  },
  {
   "cell_type": "markdown",
   "metadata": {},
   "source": [
    "Aggregate functions can be combined with the `WHERE` clause to gain further insights from your data.\n",
    "\n",
    "For example, to get the total budget of movies made in the year 2010 or later:\n",
    "\n",
    ">SELECT SUM(budget)<br>\n",
    "FROM films<br>\n",
    "WHERE release_year >= 2010;"
   ]
  },
  {
   "cell_type": "markdown",
   "metadata": {},
   "source": [
    "**A note on arithmetic**"
   ]
  },
  {
   "cell_type": "markdown",
   "metadata": {},
   "source": [
    ">A note on arithmetic\n",
    "In addition to using aggregate functions, you can perform basic arithmetic with symbols like +, -, *, and /. So, for example, this gives a result of 12: <br>SELECT (4 * 3);<br>\n",
    "However, the following gives a result of 1:<br>SELECT (4 / 3);<br> SQL assumes that if you divide an integer by an integer, you want to get an integer back. So be careful when dividing!<br>If you want more precision when dividing, you can add decimal places to your numbers. For example,<br>SELECT (4.0 / 3.0)<br> AS result;\n",
    "gives you the result you would expect: 1.333."
   ]
  },
  {
   "cell_type": "markdown",
   "metadata": {},
   "source": [
    "### AS aliasing"
   ]
  },
  {
   "cell_type": "markdown",
   "metadata": {},
   "source": [
    "Suppose you want to get something like this:\n",
    ">SELECT MAX(budget), MAX(duration)<br>\n",
    "FROM films;"
   ]
  },
  {
   "cell_type": "markdown",
   "metadata": {},
   "source": [
    "Well, then you'd have two columns named max, which isn't very useful!\n",
    "To avoid situations like this, `SQL` allows you to do something called aliasing. Aliasing simply means you assign a temporary name to something. To alias, you use the `AS` keyword.\n",
    ">SELECT MAX(budget) AS max_budget,<br>\n",
    "       MAX(duration) AS max_duration<br>\n",
    "FROM films;"
   ]
  },
  {
   "cell_type": "code",
   "execution_count": null,
   "metadata": {},
   "outputs": [],
   "source": []
  },
  {
   "cell_type": "markdown",
   "metadata": {},
   "source": [
    "## `ORDER BY` and `GROUP BY`"
   ]
  },
  {
   "cell_type": "markdown",
   "metadata": {},
   "source": [
    "In `SQL`, the `ORDER BY` keyword is used to sort results in ascending or descending order according to the values of one or more columns.<br>\n",
    "By default `ORDER BY` will sort in ascending order. If you want to sort the results in descending order, you can use the `DESC` keyword. For example,\n",
    "\n",
    ">SELECT title<br>\n",
    "FROM films<br>\n",
    "ORDER BY release_year DESC;\n",
    "\n",
    "gives you the titles of films sorted by release year, from newest to oldest."
   ]
  },
  {
   "cell_type": "markdown",
   "metadata": {},
   "source": [
    "### Sorting multiple columns"
   ]
  },
  {
   "cell_type": "markdown",
   "metadata": {},
   "source": [
    "`ORDER BY` can also be used to sort on multiple columns. It will sort by the first column specified, then sort by the next, then the next, and so on. For example,\n",
    "\n",
    ">SELECT birthdate, name <br>\n",
    "FROM people<br>\n",
    "ORDER BY birthdate, name;<br>\n",
    "\n",
    "sorts on birth dates first (oldest to newest) and then sorts on the names in alphabetical order. The order of columns is important!"
   ]
  },
  {
   "cell_type": "markdown",
   "metadata": {},
   "source": [
    "### `GROUP BY`"
   ]
  },
  {
   "cell_type": "markdown",
   "metadata": {},
   "source": [
    "For example, you might want to count the number of male and female employees in your company. Here, what you want is to group all the males together and count them, and group all the females together and count them. In `SQL`, `GROUP BY` allows you to group a result by one or more columns, like so:\n",
    "\n",
    ">SELECT sex, count(*)<br>\n",
    "FROM employees<br>\n",
    "GROUP BY sex;\n",
    "\n",
    "Commonly, `GROUP BY` is used with aggregate functions like `COUNT()` or `MAX()`. Note that `GROUP BY` always goes after the `FROM` clause!"
   ]
  },
  {
   "cell_type": "markdown",
   "metadata": {},
   "source": [
    "Note that you can combine `GROUP BY` with `ORDER BY` to group your results, calculate something about them, and then order your results. For example,\n",
    "\n",
    ">SELECT sex, count(*)<br>\n",
    "FROM employees<br>\n",
    "GROUP BY sex<br>\n",
    "ORDER BY count DESC;\n",
    "\n",
    "Note also that `ORDER BY` always goes after `GROUP BY`. "
   ]
  },
  {
   "cell_type": "markdown",
   "metadata": {},
   "source": [
    "### `HAVING` "
   ]
  },
  {
   "cell_type": "markdown",
   "metadata": {},
   "source": [
    "In `SQL`, aggregate functions can't be used in `WHERE` clauses. For example, the following query is **invalid**:\n",
    "\n",
    ">SELECT release_year<br>\n",
    "FROM films<br>\n",
    "GROUP BY release_year<br>\n",
    "WHERE COUNT(title) > 10;\n",
    "\n",
    "This means that if you want to filter based on the result of an aggregate function, you need another way! That's where the `HAVING` clause comes in. For example,\n",
    "\n",
    ">SELECT release_year<br>\n",
    "FROM films<br>\n",
    "GROUP BY release_year<br>\n",
    "HAVING COUNT(title) > 10;\n",
    "\n",
    "shows only those years in which more than 10 films were released."
   ]
  },
  {
   "cell_type": "markdown",
   "metadata": {},
   "source": []
  }
 ],
 "metadata": {
  "language_info": {
   "name": "python"
  },
  "orig_nbformat": 4
 },
 "nbformat": 4,
 "nbformat_minor": 2
}
