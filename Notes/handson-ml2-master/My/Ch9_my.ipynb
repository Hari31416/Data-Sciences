{
 "cells": [
  {
   "cell_type": "markdown",
   "metadata": {},
   "source": [
    "## Unsupervised Learning Techniques"
   ]
  },
  {
   "cell_type": "markdown",
   "metadata": {},
   "source": [
    ">If intelligence was a cake,\n",
    "unsupervised learning would be the cake, supervised learning would be the icing on\n",
    "the cake, and reinforcement learning would be the cherry on the cake.<br>\n",
    "-Yann LeCun "
   ]
  },
  {
   "cell_type": "markdown",
   "metadata": {},
   "source": [
    "A few more unsupervised learning tasks and algorithms are:\n",
    "* Dimensionality reduction\n",
    "* Clustering\n",
    "* Anomaly detection\n",
    "* Anomaly detection"
   ]
  },
  {
   "cell_type": "markdown",
   "metadata": {},
   "source": [
    "### Clustering"
   ]
  },
  {
   "cell_type": "markdown",
   "metadata": {},
   "source": [
    "Clustering is the task of identifying similar instances\n",
    "and assigning them to clusters, i.e., groups of similar instances.<br>\n",
    "Clustering is used in a wide variety of applications, including:\n",
    "* **For customer segmentation**\n",
    "*  **For data analysis:** when analyzing a new dataset, it is often useful to first discover\n",
    "clusters of similar instances, as it is often easier to analyze clusters separately.\n",
    "* **As a dimensionality reduction technique:** Once a dataset has been clustered, it is\n",
    "usually possible to measure each instance’s affinity with each cluster (*affinity is\n",
    "any measure of how well an instance fits into a cluster*). Each instance’s feature\n",
    "vector x can then be replaced with the vector of its cluster affinities. If there are k\n",
    "clusters, then this vector is k dimensional. This is typically much lower dimen‐\n",
    "sional than the original feature vector, but it can preserve enough information for\n",
    "further processing.\n",
    "* **For anomaly detection** (also called outlier detection): any instance that has a low\n",
    "affinity to all the clusters is likely to be an anomaly.\n",
    "* **For semi-supervised learning**\n",
    "* **To segment an image**"
   ]
  },
  {
   "cell_type": "markdown",
   "metadata": {},
   "source": [
    ">There is no universal definition of what a cluster is: it really depends on the context,\n",
    "and different algorithms will capture different kinds of clusters. For example, some\n",
    "algorithms look for instances centered around a particular point, called a centroid.\n",
    "Others look for continuous regions of densely packed instances: these clusters can\n",
    "take on any shape. Some algorithms are hierarchical, looking for clusters of clusters.\n",
    "And the list goes on."
   ]
  },
  {
   "cell_type": "markdown",
   "metadata": {},
   "source": [
    "### K-Means"
   ]
  },
  {
   "cell_type": "markdown",
   "metadata": {},
   "source": [
    "The K-Means algorithm is a simple algorithm capable of clustering this\n",
    "kind of dataset very quickly and efficiently, often in just a few iterations."
   ]
  },
  {
   "cell_type": "code",
   "execution_count": 7,
   "metadata": {},
   "outputs": [],
   "source": [
    "#Creating the blobs dataset\n",
    "from sklearn.datasets import make_blobs\n",
    "blobs = make_blobs(n_samples=300, n_features=2, centers=5, cluster_std=1.0, random_state=101)\n",
    "X = blobs[0]\n",
    "y = blobs[1]"
   ]
  },
  {
   "cell_type": "code",
   "execution_count": 8,
   "metadata": {},
   "outputs": [
    {
     "data": {
      "text/plain": [
       "<matplotlib.collections.PathCollection at 0x25148ad7760>"
      ]
     },
     "execution_count": 8,
     "metadata": {},
     "output_type": "execute_result"
    },
    {
     "data": {
      "image/png": "[encoded data removed]",
      "text/plain": [
       "<Figure size 432x288 with 1 Axes>"
      ]
     },
     "metadata": {
      "needs_background": "light"
     },
     "output_type": "display_data"
    }
   ],
   "source": [
    "import matplotlib.pyplot as plt\n",
    "import seaborn as sns\n",
    "plt.scatter(blobs[0][:,0], blobs[0][:,1])"
   ]
  },
  {
   "cell_type": "markdown",
   "metadata": {},
   "source": [
    "`sklearn.cluster.KMeans` is a class that implements the K-Means algorithm."
   ]
  },
  {
   "cell_type": "markdown",
   "metadata": {},
   "source": [
    "> Before implementing K-Means, we should first normalize the data. To see the difference, we'll use both the scaled and not scaled data."
   ]
  },
  {
   "cell_type": "markdown",
   "metadata": {},
   "source": [
    "#### Not Scaled"
   ]
  },
  {
   "cell_type": "code",
   "execution_count": 39,
   "metadata": {},
   "outputs": [
    {
     "data": {
      "text/plain": [
       "KMeans(n_clusters=5, random_state=42)"
      ]
     },
     "execution_count": 39,
     "metadata": {},
     "output_type": "execute_result"
    }
   ],
   "source": [
    "from sklearn.cluster import KMeans\n",
    "clusters = 5\n",
    "kmeans = KMeans(n_clusters=clusters, random_state=42)\n",
    "kmeans.fit(X)"
   ]
  },
  {
   "cell_type": "markdown",
   "metadata": {},
   "source": [
    "Using `kmeans.labels_` gives the cluster assignment for each data point.\n",
    "The same can also be obtained via `kmeans.predict(X)`."
   ]
  },
  {
   "cell_type": "code",
   "execution_count": 20,
   "metadata": {},
   "outputs": [
    {
     "data": {
      "text/plain": [
       "True"
      ]
     },
     "execution_count": 20,
     "metadata": {},
     "output_type": "execute_result"
    }
   ],
   "source": [
    "y_pred = kmeans.predict(X)\n",
    "y_pred.shape, kmeans.labels_.shape\n",
    "y_pred in kmeans.labels_"
   ]
  },
  {
   "cell_type": "markdown",
   "metadata": {},
   "source": [
    "`kmeans.cluster_centers_` gives the cluster centers."
   ]
  },
  {
   "cell_type": "code",
   "execution_count": 21,
   "metadata": {},
   "outputs": [
    {
     "data": {
      "text/plain": [
       "array([[ 4.61127911, -6.32093457],\n",
       "       [-3.74246035,  7.71842698],\n",
       "       [-9.44831586, -6.60544142],\n",
       "       [ 3.70782111,  6.74617942],\n",
       "       [ 0.22511611,  1.68940415]])"
      ]
     },
     "execution_count": 21,
     "metadata": {},
     "output_type": "execute_result"
    }
   ],
   "source": [
    "kmeans.cluster_centers_"
   ]
  },
  {
   "cell_type": "markdown",
   "metadata": {},
   "source": [
    "Using the cluster centers, we can assign each data point to the closest cluster center."
   ]
  },
  {
   "cell_type": "code",
   "execution_count": 24,
   "metadata": {},
   "outputs": [
    {
     "data": {
      "text/plain": [
       "array([4, 3, 4, 4])"
      ]
     },
     "execution_count": 24,
     "metadata": {},
     "output_type": "execute_result"
    }
   ],
   "source": [
    "import numpy as np\n",
    "X_new = np.array([[0, 2], [8, 2], [-3, 3], [-3, 2.5]])\n",
    "kmeans.predict(X_new)"
   ]
  },
  {
   "cell_type": "code",
   "execution_count": 27,
   "metadata": {},
   "outputs": [
    {
     "data": {
      "text/plain": [
       "664.4707453596375"
      ]
     },
     "execution_count": 27,
     "metadata": {},
     "output_type": "execute_result"
    }
   ],
   "source": [
    "kmeans.inertia_"
   ]
  },
  {
   "cell_type": "markdown",
   "metadata": {},
   "source": [
    "#### Scaled"
   ]
  },
  {
   "cell_type": "code",
   "execution_count": 28,
   "metadata": {},
   "outputs": [],
   "source": [
    "from sklearn.preprocessing import StandardScaler\n",
    "scaler = StandardScaler()\n",
    "scaler.fit(X)\n",
    "X_scaled = scaler.transform(X)"
   ]
  },
  {
   "cell_type": "code",
   "execution_count": 29,
   "metadata": {},
   "outputs": [
    {
     "data": {
      "text/plain": [
       "True"
      ]
     },
     "execution_count": 29,
     "metadata": {},
     "output_type": "execute_result"
    }
   ],
   "source": [
    "clusters = 5\n",
    "kmeans2 = KMeans(n_clusters=clusters, random_state=42)\n",
    "kmeans2.fit(X_scaled)\n",
    "y_pred2 = kmeans2.predict(X_scaled)\n",
    "y_pred2 in kmeans2.labels_"
   ]
  },
  {
   "cell_type": "code",
   "execution_count": 31,
   "metadata": {},
   "outputs": [
    {
     "data": {
      "text/plain": [
       "array([4, 3, 4, 4])"
      ]
     },
     "execution_count": 31,
     "metadata": {},
     "output_type": "execute_result"
    }
   ],
   "source": [
    "X_new = np.array([[0, 2], [8, 2], [-3, 3], [-3, 2.5]])\n",
    "kmeans2.predict(scaler.transform(X_new))"
   ]
  },
  {
   "cell_type": "code",
   "execution_count": 32,
   "metadata": {},
   "outputs": [
    {
     "data": {
      "text/plain": [
       "20.550262208865124"
      ]
     },
     "execution_count": 32,
     "metadata": {},
     "output_type": "execute_result"
    }
   ],
   "source": [
    "kmeans2.inertia_"
   ]
  },
  {
   "cell_type": "markdown",
   "metadata": {},
   "source": [
    "The K-Means algorithm does not\n",
    "behave very well when the blobs have very different diameters since all it cares about\n",
    "when assigning an instance to a cluster is the distance to the centroid.\n",
    "Instead of assigning each instance to a single cluster, which is called *hard clustering*, it\n",
    "can be useful to just give each instance a score per cluster: this is called *soft clustering*."
   ]
  },
  {
   "cell_type": "markdown",
   "metadata": {},
   "source": [
    "In the KMeans class, the `transform()` method\n",
    "measures the distance from each instance to every centroid:"
   ]
  },
  {
   "cell_type": "code",
   "execution_count": 33,
   "metadata": {},
   "outputs": [
    {
     "data": {
      "text/plain": [
       "array([[ 9.51324588,  6.83420929, 12.77983938,  6.02280304,  0.3835975 ],\n",
       "       [ 8.98450785, 13.06084922, 19.45500831,  6.39914203,  7.78108536],\n",
       "       [12.03376046,  4.77648412, 11.56915219,  7.68301531,  3.4812405 ],\n",
       "       [11.65077063,  5.27097975, 11.15750155,  7.93882256,  3.32542321]])"
      ]
     },
     "execution_count": 33,
     "metadata": {},
     "output_type": "execute_result"
    }
   ],
   "source": [
    "kmeans.transform(X_new)"
   ]
  },
  {
   "cell_type": "code",
   "execution_count": 35,
   "metadata": {},
   "outputs": [
    {
     "data": {
      "text/plain": [
       "array([[1.59316656, 1.15780905, 2.25707339, 1.03444841, 0.06549364],\n",
       "       [1.47930313, 2.40241946, 3.57645121, 1.11234023, 1.4712913 ],\n",
       "       [2.07429296, 0.76896133, 1.96368941, 1.40347438, 0.64509681],\n",
       "       [2.01737663, 0.84785525, 1.90154911, 1.43956115, 0.62363504]])"
      ]
     },
     "execution_count": 35,
     "metadata": {},
     "output_type": "execute_result"
    }
   ],
   "source": [
    "kmeans2.transform(scaler.transform(X_new))"
   ]
  },
  {
   "cell_type": "markdown",
   "metadata": {},
   "source": [
    ">If you have a high-dimensional\n",
    "dataset and you transform it this way, you end up with a k-dimensional dataset: this\n",
    "can be a very efficient non-linear dimensionality reduction technique."
   ]
  },
  {
   "cell_type": "markdown",
   "metadata": {},
   "source": [
    "#### The K-Means Algorithm"
   ]
  },
  {
   "cell_type": "markdown",
   "metadata": {},
   "source": [
    "You can see the\n",
    "algorithm in action in the figure. the centroids are initialized randomly (top left),\n",
    "then the instances are labeled (top right), then the centroids are updated (center left),\n",
    "the instances are relabeled (center right), and so on. As you can see, in just 3 itera‐\n",
    "tions the algorithm has reached a clustering that seems close to optimal"
   ]
  },
  {
   "cell_type": "markdown",
   "metadata": {},
   "source": [
    "<figure>\n",
    "<figcaption><h4> The K-Means algorithm</h4></figcaption>\n",
    "<img src = \"img/09_01.png\">\n",
    "</figure>"
   ]
  },
  {
   "cell_type": "markdown",
   "metadata": {},
   "source": [
    "Unfortunately, although the algorithm is guaranteed to converge, it may not converge\n",
    "to the right solution (i.e., it may converge to a local optimum): this depends on the\n",
    "centroid initialization. This problem can be solved with some methods."
   ]
  },
  {
   "cell_type": "markdown",
   "metadata": {},
   "source": [
    "<figure>\n",
    "<figcaption><h4>The random initialization</h4></figcaption>\n",
    "<img src = \"img/09_02.png\">\n",
    "</figure>"
   ]
  },
  {
   "cell_type": "markdown",
   "metadata": {},
   "source": [
    ">The computational complexity of the algorithm is generally linear\n",
    "with regards to the number of instances m, the number of clusters\n",
    "k and the number of dimensions n. However, this is only true when\n",
    "the data has a clustering structure. If it does not, then in the worst\n",
    "case scenario the complexity can increase exponentially with the\n",
    "number of instances. In practice, however, this rarely happens, and\n",
    "K-Means is generally one of the fastest clustering algorithms."
   ]
  },
  {
   "cell_type": "markdown",
   "metadata": {},
   "source": [
    "#### Centroid Initialization Methods"
   ]
  },
  {
   "cell_type": "markdown",
   "metadata": {},
   "source": [
    "If you happen to know approximately where the centroids should be (e.g., if you ran\n",
    "another clustering algorithm earlier), then you can set the `init` hyperparameter to a\n",
    "NumPy array containing the list of centroids, and set `n_init` to 1:"
   ]
  },
  {
   "cell_type": "code",
   "execution_count": 36,
   "metadata": {},
   "outputs": [],
   "source": [
    "good_init = np.array([[-3, 3], [-3, 2], [-3, 1], [-1, 2], [0, 2]])\n",
    "kmeans = KMeans(n_clusters=5, init=good_init, n_init=1)"
   ]
  },
  {
   "cell_type": "markdown",
   "metadata": {},
   "source": [
    "Another solution is to run the algorithm multiple times with different random initial‐\n",
    "izations and keep the best solution. This is controlled by the `n_init` hyperparameter:\n",
    "by default, it is equal to 10, which means that the whole algorithm described earlier\n",
    "actually runs 10 times when you call `fit()`, and Scikit-Learn keeps the best solution."
   ]
  },
  {
   "cell_type": "markdown",
   "metadata": {},
   "source": [
    ">An important improvement to the K-Means algorithm is called K-Means++. This algorithm uses a\n",
    "smarter initialization step that tends to select centroids that are distant from one\n",
    "another, and this makes the K-Means algorithm much less likely to converge to a suboptimal solution."
   ]
  },
  {
   "cell_type": "markdown",
   "metadata": {},
   "source": [
    "The `KMeans` class actually uses this initialization method by default. If you want to\n",
    "force it to use the original method (i.e., picking k instances randomly to define the\n",
    "initial centroids), then you can set the `init` hyperparameter to \"random\". "
   ]
  },
  {
   "cell_type": "markdown",
   "metadata": {},
   "source": [
    ">"
   ]
  },
  {
   "cell_type": "markdown",
   "metadata": {},
   "source": [
    "#### Accelerated K-Means and Mini-batch K-Means"
   ]
  },
  {
   "cell_type": "markdown",
   "metadata": {},
   "source": [
    "Another important improvement to the K-Means algorithm was proposed in a 2003. It considerably accelerates the algorithm by avoiding many\n",
    "unnecessary distance calculations. This is the algorithm\n",
    "used by default by the KMeans class (but you can force it to use the original algorithm\n",
    "by setting the algorithm hyperparameter to \"full\"."
   ]
  },
  {
   "cell_type": "markdown",
   "metadata": {},
   "source": [
    "Yet another important variant of the K-Means algorithm was proposed in a 2010. Instead of using the full dataset at each iteration, the algo‐\n",
    "rithm is capable of using mini-batches, moving the centroids just slightly at each iter‐\n",
    "ation. This speeds up the algorithm typically by a factor of 3 or 4 and makes it\n",
    "possible to cluster huge datasets that do not fit in memory. Scikit-Learn implements\n",
    "this algorithm in the `MiniBatchKMeans` class. "
   ]
  },
  {
   "cell_type": "code",
   "execution_count": 37,
   "metadata": {},
   "outputs": [
    {
     "data": {
      "text/plain": [
       "MiniBatchKMeans(n_clusters=5)"
      ]
     },
     "execution_count": 37,
     "metadata": {},
     "output_type": "execute_result"
    }
   ],
   "source": [
    "from sklearn.cluster import MiniBatchKMeans\n",
    "minibatch_kmeans = MiniBatchKMeans(n_clusters=5)\n",
    "minibatch_kmeans.fit(X)"
   ]
  },
  {
   "cell_type": "markdown",
   "metadata": {},
   "source": [
    "Although the Mini-batch K-Means algorithm is much faster than the regular KMeans algorithm, its inertia is generally slightly worse, especially as the number of\n",
    "clusters increases."
   ]
  },
  {
   "cell_type": "markdown",
   "metadata": {},
   "source": [
    "<figure>\n",
    "<figcaption><h4>Mini-batch K-Means vs K-Means</h4></figcaption>\n",
    "<img src = \"img/09_03.png\">\n",
    "</figure>"
   ]
  },
  {
   "cell_type": "markdown",
   "metadata": {},
   "source": [
    "#### Finding the Optimal Number of Clusters"
   ]
  },
  {
   "cell_type": "markdown",
   "metadata": {},
   "source": [
    "Finding the optimal number of clusters is not very apparent. The\n",
    "inertia is not a good performance metric when trying to choose k since it keeps get‐\n",
    "ting lower as we increase k. Indeed, the more clusters there are, the closer each\n",
    "instance will be to its closest centroid, and therefore the lower the inertia will be. However, a plot between inertia tensor and the number of cluster gives us a way to find the optimal number of clusters."
   ]
  },
  {
   "cell_type": "markdown",
   "metadata": {},
   "source": [
    "<figure>\n",
    "<figcaption><h4>Selecting the number of clusters k using the “elbow rule”</h4></figcaption>\n",
    "<img src = \"img/09_04.png\">\n",
    "</figure>"
   ]
  },
  {
   "cell_type": "markdown",
   "metadata": {},
   "source": [
    "As you can see, the inertia drops very quickly as we increase k up to 4, but then it\n",
    "decreases much more slowly as we keep increasing k. This curve has roughly the\n",
    "shape of an arm, and there is an “elbow” at k=4 so if we did not know better, it would\n",
    "be a good choice."
   ]
  },
  {
   "cell_type": "code",
   "execution_count": 59,
   "metadata": {},
   "outputs": [
    {
     "data": {
      "image/png": "[encoded data removed]",
      "text/plain": [
       "<Figure size 576x432 with 1 Axes>"
      ]
     },
     "metadata": {
      "needs_background": "light"
     },
     "output_type": "display_data"
    }
   ],
   "source": [
    "inertia = []\n",
    "for i in range(1, 11):\n",
    "    kmeans = KMeans(n_clusters=i, random_state=42)\n",
    "    kmeans.fit(X)\n",
    "    inertia.append(kmeans.inertia_)\n",
    "\n",
    "plt.figure(figsize=(8,6))\n",
    "plt.plot(range(1, 11), inertia)\n",
    "plt.xlabel(\"Number of clusters\")\n",
    "plt.ylabel(\"Inertia\")\n",
    "plt.title(\"Number of clusters vs inertia\");"
   ]
  },
  {
   "cell_type": "markdown",
   "metadata": {},
   "source": [
    "Here, we can easily see that k=5 is the knee point."
   ]
  },
  {
   "cell_type": "markdown",
   "metadata": {},
   "source": [
    "A more precise approach (but also more computationally expensive) is to use the `silhouette` score, which is the mean silhouette coefficient over all the instances. An instance’s silhouette coefficient is equal to $(b – a) / max(a, b)$ where a is the mean distance\n",
    "to the other instances in the same cluster (it is the mean intra-cluster distance), and b\n",
    "is the mean nearest-cluster distance, that is the mean distance to the instances of the\n",
    "next closest cluster (defined as the one that minimizes b, excluding the instance’s own\n",
    "cluster). The silhouette coefficient can vary between -1 and +1: a coefficient close to\n",
    "+1 means that the instance is well inside its own cluster and far from other clusters,\n",
    "while a coefficient close to 0 means that it is close to a cluster boundary, and finally a\n",
    "coefficient close to -1 means that the instance may have been assigned to the wrong\n",
    "cluster. To compute the silhouette score, you can use Scikit-Learn’s `silhouette_score()` function, giving it all the instances in the dataset, and the labels they\n",
    "were assigned:"
   ]
  },
  {
   "cell_type": "code",
   "execution_count": 40,
   "metadata": {},
   "outputs": [
    {
     "data": {
      "text/plain": [
       "0.7485313091025142"
      ]
     },
     "execution_count": 40,
     "metadata": {},
     "output_type": "execute_result"
    }
   ],
   "source": [
    "from sklearn.metrics import silhouette_score\n",
    "silhouette_score(X, kmeans.labels_)"
   ]
  },
  {
   "cell_type": "markdown",
   "metadata": {},
   "source": [
    "Let's plot the silhouette_score with number of clusters/"
   ]
  },
  {
   "cell_type": "code",
   "execution_count": 57,
   "metadata": {},
   "outputs": [
    {
     "data": {
      "image/png": "[encoded data removed]",
      "text/plain": [
       "<Figure size 576x432 with 1 Axes>"
      ]
     },
     "metadata": {
      "needs_background": "light"
     },
     "output_type": "display_data"
    }
   ],
   "source": [
    "sil_score = []\n",
    "for i in range(2, 11):\n",
    "    kmeans = KMeans(n_clusters=i, random_state=42)\n",
    "    kmeans.fit(X)\n",
    "    sil_score.append(silhouette_score(X, kmeans.labels_))\n",
    "\n",
    "plt.figure(figsize=(8,6))\n",
    "plt.plot(range(2, 11), sil_score)\n",
    "plt.scatter(np.argmax(sil_score)+2, max(sil_score), color = 'red', s=50, label=\"The maximum value\")\n",
    "plt.xlabel(\"Numbers of Clusters\")\n",
    "plt.ylabel(\"Silhouette Score\")\n",
    "plt.title(\"Number of Clusters Vs Silhouette Score\")\n",
    "plt.legend();"
   ]
  },
  {
   "cell_type": "markdown",
   "metadata": {},
   "source": [
    "This gives much more definite answer about the numbers of cluster. As can be seen, k=5 gives the maximum score, so, numbers of clusters should be 5."
   ]
  },
  {
   "cell_type": "markdown",
   "metadata": {},
   "source": [
    "An even more informative visualization is obtained when you plot every instance’s\n",
    "silhouette coefficient, sorted by the cluster they are assigned to and by the value of the\n",
    "coefficient. This is called a silhouette diagram."
   ]
  },
  {
   "cell_type": "markdown",
   "metadata": {},
   "source": [
    "<figure>\n",
    "<figcaption><h4>Silouhette analysis: comparing the silhouette diagrams for various values of\n",
    "k</h4></figcaption>\n",
    "<img src = \"img/09_05.png\">\n",
    "</figure>"
   ]
  },
  {
   "cell_type": "markdown",
   "metadata": {},
   "source": [
    ">If many of the instances stop short of the dashed line, ending to the left of it), then the\n",
    "cluster is rather bad since this means its instances are much too close to other clusters."
   ]
  },
  {
   "cell_type": "markdown",
   "metadata": {},
   "source": [
    "#### Limits of K-Means"
   ]
  },
  {
   "cell_type": "markdown",
   "metadata": {},
   "source": [
    "It is necessary to run the algorithm several times to avoid sub-optimal sol‐\n",
    "utions, plus you need to specify the number of clusters, which can be quite a hassle.\n",
    "Moreover, K-Means does not behave very well when the clusters have varying sizes,\n",
    "different densities, or non-spherical shapes. For example, Figure shows how KMeans clusters a dataset containing three ellipsoidal clusters of different dimensions,\n",
    "densities and orientations:"
   ]
  },
  {
   "cell_type": "markdown",
   "metadata": {},
   "source": [
    "<figure>\n",
    "<figcaption><h4>K-Means fails to cluster these ellipsoidal blobs properly</h4></figcaption>\n",
    "<img src = \"img/09_06.png\">\n",
    "</figure>"
   ]
  },
  {
   "cell_type": "markdown",
   "metadata": {},
   "source": [
    ">It is important to scale the input features before you run K-Means,\n",
    "or else the clusters may be very stretched, and K-Means will per‐\n",
    "form poorly. Scaling the features does not guarantee that all the\n",
    "clusters will be nice and spherical, but it generally improves things."
   ]
  },
  {
   "cell_type": "markdown",
   "metadata": {},
   "source": [
    "Depending on the data, different clustering algorithms may perform better. For exam‐\n",
    "ple, on these types of elliptical clusters, Gaussian mixture models work great."
   ]
  },
  {
   "cell_type": "markdown",
   "metadata": {},
   "source": [
    "### Some Examples of Uses of Clustering Algorithms"
   ]
  },
  {
   "cell_type": "markdown",
   "metadata": {},
   "source": [
    "#### Using clustering for image segmentation"
   ]
  },
  {
   "cell_type": "markdown",
   "metadata": {},
   "source": [
    "Image segmentation is the task of partitioning an image into multiple segments. In\n",
    "semantic segmentation, all pixels that are part of the same object type get assigned to\n",
    "the same segment. For example, in a self-driving car’s vision system, all pixels that are\n",
    "part of a pedestrian’s image might be assigned to the “pedestrian” segment"
   ]
  },
  {
   "cell_type": "code",
   "execution_count": 66,
   "metadata": {},
   "outputs": [
    {
     "data": {
      "text/plain": [
       "(5568, 3616, 3)"
      ]
     },
     "execution_count": 66,
     "metadata": {},
     "output_type": "execute_result"
    }
   ],
   "source": [
    "from matplotlib.image import imread\n",
    "image = imread(\"img/flowers.jpg\")\n",
    "image.shape"
   ]
  },
  {
   "cell_type": "code",
   "execution_count": 79,
   "metadata": {},
   "outputs": [],
   "source": [
    "from PIL import Image\n",
    "img = Image.open(\"img/flowers.jpg\")\n",
    "img_resized = img.resize((1000, np.int(1000*5568/3616)), Image.ANTIALIAS)"
   ]
  },
  {
   "cell_type": "code",
   "execution_count": 81,
   "metadata": {},
   "outputs": [],
   "source": [
    "img_resized.save('img/flowers_low.jpg')"
   ]
  },
  {
   "cell_type": "code",
   "execution_count": 82,
   "metadata": {},
   "outputs": [
    {
     "data": {
      "text/plain": [
       "(1539, 1000, 3)"
      ]
     },
     "execution_count": 82,
     "metadata": {},
     "output_type": "execute_result"
    }
   ],
   "source": [
    "image = imread(\"img/flowers_low.jpg\")\n",
    "image.shape"
   ]
  },
  {
   "cell_type": "markdown",
   "metadata": {},
   "source": [
    "The following code reshapes the array to get a\n",
    "long list of RGB colors, then it clusters these colors using `K-Means`. For example, it\n",
    "may identify a color cluster for all shades of green. Next, for each color (e.g., dark\n",
    "green), it looks for the mean color of the pixel’s color cluster. For example, all shades\n",
    "of green may be replaced with the same light green color (assuming the mean color of\n",
    "the green cluster is light green). Finally it reshapes this long list of colors to get the\n",
    "same shape as the original image. "
   ]
  },
  {
   "cell_type": "code",
   "execution_count": 92,
   "metadata": {},
   "outputs": [],
   "source": [
    "def image_knn(n):\n",
    "    X = image.reshape(-1, 3)\n",
    "    kmeans = KMeans(n_clusters=n).fit(X)\n",
    "    segmented_img = kmeans.cluster_centers_[kmeans.labels_]\n",
    "    segmented_img = segmented_img.reshape(image.shape)\n",
    "    return segmented_img\n"
   ]
  },
  {
   "cell_type": "code",
   "execution_count": 95,
   "metadata": {},
   "outputs": [
    {
     "data": {
      "image/png": "[encoded data removed]",
      "text/plain": [
       "<Figure size 432x288 with 1 Axes>"
      ]
     },
     "metadata": {
      "needs_background": "light"
     },
     "output_type": "display_data"
    }
   ],
   "source": [
    "plt.imshow(image_knn(4).astype('uint8'))\n",
    "plt.title(\"4 Colors\");"
   ]
  },
  {
   "cell_type": "code",
   "execution_count": 96,
   "metadata": {},
   "outputs": [
    {
     "data": {
      "image/png": "[encoded data removed]",
      "text/plain": [
       "<Figure size 432x288 with 1 Axes>"
      ]
     },
     "metadata": {
      "needs_background": "light"
     },
     "output_type": "display_data"
    }
   ],
   "source": [
    "plt.imshow(image_knn(8).astype('uint8'))\n",
    "plt.title(\"8 Colors\");"
   ]
  },
  {
   "cell_type": "code",
   "execution_count": 97,
   "metadata": {},
   "outputs": [
    {
     "data": {
      "text/plain": [
       "Text(0.5, 1.0, '12 Colors')"
      ]
     },
     "execution_count": 97,
     "metadata": {},
     "output_type": "execute_result"
    },
    {
     "data": {
      "image/png": "[encoded data removed]",
      "text/plain": [
       "<Figure size 432x288 with 1 Axes>"
      ]
     },
     "metadata": {
      "needs_background": "light"
     },
     "output_type": "display_data"
    }
   ],
   "source": [
    "plt.imshow(image_knn(12).astype('uint8'))\n",
    "plt.title(\"12 Colors\")"
   ]
  },
  {
   "cell_type": "code",
   "execution_count": 98,
   "metadata": {},
   "outputs": [
    {
     "data": {
      "text/plain": [
       "Text(0.5, 1.0, '16 Colors')"
      ]
     },
     "execution_count": 98,
     "metadata": {},
     "output_type": "execute_result"
    },
    {
     "data": {
      "image/png": "[encoded data removed]",
      "text/plain": [
       "<Figure size 432x288 with 1 Axes>"
      ]
     },
     "metadata": {
      "needs_background": "light"
     },
     "output_type": "display_data"
    }
   ],
   "source": [
    "plt.imshow(image_knn(16).astype('uint8'))\n",
    "plt.title(\"16 Colors\")"
   ]
  },
  {
   "cell_type": "markdown",
   "metadata": {},
   "source": [
    "#### Using Clustering for Preprocessing"
   ]
  },
  {
   "cell_type": "markdown",
   "metadata": {},
   "source": [
    "Clustering can be an efficient approach to dimensionality reduction, in particular as a\n",
    "preprocessing step before a supervised learning algorithm. "
   ]
  },
  {
   "cell_type": "code",
   "execution_count": 102,
   "metadata": {},
   "outputs": [],
   "source": [
    "from sklearn.datasets import load_digits\n",
    "X_digits, y_digits = load_digits(return_X_y=True)\n",
    "\n",
    "from sklearn.model_selection import train_test_split\n",
    "X_train, X_test, y_train, y_test = train_test_split(X_digits, y_digits)"
   ]
  },
  {
   "cell_type": "code",
   "execution_count": 101,
   "metadata": {},
   "outputs": [
    {
     "data": {
      "text/plain": [
       "0.9644444444444444"
      ]
     },
     "execution_count": 101,
     "metadata": {},
     "output_type": "execute_result"
    }
   ],
   "source": [
    "from sklearn.linear_model import LogisticRegression\n",
    "log_reg = LogisticRegression(random_state=42, max_iter=10000)\n",
    "log_reg.fit(X_train, y_train)\n",
    "\n",
    "log_reg.score(X_test, y_test)"
   ]
  },
  {
   "cell_type": "markdown",
   "metadata": {},
   "source": [
    "It seems that the logistic regressor, by itself is 96% accurate. Let's see if we can increase the score."
   ]
  },
  {
   "cell_type": "markdown",
   "metadata": {},
   "source": [
    "We will create a pipeline that will first cluster the\n",
    "training set into 50 clusters and replace the images with their distances to these 50\n",
    "clusters, then apply a logistic regression model."
   ]
  },
  {
   "cell_type": "markdown",
   "metadata": {},
   "source": [
    ">Although it seems reasonable to define the number of clusters to 10,\n",
    "since there are 10 different digits, it is unlikely to perform well,\n",
    "because there are several different ways to write each digit."
   ]
  },
  {
   "cell_type": "code",
   "execution_count": 116,
   "metadata": {},
   "outputs": [
    {
     "data": {
      "text/plain": [
       "Pipeline(steps=[('kmeans', KMeans(n_clusters=50)),\n",
       "                ('log_reg', LogisticRegression(max_iter=10000))])"
      ]
     },
     "execution_count": 116,
     "metadata": {},
     "output_type": "execute_result"
    }
   ],
   "source": [
    "from sklearn.pipeline import Pipeline\n",
    "pipeline = Pipeline([\n",
    "(\"kmeans\", KMeans(n_clusters=50)),\n",
    "(\"log_reg\", LogisticRegression(max_iter=10000)),\n",
    "])\n",
    "pipeline.fit(X_train, y_train)"
   ]
  },
  {
   "cell_type": "code",
   "execution_count": 105,
   "metadata": {},
   "outputs": [
    {
     "data": {
      "text/plain": [
       "0.9733333333333334"
      ]
     },
     "execution_count": 105,
     "metadata": {},
     "output_type": "execute_result"
    }
   ],
   "source": [
    "pipeline.score(X_test, y_test)"
   ]
  },
  {
   "cell_type": "markdown",
   "metadata": {},
   "source": [
    "Okay, we are getting a boost of 1%! ):"
   ]
  },
  {
   "cell_type": "markdown",
   "metadata": {},
   "source": [
    "But we chose the number of clusters k completely arbitrarily, we can surely do better.\n",
    "Since K-Means is just a preprocessing step in a classification pipeline, finding a good\n",
    "value for k is much simpler than earlier: there’s no need to perform silhouette analysis\n",
    "or minimize the inertia, the best value of k is simply the one that results in the best\n",
    "classification performance during cross-validation. Let’s use `GridSearchCV` to find the\n",
    "optimal number of clusters."
   ]
  },
  {
   "cell_type": "code",
   "execution_count": 120,
   "metadata": {},
   "outputs": [
    {
     "name": "stdout",
     "output_type": "stream",
     "text": [
      "Fitting 3 folds for each of 30 candidates, totalling 90 fits\n"
     ]
    },
    {
     "name": "stderr",
     "output_type": "stream",
     "text": [
      "[Parallel(n_jobs=6)]: Using backend LokyBackend with 6 concurrent workers.\n",
      "[Parallel(n_jobs=6)]: Done  29 tasks      | elapsed:  1.3min\n",
      "[Parallel(n_jobs=6)]: Done  90 out of  90 | elapsed:  4.0min finished\n"
     ]
    },
    {
     "data": {
      "text/plain": [
       "GridSearchCV(cv=3,\n",
       "             estimator=Pipeline(steps=[('kmeans', KMeans(n_clusters=50)),\n",
       "                                       ('log_reg',\n",
       "                                        LogisticRegression(max_iter=10000))]),\n",
       "             n_jobs=6, param_grid={'kmeans__n_clusters': range(40, 100, 2)},\n",
       "             verbose=2)"
      ]
     },
     "execution_count": 120,
     "metadata": {},
     "output_type": "execute_result"
    }
   ],
   "source": [
    "from sklearn.model_selection import GridSearchCV\n",
    "param_grid = dict(kmeans__n_clusters=range(40, 100,2))\n",
    "grid_clf = GridSearchCV(pipeline, param_grid, cv=3, verbose=2, n_jobs=6)\n",
    "grid_clf.fit(X_train, y_train)"
   ]
  },
  {
   "cell_type": "code",
   "execution_count": 124,
   "metadata": {},
   "outputs": [
    {
     "data": {
      "text/plain": [
       "Pipeline(steps=[('kmeans', KMeans(n_clusters=84)),\n",
       "                ('log_reg', LogisticRegression(max_iter=10000))])"
      ]
     },
     "execution_count": 124,
     "metadata": {},
     "output_type": "execute_result"
    }
   ],
   "source": [
    "grid_clf.best_estimator_"
   ]
  },
  {
   "cell_type": "code",
   "execution_count": 128,
   "metadata": {},
   "outputs": [
    {
     "data": {
      "text/plain": [
       "0.9777777777777777"
      ]
     },
     "execution_count": 128,
     "metadata": {},
     "output_type": "execute_result"
    }
   ],
   "source": [
    "grid_clf.score(X_test, y_test)"
   ]
  },
  {
   "cell_type": "markdown",
   "metadata": {},
   "source": [
    "Hmm! 0.4% of boost! Not much but still."
   ]
  },
  {
   "cell_type": "markdown",
   "metadata": {},
   "source": [
    "#### Using Clustering for Semi-Supervised Learning"
   ]
  },
  {
   "cell_type": "markdown",
   "metadata": {},
   "source": [
    "Another use case for clustering is in semi-supervised learning, when we have plenty\n",
    "of unlabeled instances and very few labeled instances. Let’s train a logistic regression\n",
    "model on a sample of 50 labeled instances from the digits dataset"
   ]
  },
  {
   "cell_type": "code",
   "execution_count": 131,
   "metadata": {},
   "outputs": [
    {
     "data": {
      "text/plain": [
       "LogisticRegression(max_iter=1000)"
      ]
     },
     "execution_count": 131,
     "metadata": {},
     "output_type": "execute_result"
    }
   ],
   "source": [
    "n_labeled = 50\n",
    "log_reg = LogisticRegression( max_iter =1000)\n",
    "log_reg.fit(X_train[:n_labeled], y_train[:n_labeled])"
   ]
  },
  {
   "cell_type": "markdown",
   "metadata": {},
   "source": [
    "Seeing the fact that the above model is trained just on 50 instances, the score is pretty good.\n",
    "<br>\n",
    "Let’s see how we can do\n",
    "better. First, let’s cluster the training set into 50 clusters, then for each cluster let’s find\n",
    "the image closest to the centroid. We will call these images the representative images:"
   ]
  },
  {
   "cell_type": "code",
   "execution_count": 133,
   "metadata": {},
   "outputs": [],
   "source": [
    "k = 50\n",
    "kmeans = KMeans(n_clusters=k)\n",
    "X_digits_dist = kmeans.fit_transform(X_train)\n",
    "representative_digit_idx = np.argmin(X_digits_dist, axis=0)\n",
    "X_representative_digits = X_train[representative_digit_idx]"
   ]
  },
  {
   "cell_type": "markdown",
   "metadata": {},
   "source": [
    "Next step would be to label each of them."
   ]
  },
  {
   "cell_type": "code",
   "execution_count": 143,
   "metadata": {},
   "outputs": [],
   "source": [
    "representative_digit_idx = y_train[representative_digit_idx]"
   ]
  },
  {
   "cell_type": "code",
   "execution_count": 194,
   "metadata": {},
   "outputs": [
    {
     "data": {
      "image/png": "[encoded data removed]",
      "text/plain": [
       "<Figure size 1080x576 with 50 Axes>"
      ]
     },
     "metadata": {
      "needs_background": "light"
     },
     "output_type": "display_data"
    }
   ],
   "source": [
    "X_images = X_representative_digits.reshape(5,10,64)\n",
    "X_label = representative_digit_idx.reshape(5,10)\n",
    "\n",
    "fig, axes = plt.subplots(5, 10, figsize = (15,8))\n",
    "for i in range(5):\n",
    "    for j in range(10):\n",
    "        axes[i][j].imshow(X_images[i][j].reshape((8,8)), cmap='gray')\n",
    "        axes[i][j].set_title(X_label[i][j])\n",
    "        axes[i][j].axis(\"off\");"
   ]
  },
  {
   "cell_type": "markdown",
   "metadata": {},
   "source": [
    "Now we have a dataset with just 50 labeled instances, but instead of being completely\n",
    "random instances, each of them is a representative image of its cluster. Let’s see if the\n",
    "performance is any better:"
   ]
  },
  {
   "cell_type": "code",
   "execution_count": 198,
   "metadata": {},
   "outputs": [
    {
     "data": {
      "text/plain": [
       "0.9244444444444444"
      ]
     },
     "execution_count": 198,
     "metadata": {},
     "output_type": "execute_result"
    }
   ],
   "source": [
    "log_reg = LogisticRegression(max_iter=10000)\n",
    "log_reg.fit(X_representative_digits, representative_digit_idx)\n",
    "log_reg.score(X_test, y_test)"
   ]
  },
  {
   "cell_type": "markdown",
   "metadata": {},
   "source": [
    "Great! Accuracy incresed to 92.4%, although we are still only training\n",
    "the model on 50 instances. Since it is often costly and painful to label instances, especially when it has to be done manually by experts, it is a good idea to label representative instances rather than just random instances.\n",
    "<br>But perhaps we can go one step further: what if we propagated the labels to all the\n",
    "other instances in the same cluster? This is called label propagation:"
   ]
  },
  {
   "cell_type": "code",
   "execution_count": 199,
   "metadata": {},
   "outputs": [],
   "source": [
    "y_train_propagated = np.empty(len(X_train), dtype=np.int32)\n",
    "for i in range(k):\n",
    "    y_train_propagated[kmeans.labels_==i] = representative_digit_idx[i]"
   ]
  },
  {
   "cell_type": "code",
   "execution_count": 201,
   "metadata": {},
   "outputs": [
    {
     "data": {
      "text/plain": [
       "0.94"
      ]
     },
     "execution_count": 201,
     "metadata": {},
     "output_type": "execute_result"
    }
   ],
   "source": [
    "log_reg = LogisticRegression(max_iter=10000)\n",
    "log_reg.fit(X_train, y_train_propagated)\n",
    "log_reg.score(X_test, y_test)"
   ]
  },
  {
   "cell_type": "markdown",
   "metadata": {},
   "source": [
    "Hurray! An accuracy 0f 94%. We can still do better. The\n",
    "problem is that we propagated each representative instance’s label to all the instances\n",
    "in the same cluster, including the instances located close to the cluster boundaries,\n",
    "which are more likely to be mislabeled. Let’s see what happens if we only propagate\n",
    "the labels to the 20% of the instances that are closest to the centroids:"
   ]
  },
  {
   "cell_type": "code",
   "execution_count": 205,
   "metadata": {},
   "outputs": [],
   "source": [
    "percentile_closest = 40\n",
    "X_cluster_dist = X_digits_dist[np.arange(len(X_train)), kmeans.labels_]\n",
    "for i in range(k):\n",
    "    in_cluster = (kmeans.labels_ == i)\n",
    "    cluster_dist = X_cluster_dist[in_cluster]\n",
    "    cutoff_distance = np.percentile(cluster_dist, percentile_closest)\n",
    "    above_cutoff = (X_cluster_dist > cutoff_distance)\n",
    "    X_cluster_dist[in_cluster & above_cutoff] = -1\n",
    "partially_propagated = (X_cluster_dist != -1)\n",
    "X_train_partially_propagated = X_train[partially_propagated]\n",
    "y_train_partially_propagated = y_train_propagated[partially_propagated]"
   ]
  },
  {
   "cell_type": "code",
   "execution_count": 206,
   "metadata": {},
   "outputs": [
    {
     "data": {
      "text/plain": [
       "0.9288888888888889"
      ]
     },
     "execution_count": 206,
     "metadata": {},
     "output_type": "execute_result"
    }
   ],
   "source": [
    "log_reg = LogisticRegression(max_iter=10000)\n",
    "log_reg.fit(X_train_partially_propagated, y_train_partially_propagated)\n",
    "log_reg.score(X_test, y_test)"
   ]
  },
  {
   "cell_type": "markdown",
   "metadata": {},
   "source": [
    "Oops! It did worse! Still, with just 50 labeled instances (only 5 examples per class on average!), we got\n",
    "94% performance, which is pretty close to the performance of logistic regression on\n",
    "the fully labeled digits dataset (which was 96.4%). This is because the propagated\n",
    "labels are actually pretty good, their accuracy is very close to 98.5%:"
   ]
  },
  {
   "cell_type": "code",
   "execution_count": 207,
   "metadata": {},
   "outputs": [
    {
     "data": {
      "text/plain": [
       "0.9854014598540146"
      ]
     },
     "execution_count": 207,
     "metadata": {},
     "output_type": "execute_result"
    }
   ],
   "source": [
    "np.mean(y_train_partially_propagated == y_train[partially_propagated])"
   ]
  },
  {
   "cell_type": "markdown",
   "metadata": {},
   "source": [
    ">#### Active Learning"
   ]
  },
  {
   "cell_type": "markdown",
   "metadata": {},
   "source": []
  }
 ],
 "metadata": {
  "interpreter": {
   "hash": "ce44b17c45080b8f56a19c9450d52461d624c968fcd959bb1916985c5ffa2b94"
  },
  "kernelspec": {
   "display_name": "Python 3.8.5 64-bit ('base': conda)",
   "language": "python",
   "name": "python3"
  },
  "language_info": {
   "codemirror_mode": {
    "name": "ipython",
    "version": 3
   },
   "file_extension": ".py",
   "mimetype": "text/x-python",
   "name": "python",
   "nbconvert_exporter": "python",
   "pygments_lexer": "ipython3",
   "version": "3.8.5"
  },
  "orig_nbformat": 4
 },
 "nbformat": 4,
 "nbformat_minor": 2
}
