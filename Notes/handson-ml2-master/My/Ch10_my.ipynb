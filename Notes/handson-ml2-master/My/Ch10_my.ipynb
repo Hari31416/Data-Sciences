{
 "cells": [
  {
   "cell_type": "markdown",
   "metadata": {},
   "source": [
    "## Introduction to Artificial Neural Networks"
   ]
  },
  {
   "cell_type": "markdown",
   "metadata": {},
   "source": [
    ">Birds inspired us to fly, burdock plants inspired velcro, and countless more inven‐\n",
    "tions were inspired by nature. It seems only logical, then, to look at the brain’s archi‐\n",
    "tecture for inspiration on how to build an intelligent machine. This is the key idea\n",
    "that sparked artificial neural networks (ANNs)."
   ]
  },
  {
   "cell_type": "code",
   "execution_count": 8,
   "metadata": {},
   "outputs": [],
   "source": [
    "import pandas as pd\n",
    "import numpy as np\n",
    "import matplotlib.pyplot as plt\n",
    "import matplotlib as mlt\n",
    "import seaborn as sns"
   ]
  },
  {
   "cell_type": "markdown",
   "metadata": {},
   "source": [
    "### From Biological to Artificial Neurons"
   ]
  },
  {
   "cell_type": "markdown",
   "metadata": {},
   "source": [
    "ANNs have been around for quite a while. But everytime it enetred an era of long winter. We are now witnessing yet another wave of interest in ANNs. However, there a few good reasons to believe that\n",
    "this wave is different and that it will have a much more profound impact on our lives. Such as:\n",
    "* Large amounts of data\n",
    "* Increase in computational power\n",
    "* New training algorithms\n",
    "* Some theoretical limitations of ANNs have turned out to be benign in practice.\n",
    "For example, many people thought that ANN training algorithms were doomed\n",
    "because they were likely to get stuck in local optima, but it turns out that this is\n",
    "rather rare in practice (or when it is the case, they are usually fairly close to the\n",
    "global optimum)."
   ]
  },
  {
   "cell_type": "markdown",
   "metadata": {},
   "source": [
    "#### Biological Neurons and Logical Computation with Neurons"
   ]
  },
  {
   "cell_type": "markdown",
   "metadata": {},
   "source": [
    "<figure>\n",
    "<figcaption><h4>Biological neuron</h4></figcaption>\n",
    "<img src = \"img/10_01.png\">\n",
    "</figure>"
   ]
  },
  {
   "cell_type": "markdown",
   "metadata": {},
   "source": [
    "Warren McCulloch and Walter Pitts proposed a very simple model of the biological\n",
    "neuron, which later became known as an artificial neuron: it has one or more binary\n",
    "(on/off) inputs and one binary output. The artificial neuron simply activates its out‐\n",
    "put when more than a certain number of its inputs are active. McCulloch and Pitts\n",
    "showed that even with such a simplified model it is possible to build a network of\n",
    "artificial neurons that computes any logical proposition you want. "
   ]
  },
  {
   "cell_type": "markdown",
   "metadata": {},
   "source": [
    "<figure>\n",
    "<figcaption><h4>ANNs performing simple logical computations</h4></figcaption>\n",
    "<img src = \"img/10_02.png\">\n",
    "</figure>"
   ]
  },
  {
   "cell_type": "markdown",
   "metadata": {},
   "source": [
    "The working of first three networks is obvoius. The fourth network, on the other hand, computes a\n",
    "slightly more complex logical proposition: neuron C is activated only if neuron A\n",
    "is active and if neuron B is off. If neuron A is active all the time, then you get a\n",
    "logical NOT: neuron C is active when neuron B is off, and vice versa."
   ]
  },
  {
   "cell_type": "markdown",
   "metadata": {},
   "source": [
    "#### The Perceptron"
   ]
  },
  {
   "cell_type": "markdown",
   "metadata": {},
   "source": [
    "The Perceptron is one of the simplest ANN architectures, invented in 1957 by Frank\n",
    "Rosenblatt. It is based on a slightly different artificial neuron called a threshold logic unit (TLU), or sometimes a linear threshold unit (LTU): the inputs\n",
    "and output are now numbers (instead of binary on/off values) and each input con‐\n",
    "nection is associated with a weight. The TLU computes a weighted sum of its inputs\n",
    "($z = w_1 x_1 + w_2 x_2 + ⋯ + w_n x_n = \\mathbf{x}^T\\mathbf{w}$), then applies a step function to that sum and\n",
    "outputs the result: $h_w(\\mathbf{x}) = step(z)$, where $\\mathbf{x}^T\\mathbf{w}$."
   ]
  },
  {
   "cell_type": "markdown",
   "metadata": {},
   "source": [
    "<figure>\n",
    "<figcaption><h4>Threshold logic unit</h4></figcaption>\n",
    "<img src = \"img/10_03.png\">\n",
    "</figure>"
   ]
  },
  {
   "cell_type": "markdown",
   "metadata": {},
   "source": [
    "The most common step function used in Perceptrons is the Heaviside step function or sign function. It is defined as:\n",
    "$$h_w(z) = \\begin{cases}\n",
    "0 & \\text{if } z < 0 \\\\\n",
    "1 & \\text{if } z \\geq 0\n",
    "\\end{cases}$$\n",
    "And\n",
    "$$sgn(z) = \\begin{cases}\n",
    "-1 & \\text{if } z < 0 \\\\\n",
    "0 & \\text{if } z = 0 \\\\\n",
    "1 & \\text{if } z \\geq 0\n",
    "\\end{cases}$$"
   ]
  },
  {
   "cell_type": "markdown",
   "metadata": {},
   "source": [
    "A single TLU can be used for simple linear binary classification. It computes a linear\n",
    "combination of the inputs and if the result exceeds a threshold, it outputs the positive\n",
    "class or else outputs the negative class."
   ]
  },
  {
   "cell_type": "markdown",
   "metadata": {},
   "source": [
    "A Perceptron is simply composed of a single layer of TLUs, with each TLU connected\n",
    "to all the inputs. When all the neurons in a layer are connected to every neuron in the\n",
    "previous layer (i.e., its input neurons), it is called a fully connected layer or a dense\n",
    "layer."
   ]
  },
  {
   "cell_type": "markdown",
   "metadata": {},
   "source": [
    "<figure>\n",
    "<figcaption><h4>Perceptron diagram</h4></figcaption>\n",
    "<img src = \"img/10_04.png\">\n",
    "</figure>"
   ]
  },
  {
   "cell_type": "markdown",
   "metadata": {},
   "source": [
    "The outputs of a fully connected layer simply is:\n",
    "$$ h_{\\mathbf{W, b}}(\\mathbf{X}) = \\phi(\\mathbf{XW+b}) $$\n",
    "With symols having the usual meaning. The $\\phi$ is called the *activation function*, when the artificial neurons are\n",
    "TLUs, it is a step function."
   ]
  },
  {
   "cell_type": "markdown",
   "metadata": {},
   "source": [
    "The way the Perceptron learns is:<br>\n",
    "The Perceptron is fed one\n",
    "training instance at a time, and for each instance it makes its predictions. For every\n",
    "output neuron that produced a wrong prediction, it reinforces the connection\n",
    "weights from the inputs that would have contributed to the correct prediction. \n"
   ]
  },
  {
   "cell_type": "markdown",
   "metadata": {},
   "source": [
    "<figure>\n",
    "<figcaption><h4>Perceptron learning rule</h4></figcaption>\n",
    "<img src = \"img/10_05.png\">\n",
    "</figure>"
   ]
  },
  {
   "cell_type": "markdown",
   "metadata": {},
   "source": [
    ">The decision boundary of each output neuron is linear, so Perceptrons are incapable\n",
    "of learning complex patterns "
   ]
  },
  {
   "cell_type": "markdown",
   "metadata": {},
   "source": [
    "Scikit-Learn provides a `Perceptron` class that implements a single TLU network."
   ]
  },
  {
   "cell_type": "code",
   "execution_count": 2,
   "metadata": {},
   "outputs": [
    {
     "data": {
      "text/plain": [
       "Perceptron()"
      ]
     },
     "execution_count": 2,
     "metadata": {},
     "output_type": "execute_result"
    }
   ],
   "source": [
    "import numpy as np\n",
    "from sklearn.datasets import load_iris\n",
    "from sklearn.linear_model import Perceptron\n",
    "iris = load_iris()\n",
    "X = iris.data[:, (2, 3)]\n",
    "y = (iris.target == 0).astype(np.int)\n",
    "per_clf = Perceptron()\n",
    "per_clf.fit(X, y)"
   ]
  },
  {
   "cell_type": "code",
   "execution_count": 8,
   "metadata": {},
   "outputs": [
    {
     "data": {
      "text/plain": [
       "1.0"
      ]
     },
     "execution_count": 8,
     "metadata": {},
     "output_type": "execute_result"
    }
   ],
   "source": [
    "per_clf.score(X, y)"
   ]
  },
  {
   "cell_type": "markdown",
   "metadata": {},
   "source": [
    "Interesting! ):"
   ]
  },
  {
   "cell_type": "markdown",
   "metadata": {},
   "source": [
    ">Scikit-Learn’s `Perceptron` class is equivalent\n",
    "to using an `SGDClassifier` with the following hyperparameters: `loss=\"perceptron\"`,\n",
    "`learning_rate=\"constant\"`, `eta0=1` (the learning rate), and `penalty=None` (no regu‐\n",
    "larization)."
   ]
  },
  {
   "cell_type": "markdown",
   "metadata": {},
   "source": [
    "A perceptron has a some serious limitations. For example, they are incapable of solving some trivial problems (e.g., the Exclusive OR (XOR) classification problem. However, it turns out that some of the limitations of Perceptrons can be eliminated by\n",
    "stacking multiple Perceptrons. The resulting ANN is called a Multi-Layer Perceptron\n",
    "(MLP). In particular, an MLP can solve the XOR problem, as you can verify by computing the output of the MLP represented:"
   ]
  },
  {
   "cell_type": "markdown",
   "metadata": {},
   "source": [
    "<figure>\n",
    "<figcaption><h4>XOR classification problem and an MLP that solves it</h4></figcaption>\n",
    "<img src = \"img/10_06.png\">\n",
    "</figure>"
   ]
  },
  {
   "cell_type": "markdown",
   "metadata": {},
   "source": [
    "#### Multi-Layer Perceptron and Backpropagation"
   ]
  },
  {
   "cell_type": "markdown",
   "metadata": {},
   "source": [
    "An MLP is composed of one (passthrough) input layer, one or more layers of TLUs,\n",
    "called hidden layers, and one final layer of TLUs called the output layer. The layers close to the input layer are usually called the lower layers,\n",
    "and the ones close to the outputs are usually called the upper layers. Every layer\n",
    "except the output layer includes a bias neuron and is fully connected to the next layer. When an ANN contains a deep stack of hidden layers8, it is called a deep neural net‐\n",
    "work (DNN). "
   ]
  },
  {
   "cell_type": "markdown",
   "metadata": {},
   "source": [
    "<figure>\n",
    "<figcaption><h4>Multi-Layer Perceptron</h4></figcaption>\n",
    "<img src = \"img/10_07.png\">\n",
    "</figure>"
   ]
  },
  {
   "cell_type": "markdown",
   "metadata": {},
   "source": [
    "The algorithm by which an MLP is trained is backpropogation. The steps are:\n",
    "* It handles one mini-batch at a time (for example containing 32 instances each),\n",
    "and it goes through the full training set multiple times. Each pass is called an\n",
    "epoch.\n",
    "*  Each mini-batch is passed to the network’s input layer, which just sends it to the\n",
    "first hidden layer. The algorithm then computes the output of all the neurons in\n",
    "this layer (for every instance in the mini-batch). The result is passed on to the\n",
    "next layer, its output is computed and passed to the next layer, and so on until we\n",
    "get the output of the last layer, the output layer. This is the forward pass: it is\n",
    "exactly like making predictions, except all intermediate results are preserved\n",
    "since they are needed for the backward pass.\n",
    "* Next, the algorithm measures the network’s output error.\n",
    "* Then it computes how much each output connection contributed to the error.\n",
    "* The algorithm then measures how much of these error contributions came from\n",
    "each connection in the layer below, until\n",
    "the algorithm reaches the input layer. This reverse pass\n",
    "efficiently measures the error gradient across all the connection weights in the network by propagating the error gradient backward through the network.\n",
    "* Finally, the algorithm performs a Gradient Descent step to tweak all the connec‐\n",
    "tion weights in the network, using the error gradients it just computed."
   ]
  },
  {
   "cell_type": "markdown",
   "metadata": {},
   "source": [
    "> To summarize: for each training\n",
    "instance the backpropagation algorithm first makes a prediction (forward pass),\n",
    "measures the error, then goes through each layer in reverse to measure the error contribution from each connection (reverse pass), and finally slightly tweaks the connection weights to reduce the error (Gradient Descent step)."
   ]
  },
  {
   "cell_type": "markdown",
   "metadata": {},
   "source": [
    "> It is important to initialize all the hidden layers’ connection weights\n",
    "randomly, or else training will fail. For example, if you initialize all\n",
    "weights and biases to zero, then all neurons in a given layer will be\n",
    "perfectly identical, and thus backpropagation will affect them in\n",
    "exactly the same way, so they will remain identical. In other words,\n",
    "despite having hundreds of neurons per layer, your model will act\n",
    "as if it had only one neuron per layer: it won’t be too smart. If\n",
    "instead you randomly initialize the weights, you break the symmetry and allow backpropagation to train a diverse team of neurons."
   ]
  },
  {
   "cell_type": "markdown",
   "metadata": {},
   "source": [
    "In order for this algorithm to work properly, the authors made a key change to the\n",
    "MLP’s architecture: they replaced the step function with the logistic function, $σ(z) =\n",
    "1 / (1 + exp(–z))$. This was essential because the step function contains only flat seg‐\n",
    "ments, so there is no gradient to work with (Gradient Descent cannot move on a flat\n",
    "surface), while the logistic function has a well-defined nonzero derivative every‐\n",
    "where, allowing Gradient Descent to make some progress at every step. In fact, the\n",
    "backpropagation algorithm works well with many other activation functions, not just\n",
    "the logistic function. Two of these are:\n",
    "* The hyperbolic tangent function $tanh(z) = 2σ(2z) – 1$\n",
    "* The Rectified Linear Unit function: $ReLU(z) = max(0, z)$"
   ]
  },
  {
   "cell_type": "markdown",
   "metadata": {},
   "source": [
    "<figure>\n",
    "<figcaption><h4>Activation functions and their derivatives</h4></figcaption>\n",
    "<img src = \"img/10_08.png\">\n",
    "</figure>"
   ]
  },
  {
   "cell_type": "markdown",
   "metadata": {},
   "source": [
    "#### Regression MLPs"
   ]
  },
  {
   "cell_type": "markdown",
   "metadata": {},
   "source": [
    "MLPs can be used for regression tasks. (No surprise!). For multivariate regression (i.e., to predict\n",
    "multiple values at once), you need one output neuron per output dimension. For\n",
    "example, to locate the center of an object on an image, you need to predict 2D coordi‐\n",
    "nates, so you need two output neurons. If you also want to place a bounding box\n",
    "around the object, then you need two more numbers: the width and the height of the\n",
    "object. So you end up with 4 output neurons."
   ]
  },
  {
   "cell_type": "markdown",
   "metadata": {},
   "source": [
    ">In general, when building an MLP for regression, you do not want to use any activa‐\n",
    "tion function for the output neurons, so they are free to output any range of values.\n",
    "However, if you want to guarantee that the output will always be positive, then you\n",
    "can use the ReLU activation function, or the softplus activation function in the output\n",
    "layer. Finally, if you want to guarantee that the predictions will fall within a given\n",
    "range of values, then you can use the logistic function or the hyperbolic tangent, and\n",
    "scale the labels to the appropriate range: 0 to 1 for the logistic function, or –1 to 1 for\n",
    "the hyperbolic tangent."
   ]
  },
  {
   "cell_type": "markdown",
   "metadata": {},
   "source": [
    ">The Huber loss is quadratic when the error is smaller than a threshold δ (typically 1), but linear when the error is larger than δ. This\n",
    "makes it less sensitive to outliers than the mean squared error, and\n",
    "it is often more precise and converges faster than the mean absolute error."
   ]
  },
  {
   "cell_type": "markdown",
   "metadata": {},
   "source": [
    "<figure>\n",
    "<figcaption><h4>Typical Regression MLP Architecture</h4></figcaption>\n",
    "<img src = \"img/10_09.png\">\n",
    "</figure>"
   ]
  },
  {
   "cell_type": "markdown",
   "metadata": {},
   "source": [
    "#### Classification MLPs"
   ]
  },
  {
   "cell_type": "markdown",
   "metadata": {},
   "source": [
    "MLPs can also be used for classification tasks. For a binary classification problem,\n",
    "you just need a single output neuron using the logistic activation function: the output\n",
    "will be a number between 0 and 1, which you can interpret as the estimated probability of the positive class. Morever, MLPs can be used to predict multiple classes too. In this case, you would need two output neurons, both using the logistic activation function.<br>\n",
    "If each instance can belong only to a single class, out of 3 or more possible classes\n",
    "(e.g., classes 0 through 9 for digit image classification), then you need to have one\n",
    "output neuron per class, and you should use the softmax activation function for the\n",
    "whole output layer"
   ]
  },
  {
   "cell_type": "markdown",
   "metadata": {},
   "source": [
    "<figure>\n",
    "<figcaption><h4>Typical Classification MLP Architecture</h4></figcaption>\n",
    "<img src = \"img/10_10.png\">\n",
    "</figure>"
   ]
  },
  {
   "cell_type": "markdown",
   "metadata": {},
   "source": [
    "A great link **https://playground.tensorflow.org/**"
   ]
  },
  {
   "cell_type": "markdown",
   "metadata": {},
   "source": [
    "### Implementing MLPs with Keras"
   ]
  },
  {
   "cell_type": "markdown",
   "metadata": {},
   "source": [
    "Keras was developed by François Chollet as part of a\n",
    "research project and released as an open source project in March 2015. To perform the heavy computations required by neural networks, keras-team relies on a\n",
    "computation backend. At the present, you can choose from three popular open\n",
    "source deep learning libraries: TensorFlow, Microsoft Cognitive Toolkit (CNTK) or\n",
    "Theano."
   ]
  },
  {
   "cell_type": "markdown",
   "metadata": {},
   "source": [
    "#### Building an Image Classifier Using the Sequential API"
   ]
  },
  {
   "cell_type": "markdown",
   "metadata": {},
   "source": [
    "We'll use MNIST's *Fashion* dataset for building a classifier."
   ]
  },
  {
   "cell_type": "code",
   "execution_count": 101,
   "metadata": {},
   "outputs": [],
   "source": [
    "from tensorflow import keras\n",
    "fashion_mnist = keras.datasets.fashion_mnist\n",
    "(X_train_full, y_train_full), (X_test, y_test) = fashion_mnist.load_data()"
   ]
  },
  {
   "cell_type": "code",
   "execution_count": 102,
   "metadata": {},
   "outputs": [
    {
     "data": {
      "text/plain": [
       "(60000, 28, 28)"
      ]
     },
     "execution_count": 102,
     "metadata": {},
     "output_type": "execute_result"
    }
   ],
   "source": [
    "X_train_full.shape"
   ]
  },
  {
   "cell_type": "code",
   "execution_count": 103,
   "metadata": {},
   "outputs": [],
   "source": [
    "X_valid, X_train = X_train_full[:5000] / 255.0, X_train_full[5000:] / 255.0\n",
    "y_valid, y_train = y_train_full[:5000], y_train_full[5000:]"
   ]
  },
  {
   "cell_type": "markdown",
   "metadata": {},
   "source": [
    "Since MNIST provides label for each class, we need a way to infer what value does the label corressponds to."
   ]
  },
  {
   "cell_type": "code",
   "execution_count": 104,
   "metadata": {},
   "outputs": [],
   "source": [
    "class_names = [\"T-shirt/top\", \"Trouser\", \"Pullover\", \"Dress\", \"Coat\",\n",
    "\"Sandal\", \"Shirt\", \"Sneaker\", \"Bag\", \"Ankle boot\"]"
   ]
  },
  {
   "cell_type": "code",
   "execution_count": 16,
   "metadata": {},
   "outputs": [
    {
     "data": {
      "text/plain": [
       "'Coat'"
      ]
     },
     "execution_count": 16,
     "metadata": {},
     "output_type": "execute_result"
    }
   ],
   "source": [
    "class_names[y_train[0]]"
   ]
  },
  {
   "cell_type": "markdown",
   "metadata": {},
   "source": [
    "Let's first see how well the linear classifier performs on this dataset."
   ]
  },
  {
   "cell_type": "code",
   "execution_count": 105,
   "metadata": {},
   "outputs": [],
   "source": [
    "X_train_lin = X_train_full.reshape((60000,784))/255.0\n",
    "X_test_lin = X_test.reshape((10000,784))/255.0"
   ]
  },
  {
   "cell_type": "code",
   "execution_count": 106,
   "metadata": {},
   "outputs": [
    {
     "data": {
      "text/plain": [
       "0.0"
      ]
     },
     "execution_count": 106,
     "metadata": {},
     "output_type": "execute_result"
    }
   ],
   "source": [
    "X_train_lin.min()"
   ]
  },
  {
   "cell_type": "code",
   "execution_count": 37,
   "metadata": {},
   "outputs": [
    {
     "data": {
      "text/plain": [
       "LogisticRegression(max_iter=10000)"
      ]
     },
     "execution_count": 37,
     "metadata": {},
     "output_type": "execute_result"
    }
   ],
   "source": [
    "from sklearn.linear_model import LogisticRegression\n",
    "lr = LogisticRegression(max_iter=10000)\n",
    "lr.fit(X_train_lin, y_train_full)"
   ]
  },
  {
   "cell_type": "code",
   "execution_count": 38,
   "metadata": {},
   "outputs": [
    {
     "data": {
      "text/plain": [
       "0.8443"
      ]
     },
     "execution_count": 38,
     "metadata": {},
     "output_type": "execute_result"
    }
   ],
   "source": [
    "lr.score(X_test_lin, y_test)"
   ]
  },
  {
   "cell_type": "markdown",
   "metadata": {},
   "source": [
    "So, a simple linear model gives 84% of accuracy. We can, of course, improve this but let's stick with this for now! Now, let's build a classifier using the Sequential API."
   ]
  },
  {
   "cell_type": "markdown",
   "metadata": {},
   "source": [
    "The MLP can be implemented using two ways:"
   ]
  },
  {
   "cell_type": "code",
   "execution_count": 107,
   "metadata": {},
   "outputs": [],
   "source": [
    "model = keras.models.Sequential()\n",
    "model.add(keras.layers.Flatten(input_shape=[28, 28]))\n",
    "model.add(keras.layers.Dense(300, activation=\"relu\"))\n",
    "model.add(keras.layers.Dense(100, activation=\"relu\"))\n",
    "model.add(keras.layers.Dense(10, activation=\"softmax\"))"
   ]
  },
  {
   "cell_type": "markdown",
   "metadata": {},
   "source": [
    "Or"
   ]
  },
  {
   "cell_type": "code",
   "execution_count": 97,
   "metadata": {},
   "outputs": [],
   "source": [
    "model = keras.models.Sequential([\n",
    "keras.layers.Flatten(input_shape=[28, 28]),\n",
    "keras.layers.Dense(300, activation=\"relu\"),\n",
    "keras.layers.Dense(100, activation=\"relu\"),\n",
    "keras.layers.Dense(10, activation=\"softmax\")\n",
    "])"
   ]
  },
  {
   "cell_type": "markdown",
   "metadata": {},
   "source": [
    "How is it done?<br>\n",
    "* The first line creates a Sequential model. This is the simplest kind of Keras\n",
    "model, for neural networks that are just composed of a single stack of layers, con‐\n",
    "nected sequentially. This is called the sequential API.\n",
    "* Next, we build the first layer and add it to the model. It is a Flatten layer whose\n",
    "role is simply to convert each input image into a 1D array: if it receives input data\n",
    "X, it computes X.reshape(-1, 1). This layer does not have any parameters, it is\n",
    "just there to do some simple preprocessing. Since it is the first layer in the model,\n",
    "you should specify the input_shape: this does not include the batch size, only the\n",
    "shape of the instances. Alternatively, you could add a `keras.layers.InputLayer`\n",
    "as the first layer, setting `shape=[28,28]`.\n",
    "* Next we add a Dense hidden layer with 300 neurons. It will use the ReLU activation function. Each Dense layer manages its own weight matrix, containing all the\n",
    "connection weights between the neurons and their inputs. It also manages a vector of bias terms, one per neuron.\n",
    "* Next we add a second Dense hidden layer with 100 neurons, also using the ReLU\n",
    "activation function.\n",
    "* Finally, we add a Dense output layer with 10 neurons (one per class), using the\n",
    "softmax activation function (because the classes are exclusive)"
   ]
  },
  {
   "cell_type": "markdown",
   "metadata": {},
   "source": [
    "The model’s `summary()` method displays all the model’s layers, including each layer’s\n",
    "name (which is automatically generated unless you set it when creating the layer), its\n",
    "output shape (None means the batch size can be anything), and its number of parame‐\n",
    "ters. The summary ends with the total number of parameters, including trainable and\n",
    "non-trainable parameters. You can also generate an image of your model using `keras.utils.plot_model()`. Furthermore, ll the parameters of a layer can be accessed using its `get_weights()` and\n",
    "`set_weights() `method. For a Dense layer, this includes both the connection weights\n",
    "and the bias terms"
   ]
  },
  {
   "cell_type": "code",
   "execution_count": 98,
   "metadata": {},
   "outputs": [
    {
     "name": "stdout",
     "output_type": "stream",
     "text": [
      "Model: \"sequential_8\"\n",
      "_________________________________________________________________\n",
      "Layer (type)                 Output Shape              Param #   \n",
      "=================================================================\n",
      "flatten_4 (Flatten)          (None, 784)               0         \n",
      "_________________________________________________________________\n",
      "dense_20 (Dense)             (None, 300)               235500    \n",
      "_________________________________________________________________\n",
      "dense_21 (Dense)             (None, 100)               30100     \n",
      "_________________________________________________________________\n",
      "dense_22 (Dense)             (None, 10)                1010      \n",
      "=================================================================\n",
      "Total params: 266,610\n",
      "Trainable params: 266,610\n",
      "Non-trainable params: 0\n",
      "_________________________________________________________________\n"
     ]
    }
   ],
   "source": [
    "model.summary()"
   ]
  },
  {
   "cell_type": "code",
   "execution_count": 44,
   "metadata": {},
   "outputs": [
    {
     "data": {
      "text/plain": [
       "[<tensorflow.python.keras.layers.core.Flatten at 0x2187468b310>,\n",
       " <tensorflow.python.keras.layers.core.Dense at 0x2186bf52f10>,\n",
       " <tensorflow.python.keras.layers.core.Dense at 0x21874298250>,\n",
       " <tensorflow.python.keras.layers.core.Dense at 0x218746914c0>]"
      ]
     },
     "execution_count": 44,
     "metadata": {},
     "output_type": "execute_result"
    }
   ],
   "source": [
    "model.layers"
   ]
  },
  {
   "cell_type": "code",
   "execution_count": 47,
   "metadata": {},
   "outputs": [],
   "source": [
    "hidden1 = model.layers[1]\n",
    "weights, biases = hidden1.get_weights()"
   ]
  },
  {
   "cell_type": "code",
   "execution_count": 53,
   "metadata": {},
   "outputs": [
    {
     "data": {
      "text/plain": [
       "array([[-0.06480089, -0.07192267,  0.06306447, ...,  0.00244816,\n",
       "         0.07386684, -0.06686679],\n",
       "       [ 0.05389889,  0.06494448,  0.00671749, ...,  0.05636494,\n",
       "        -0.06254327,  0.06099726],\n",
       "       [ 0.02433742, -0.05609208,  0.02134802, ...,  0.03174756,\n",
       "         0.0121516 , -0.04439304],\n",
       "       ...,\n",
       "       [-0.07298393,  0.02424685, -0.0043864 , ..., -0.02537306,\n",
       "        -0.02095705, -0.01141737],\n",
       "       [ 0.02961305,  0.07109299,  0.05594206, ...,  0.00472962,\n",
       "         0.05424826,  0.03382988],\n",
       "       [ 0.01390176, -0.04097348, -0.06613321, ..., -0.05188762,\n",
       "         0.01220762,  0.03269567]], dtype=float32)"
      ]
     },
     "execution_count": 53,
     "metadata": {},
     "output_type": "execute_result"
    }
   ],
   "source": [
    "weights"
   ]
  },
  {
   "cell_type": "code",
   "execution_count": 54,
   "metadata": {},
   "outputs": [
    {
     "data": {
      "text/plain": [
       "array([0., 0., 0., 0., 0., 0., 0., 0., 0., 0., 0., 0., 0., 0., 0., 0., 0.,\n",
       "       0., 0., 0., 0., 0., 0., 0., 0., 0., 0., 0., 0., 0., 0., 0., 0., 0.,\n",
       "       0., 0., 0., 0., 0., 0., 0., 0., 0., 0., 0., 0., 0., 0., 0., 0., 0.,\n",
       "       0., 0., 0., 0., 0., 0., 0., 0., 0., 0., 0., 0., 0., 0., 0., 0., 0.,\n",
       "       0., 0., 0., 0., 0., 0., 0., 0., 0., 0., 0., 0., 0., 0., 0., 0., 0.,\n",
       "       0., 0., 0., 0., 0., 0., 0., 0., 0., 0., 0., 0., 0., 0., 0., 0., 0.,\n",
       "       0., 0., 0., 0., 0., 0., 0., 0., 0., 0., 0., 0., 0., 0., 0., 0., 0.,\n",
       "       0., 0., 0., 0., 0., 0., 0., 0., 0., 0., 0., 0., 0., 0., 0., 0., 0.,\n",
       "       0., 0., 0., 0., 0., 0., 0., 0., 0., 0., 0., 0., 0., 0., 0., 0., 0.,\n",
       "       0., 0., 0., 0., 0., 0., 0., 0., 0., 0., 0., 0., 0., 0., 0., 0., 0.,\n",
       "       0., 0., 0., 0., 0., 0., 0., 0., 0., 0., 0., 0., 0., 0., 0., 0., 0.,\n",
       "       0., 0., 0., 0., 0., 0., 0., 0., 0., 0., 0., 0., 0., 0., 0., 0., 0.,\n",
       "       0., 0., 0., 0., 0., 0., 0., 0., 0., 0., 0., 0., 0., 0., 0., 0., 0.,\n",
       "       0., 0., 0., 0., 0., 0., 0., 0., 0., 0., 0., 0., 0., 0., 0., 0., 0.,\n",
       "       0., 0., 0., 0., 0., 0., 0., 0., 0., 0., 0., 0., 0., 0., 0., 0., 0.,\n",
       "       0., 0., 0., 0., 0., 0., 0., 0., 0., 0., 0., 0., 0., 0., 0., 0., 0.,\n",
       "       0., 0., 0., 0., 0., 0., 0., 0., 0., 0., 0., 0., 0., 0., 0., 0., 0.,\n",
       "       0., 0., 0., 0., 0., 0., 0., 0., 0., 0., 0.], dtype=float32)"
      ]
     },
     "execution_count": 54,
     "metadata": {},
     "output_type": "execute_result"
    }
   ],
   "source": [
    "biases"
   ]
  },
  {
   "cell_type": "markdown",
   "metadata": {},
   "source": [
    "Notice that the Dense layer initialized the connection weights randomly (which is\n",
    "needed to break symmetry), and the biases were just initialized to zeros, which is fine. If you ever want to use a different initialization method,\n",
    "you can set `kernel_initializer` (kernel is another name for the matrix of connection weights) or `bias_initializer` when creating the layer. "
   ]
  },
  {
   "cell_type": "code",
   "execution_count": 51,
   "metadata": {},
   "outputs": [
    {
     "data": {
      "text/plain": [
       "((784, 300), (300,))"
      ]
     },
     "execution_count": 51,
     "metadata": {},
     "output_type": "execute_result"
    }
   ],
   "source": [
    "weights.shape, biases.shape"
   ]
  },
  {
   "cell_type": "markdown",
   "metadata": {},
   "source": [
    ">The shape of the weight matrix depends on the number of inputs.\n",
    "This is why it is recommended to specify the input_shape when\n",
    "creating the first layer in a Sequential model. However, if you do\n",
    "not specify the input shape, it’s okay: Keras will simply wait until it\n",
    "knows the input shape before it actually builds the model. This will\n",
    "happen either when you feed it actual data (e.g., during training),\n",
    "or when you call its `build()` method. Until the model is really\n",
    "built, the layers will not have any weights, and you will not be able\n",
    "to do certain things (such as print the model summary or save the\n",
    "model), so **if you know the input shape when creating the model, it\n",
    "is best to specify it**."
   ]
  },
  {
   "cell_type": "markdown",
   "metadata": {},
   "source": [
    "After a model is created, you must call its `compile()` method to specify the loss function and the optimizer to use."
   ]
  },
  {
   "cell_type": "code",
   "execution_count": 108,
   "metadata": {},
   "outputs": [],
   "source": [
    "model.compile(loss=\"sparse_categorical_crossentropy\",\n",
    "optimizer=\"sgd\",\n",
    "metrics=[\"accuracy\"])"
   ]
  },
  {
   "cell_type": "markdown",
   "metadata": {},
   "source": [
    "Using `loss=\"sparse_categorical_crossentropy\"` is equivalent to\n",
    "`loss=keras.losses.sparse_categorical_crossentropy`. Similarly, `optimizer=\"sgd\"` is equivalent to `optimizer=keras.optimizers.SGD()` and `metrics=[\"accuracy\"]` is equivalent to\n",
    "`metrics=[keras.metrics.sparse_categorical_accuracy]`."
   ]
  },
  {
   "cell_type": "markdown",
   "metadata": {},
   "source": [
    "Here, we use the `sparse_categorical_crossentropy` loss because we have sparse labels (i.e., for each instance there is just a target\n",
    "class index, from 0 to 9 in this case), and the classes are exclusive. If instead we had\n",
    "one target probability per class for each instance (such as one-hot vectors, e.g. [0.,\n",
    "0., 0., 1., 0., 0., 0., 0., 0., 0.] to represent class 3), then we would need\n",
    "to use the `categorical_crossentropy` loss instead."
   ]
  },
  {
   "cell_type": "markdown",
   "metadata": {},
   "source": [
    "Now the model is ready to be trained. For this we simply need to call its `fit()`\n",
    "method. We pass it the input features `(X_train)` and the target classes `(y_train)`, as\n",
    "well as the number of epochs to train. Default value of numbers of epoch is 1."
   ]
  },
  {
   "cell_type": "markdown",
   "metadata": {},
   "source": [
    "Let's train the model."
   ]
  },
  {
   "cell_type": "code",
   "execution_count": 109,
   "metadata": {},
   "outputs": [
    {
     "name": "stdout",
     "output_type": "stream",
     "text": [
      "Epoch 1/30\n",
      "1719/1719 [==============================] - 13s 4ms/step - loss: 0.7209 - accuracy: 0.7648 - val_loss: 0.5297 - val_accuracy: 0.8196\n",
      "Epoch 2/30\n",
      "1719/1719 [==============================] - 7s 4ms/step - loss: 0.4870 - accuracy: 0.8301 - val_loss: 0.4538 - val_accuracy: 0.8448\n",
      "Epoch 3/30\n",
      "1719/1719 [==============================] - 7s 4ms/step - loss: 0.4425 - accuracy: 0.8451 - val_loss: 0.4136 - val_accuracy: 0.8594\n",
      "Epoch 4/30\n",
      "1719/1719 [==============================] - 8s 4ms/step - loss: 0.4151 - accuracy: 0.8557 - val_loss: 0.4095 - val_accuracy: 0.8608\n",
      "Epoch 5/30\n",
      "1719/1719 [==============================] - 7s 4ms/step - loss: 0.3950 - accuracy: 0.8618 - val_loss: 0.3811 - val_accuracy: 0.8696\n",
      "Epoch 6/30\n",
      "1719/1719 [==============================] - 7s 4ms/step - loss: 0.3796 - accuracy: 0.8672 - val_loss: 0.3799 - val_accuracy: 0.8668\n",
      "Epoch 7/30\n",
      "1719/1719 [==============================] - 7s 4ms/step - loss: 0.3650 - accuracy: 0.8715 - val_loss: 0.3595 - val_accuracy: 0.8738\n",
      "Epoch 8/30\n",
      "1719/1719 [==============================] - 8s 4ms/step - loss: 0.3529 - accuracy: 0.8763 - val_loss: 0.3852 - val_accuracy: 0.8670\n",
      "Epoch 9/30\n",
      "1719/1719 [==============================] - 8s 5ms/step - loss: 0.3443 - accuracy: 0.8777 - val_loss: 0.3428 - val_accuracy: 0.8778\n",
      "Epoch 10/30\n",
      "1719/1719 [==============================] - 8s 5ms/step - loss: 0.3336 - accuracy: 0.8820 - val_loss: 0.3428 - val_accuracy: 0.8800\n",
      "Epoch 11/30\n",
      "1719/1719 [==============================] - 8s 4ms/step - loss: 0.3243 - accuracy: 0.8860 - val_loss: 0.3380 - val_accuracy: 0.8794\n",
      "Epoch 12/30\n",
      "1719/1719 [==============================] - 6s 4ms/step - loss: 0.3176 - accuracy: 0.8876 - val_loss: 0.3441 - val_accuracy: 0.8772\n",
      "Epoch 13/30\n",
      "1719/1719 [==============================] - 6s 4ms/step - loss: 0.3103 - accuracy: 0.8899 - val_loss: 0.3242 - val_accuracy: 0.8812\n",
      "Epoch 14/30\n",
      "1719/1719 [==============================] - 7s 4ms/step - loss: 0.3022 - accuracy: 0.8926 - val_loss: 0.3478 - val_accuracy: 0.8762\n",
      "Epoch 15/30\n",
      "1719/1719 [==============================] - 7s 4ms/step - loss: 0.2963 - accuracy: 0.8947 - val_loss: 0.3213 - val_accuracy: 0.8856\n",
      "Epoch 16/30\n",
      "1719/1719 [==============================] - 8s 4ms/step - loss: 0.2894 - accuracy: 0.8967 - val_loss: 0.3193 - val_accuracy: 0.8854\n",
      "Epoch 17/30\n",
      "1719/1719 [==============================] - 7s 4ms/step - loss: 0.2839 - accuracy: 0.8994 - val_loss: 0.3078 - val_accuracy: 0.8884\n",
      "Epoch 18/30\n",
      "1719/1719 [==============================] - 6s 3ms/step - loss: 0.2782 - accuracy: 0.9010 - val_loss: 0.3229 - val_accuracy: 0.8876\n",
      "Epoch 19/30\n",
      "1719/1719 [==============================] - 6s 4ms/step - loss: 0.2726 - accuracy: 0.9023 - val_loss: 0.3062 - val_accuracy: 0.8896\n",
      "Epoch 20/30\n",
      "1719/1719 [==============================] - 7s 4ms/step - loss: 0.2679 - accuracy: 0.9034 - val_loss: 0.3038 - val_accuracy: 0.8870\n",
      "Epoch 21/30\n",
      "1719/1719 [==============================] - 6s 4ms/step - loss: 0.2629 - accuracy: 0.9052 - val_loss: 0.3004 - val_accuracy: 0.8924\n",
      "Epoch 22/30\n",
      "1719/1719 [==============================] - 7s 4ms/step - loss: 0.2585 - accuracy: 0.9076 - val_loss: 0.2985 - val_accuracy: 0.8906\n",
      "Epoch 23/30\n",
      "1719/1719 [==============================] - 6s 4ms/step - loss: 0.2532 - accuracy: 0.9088 - val_loss: 0.2972 - val_accuracy: 0.8962\n",
      "Epoch 24/30\n",
      "1719/1719 [==============================] - 6s 4ms/step - loss: 0.2491 - accuracy: 0.9097 - val_loss: 0.3187 - val_accuracy: 0.8844\n",
      "Epoch 25/30\n",
      "1719/1719 [==============================] - 7s 4ms/step - loss: 0.2452 - accuracy: 0.9117 - val_loss: 0.2991 - val_accuracy: 0.8910\n",
      "Epoch 26/30\n",
      "1719/1719 [==============================] - 7s 4ms/step - loss: 0.2394 - accuracy: 0.9147 - val_loss: 0.3101 - val_accuracy: 0.8858\n",
      "Epoch 27/30\n",
      "1719/1719 [==============================] - 7s 4ms/step - loss: 0.2360 - accuracy: 0.9157 - val_loss: 0.2923 - val_accuracy: 0.8928\n",
      "Epoch 28/30\n",
      "1719/1719 [==============================] - 7s 4ms/step - loss: 0.2330 - accuracy: 0.9171 - val_loss: 0.3037 - val_accuracy: 0.8936\n",
      "Epoch 29/30\n",
      "1719/1719 [==============================] - 7s 4ms/step - loss: 0.2282 - accuracy: 0.9174 - val_loss: 0.2897 - val_accuracy: 0.8938\n",
      "Epoch 30/30\n",
      "1719/1719 [==============================] - 6s 3ms/step - loss: 0.2255 - accuracy: 0.9193 - val_loss: 0.2992 - val_accuracy: 0.8928\n"
     ]
    }
   ],
   "source": [
    "history = model.fit(X_train, y_train, epochs=30, validation_data=(X_valid, y_valid))"
   ]
  },
  {
   "cell_type": "markdown",
   "metadata": {},
   "source": [
    ">Instead of passing a validation set using the `validation_data`\n",
    "argument, you could instead set `validation_split` to the ratio of\n",
    "the training set that you want Keras to use for validation (e.g., 0.1)."
   ]
  },
  {
   "cell_type": "markdown",
   "metadata": {},
   "source": [
    "If the training set was very skewed, with some classes being overrepresented and others underrepresented, it would be useful to set the `class_weight` argument when\n",
    "calling the `fit()` method, giving a larger weight to underrepresented classes, and a\n",
    "lower weight to overrepresented classes. These weights would be used by Keras when\n",
    "computing the loss. If you need per-instance weights instead, you can set the `sample_weight` argument."
   ]
  },
  {
   "cell_type": "markdown",
   "metadata": {},
   "source": [
    "The `fit()` method returns a History object containing the training parameters (`history.params`), the list of epochs it went through (`history.epoch`), and most importantly a dictionary (`history.history`) containing the loss and extra metrics it\n",
    "measured at the end of each epoch on the training set and on the validation set.<br>\n",
    "Let's plot these values:"
   ]
  },
  {
   "cell_type": "code",
   "execution_count": 110,
   "metadata": {},
   "outputs": [
    {
     "data": {
      "image/png": "[encoded data removed]",
      "text/plain": [
       "<Figure size 720x504 with 1 Axes>"
      ]
     },
     "metadata": {
      "needs_background": "light"
     },
     "output_type": "display_data"
    }
   ],
   "source": [
    "import pandas as pd\n",
    "pd.DataFrame(history.history).plot(figsize=(10, 7))\n",
    "plt.grid(True)\n",
    "plt.ylim([0,1]);"
   ]
  },
  {
   "cell_type": "markdown",
   "metadata": {},
   "source": [
    "You can see that both the training and validation accuracy steadily increase during\n",
    "training, while the training and validation loss decrease. Moreover, the validation curves are quite close to the training curves this shows that the model is not overfitting. Since the validation loss is still going down, it means that the model has yet not converged abd you can keep training the model for more epochs. **It’s as simple as calling the `fit()` method again, since Keras just continues training where it left off.**"
   ]
  },
  {
   "cell_type": "code",
   "execution_count": 64,
   "metadata": {},
   "outputs": [
    {
     "name": "stdout",
     "output_type": "stream",
     "text": [
      "313/313 [==============================] - 6s 4ms/step - loss: 59.5654 - accuracy: 0.8561\n"
     ]
    },
    {
     "data": {
      "text/plain": [
       "[59.565399169921875, 0.8561000227928162]"
      ]
     },
     "execution_count": 64,
     "metadata": {},
     "output_type": "execute_result"
    }
   ],
   "source": [
    "model.evaluate(X_test, y_test)"
   ]
  },
  {
   "cell_type": "markdown",
   "metadata": {},
   "source": [
    "Hmm! 85.6% accuracy. Not that good from the simple `LogisticRegressor`. Also note that the accuracy on validation set was 89.3%. Generally, the score on test set is lower than that on validation test, for obvious reasons!"
   ]
  },
  {
   "cell_type": "markdown",
   "metadata": {},
   "source": [
    "We can also try tuning the hyperparameters. But let's assume that we are satisfied with the model. Time to evaluate our model. On second thoughts, let's train for 10 more epochs."
   ]
  },
  {
   "cell_type": "code",
   "execution_count": 111,
   "metadata": {},
   "outputs": [
    {
     "name": "stdout",
     "output_type": "stream",
     "text": [
      "Epoch 1/10\n",
      "1719/1719 [==============================] - 11s 5ms/step - loss: 0.2215 - accuracy: 0.9222 - val_loss: 0.2834 - val_accuracy: 0.8958\n",
      "Epoch 2/10\n",
      "1719/1719 [==============================] - 8s 4ms/step - loss: 0.2182 - accuracy: 0.9215 - val_loss: 0.3307 - val_accuracy: 0.8794\n",
      "Epoch 3/10\n",
      "1719/1719 [==============================] - 7s 4ms/step - loss: 0.2145 - accuracy: 0.9228 - val_loss: 0.2890 - val_accuracy: 0.8940\n",
      "Epoch 4/10\n",
      "1719/1719 [==============================] - 7s 4ms/step - loss: 0.2103 - accuracy: 0.9249 - val_loss: 0.2917 - val_accuracy: 0.8932\n",
      "Epoch 5/10\n",
      "1719/1719 [==============================] - 7s 4ms/step - loss: 0.2073 - accuracy: 0.9258 - val_loss: 0.2888 - val_accuracy: 0.8944\n",
      "Epoch 6/10\n",
      "1719/1719 [==============================] - 7s 4ms/step - loss: 0.2035 - accuracy: 0.9264 - val_loss: 0.2992 - val_accuracy: 0.8920\n",
      "Epoch 7/10\n",
      "1719/1719 [==============================] - 7s 4ms/step - loss: 0.2005 - accuracy: 0.9284 - val_loss: 0.2933 - val_accuracy: 0.8946\n",
      "Epoch 8/10\n",
      "1719/1719 [==============================] - 6s 4ms/step - loss: 0.1969 - accuracy: 0.9295 - val_loss: 0.2937 - val_accuracy: 0.8958\n",
      "Epoch 9/10\n",
      "1719/1719 [==============================] - 6s 4ms/step - loss: 0.1949 - accuracy: 0.9302 - val_loss: 0.2848 - val_accuracy: 0.8968\n",
      "Epoch 10/10\n",
      "1719/1719 [==============================] - 6s 4ms/step - loss: 0.1906 - accuracy: 0.9323 - val_loss: 0.3086 - val_accuracy: 0.8862\n"
     ]
    },
    {
     "data": {
      "text/plain": [
       "<tensorflow.python.keras.callbacks.History at 0x21874e16a30>"
      ]
     },
     "execution_count": 111,
     "metadata": {},
     "output_type": "execute_result"
    }
   ],
   "source": [
    "model.fit(X_train, y_train, epochs=10, validation_data=(X_valid, y_valid))"
   ]
  },
  {
   "cell_type": "code",
   "execution_count": 113,
   "metadata": {},
   "outputs": [
    {
     "data": {
      "image/png": "[encoded data removed]",
      "text/plain": [
       "<Figure size 720x504 with 1 Axes>"
      ]
     },
     "metadata": {
      "needs_background": "light"
     },
     "output_type": "display_data"
    }
   ],
   "source": [
    "import pandas as pd\n",
    "pd.DataFrame(model.history.history).plot(figsize=(10, 7))\n",
    "plt.grid(True)\n",
    "plt.ylim([0,1]);"
   ]
  },
  {
   "cell_type": "markdown",
   "metadata": {},
   "source": [
    "Since the val_accuarcy is still increasing, we can keep on training. But we'll stop here for now!"
   ]
  },
  {
   "cell_type": "code",
   "execution_count": 114,
   "metadata": {},
   "outputs": [
    {
     "name": "stdout",
     "output_type": "stream",
     "text": [
      "313/313 [==============================] - 4s 3ms/step - loss: 60.9790 - accuracy: 0.8605\n"
     ]
    },
    {
     "data": {
      "text/plain": [
       "[60.979007720947266, 0.8604999780654907]"
      ]
     },
     "execution_count": 114,
     "metadata": {},
     "output_type": "execute_result"
    }
   ],
   "source": [
    "model.evaluate(X_test, y_test)"
   ]
  },
  {
   "cell_type": "markdown",
   "metadata": {},
   "source": [
    "We did made some progress! ):"
   ]
  },
  {
   "cell_type": "markdown",
   "metadata": {},
   "source": [
    "#### Using the Model to Make Predictions"
   ]
  },
  {
   "cell_type": "code",
   "execution_count": 65,
   "metadata": {},
   "outputs": [
    {
     "data": {
      "text/plain": [
       "array([[0., 0., 0., 0., 0., 0., 0., 0., 0., 1.],\n",
       "       [0., 0., 1., 0., 0., 0., 0., 0., 0., 0.],\n",
       "       [0., 1., 0., 0., 0., 0., 0., 0., 0., 0.]], dtype=float32)"
      ]
     },
     "execution_count": 65,
     "metadata": {},
     "output_type": "execute_result"
    }
   ],
   "source": [
    "X_new = X_test[:3]\n",
    "y_proba = model.predict(X_new)\n",
    "y_proba"
   ]
  },
  {
   "cell_type": "code",
   "execution_count": 66,
   "metadata": {},
   "outputs": [
    {
     "name": "stderr",
     "output_type": "stream",
     "text": [
      "C:\\Users\\harik\\anaconda3\\lib\\site-packages\\tensorflow\\python\\keras\\engine\\sequential.py:455: UserWarning: `model.predict_classes()` is deprecated and will be removed after 2021-01-01. Please use instead:* `np.argmax(model.predict(x), axis=-1)`,   if your model does multi-class classification   (e.g. if it uses a `softmax` last-layer activation).* `(model.predict(x) > 0.5).astype(\"int32\")`,   if your model does binary classification   (e.g. if it uses a `sigmoid` last-layer activation).\n",
      "  warnings.warn('`model.predict_classes()` is deprecated and '\n"
     ]
    },
    {
     "data": {
      "text/plain": [
       "array([9, 2, 1], dtype=int64)"
      ]
     },
     "execution_count": 66,
     "metadata": {},
     "output_type": "execute_result"
    }
   ],
   "source": [
    "y_pred = model.predict_classes(X_new)\n",
    "y_pred"
   ]
  },
  {
   "cell_type": "code",
   "execution_count": 68,
   "metadata": {},
   "outputs": [
    {
     "data": {
      "text/plain": [
       "array([9, 2, 1], dtype=uint8)"
      ]
     },
     "execution_count": 68,
     "metadata": {},
     "output_type": "execute_result"
    }
   ],
   "source": [
    "y_new = y_test[:3]\n",
    "y_new"
   ]
  },
  {
   "cell_type": "markdown",
   "metadata": {},
   "source": [
    "Great! It classifies all the first three images correctly."
   ]
  },
  {
   "cell_type": "markdown",
   "metadata": {},
   "source": [
    "#### Building a Regression MLP Using the Sequential API"
   ]
  },
  {
   "cell_type": "code",
   "execution_count": 22,
   "metadata": {},
   "outputs": [],
   "source": [
    "from sklearn.datasets import fetch_california_housing\n",
    "from sklearn.model_selection import train_test_split\n",
    "from sklearn.preprocessing import StandardScaler\n",
    "housing = fetch_california_housing()"
   ]
  },
  {
   "cell_type": "code",
   "execution_count": 23,
   "metadata": {},
   "outputs": [],
   "source": [
    "X_train_full, X_test, y_train_full, y_test = train_test_split(\n",
    "housing.data, housing.target)\n",
    "X_train, X_valid, y_train, y_valid = train_test_split(\n",
    "X_train_full, y_train_full)\n",
    "scaler = StandardScaler()\n",
    "X_train_scaled = scaler.fit_transform(X_train)\n",
    "X_valid_scaled = scaler.transform(X_valid)\n",
    "X_test_scaled = scaler.fit_transform(X_test)"
   ]
  },
  {
   "cell_type": "markdown",
   "metadata": {},
   "source": [
    "As before, let's first use a linear model to train on this data."
   ]
  },
  {
   "cell_type": "code",
   "execution_count": 11,
   "metadata": {},
   "outputs": [
    {
     "data": {
      "text/plain": [
       "LinearRegression()"
      ]
     },
     "execution_count": 11,
     "metadata": {},
     "output_type": "execute_result"
    }
   ],
   "source": [
    "from sklearn.linear_model import LinearRegression\n",
    "X_train_full_scaled = scaler.fit_transform(X_train_full)\n",
    "X_test_lin = scaler.transform(X_test)\n",
    "lin_reg = LinearRegression()\n",
    "lin_reg.fit(X_train_full_scaled, y_train_full)"
   ]
  },
  {
   "cell_type": "code",
   "execution_count": 12,
   "metadata": {},
   "outputs": [
    {
     "data": {
      "text/plain": [
       "0.5751409940918981"
      ]
     },
     "execution_count": 12,
     "metadata": {},
     "output_type": "execute_result"
    }
   ],
   "source": [
    "lin_reg.score(X_test_lin, y_test)"
   ]
  },
  {
   "cell_type": "code",
   "execution_count": 13,
   "metadata": {},
   "outputs": [
    {
     "data": {
      "text/plain": [
       "0.7613221016303993"
      ]
     },
     "execution_count": 13,
     "metadata": {},
     "output_type": "execute_result"
    }
   ],
   "source": [
    "from sklearn.metrics import mean_squared_error\n",
    "y_pred = lin_reg.predict(X_test_lin)\n",
    "(mean_squared_error(y_pred, y_test))**0.5"
   ]
  },
  {
   "cell_type": "markdown",
   "metadata": {},
   "source": [
    "Okay, the root mean square error is 0.76. Now, lets train a simple MLP."
   ]
  },
  {
   "cell_type": "code",
   "execution_count": 27,
   "metadata": {},
   "outputs": [],
   "source": [
    "model = keras.models.Sequential([\n",
    "keras.layers.Dense(30, activation=\"relu\", input_shape=X_train.shape[1:]),\n",
    "keras.layers.Dense(1)\n",
    "])"
   ]
  },
  {
   "cell_type": "code",
   "execution_count": 121,
   "metadata": {},
   "outputs": [
    {
     "name": "stdout",
     "output_type": "stream",
     "text": [
      "Model: \"sequential_10\"\n",
      "_________________________________________________________________\n",
      "Layer (type)                 Output Shape              Param #   \n",
      "=================================================================\n",
      "dense_37 (Dense)             (None, 28, 30)            870       \n",
      "_________________________________________________________________\n",
      "dense_38 (Dense)             (None, 28, 1)             31        \n",
      "=================================================================\n",
      "Total params: 901\n",
      "Trainable params: 901\n",
      "Non-trainable params: 0\n",
      "_________________________________________________________________\n"
     ]
    }
   ],
   "source": [
    "model.summary()"
   ]
  },
  {
   "cell_type": "code",
   "execution_count": 92,
   "metadata": {},
   "outputs": [
    {
     "name": "stdout",
     "output_type": "stream",
     "text": [
      "Epoch 1/20\n",
      "363/363 [==============================] - 6s 9ms/step - loss: 0.9186 - mae: 0.6640 - val_loss: 2.6933 - val_mae: 0.6257\n",
      "Epoch 2/20\n",
      "363/363 [==============================] - 3s 7ms/step - loss: 1.7237 - mae: 0.6084 - val_loss: 0.5054 - val_mae: 0.5139\n",
      "Epoch 3/20\n",
      "363/363 [==============================] - 3s 7ms/step - loss: 0.4748 - mae: 0.4971 - val_loss: 0.4664 - val_mae: 0.4851\n",
      "Epoch 4/20\n",
      "363/363 [==============================] - 3s 8ms/step - loss: 0.4466 - mae: 0.4803 - val_loss: 0.4519 - val_mae: 0.4768\n",
      "Epoch 5/20\n",
      "363/363 [==============================] - 3s 7ms/step - loss: 0.4305 - mae: 0.4691 - val_loss: 0.4332 - val_mae: 0.4603\n",
      "Epoch 6/20\n",
      "363/363 [==============================] - 2s 7ms/step - loss: 0.4186 - mae: 0.4601 - val_loss: 0.4226 - val_mae: 0.4618\n",
      "Epoch 7/20\n",
      "363/363 [==============================] - 3s 7ms/step - loss: 0.4152 - mae: 0.4569 - val_loss: 0.4198 - val_mae: 0.4635\n",
      "Epoch 8/20\n",
      "363/363 [==============================] - 3s 7ms/step - loss: 0.4053 - mae: 0.4518 - val_loss: 0.4142 - val_mae: 0.4499\n",
      "Epoch 9/20\n",
      "363/363 [==============================] - 3s 7ms/step - loss: 0.4275 - mae: 0.4570 - val_loss: 0.4228 - val_mae: 0.4557\n",
      "Epoch 10/20\n",
      "363/363 [==============================] - 3s 7ms/step - loss: 0.4059 - mae: 0.4511 - val_loss: 0.4074 - val_mae: 0.4425\n",
      "Epoch 11/20\n",
      "363/363 [==============================] - 3s 7ms/step - loss: 0.3939 - mae: 0.4435 - val_loss: 0.3983 - val_mae: 0.4398\n",
      "Epoch 12/20\n",
      "363/363 [==============================] - 3s 7ms/step - loss: 0.3906 - mae: 0.4399 - val_loss: 0.3943 - val_mae: 0.4405\n",
      "Epoch 13/20\n",
      "363/363 [==============================] - 3s 8ms/step - loss: 0.3854 - mae: 0.4380 - val_loss: 0.3887 - val_mae: 0.4377\n",
      "Epoch 14/20\n",
      "363/363 [==============================] - 3s 7ms/step - loss: 0.3845 - mae: 0.4376 - val_loss: 0.4610 - val_mae: 0.4504\n",
      "Epoch 15/20\n",
      "363/363 [==============================] - 3s 8ms/step - loss: 0.3997 - mae: 0.4414 - val_loss: 0.3958 - val_mae: 0.4345\n",
      "Epoch 16/20\n",
      "363/363 [==============================] - 3s 7ms/step - loss: 0.3746 - mae: 0.4318 - val_loss: 0.3802 - val_mae: 0.4326\n",
      "Epoch 17/20\n",
      "363/363 [==============================] - 2s 7ms/step - loss: 0.3693 - mae: 0.4283 - val_loss: 0.3733 - val_mae: 0.4299\n",
      "Epoch 18/20\n",
      "363/363 [==============================] - 3s 8ms/step - loss: 0.3683 - mae: 0.4274 - val_loss: 0.3734 - val_mae: 0.4306\n",
      "Epoch 19/20\n",
      "363/363 [==============================] - 2s 7ms/step - loss: 0.3634 - mae: 0.4244 - val_loss: 0.3666 - val_mae: 0.4219\n",
      "Epoch 20/20\n",
      "363/363 [==============================] - 3s 7ms/step - loss: 0.3591 - mae: 0.4206 - val_loss: 0.3673 - val_mae: 0.4229\n"
     ]
    }
   ],
   "source": [
    "model.compile(optimizer=\"sgd\", loss=\"mse\", metrics=\"mae\")\n",
    "history = model.fit(X_train_scaled, y_train, epochs=20,validation_data=(X_valid_scaled, y_valid))"
   ]
  },
  {
   "cell_type": "code",
   "execution_count": 93,
   "metadata": {},
   "outputs": [],
   "source": [
    "y_pred = model.predict(X_test_scaled)"
   ]
  },
  {
   "cell_type": "code",
   "execution_count": 96,
   "metadata": {},
   "outputs": [
    {
     "data": {
      "text/plain": [
       "0.5898363690310889"
      ]
     },
     "execution_count": 96,
     "metadata": {},
     "output_type": "execute_result"
    }
   ],
   "source": [
    "(mean_squared_error(y_test, y_pred))**0.5"
   ]
  },
  {
   "cell_type": "markdown",
   "metadata": {},
   "source": [
    "Hurray! The score improved from 0.761 to 0.590."
   ]
  },
  {
   "cell_type": "markdown",
   "metadata": {},
   "source": [
    "#### Building Complex Models Using the Functional API"
   ]
  },
  {
   "cell_type": "markdown",
   "metadata": {},
   "source": [
    "One example of a non-sequential neural network is a Wide & Deep neural network.\n",
    "It connects all or part of the inputs directly to the output layer, as shown in\n",
    "the figure. This architecture makes it possible for the neural network to learn both\n",
    "deep patterns (using the deep path) and simple rules (through the short path). In\n",
    "contrast, a regular MLP forces all the data to flow through the full stack of layers, thus\n",
    "simple patterns in the data may end up being distorted by this sequence of transformations."
   ]
  },
  {
   "cell_type": "markdown",
   "metadata": {},
   "source": [
    "<figure>\n",
    "<figcaption><h4>Wide and Deep Neural Network</h4></figcaption>\n",
    "<img src = \"img/10_11.png\">\n",
    "</figure>"
   ]
  },
  {
   "cell_type": "markdown",
   "metadata": {},
   "source": [
    "Let's see how it is done:"
   ]
  },
  {
   "cell_type": "code",
   "execution_count": 59,
   "metadata": {},
   "outputs": [],
   "source": [
    "input = keras.layers.Input(shape=X_train.shape[1:])\n",
    "hidden1 = keras.layers.Dense(30, activation=\"relu\")(input)\n",
    "hidden2 = keras.layers.Dense(30, activation=\"relu\")(hidden1)\n",
    "concat = keras.layers.concatenate([input, hidden2])\n",
    "output = keras.layers.Dense(1)(concat)\n",
    "model = keras.models.Model(inputs=[input], outputs=[output])"
   ]
  },
  {
   "cell_type": "markdown",
   "metadata": {},
   "source": [
    "* First, we need to create an `Input` object. This is needed because we may have\n",
    "multiple inputs.\n",
    "* Next, we create a `Dense` layer with 30 neurons and using the ReLU activation\n",
    "function. **As soon as it is created, notice that we call it like a function, passing it the input. This is why this is called the Functional API.** We are just telling Keras how it should connect the layers together.\n",
    "* We then create a second hidden layer, and again we use it as a function. Note\n",
    "however that we pass it the output of the first hidden layer.\n",
    "* Next, we create a` concatenate()` layer, and once again we immediately use it like\n",
    "a function, to concatenate the input and the output of the second hidden layer. We can also use `keras.layers.Concatenate()` to create an instance of the `Concatenate()` object and pass the input and hiddent layers afterward.\n",
    "* Then we create the output layer, with a single neuron and no activation function,\n",
    "and we call it like a function, passing it the result of the concatenation.\n",
    "* Lastly, we create a Keras Model, specifying which inputs and outputs to use.<br>\n",
    "Now that the model is created, you must compile the model, train it, evaluate it and use it to make\n",
    "predictions."
   ]
  },
  {
   "cell_type": "code",
   "execution_count": 60,
   "metadata": {},
   "outputs": [
    {
     "data": {
      "image/png": "[encoded data removed]",
      "text/plain": [
       "<IPython.core.display.Image object>"
      ]
     },
     "execution_count": 60,
     "metadata": {},
     "output_type": "execute_result"
    }
   ],
   "source": [
    "from keras.utils.vis_utils import plot_model\n",
    "plot_model(model, show_shapes=True)"
   ]
  },
  {
   "cell_type": "markdown",
   "metadata": {},
   "source": [
    "If you want to send a subset of the features through the wide path, and a\n",
    "different subset (possibly overlapping) through the deep path you can use multiple inputs, like:"
   ]
  },
  {
   "cell_type": "code",
   "execution_count": 56,
   "metadata": {},
   "outputs": [],
   "source": [
    "input_A = keras.layers.Input(shape=[5])\n",
    "input_B = keras.layers.Input(shape=[6])\n",
    "hidden1 = keras.layers.Dense(30, activation=\"relu\")(input_B)\n",
    "hidden2 = keras.layers.Dense(30, activation=\"relu\")(hidden1)\n",
    "concat = keras.layers.concatenate([input_A, hidden2])\n",
    "output = keras.layers.Dense(1)(concat)\n",
    "model = keras.models.Model(inputs=[input_A, input_B], outputs=[output])"
   ]
  },
  {
   "cell_type": "markdown",
   "metadata": {},
   "source": [
    "Note that we specified `inputs=[input_A, input_B]`\n",
    "when creating the model. Now we can compile the model as usual, but when we call\n",
    "the `fit()` method, instead of passing a single input `matrix X_train`, we must pass a\n",
    "pair of matrices `(X_train_A, X_train_B)`: one per input. The same is true for\n",
    "`X_valid`, and also for `X_test` and `X_new` when you call `evaluate()` or `predict()`"
   ]
  },
  {
   "cell_type": "code",
   "execution_count": 58,
   "metadata": {},
   "outputs": [
    {
     "data": {
      "image/png": "[encoded data removed]",
      "text/plain": [
       "<IPython.core.display.Image object>"
      ]
     },
     "execution_count": 58,
     "metadata": {},
     "output_type": "execute_result"
    }
   ],
   "source": [
    "from keras.utils.vis_utils import plot_model\n",
    "plot_model(model, show_shapes=True)"
   ]
  },
  {
   "cell_type": "code",
   "execution_count": 35,
   "metadata": {},
   "outputs": [],
   "source": [
    "model.compile(loss=\"mse\", optimizer=\"sgd\")\n",
    "X_train_A, X_train_B = X_train_scaled[:, :5], X_train_scaled[:, 2:]\n",
    "X_valid_A, X_valid_B = X_valid_scaled[:, :5], X_valid_scaled[:, 2:]\n",
    "X_test_A, X_test_B = X_test_scaled[:, :5], X_test_scaled[:, 2:]\n",
    "X_new_A, X_new_B = X_test_A[:3], X_test_B[:3]"
   ]
  },
  {
   "cell_type": "code",
   "execution_count": 36,
   "metadata": {},
   "outputs": [
    {
     "name": "stdout",
     "output_type": "stream",
     "text": [
      "Epoch 1/20\n",
      "363/363 [==============================] - 2s 4ms/step - loss: 0.9103 - val_loss: 2.6896\n",
      "Epoch 2/20\n",
      "363/363 [==============================] - 1s 3ms/step - loss: 0.6953 - val_loss: 0.5209\n",
      "Epoch 3/20\n",
      "363/363 [==============================] - 1s 3ms/step - loss: 0.5196 - val_loss: 0.4901\n",
      "Epoch 4/20\n",
      "363/363 [==============================] - 1s 3ms/step - loss: 0.4677 - val_loss: 0.4439\n",
      "Epoch 5/20\n",
      "363/363 [==============================] - 1s 3ms/step - loss: 0.4447 - val_loss: 0.4484\n",
      "Epoch 6/20\n",
      "363/363 [==============================] - 1s 3ms/step - loss: 0.4384 - val_loss: 0.4337\n",
      "Epoch 7/20\n",
      "363/363 [==============================] - 1s 3ms/step - loss: 0.4428 - val_loss: 0.4140\n",
      "Epoch 8/20\n",
      "363/363 [==============================] - 1s 4ms/step - loss: 0.4247 - val_loss: 0.4102\n",
      "Epoch 9/20\n",
      "363/363 [==============================] - 1s 3ms/step - loss: 0.4239 - val_loss: 0.4034\n",
      "Epoch 10/20\n",
      "363/363 [==============================] - 1s 3ms/step - loss: 0.4102 - val_loss: 0.4059\n",
      "Epoch 11/20\n",
      "363/363 [==============================] - 1s 3ms/step - loss: 0.4076 - val_loss: 0.3874\n",
      "Epoch 12/20\n",
      "363/363 [==============================] - 1s 3ms/step - loss: 0.3978 - val_loss: 0.3793\n",
      "Epoch 13/20\n",
      "363/363 [==============================] - 1s 3ms/step - loss: 0.3918 - val_loss: 0.3816\n",
      "Epoch 14/20\n",
      "363/363 [==============================] - 1s 2ms/step - loss: 0.3833 - val_loss: 0.3791\n",
      "Epoch 15/20\n",
      "363/363 [==============================] - 1s 3ms/step - loss: 0.3796 - val_loss: 0.3646\n",
      "Epoch 16/20\n",
      "363/363 [==============================] - 1s 3ms/step - loss: 0.3738 - val_loss: 0.3719\n",
      "Epoch 17/20\n",
      "363/363 [==============================] - 1s 3ms/step - loss: 0.3713 - val_loss: 0.3524\n",
      "Epoch 18/20\n",
      "363/363 [==============================] - 1s 3ms/step - loss: 0.3672 - val_loss: 0.3522\n",
      "Epoch 19/20\n",
      "363/363 [==============================] - 1s 3ms/step - loss: 0.3630 - val_loss: 0.3502\n",
      "Epoch 20/20\n",
      "363/363 [==============================] - 1s 3ms/step - loss: 0.3619 - val_loss: 0.3418\n"
     ]
    },
    {
     "data": {
      "text/plain": [
       "<tensorflow.python.keras.callbacks.History at 0x19a26ad16d0>"
      ]
     },
     "execution_count": 36,
     "metadata": {},
     "output_type": "execute_result"
    }
   ],
   "source": [
    "model.fit((X_train_A, X_train_B), y_train, epochs=20,\n",
    "validation_data=((X_valid_A, X_valid_B), y_valid))"
   ]
  },
  {
   "cell_type": "code",
   "execution_count": 37,
   "metadata": {},
   "outputs": [
    {
     "name": "stdout",
     "output_type": "stream",
     "text": [
      "162/162 [==============================] - 0s 2ms/step - loss: 5.6201\n"
     ]
    }
   ],
   "source": [
    "mse_test = model.evaluate((X_test_A, X_test_B), y_test)"
   ]
  },
  {
   "cell_type": "code",
   "execution_count": 38,
   "metadata": {},
   "outputs": [
    {
     "data": {
      "text/plain": [
       "5.620115790512163"
      ]
     },
     "execution_count": 38,
     "metadata": {},
     "output_type": "execute_result"
    }
   ],
   "source": [
    "from sklearn.metrics import mean_squared_error\n",
    "y_pred = model.predict((X_test_A, X_test_B))\n",
    "mean_squared_error(y_test, y_pred)"
   ]
  },
  {
   "cell_type": "code",
   "execution_count": 53,
   "metadata": {},
   "outputs": [
    {
     "data": {
      "text/plain": [
       "0.3509396734169281"
      ]
     },
     "execution_count": 53,
     "metadata": {},
     "output_type": "execute_result"
    }
   ],
   "source": [
    "y_pred = model.predict((X_train_A, X_train_B))\n",
    "mean_squared_error(y_train, y_pred)"
   ]
  },
  {
   "cell_type": "markdown",
   "metadata": {},
   "source": [
    "It seems the model was overfitting hence this horrible mse on test set!"
   ]
  },
  {
   "cell_type": "markdown",
   "metadata": {},
   "source": [
    "<figure>\n",
    "<figcaption><h4>Handling Multiple Inputs</h4></figcaption>\n",
    "<img src = \"img/10_12.png\">\n",
    "</figure>"
   ]
  },
  {
   "cell_type": "markdown",
   "metadata": {},
   "source": [
    "There can be some cases when you may want to have multiple outputs. For example a regularization technique. You may want to add some auxiliary outputs in a neural network architecture to ensure that the underlying part of the\n",
    "network learns something useful on its own, without relying on the rest of the\n",
    "network. Adding extra outputs is quite easy: just connect them to the appropriate layers and\n",
    "add them to your model’s list of outputs."
   ]
  },
  {
   "cell_type": "code",
   "execution_count": 102,
   "metadata": {},
   "outputs": [],
   "source": [
    "input_A = keras.layers.Input(shape=[5])\n",
    "input_B = keras.layers.Input(shape=[6])\n",
    "hidden1 = keras.layers.Dense(30, activation=\"relu\")(input_B)\n",
    "hidden2 = keras.layers.Dense(30, activation=\"relu\")(hidden1)\n",
    "concat = keras.layers.concatenate([input_A, hidden2])\n",
    "output = keras.layers.Dense(1)(concat)\n",
    "aux_output = keras.layers.Dense(1)(hidden2)\n",
    "model = keras.models.Model(inputs=[input_A, input_B], outputs=[output, aux_output])"
   ]
  },
  {
   "cell_type": "markdown",
   "metadata": {},
   "source": [
    "This is the same model as above but uses two outputs. By default, Keras will compute all these losses and\n",
    "simply add them up to get the final loss used for training. However, we care much\n",
    "more about the main output than about the auxiliary output, so we want to give the main output’s loss a much greater weight. "
   ]
  },
  {
   "cell_type": "code",
   "execution_count": 103,
   "metadata": {},
   "outputs": [],
   "source": [
    "model.compile(loss=[\"mse\", \"mse\"], loss_weights=[0.9, 0.1], optimizer=\"sgd\")"
   ]
  },
  {
   "cell_type": "markdown",
   "metadata": {},
   "source": [
    "Now when we train the model, we need to provide some labels for each output. In\n",
    "this example, the main output and the auxiliary output should try to predict the same\n",
    "thing, so they should use the same labels. So instead of passing `y_train`, we just need\n",
    "to pass `(y_train, y_train)`."
   ]
  },
  {
   "cell_type": "code",
   "execution_count": 91,
   "metadata": {},
   "outputs": [
    {
     "name": "stdout",
     "output_type": "stream",
     "text": [
      "Epoch 1/20\n",
      "363/363 [==============================] - 13s 17ms/step - loss: 1.0193 - dense_36_loss: 0.9048 - dense_37_loss: 2.0492 - val_loss: 0.9755 - val_dense_36_loss: 0.9508 - val_dense_37_loss: 1.1977\n",
      "Epoch 2/20\n",
      "363/363 [==============================] - 5s 13ms/step - loss: 0.5941 - dense_36_loss: 0.5461 - dense_37_loss: 1.0262 - val_loss: 0.5031 - val_dense_36_loss: 0.4518 - val_dense_37_loss: 0.9646\n",
      "Epoch 3/20\n",
      "363/363 [==============================] - 5s 13ms/step - loss: 0.4998 - dense_36_loss: 0.4595 - dense_37_loss: 0.8628 - val_loss: 0.4675 - val_dense_36_loss: 0.4283 - val_dense_37_loss: 0.8200\n",
      "Epoch 4/20\n",
      "363/363 [==============================] - 5s 13ms/step - loss: 0.4700 - dense_36_loss: 0.4378 - dense_37_loss: 0.7605 - val_loss: 0.4443 - val_dense_36_loss: 0.4128 - val_dense_37_loss: 0.7275\n",
      "Epoch 5/20\n",
      "363/363 [==============================] - 4s 12ms/step - loss: 0.4465 - dense_36_loss: 0.4187 - dense_37_loss: 0.6967 - val_loss: 0.4319 - val_dense_36_loss: 0.4052 - val_dense_37_loss: 0.6721\n",
      "Epoch 6/20\n",
      "363/363 [==============================] - 5s 14ms/step - loss: 0.4368 - dense_36_loss: 0.4124 - dense_37_loss: 0.6556 - val_loss: 0.4205 - val_dense_36_loss: 0.3966 - val_dense_37_loss: 0.6354\n",
      "Epoch 7/20\n",
      "363/363 [==============================] - 4s 12ms/step - loss: 0.4247 - dense_36_loss: 0.4022 - dense_37_loss: 0.6269 - val_loss: 0.4151 - val_dense_36_loss: 0.3930 - val_dense_37_loss: 0.6137\n",
      "Epoch 8/20\n",
      "363/363 [==============================] - 4s 12ms/step - loss: 0.4167 - dense_36_loss: 0.3958 - dense_37_loss: 0.6043 - val_loss: 0.4064 - val_dense_36_loss: 0.3865 - val_dense_37_loss: 0.5853\n",
      "Epoch 9/20\n",
      "363/363 [==============================] - 5s 12ms/step - loss: 0.4109 - dense_36_loss: 0.3915 - dense_37_loss: 0.5854 - val_loss: 0.4000 - val_dense_36_loss: 0.3811 - val_dense_37_loss: 0.5703\n",
      "Epoch 10/20\n",
      "363/363 [==============================] - 5s 13ms/step - loss: 0.4033 - dense_36_loss: 0.3846 - dense_37_loss: 0.5720 - val_loss: 0.3939 - val_dense_36_loss: 0.3759 - val_dense_37_loss: 0.5557\n",
      "Epoch 11/20\n",
      "363/363 [==============================] - 4s 12ms/step - loss: 0.3961 - dense_36_loss: 0.3783 - dense_37_loss: 0.5565 - val_loss: 0.3869 - val_dense_36_loss: 0.3700 - val_dense_37_loss: 0.5390\n",
      "Epoch 12/20\n",
      "363/363 [==============================] - 4s 12ms/step - loss: 0.3892 - dense_36_loss: 0.3720 - dense_37_loss: 0.5439 - val_loss: 0.3889 - val_dense_36_loss: 0.3725 - val_dense_37_loss: 0.5368\n",
      "Epoch 13/20\n",
      "363/363 [==============================] - 4s 12ms/step - loss: 0.3842 - dense_36_loss: 0.3677 - dense_37_loss: 0.5330 - val_loss: 0.3800 - val_dense_36_loss: 0.3639 - val_dense_37_loss: 0.5249\n",
      "Epoch 14/20\n",
      "363/363 [==============================] - 4s 12ms/step - loss: 0.3806 - dense_36_loss: 0.3645 - dense_37_loss: 0.5250 - val_loss: 0.3699 - val_dense_36_loss: 0.3545 - val_dense_37_loss: 0.5090\n",
      "Epoch 15/20\n",
      "363/363 [==============================] - 4s 12ms/step - loss: 0.3750 - dense_36_loss: 0.3596 - dense_37_loss: 0.5135 - val_loss: 0.3627 - val_dense_36_loss: 0.3478 - val_dense_37_loss: 0.4967\n",
      "Epoch 16/20\n",
      "363/363 [==============================] - 5s 13ms/step - loss: 0.3751 - dense_36_loss: 0.3607 - dense_37_loss: 0.5051 - val_loss: 0.3585 - val_dense_36_loss: 0.3442 - val_dense_37_loss: 0.4872\n",
      "Epoch 17/20\n",
      "363/363 [==============================] - 5s 13ms/step - loss: 0.3676 - dense_36_loss: 0.3532 - dense_37_loss: 0.4969 - val_loss: 0.3609 - val_dense_36_loss: 0.3468 - val_dense_37_loss: 0.4880\n",
      "Epoch 18/20\n",
      "363/363 [==============================] - 4s 11ms/step - loss: 0.3653 - dense_36_loss: 0.3515 - dense_37_loss: 0.4893 - val_loss: 0.3841 - val_dense_36_loss: 0.3706 - val_dense_37_loss: 0.5059\n",
      "Epoch 19/20\n",
      "363/363 [==============================] - 4s 11ms/step - loss: 0.3643 - dense_36_loss: 0.3509 - dense_37_loss: 0.4850 - val_loss: 0.3570 - val_dense_36_loss: 0.3440 - val_dense_37_loss: 0.4739\n",
      "Epoch 20/20\n",
      "363/363 [==============================] - 4s 12ms/step - loss: 0.3586 - dense_36_loss: 0.3457 - dense_37_loss: 0.4747 - val_loss: 0.3640 - val_dense_36_loss: 0.3510 - val_dense_37_loss: 0.4803\n"
     ]
    },
    {
     "data": {
      "text/plain": [
       "<tensorflow.python.keras.callbacks.History at 0x19a26412190>"
      ]
     },
     "execution_count": 91,
     "metadata": {},
     "output_type": "execute_result"
    }
   ],
   "source": [
    "model.fit([X_train_A, X_train_B], [y_train, y_train], epochs=20,\n",
    "validation_data=([X_valid_A, X_valid_B], [y_valid, y_valid]))"
   ]
  },
  {
   "cell_type": "markdown",
   "metadata": {},
   "source": [
    "When we evaluate the model, Keras will return the total loss, as well as all the individual losses:"
   ]
  },
  {
   "cell_type": "code",
   "execution_count": 66,
   "metadata": {},
   "outputs": [
    {
     "name": "stdout",
     "output_type": "stream",
     "text": [
      "162/162 [==============================] - 4s 2ms/step - loss: 6.6397 - dense_24_loss: 6.7451 - dense_25_loss: 5.6909\n"
     ]
    }
   ],
   "source": [
    "total_loss, main_loss, aux_loss = model.evaluate(\n",
    "[X_test_A, X_test_B], [y_test, y_test])"
   ]
  },
  {
   "cell_type": "code",
   "execution_count": 68,
   "metadata": {},
   "outputs": [
    {
     "data": {
      "text/plain": [
       "6.639705181121826"
      ]
     },
     "execution_count": 68,
     "metadata": {},
     "output_type": "execute_result"
    }
   ],
   "source": [
    "total_loss"
   ]
  },
  {
   "cell_type": "markdown",
   "metadata": {},
   "source": [
    "Similarly, the `predict()` method will return predictions for each output:"
   ]
  },
  {
   "cell_type": "code",
   "execution_count": 74,
   "metadata": {},
   "outputs": [],
   "source": [
    "y_pred_main, y_pred_aux = model.predict([X_new_A, X_new_B])"
   ]
  },
  {
   "cell_type": "code",
   "execution_count": 75,
   "metadata": {},
   "outputs": [
    {
     "data": {
      "text/plain": [
       "((3, 1), (3, 1))"
      ]
     },
     "execution_count": 75,
     "metadata": {},
     "output_type": "execute_result"
    }
   ],
   "source": [
    "y_pred_main.shape, y_pred_aux.shape"
   ]
  },
  {
   "cell_type": "code",
   "execution_count": 84,
   "metadata": {},
   "outputs": [
    {
     "data": {
      "image/png": "[encoded data removed]",
      "text/plain": [
       "<IPython.core.display.Image object>"
      ]
     },
     "execution_count": 84,
     "metadata": {},
     "output_type": "execute_result"
    }
   ],
   "source": [
    "plot_model(model, show_shapes=True)"
   ]
  },
  {
   "cell_type": "markdown",
   "metadata": {},
   "source": [
    "#### Building Dynamic Models Using the Subclassing API"
   ]
  },
  {
   "cell_type": "markdown",
   "metadata": {},
   "source": [
    "Both the Sequential API and the Functional API are declarative: you start by declaring which layers you want to use and how they should be connected, and only then\n",
    "can you start feeding the model some data for training or inference. This has many\n",
    "advantages: the model can easily be saved, cloned, shared, its structure can be displayed and analyzed, the framework can infer shapes and check types, so errors can\n",
    "be caught early. However, some models involve loops, varying shapes, conditional branching,\n",
    "and other dynamic behaviors. For such cases, you can use the Subclassing API."
   ]
  },
  {
   "cell_type": "markdown",
   "metadata": {},
   "source": [
    "Simply subclass the `Model` class, create the layers you need in the constructor, and use\n",
    "them to perform the computations you want in the `call()` method. For example, creating an instance of the following `WideAndDeepModel` class gives us an equivalent\n",
    "model to the one we just built with the Functional API. You can then compile it, evaluate it and use it to make predictions, exactly like we just did."
   ]
  },
  {
   "cell_type": "code",
   "execution_count": 86,
   "metadata": {},
   "outputs": [],
   "source": [
    "class WideAndDeepModel(keras.models.Model):\n",
    "    def __init__(self, units=30, activation=\"relu\", **kwargs):\n",
    "        super().__init__(**kwargs) # handles standard args (e.g., name)\n",
    "        self.hidden1 = keras.layers.Dense(units, activation=activation)\n",
    "        self.hidden2 = keras.layers.Dense(units, activation=activation)\n",
    "        self.main_output = keras.layers.Dense(1)\n",
    "        self.aux_output = keras.layers.Dense(1)\n",
    "    def call(self, inputs):\n",
    "        input_A, input_B = inputs\n",
    "        hidden1 = self.hidden1(input_B)\n",
    "        hidden2 = self.hidden2(hidden1)\n",
    "        concat = keras.layers.concatenate([input_A, hidden2])\n",
    "        main_output = self.main_output(concat)\n",
    "        aux_output = self.aux_output(hidden2)\n",
    "        return main_output, aux_output\n",
    "model = WideAndDeepModel()"
   ]
  },
  {
   "cell_type": "markdown",
   "metadata": {},
   "source": [
    "This example looks very much like the Functional API, except we do not need to create the inputs, we just use the input argument to the `call()` method, and we separate\n",
    "the creation of the layers in the constructor from their usage in the `call()` method.\n",
    "However, the big difference is that you can do pretty much anything you want in the\n",
    "`call()` method: for loops, if statements, low-level TensorFlow operations etc.\n",
    "<br>\n",
    "However, this extra flexibility comes at a cost: your model’s architecture is hidden\n",
    "within the `call()` method, so Keras cannot easily inspect it, it cannot save or clone it,\n",
    "and when you call the `summary()` method, you only get a list of layers, without any\n",
    "information on how they are connected to each other. Moreover, Keras cannot check\n",
    "types and shapes ahead of time, and it is easier to make mistakes. **So unless you really\n",
    "need that extra flexibility, you should probably stick to the Sequential API or the\n",
    "Functional API.**"
   ]
  },
  {
   "cell_type": "code",
   "execution_count": 88,
   "metadata": {},
   "outputs": [
    {
     "data": {
      "image/png": "[encoded data removed]",
      "text/plain": [
       "<IPython.core.display.Image object>"
      ]
     },
     "execution_count": 88,
     "metadata": {},
     "output_type": "execute_result"
    }
   ],
   "source": [
    "plot_model(model, show_shapes=True)"
   ]
  },
  {
   "cell_type": "markdown",
   "metadata": {},
   "source": [
    "> Keras models can be used just like regular layers, so you can easily\n",
    "compose them to build complex architectures."
   ]
  },
  {
   "cell_type": "markdown",
   "metadata": {},
   "source": [
    "#### Saving and Restoring a Model"
   ]
  },
  {
   "cell_type": "markdown",
   "metadata": {},
   "source": [
    "Saving a trained Keras model is very simple:"
   ]
  },
  {
   "cell_type": "code",
   "execution_count": 92,
   "metadata": {},
   "outputs": [],
   "source": [
    "model.save(\"my_keras_model.h5\")"
   ]
  },
  {
   "cell_type": "markdown",
   "metadata": {},
   "source": [
    "Keras will save both the model’s architecture (including every layer’s hyperparameters) and the value of all the model parameters for every layer (e.g., connection\n",
    "weights and biases), using the HDF5 format. It also saves the optimizer (including its\n",
    "hyperparameters and any state it may have)."
   ]
  },
  {
   "cell_type": "markdown",
   "metadata": {},
   "source": [
    "Loading\n",
    "the model is just as easy:"
   ]
  },
  {
   "cell_type": "code",
   "execution_count": 93,
   "metadata": {},
   "outputs": [],
   "source": [
    "model = keras.models.load_model(\"my_keras_model.h5\")"
   ]
  },
  {
   "cell_type": "markdown",
   "metadata": {},
   "source": [
    ">This will work when using the Sequential API or the Functional\n",
    "API, but unfortunately not when using Model subclassing. However, you can use `save_weights()` and `load_weights()` to at least\n",
    "save and restore the model parameters (but you will need to save\n",
    "and restore everything else yourself)."
   ]
  },
  {
   "cell_type": "markdown",
   "metadata": {},
   "source": [
    "#### Using Callbacks"
   ]
  },
  {
   "cell_type": "markdown",
   "metadata": {},
   "source": [
    "The `fit()` method accepts a callbacks argument that lets you specify a list of objects\n",
    "that Keras will call during training at the start and end of training, at the start and end\n",
    "of each epoch and even before and after processing each batch. For example, the `ModelCheckpoint` callback saves checkpoints of your model at regular intervals during\n",
    "training, by default at the end of each epoch. This is really helpful when training a model takes hours. In this case you can save checkpoints at regular intervals during training"
   ]
  },
  {
   "cell_type": "code",
   "execution_count": 95,
   "metadata": {},
   "outputs": [
    {
     "name": "stdout",
     "output_type": "stream",
     "text": [
      "Epoch 1/20\n",
      "363/363 [==============================] - 12s 17ms/step - loss: 1.3580 - dense_44_loss: 1.2603 - dense_45_loss: 2.2370 - val_loss: 1.2418 - val_dense_44_loss: 1.1494 - val_dense_45_loss: 2.0736\n",
      "Epoch 2/20\n",
      "363/363 [==============================] - 4s 12ms/step - loss: 0.6222 - dense_44_loss: 0.5542 - dense_45_loss: 1.2342 - val_loss: 0.6018 - val_dense_44_loss: 0.5361 - val_dense_45_loss: 1.1935\n",
      "Epoch 3/20\n",
      "363/363 [==============================] - 4s 11ms/step - loss: 0.5318 - dense_44_loss: 0.4803 - dense_45_loss: 0.9956 - val_loss: 0.5061 - val_dense_44_loss: 0.4525 - val_dense_45_loss: 0.9879\n",
      "Epoch 4/20\n",
      "363/363 [==============================] - 4s 12ms/step - loss: 0.4861 - dense_44_loss: 0.4448 - dense_45_loss: 0.8578 - val_loss: 0.4748 - val_dense_44_loss: 0.4341 - val_dense_45_loss: 0.8412\n",
      "Epoch 5/20\n",
      "363/363 [==============================] - 4s 12ms/step - loss: 0.4641 - dense_44_loss: 0.4310 - dense_45_loss: 0.7621 - val_loss: 0.4449 - val_dense_44_loss: 0.4114 - val_dense_45_loss: 0.7468\n",
      "Epoch 6/20\n",
      "363/363 [==============================] - 4s 12ms/step - loss: 0.4464 - dense_44_loss: 0.4182 - dense_45_loss: 0.7006 - val_loss: 0.4335 - val_dense_44_loss: 0.4047 - val_dense_45_loss: 0.6925\n",
      "Epoch 7/20\n",
      "363/363 [==============================] - 4s 12ms/step - loss: 0.4341 - dense_44_loss: 0.4086 - dense_45_loss: 0.6629 - val_loss: 0.4273 - val_dense_44_loss: 0.4021 - val_dense_45_loss: 0.6537\n",
      "Epoch 8/20\n",
      "363/363 [==============================] - 4s 12ms/step - loss: 0.4275 - dense_44_loss: 0.4044 - dense_45_loss: 0.6353 - val_loss: 0.4142 - val_dense_44_loss: 0.3908 - val_dense_45_loss: 0.6254\n",
      "Epoch 9/20\n",
      "363/363 [==============================] - 5s 13ms/step - loss: 0.4167 - dense_44_loss: 0.3953 - dense_45_loss: 0.6089 - val_loss: 0.4131 - val_dense_44_loss: 0.3925 - val_dense_45_loss: 0.5992\n",
      "Epoch 10/20\n",
      "363/363 [==============================] - 5s 13ms/step - loss: 0.4131 - dense_44_loss: 0.3932 - dense_45_loss: 0.5914 - val_loss: 0.4088 - val_dense_44_loss: 0.3887 - val_dense_45_loss: 0.5902\n",
      "Epoch 11/20\n",
      "363/363 [==============================] - 5s 14ms/step - loss: 0.4032 - dense_44_loss: 0.3840 - dense_45_loss: 0.5757 - val_loss: 0.4014 - val_dense_44_loss: 0.3825 - val_dense_45_loss: 0.5717\n",
      "Epoch 12/20\n",
      "363/363 [==============================] - 5s 13ms/step - loss: 0.3958 - dense_44_loss: 0.3778 - dense_45_loss: 0.5577 - val_loss: 0.4206 - val_dense_44_loss: 0.4035 - val_dense_45_loss: 0.5745\n",
      "Epoch 13/20\n",
      "363/363 [==============================] - 4s 12ms/step - loss: 0.3917 - dense_44_loss: 0.3747 - dense_45_loss: 0.5443 - val_loss: 0.3917 - val_dense_44_loss: 0.3755 - val_dense_45_loss: 0.5382\n",
      "Epoch 14/20\n",
      "363/363 [==============================] - 5s 13ms/step - loss: 0.3859 - dense_44_loss: 0.3696 - dense_45_loss: 0.5324 - val_loss: 0.3855 - val_dense_44_loss: 0.3694 - val_dense_45_loss: 0.5306\n",
      "Epoch 15/20\n",
      "363/363 [==============================] - 4s 12ms/step - loss: 0.3809 - dense_44_loss: 0.3658 - dense_45_loss: 0.5172 - val_loss: 0.3653 - val_dense_44_loss: 0.3487 - val_dense_45_loss: 0.5145\n",
      "Epoch 16/20\n",
      "363/363 [==============================] - 5s 14ms/step - loss: 0.3758 - dense_44_loss: 0.3610 - dense_45_loss: 0.5094 - val_loss: 0.3663 - val_dense_44_loss: 0.3510 - val_dense_45_loss: 0.5047\n",
      "Epoch 17/20\n",
      "363/363 [==============================] - 5s 13ms/step - loss: 0.3720 - dense_44_loss: 0.3576 - dense_45_loss: 0.5016 - val_loss: 0.3724 - val_dense_44_loss: 0.3576 - val_dense_45_loss: 0.5059\n",
      "Epoch 18/20\n",
      "363/363 [==============================] - 5s 13ms/step - loss: 0.3691 - dense_44_loss: 0.3555 - dense_45_loss: 0.4915 - val_loss: 0.3848 - val_dense_44_loss: 0.3730 - val_dense_45_loss: 0.4907\n",
      "Epoch 19/20\n",
      "363/363 [==============================] - 5s 13ms/step - loss: 0.3679 - dense_44_loss: 0.3551 - dense_45_loss: 0.4832 - val_loss: 0.3615 - val_dense_44_loss: 0.3469 - val_dense_45_loss: 0.4933\n",
      "Epoch 20/20\n",
      "363/363 [==============================] - 4s 12ms/step - loss: 0.3640 - dense_44_loss: 0.3511 - dense_45_loss: 0.4795 - val_loss: 0.3649 - val_dense_44_loss: 0.3512 - val_dense_45_loss: 0.4884\n"
     ]
    },
    {
     "data": {
      "text/plain": [
       "<tensorflow.python.keras.callbacks.History at 0x19a29fba7f0>"
      ]
     },
     "execution_count": 95,
     "metadata": {},
     "output_type": "execute_result"
    }
   ],
   "source": [
    "#Building the model\n",
    "input_A = keras.layers.Input(shape=[5])\n",
    "input_B = keras.layers.Input(shape=[6])\n",
    "hidden1 = keras.layers.Dense(30, activation=\"relu\")(input_B)\n",
    "hidden2 = keras.layers.Dense(30, activation=\"relu\")(hidden1)\n",
    "concat = keras.layers.concatenate([input_A, hidden2])\n",
    "output = keras.layers.Dense(1)(concat)\n",
    "aux_output = keras.layers.Dense(1)(hidden2)\n",
    "model = keras.models.Model(inputs=[input_A, input_B], outputs=[output, aux_output])\n",
    "\n",
    "#Compiling the model\n",
    "model.compile(loss=[\"mse\", \"mse\"], loss_weights=[0.9, 0.1], optimizer=\"sgd\")\n",
    "\n",
    "#Using callbacks\n",
    "checkpoint_cb = keras.callbacks.ModelCheckpoint(\"my_keras_model.h5\")\n",
    "model.fit([X_train_A, X_train_B], [y_train, y_train], epochs=20, \n",
    "    validation_data=([X_valid_A, X_valid_B], [y_valid, y_valid]), callbacks=[checkpoint_cb])"
   ]
  },
  {
   "cell_type": "markdown",
   "metadata": {},
   "source": [
    "Moreover, if you use a validation set during training, you can set\n",
    "`save_best_only=True` when creating the ModelCheckpoint. In this case, it will only\n",
    "save your model when its performance on the validation set is the best so far. This\n",
    "way, you do not need to worry about training for too long and overfitting the training\n",
    "set: simply restore the last model saved after training, and this will be the best model\n",
    "on the validation set. This is a simpler way of early stopping."
   ]
  },
  {
   "cell_type": "markdown",
   "metadata": {},
   "source": [
    "Another way to implement early stopping is to simply use the `EarlyStopping` callback. It will interrupt training when it measures no progress on the validation set for\n",
    "a number of epochs (defined by the patience argument), and it will optionally roll\n",
    "back to the best model."
   ]
  },
  {
   "cell_type": "markdown",
   "metadata": {},
   "source": [
    "```\n",
    "checkpoint_cb = keras.callbacks.ModelCheckpoint(\"my_keras_model.h5\",\n",
    "save_best_only=True)\n",
    "early_stopping_cb = keras.callbacks.EarlyStopping(patience=10,\n",
    "restore_best_weights=True)\n",
    "history = model.fit(X_train, y_train, epochs=100,\n",
    "validation_data=(X_valid, y_valid),\n",
    "callbacks=[checkpoint_cb, early_stopping_cb])\n",
    "model = keras.models.load_model(\"my_keras_model.h5\") # rollback to best model\n",
    "```"
   ]
  },
  {
   "cell_type": "markdown",
   "metadata": {},
   "source": [
    "The number of epochs can be set to a large value since training will stop automatically when there is no more progress. Moreover, there is no need to restore the best\n",
    "model saved in this case since the `EarlyStopping` callback will keep track of the best\n",
    "weights and restore them for us at the end of training"
   ]
  },
  {
   "cell_type": "markdown",
   "metadata": {},
   "source": [
    "If you need extra control, you can easily write your own custom callbacks. For example, the following custom callback will display the ratio between the validation loss\n",
    "and the training loss during training."
   ]
  },
  {
   "cell_type": "code",
   "execution_count": 96,
   "metadata": {},
   "outputs": [],
   "source": [
    "class PrintValTrainRatioCallback(keras.callbacks.Callback):\n",
    "    def on_epoch_end(self, epoch, logs):\n",
    "        print(\"\\nval/train: {:.2f}\".format(logs[\"val_loss\"] / logs[\"loss\"]))"
   ]
  },
  {
   "cell_type": "markdown",
   "metadata": {},
   "source": [
    "You can implement `on_train_begin()`, `on_train_end()`,\n",
    "`on_epoch_begin()`, `on_epoch_begin()`, `on_batch_end()` and `on_batch_end()`.\n",
    "Moreover, callbacks can also be used during evaluation and predictions, should you\n",
    "ever need them (e.g., for debugging). In this case, you should implement\n",
    "`on_test_begin()`, `on_test_end()`, `on_test_batch_begin()`, or\n",
    "`on_test_batch_end()` (called by `evaluate()`), or `on_predict_begin()`, `on_predict_end()`, `on_predict_batch_begin()`, or `on_predict_batch_end()` (called by\n",
    "`predict()`)."
   ]
  },
  {
   "cell_type": "markdown",
   "metadata": {},
   "source": [
    "#### Visualization Using TensorBoard"
   ]
  },
  {
   "cell_type": "markdown",
   "metadata": {},
   "source": [
    "To use `TensorBoard`, you must modify your program so that it outputs the data you want to visualize to special binary log files called event files. Each binary data record is called a\n",
    "*summary*. The TensorBoard server will monitor the log directory, and it will automatically pick up the changes and update the visualizations: this allows you to visualize\n",
    "live data (with a short delay), such as the learning curves during training. In general,\n",
    "you want to point the `TensorBoard` server to a root log directory, and configure your\n",
    "program so that it writes to a different subdirectory every time it runs. This way, the\n",
    "same `TensorBoard` server instance will allow you to visualize and compare data from\n",
    "multiple runs of your program, without getting everything mixed up."
   ]
  },
  {
   "cell_type": "code",
   "execution_count": 98,
   "metadata": {},
   "outputs": [],
   "source": [
    "import os\n",
    "import time\n",
    "root_logdir = os.path.join(os.curdir, \"my_logs\")\n",
    "def get_run_logdir():\n",
    "    run_id = time.strftime(\"run_%Y_%m_%d-%H_%M_%S\")\n",
    "    return os.path.join(root_logdir, run_id)\n",
    "run_logdir = get_run_logdir()"
   ]
  },
  {
   "cell_type": "markdown",
   "metadata": {},
   "source": [
    "Keras already provides a nice `TensorBoard` callback:"
   ]
  },
  {
   "cell_type": "code",
   "execution_count": 100,
   "metadata": {},
   "outputs": [],
   "source": [
    "# Load the TensorBoard notebook extension\n",
    "%load_ext tensorboard"
   ]
  },
  {
   "cell_type": "code",
   "execution_count": 109,
   "metadata": {},
   "outputs": [],
   "source": [
    "import tensorflow as tf\n",
    "import datetime\n",
    "log_dir = \"logs/fit/\" + datetime.datetime.now().strftime(\"%Y%m%d-%H%M%S\")\n",
    "tensorboard_cb = tf.keras.callbacks.TensorBoard(log_dir=log_dir, histogram_freq=1)"
   ]
  },
  {
   "cell_type": "code",
   "execution_count": 110,
   "metadata": {},
   "outputs": [
    {
     "name": "stdout",
     "output_type": "stream",
     "text": [
      "Epoch 1/20\n",
      "363/363 [==============================] - 11s 20ms/step - loss: 0.3535 - dense_48_loss: 0.3386 - dense_49_loss: 0.4878 - val_loss: 0.3374 - val_dense_48_loss: 0.3221 - val_dense_49_loss: 0.4749\n",
      "Epoch 2/20\n",
      "363/363 [==============================] - 5s 13ms/step - loss: 0.3512 - dense_48_loss: 0.3366 - dense_49_loss: 0.4821 - val_loss: 0.3504 - val_dense_48_loss: 0.3367 - val_dense_49_loss: 0.4734\n",
      "Epoch 3/20\n",
      "363/363 [==============================] - 3s 9ms/step - loss: 0.3499 - dense_48_loss: 0.3358 - dense_49_loss: 0.4770 - val_loss: 0.3437 - val_dense_48_loss: 0.3298 - val_dense_49_loss: 0.4689\n",
      "Epoch 4/20\n",
      "363/363 [==============================] - 3s 8ms/step - loss: 0.3502 - dense_48_loss: 0.3368 - dense_49_loss: 0.4714 - val_loss: 0.3542 - val_dense_48_loss: 0.3404 - val_dense_49_loss: 0.4781\n",
      "Epoch 5/20\n",
      "363/363 [==============================] - 3s 8ms/step - loss: 0.3457 - dense_48_loss: 0.3324 - dense_49_loss: 0.4657 - val_loss: 0.3440 - val_dense_48_loss: 0.3302 - val_dense_49_loss: 0.4679\n",
      "Epoch 6/20\n",
      "363/363 [==============================] - 3s 8ms/step - loss: 0.3441 - dense_48_loss: 0.3310 - dense_49_loss: 0.4623 - val_loss: 0.3449 - val_dense_48_loss: 0.3319 - val_dense_49_loss: 0.4622\n",
      "Epoch 7/20\n",
      "363/363 [==============================] - 3s 9ms/step - loss: 0.3460 - dense_48_loss: 0.3334 - dense_49_loss: 0.4595 - val_loss: 0.3727 - val_dense_48_loss: 0.3627 - val_dense_49_loss: 0.4628\n",
      "Epoch 8/20\n",
      "363/363 [==============================] - 3s 8ms/step - loss: 0.3418 - dense_48_loss: 0.3294 - dense_49_loss: 0.4534 - val_loss: 0.3329 - val_dense_48_loss: 0.3205 - val_dense_49_loss: 0.4443\n",
      "Epoch 9/20\n",
      "363/363 [==============================] - 3s 7ms/step - loss: 0.3408 - dense_48_loss: 0.3286 - dense_49_loss: 0.4507 - val_loss: 0.3302 - val_dense_48_loss: 0.3171 - val_dense_49_loss: 0.4483\n",
      "Epoch 10/20\n",
      "363/363 [==============================] - 3s 7ms/step - loss: 0.3395 - dense_48_loss: 0.3276 - dense_49_loss: 0.4466 - val_loss: 0.3298 - val_dense_48_loss: 0.3175 - val_dense_49_loss: 0.4410\n",
      "Epoch 11/20\n",
      "363/363 [==============================] - 3s 8ms/step - loss: 0.3387 - dense_48_loss: 0.3270 - dense_49_loss: 0.4442 - val_loss: 0.3291 - val_dense_48_loss: 0.3170 - val_dense_49_loss: 0.4385\n",
      "Epoch 12/20\n",
      "363/363 [==============================] - 3s 8ms/step - loss: 0.3386 - dense_48_loss: 0.3273 - dense_49_loss: 0.4404 - val_loss: 0.3275 - val_dense_48_loss: 0.3159 - val_dense_49_loss: 0.4324\n",
      "Epoch 13/20\n",
      "363/363 [==============================] - 4s 10ms/step - loss: 0.3400 - dense_48_loss: 0.3290 - dense_49_loss: 0.4388 - val_loss: 0.3376 - val_dense_48_loss: 0.3266 - val_dense_49_loss: 0.4360\n",
      "Epoch 14/20\n",
      "363/363 [==============================] - 3s 9ms/step - loss: 0.3364 - dense_48_loss: 0.3255 - dense_49_loss: 0.4352 - val_loss: 0.3279 - val_dense_48_loss: 0.3161 - val_dense_49_loss: 0.4337\n",
      "Epoch 15/20\n",
      "363/363 [==============================] - 3s 8ms/step - loss: 0.3345 - dense_48_loss: 0.3237 - dense_49_loss: 0.4325 - val_loss: 0.3346 - val_dense_48_loss: 0.3234 - val_dense_49_loss: 0.4351\n",
      "Epoch 16/20\n",
      "363/363 [==============================] - 3s 7ms/step - loss: 0.3353 - dense_48_loss: 0.3247 - dense_49_loss: 0.4301 - val_loss: 0.3315 - val_dense_48_loss: 0.3213 - val_dense_49_loss: 0.4234\n",
      "Epoch 17/20\n",
      "363/363 [==============================] - 3s 7ms/step - loss: 0.3331 - dense_48_loss: 0.3226 - dense_49_loss: 0.4269 - val_loss: 0.3358 - val_dense_48_loss: 0.3249 - val_dense_49_loss: 0.4334\n",
      "Epoch 18/20\n",
      "363/363 [==============================] - 3s 7ms/step - loss: 0.3311 - dense_48_loss: 0.3206 - dense_49_loss: 0.4252 - val_loss: 0.3360 - val_dense_48_loss: 0.3265 - val_dense_49_loss: 0.4218\n",
      "Epoch 19/20\n",
      "363/363 [==============================] - 3s 7ms/step - loss: 0.3336 - dense_48_loss: 0.3236 - dense_49_loss: 0.4233 - val_loss: 0.3220 - val_dense_48_loss: 0.3113 - val_dense_49_loss: 0.4184\n",
      "Epoch 20/20\n",
      "363/363 [==============================] - 3s 8ms/step - loss: 0.3304 - dense_48_loss: 0.3204 - dense_49_loss: 0.4204 - val_loss: 0.3251 - val_dense_48_loss: 0.3155 - val_dense_49_loss: 0.4117\n"
     ]
    }
   ],
   "source": [
    "history = model.fit([X_train_A, X_train_B], [y_train, y_train], epochs=20, \n",
    "    validation_data=([X_valid_A, X_valid_B], [y_valid, y_valid]), callbacks=[tensorboard_cb])"
   ]
  },
  {
   "cell_type": "markdown",
   "metadata": {},
   "source": [
    "Next you need to start the TensorBoard server. Using `tensorboard --logdir=./logs/fit --port=6006` on command prompt does the work! Or use the follwing magic command."
   ]
  },
  {
   "cell_type": "code",
   "execution_count": 111,
   "metadata": {},
   "outputs": [
    {
     "data": {
      "text/plain": [
       "Reusing TensorBoard on port 6006 (pid 3880), started 0:09:27 ago. (Use '!kill 3880' to kill it.)"
      ]
     },
     "metadata": {},
     "output_type": "display_data"
    },
    {
     "data": {
      "text/html": [
       "\n",
       "      <iframe id=\"tensorboard-frame-7ee1ea193234dc27\" width=\"100%\" height=\"800\" frameborder=\"0\">\n",
       "      </iframe>\n",
       "      <script>\n",
       "        (function() {\n",
       "          const frame = document.getElementById(\"tensorboard-frame-7ee1ea193234dc27\");\n",
       "          const url = new URL(\"http://localhost\");\n",
       "          const port = 6006;\n",
       "          if (port) {\n",
       "            url.port = port;\n",
       "          }\n",
       "          frame.src = url;\n",
       "        })();\n",
       "      </script>\n",
       "    "
      ],
      "text/plain": [
       "<IPython.core.display.HTML object>"
      ]
     },
     "metadata": {},
     "output_type": "display_data"
    }
   ],
   "source": [
    "%tensorboard --logdir logs/fit"
   ]
  },
  {
   "cell_type": "markdown",
   "metadata": {},
   "source": [
    "### Fine-Tuning Neural Network Hyperparameters"
   ]
  },
  {
   "cell_type": "markdown",
   "metadata": {},
   "source": [
    "A neural network have many\n",
    "hyperparameters to tweak. Not only can you use any imaginable network architecture, but even in a simple MLP you can change the number of layers, the number of neurons per layer, the type of activation function to use in each layer, the weight initialization logic, and much more."
   ]
  },
  {
   "cell_type": "code",
   "execution_count": null,
   "metadata": {},
   "outputs": [],
   "source": []
  }
 ],
 "metadata": {
  "interpreter": {
   "hash": "ce44b17c45080b8f56a19c9450d52461d624c968fcd959bb1916985c5ffa2b94"
  },
  "kernelspec": {
   "display_name": "Python 3.8.5 64-bit ('base': conda)",
   "language": "python",
   "name": "python3"
  },
  "language_info": {
   "codemirror_mode": {
    "name": "ipython",
    "version": 3
   },
   "file_extension": ".py",
   "mimetype": "text/x-python",
   "name": "python",
   "nbconvert_exporter": "python",
   "pygments_lexer": "ipython3",
   "version": "3.8.5"
  },
  "orig_nbformat": 4
 },
 "nbformat": 4,
 "nbformat_minor": 2
}
