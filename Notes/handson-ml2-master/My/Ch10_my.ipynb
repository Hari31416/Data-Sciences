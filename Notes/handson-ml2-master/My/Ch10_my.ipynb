{
 "cells": [
  {
   "cell_type": "markdown",
   "metadata": {},
   "source": [
    "## Introduction to Artificial Neural Networks"
   ]
  },
  {
   "cell_type": "markdown",
   "metadata": {},
   "source": [
    ">Birds inspired us to fly, burdock plants inspired velcro, and countless more inven‐\n",
    "tions were inspired by nature. It seems only logical, then, to look at the brain’s archi‐\n",
    "tecture for inspiration on how to build an intelligent machine. This is the key idea\n",
    "that sparked artificial neural networks (ANNs)."
   ]
  },
  {
   "cell_type": "code",
   "execution_count": 1,
   "metadata": {},
   "outputs": [],
   "source": [
    "import pandas as pd\n",
    "import numpy as np\n",
    "import matplotlib.pyplot as plt\n",
    "import matplotlib as mlt\n",
    "import seaborn as sns"
   ]
  },
  {
   "cell_type": "markdown",
   "metadata": {},
   "source": [
    "### From Biological to Artificial Neurons"
   ]
  },
  {
   "cell_type": "markdown",
   "metadata": {},
   "source": [
    "ANNs have been around for quite a while. But everytime it enetred an era of long winter. We are now witnessing yet another wave of interest in ANNs. However, there a few good reasons to believe that\n",
    "this wave is different and that it will have a much more profound impact on our lives. Such as:\n",
    "* Large amounts of data\n",
    "* Increase in computational power\n",
    "* New training algorithms\n",
    "* Some theoretical limitations of ANNs have turned out to be benign in practice.\n",
    "For example, many people thought that ANN training algorithms were doomed\n",
    "because they were likely to get stuck in local optima, but it turns out that this is\n",
    "rather rare in practice (or when it is the case, they are usually fairly close to the\n",
    "global optimum)."
   ]
  },
  {
   "cell_type": "markdown",
   "metadata": {},
   "source": [
    "#### Biological Neurons and Logical Computation with Neurons"
   ]
  },
  {
   "cell_type": "markdown",
   "metadata": {},
   "source": [
    "<figure>\n",
    "<figcaption><h4>Biological neuron</h4></figcaption>\n",
    "<img src = \"img/10_01.png\">\n",
    "</figure>"
   ]
  },
  {
   "cell_type": "markdown",
   "metadata": {},
   "source": [
    "Warren McCulloch and Walter Pitts proposed a very simple model of the biological\n",
    "neuron, which later became known as an artificial neuron: it has one or more binary\n",
    "(on/off) inputs and one binary output. The artificial neuron simply activates its out‐\n",
    "put when more than a certain number of its inputs are active. McCulloch and Pitts\n",
    "showed that even with such a simplified model it is possible to build a network of\n",
    "artificial neurons that computes any logical proposition you want. "
   ]
  },
  {
   "cell_type": "markdown",
   "metadata": {},
   "source": [
    "<figure>\n",
    "<figcaption><h4>ANNs performing simple logical computations</h4></figcaption>\n",
    "<img src = \"img/10_02.png\">\n",
    "</figure>"
   ]
  },
  {
   "cell_type": "markdown",
   "metadata": {},
   "source": [
    "The working of first three networks is obvoius. The fourth network, on the other hand, computes a\n",
    "slightly more complex logical proposition: neuron C is activated only if neuron A\n",
    "is active and if neuron B is off. If neuron A is active all the time, then you get a\n",
    "logical NOT: neuron C is active when neuron B is off, and vice versa."
   ]
  },
  {
   "cell_type": "markdown",
   "metadata": {},
   "source": [
    "#### The Perceptron"
   ]
  },
  {
   "cell_type": "markdown",
   "metadata": {},
   "source": [
    "The Perceptron is one of the simplest ANN architectures, invented in 1957 by Frank\n",
    "Rosenblatt. It is based on a slightly different artificial neuron called a threshold logic unit (TLU), or sometimes a linear threshold unit (LTU): the inputs\n",
    "and output are now numbers (instead of binary on/off values) and each input con‐\n",
    "nection is associated with a weight. The TLU computes a weighted sum of its inputs\n",
    "($z = w_1 x_1 + w_2 x_2 + ⋯ + w_n x_n = \\mathbf{x}^T\\mathbf{w}$), then applies a step function to that sum and\n",
    "outputs the result: $h_w(\\mathbf{x}) = step(z)$, where $\\mathbf{x}^T\\mathbf{w}$."
   ]
  },
  {
   "cell_type": "markdown",
   "metadata": {},
   "source": [
    "<figure>\n",
    "<figcaption><h4>Threshold logic unit</h4></figcaption>\n",
    "<img src = \"img/10_03.png\">\n",
    "</figure>"
   ]
  },
  {
   "cell_type": "markdown",
   "metadata": {},
   "source": [
    "The most common step function used in Perceptrons is the Heaviside step function or sign function. It is defined as:\n",
    "$$h_w(z) = \\begin{cases}\n",
    "0 & \\text{if } z < 0 \\\\\n",
    "1 & \\text{if } z \\geq 0\n",
    "\\end{cases}$$\n",
    "And\n",
    "$$sgn(z) = \\begin{cases}\n",
    "-1 & \\text{if } z < 0 \\\\\n",
    "0 & \\text{if } z = 0 \\\\\n",
    "1 & \\text{if } z \\geq 0\n",
    "\\end{cases}$$"
   ]
  },
  {
   "cell_type": "markdown",
   "metadata": {},
   "source": [
    "A single TLU can be used for simple linear binary classification. It computes a linear\n",
    "combination of the inputs and if the result exceeds a threshold, it outputs the positive\n",
    "class or else outputs the negative class."
   ]
  },
  {
   "cell_type": "markdown",
   "metadata": {},
   "source": [
    "A Perceptron is simply composed of a single layer of TLUs, with each TLU connected\n",
    "to all the inputs. When all the neurons in a layer are connected to every neuron in the\n",
    "previous layer (i.e., its input neurons), it is called a fully connected layer or a dense\n",
    "layer."
   ]
  },
  {
   "cell_type": "markdown",
   "metadata": {},
   "source": [
    "<figure>\n",
    "<figcaption><h4>Perceptron diagram</h4></figcaption>\n",
    "<img src = \"img/10_04.png\">\n",
    "</figure>"
   ]
  },
  {
   "cell_type": "markdown",
   "metadata": {},
   "source": [
    "The outputs of a fully connected layer simply is:\n",
    "$$ h_{\\mathbf{W, b}}(\\mathbf{X}) = \\phi(\\mathbf{XW+b}) $$\n",
    "With symols having the usual meaning. The $\\phi$ is called the *activation function*, when the artificial neurons are\n",
    "TLUs, it is a step function."
   ]
  },
  {
   "cell_type": "markdown",
   "metadata": {},
   "source": [
    "The way the Perceptron learns is:<br>\n",
    "The Perceptron is fed one\n",
    "training instance at a time, and for each instance it makes its predictions. For every\n",
    "output neuron that produced a wrong prediction, it reinforces the connection\n",
    "weights from the inputs that would have contributed to the correct prediction. \n"
   ]
  },
  {
   "cell_type": "markdown",
   "metadata": {},
   "source": [
    "<figure>\n",
    "<figcaption><h4>Perceptron learning rule</h4></figcaption>\n",
    "<img src = \"img/10_05.png\">\n",
    "</figure>"
   ]
  },
  {
   "cell_type": "markdown",
   "metadata": {},
   "source": [
    ">The decision boundary of each output neuron is linear, so Perceptrons are incapable\n",
    "of learning complex patterns "
   ]
  },
  {
   "cell_type": "markdown",
   "metadata": {},
   "source": [
    "Scikit-Learn provides a `Perceptron` class that implements a single TLU network."
   ]
  },
  {
   "cell_type": "code",
   "execution_count": 2,
   "metadata": {},
   "outputs": [
    {
     "data": {
      "text/plain": [
       "Perceptron()"
      ]
     },
     "execution_count": 2,
     "metadata": {},
     "output_type": "execute_result"
    }
   ],
   "source": [
    "import numpy as np\n",
    "from sklearn.datasets import load_iris\n",
    "from sklearn.linear_model import Perceptron\n",
    "iris = load_iris()\n",
    "X = iris.data[:, (2, 3)]\n",
    "y = (iris.target == 0).astype(np.int)\n",
    "per_clf = Perceptron()\n",
    "per_clf.fit(X, y)"
   ]
  },
  {
   "cell_type": "code",
   "execution_count": 8,
   "metadata": {},
   "outputs": [
    {
     "data": {
      "text/plain": [
       "1.0"
      ]
     },
     "execution_count": 8,
     "metadata": {},
     "output_type": "execute_result"
    }
   ],
   "source": [
    "per_clf.score(X, y)"
   ]
  },
  {
   "cell_type": "markdown",
   "metadata": {},
   "source": [
    "Interesting! ):"
   ]
  },
  {
   "cell_type": "markdown",
   "metadata": {},
   "source": [
    ">Scikit-Learn’s `Perceptron` class is equivalent\n",
    "to using an `SGDClassifier` with the following hyperparameters: `loss=\"perceptron\"`,\n",
    "`learning_rate=\"constant\"`, `eta0=1` (the learning rate), and `penalty=None` (no regu‐\n",
    "larization)."
   ]
  },
  {
   "cell_type": "markdown",
   "metadata": {},
   "source": [
    "A perceptron has a some serious limitations. For example, they are incapable of solving some trivial problems (e.g., the Exclusive OR (XOR) classification problem. However, it turns out that some of the limitations of Perceptrons can be eliminated by\n",
    "stacking multiple Perceptrons. The resulting ANN is called a Multi-Layer Perceptron\n",
    "(MLP). In particular, an MLP can solve the XOR problem, as you can verify by computing the output of the MLP represented:"
   ]
  },
  {
   "cell_type": "markdown",
   "metadata": {},
   "source": [
    "<figure>\n",
    "<figcaption><h4>XOR classification problem and an MLP that solves it</h4></figcaption>\n",
    "<img src = \"img/10_06.png\">\n",
    "</figure>"
   ]
  },
  {
   "cell_type": "markdown",
   "metadata": {},
   "source": [
    "#### Multi-Layer Perceptron and Backpropagation"
   ]
  },
  {
   "cell_type": "markdown",
   "metadata": {},
   "source": [
    "An MLP is composed of one (passthrough) input layer, one or more layers of TLUs,\n",
    "called hidden layers, and one final layer of TLUs called the output layer. The layers close to the input layer are usually called the lower layers,\n",
    "and the ones close to the outputs are usually called the upper layers. Every layer\n",
    "except the output layer includes a bias neuron and is fully connected to the next layer. When an ANN contains a deep stack of hidden layers8, it is called a deep neural net‐\n",
    "work (DNN). "
   ]
  },
  {
   "cell_type": "markdown",
   "metadata": {},
   "source": [
    "<figure>\n",
    "<figcaption><h4>Multi-Layer Perceptron</h4></figcaption>\n",
    "<img src = \"img/10_07.png\">\n",
    "</figure>"
   ]
  },
  {
   "cell_type": "markdown",
   "metadata": {},
   "source": [
    "The algorithm by which an MLP is trained is backpropogation. The steps are:\n",
    "* It handles one mini-batch at a time (for example containing 32 instances each),\n",
    "and it goes through the full training set multiple times. Each pass is called an\n",
    "epoch.\n",
    "*  Each mini-batch is passed to the network’s input layer, which just sends it to the\n",
    "first hidden layer. The algorithm then computes the output of all the neurons in\n",
    "this layer (for every instance in the mini-batch). The result is passed on to the\n",
    "next layer, its output is computed and passed to the next layer, and so on until we\n",
    "get the output of the last layer, the output layer. This is the forward pass: it is\n",
    "exactly like making predictions, except all intermediate results are preserved\n",
    "since they are needed for the backward pass.\n",
    "* Next, the algorithm measures the network’s output error.\n",
    "* Then it computes how much each output connection contributed to the error.\n",
    "* The algorithm then measures how much of these error contributions came from\n",
    "each connection in the layer below, until\n",
    "the algorithm reaches the input layer. This reverse pass\n",
    "efficiently measures the error gradient across all the connection weights in the network by propagating the error gradient backward through the network.\n",
    "* Finally, the algorithm performs a Gradient Descent step to tweak all the connec‐\n",
    "tion weights in the network, using the error gradients it just computed."
   ]
  },
  {
   "cell_type": "markdown",
   "metadata": {},
   "source": [
    "> To summarize: for each training\n",
    "instance the backpropagation algorithm first makes a prediction (forward pass),\n",
    "measures the error, then goes through each layer in reverse to measure the error contribution from each connection (reverse pass), and finally slightly tweaks the connection weights to reduce the error (Gradient Descent step)."
   ]
  },
  {
   "cell_type": "markdown",
   "metadata": {},
   "source": [
    "> It is important to initialize all the hidden layers’ connection weights\n",
    "randomly, or else training will fail. For example, if you initialize all\n",
    "weights and biases to zero, then all neurons in a given layer will be\n",
    "perfectly identical, and thus backpropagation will affect them in\n",
    "exactly the same way, so they will remain identical. In other words,\n",
    "despite having hundreds of neurons per layer, your model will act\n",
    "as if it had only one neuron per layer: it won’t be too smart. If\n",
    "instead you randomly initialize the weights, you break the symmetry and allow backpropagation to train a diverse team of neurons."
   ]
  },
  {
   "cell_type": "markdown",
   "metadata": {},
   "source": [
    "In order for this algorithm to work properly, the authors made a key change to the\n",
    "MLP’s architecture: they replaced the step function with the logistic function, $σ(z) =\n",
    "1 / (1 + exp(–z))$. This was essential because the step function contains only flat seg‐\n",
    "ments, so there is no gradient to work with (Gradient Descent cannot move on a flat\n",
    "surface), while the logistic function has a well-defined nonzero derivative every‐\n",
    "where, allowing Gradient Descent to make some progress at every step. In fact, the\n",
    "backpropagation algorithm works well with many other activation functions, not just\n",
    "the logistic function. Two of these are:\n",
    "* The hyperbolic tangent function $tanh(z) = 2σ(2z) – 1$\n",
    "* The Rectified Linear Unit function: $ReLU(z) = max(0, z)$"
   ]
  },
  {
   "cell_type": "markdown",
   "metadata": {},
   "source": [
    "<figure>\n",
    "<figcaption><h4>Activation functions and their derivatives</h4></figcaption>\n",
    "<img src = \"img/10_08.png\">\n",
    "</figure>"
   ]
  },
  {
   "cell_type": "markdown",
   "metadata": {},
   "source": [
    "#### Regression MLPs"
   ]
  },
  {
   "cell_type": "markdown",
   "metadata": {},
   "source": [
    "MLPs can be used for regression tasks. (No surprise!). For multivariate regression (i.e., to predict\n",
    "multiple values at once), you need one output neuron per output dimension. For\n",
    "example, to locate the center of an object on an image, you need to predict 2D coordi‐\n",
    "nates, so you need two output neurons. If you also want to place a bounding box\n",
    "around the object, then you need two more numbers: the width and the height of the\n",
    "object. So you end up with 4 output neurons."
   ]
  },
  {
   "cell_type": "markdown",
   "metadata": {},
   "source": [
    ">In general, when building an MLP for regression, you do not want to use any activa‐\n",
    "tion function for the output neurons, so they are free to output any range of values.\n",
    "However, if you want to guarantee that the output will always be positive, then you\n",
    "can use the ReLU activation function, or the softplus activation function in the output\n",
    "layer. Finally, if you want to guarantee that the predictions will fall within a given\n",
    "range of values, then you can use the logistic function or the hyperbolic tangent, and\n",
    "scale the labels to the appropriate range: 0 to 1 for the logistic function, or –1 to 1 for\n",
    "the hyperbolic tangent."
   ]
  },
  {
   "cell_type": "markdown",
   "metadata": {},
   "source": [
    ">The Huber loss is quadratic when the error is smaller than a threshold δ (typically 1), but linear when the error is larger than δ. This\n",
    "makes it less sensitive to outliers than the mean squared error, and\n",
    "it is often more precise and converges faster than the mean absolute error."
   ]
  },
  {
   "cell_type": "markdown",
   "metadata": {},
   "source": [
    "<figure>\n",
    "<figcaption><h4>Typical Regression MLP Architecture</h4></figcaption>\n",
    "<img src = \"img/10_09.png\">\n",
    "</figure>"
   ]
  },
  {
   "cell_type": "markdown",
   "metadata": {},
   "source": [
    "#### Classification MLPs"
   ]
  },
  {
   "cell_type": "markdown",
   "metadata": {},
   "source": [
    "MLPs can also be used for classification tasks. For a binary classification problem,\n",
    "you just need a single output neuron using the logistic activation function: the output\n",
    "will be a number between 0 and 1, which you can interpret as the estimated probability of the positive class. Morever, MLPs can be used to predict multiple classes too. In this case, you would need two output neurons, both using the logistic activation function.<br>\n",
    "If each instance can belong only to a single class, out of 3 or more possible classes\n",
    "(e.g., classes 0 through 9 for digit image classification), then you need to have one\n",
    "output neuron per class, and you should use the softmax activation function for the\n",
    "whole output layer"
   ]
  },
  {
   "cell_type": "markdown",
   "metadata": {},
   "source": [
    "<figure>\n",
    "<figcaption><h4>Typical Classification MLP Architecture</h4></figcaption>\n",
    "<img src = \"img/10_10.png\">\n",
    "</figure>"
   ]
  },
  {
   "cell_type": "markdown",
   "metadata": {},
   "source": [
    "A great link **https://playground.tensorflow.org/**"
   ]
  },
  {
   "cell_type": "markdown",
   "metadata": {},
   "source": [
    "### Implementing MLPs with Keras"
   ]
  },
  {
   "cell_type": "markdown",
   "metadata": {},
   "source": [
    "Keras was developed by François Chollet as part of a\n",
    "research project and released as an open source project in March 2015. To perform the heavy computations required by neural networks, keras-team relies on a\n",
    "computation backend. At the present, you can choose from three popular open\n",
    "source deep learning libraries: TensorFlow, Microsoft Cognitive Toolkit (CNTK) or\n",
    "Theano."
   ]
  },
  {
   "cell_type": "markdown",
   "metadata": {},
   "source": [
    "#### Building an Image Classifier Using the Sequential API"
   ]
  },
  {
   "cell_type": "markdown",
   "metadata": {},
   "source": [
    "We'll use MNIST's *Fashion* dataset for building a classifier."
   ]
  },
  {
   "cell_type": "code",
   "execution_count": 101,
   "metadata": {},
   "outputs": [],
   "source": [
    "from tensorflow import keras\n",
    "fashion_mnist = keras.datasets.fashion_mnist\n",
    "(X_train_full, y_train_full), (X_test, y_test) = fashion_mnist.load_data()"
   ]
  },
  {
   "cell_type": "code",
   "execution_count": 102,
   "metadata": {},
   "outputs": [
    {
     "data": {
      "text/plain": [
       "(60000, 28, 28)"
      ]
     },
     "execution_count": 102,
     "metadata": {},
     "output_type": "execute_result"
    }
   ],
   "source": [
    "X_train_full.shape"
   ]
  },
  {
   "cell_type": "code",
   "execution_count": 103,
   "metadata": {},
   "outputs": [],
   "source": [
    "X_valid, X_train = X_train_full[:5000] / 255.0, X_train_full[5000:] / 255.0\n",
    "y_valid, y_train = y_train_full[:5000], y_train_full[5000:]"
   ]
  },
  {
   "cell_type": "markdown",
   "metadata": {},
   "source": [
    "Since MNIST provides label for each class, we need a way to infer what value does the label corressponds to."
   ]
  },
  {
   "cell_type": "code",
   "execution_count": 104,
   "metadata": {},
   "outputs": [],
   "source": [
    "class_names = [\"T-shirt/top\", \"Trouser\", \"Pullover\", \"Dress\", \"Coat\",\n",
    "\"Sandal\", \"Shirt\", \"Sneaker\", \"Bag\", \"Ankle boot\"]"
   ]
  },
  {
   "cell_type": "code",
   "execution_count": 16,
   "metadata": {},
   "outputs": [
    {
     "data": {
      "text/plain": [
       "'Coat'"
      ]
     },
     "execution_count": 16,
     "metadata": {},
     "output_type": "execute_result"
    }
   ],
   "source": [
    "class_names[y_train[0]]"
   ]
  },
  {
   "cell_type": "markdown",
   "metadata": {},
   "source": [
    "Let's first see how well the linear classifier performs on this dataset."
   ]
  },
  {
   "cell_type": "code",
   "execution_count": 105,
   "metadata": {},
   "outputs": [],
   "source": [
    "X_train_lin = X_train_full.reshape((60000,784))/255.0\n",
    "X_test_lin = X_test.reshape((10000,784))/255.0"
   ]
  },
  {
   "cell_type": "code",
   "execution_count": 106,
   "metadata": {},
   "outputs": [
    {
     "data": {
      "text/plain": [
       "0.0"
      ]
     },
     "execution_count": 106,
     "metadata": {},
     "output_type": "execute_result"
    }
   ],
   "source": [
    "X_train_lin.min()"
   ]
  },
  {
   "cell_type": "code",
   "execution_count": 37,
   "metadata": {},
   "outputs": [
    {
     "data": {
      "text/plain": [
       "LogisticRegression(max_iter=10000)"
      ]
     },
     "execution_count": 37,
     "metadata": {},
     "output_type": "execute_result"
    }
   ],
   "source": [
    "from sklearn.linear_model import LogisticRegression\n",
    "lr = LogisticRegression(max_iter=10000)\n",
    "lr.fit(X_train_lin, y_train_full)"
   ]
  },
  {
   "cell_type": "code",
   "execution_count": 38,
   "metadata": {},
   "outputs": [
    {
     "data": {
      "text/plain": [
       "0.8443"
      ]
     },
     "execution_count": 38,
     "metadata": {},
     "output_type": "execute_result"
    }
   ],
   "source": [
    "lr.score(X_test_lin, y_test)"
   ]
  },
  {
   "cell_type": "markdown",
   "metadata": {},
   "source": [
    "So, a simple linear model gives 84% of accuracy. We can, of course, improve this but let's stick with this for now! Now, let's build a classifier using the Sequential API."
   ]
  },
  {
   "cell_type": "markdown",
   "metadata": {},
   "source": [
    "The MLP can be implemented using two ways:"
   ]
  },
  {
   "cell_type": "code",
   "execution_count": 107,
   "metadata": {},
   "outputs": [],
   "source": [
    "model = keras.models.Sequential()\n",
    "model.add(keras.layers.Flatten(input_shape=[28, 28]))\n",
    "model.add(keras.layers.Dense(300, activation=\"relu\"))\n",
    "model.add(keras.layers.Dense(100, activation=\"relu\"))\n",
    "model.add(keras.layers.Dense(10, activation=\"softmax\"))"
   ]
  },
  {
   "cell_type": "markdown",
   "metadata": {},
   "source": [
    "Or"
   ]
  },
  {
   "cell_type": "code",
   "execution_count": 97,
   "metadata": {},
   "outputs": [],
   "source": [
    "model = keras.models.Sequential([\n",
    "keras.layers.Flatten(input_shape=[28, 28]),\n",
    "keras.layers.Dense(300, activation=\"relu\"),\n",
    "keras.layers.Dense(100, activation=\"relu\"),\n",
    "keras.layers.Dense(10, activation=\"softmax\")\n",
    "])"
   ]
  },
  {
   "cell_type": "markdown",
   "metadata": {},
   "source": [
    "How is it done?<br>\n",
    "* The first line creates a Sequential model. This is the simplest kind of Keras\n",
    "model, for neural networks that are just composed of a single stack of layers, con‐\n",
    "nected sequentially. This is called the sequential API.\n",
    "* Next, we build the first layer and add it to the model. It is a Flatten layer whose\n",
    "role is simply to convert each input image into a 1D array: if it receives input data\n",
    "X, it computes X.reshape(-1, 1). This layer does not have any parameters, it is\n",
    "just there to do some simple preprocessing. Since it is the first layer in the model,\n",
    "you should specify the input_shape: this does not include the batch size, only the\n",
    "shape of the instances. Alternatively, you could add a `keras.layers.InputLayer`\n",
    "as the first layer, setting `shape=[28,28]`.\n",
    "* Next we add a Dense hidden layer with 300 neurons. It will use the ReLU activation function. Each Dense layer manages its own weight matrix, containing all the\n",
    "connection weights between the neurons and their inputs. It also manages a vector of bias terms, one per neuron.\n",
    "* Next we add a second Dense hidden layer with 100 neurons, also using the ReLU\n",
    "activation function.\n",
    "* Finally, we add a Dense output layer with 10 neurons (one per class), using the\n",
    "softmax activation function (because the classes are exclusive)"
   ]
  },
  {
   "cell_type": "markdown",
   "metadata": {},
   "source": [
    "The model’s `summary()` method displays all the model’s layers, including each layer’s\n",
    "name (which is automatically generated unless you set it when creating the layer), its\n",
    "output shape (None means the batch size can be anything), and its number of parame‐\n",
    "ters. The summary ends with the total number of parameters, including trainable and\n",
    "non-trainable parameters. You can also generate an image of your model using `keras.utils.plot_model()`. Furthermore, ll the parameters of a layer can be accessed using its `get_weights()` and\n",
    "`set_weights() `method. For a Dense layer, this includes both the connection weights\n",
    "and the bias terms"
   ]
  },
  {
   "cell_type": "code",
   "execution_count": 98,
   "metadata": {},
   "outputs": [
    {
     "name": "stdout",
     "output_type": "stream",
     "text": [
      "Model: \"sequential_8\"\n",
      "_________________________________________________________________\n",
      "Layer (type)                 Output Shape              Param #   \n",
      "=================================================================\n",
      "flatten_4 (Flatten)          (None, 784)               0         \n",
      "_________________________________________________________________\n",
      "dense_20 (Dense)             (None, 300)               235500    \n",
      "_________________________________________________________________\n",
      "dense_21 (Dense)             (None, 100)               30100     \n",
      "_________________________________________________________________\n",
      "dense_22 (Dense)             (None, 10)                1010      \n",
      "=================================================================\n",
      "Total params: 266,610\n",
      "Trainable params: 266,610\n",
      "Non-trainable params: 0\n",
      "_________________________________________________________________\n"
     ]
    }
   ],
   "source": [
    "model.summary()"
   ]
  },
  {
   "cell_type": "code",
   "execution_count": 44,
   "metadata": {},
   "outputs": [
    {
     "data": {
      "text/plain": [
       "[<tensorflow.python.keras.layers.core.Flatten at 0x2187468b310>,\n",
       " <tensorflow.python.keras.layers.core.Dense at 0x2186bf52f10>,\n",
       " <tensorflow.python.keras.layers.core.Dense at 0x21874298250>,\n",
       " <tensorflow.python.keras.layers.core.Dense at 0x218746914c0>]"
      ]
     },
     "execution_count": 44,
     "metadata": {},
     "output_type": "execute_result"
    }
   ],
   "source": [
    "model.layers"
   ]
  },
  {
   "cell_type": "code",
   "execution_count": 47,
   "metadata": {},
   "outputs": [],
   "source": [
    "hidden1 = model.layers[1]\n",
    "weights, biases = hidden1.get_weights()"
   ]
  },
  {
   "cell_type": "code",
   "execution_count": 53,
   "metadata": {},
   "outputs": [
    {
     "data": {
      "text/plain": [
       "array([[-0.06480089, -0.07192267,  0.06306447, ...,  0.00244816,\n",
       "         0.07386684, -0.06686679],\n",
       "       [ 0.05389889,  0.06494448,  0.00671749, ...,  0.05636494,\n",
       "        -0.06254327,  0.06099726],\n",
       "       [ 0.02433742, -0.05609208,  0.02134802, ...,  0.03174756,\n",
       "         0.0121516 , -0.04439304],\n",
       "       ...,\n",
       "       [-0.07298393,  0.02424685, -0.0043864 , ..., -0.02537306,\n",
       "        -0.02095705, -0.01141737],\n",
       "       [ 0.02961305,  0.07109299,  0.05594206, ...,  0.00472962,\n",
       "         0.05424826,  0.03382988],\n",
       "       [ 0.01390176, -0.04097348, -0.06613321, ..., -0.05188762,\n",
       "         0.01220762,  0.03269567]], dtype=float32)"
      ]
     },
     "execution_count": 53,
     "metadata": {},
     "output_type": "execute_result"
    }
   ],
   "source": [
    "weights"
   ]
  },
  {
   "cell_type": "code",
   "execution_count": 54,
   "metadata": {},
   "outputs": [
    {
     "data": {
      "text/plain": [
       "array([0., 0., 0., 0., 0., 0., 0., 0., 0., 0., 0., 0., 0., 0., 0., 0., 0.,\n",
       "       0., 0., 0., 0., 0., 0., 0., 0., 0., 0., 0., 0., 0., 0., 0., 0., 0.,\n",
       "       0., 0., 0., 0., 0., 0., 0., 0., 0., 0., 0., 0., 0., 0., 0., 0., 0.,\n",
       "       0., 0., 0., 0., 0., 0., 0., 0., 0., 0., 0., 0., 0., 0., 0., 0., 0.,\n",
       "       0., 0., 0., 0., 0., 0., 0., 0., 0., 0., 0., 0., 0., 0., 0., 0., 0.,\n",
       "       0., 0., 0., 0., 0., 0., 0., 0., 0., 0., 0., 0., 0., 0., 0., 0., 0.,\n",
       "       0., 0., 0., 0., 0., 0., 0., 0., 0., 0., 0., 0., 0., 0., 0., 0., 0.,\n",
       "       0., 0., 0., 0., 0., 0., 0., 0., 0., 0., 0., 0., 0., 0., 0., 0., 0.,\n",
       "       0., 0., 0., 0., 0., 0., 0., 0., 0., 0., 0., 0., 0., 0., 0., 0., 0.,\n",
       "       0., 0., 0., 0., 0., 0., 0., 0., 0., 0., 0., 0., 0., 0., 0., 0., 0.,\n",
       "       0., 0., 0., 0., 0., 0., 0., 0., 0., 0., 0., 0., 0., 0., 0., 0., 0.,\n",
       "       0., 0., 0., 0., 0., 0., 0., 0., 0., 0., 0., 0., 0., 0., 0., 0., 0.,\n",
       "       0., 0., 0., 0., 0., 0., 0., 0., 0., 0., 0., 0., 0., 0., 0., 0., 0.,\n",
       "       0., 0., 0., 0., 0., 0., 0., 0., 0., 0., 0., 0., 0., 0., 0., 0., 0.,\n",
       "       0., 0., 0., 0., 0., 0., 0., 0., 0., 0., 0., 0., 0., 0., 0., 0., 0.,\n",
       "       0., 0., 0., 0., 0., 0., 0., 0., 0., 0., 0., 0., 0., 0., 0., 0., 0.,\n",
       "       0., 0., 0., 0., 0., 0., 0., 0., 0., 0., 0., 0., 0., 0., 0., 0., 0.,\n",
       "       0., 0., 0., 0., 0., 0., 0., 0., 0., 0., 0.], dtype=float32)"
      ]
     },
     "execution_count": 54,
     "metadata": {},
     "output_type": "execute_result"
    }
   ],
   "source": [
    "biases"
   ]
  },
  {
   "cell_type": "markdown",
   "metadata": {},
   "source": [
    "Notice that the Dense layer initialized the connection weights randomly (which is\n",
    "needed to break symmetry), and the biases were just initialized to zeros, which is fine. If you ever want to use a different initialization method,\n",
    "you can set `kernel_initializer` (kernel is another name for the matrix of connection weights) or `bias_initializer` when creating the layer. "
   ]
  },
  {
   "cell_type": "code",
   "execution_count": 51,
   "metadata": {},
   "outputs": [
    {
     "data": {
      "text/plain": [
       "((784, 300), (300,))"
      ]
     },
     "execution_count": 51,
     "metadata": {},
     "output_type": "execute_result"
    }
   ],
   "source": [
    "weights.shape, biases.shape"
   ]
  },
  {
   "cell_type": "markdown",
   "metadata": {},
   "source": [
    ">The shape of the weight matrix depends on the number of inputs.\n",
    "This is why it is recommended to specify the input_shape when\n",
    "creating the first layer in a Sequential model. However, if you do\n",
    "not specify the input shape, it’s okay: Keras will simply wait until it\n",
    "knows the input shape before it actually builds the model. This will\n",
    "happen either when you feed it actual data (e.g., during training),\n",
    "or when you call its `build()` method. Until the model is really\n",
    "built, the layers will not have any weights, and you will not be able\n",
    "to do certain things (such as print the model summary or save the\n",
    "model), so **if you know the input shape when creating the model, it\n",
    "is best to specify it**."
   ]
  },
  {
   "cell_type": "markdown",
   "metadata": {},
   "source": [
    "After a model is created, you must call its `compile()` method to specify the loss function and the optimizer to use."
   ]
  },
  {
   "cell_type": "code",
   "execution_count": 108,
   "metadata": {},
   "outputs": [],
   "source": [
    "model.compile(loss=\"sparse_categorical_crossentropy\",\n",
    "optimizer=\"sgd\",\n",
    "metrics=[\"accuracy\"])"
   ]
  },
  {
   "cell_type": "markdown",
   "metadata": {},
   "source": [
    "Using `loss=\"sparse_categorical_crossentropy\"` is equivalent to\n",
    "`loss=keras.losses.sparse_categorical_crossentropy`. Similarly, `optimizer=\"sgd\"` is equivalent to `optimizer=keras.optimizers.SGD()` and `metrics=[\"accuracy\"]` is equivalent to\n",
    "`metrics=[keras.metrics.sparse_categorical_accuracy]`."
   ]
  },
  {
   "cell_type": "markdown",
   "metadata": {},
   "source": [
    "Here, we use the `sparse_categorical_crossentropy` loss because we have sparse labels (i.e., for each instance there is just a target\n",
    "class index, from 0 to 9 in this case), and the classes are exclusive. If instead we had\n",
    "one target probability per class for each instance (such as one-hot vectors, e.g. [0.,\n",
    "0., 0., 1., 0., 0., 0., 0., 0., 0.] to represent class 3), then we would need\n",
    "to use the `categorical_crossentropy` loss instead."
   ]
  },
  {
   "cell_type": "markdown",
   "metadata": {},
   "source": [
    "Now the model is ready to be trained. For this we simply need to call its `fit()`\n",
    "method. We pass it the input features `(X_train)` and the target classes `(y_train)`, as\n",
    "well as the number of epochs to train. Default value of numbers of epoch is 1."
   ]
  },
  {
   "cell_type": "markdown",
   "metadata": {},
   "source": [
    "Let's train the model."
   ]
  },
  {
   "cell_type": "code",
   "execution_count": 109,
   "metadata": {},
   "outputs": [
    {
     "name": "stdout",
     "output_type": "stream",
     "text": [
      "Epoch 1/30\n",
      "1719/1719 [==============================] - 13s 4ms/step - loss: 0.7209 - accuracy: 0.7648 - val_loss: 0.5297 - val_accuracy: 0.8196\n",
      "Epoch 2/30\n",
      "1719/1719 [==============================] - 7s 4ms/step - loss: 0.4870 - accuracy: 0.8301 - val_loss: 0.4538 - val_accuracy: 0.8448\n",
      "Epoch 3/30\n",
      "1719/1719 [==============================] - 7s 4ms/step - loss: 0.4425 - accuracy: 0.8451 - val_loss: 0.4136 - val_accuracy: 0.8594\n",
      "Epoch 4/30\n",
      "1719/1719 [==============================] - 8s 4ms/step - loss: 0.4151 - accuracy: 0.8557 - val_loss: 0.4095 - val_accuracy: 0.8608\n",
      "Epoch 5/30\n",
      "1719/1719 [==============================] - 7s 4ms/step - loss: 0.3950 - accuracy: 0.8618 - val_loss: 0.3811 - val_accuracy: 0.8696\n",
      "Epoch 6/30\n",
      "1719/1719 [==============================] - 7s 4ms/step - loss: 0.3796 - accuracy: 0.8672 - val_loss: 0.3799 - val_accuracy: 0.8668\n",
      "Epoch 7/30\n",
      "1719/1719 [==============================] - 7s 4ms/step - loss: 0.3650 - accuracy: 0.8715 - val_loss: 0.3595 - val_accuracy: 0.8738\n",
      "Epoch 8/30\n",
      "1719/1719 [==============================] - 8s 4ms/step - loss: 0.3529 - accuracy: 0.8763 - val_loss: 0.3852 - val_accuracy: 0.8670\n",
      "Epoch 9/30\n",
      "1719/1719 [==============================] - 8s 5ms/step - loss: 0.3443 - accuracy: 0.8777 - val_loss: 0.3428 - val_accuracy: 0.8778\n",
      "Epoch 10/30\n",
      "1719/1719 [==============================] - 8s 5ms/step - loss: 0.3336 - accuracy: 0.8820 - val_loss: 0.3428 - val_accuracy: 0.8800\n",
      "Epoch 11/30\n",
      "1719/1719 [==============================] - 8s 4ms/step - loss: 0.3243 - accuracy: 0.8860 - val_loss: 0.3380 - val_accuracy: 0.8794\n",
      "Epoch 12/30\n",
      "1719/1719 [==============================] - 6s 4ms/step - loss: 0.3176 - accuracy: 0.8876 - val_loss: 0.3441 - val_accuracy: 0.8772\n",
      "Epoch 13/30\n",
      "1719/1719 [==============================] - 6s 4ms/step - loss: 0.3103 - accuracy: 0.8899 - val_loss: 0.3242 - val_accuracy: 0.8812\n",
      "Epoch 14/30\n",
      "1719/1719 [==============================] - 7s 4ms/step - loss: 0.3022 - accuracy: 0.8926 - val_loss: 0.3478 - val_accuracy: 0.8762\n",
      "Epoch 15/30\n",
      "1719/1719 [==============================] - 7s 4ms/step - loss: 0.2963 - accuracy: 0.8947 - val_loss: 0.3213 - val_accuracy: 0.8856\n",
      "Epoch 16/30\n",
      "1719/1719 [==============================] - 8s 4ms/step - loss: 0.2894 - accuracy: 0.8967 - val_loss: 0.3193 - val_accuracy: 0.8854\n",
      "Epoch 17/30\n",
      "1719/1719 [==============================] - 7s 4ms/step - loss: 0.2839 - accuracy: 0.8994 - val_loss: 0.3078 - val_accuracy: 0.8884\n",
      "Epoch 18/30\n",
      "1719/1719 [==============================] - 6s 3ms/step - loss: 0.2782 - accuracy: 0.9010 - val_loss: 0.3229 - val_accuracy: 0.8876\n",
      "Epoch 19/30\n",
      "1719/1719 [==============================] - 6s 4ms/step - loss: 0.2726 - accuracy: 0.9023 - val_loss: 0.3062 - val_accuracy: 0.8896\n",
      "Epoch 20/30\n",
      "1719/1719 [==============================] - 7s 4ms/step - loss: 0.2679 - accuracy: 0.9034 - val_loss: 0.3038 - val_accuracy: 0.8870\n",
      "Epoch 21/30\n",
      "1719/1719 [==============================] - 6s 4ms/step - loss: 0.2629 - accuracy: 0.9052 - val_loss: 0.3004 - val_accuracy: 0.8924\n",
      "Epoch 22/30\n",
      "1719/1719 [==============================] - 7s 4ms/step - loss: 0.2585 - accuracy: 0.9076 - val_loss: 0.2985 - val_accuracy: 0.8906\n",
      "Epoch 23/30\n",
      "1719/1719 [==============================] - 6s 4ms/step - loss: 0.2532 - accuracy: 0.9088 - val_loss: 0.2972 - val_accuracy: 0.8962\n",
      "Epoch 24/30\n",
      "1719/1719 [==============================] - 6s 4ms/step - loss: 0.2491 - accuracy: 0.9097 - val_loss: 0.3187 - val_accuracy: 0.8844\n",
      "Epoch 25/30\n",
      "1719/1719 [==============================] - 7s 4ms/step - loss: 0.2452 - accuracy: 0.9117 - val_loss: 0.2991 - val_accuracy: 0.8910\n",
      "Epoch 26/30\n",
      "1719/1719 [==============================] - 7s 4ms/step - loss: 0.2394 - accuracy: 0.9147 - val_loss: 0.3101 - val_accuracy: 0.8858\n",
      "Epoch 27/30\n",
      "1719/1719 [==============================] - 7s 4ms/step - loss: 0.2360 - accuracy: 0.9157 - val_loss: 0.2923 - val_accuracy: 0.8928\n",
      "Epoch 28/30\n",
      "1719/1719 [==============================] - 7s 4ms/step - loss: 0.2330 - accuracy: 0.9171 - val_loss: 0.3037 - val_accuracy: 0.8936\n",
      "Epoch 29/30\n",
      "1719/1719 [==============================] - 7s 4ms/step - loss: 0.2282 - accuracy: 0.9174 - val_loss: 0.2897 - val_accuracy: 0.8938\n",
      "Epoch 30/30\n",
      "1719/1719 [==============================] - 6s 3ms/step - loss: 0.2255 - accuracy: 0.9193 - val_loss: 0.2992 - val_accuracy: 0.8928\n"
     ]
    }
   ],
   "source": [
    "history = model.fit(X_train, y_train, epochs=30, validation_data=(X_valid, y_valid))"
   ]
  },
  {
   "cell_type": "markdown",
   "metadata": {},
   "source": [
    ">Instead of passing a validation set using the `validation_data`\n",
    "argument, you could instead set `validation_split` to the ratio of\n",
    "the training set that you want Keras to use for validation (e.g., 0.1)."
   ]
  },
  {
   "cell_type": "markdown",
   "metadata": {},
   "source": [
    "If the training set was very skewed, with some classes being overrepresented and others underrepresented, it would be useful to set the `class_weight` argument when\n",
    "calling the `fit()` method, giving a larger weight to underrepresented classes, and a\n",
    "lower weight to overrepresented classes. These weights would be used by Keras when\n",
    "computing the loss. If you need per-instance weights instead, you can set the `sample_weight` argument."
   ]
  },
  {
   "cell_type": "markdown",
   "metadata": {},
   "source": [
    "The `fit()` method returns a History object containing the training parameters (`history.params`), the list of epochs it went through (`history.epoch`), and most importantly a dictionary (`history.history`) containing the loss and extra metrics it\n",
    "measured at the end of each epoch on the training set and on the validation set.<br>\n",
    "Let's plot these values:"
   ]
  },
  {
   "cell_type": "code",
   "execution_count": 110,
   "metadata": {},
   "outputs": [
    {
     "data": {
      "image/png": "[encoded data removed]",
      "text/plain": [
       "<Figure size 720x504 with 1 Axes>"
      ]
     },
     "metadata": {
      "needs_background": "light"
     },
     "output_type": "display_data"
    }
   ],
   "source": [
    "import pandas as pd\n",
    "pd.DataFrame(history.history).plot(figsize=(10, 7))\n",
    "plt.grid(True)\n",
    "plt.ylim([0,1]);"
   ]
  },
  {
   "cell_type": "markdown",
   "metadata": {},
   "source": [
    "You can see that both the training and validation accuracy steadily increase during\n",
    "training, while the training and validation loss decrease. Moreover, the validation curves are quite close to the training curves this shows that the model is not overfitting. Since the validation loss is still going down, it means that the model has yet not converged abd you can keep training the model for more epochs. **It’s as simple as calling the `fit()` method again, since Keras just continues training where it left off.**"
   ]
  },
  {
   "cell_type": "code",
   "execution_count": 64,
   "metadata": {},
   "outputs": [
    {
     "name": "stdout",
     "output_type": "stream",
     "text": [
      "313/313 [==============================] - 6s 4ms/step - loss: 59.5654 - accuracy: 0.8561\n"
     ]
    },
    {
     "data": {
      "text/plain": [
       "[59.565399169921875, 0.8561000227928162]"
      ]
     },
     "execution_count": 64,
     "metadata": {},
     "output_type": "execute_result"
    }
   ],
   "source": [
    "model.evaluate(X_test, y_test)"
   ]
  },
  {
   "cell_type": "markdown",
   "metadata": {},
   "source": [
    "Hmm! 85.6% accuracy. Not that good from the simple `LogisticRegressor`. Also note that the accuracy on validation set was 89.3%. Generally, the score on test set is lower than that on validation test, for obvious reasons!"
   ]
  },
  {
   "cell_type": "markdown",
   "metadata": {},
   "source": [
    "We can also try tuning the hyperparameters. But let's assume that we are satisfied with the model. Time to evaluate our model. On second thoughts, let's train for 10 more epochs."
   ]
  },
  {
   "cell_type": "code",
   "execution_count": 111,
   "metadata": {},
   "outputs": [
    {
     "name": "stdout",
     "output_type": "stream",
     "text": [
      "Epoch 1/10\n",
      "1719/1719 [==============================] - 11s 5ms/step - loss: 0.2215 - accuracy: 0.9222 - val_loss: 0.2834 - val_accuracy: 0.8958\n",
      "Epoch 2/10\n",
      "1719/1719 [==============================] - 8s 4ms/step - loss: 0.2182 - accuracy: 0.9215 - val_loss: 0.3307 - val_accuracy: 0.8794\n",
      "Epoch 3/10\n",
      "1719/1719 [==============================] - 7s 4ms/step - loss: 0.2145 - accuracy: 0.9228 - val_loss: 0.2890 - val_accuracy: 0.8940\n",
      "Epoch 4/10\n",
      "1719/1719 [==============================] - 7s 4ms/step - loss: 0.2103 - accuracy: 0.9249 - val_loss: 0.2917 - val_accuracy: 0.8932\n",
      "Epoch 5/10\n",
      "1719/1719 [==============================] - 7s 4ms/step - loss: 0.2073 - accuracy: 0.9258 - val_loss: 0.2888 - val_accuracy: 0.8944\n",
      "Epoch 6/10\n",
      "1719/1719 [==============================] - 7s 4ms/step - loss: 0.2035 - accuracy: 0.9264 - val_loss: 0.2992 - val_accuracy: 0.8920\n",
      "Epoch 7/10\n",
      "1719/1719 [==============================] - 7s 4ms/step - loss: 0.2005 - accuracy: 0.9284 - val_loss: 0.2933 - val_accuracy: 0.8946\n",
      "Epoch 8/10\n",
      "1719/1719 [==============================] - 6s 4ms/step - loss: 0.1969 - accuracy: 0.9295 - val_loss: 0.2937 - val_accuracy: 0.8958\n",
      "Epoch 9/10\n",
      "1719/1719 [==============================] - 6s 4ms/step - loss: 0.1949 - accuracy: 0.9302 - val_loss: 0.2848 - val_accuracy: 0.8968\n",
      "Epoch 10/10\n",
      "1719/1719 [==============================] - 6s 4ms/step - loss: 0.1906 - accuracy: 0.9323 - val_loss: 0.3086 - val_accuracy: 0.8862\n"
     ]
    },
    {
     "data": {
      "text/plain": [
       "<tensorflow.python.keras.callbacks.History at 0x21874e16a30>"
      ]
     },
     "execution_count": 111,
     "metadata": {},
     "output_type": "execute_result"
    }
   ],
   "source": [
    "model.fit(X_train, y_train, epochs=10, validation_data=(X_valid, y_valid))"
   ]
  },
  {
   "cell_type": "code",
   "execution_count": 113,
   "metadata": {},
   "outputs": [
    {
     "data": {
      "image/png": "[encoded data removed]",
      "text/plain": [
       "<Figure size 720x504 with 1 Axes>"
      ]
     },
     "metadata": {
      "needs_background": "light"
     },
     "output_type": "display_data"
    }
   ],
   "source": [
    "import pandas as pd\n",
    "pd.DataFrame(model.history.history).plot(figsize=(10, 7))\n",
    "plt.grid(True)\n",
    "plt.ylim([0,1]);"
   ]
  },
  {
   "cell_type": "markdown",
   "metadata": {},
   "source": [
    "Since the val_accuarcy is still increasing, we can keep on training. But we'll stop here for now!"
   ]
  },
  {
   "cell_type": "code",
   "execution_count": 114,
   "metadata": {},
   "outputs": [
    {
     "name": "stdout",
     "output_type": "stream",
     "text": [
      "313/313 [==============================] - 4s 3ms/step - loss: 60.9790 - accuracy: 0.8605\n"
     ]
    },
    {
     "data": {
      "text/plain": [
       "[60.979007720947266, 0.8604999780654907]"
      ]
     },
     "execution_count": 114,
     "metadata": {},
     "output_type": "execute_result"
    }
   ],
   "source": [
    "model.evaluate(X_test, y_test)"
   ]
  },
  {
   "cell_type": "markdown",
   "metadata": {},
   "source": [
    "We did made some progress! ):"
   ]
  },
  {
   "cell_type": "markdown",
   "metadata": {},
   "source": [
    "#### Using the Model to Make Predictions"
   ]
  },
  {
   "cell_type": "code",
   "execution_count": 65,
   "metadata": {},
   "outputs": [
    {
     "data": {
      "text/plain": [
       "array([[0., 0., 0., 0., 0., 0., 0., 0., 0., 1.],\n",
       "       [0., 0., 1., 0., 0., 0., 0., 0., 0., 0.],\n",
       "       [0., 1., 0., 0., 0., 0., 0., 0., 0., 0.]], dtype=float32)"
      ]
     },
     "execution_count": 65,
     "metadata": {},
     "output_type": "execute_result"
    }
   ],
   "source": [
    "X_new = X_test[:3]\n",
    "y_proba = model.predict(X_new)\n",
    "y_proba"
   ]
  },
  {
   "cell_type": "code",
   "execution_count": 66,
   "metadata": {},
   "outputs": [
    {
     "name": "stderr",
     "output_type": "stream",
     "text": [
      "C:\\Users\\harik\\anaconda3\\lib\\site-packages\\tensorflow\\python\\keras\\engine\\sequential.py:455: UserWarning: `model.predict_classes()` is deprecated and will be removed after 2021-01-01. Please use instead:* `np.argmax(model.predict(x), axis=-1)`,   if your model does multi-class classification   (e.g. if it uses a `softmax` last-layer activation).* `(model.predict(x) > 0.5).astype(\"int32\")`,   if your model does binary classification   (e.g. if it uses a `sigmoid` last-layer activation).\n",
      "  warnings.warn('`model.predict_classes()` is deprecated and '\n"
     ]
    },
    {
     "data": {
      "text/plain": [
       "array([9, 2, 1], dtype=int64)"
      ]
     },
     "execution_count": 66,
     "metadata": {},
     "output_type": "execute_result"
    }
   ],
   "source": [
    "y_pred = model.predict_classes(X_new)\n",
    "y_pred"
   ]
  },
  {
   "cell_type": "code",
   "execution_count": 68,
   "metadata": {},
   "outputs": [
    {
     "data": {
      "text/plain": [
       "array([9, 2, 1], dtype=uint8)"
      ]
     },
     "execution_count": 68,
     "metadata": {},
     "output_type": "execute_result"
    }
   ],
   "source": [
    "y_new = y_test[:3]\n",
    "y_new"
   ]
  },
  {
   "cell_type": "markdown",
   "metadata": {},
   "source": [
    "Great! It classifies all the first three images correctly."
   ]
  },
  {
   "cell_type": "markdown",
   "metadata": {},
   "source": [
    "#### Building a Regression MLP Using the Sequential API"
   ]
  },
  {
   "cell_type": "code",
   "execution_count": 74,
   "metadata": {},
   "outputs": [],
   "source": [
    "from sklearn.datasets import fetch_california_housing\n",
    "from sklearn.model_selection import train_test_split\n",
    "from sklearn.preprocessing import StandardScaler\n",
    "housing = fetch_california_housing()\n"
   ]
  },
  {
   "cell_type": "code",
   "execution_count": 75,
   "metadata": {},
   "outputs": [],
   "source": [
    "X_train_full, X_test, y_train_full, y_test = train_test_split(\n",
    "housing.data, housing.target)\n",
    "X_train, X_valid, y_train, y_valid = train_test_split(\n",
    "X_train_full, y_train_full)\n",
    "scaler = StandardScaler()\n",
    "X_train_scaled = scaler.fit_transform(X_train)\n",
    "X_valid_scaled = scaler.transform(X_valid)\n",
    "X_test_scaled = scaler.transform(X_test)"
   ]
  },
  {
   "cell_type": "markdown",
   "metadata": {},
   "source": [
    "As before, let's first use a linear model to train on this data."
   ]
  },
  {
   "cell_type": "code",
   "execution_count": 77,
   "metadata": {},
   "outputs": [
    {
     "data": {
      "text/plain": [
       "LinearRegression()"
      ]
     },
     "execution_count": 77,
     "metadata": {},
     "output_type": "execute_result"
    }
   ],
   "source": [
    "from sklearn.linear_model import LinearRegression\n",
    "X_train_full_scaled = scaler.fit_transform(X_train_full)\n",
    "X_test_lin = scaler.transform(X_test)\n",
    "lin_reg = LinearRegression()\n",
    "lin_reg.fit(X_train_full_scaled, y_train_full)"
   ]
  },
  {
   "cell_type": "code",
   "execution_count": 78,
   "metadata": {},
   "outputs": [
    {
     "data": {
      "text/plain": [
       "0.6063345386385339"
      ]
     },
     "execution_count": 78,
     "metadata": {},
     "output_type": "execute_result"
    }
   ],
   "source": [
    "lin_reg.score(X_test_lin, y_test)"
   ]
  },
  {
   "cell_type": "code",
   "execution_count": 83,
   "metadata": {},
   "outputs": [
    {
     "data": {
      "text/plain": [
       "0.7192051325828581"
      ]
     },
     "execution_count": 83,
     "metadata": {},
     "output_type": "execute_result"
    }
   ],
   "source": [
    "from sklearn.metrics import mean_squared_error\n",
    "y_pred = lin_reg.predict(X_test_lin)\n",
    "(mean_squared_error(y_pred, y_test))**0.5"
   ]
  },
  {
   "cell_type": "markdown",
   "metadata": {},
   "source": [
    "Okay, the root mean square error is 0.719. Now, lets train a simple MLP."
   ]
  },
  {
   "cell_type": "code",
   "execution_count": 120,
   "metadata": {},
   "outputs": [],
   "source": [
    "model = keras.models.Sequential([\n",
    "keras.layers.Dense(30, activation=\"relu\", input_shape=X_train.shape[1:]),\n",
    "keras.layers.Dense(1)\n",
    "])"
   ]
  },
  {
   "cell_type": "code",
   "execution_count": 121,
   "metadata": {},
   "outputs": [
    {
     "name": "stdout",
     "output_type": "stream",
     "text": [
      "Model: \"sequential_10\"\n",
      "_________________________________________________________________\n",
      "Layer (type)                 Output Shape              Param #   \n",
      "=================================================================\n",
      "dense_37 (Dense)             (None, 28, 30)            870       \n",
      "_________________________________________________________________\n",
      "dense_38 (Dense)             (None, 28, 1)             31        \n",
      "=================================================================\n",
      "Total params: 901\n",
      "Trainable params: 901\n",
      "Non-trainable params: 0\n",
      "_________________________________________________________________\n"
     ]
    }
   ],
   "source": [
    "model.summary()"
   ]
  },
  {
   "cell_type": "code",
   "execution_count": 92,
   "metadata": {},
   "outputs": [
    {
     "name": "stdout",
     "output_type": "stream",
     "text": [
      "Epoch 1/20\n",
      "363/363 [==============================] - 6s 9ms/step - loss: 0.9186 - mae: 0.6640 - val_loss: 2.6933 - val_mae: 0.6257\n",
      "Epoch 2/20\n",
      "363/363 [==============================] - 3s 7ms/step - loss: 1.7237 - mae: 0.6084 - val_loss: 0.5054 - val_mae: 0.5139\n",
      "Epoch 3/20\n",
      "363/363 [==============================] - 3s 7ms/step - loss: 0.4748 - mae: 0.4971 - val_loss: 0.4664 - val_mae: 0.4851\n",
      "Epoch 4/20\n",
      "363/363 [==============================] - 3s 8ms/step - loss: 0.4466 - mae: 0.4803 - val_loss: 0.4519 - val_mae: 0.4768\n",
      "Epoch 5/20\n",
      "363/363 [==============================] - 3s 7ms/step - loss: 0.4305 - mae: 0.4691 - val_loss: 0.4332 - val_mae: 0.4603\n",
      "Epoch 6/20\n",
      "363/363 [==============================] - 2s 7ms/step - loss: 0.4186 - mae: 0.4601 - val_loss: 0.4226 - val_mae: 0.4618\n",
      "Epoch 7/20\n",
      "363/363 [==============================] - 3s 7ms/step - loss: 0.4152 - mae: 0.4569 - val_loss: 0.4198 - val_mae: 0.4635\n",
      "Epoch 8/20\n",
      "363/363 [==============================] - 3s 7ms/step - loss: 0.4053 - mae: 0.4518 - val_loss: 0.4142 - val_mae: 0.4499\n",
      "Epoch 9/20\n",
      "363/363 [==============================] - 3s 7ms/step - loss: 0.4275 - mae: 0.4570 - val_loss: 0.4228 - val_mae: 0.4557\n",
      "Epoch 10/20\n",
      "363/363 [==============================] - 3s 7ms/step - loss: 0.4059 - mae: 0.4511 - val_loss: 0.4074 - val_mae: 0.4425\n",
      "Epoch 11/20\n",
      "363/363 [==============================] - 3s 7ms/step - loss: 0.3939 - mae: 0.4435 - val_loss: 0.3983 - val_mae: 0.4398\n",
      "Epoch 12/20\n",
      "363/363 [==============================] - 3s 7ms/step - loss: 0.3906 - mae: 0.4399 - val_loss: 0.3943 - val_mae: 0.4405\n",
      "Epoch 13/20\n",
      "363/363 [==============================] - 3s 8ms/step - loss: 0.3854 - mae: 0.4380 - val_loss: 0.3887 - val_mae: 0.4377\n",
      "Epoch 14/20\n",
      "363/363 [==============================] - 3s 7ms/step - loss: 0.3845 - mae: 0.4376 - val_loss: 0.4610 - val_mae: 0.4504\n",
      "Epoch 15/20\n",
      "363/363 [==============================] - 3s 8ms/step - loss: 0.3997 - mae: 0.4414 - val_loss: 0.3958 - val_mae: 0.4345\n",
      "Epoch 16/20\n",
      "363/363 [==============================] - 3s 7ms/step - loss: 0.3746 - mae: 0.4318 - val_loss: 0.3802 - val_mae: 0.4326\n",
      "Epoch 17/20\n",
      "363/363 [==============================] - 2s 7ms/step - loss: 0.3693 - mae: 0.4283 - val_loss: 0.3733 - val_mae: 0.4299\n",
      "Epoch 18/20\n",
      "363/363 [==============================] - 3s 8ms/step - loss: 0.3683 - mae: 0.4274 - val_loss: 0.3734 - val_mae: 0.4306\n",
      "Epoch 19/20\n",
      "363/363 [==============================] - 2s 7ms/step - loss: 0.3634 - mae: 0.4244 - val_loss: 0.3666 - val_mae: 0.4219\n",
      "Epoch 20/20\n",
      "363/363 [==============================] - 3s 7ms/step - loss: 0.3591 - mae: 0.4206 - val_loss: 0.3673 - val_mae: 0.4229\n"
     ]
    }
   ],
   "source": [
    "model.compile(optimizer=\"sgd\", loss=\"mse\", metrics=\"mae\")\n",
    "history = model.fit(X_train_scaled, y_train, epochs=20,validation_data=(X_valid_scaled, y_valid))"
   ]
  },
  {
   "cell_type": "code",
   "execution_count": 93,
   "metadata": {},
   "outputs": [],
   "source": [
    "y_pred = model.predict(X_test_scaled)"
   ]
  },
  {
   "cell_type": "code",
   "execution_count": 96,
   "metadata": {},
   "outputs": [
    {
     "data": {
      "text/plain": [
       "0.5898363690310889"
      ]
     },
     "execution_count": 96,
     "metadata": {},
     "output_type": "execute_result"
    }
   ],
   "source": [
    "(mean_squared_error(y_test, y_pred))**0.5"
   ]
  },
  {
   "cell_type": "markdown",
   "metadata": {},
   "source": [
    "Hurray! The score improved from 0.719 to 0.590."
   ]
  },
  {
   "cell_type": "markdown",
   "metadata": {},
   "source": [
    "#### Building Complex Models Using the Functional API"
   ]
  },
  {
   "cell_type": "markdown",
   "metadata": {},
   "source": [
    "One example of a non-sequential neural network is a Wide & Deep neural network.\n",
    "It connects all or part of the inputs directly to the output layer, as shown in\n",
    "the figure. This architecture makes it possible for the neural network to learn both\n",
    "deep patterns (using the deep path) and simple rules (through the short path). In\n",
    "contrast, a regular MLP forces all the data to flow through the full stack of layers, thus\n",
    "simple patterns in the data may end up being distorted by this sequence of transformations."
   ]
  },
  {
   "cell_type": "markdown",
   "metadata": {},
   "source": [
    "<figure>\n",
    "<figcaption><h4>Wide and Deep Neural Network</h4></figcaption>\n",
    "<img src = \"img/10_11.png\">\n",
    "</figure>"
   ]
  },
  {
   "cell_type": "markdown",
   "metadata": {},
   "source": [
    "Let's see how it is done:"
   ]
  },
  {
   "cell_type": "code",
   "execution_count": 118,
   "metadata": {},
   "outputs": [],
   "source": [
    "input = keras.layers.Input(shape=X_train.shape[1:])\n",
    "hidden1 = keras.layers.Dense(30, activation=\"relu\")(input)\n",
    "hidden2 = keras.layers.Dense(30, activation=\"relu\")(hidden1)\n",
    "concat = keras.layers.concatenate([input, hidden2])\n",
    "output = keras.layers.Dense(1)(concat)\n",
    "model = keras.models.Model(inputs=[input], outputs=[output])"
   ]
  },
  {
   "cell_type": "code",
   "execution_count": 119,
   "metadata": {},
   "outputs": [
    {
     "name": "stdout",
     "output_type": "stream",
     "text": [
      "Model: \"model\"\n",
      "__________________________________________________________________________________________________\n",
      "Layer (type)                    Output Shape         Param #     Connected to                     \n",
      "==================================================================================================\n",
      "input_4 (InputLayer)            [(None, 28, 28)]     0                                            \n",
      "__________________________________________________________________________________________________\n",
      "dense_34 (Dense)                (None, 28, 30)       870         input_4[0][0]                    \n",
      "__________________________________________________________________________________________________\n",
      "dense_35 (Dense)                (None, 28, 30)       930         dense_34[0][0]                   \n",
      "__________________________________________________________________________________________________\n",
      "concatenate_3 (Concatenate)     (None, 28, 58)       0           input_4[0][0]                    \n",
      "                                                                 dense_35[0][0]                   \n",
      "__________________________________________________________________________________________________\n",
      "dense_36 (Dense)                (None, 28, 1)        59          concatenate_3[0][0]              \n",
      "==================================================================================================\n",
      "Total params: 1,859\n",
      "Trainable params: 1,859\n",
      "Non-trainable params: 0\n",
      "__________________________________________________________________________________________________\n"
     ]
    }
   ],
   "source": [
    "model.summary()"
   ]
  },
  {
   "cell_type": "code",
   "execution_count": null,
   "metadata": {},
   "outputs": [],
   "source": []
  }
 ],
 "metadata": {
  "interpreter": {
   "hash": "ce44b17c45080b8f56a19c9450d52461d624c968fcd959bb1916985c5ffa2b94"
  },
  "kernelspec": {
   "display_name": "Python 3.8.5 64-bit ('base': conda)",
   "language": "python",
   "name": "python3"
  },
  "language_info": {
   "codemirror_mode": {
    "name": "ipython",
    "version": 3
   },
   "file_extension": ".py",
   "mimetype": "text/x-python",
   "name": "python",
   "nbconvert_exporter": "python",
   "pygments_lexer": "ipython3",
   "version": "3.8.5"
  },
  "orig_nbformat": 4
 },
 "nbformat": 4,
 "nbformat_minor": 2
}
