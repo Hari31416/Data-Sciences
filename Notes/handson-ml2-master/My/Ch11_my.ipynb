{
 "cells": [
  {
   "cell_type": "markdown",
   "metadata": {},
   "source": [
    "## Training Deep Neural Networks"
   ]
  },
  {
   "cell_type": "markdown",
   "metadata": {},
   "source": [
    "Training a deep neural network is not as easy as just adding more and more layers. There are lot of things to consider."
   ]
  },
  {
   "cell_type": "markdown",
   "metadata": {},
   "source": [
    "* First, you would be faced with the tricky vanishing gradients problem (or the\n",
    "related exploding gradients problem) that affects deep neural networks and makes\n",
    "lower layers very hard to train.\n",
    "* Second, you might not have enough training data for such a large network, or it\n",
    "might be too costly to label.\n",
    "* Third, training may be extremely slow.\n",
    "* Fourth, a model with millions of parameters would severely risk overfitting the\n",
    "training set, especially if there are not enough training instances, or they are too\n",
    "noisy."
   ]
  },
  {
   "cell_type": "code",
   "execution_count": 83,
   "metadata": {},
   "outputs": [],
   "source": [
    "import matplotlib.pyplot as plt\n",
    "import numpy as np\n",
    "from tensorflow import keras"
   ]
  },
  {
   "cell_type": "markdown",
   "metadata": {},
   "source": [
    "### Vanishing/Exploding Gradients Problems"
   ]
  },
  {
   "cell_type": "markdown",
   "metadata": {},
   "source": [
    "The backpropagation algorithm works by going from\n",
    "the output layer to the input layer, propagating the error gradient on the way. Once\n",
    "the algorithm has computed the gradient of the cost function with regards to each\n",
    "parameter in the network, it uses these gradients to update each parameter with a\n",
    "Gradient Descent step.<br>\n",
    "Unfortunately, gradients often get smaller and smaller as the algorithm progresses\n",
    "down to the lower layers. As a result, the Gradient Descent update leaves the lower\n",
    "layer connection weights virtually unchanged, and training never converges to a good\n",
    "solution. This is called the vanishing gradients problem. In some cases, the opposite\n",
    "can happen: the gradients can grow bigger and bigger, so many layers get insanely\n",
    "large weight updates and the algorithm diverges. This is the exploding gradients problem, which is mostly encountered in recurrent neural networks."
   ]
  },
  {
   "cell_type": "markdown",
   "metadata": {},
   "source": [
    "This happens because a lot of reasons. A lot of research are still going on in this field. It was showed that the combination of the popular logistic sigmoid activation function and the\n",
    "weight initialization technique that was most popular at the time, namely random initialization using a normal distribution with a mean of 0 and a standard deviation of 1 were two of main culprits. With this, the variance of the outputs of each layer is much greater than the variance of its\n",
    "inputs. Going forward in the network, the variance keeps increasing after each layer\n",
    "until the activation function saturates at the top layers. This is actually made worse by\n",
    "the fact that the logistic function has a mean of 0.5, not 0 (the hyperbolic tangent\n",
    "function has a mean of 0 and behaves slightly better than the logistic function in deep\n",
    "networks)."
   ]
  },
  {
   "cell_type": "markdown",
   "metadata": {},
   "source": [
    "Looking at the logistic activation function, you can see that when\n",
    "inputs become large (negative or positive), the function saturates at 0 or 1, with a\n",
    "derivative extremely close to 0. Thus when backpropagation kicks in, it has virtually\n",
    "no gradient to propagate back through the network, and what little gradient exists\n",
    "keeps getting diluted as backpropagation progresses down through the top layers, so\n",
    "there is really nothing left for the lower layers."
   ]
  },
  {
   "cell_type": "markdown",
   "metadata": {},
   "source": [
    "<figure>\n",
    "<figcaption><h4>Logistic activation function saturation</h4></figcaption>\n",
    "<img src = \"img/11_01.png\">\n",
    "</figure>"
   ]
  },
  {
   "cell_type": "markdown",
   "metadata": {},
   "source": []
  },
  {
   "cell_type": "markdown",
   "metadata": {},
   "source": [
    "#### Glorot and He Initialization"
   ]
  },
  {
   "cell_type": "markdown",
   "metadata": {},
   "source": [
    "For backpropogation to work properly,we don't want the gradients to die out, nor do we want it to explode and saturate.\n",
    "For the signal to flow properly, the it was proposed that we need the variance of the\n",
    "outputs of each layer to be equal to the variance of its inputs, and we also need the\n",
    "gradients to have equal variance before and after flowing through a layer in the\n",
    "reverse direction. It is actually not possible to guarantee both unless the layer has an equal\n",
    "number of inputs and neurons (these numbers are called the fan-in and fan-out of the\n",
    "layer). The connection weights of each layer must be initialized randomly as described by:"
   ]
  },
  {
   "cell_type": "markdown",
   "metadata": {},
   "source": [
    "<figure>\n",
    "<figcaption><h4>Glorot initialization</h4></figcaption>\n",
    "<img src = \"img/11_02.png\">\n",
    "</figure>"
   ]
  },
  {
   "cell_type": "markdown",
   "metadata": {},
   "source": [
    "Where:\n",
    "$$ \\text{fan}_{avg} = \\frac{\\text{fan}_{in} + \\text{fan}_{out}}{2} $$"
   ]
  },
  {
   "cell_type": "markdown",
   "metadata": {},
   "source": [
    "Replacing $\\text{fan}_{in}$ with $\\text{fan}_{avg}$ gives the usual random initialization."
   ]
  },
  {
   "cell_type": "markdown",
   "metadata": {},
   "source": [
    "Using Glorot initialization can speed up training considerably, and it is one of the tricks that led to the current success of Deep\n",
    "Learning. Similar initialization are given for other activation functions."
   ]
  },
  {
   "cell_type": "markdown",
   "metadata": {},
   "source": [
    "<figure>\n",
    "<figcaption><h4>Initialization parameters for each type of activation function</h4></figcaption>\n",
    "<img src = \"img/11_03.png\">\n",
    "</figure>"
   ]
  },
  {
   "cell_type": "markdown",
   "metadata": {},
   "source": [
    "By default, Keras uses Glorot initialization with a uniform distribution. You can\n",
    "change this to He initialization by setting `kernel_initializer=\"he_uniform\"` or `kernel_initializer=\"he_normal\"` when creating a layer."
   ]
  },
  {
   "cell_type": "markdown",
   "metadata": {},
   "source": [
    "`keras.layers.Dense(10, activation=\"relu\", kernel_initializer=\"he_normal\")`"
   ]
  },
  {
   "cell_type": "markdown",
   "metadata": {},
   "source": [
    "If you want He initialization with a uniform distribution, but based on $fan_{avg}$ rather\n",
    "than $fan_{in}$, you can use the `VarianceScaling` initializer like this:<br>\n"
   ]
  },
  {
   "cell_type": "code",
   "execution_count": 84,
   "metadata": {},
   "outputs": [
    {
     "data": {
      "text/plain": [
       "<tensorflow.python.keras.layers.core.Dense at 0x20865ee1df0>"
      ]
     },
     "execution_count": 84,
     "metadata": {},
     "output_type": "execute_result"
    }
   ],
   "source": [
    "he_avg_init = keras.initializers.VarianceScaling(scale=2., mode='fan_avg',\n",
    "distribution='uniform')\n",
    "keras.layers.Dense(10, activation=\"sigmoid\", kernel_initializer=he_avg_init)"
   ]
  },
  {
   "cell_type": "markdown",
   "metadata": {},
   "source": [
    "#### Nonsaturating Activation Functions"
   ]
  },
  {
   "cell_type": "markdown",
   "metadata": {},
   "source": [
    "Using activation function other than the logistic, like ReLU usually performs better in deep learning mostly because it does\n",
    "not saturate for positive values (and also because it is quite fast to compute).<br>\n",
    "Unfortunately, the ReLU activation function is not perfect. It suffers from a problem\n",
    "known as the dying ReLUs: during training, some neurons effectively die, meaning\n",
    "they stop outputting anything other than 0. In some cases, you may find that half of\n",
    "your network’s neurons are dead, especially if you used a large learning rate. A neuron dies when its weights get tweaked in such a way that the weighted sum of its\n",
    "inputs are negative for all instances in the training set. When this happens, it just\n",
    "keeps outputting 0s, and gradient descent does not affect it anymore since the gradient of the ReLU function is 0 when its input is negative.\n",
    "To solve this problem, you may want to use a variant of the ReLU function, such as\n",
    "the leaky ReLU. This function is defined as $\\text{LeakyReLU}_{\\alpha}(z) = max(\\alpha z, z)$. The hyperparameter α defines how much the function “leaks”: it is the\n",
    "slope of the function for z < 0, and is typically set to 0.01. This small slope ensures\n",
    "that leaky ReLUs never die; they can go into a long coma, but they have a chance to\n",
    "eventually wake up."
   ]
  },
  {
   "cell_type": "code",
   "execution_count": 62,
   "metadata": {},
   "outputs": [
    {
     "data": {
      "image/png": "[encoded data removed]",
      "text/plain": [
       "<Figure size 576x432 with 1 Axes>"
      ]
     },
     "metadata": {
      "needs_background": "light"
     },
     "output_type": "display_data"
    }
   ],
   "source": [
    "def leakyrelu(x, alpha=0.3):\n",
    "    return np.maximum(x, alpha * x)\n",
    "\n",
    "x = np.linspace(-5, 5, 200)\n",
    "plt.figure(figsize=(8, 6))\n",
    "plt.plot(x, leakyrelu(x, 0.2), linewidth = 2.5)\n",
    "plt.plot(x, np.zeros(x.shape), 'k--', linewidth = 2)\n",
    "plt.plot(np.zeros(x.shape), x, 'k--', linewidth = 2)\n",
    "plt.annotate(\"Leak\",\n",
    "            xy=(-4, -0.5), xycoords='data',\n",
    "            xytext=(-3, 1), textcoords='data',\n",
    "            arrowprops=dict(arrowstyle=\"simple\",\n",
    "                            connectionstyle=\"arc3\", linewidth=2),\n",
    "                            size=20)\n",
    "plt.grid(True)    \n",
    "plt.xlim(-5, 5)\n",
    "plt.ylim(-1, 5)                      \n",
    "plt.tight_layout()           \n",
    "plt.title('Leaky ReLU', fontdict={'fontsize': 20});"
   ]
  },
  {
   "cell_type": "markdown",
   "metadata": {},
   "source": [
    "In 2015, a new activation function called the exponential linear unit (ELU) that outperformed all the ReLU\n",
    "variants in their experiments: training time was reduced and the neural network performed better on the test set."
   ]
  },
  {
   "cell_type": "markdown",
   "metadata": {},
   "source": [
    "$$\n",
    "\\text{ELU}=\\begin{cases}\n",
    "\t\t\t\\alpha(\\exp{z}-1), & \\text{if $z<0$}\\\\\n",
    "            z, & \\text{if $z\\ge0$}\n",
    "\t\t \\end{cases}\n",
    "$$"
   ]
  },
  {
   "cell_type": "code",
   "execution_count": 75,
   "metadata": {},
   "outputs": [],
   "source": [
    "def ELU(z, alpha=0.3):\n",
    "    if z<0:\n",
    "        return alpha*( np.exp(z)-1)\n",
    "    else:\n",
    "        return  z\n",
    "ELU = np.vectorize(ELU)"
   ]
  },
  {
   "cell_type": "code",
   "execution_count": 81,
   "metadata": {},
   "outputs": [
    {
     "data": {
      "image/png": "[encoded data removed]",
      "text/plain": [
       "<Figure size 576x432 with 1 Axes>"
      ]
     },
     "metadata": {
      "needs_background": "light"
     },
     "output_type": "display_data"
    }
   ],
   "source": [
    "x = np.linspace(-5, 5, 200)\n",
    "plt.figure(figsize=(8, 6))\n",
    "plt.plot(x, ELU(x, 0.2), linewidth = 2.5)\n",
    "plt.plot(x, np.zeros(x.shape), 'k--', linewidth = 2)\n",
    "plt.plot(np.zeros(x.shape), x, 'k--', linewidth = 2)\n",
    "plt.annotate(\"Non zero value\",\n",
    "            xy=(-4, -0.2), xycoords='data',\n",
    "            xytext=(-3, 1), textcoords='data',\n",
    "            arrowprops=dict(arrowstyle=\"simple\",\n",
    "                            connectionstyle=\"arc3\", linewidth=2),\n",
    "                            size=20)\n",
    "plt.grid(True)    \n",
    "plt.xlim(-5, 5)\n",
    "plt.ylim(-1, 5)                      \n",
    "plt.tight_layout()           \n",
    "plt.title('Exponential Linear Unit', fontdict={'fontsize': 20});"
   ]
  },
  {
   "cell_type": "markdown",
   "metadata": {},
   "source": [
    "The main drawback of the ELU activation function is that it is slower to compute\n",
    "than the ReLU and its variants (due to the use of the exponential function), but during training this is compensated by the faster convergence rate. However, at test time\n",
    "an ELU network will be slower than a ReLU network."
   ]
  },
  {
   "cell_type": "markdown",
   "metadata": {},
   "source": [
    "In 2017 some researchers showed that if you build a neural network composed\n",
    "exclusively of a stack of dense layers, and if all hidden layers use the SELU activation\n",
    "function (which is just a scaled version of the ELU activation function, as its name\n",
    "suggests), then the network will self-normalize: the output of each layer will tend to\n",
    "preserve mean 0 and standard deviation 1 during training, which solves the vanishing/exploding gradients problem. "
   ]
  },
  {
   "cell_type": "markdown",
   "metadata": {},
   "source": [
    ">So which activation function should you use for the hidden layers\n",
    "of your deep neural networks? Although your mileage will vary, in\n",
    "general SELU > ELU > leaky ReLU (and its variants) > ReLU > tanh\n",
    "> logistic. If the network’s architecture prevents it from selfnormalizing, then ELU may perform better than SELU (since SELU\n",
    "is not smooth at z = 0). If you care a lot about runtime latency, then\n",
    "you may prefer leaky ReLU. "
   ]
  },
  {
   "cell_type": "markdown",
   "metadata": {},
   "source": [
    "To use the leaky ReLU activation function, you must create a `LeakyReLU` instance like\n",
    "this:"
   ]
  },
  {
   "cell_type": "code",
   "execution_count": 85,
   "metadata": {},
   "outputs": [],
   "source": [
    "leaky_relu = keras.layers.LeakyReLU(alpha=0.2)\n",
    "layer = keras.layers.Dense(10, activation=leaky_relu,\n",
    "kernel_initializer=\"he_normal\")"
   ]
  },
  {
   "cell_type": "markdown",
   "metadata": {},
   "source": [
    "For SELU activation, just set `activation=\"selu\"` and `kernel_initializer=\"lecun_normal\"` when creating a layer:"
   ]
  },
  {
   "cell_type": "code",
   "execution_count": 86,
   "metadata": {},
   "outputs": [],
   "source": [
    "layer = keras.layers.Dense(10, activation=\"selu\",\n",
    "kernel_initializer=\"lecun_normal\")"
   ]
  },
  {
   "cell_type": "markdown",
   "metadata": {},
   "source": [
    "#### Batch Normalization"
   ]
  },
  {
   "cell_type": "markdown",
   "metadata": {},
   "source": [
    "Another technique to solve the vanishing/exploding gradients problems is batch normalization. The technique consists of adding an operation in the model just before or after the\n",
    "activation function of each hidden layer, simply zero-centering and normalizing each\n",
    "input, then scaling and shifting the result using two new parameter vectors per layer:\n",
    "one for scaling, the other for shifting. In other words, this operation lets the model\n",
    "learn the optimal scale and mean of each of the layer’s inputs. In many cases, if you\n",
    "add a BN layer as the very first layer of your neural network, you do not need to\n",
    "standardize your training set (e.g., using a `StandardScaler`): the BN layer will do it\n",
    "for you (well, approximately, since it only looks at one batch at a time, and it can also\n",
    "rescale and shift each input feature)."
   ]
  },
  {
   "cell_type": "markdown",
   "metadata": {},
   "source": [
    "To sum up, four parameter vectors are learned in each batch-normalized\n",
    "layer: $\\mathbf{\\gamma}$ (the ouput scale vector) and $\\mathbf{\\beta}$ (the output offset vector) are learned through\n",
    "regular backpropagation, and $\\mathbf{\\mu}$ (the final input mean vector), and $\\mathbf{\\sigma}$ (the final input\n",
    "standard deviation vector) are estimated using an exponential moving average. Note\n",
    "that $\\mathbf{\\mu}$ and $\\mathbf{\\sigma}$ are estimated during training, but they are not used at all during training, only after training."
   ]
  },
  {
   "cell_type": "markdown",
   "metadata": {},
   "source": [
    "Using BN, generally results in better performance in every DNN. using BN the gradients problem was strongly reduced, to the point that they could use saturating activation functions such as the tanh and even the logistic activation function. We are able to use much larger learning rates, significantly speeding up the learning process. What's more, Batch Normalization also acts like a regularizer, reducing the need for other regularization techniques. Batch Normalization does, however, add some complexity to the model (although it\n",
    "can remove the need for normalizing the input data, as we discussed earlier). Moreover, there is a runtime penalty: the neural network makes slower predictions due to\n",
    "the extra computations required at each layer."
   ]
  },
  {
   "cell_type": "markdown",
   "metadata": {},
   "source": [
    ">You may find that training is rather slow, because each epoch takes\n",
    "much more time when you use batch normalization. However, this\n",
    "is usually counterbalanced by the fact that convergence is much\n",
    "faster with BN, so it will take fewer epochs to reach the same performance."
   ]
  },
  {
   "cell_type": "markdown",
   "metadata": {},
   "source": [
    "To use BN, just add a `BatchNormalization` layer before or after each hidden layer’s activation\n",
    "function, and optionally add a BN layer as well as the first layer in your model."
   ]
  },
  {
   "cell_type": "code",
   "execution_count": 93,
   "metadata": {},
   "outputs": [],
   "source": [
    "model = keras.models.Sequential([\n",
    "keras.layers.Flatten(input_shape=[28, 28]),\n",
    "keras.layers.BatchNormalization(),\n",
    "keras.layers.Dense(300, activation=\"elu\", kernel_initializer=\"he_normal\"),\n",
    "keras.layers.BatchNormalization(),\n",
    "keras.layers.Dense(100, activation=\"elu\", kernel_initializer=\"he_normal\"),\n",
    "keras.layers.BatchNormalization(),\n",
    "keras.layers.Dense(10, activation=\"softmax\")\n",
    "])"
   ]
  },
  {
   "cell_type": "code",
   "execution_count": 94,
   "metadata": {},
   "outputs": [
    {
     "name": "stdout",
     "output_type": "stream",
     "text": [
      "Model: \"sequential_2\"\n",
      "_________________________________________________________________\n",
      "Layer (type)                 Output Shape              Param #   \n",
      "=================================================================\n",
      "flatten_2 (Flatten)          (None, 784)               0         \n",
      "_________________________________________________________________\n",
      "batch_normalization_6 (Batch (None, 784)               3136      \n",
      "_________________________________________________________________\n",
      "dense_9 (Dense)              (None, 300)               235500    \n",
      "_________________________________________________________________\n",
      "batch_normalization_7 (Batch (None, 300)               1200      \n",
      "_________________________________________________________________\n",
      "dense_10 (Dense)             (None, 100)               30100     \n",
      "_________________________________________________________________\n",
      "batch_normalization_8 (Batch (None, 100)               400       \n",
      "_________________________________________________________________\n",
      "dense_11 (Dense)             (None, 10)                1010      \n",
      "=================================================================\n",
      "Total params: 271,346\n",
      "Trainable params: 268,978\n",
      "Non-trainable params: 2,368\n",
      "_________________________________________________________________\n"
     ]
    }
   ],
   "source": [
    "model.summary()"
   ]
  },
  {
   "cell_type": "markdown",
   "metadata": {},
   "source": [
    "From the model summary, you can see that each BN layer\n",
    "adds 4 parameters per input: γ, β, μ and σ (for example, the first BN layer adds 3136\n",
    "parameters, which is 4 times 784). The last two parameters, μ and σ, are the moving\n",
    "averages, they are not affected by backpropagation, so Keras calls them “Nontrainable” (if you count the total number of BN parameters, 3136 + 1200 + 400, and\n",
    "divide by two, you get 2,368, which is the total number of non-trainable params in\n",
    "this model).<br>\n",
    "Let’s look at the parameters of the first BN layer. Two are trainable (by backprop), and\n",
    "two are not:"
   ]
  },
  {
   "cell_type": "code",
   "execution_count": 89,
   "metadata": {},
   "outputs": [
    {
     "data": {
      "text/plain": [
       "[('batch_normalization/gamma:0', True),\n",
       " ('batch_normalization/beta:0', True),\n",
       " ('batch_normalization/moving_mean:0', False),\n",
       " ('batch_normalization/moving_variance:0', False)]"
      ]
     },
     "execution_count": 89,
     "metadata": {},
     "output_type": "execute_result"
    }
   ],
   "source": [
    "[(var.name, var.trainable) for var in model.layers[1].variables]"
   ]
  },
  {
   "cell_type": "markdown",
   "metadata": {},
   "source": [
    "The authors of the BN paper argued in favor of adding the BN layers before the activation functions, rather than after (as we just did). To add the BN layers before the activation functions, we must remove the activation function from the hidden layers, and\n",
    "add them as separate layers after the BN layers. Moreover, since a Batch Normalization layer includes one offset parameter per input, you can remove the bias term from\n",
    "the previous layer."
   ]
  },
  {
   "cell_type": "code",
   "execution_count": 90,
   "metadata": {},
   "outputs": [],
   "source": [
    "model = keras.models.Sequential([\n",
    "keras.layers.Flatten(input_shape=[28, 28]),\n",
    "keras.layers.BatchNormalization(),\n",
    "keras.layers.Dense(300, kernel_initializer=\"he_normal\", use_bias=False),\n",
    "keras.layers.BatchNormalization(),\n",
    "keras.layers.Activation(\"elu\"),\n",
    "keras.layers.Dense(100, kernel_initializer=\"he_normal\", use_bias=False),\n",
    "keras.layers.Activation(\"elu\"),\n",
    "keras.layers.BatchNormalization(),\n",
    "keras.layers.Dense(10, activation=\"softmax\")\n",
    "])"
   ]
  },
  {
   "cell_type": "markdown",
   "metadata": {},
   "source": [
    "The `BatchNormalization` class has quite a few hyperparameters you can tweak. The\n",
    "defaults will usually be fine, but you may occasionally need to tweak the `momentum`. A good `momentum` value is typically close to 1—for example, 0.9, 0.99, or 0.999 (you\n",
    "want more 9s for larger datasets and smaller mini-batches)."
   ]
  },
  {
   "cell_type": "markdown",
   "metadata": {},
   "source": [
    "Another important hyperparameter is `axis`: it determines which axis should be normalized. It defaults to –1, meaning that by default it will normalize the last axis (using\n",
    "the means and standard deviations computed across the other axes). For example,\n",
    "when the input batch is 2D (i.e., the batch shape is [batch size, features]), this means\n",
    "that each input feature will be normalized based on the mean and standard deviation\n",
    "computed across all the instances in the batch. For example, the first BN layer in the\n",
    "previous code example will independently normalize (and rescale and shift) each of\n",
    "the 784 input features. However, if we move the first BN layer before the `Flatten` layer, then the input batches will be 3D, with shape [batch size, height, width], there‐\n",
    "fore the BN layer will compute 28 means and 28 standard deviations (one per column\n",
    "of pixels, computed across all instances in the batch, and all rows in the column), and\n",
    "it will normalize all pixels in a given column using the same mean and standard deviation. There will also be just 28 scale parameters and 28 shift parameters. If instead\n",
    "you still want to treat each of the 784 pixels independently, then you should set\n",
    "axis=[1, 2]."
   ]
  },
  {
   "cell_type": "markdown",
   "metadata": {},
   "source": [
    ">Batch Normalization has become one of the most used layers in deep neural networks, to the point that it is often omitted in the diagrams, as it is assumed that BN is\n",
    "added after every layer."
   ]
  },
  {
   "cell_type": "markdown",
   "metadata": {},
   "source": [
    "#### Gradient Clipping"
   ]
  },
  {
   "cell_type": "markdown",
   "metadata": {},
   "source": [
    "Another popular technique to lessen the exploding gradients problem is to simply\n",
    "clip the gradients during backpropagation so that they never exceed some threshold. This is called gradient clipping. In Keras, implementing Gradient Clipping is just a matter of setting the `clipvalue` or\n",
    "`clipnorm` argument when creating an optimizer. For example:"
   ]
  },
  {
   "cell_type": "code",
   "execution_count": 91,
   "metadata": {},
   "outputs": [],
   "source": [
    "optimizer = keras.optimizers.SGD(clipvalue=1.0)\n",
    "model.compile(loss=\"mse\", optimizer=optimizer)"
   ]
  },
  {
   "cell_type": "markdown",
   "metadata": {},
   "source": [
    "This will clip every component of the gradient vector to a value between –1.0 and 1.0.\n",
    "This means that all the partial derivatives of the loss (with regards to each and every\n",
    "trainable parameter) will be clipped between –1.0 and 1.0. The threshold is a hyperparameter you can tune. Note that it may change the orientation of the gradient vector. If you want to ensure that Gradient Clipping does not change\n",
    "the direction of the gradient vector, you should clip by norm by setting `clipnorm`\n",
    "instead of `clipvalue`. This will clip the whole gradient if its $ℓ_2$ norm is greater than\n",
    "the threshold you picked."
   ]
  },
  {
   "cell_type": "markdown",
   "metadata": {},
   "source": [
    "### Reusing Pretrained Layers"
   ]
  },
  {
   "cell_type": "code",
   "execution_count": null,
   "metadata": {},
   "outputs": [],
   "source": []
  }
 ],
 "metadata": {
  "interpreter": {
   "hash": "ce44b17c45080b8f56a19c9450d52461d624c968fcd959bb1916985c5ffa2b94"
  },
  "kernelspec": {
   "display_name": "Python 3.8.5 64-bit ('base': conda)",
   "language": "python",
   "name": "python3"
  },
  "language_info": {
   "codemirror_mode": {
    "name": "ipython",
    "version": 3
   },
   "file_extension": ".py",
   "mimetype": "text/x-python",
   "name": "python",
   "nbconvert_exporter": "python",
   "pygments_lexer": "ipython3",
   "version": "3.8.5"
  },
  "orig_nbformat": 4
 },
 "nbformat": 4,
 "nbformat_minor": 2
}
