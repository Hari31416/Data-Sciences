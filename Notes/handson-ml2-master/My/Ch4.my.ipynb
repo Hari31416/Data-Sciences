{
 "cells": [
  {
   "cell_type": "code",
   "execution_count": 1,
   "metadata": {},
   "outputs": [],
   "source": [
    "import numpy as np\n",
    "import matplotlib.pyplot as plt\n"
   ]
  },
  {
   "cell_type": "code",
   "execution_count": 2,
   "metadata": {},
   "outputs": [],
   "source": [
    "m = 100\n",
    "X = 6 * np.random.rand(m, 1) - 3\n",
    "y = 0.5 * X**2 + X + 2 + np.random.randn(m, 1)"
   ]
  },
  {
   "cell_type": "markdown",
   "metadata": {},
   "source": [
    "## Learning Curves"
   ]
  },
  {
   "cell_type": "code",
   "execution_count": 8,
   "metadata": {},
   "outputs": [],
   "source": [
    "from sklearn.metrics import mean_squared_error\n",
    "from sklearn.model_selection import train_test_split\n",
    "def plot_learning_curves(model, X, y):\n",
    "    X_train, X_val, y_train, y_val = train_test_split(X, y, test_size=0.2)\n",
    "    train_errors, val_errors = [], []\n",
    "    for m in range(1, len(X_train)):\n",
    "        model.fit(X_train[:m], y_train[:m])\n",
    "        y_train_predict = model.predict(X_train[:m])\n",
    "        y_val_predict = model.predict(X_val)\n",
    "        train_errors.append(mean_squared_error(y_train[:m], y_train_predict))\n",
    "        val_errors.append(mean_squared_error(y_val, y_val_predict))\n",
    "    plt.plot(np.sqrt(train_errors), \"r-+\", linewidth=2, label=\"train\")\n",
    "    plt.plot(np.sqrt(val_errors), \"b-\", linewidth=3, label=\"val\")\n",
    "    plt.legend(loc=\"upper right\", fontsize=14)   # not shown in the book\n",
    "    plt.xlabel(\"Training set size\", fontsize=14) # not shown\n",
    "    plt.ylabel(\"RMSE\", fontsize=14)  "
   ]
  },
  {
   "cell_type": "code",
   "execution_count": 9,
   "metadata": {},
   "outputs": [
    {
     "data": {
      "image/png": "[encoded data removed]",
      "text/plain": [
       "<Figure size 432x288 with 1 Axes>"
      ]
     },
     "metadata": {
      "needs_background": "light"
     },
     "output_type": "display_data"
    }
   ],
   "source": [
    "from sklearn.linear_model import LinearRegression\n",
    "lin_reg = LinearRegression()\n",
    "plot_learning_curves(lin_reg, X, y)"
   ]
  },
  {
   "cell_type": "code",
   "execution_count": 13,
   "metadata": {},
   "outputs": [
    {
     "data": {
      "text/plain": [
       "(0.0, 10.0)"
      ]
     },
     "execution_count": 13,
     "metadata": {},
     "output_type": "execute_result"
    },
    {
     "data": {
      "image/png": "[encoded data removed]",
      "text/plain": [
       "<Figure size 432x288 with 1 Axes>"
      ]
     },
     "metadata": {
      "needs_background": "light"
     },
     "output_type": "display_data"
    }
   ],
   "source": [
    "from sklearn.pipeline import Pipeline\n",
    "from sklearn.preprocessing import PolynomialFeatures\n",
    "polynomial_regression = Pipeline([\n",
    "    (\"poly_features\", PolynomialFeatures(degree=10, include_bias=False)),\n",
    "    (\"lin_reg\", LinearRegression()),\n",
    "    ])\n",
    "plot_learning_curves(polynomial_regression, X, y)\n",
    "plt.ylim(0, 10);"
   ]
  },
  {
   "cell_type": "code",
   "execution_count": 21,
   "metadata": {},
   "outputs": [],
   "source": [
    "poly = PolynomialFeatures(degree=10, include_bias=False)\n",
    "poly_X = poly.fit_transform(X)"
   ]
  },
  {
   "cell_type": "code",
   "execution_count": 23,
   "metadata": {},
   "outputs": [],
   "source": [
    "# poly_X"
   ]
  },
  {
   "cell_type": "markdown",
   "metadata": {},
   "source": [
    "## The Bias/Variance Tradeoff\n",
    "An important theoretical result of statistics and Machine Learning is the fact that a\n",
    "model’s generalization error can be expressed as the sum of three very different\n",
    "errors:\n",
    "#### Bias\n",
    "This part of the generalization error is due to wrong assumptions, such as assum‐\n",
    "ing that the data is linear when it is actually quadratic. A high-bias model is most\n",
    "likely to underfit the training data.10\n",
    "#### Variance\n",
    "This part is due to the model’s excessive sensitivity to small variations in the\n",
    "training data. A model with many degrees of freedom (such as a high-degree pol‐\n",
    "ynomial model) is likely to have high variance, and thus to overfit the training\n",
    "data.\n",
    "#### Irreducible error\n",
    "This part is due to the noisiness of the data itself. The only way to reduce this\n",
    "part of the error is to clean up the data (e.g., fix the data sources, such as broken\n",
    "sensors, or detect and remove outliers).<br>\n",
    "Increasing a model’s complexity will typically increase its variance and reduce its bias.\n",
    "Conversely, reducing a model’s complexity increases its bias and reduces its variance.\n",
    "This is why it is called a tradeoff."
   ]
  },
  {
   "cell_type": "markdown",
   "metadata": {},
   "source": [
    "## Regularization"
   ]
  },
  {
   "cell_type": "markdown",
   "metadata": {},
   "source": [
    "*Ridge Regression* (also called *Tikhonov regularization*) is a regularized version of Lin‐\n",
    "ear Regression: a regularization term equal to $\\alpha\\sum_{i=1}^n\\theta_i^2$ is added to the cost function. The cost function becomes:\n",
    "$$J(\\theta) = \\text{MSE}(\\theta) + \\alpha\\sum_{i=1}^n\\theta_i^2$$\n",
    "$$J(\\theta) = \\frac{1}{2m}\\sum_{i=1}^m(h_\\theta(x^{(i)})-y^{(i)})^2 + \\alpha\\sum_{i=1}^n\\theta_i^2$$\n",
    "Note that the bias term $\\theta_0$ is not regularized."
   ]
  },
  {
   "cell_type": "markdown",
   "metadata": {},
   "source": [
    ">It is important to scale the data (e.g., using a `StandardScaler`)\n",
    "before performing Ridge Regression, as it is sensitive to the scale of\n",
    "the input features. This is true of most regularized models."
   ]
  },
  {
   "cell_type": "markdown",
   "metadata": {},
   "source": [
    "<img src=\"img/04_01.png\">"
   ]
  },
  {
   "cell_type": "markdown",
   "metadata": {},
   "source": [
    "Using skikit-learn’s `Ridge` class, we can fit a model with a regularization"
   ]
  },
  {
   "cell_type": "code",
   "execution_count": 32,
   "metadata": {},
   "outputs": [
    {
     "data": {
      "text/plain": [
       "array([[4.76553958]])"
      ]
     },
     "execution_count": 32,
     "metadata": {},
     "output_type": "execute_result"
    }
   ],
   "source": [
    "from sklearn.linear_model import Ridge\n",
    "ridge_reg = Ridge(alpha=1, solver=\"cholesky\")\n",
    "ridge_reg.fit(poly_X, y)\n",
    "ridge_reg.predict(poly.transform([[1.5]]).reshape(1, -1))"
   ]
  },
  {
   "cell_type": "markdown",
   "metadata": {},
   "source": [
    "Using `SGD`"
   ]
  },
  {
   "cell_type": "code",
   "execution_count": 36,
   "metadata": {},
   "outputs": [
    {
     "data": {
      "text/plain": [
       "array([-3.95935421e+14])"
      ]
     },
     "execution_count": 36,
     "metadata": {},
     "output_type": "execute_result"
    }
   ],
   "source": [
    "from sklearn.linear_model import SGDRegressor\n",
    "sgd_reg = SGDRegressor(penalty=\"l2\")\n",
    "sgd_reg.fit(poly_X, y.ravel())\n",
    "sgd_reg.predict(poly.transform([[1.5]]).reshape(1, -1))"
   ]
  },
  {
   "cell_type": "markdown",
   "metadata": {},
   "source": [
    "The `penalty` hyperparameter sets the type of regularization term to use. Specifying\n",
    "\"l2\" indicates that you want SGD to add a regularization term to the cost function\n",
    "equal to half the square of the $ℓ_2$ norm of the weight vector: this is simply Ridge\n",
    "Regression."
   ]
  },
  {
   "cell_type": "markdown",
   "metadata": {},
   "source": [
    "## Lasso Regression\n",
    "*Least Absolute Shrinkage and Selection Operator Regression* (simply called Lasso\n",
    "Regression) is another regularized version of Linear Regression: just like Ridge\n",
    "Regression, it adds a regularization term to the cost function, but it uses the $ℓ_1$ norm\n",
    "of the weight vector instead of half the square of the $ℓ_2$ norm.\n",
    "$$ J(\\theta) = \\text{MSE}(\\theta) + \\alpha\\sum_{i=1}^n|{\\theta_i}|$$"
   ]
  },
  {
   "cell_type": "markdown",
   "metadata": {},
   "source": [
    "<img src=\"img/04_02.png\">"
   ]
  },
  {
   "cell_type": "markdown",
   "metadata": {},
   "source": [
    ">An important characteristic of Lasso Regression is that it tends to completely elimi‐\n",
    "nate the weights of the least important features (i.e., set them to zero). In\n",
    "other words, Lasso Regression automatically performs feature selection and outputs a\n",
    "sparse model (i.e., with few nonzero feature weights)."
   ]
  },
  {
   "cell_type": "code",
   "execution_count": 40,
   "metadata": {},
   "outputs": [
    {
     "data": {
      "text/plain": [
       "array([4.02321])"
      ]
     },
     "execution_count": 40,
     "metadata": {},
     "output_type": "execute_result"
    }
   ],
   "source": [
    "from sklearn.linear_model import Lasso\n",
    "lasso_reg = Lasso(alpha=0.1, max_iter=100000)\n",
    "lasso_reg.fit(poly_X, y)\n",
    "lasso_reg.predict(poly.transform([[1.5]]).reshape(1, -1))"
   ]
  },
  {
   "cell_type": "code",
   "execution_count": 41,
   "metadata": {},
   "outputs": [
    {
     "data": {
      "text/plain": [
       "array([ 7.03013509e-01,  0.00000000e+00,  0.00000000e+00,  2.10172118e-01,\n",
       "       -0.00000000e+00,  0.00000000e+00,  6.27645885e-03, -7.82592460e-03,\n",
       "       -6.94424042e-04,  6.78291259e-04])"
      ]
     },
     "execution_count": 41,
     "metadata": {},
     "output_type": "execute_result"
    }
   ],
   "source": [
    "lasso_reg.coef_"
   ]
  },
  {
   "cell_type": "markdown",
   "metadata": {},
   "source": [
    "## Elastic Net\n",
    "Elastic Net is a middle ground between Ridge Regression and Lasso Regression. The\n",
    "regularization term is a simple mix of both Ridge and Lasso’s regularization terms,\n",
    "and you can control the mix ratio r. When r = 0, Elastic Net is equivalent to Ridge\n",
    "Regression, and when r = 1, it is equivalent to Lasso Regression.\n",
    "$$ J(\\theta) = \\text{MSE}(\\theta) + r\\alpha\\sum_{i=1}^n|{\\theta_i}| + \\frac{1-r}{2}\\sum_{i=1}^n\\theta_i^2$$"
   ]
  },
  {
   "cell_type": "code",
   "execution_count": 45,
   "metadata": {},
   "outputs": [
    {
     "data": {
      "text/plain": [
       "array([4.13396729])"
      ]
     },
     "execution_count": 45,
     "metadata": {},
     "output_type": "execute_result"
    }
   ],
   "source": [
    "from sklearn.linear_model import ElasticNet\n",
    "elastic_net = ElasticNet(alpha=0.1, l1_ratio=0.5, max_iter=100000)\n",
    "elastic_net.fit(poly_X, y)\n",
    "elastic_net.predict(poly.transform([[1.5]]).reshape(1, -1))"
   ]
  },
  {
   "cell_type": "code",
   "execution_count": 43,
   "metadata": {},
   "outputs": [
    {
     "data": {
      "text/plain": [
       "array([ 8.01497018e-01,  1.36311075e-01,  0.00000000e+00,  1.73051926e-01,\n",
       "       -2.50862117e-02, -0.00000000e+00,  1.22749147e-02, -7.04861257e-03,\n",
       "       -1.07202870e-03,  6.22254278e-04])"
      ]
     },
     "execution_count": 43,
     "metadata": {},
     "output_type": "execute_result"
    }
   ],
   "source": [
    "elastic_net.coef_"
   ]
  },
  {
   "cell_type": "markdown",
   "metadata": {},
   "source": [
    "## Early Stopping\n",
    "A very different way to regularize iterative learning algorithms such as Gradient\n",
    "Descent is to stop training as soon as the validation error reaches a minimum. This is\n",
    "called early stopping."
   ]
  },
  {
   "cell_type": "code",
   "execution_count": 50,
   "metadata": {},
   "outputs": [],
   "source": [
    "X_train = X[:80]\n",
    "X_val = X[80:]\n",
    "y_train = y[:80]\n",
    "y_val = y[80:]"
   ]
  },
  {
   "cell_type": "code",
   "execution_count": null,
   "metadata": {},
   "outputs": [],
   "source": []
  },
  {
   "cell_type": "markdown",
   "metadata": {},
   "source": [
    "# Logistic Regression"
   ]
  },
  {
   "cell_type": "markdown",
   "metadata": {},
   "source": [
    "## Estimating Probabilities\n",
    "Just like a Linear Regression model, a Logistic Regression\n",
    "model computes a weighted sum of the input features (plus a bias term), but instead\n",
    "of outputting the result directly like the Linear Regression model does, it outputs the\n",
    "logistic of this result.\n",
    "### Logistic Function\n",
    "$$h_\\theta(x) = \\frac{1}{1+e^{-\\theta^T x}}$$"
   ]
  },
  {
   "cell_type": "markdown",
   "metadata": {},
   "source": []
  },
  {
   "cell_type": "code",
   "execution_count": 55,
   "metadata": {},
   "outputs": [
    {
     "data": {
      "text/plain": [
       "Text(0.5, 1.0, 'Logistic Function')"
      ]
     },
     "execution_count": 55,
     "metadata": {},
     "output_type": "execute_result"
    },
    {
     "data": {
      "image/png": "[encoded data removed]",
      "text/plain": [
       "<Figure size 792x360 with 1 Axes>"
      ]
     },
     "metadata": {
      "needs_background": "light"
     },
     "output_type": "display_data"
    }
   ],
   "source": [
    "plt.figure(figsize=(11, 5))\n",
    "x = np.linspace(-10, 10, 100)\n",
    "y = lambda x: 1/(1 + np.exp(-x))\n",
    "plt.plot(x, y(x), \"b-\", linewidth=2)\n",
    "plt.title(\"Logistic Function\", fontsize=14)"
   ]
  },
  {
   "cell_type": "markdown",
   "metadata": {},
   "source": [
    "### Cost Function\n",
    "The cost function for Logistic Regression is:\n",
    "$$J(\\theta) = -\\frac{1}{m}\\sum_{i=1}^m\\left[y^{(i)} \\log(h_\\theta(x^{(i)})) +(1-y^{(i)})\\log(1-h_\\theta(x^{(i)}))\\right]$$\n",
    "The partial derivative of the cost function for Logistic Regression is:\n",
    "$$\\frac{\\partial J(\\theta)}{\\partial \\theta} = \\frac{1}{m}\\sum_{i=1}^m\\left[h_\\theta(x^{(i)}) - y^{(i)}\\right]x_i$$"
   ]
  },
  {
   "cell_type": "markdown",
   "metadata": {},
   "source": [
    "## Softmax Regression"
   ]
  },
  {
   "cell_type": "markdown",
   "metadata": {},
   "source": [
    "The Logistic Regression model can be generalized to support multiple classes directly,\n",
    "without having to train and combine multiple binary classifiers. This is called Softmax Regression, or Multinomial Logistic Regression.<br>\n",
    "The idea is quite simple: when given an instance x, the Softmax Regression model\n",
    "first computes a score $s_k(x)$ for each class k, then estimates the probability of each\n",
    "class by applying the softmax function."
   ]
  },
  {
   "cell_type": "markdown",
   "metadata": {},
   "source": [
    "### Softmax Function\n",
    "$$\\text{softmax}(x) = \\frac{\\exp(x_1)}{\\sum_{k=1}^K\\exp(x_k)}$$\n",
    "The prediction function for Softmax Regression is:\n",
    "$$\\hat{y} = \\text{argmax}_k\\left(\\text{softmax}(x^T\\theta)\\right)$$\n",
    "That is, the model predicts the class with the highest score."
   ]
  },
  {
   "cell_type": "markdown",
   "metadata": {},
   "source": [
    "### Cross Entropy Cost Function\n",
    "The cost function for Softmax Regression is:\n",
    "$$J(\\theta) = -\\frac{1}{m}\\sum_{i=1}^m\\sum_{k=1}^Ky^{(i)}_k\\log\\left(\\log{\\hat{p^{(i)}_k}}\\right)$$\n",
    "Where $\\hat{p}^{(i)}_k$ is the estimated probability of class k for instance i."
   ]
  },
  {
   "cell_type": "markdown",
   "metadata": {},
   "source": [
    "The gradient function for cross entropy is:\n",
    "$$\\frac{\\partial J(\\theta)}{\\partial \\theta} = \\frac{1}{m}\\sum_{i=1}^m\\sum_{k=1}^Ky^{(i)}_k\\left[\\log\\left(\\log{\\hat{p^{(i)}_k}}\\right)\\right]x_i$$"
   ]
  },
  {
   "cell_type": "markdown",
   "metadata": {},
   "source": []
  },
  {
   "cell_type": "code",
   "execution_count": null,
   "metadata": {},
   "outputs": [],
   "source": []
  }
 ],
 "metadata": {
  "interpreter": {
   "hash": "ce44b17c45080b8f56a19c9450d52461d624c968fcd959bb1916985c5ffa2b94"
  },
  "kernelspec": {
   "display_name": "Python 3.8.5 64-bit ('base': conda)",
   "language": "python",
   "name": "python3"
  },
  "language_info": {
   "codemirror_mode": {
    "name": "ipython",
    "version": 3
   },
   "file_extension": ".py",
   "mimetype": "text/x-python",
   "name": "python",
   "nbconvert_exporter": "python",
   "pygments_lexer": "ipython3",
   "version": "3.8.5"
  },
  "orig_nbformat": 4
 },
 "nbformat": 4,
 "nbformat_minor": 2
}
