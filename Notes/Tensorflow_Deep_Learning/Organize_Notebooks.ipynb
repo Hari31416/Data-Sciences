{
 "cells": [
  {
   "cell_type": "markdown",
   "metadata": {},
   "source": [
    "<table class=\"tfo-notebook-buttons\" align=\"left\">\n",
    "<td style=\"border: none;\">\n",
    "<a target=\"blank\" href=\"https://colab.research.google.com/github/Hari31416/Data-Sciences/blob/main/Notes/DLS/Oragnize_Notebooks.ipynb?hl=en\"><img src=\"https://colab.research.google.com/img/colab_favicon_256px.png\" width=\"28\" height=\"28\"/>Run on Google Colab</a></td>\n",
    "<td style=\"border: none;\">\n",
    "<a target=\"blank\" href=\"https://github.com/Hari31416/Data-Sciences/blob/main/Notes/DLS/Oragnize_Notebooks.ipynb\"><img src=\"https://cdn.icon-icons.com/icons2/2368/PNG/512/github_logo_icon_143772.png\" width=\"28\" height=\"28\"/>View on Github</a></td>\n",
    "</table>"
   ]
  },
  {
   "cell_type": "markdown",
   "metadata": {},
   "source": [
    "### Removing whitespace"
   ]
  },
  {
   "cell_type": "code",
   "execution_count": 1,
   "metadata": {},
   "outputs": [],
   "source": [
    "from life_saving_tools import Files\n",
    "import os\n",
    "f = Files.FileOrganizer(os.curdir)"
   ]
  },
  {
   "cell_type": "markdown",
   "metadata": {},
   "source": [
    "### Adding Github and Colab links to the files"
   ]
  },
  {
   "cell_type": "code",
   "execution_count": 13,
   "metadata": {},
   "outputs": [],
   "source": [
    "import pyperclip\n",
    "file_path = pyperclip.paste()\n",
    "file_path = file_path.replace(\"\\\\\", \"/\")\n",
    "\n",
    "text = f\"\"\"<table class='tfo-notebook-buttons' align='left'>\n",
    "<td style='border: none;'>\n",
    "<a target='blank' href='https://colab.research.google.com/github/Hari31416/Data-Sciences/blob/main/{file_path}?hl=en'><img src='https://colab.research.google.com/img/colab_favicon_256px.png' width='28' height='28'/>Run on Google Colab</a></td>\n",
    "<td style='border: none;'>\n",
    "<a target='blank' href='https://github.com/Hari31416/blob/main/{file_path}'><img src='https://cdn.icon-icons.com/icons2/2368/PNG/512/github_logo_icon_143772.png' width='28' height='28'/>View on Github</a></td>\n",
    "</table>\"\"\"\n",
    "\n",
    "pyperclip.copy(text)"
   ]
  },
  {
   "cell_type": "markdown",
   "metadata": {},
   "source": [
    "### Converting the notes to HTML"
   ]
  },
  {
   "cell_type": "code",
   "execution_count": 1,
   "metadata": {},
   "outputs": [],
   "source": [
    "from life_saving_tools.files.notebook import Notebook\n",
    "import os\n",
    "nb = Notebook(os.curdir)"
   ]
  },
  {
   "cell_type": "code",
   "execution_count": 2,
   "metadata": {},
   "outputs": [],
   "source": [
    "files = [file for file in os.listdir(os.curdir) if file.endswith(\"ipynb\")]"
   ]
  },
  {
   "cell_type": "code",
   "execution_count": 3,
   "metadata": {},
   "outputs": [
    {
     "data": {
      "text/plain": [
       "['00_tensorflow_fundamentals.ipynb',\n",
       " '01_neural_network_regression_in_tensorflow.ipynb',\n",
       " '02_neural_network_classification_in_tensorflow.ipynb',\n",
       " '03_convolutional_neural_networks_in_tensorflow.ipynb',\n",
       " '04_transfer_learning_in_tensorflow_part_1_feature_extraction.ipynb',\n",
       " '05_transfer_learning_in_tensorflow_part_2_fine_tuning.ipynb',\n",
       " '06_transfer_learning_in_tensorflow_part_3_scaling_up.ipynb',\n",
       " '07_food_vision_milestone_project_1.ipynb',\n",
       " '08_introduction_to_nlp_in_tensorflow.ipynb',\n",
       " '09_SkimLit_nlp_milestone_project_2.ipynb',\n",
       " '10_time_series_forecasting_in_tensorflow.ipynb',\n",
       " 'Organize_Notebooks.ipynb']"
      ]
     },
     "execution_count": 3,
     "metadata": {},
     "output_type": "execute_result"
    }
   ],
   "source": [
    "files"
   ]
  },
  {
   "cell_type": "code",
   "execution_count": 14,
   "metadata": {},
   "outputs": [
    {
     "name": "stdout",
     "output_type": "stream",
     "text": [
      "Converting the Notebook to HTML.\n",
      "Looking for the Headers and their positions.\n",
      "Getting correct order of the Headers.\n",
      "Creating the Contents.\n",
      "Content copied to clipboard.\n"
     ]
    }
   ],
   "source": [
    "nb.create_content(files[10])"
   ]
  },
  {
   "cell_type": "code",
   "execution_count": 15,
   "metadata": {},
   "outputs": [
    {
     "name": "stderr",
     "output_type": "stream",
     "text": [
      "Exporting notebooks...: 100%|██████████| 12/12 [00:15<00:00,  1.31s/it]\n"
     ]
    }
   ],
   "source": [
    "outputs = nb.export_directory()"
   ]
  },
  {
   "cell_type": "code",
   "execution_count": 16,
   "metadata": {},
   "outputs": [
    {
     "data": {
      "text/plain": [
       "['.\\\\00_tensorflow_fundamentals.html',\n",
       " '.\\\\01_neural_network_regression_in_tensorflow.html',\n",
       " '.\\\\02_neural_network_classification_in_tensorflow.html',\n",
       " '.\\\\03_convolutional_neural_networks_in_tensorflow.html',\n",
       " '.\\\\04_transfer_learning_in_tensorflow_part_1_feature_extraction.html',\n",
       " '.\\\\05_transfer_learning_in_tensorflow_part_2_fine_tuning.html',\n",
       " '.\\\\06_transfer_learning_in_tensorflow_part_3_scaling_up.html',\n",
       " '.\\\\07_food_vision_milestone_project_1.html',\n",
       " '.\\\\08_introduction_to_nlp_in_tensorflow.html',\n",
       " '.\\\\09_SkimLit_nlp_milestone_project_2.html',\n",
       " '.\\\\10_time_series_forecasting_in_tensorflow.html',\n",
       " '.\\\\Organize_Notebooks.html']"
      ]
     },
     "execution_count": 16,
     "metadata": {},
     "output_type": "execute_result"
    }
   ],
   "source": [
    "outputs"
   ]
  },
  {
   "cell_type": "markdown",
   "metadata": {},
   "source": [
    "### Adding them to index.html"
   ]
  },
  {
   "cell_type": "code",
   "execution_count": 17,
   "metadata": {},
   "outputs": [
    {
     "data": {
      "text/plain": [
       "'.\\\\00_tensorflow_fundamentals.html'"
      ]
     },
     "execution_count": 17,
     "metadata": {},
     "output_type": "execute_result"
    }
   ],
   "source": [
    "outputs[0]"
   ]
  },
  {
   "cell_type": "markdown",
   "metadata": {},
   "source": [
    "<li>\n",
    "<a href=\"Notes\\Tensorflow_Deep_Learning\\00_tensorflow_fundamentals.html\" target=\"blank\"\n",
    "    class=\"links\">Tensorflow Fundamentals</a>\n",
    "</li>"
   ]
  },
  {
   "cell_type": "code",
   "execution_count": 38,
   "metadata": {},
   "outputs": [
    {
     "name": "stdout",
     "output_type": "stream",
     "text": [
      "<li>\n",
      "<a href='Notes\\Tensorflow_Deep_Learning\\00_tensorflow_fundamentals.html' target='blank' class='links'>Tensorflow Fundamentals</a>\n",
      "</li>\n",
      "    <li>\n",
      "<a href='Notes\\Tensorflow_Deep_Learning\\01_neural_network_regression_in_tensorflow.html' target='blank' class='links'>Neural Network Regression In Tensorflow</a>\n",
      "</li>\n",
      "    <li>\n",
      "<a href='Notes\\Tensorflow_Deep_Learning\\02_neural_network_classification_in_tensorflow.html' target='blank' class='links'>Neural Network Classification In Tensorflow</a>\n",
      "</li>\n",
      "    <li>\n",
      "<a href='Notes\\Tensorflow_Deep_Learning\\03_convolutional_neural_networks_in_tensorflow.html' target='blank' class='links'>Convolutional Neural Networks In Tensorflow</a>\n",
      "</li>\n",
      "    <li>\n",
      "<a href='Notes\\Tensorflow_Deep_Learning\\04_transfer_learning_in_tensorflow_part_1_feature_extraction.html' target='blank' class='links'>Transfer Learning In Tensorflow Part 1 Feature Extraction</a>\n",
      "</li>\n",
      "    <li>\n",
      "<a href='Notes\\Tensorflow_Deep_Learning\\05_transfer_learning_in_tensorflow_part_2_fine_tuning.html' target='blank' class='links'>Transfer Learning In Tensorflow Part 2 Fine Tuning</a>\n",
      "</li>\n",
      "    <li>\n",
      "<a href='Notes\\Tensorflow_Deep_Learning\\06_transfer_learning_in_tensorflow_part_3_scaling_up.html' target='blank' class='links'>Transfer Learning In Tensorflow Part 3 Scaling Up</a>\n",
      "</li>\n",
      "    <li>\n",
      "<a href='Notes\\Tensorflow_Deep_Learning\\07_food_vision_milestone_project_1.html' target='blank' class='links'>Food Vision Milestone Project 1</a>\n",
      "</li>\n",
      "    <li>\n",
      "<a href='Notes\\Tensorflow_Deep_Learning\\08_introduction_to_nlp_in_tensorflow.html' target='blank' class='links'>Introduction To Nlp In Tensorflow</a>\n",
      "</li>\n",
      "    <li>\n",
      "<a href='Notes\\Tensorflow_Deep_Learning\\09_SkimLit_nlp_milestone_project_2.html' target='blank' class='links'>Skimlit Nlp Milestone Project 2</a>\n",
      "</li>\n",
      "    <li>\n",
      "<a href='Notes\\Tensorflow_Deep_Learning\\10_time_series_forecasting_in_tensorflow.html' target='blank' class='links'>Time Series Forecasting In Tensorflow</a>\n",
      "</li>\n",
      "    <li>\n",
      "<a href='Notes\\Tensorflow_Deep_Learning\\Organize_Notebooks.html' target='blank' class='links'>Anize Notebooks</a>\n",
      "</li>\n",
      "    \n"
     ]
    }
   ],
   "source": [
    "string = \"\"\n",
    "for output in outputs:\n",
    "    title = output[3:-5]\n",
    "    title = title.replace(\"_\", \" \").title()\n",
    "    text = f\"\"\"<li>\n",
    "<a href='Notes\\Tensorflow_Deep_Learning\\{output}' target='blank' class='links'>{title}</a>\n",
    "</li>\n",
    "    \"\"\" \n",
    "    string += text\n",
    "\n",
    "print(string)"
   ]
  }
 ],
 "metadata": {
  "kernelspec": {
   "display_name": "Python 3.8.5",
   "language": "python",
   "name": "python3"
  },
  "language_info": {
   "codemirror_mode": {
    "name": "ipython",
    "version": 3
   },
   "file_extension": ".py",
   "mimetype": "text/x-python",
   "name": "python",
   "nbconvert_exporter": "python",
   "pygments_lexer": "ipython3",
   "version": "3.8.5"
  },
  "orig_nbformat": 4,
  "vscode": {
   "interpreter": {
    "hash": "21040c1b576dca9f4f330277849b9f4819256d524dee23c2b89e431027dafe11"
   }
  }
 },
 "nbformat": 4,
 "nbformat_minor": 2
}
