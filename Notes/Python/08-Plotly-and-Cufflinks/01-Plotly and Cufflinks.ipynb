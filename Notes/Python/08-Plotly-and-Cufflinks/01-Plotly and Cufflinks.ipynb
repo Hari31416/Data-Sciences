{
 "cells": [
  {
   "cell_type": "markdown",
   "metadata": {},
   "source": [
    "# Plotly and Cufflinks"
   ]
  },
  {
   "cell_type": "markdown",
   "metadata": {},
   "source": [
    "Plotly is a library that allows you to create interactive plots that you can use in dashboards or websites (you can save them as html files or static images).\n",
    "\n",
    "## Installation\n",
    "\n",
    "In order for this all to work, you'll need to install plotly and cufflinks to call plots directly off of a pandas dataframe. These libraries are not currently available through **conda** but are available through **pip**. Install the libraries at your command line/terminal using:\n",
    "\n",
    "    pip install plotly\n",
    "    pip install cufflinks\n",
    "\n",
    "** NOTE: Make sure you only have one installation of Python on your computer when you do this, otherwise the installation may not work. **\n",
    "\n",
    "## Imports and Set-up"
   ]
  },
  {
   "cell_type": "code",
   "execution_count": 1,
   "metadata": {},
   "outputs": [],
   "source": [
    "import pandas as pd\n",
    "import numpy as np\n",
    "%matplotlib inline"
   ]
  },
  {
   "cell_type": "code",
   "execution_count": 2,
   "metadata": {},
   "outputs": [
    {
     "name": "stdout",
     "output_type": "stream",
     "text": [
      "4.14.3\n"
     ]
    }
   ],
   "source": [
    "from plotly import __version__\n",
    "from plotly.offline import download_plotlyjs, init_notebook_mode, plot, iplot\n",
    "\n",
    "print(__version__)"
   ]
  },
  {
   "cell_type": "code",
   "execution_count": 3,
   "metadata": {},
   "outputs": [],
   "source": [
    "import cufflinks as cf"
   ]
  },
  {
   "cell_type": "code",
   "execution_count": 4,
   "metadata": {},
   "outputs": [
    {
     "data": {
      "text/html": [
       "        <script type=\"text/javascript\">\n",
       "        window.PlotlyConfig = {MathJaxConfig: 'local'};\n",
       "        if (window.MathJax) {MathJax.Hub.Config({SVG: {font: \"STIX-Web\"}});}\n",
       "        if (typeof require !== 'undefined') {\n",
       "        require.undef(\"plotly\");\n",
       "        requirejs.config({\n",
       "            paths: {\n",
       "                'plotly': ['https://cdn.plot.ly/plotly-latest.min']\n",
       "            }\n",
       "        });\n",
       "        require(['plotly'], function(Plotly) {\n",
       "            window._Plotly = Plotly;\n",
       "        });\n",
       "        }\n",
       "        </script>\n",
       "        "
      ]
     },
     "metadata": {},
     "output_type": "display_data"
    }
   ],
   "source": [
    "# For Notebooks\n",
    "init_notebook_mode(connected=True)"
   ]
  },
  {
   "cell_type": "code",
   "execution_count": 5,
   "metadata": {},
   "outputs": [
    {
     "data": {
      "text/html": [
       "        <script type=\"text/javascript\">\n",
       "        window.PlotlyConfig = {MathJaxConfig: 'local'};\n",
       "        if (window.MathJax) {MathJax.Hub.Config({SVG: {font: \"STIX-Web\"}});}\n",
       "        if (typeof require !== 'undefined') {\n",
       "        require.undef(\"plotly\");\n",
       "        requirejs.config({\n",
       "            paths: {\n",
       "                'plotly': ['https://cdn.plot.ly/plotly-latest.min']\n",
       "            }\n",
       "        });\n",
       "        require(['plotly'], function(Plotly) {\n",
       "            window._Plotly = Plotly;\n",
       "        });\n",
       "        }\n",
       "        </script>\n",
       "        "
      ]
     },
     "metadata": {},
     "output_type": "display_data"
    }
   ],
   "source": [
    "# For offline use\n",
    "cf.go_offline()"
   ]
  },
  {
   "cell_type": "markdown",
   "metadata": {},
   "source": [
    "### Fake Data"
   ]
  },
  {
   "cell_type": "code",
   "execution_count": 6,
   "metadata": {},
   "outputs": [],
   "source": [
    "df = pd.DataFrame(np.random.randn(100,4),columns='A B C D'.split())"
   ]
  },
  {
   "cell_type": "code",
   "execution_count": 7,
   "metadata": {},
   "outputs": [
    {
     "data": {
      "text/html": [
       "<div>\n",
       "<style scoped>\n",
       "    .dataframe tbody tr th:only-of-type {\n",
       "        vertical-align: middle;\n",
       "    }\n",
       "\n",
       "    .dataframe tbody tr th {\n",
       "        vertical-align: top;\n",
       "    }\n",
       "\n",
       "    .dataframe thead th {\n",
       "        text-align: right;\n",
       "    }\n",
       "</style>\n",
       "<table border=\"1\" class=\"dataframe\">\n",
       "  <thead>\n",
       "    <tr style=\"text-align: right;\">\n",
       "      <th></th>\n",
       "      <th>A</th>\n",
       "      <th>B</th>\n",
       "      <th>C</th>\n",
       "      <th>D</th>\n",
       "    </tr>\n",
       "  </thead>\n",
       "  <tbody>\n",
       "    <tr>\n",
       "      <th>0</th>\n",
       "      <td>-0.392491</td>\n",
       "      <td>0.104801</td>\n",
       "      <td>1.262554</td>\n",
       "      <td>-1.535863</td>\n",
       "    </tr>\n",
       "    <tr>\n",
       "      <th>1</th>\n",
       "      <td>-1.388880</td>\n",
       "      <td>-2.244842</td>\n",
       "      <td>-1.131256</td>\n",
       "      <td>0.065483</td>\n",
       "    </tr>\n",
       "    <tr>\n",
       "      <th>2</th>\n",
       "      <td>0.932019</td>\n",
       "      <td>-0.103858</td>\n",
       "      <td>-1.178164</td>\n",
       "      <td>-0.807994</td>\n",
       "    </tr>\n",
       "    <tr>\n",
       "      <th>3</th>\n",
       "      <td>0.694354</td>\n",
       "      <td>0.075873</td>\n",
       "      <td>-0.040050</td>\n",
       "      <td>-0.644055</td>\n",
       "    </tr>\n",
       "    <tr>\n",
       "      <th>4</th>\n",
       "      <td>0.734426</td>\n",
       "      <td>0.825308</td>\n",
       "      <td>0.377528</td>\n",
       "      <td>-0.040769</td>\n",
       "    </tr>\n",
       "  </tbody>\n",
       "</table>\n",
       "</div>"
      ],
      "text/plain": [
       "          A         B         C         D\n",
       "0 -0.392491  0.104801  1.262554 -1.535863\n",
       "1 -1.388880 -2.244842 -1.131256  0.065483\n",
       "2  0.932019 -0.103858 -1.178164 -0.807994\n",
       "3  0.694354  0.075873 -0.040050 -0.644055\n",
       "4  0.734426  0.825308  0.377528 -0.040769"
      ]
     },
     "execution_count": 7,
     "metadata": {},
     "output_type": "execute_result"
    }
   ],
   "source": [
    "df.head()"
   ]
  },
  {
   "cell_type": "code",
   "execution_count": 8,
   "metadata": {},
   "outputs": [],
   "source": [
    "df2 = pd.DataFrame({'Category':['A','B','C'],'Values':[32,43,50]})"
   ]
  },
  {
   "cell_type": "code",
   "execution_count": 9,
   "metadata": {},
   "outputs": [
    {
     "data": {
      "text/html": [
       "<div>\n",
       "<style scoped>\n",
       "    .dataframe tbody tr th:only-of-type {\n",
       "        vertical-align: middle;\n",
       "    }\n",
       "\n",
       "    .dataframe tbody tr th {\n",
       "        vertical-align: top;\n",
       "    }\n",
       "\n",
       "    .dataframe thead th {\n",
       "        text-align: right;\n",
       "    }\n",
       "</style>\n",
       "<table border=\"1\" class=\"dataframe\">\n",
       "  <thead>\n",
       "    <tr style=\"text-align: right;\">\n",
       "      <th></th>\n",
       "      <th>Category</th>\n",
       "      <th>Values</th>\n",
       "    </tr>\n",
       "  </thead>\n",
       "  <tbody>\n",
       "    <tr>\n",
       "      <th>0</th>\n",
       "      <td>A</td>\n",
       "      <td>32</td>\n",
       "    </tr>\n",
       "    <tr>\n",
       "      <th>1</th>\n",
       "      <td>B</td>\n",
       "      <td>43</td>\n",
       "    </tr>\n",
       "    <tr>\n",
       "      <th>2</th>\n",
       "      <td>C</td>\n",
       "      <td>50</td>\n",
       "    </tr>\n",
       "  </tbody>\n",
       "</table>\n",
       "</div>"
      ],
      "text/plain": [
       "  Category  Values\n",
       "0        A      32\n",
       "1        B      43\n",
       "2        C      50"
      ]
     },
     "execution_count": 9,
     "metadata": {},
     "output_type": "execute_result"
    }
   ],
   "source": [
    "df2.head()"
   ]
  },
  {
   "cell_type": "markdown",
   "metadata": {},
   "source": [
    "## Using Cufflinks and iplot()\n",
    "\n",
    "* scatter\n",
    "* bar\n",
    "* box\n",
    "* spread\n",
    "* ratio\n",
    "* heatmap\n",
    "* surface\n",
    "* histogram\n",
    "* bubble"
   ]
  },
  {
   "cell_type": "markdown",
   "metadata": {},
   "source": [
    "## Scatter"
   ]
  },
  {
   "cell_type": "code",
   "execution_count": 15,
   "metadata": {},
   "outputs": [
    {
     "data": {
      "application/vnd.plotly.v1+json": {
       "config": {
        "linkText": "Export to plot.ly",
        "plotlyServerURL": "https://plot.ly",
        "showLink": true
       },
       "data": [
        {
         "line": {
          "color": "rgba(255, 153, 51, 1.0)",
          "dash": "solid",
          "shape": "linear",
          "width": 1.3
         },
         "marker": {
          "size": 10,
          "symbol": "circle"
         },
         "mode": "markers",
         "name": "B",
         "text": "",
         "type": "scatter",
         "x": [
          -0.39249119533846083,
          -1.3888802447524282,
          0.9320187198753848,
          0.694353564039704,
          0.7344257361752629,
          -1.2230733342365738,
          -0.8244809005601621,
          0.7162297255286217,
          0.2165294575147262,
          -0.2408870384182345,
          1.1114063553829503,
          0.11623195119570866,
          0.11865011429650428,
          0.6419190655473598,
          0.5924914375347973,
          -1.5309904914242096,
          -1.0144836912833508,
          0.17787108284173206,
          1.1945581244349286,
          1.2415482353883005,
          -0.4112001758408989,
          1.7949556218804894,
          0.9533968117682318,
          -0.05388169104593645,
          0.24708490471611128,
          0.25877047914625495,
          0.48537772746154373,
          -0.6316121968562575,
          0.06979028490490342,
          0.19179517799331644,
          -1.6389060193460128,
          0.9568316005620361,
          0.26717277970941045,
          -0.3026993847893387,
          1.1358386331024715,
          0.10544743176293345,
          -0.3299778399054059,
          0.27100520046695425,
          0.06640897537997871,
          1.2022134310294064,
          -0.8275038600805332,
          -1.8297538154580024,
          0.6949224280793794,
          -0.5453678996930036,
          1.0511010453471554,
          0.5928559996789496,
          -0.06112588854125373,
          -0.33259830544963653,
          -0.9095544388303258,
          -0.06519574555535969,
          -0.7396712807137552,
          -0.7972607228576862,
          0.8992819989759496,
          -0.48843079131869044,
          0.6247337472023909,
          -0.04368661259913243,
          1.0707374155366922,
          -1.2750425970263084,
          -2.1286830059622077,
          -0.16041042808617528,
          0.8995574231400747,
          -1.1093579889045484,
          0.24647782191751233,
          0.1622166523400865,
          -1.9262665166541684,
          -0.11425757020942486,
          1.6970107669806103,
          -0.5660708839996262,
          -0.5255668865650605,
          -0.013986122764662883,
          -0.7297632456108951,
          1.4244002945727672,
          -1.77433674788825,
          -0.5638562033370994,
          -0.5015545170673178,
          -1.5485746003489604,
          -0.42447048714593744,
          0.5227658730223655,
          -1.5510798620613335,
          -0.4326482754580784,
          -0.19418294085652998,
          2.320301562215529,
          0.6421355412935974,
          1.0132407626820426,
          0.8751950847102844,
          0.06786618667413867,
          -1.1957715770422013,
          -0.8756342227097039,
          0.8339918704633829,
          -0.9198970809358937,
          -1.3972272495036677,
          1.023120644082157,
          -1.457450824800944,
          -0.16951331764207347,
          -1.129058458402131,
          2.127667416680669,
          -0.8176154890128692,
          1.2109557386846754,
          -0.30743944371779625,
          0.16609731130823885
         ],
         "y": [
          0.10480144276968774,
          -2.2448421163275762,
          -0.10385752502981002,
          0.07587343198180303,
          0.8253080764609732,
          -0.46590149353816884,
          1.720000398792707,
          0.04699268025148138,
          0.6888697082875861,
          -1.5391049448586651,
          1.531707361237052,
          -0.09993967946466119,
          -1.254504242294646,
          -1.2205349028615027,
          1.0727852640083417,
          2.567033067274972,
          -0.6521242358147255,
          1.18401797836042,
          0.5975387129010653,
          1.1964442867936949,
          2.160759870882936,
          -0.08331842428728174,
          -1.5832430789407055,
          -0.47278583853194756,
          -0.8189897202884268,
          0.5523291035570072,
          0.6360732149381493,
          0.6078394093485547,
          -1.524513836860753,
          0.019809751507857323,
          0.36345148832240715,
          0.5229061031796399,
          -1.397573910854617,
          0.5051465500992074,
          2.74628313657978,
          0.8120454689264269,
          -1.2650901112701955,
          1.232961382327399,
          -0.3204634182661983,
          1.7667021889194712,
          -0.5183017375342086,
          0.9557565205566079,
          -0.8086490205068385,
          -0.45212422534360897,
          1.2309789313304136,
          -1.3160441618070073,
          -2.0787989453683213,
          -0.2514029947741344,
          0.9867684647074665,
          -2.1990333320540243,
          -0.34497633052762716,
          0.8639628692687408,
          -0.21389997301921213,
          1.0066686519064196,
          0.015285295518240219,
          0.16553727871273421,
          -0.3422559844465687,
          0.18582729884952723,
          -0.5185663434101322,
          0.18913410433325986,
          0.39113332341307633,
          -0.18854993521329608,
          -0.14869197202417253,
          -1.1771622810743556,
          1.3307583915936658,
          -1.0811490526736167,
          1.0091713921321324,
          -0.04562912974048219,
          -0.44860879206069726,
          -0.875699653930691,
          -0.9595772536161237,
          2.2610482349970145,
          0.673684214746933,
          0.3855515807541555,
          -0.5870000829314124,
          -0.6238089402650726,
          1.8241779691481275,
          1.3040691198754766,
          1.4022082707660175,
          -0.02802869965795411,
          -1.3025100590842051,
          0.42446491321503954,
          -1.332092580693879,
          0.24818581948371962,
          -0.5430116861802801,
          -0.25308285294068034,
          -0.7847086131345495,
          0.09962225805782671,
          -0.4468545812432021,
          -1.3879365467126263,
          -1.8354406655645414,
          0.20141758971530174,
          0.6401032427603514,
          0.16832901628415473,
          0.3181880472684637,
          -0.5806466226491991,
          0.6052428295290574,
          2.367193516786903,
          -1.430962307666061,
          1.322035884985864
         ]
        }
       ],
       "layout": {
        "legend": {
         "bgcolor": "#F5F6F9",
         "font": {
          "color": "#4D5663"
         }
        },
        "paper_bgcolor": "#F5F6F9",
        "plot_bgcolor": "#F5F6F9",
        "template": {
         "data": {
          "bar": [
           {
            "error_x": {
             "color": "#2a3f5f"
            },
            "error_y": {
             "color": "#2a3f5f"
            },
            "marker": {
             "line": {
              "color": "#E5ECF6",
              "width": 0.5
             }
            },
            "type": "bar"
           }
          ],
          "barpolar": [
           {
            "marker": {
             "line": {
              "color": "#E5ECF6",
              "width": 0.5
             }
            },
            "type": "barpolar"
           }
          ],
          "carpet": [
           {
            "aaxis": {
             "endlinecolor": "#2a3f5f",
             "gridcolor": "white",
             "linecolor": "white",
             "minorgridcolor": "white",
             "startlinecolor": "#2a3f5f"
            },
            "baxis": {
             "endlinecolor": "#2a3f5f",
             "gridcolor": "white",
             "linecolor": "white",
             "minorgridcolor": "white",
             "startlinecolor": "#2a3f5f"
            },
            "type": "carpet"
           }
          ],
          "choropleth": [
           {
            "colorbar": {
             "outlinewidth": 0,
             "ticks": ""
            },
            "type": "choropleth"
           }
          ],
          "contour": [
           {
            "colorbar": {
             "outlinewidth": 0,
             "ticks": ""
            },
            "colorscale": [
             [
              0,
              "#0d0887"
             ],
             [
              0.1111111111111111,
              "#46039f"
             ],
             [
              0.2222222222222222,
              "#7201a8"
             ],
             [
              0.3333333333333333,
              "#9c179e"
             ],
             [
              0.4444444444444444,
              "#bd3786"
             ],
             [
              0.5555555555555556,
              "#d8576b"
             ],
             [
              0.6666666666666666,
              "#ed7953"
             ],
             [
              0.7777777777777778,
              "#fb9f3a"
             ],
             [
              0.8888888888888888,
              "#fdca26"
             ],
             [
              1,
              "#f0f921"
             ]
            ],
            "type": "contour"
           }
          ],
          "contourcarpet": [
           {
            "colorbar": {
             "outlinewidth": 0,
             "ticks": ""
            },
            "type": "contourcarpet"
           }
          ],
          "heatmap": [
           {
            "colorbar": {
             "outlinewidth": 0,
             "ticks": ""
            },
            "colorscale": [
             [
              0,
              "#0d0887"
             ],
             [
              0.1111111111111111,
              "#46039f"
             ],
             [
              0.2222222222222222,
              "#7201a8"
             ],
             [
              0.3333333333333333,
              "#9c179e"
             ],
             [
              0.4444444444444444,
              "#bd3786"
             ],
             [
              0.5555555555555556,
              "#d8576b"
             ],
             [
              0.6666666666666666,
              "#ed7953"
             ],
             [
              0.7777777777777778,
              "#fb9f3a"
             ],
             [
              0.8888888888888888,
              "#fdca26"
             ],
             [
              1,
              "#f0f921"
             ]
            ],
            "type": "heatmap"
           }
          ],
          "heatmapgl": [
           {
            "colorbar": {
             "outlinewidth": 0,
             "ticks": ""
            },
            "colorscale": [
             [
              0,
              "#0d0887"
             ],
             [
              0.1111111111111111,
              "#46039f"
             ],
             [
              0.2222222222222222,
              "#7201a8"
             ],
             [
              0.3333333333333333,
              "#9c179e"
             ],
             [
              0.4444444444444444,
              "#bd3786"
             ],
             [
              0.5555555555555556,
              "#d8576b"
             ],
             [
              0.6666666666666666,
              "#ed7953"
             ],
             [
              0.7777777777777778,
              "#fb9f3a"
             ],
             [
              0.8888888888888888,
              "#fdca26"
             ],
             [
              1,
              "#f0f921"
             ]
            ],
            "type": "heatmapgl"
           }
          ],
          "histogram": [
           {
            "marker": {
             "colorbar": {
              "outlinewidth": 0,
              "ticks": ""
             }
            },
            "type": "histogram"
           }
          ],
          "histogram2d": [
           {
            "colorbar": {
             "outlinewidth": 0,
             "ticks": ""
            },
            "colorscale": [
             [
              0,
              "#0d0887"
             ],
             [
              0.1111111111111111,
              "#46039f"
             ],
             [
              0.2222222222222222,
              "#7201a8"
             ],
             [
              0.3333333333333333,
              "#9c179e"
             ],
             [
              0.4444444444444444,
              "#bd3786"
             ],
             [
              0.5555555555555556,
              "#d8576b"
             ],
             [
              0.6666666666666666,
              "#ed7953"
             ],
             [
              0.7777777777777778,
              "#fb9f3a"
             ],
             [
              0.8888888888888888,
              "#fdca26"
             ],
             [
              1,
              "#f0f921"
             ]
            ],
            "type": "histogram2d"
           }
          ],
          "histogram2dcontour": [
           {
            "colorbar": {
             "outlinewidth": 0,
             "ticks": ""
            },
            "colorscale": [
             [
              0,
              "#0d0887"
             ],
             [
              0.1111111111111111,
              "#46039f"
             ],
             [
              0.2222222222222222,
              "#7201a8"
             ],
             [
              0.3333333333333333,
              "#9c179e"
             ],
             [
              0.4444444444444444,
              "#bd3786"
             ],
             [
              0.5555555555555556,
              "#d8576b"
             ],
             [
              0.6666666666666666,
              "#ed7953"
             ],
             [
              0.7777777777777778,
              "#fb9f3a"
             ],
             [
              0.8888888888888888,
              "#fdca26"
             ],
             [
              1,
              "#f0f921"
             ]
            ],
            "type": "histogram2dcontour"
           }
          ],
          "mesh3d": [
           {
            "colorbar": {
             "outlinewidth": 0,
             "ticks": ""
            },
            "type": "mesh3d"
           }
          ],
          "parcoords": [
           {
            "line": {
             "colorbar": {
              "outlinewidth": 0,
              "ticks": ""
             }
            },
            "type": "parcoords"
           }
          ],
          "pie": [
           {
            "automargin": true,
            "type": "pie"
           }
          ],
          "scatter": [
           {
            "marker": {
             "colorbar": {
              "outlinewidth": 0,
              "ticks": ""
             }
            },
            "type": "scatter"
           }
          ],
          "scatter3d": [
           {
            "line": {
             "colorbar": {
              "outlinewidth": 0,
              "ticks": ""
             }
            },
            "marker": {
             "colorbar": {
              "outlinewidth": 0,
              "ticks": ""
             }
            },
            "type": "scatter3d"
           }
          ],
          "scattercarpet": [
           {
            "marker": {
             "colorbar": {
              "outlinewidth": 0,
              "ticks": ""
             }
            },
            "type": "scattercarpet"
           }
          ],
          "scattergeo": [
           {
            "marker": {
             "colorbar": {
              "outlinewidth": 0,
              "ticks": ""
             }
            },
            "type": "scattergeo"
           }
          ],
          "scattergl": [
           {
            "marker": {
             "colorbar": {
              "outlinewidth": 0,
              "ticks": ""
             }
            },
            "type": "scattergl"
           }
          ],
          "scattermapbox": [
           {
            "marker": {
             "colorbar": {
              "outlinewidth": 0,
              "ticks": ""
             }
            },
            "type": "scattermapbox"
           }
          ],
          "scatterpolar": [
           {
            "marker": {
             "colorbar": {
              "outlinewidth": 0,
              "ticks": ""
             }
            },
            "type": "scatterpolar"
           }
          ],
          "scatterpolargl": [
           {
            "marker": {
             "colorbar": {
              "outlinewidth": 0,
              "ticks": ""
             }
            },
            "type": "scatterpolargl"
           }
          ],
          "scatterternary": [
           {
            "marker": {
             "colorbar": {
              "outlinewidth": 0,
              "ticks": ""
             }
            },
            "type": "scatterternary"
           }
          ],
          "surface": [
           {
            "colorbar": {
             "outlinewidth": 0,
             "ticks": ""
            },
            "colorscale": [
             [
              0,
              "#0d0887"
             ],
             [
              0.1111111111111111,
              "#46039f"
             ],
             [
              0.2222222222222222,
              "#7201a8"
             ],
             [
              0.3333333333333333,
              "#9c179e"
             ],
             [
              0.4444444444444444,
              "#bd3786"
             ],
             [
              0.5555555555555556,
              "#d8576b"
             ],
             [
              0.6666666666666666,
              "#ed7953"
             ],
             [
              0.7777777777777778,
              "#fb9f3a"
             ],
             [
              0.8888888888888888,
              "#fdca26"
             ],
             [
              1,
              "#f0f921"
             ]
            ],
            "type": "surface"
           }
          ],
          "table": [
           {
            "cells": {
             "fill": {
              "color": "#EBF0F8"
             },
             "line": {
              "color": "white"
             }
            },
            "header": {
             "fill": {
              "color": "#C8D4E3"
             },
             "line": {
              "color": "white"
             }
            },
            "type": "table"
           }
          ]
         },
         "layout": {
          "annotationdefaults": {
           "arrowcolor": "#2a3f5f",
           "arrowhead": 0,
           "arrowwidth": 1
          },
          "autotypenumbers": "strict",
          "coloraxis": {
           "colorbar": {
            "outlinewidth": 0,
            "ticks": ""
           }
          },
          "colorscale": {
           "diverging": [
            [
             0,
             "#8e0152"
            ],
            [
             0.1,
             "#c51b7d"
            ],
            [
             0.2,
             "#de77ae"
            ],
            [
             0.3,
             "#f1b6da"
            ],
            [
             0.4,
             "#fde0ef"
            ],
            [
             0.5,
             "#f7f7f7"
            ],
            [
             0.6,
             "#e6f5d0"
            ],
            [
             0.7,
             "#b8e186"
            ],
            [
             0.8,
             "#7fbc41"
            ],
            [
             0.9,
             "#4d9221"
            ],
            [
             1,
             "#276419"
            ]
           ],
           "sequential": [
            [
             0,
             "#0d0887"
            ],
            [
             0.1111111111111111,
             "#46039f"
            ],
            [
             0.2222222222222222,
             "#7201a8"
            ],
            [
             0.3333333333333333,
             "#9c179e"
            ],
            [
             0.4444444444444444,
             "#bd3786"
            ],
            [
             0.5555555555555556,
             "#d8576b"
            ],
            [
             0.6666666666666666,
             "#ed7953"
            ],
            [
             0.7777777777777778,
             "#fb9f3a"
            ],
            [
             0.8888888888888888,
             "#fdca26"
            ],
            [
             1,
             "#f0f921"
            ]
           ],
           "sequentialminus": [
            [
             0,
             "#0d0887"
            ],
            [
             0.1111111111111111,
             "#46039f"
            ],
            [
             0.2222222222222222,
             "#7201a8"
            ],
            [
             0.3333333333333333,
             "#9c179e"
            ],
            [
             0.4444444444444444,
             "#bd3786"
            ],
            [
             0.5555555555555556,
             "#d8576b"
            ],
            [
             0.6666666666666666,
             "#ed7953"
            ],
            [
             0.7777777777777778,
             "#fb9f3a"
            ],
            [
             0.8888888888888888,
             "#fdca26"
            ],
            [
             1,
             "#f0f921"
            ]
           ]
          },
          "colorway": [
           "#636efa",
           "#EF553B",
           "#00cc96",
           "#ab63fa",
           "#FFA15A",
           "#19d3f3",
           "#FF6692",
           "#B6E880",
           "#FF97FF",
           "#FECB52"
          ],
          "font": {
           "color": "#2a3f5f"
          },
          "geo": {
           "bgcolor": "white",
           "lakecolor": "white",
           "landcolor": "#E5ECF6",
           "showlakes": true,
           "showland": true,
           "subunitcolor": "white"
          },
          "hoverlabel": {
           "align": "left"
          },
          "hovermode": "closest",
          "mapbox": {
           "style": "light"
          },
          "paper_bgcolor": "white",
          "plot_bgcolor": "#E5ECF6",
          "polar": {
           "angularaxis": {
            "gridcolor": "white",
            "linecolor": "white",
            "ticks": ""
           },
           "bgcolor": "#E5ECF6",
           "radialaxis": {
            "gridcolor": "white",
            "linecolor": "white",
            "ticks": ""
           }
          },
          "scene": {
           "xaxis": {
            "backgroundcolor": "#E5ECF6",
            "gridcolor": "white",
            "gridwidth": 2,
            "linecolor": "white",
            "showbackground": true,
            "ticks": "",
            "zerolinecolor": "white"
           },
           "yaxis": {
            "backgroundcolor": "#E5ECF6",
            "gridcolor": "white",
            "gridwidth": 2,
            "linecolor": "white",
            "showbackground": true,
            "ticks": "",
            "zerolinecolor": "white"
           },
           "zaxis": {
            "backgroundcolor": "#E5ECF6",
            "gridcolor": "white",
            "gridwidth": 2,
            "linecolor": "white",
            "showbackground": true,
            "ticks": "",
            "zerolinecolor": "white"
           }
          },
          "shapedefaults": {
           "line": {
            "color": "#2a3f5f"
           }
          },
          "ternary": {
           "aaxis": {
            "gridcolor": "white",
            "linecolor": "white",
            "ticks": ""
           },
           "baxis": {
            "gridcolor": "white",
            "linecolor": "white",
            "ticks": ""
           },
           "bgcolor": "#E5ECF6",
           "caxis": {
            "gridcolor": "white",
            "linecolor": "white",
            "ticks": ""
           }
          },
          "title": {
           "x": 0.05
          },
          "xaxis": {
           "automargin": true,
           "gridcolor": "white",
           "linecolor": "white",
           "ticks": "",
           "title": {
            "standoff": 15
           },
           "zerolinecolor": "white",
           "zerolinewidth": 2
          },
          "yaxis": {
           "automargin": true,
           "gridcolor": "white",
           "linecolor": "white",
           "ticks": "",
           "title": {
            "standoff": 15
           },
           "zerolinecolor": "white",
           "zerolinewidth": 2
          }
         }
        },
        "title": {
         "font": {
          "color": "#4D5663"
         }
        },
        "xaxis": {
         "gridcolor": "#E1E5ED",
         "showgrid": true,
         "tickfont": {
          "color": "#4D5663"
         },
         "title": {
          "font": {
           "color": "#4D5663"
          },
          "text": ""
         },
         "zerolinecolor": "#E1E5ED"
        },
        "yaxis": {
         "gridcolor": "#E1E5ED",
         "showgrid": true,
         "tickfont": {
          "color": "#4D5663"
         },
         "title": {
          "font": {
           "color": "#4D5663"
          },
          "text": ""
         },
         "zerolinecolor": "#E1E5ED"
        }
       }
      },
      "text/html": [
       "<div>                            <div id=\"90f35ec2-90d4-4a3f-9a3a-1136eb862876\" class=\"plotly-graph-div\" style=\"height:525px; width:100%;\"></div>            <script type=\"text/javascript\">                require([\"plotly\"], function(Plotly) {                    window.PLOTLYENV=window.PLOTLYENV || {};\n",
       "                    window.PLOTLYENV.BASE_URL='https://plot.ly';                                    if (document.getElementById(\"90f35ec2-90d4-4a3f-9a3a-1136eb862876\")) {                    Plotly.newPlot(                        \"90f35ec2-90d4-4a3f-9a3a-1136eb862876\",                        [{\"line\": {\"color\": \"rgba(255, 153, 51, 1.0)\", \"dash\": \"solid\", \"shape\": \"linear\", \"width\": 1.3}, \"marker\": {\"size\": 10, \"symbol\": \"circle\"}, \"mode\": \"markers\", \"name\": \"B\", \"text\": \"\", \"type\": \"scatter\", \"x\": [-0.39249119533846083, -1.3888802447524282, 0.9320187198753848, 0.694353564039704, 0.7344257361752629, -1.2230733342365738, -0.8244809005601621, 0.7162297255286217, 0.2165294575147262, -0.2408870384182345, 1.1114063553829503, 0.11623195119570866, 0.11865011429650428, 0.6419190655473598, 0.5924914375347973, -1.5309904914242096, -1.0144836912833508, 0.17787108284173206, 1.1945581244349286, 1.2415482353883005, -0.4112001758408989, 1.7949556218804894, 0.9533968117682318, -0.05388169104593645, 0.24708490471611128, 0.25877047914625495, 0.48537772746154373, -0.6316121968562575, 0.06979028490490342, 0.19179517799331644, -1.6389060193460128, 0.9568316005620361, 0.26717277970941045, -0.3026993847893387, 1.1358386331024715, 0.10544743176293345, -0.3299778399054059, 0.27100520046695425, 0.06640897537997871, 1.2022134310294064, -0.8275038600805332, -1.8297538154580024, 0.6949224280793794, -0.5453678996930036, 1.0511010453471554, 0.5928559996789496, -0.06112588854125373, -0.33259830544963653, -0.9095544388303258, -0.06519574555535969, -0.7396712807137552, -0.7972607228576862, 0.8992819989759496, -0.48843079131869044, 0.6247337472023909, -0.04368661259913243, 1.0707374155366922, -1.2750425970263084, -2.1286830059622077, -0.16041042808617528, 0.8995574231400747, -1.1093579889045484, 0.24647782191751233, 0.1622166523400865, -1.9262665166541684, -0.11425757020942486, 1.6970107669806103, -0.5660708839996262, -0.5255668865650605, -0.013986122764662883, -0.7297632456108951, 1.4244002945727672, -1.77433674788825, -0.5638562033370994, -0.5015545170673178, -1.5485746003489604, -0.42447048714593744, 0.5227658730223655, -1.5510798620613335, -0.4326482754580784, -0.19418294085652998, 2.320301562215529, 0.6421355412935974, 1.0132407626820426, 0.8751950847102844, 0.06786618667413867, -1.1957715770422013, -0.8756342227097039, 0.8339918704633829, -0.9198970809358937, -1.3972272495036677, 1.023120644082157, -1.457450824800944, -0.16951331764207347, -1.129058458402131, 2.127667416680669, -0.8176154890128692, 1.2109557386846754, -0.30743944371779625, 0.16609731130823885], \"y\": [0.10480144276968774, -2.2448421163275762, -0.10385752502981002, 0.07587343198180303, 0.8253080764609732, -0.46590149353816884, 1.720000398792707, 0.04699268025148138, 0.6888697082875861, -1.5391049448586651, 1.531707361237052, -0.09993967946466119, -1.254504242294646, -1.2205349028615027, 1.0727852640083417, 2.567033067274972, -0.6521242358147255, 1.18401797836042, 0.5975387129010653, 1.1964442867936949, 2.160759870882936, -0.08331842428728174, -1.5832430789407055, -0.47278583853194756, -0.8189897202884268, 0.5523291035570072, 0.6360732149381493, 0.6078394093485547, -1.524513836860753, 0.019809751507857323, 0.36345148832240715, 0.5229061031796399, -1.397573910854617, 0.5051465500992074, 2.74628313657978, 0.8120454689264269, -1.2650901112701955, 1.232961382327399, -0.3204634182661983, 1.7667021889194712, -0.5183017375342086, 0.9557565205566079, -0.8086490205068385, -0.45212422534360897, 1.2309789313304136, -1.3160441618070073, -2.0787989453683213, -0.2514029947741344, 0.9867684647074665, -2.1990333320540243, -0.34497633052762716, 0.8639628692687408, -0.21389997301921213, 1.0066686519064196, 0.015285295518240219, 0.16553727871273421, -0.3422559844465687, 0.18582729884952723, -0.5185663434101322, 0.18913410433325986, 0.39113332341307633, -0.18854993521329608, -0.14869197202417253, -1.1771622810743556, 1.3307583915936658, -1.0811490526736167, 1.0091713921321324, -0.04562912974048219, -0.44860879206069726, -0.875699653930691, -0.9595772536161237, 2.2610482349970145, 0.673684214746933, 0.3855515807541555, -0.5870000829314124, -0.6238089402650726, 1.8241779691481275, 1.3040691198754766, 1.4022082707660175, -0.02802869965795411, -1.3025100590842051, 0.42446491321503954, -1.332092580693879, 0.24818581948371962, -0.5430116861802801, -0.25308285294068034, -0.7847086131345495, 0.09962225805782671, -0.4468545812432021, -1.3879365467126263, -1.8354406655645414, 0.20141758971530174, 0.6401032427603514, 0.16832901628415473, 0.3181880472684637, -0.5806466226491991, 0.6052428295290574, 2.367193516786903, -1.430962307666061, 1.322035884985864]}],                        {\"legend\": {\"bgcolor\": \"#F5F6F9\", \"font\": {\"color\": \"#4D5663\"}}, \"paper_bgcolor\": \"#F5F6F9\", \"plot_bgcolor\": \"#F5F6F9\", \"template\": {\"data\": {\"bar\": [{\"error_x\": {\"color\": \"#2a3f5f\"}, \"error_y\": {\"color\": \"#2a3f5f\"}, \"marker\": {\"line\": {\"color\": \"#E5ECF6\", \"width\": 0.5}}, \"type\": \"bar\"}], \"barpolar\": [{\"marker\": {\"line\": {\"color\": \"#E5ECF6\", \"width\": 0.5}}, \"type\": \"barpolar\"}], \"carpet\": [{\"aaxis\": {\"endlinecolor\": \"#2a3f5f\", \"gridcolor\": \"white\", \"linecolor\": \"white\", \"minorgridcolor\": \"white\", \"startlinecolor\": \"#2a3f5f\"}, \"baxis\": {\"endlinecolor\": \"#2a3f5f\", \"gridcolor\": \"white\", \"linecolor\": \"white\", \"minorgridcolor\": \"white\", \"startlinecolor\": \"#2a3f5f\"}, \"type\": \"carpet\"}], \"choropleth\": [{\"colorbar\": {\"outlinewidth\": 0, \"ticks\": \"\"}, \"type\": \"choropleth\"}], \"contour\": [{\"colorbar\": {\"outlinewidth\": 0, \"ticks\": \"\"}, \"colorscale\": [[0.0, \"#0d0887\"], [0.1111111111111111, \"#46039f\"], [0.2222222222222222, \"#7201a8\"], [0.3333333333333333, \"#9c179e\"], [0.4444444444444444, \"#bd3786\"], [0.5555555555555556, \"#d8576b\"], [0.6666666666666666, \"#ed7953\"], [0.7777777777777778, \"#fb9f3a\"], [0.8888888888888888, \"#fdca26\"], [1.0, \"#f0f921\"]], \"type\": \"contour\"}], \"contourcarpet\": [{\"colorbar\": {\"outlinewidth\": 0, \"ticks\": \"\"}, \"type\": \"contourcarpet\"}], \"heatmap\": [{\"colorbar\": {\"outlinewidth\": 0, \"ticks\": \"\"}, \"colorscale\": [[0.0, \"#0d0887\"], [0.1111111111111111, \"#46039f\"], [0.2222222222222222, \"#7201a8\"], [0.3333333333333333, \"#9c179e\"], [0.4444444444444444, \"#bd3786\"], [0.5555555555555556, \"#d8576b\"], [0.6666666666666666, \"#ed7953\"], [0.7777777777777778, \"#fb9f3a\"], [0.8888888888888888, \"#fdca26\"], [1.0, \"#f0f921\"]], \"type\": \"heatmap\"}], \"heatmapgl\": [{\"colorbar\": {\"outlinewidth\": 0, \"ticks\": \"\"}, \"colorscale\": [[0.0, \"#0d0887\"], [0.1111111111111111, \"#46039f\"], [0.2222222222222222, \"#7201a8\"], [0.3333333333333333, \"#9c179e\"], [0.4444444444444444, \"#bd3786\"], [0.5555555555555556, \"#d8576b\"], [0.6666666666666666, \"#ed7953\"], [0.7777777777777778, \"#fb9f3a\"], [0.8888888888888888, \"#fdca26\"], [1.0, \"#f0f921\"]], \"type\": \"heatmapgl\"}], \"histogram\": [{\"marker\": {\"colorbar\": {\"outlinewidth\": 0, \"ticks\": \"\"}}, \"type\": \"histogram\"}], \"histogram2d\": [{\"colorbar\": {\"outlinewidth\": 0, \"ticks\": \"\"}, \"colorscale\": [[0.0, \"#0d0887\"], [0.1111111111111111, \"#46039f\"], [0.2222222222222222, \"#7201a8\"], [0.3333333333333333, \"#9c179e\"], [0.4444444444444444, \"#bd3786\"], [0.5555555555555556, \"#d8576b\"], [0.6666666666666666, \"#ed7953\"], [0.7777777777777778, \"#fb9f3a\"], [0.8888888888888888, \"#fdca26\"], [1.0, \"#f0f921\"]], \"type\": \"histogram2d\"}], \"histogram2dcontour\": [{\"colorbar\": {\"outlinewidth\": 0, \"ticks\": \"\"}, \"colorscale\": [[0.0, \"#0d0887\"], [0.1111111111111111, \"#46039f\"], [0.2222222222222222, \"#7201a8\"], [0.3333333333333333, \"#9c179e\"], [0.4444444444444444, \"#bd3786\"], [0.5555555555555556, \"#d8576b\"], [0.6666666666666666, \"#ed7953\"], [0.7777777777777778, \"#fb9f3a\"], [0.8888888888888888, \"#fdca26\"], [1.0, \"#f0f921\"]], \"type\": \"histogram2dcontour\"}], \"mesh3d\": [{\"colorbar\": {\"outlinewidth\": 0, \"ticks\": \"\"}, \"type\": \"mesh3d\"}], \"parcoords\": [{\"line\": {\"colorbar\": {\"outlinewidth\": 0, \"ticks\": \"\"}}, \"type\": \"parcoords\"}], \"pie\": [{\"automargin\": true, \"type\": \"pie\"}], \"scatter\": [{\"marker\": {\"colorbar\": {\"outlinewidth\": 0, \"ticks\": \"\"}}, \"type\": \"scatter\"}], \"scatter3d\": [{\"line\": {\"colorbar\": {\"outlinewidth\": 0, \"ticks\": \"\"}}, \"marker\": {\"colorbar\": {\"outlinewidth\": 0, \"ticks\": \"\"}}, \"type\": \"scatter3d\"}], \"scattercarpet\": [{\"marker\": {\"colorbar\": {\"outlinewidth\": 0, \"ticks\": \"\"}}, \"type\": \"scattercarpet\"}], \"scattergeo\": [{\"marker\": {\"colorbar\": {\"outlinewidth\": 0, \"ticks\": \"\"}}, \"type\": \"scattergeo\"}], \"scattergl\": [{\"marker\": {\"colorbar\": {\"outlinewidth\": 0, \"ticks\": \"\"}}, \"type\": \"scattergl\"}], \"scattermapbox\": [{\"marker\": {\"colorbar\": {\"outlinewidth\": 0, \"ticks\": \"\"}}, \"type\": \"scattermapbox\"}], \"scatterpolar\": [{\"marker\": {\"colorbar\": {\"outlinewidth\": 0, \"ticks\": \"\"}}, \"type\": \"scatterpolar\"}], \"scatterpolargl\": [{\"marker\": {\"colorbar\": {\"outlinewidth\": 0, \"ticks\": \"\"}}, \"type\": \"scatterpolargl\"}], \"scatterternary\": [{\"marker\": {\"colorbar\": {\"outlinewidth\": 0, \"ticks\": \"\"}}, \"type\": \"scatterternary\"}], \"surface\": [{\"colorbar\": {\"outlinewidth\": 0, \"ticks\": \"\"}, \"colorscale\": [[0.0, \"#0d0887\"], [0.1111111111111111, \"#46039f\"], [0.2222222222222222, \"#7201a8\"], [0.3333333333333333, \"#9c179e\"], [0.4444444444444444, \"#bd3786\"], [0.5555555555555556, \"#d8576b\"], [0.6666666666666666, \"#ed7953\"], [0.7777777777777778, \"#fb9f3a\"], [0.8888888888888888, \"#fdca26\"], [1.0, \"#f0f921\"]], \"type\": \"surface\"}], \"table\": [{\"cells\": {\"fill\": {\"color\": \"#EBF0F8\"}, \"line\": {\"color\": \"white\"}}, \"header\": {\"fill\": {\"color\": \"#C8D4E3\"}, \"line\": {\"color\": \"white\"}}, \"type\": \"table\"}]}, \"layout\": {\"annotationdefaults\": {\"arrowcolor\": \"#2a3f5f\", \"arrowhead\": 0, \"arrowwidth\": 1}, \"autotypenumbers\": \"strict\", \"coloraxis\": {\"colorbar\": {\"outlinewidth\": 0, \"ticks\": \"\"}}, \"colorscale\": {\"diverging\": [[0, \"#8e0152\"], [0.1, \"#c51b7d\"], [0.2, \"#de77ae\"], [0.3, \"#f1b6da\"], [0.4, \"#fde0ef\"], [0.5, \"#f7f7f7\"], [0.6, \"#e6f5d0\"], [0.7, \"#b8e186\"], [0.8, \"#7fbc41\"], [0.9, \"#4d9221\"], [1, \"#276419\"]], \"sequential\": [[0.0, \"#0d0887\"], [0.1111111111111111, \"#46039f\"], [0.2222222222222222, \"#7201a8\"], [0.3333333333333333, \"#9c179e\"], [0.4444444444444444, \"#bd3786\"], [0.5555555555555556, \"#d8576b\"], [0.6666666666666666, \"#ed7953\"], [0.7777777777777778, \"#fb9f3a\"], [0.8888888888888888, \"#fdca26\"], [1.0, \"#f0f921\"]], \"sequentialminus\": [[0.0, \"#0d0887\"], [0.1111111111111111, \"#46039f\"], [0.2222222222222222, \"#7201a8\"], [0.3333333333333333, \"#9c179e\"], [0.4444444444444444, \"#bd3786\"], [0.5555555555555556, \"#d8576b\"], [0.6666666666666666, \"#ed7953\"], [0.7777777777777778, \"#fb9f3a\"], [0.8888888888888888, \"#fdca26\"], [1.0, \"#f0f921\"]]}, \"colorway\": [\"#636efa\", \"#EF553B\", \"#00cc96\", \"#ab63fa\", \"#FFA15A\", \"#19d3f3\", \"#FF6692\", \"#B6E880\", \"#FF97FF\", \"#FECB52\"], \"font\": {\"color\": \"#2a3f5f\"}, \"geo\": {\"bgcolor\": \"white\", \"lakecolor\": \"white\", \"landcolor\": \"#E5ECF6\", \"showlakes\": true, \"showland\": true, \"subunitcolor\": \"white\"}, \"hoverlabel\": {\"align\": \"left\"}, \"hovermode\": \"closest\", \"mapbox\": {\"style\": \"light\"}, \"paper_bgcolor\": \"white\", \"plot_bgcolor\": \"#E5ECF6\", \"polar\": {\"angularaxis\": {\"gridcolor\": \"white\", \"linecolor\": \"white\", \"ticks\": \"\"}, \"bgcolor\": \"#E5ECF6\", \"radialaxis\": {\"gridcolor\": \"white\", \"linecolor\": \"white\", \"ticks\": \"\"}}, \"scene\": {\"xaxis\": {\"backgroundcolor\": \"#E5ECF6\", \"gridcolor\": \"white\", \"gridwidth\": 2, \"linecolor\": \"white\", \"showbackground\": true, \"ticks\": \"\", \"zerolinecolor\": \"white\"}, \"yaxis\": {\"backgroundcolor\": \"#E5ECF6\", \"gridcolor\": \"white\", \"gridwidth\": 2, \"linecolor\": \"white\", \"showbackground\": true, \"ticks\": \"\", \"zerolinecolor\": \"white\"}, \"zaxis\": {\"backgroundcolor\": \"#E5ECF6\", \"gridcolor\": \"white\", \"gridwidth\": 2, \"linecolor\": \"white\", \"showbackground\": true, \"ticks\": \"\", \"zerolinecolor\": \"white\"}}, \"shapedefaults\": {\"line\": {\"color\": \"#2a3f5f\"}}, \"ternary\": {\"aaxis\": {\"gridcolor\": \"white\", \"linecolor\": \"white\", \"ticks\": \"\"}, \"baxis\": {\"gridcolor\": \"white\", \"linecolor\": \"white\", \"ticks\": \"\"}, \"bgcolor\": \"#E5ECF6\", \"caxis\": {\"gridcolor\": \"white\", \"linecolor\": \"white\", \"ticks\": \"\"}}, \"title\": {\"x\": 0.05}, \"xaxis\": {\"automargin\": true, \"gridcolor\": \"white\", \"linecolor\": \"white\", \"ticks\": \"\", \"title\": {\"standoff\": 15}, \"zerolinecolor\": \"white\", \"zerolinewidth\": 2}, \"yaxis\": {\"automargin\": true, \"gridcolor\": \"white\", \"linecolor\": \"white\", \"ticks\": \"\", \"title\": {\"standoff\": 15}, \"zerolinecolor\": \"white\", \"zerolinewidth\": 2}}}, \"title\": {\"font\": {\"color\": \"#4D5663\"}}, \"xaxis\": {\"gridcolor\": \"#E1E5ED\", \"showgrid\": true, \"tickfont\": {\"color\": \"#4D5663\"}, \"title\": {\"font\": {\"color\": \"#4D5663\"}, \"text\": \"\"}, \"zerolinecolor\": \"#E1E5ED\"}, \"yaxis\": {\"gridcolor\": \"#E1E5ED\", \"showgrid\": true, \"tickfont\": {\"color\": \"#4D5663\"}, \"title\": {\"font\": {\"color\": \"#4D5663\"}, \"text\": \"\"}, \"zerolinecolor\": \"#E1E5ED\"}},                        {\"showLink\": true, \"linkText\": \"Export to plot.ly\", \"plotlyServerURL\": \"https://plot.ly\", \"responsive\": true}                    ).then(function(){\n",
       "                            \n",
       "var gd = document.getElementById('90f35ec2-90d4-4a3f-9a3a-1136eb862876');\n",
       "var x = new MutationObserver(function (mutations, observer) {{\n",
       "        var display = window.getComputedStyle(gd).display;\n",
       "        if (!display || display === 'none') {{\n",
       "            console.log([gd, 'removed!']);\n",
       "            Plotly.purge(gd);\n",
       "            observer.disconnect();\n",
       "        }}\n",
       "}});\n",
       "\n",
       "// Listen for the removal of the full notebook cells\n",
       "var notebookContainer = gd.closest('#notebook-container');\n",
       "if (notebookContainer) {{\n",
       "    x.observe(notebookContainer, {childList: true});\n",
       "}}\n",
       "\n",
       "// Listen for the clearing of the current output cell\n",
       "var outputEl = gd.closest('.output');\n",
       "if (outputEl) {{\n",
       "    x.observe(outputEl, {childList: true});\n",
       "}}\n",
       "\n",
       "                        })                };                });            </script>        </div>"
      ]
     },
     "metadata": {},
     "output_type": "display_data"
    }
   ],
   "source": [
    "df.iplot(kind='scatter',x='A',y='B',mode='markers',size=10)"
   ]
  },
  {
   "cell_type": "code",
   "execution_count": 14,
   "metadata": {},
   "outputs": [],
   "source": [
    "fig"
   ]
  },
  {
   "cell_type": "markdown",
   "metadata": {},
   "source": [
    "## Bar Plots"
   ]
  },
  {
   "cell_type": "code",
   "execution_count": 16,
   "metadata": {},
   "outputs": [
    {
     "data": {
      "application/vnd.plotly.v1+json": {
       "config": {
        "linkText": "Export to plot.ly",
        "plotlyServerURL": "https://plot.ly",
        "showLink": true
       },
       "data": [
        {
         "marker": {
          "color": "rgba(255, 153, 51, 0.6)",
          "line": {
           "color": "rgba(255, 153, 51, 1.0)",
           "width": 1
          }
         },
         "name": "Values",
         "orientation": "v",
         "text": "",
         "type": "bar",
         "x": [
          "A",
          "B",
          "C"
         ],
         "y": [
          32,
          43,
          50
         ]
        }
       ],
       "layout": {
        "legend": {
         "bgcolor": "#F5F6F9",
         "font": {
          "color": "#4D5663"
         }
        },
        "paper_bgcolor": "#F5F6F9",
        "plot_bgcolor": "#F5F6F9",
        "template": {
         "data": {
          "bar": [
           {
            "error_x": {
             "color": "#2a3f5f"
            },
            "error_y": {
             "color": "#2a3f5f"
            },
            "marker": {
             "line": {
              "color": "#E5ECF6",
              "width": 0.5
             }
            },
            "type": "bar"
           }
          ],
          "barpolar": [
           {
            "marker": {
             "line": {
              "color": "#E5ECF6",
              "width": 0.5
             }
            },
            "type": "barpolar"
           }
          ],
          "carpet": [
           {
            "aaxis": {
             "endlinecolor": "#2a3f5f",
             "gridcolor": "white",
             "linecolor": "white",
             "minorgridcolor": "white",
             "startlinecolor": "#2a3f5f"
            },
            "baxis": {
             "endlinecolor": "#2a3f5f",
             "gridcolor": "white",
             "linecolor": "white",
             "minorgridcolor": "white",
             "startlinecolor": "#2a3f5f"
            },
            "type": "carpet"
           }
          ],
          "choropleth": [
           {
            "colorbar": {
             "outlinewidth": 0,
             "ticks": ""
            },
            "type": "choropleth"
           }
          ],
          "contour": [
           {
            "colorbar": {
             "outlinewidth": 0,
             "ticks": ""
            },
            "colorscale": [
             [
              0,
              "#0d0887"
             ],
             [
              0.1111111111111111,
              "#46039f"
             ],
             [
              0.2222222222222222,
              "#7201a8"
             ],
             [
              0.3333333333333333,
              "#9c179e"
             ],
             [
              0.4444444444444444,
              "#bd3786"
             ],
             [
              0.5555555555555556,
              "#d8576b"
             ],
             [
              0.6666666666666666,
              "#ed7953"
             ],
             [
              0.7777777777777778,
              "#fb9f3a"
             ],
             [
              0.8888888888888888,
              "#fdca26"
             ],
             [
              1,
              "#f0f921"
             ]
            ],
            "type": "contour"
           }
          ],
          "contourcarpet": [
           {
            "colorbar": {
             "outlinewidth": 0,
             "ticks": ""
            },
            "type": "contourcarpet"
           }
          ],
          "heatmap": [
           {
            "colorbar": {
             "outlinewidth": 0,
             "ticks": ""
            },
            "colorscale": [
             [
              0,
              "#0d0887"
             ],
             [
              0.1111111111111111,
              "#46039f"
             ],
             [
              0.2222222222222222,
              "#7201a8"
             ],
             [
              0.3333333333333333,
              "#9c179e"
             ],
             [
              0.4444444444444444,
              "#bd3786"
             ],
             [
              0.5555555555555556,
              "#d8576b"
             ],
             [
              0.6666666666666666,
              "#ed7953"
             ],
             [
              0.7777777777777778,
              "#fb9f3a"
             ],
             [
              0.8888888888888888,
              "#fdca26"
             ],
             [
              1,
              "#f0f921"
             ]
            ],
            "type": "heatmap"
           }
          ],
          "heatmapgl": [
           {
            "colorbar": {
             "outlinewidth": 0,
             "ticks": ""
            },
            "colorscale": [
             [
              0,
              "#0d0887"
             ],
             [
              0.1111111111111111,
              "#46039f"
             ],
             [
              0.2222222222222222,
              "#7201a8"
             ],
             [
              0.3333333333333333,
              "#9c179e"
             ],
             [
              0.4444444444444444,
              "#bd3786"
             ],
             [
              0.5555555555555556,
              "#d8576b"
             ],
             [
              0.6666666666666666,
              "#ed7953"
             ],
             [
              0.7777777777777778,
              "#fb9f3a"
             ],
             [
              0.8888888888888888,
              "#fdca26"
             ],
             [
              1,
              "#f0f921"
             ]
            ],
            "type": "heatmapgl"
           }
          ],
          "histogram": [
           {
            "marker": {
             "colorbar": {
              "outlinewidth": 0,
              "ticks": ""
             }
            },
            "type": "histogram"
           }
          ],
          "histogram2d": [
           {
            "colorbar": {
             "outlinewidth": 0,
             "ticks": ""
            },
            "colorscale": [
             [
              0,
              "#0d0887"
             ],
             [
              0.1111111111111111,
              "#46039f"
             ],
             [
              0.2222222222222222,
              "#7201a8"
             ],
             [
              0.3333333333333333,
              "#9c179e"
             ],
             [
              0.4444444444444444,
              "#bd3786"
             ],
             [
              0.5555555555555556,
              "#d8576b"
             ],
             [
              0.6666666666666666,
              "#ed7953"
             ],
             [
              0.7777777777777778,
              "#fb9f3a"
             ],
             [
              0.8888888888888888,
              "#fdca26"
             ],
             [
              1,
              "#f0f921"
             ]
            ],
            "type": "histogram2d"
           }
          ],
          "histogram2dcontour": [
           {
            "colorbar": {
             "outlinewidth": 0,
             "ticks": ""
            },
            "colorscale": [
             [
              0,
              "#0d0887"
             ],
             [
              0.1111111111111111,
              "#46039f"
             ],
             [
              0.2222222222222222,
              "#7201a8"
             ],
             [
              0.3333333333333333,
              "#9c179e"
             ],
             [
              0.4444444444444444,
              "#bd3786"
             ],
             [
              0.5555555555555556,
              "#d8576b"
             ],
             [
              0.6666666666666666,
              "#ed7953"
             ],
             [
              0.7777777777777778,
              "#fb9f3a"
             ],
             [
              0.8888888888888888,
              "#fdca26"
             ],
             [
              1,
              "#f0f921"
             ]
            ],
            "type": "histogram2dcontour"
           }
          ],
          "mesh3d": [
           {
            "colorbar": {
             "outlinewidth": 0,
             "ticks": ""
            },
            "type": "mesh3d"
           }
          ],
          "parcoords": [
           {
            "line": {
             "colorbar": {
              "outlinewidth": 0,
              "ticks": ""
             }
            },
            "type": "parcoords"
           }
          ],
          "pie": [
           {
            "automargin": true,
            "type": "pie"
           }
          ],
          "scatter": [
           {
            "marker": {
             "colorbar": {
              "outlinewidth": 0,
              "ticks": ""
             }
            },
            "type": "scatter"
           }
          ],
          "scatter3d": [
           {
            "line": {
             "colorbar": {
              "outlinewidth": 0,
              "ticks": ""
             }
            },
            "marker": {
             "colorbar": {
              "outlinewidth": 0,
              "ticks": ""
             }
            },
            "type": "scatter3d"
           }
          ],
          "scattercarpet": [
           {
            "marker": {
             "colorbar": {
              "outlinewidth": 0,
              "ticks": ""
             }
            },
            "type": "scattercarpet"
           }
          ],
          "scattergeo": [
           {
            "marker": {
             "colorbar": {
              "outlinewidth": 0,
              "ticks": ""
             }
            },
            "type": "scattergeo"
           }
          ],
          "scattergl": [
           {
            "marker": {
             "colorbar": {
              "outlinewidth": 0,
              "ticks": ""
             }
            },
            "type": "scattergl"
           }
          ],
          "scattermapbox": [
           {
            "marker": {
             "colorbar": {
              "outlinewidth": 0,
              "ticks": ""
             }
            },
            "type": "scattermapbox"
           }
          ],
          "scatterpolar": [
           {
            "marker": {
             "colorbar": {
              "outlinewidth": 0,
              "ticks": ""
             }
            },
            "type": "scatterpolar"
           }
          ],
          "scatterpolargl": [
           {
            "marker": {
             "colorbar": {
              "outlinewidth": 0,
              "ticks": ""
             }
            },
            "type": "scatterpolargl"
           }
          ],
          "scatterternary": [
           {
            "marker": {
             "colorbar": {
              "outlinewidth": 0,
              "ticks": ""
             }
            },
            "type": "scatterternary"
           }
          ],
          "surface": [
           {
            "colorbar": {
             "outlinewidth": 0,
             "ticks": ""
            },
            "colorscale": [
             [
              0,
              "#0d0887"
             ],
             [
              0.1111111111111111,
              "#46039f"
             ],
             [
              0.2222222222222222,
              "#7201a8"
             ],
             [
              0.3333333333333333,
              "#9c179e"
             ],
             [
              0.4444444444444444,
              "#bd3786"
             ],
             [
              0.5555555555555556,
              "#d8576b"
             ],
             [
              0.6666666666666666,
              "#ed7953"
             ],
             [
              0.7777777777777778,
              "#fb9f3a"
             ],
             [
              0.8888888888888888,
              "#fdca26"
             ],
             [
              1,
              "#f0f921"
             ]
            ],
            "type": "surface"
           }
          ],
          "table": [
           {
            "cells": {
             "fill": {
              "color": "#EBF0F8"
             },
             "line": {
              "color": "white"
             }
            },
            "header": {
             "fill": {
              "color": "#C8D4E3"
             },
             "line": {
              "color": "white"
             }
            },
            "type": "table"
           }
          ]
         },
         "layout": {
          "annotationdefaults": {
           "arrowcolor": "#2a3f5f",
           "arrowhead": 0,
           "arrowwidth": 1
          },
          "autotypenumbers": "strict",
          "coloraxis": {
           "colorbar": {
            "outlinewidth": 0,
            "ticks": ""
           }
          },
          "colorscale": {
           "diverging": [
            [
             0,
             "#8e0152"
            ],
            [
             0.1,
             "#c51b7d"
            ],
            [
             0.2,
             "#de77ae"
            ],
            [
             0.3,
             "#f1b6da"
            ],
            [
             0.4,
             "#fde0ef"
            ],
            [
             0.5,
             "#f7f7f7"
            ],
            [
             0.6,
             "#e6f5d0"
            ],
            [
             0.7,
             "#b8e186"
            ],
            [
             0.8,
             "#7fbc41"
            ],
            [
             0.9,
             "#4d9221"
            ],
            [
             1,
             "#276419"
            ]
           ],
           "sequential": [
            [
             0,
             "#0d0887"
            ],
            [
             0.1111111111111111,
             "#46039f"
            ],
            [
             0.2222222222222222,
             "#7201a8"
            ],
            [
             0.3333333333333333,
             "#9c179e"
            ],
            [
             0.4444444444444444,
             "#bd3786"
            ],
            [
             0.5555555555555556,
             "#d8576b"
            ],
            [
             0.6666666666666666,
             "#ed7953"
            ],
            [
             0.7777777777777778,
             "#fb9f3a"
            ],
            [
             0.8888888888888888,
             "#fdca26"
            ],
            [
             1,
             "#f0f921"
            ]
           ],
           "sequentialminus": [
            [
             0,
             "#0d0887"
            ],
            [
             0.1111111111111111,
             "#46039f"
            ],
            [
             0.2222222222222222,
             "#7201a8"
            ],
            [
             0.3333333333333333,
             "#9c179e"
            ],
            [
             0.4444444444444444,
             "#bd3786"
            ],
            [
             0.5555555555555556,
             "#d8576b"
            ],
            [
             0.6666666666666666,
             "#ed7953"
            ],
            [
             0.7777777777777778,
             "#fb9f3a"
            ],
            [
             0.8888888888888888,
             "#fdca26"
            ],
            [
             1,
             "#f0f921"
            ]
           ]
          },
          "colorway": [
           "#636efa",
           "#EF553B",
           "#00cc96",
           "#ab63fa",
           "#FFA15A",
           "#19d3f3",
           "#FF6692",
           "#B6E880",
           "#FF97FF",
           "#FECB52"
          ],
          "font": {
           "color": "#2a3f5f"
          },
          "geo": {
           "bgcolor": "white",
           "lakecolor": "white",
           "landcolor": "#E5ECF6",
           "showlakes": true,
           "showland": true,
           "subunitcolor": "white"
          },
          "hoverlabel": {
           "align": "left"
          },
          "hovermode": "closest",
          "mapbox": {
           "style": "light"
          },
          "paper_bgcolor": "white",
          "plot_bgcolor": "#E5ECF6",
          "polar": {
           "angularaxis": {
            "gridcolor": "white",
            "linecolor": "white",
            "ticks": ""
           },
           "bgcolor": "#E5ECF6",
           "radialaxis": {
            "gridcolor": "white",
            "linecolor": "white",
            "ticks": ""
           }
          },
          "scene": {
           "xaxis": {
            "backgroundcolor": "#E5ECF6",
            "gridcolor": "white",
            "gridwidth": 2,
            "linecolor": "white",
            "showbackground": true,
            "ticks": "",
            "zerolinecolor": "white"
           },
           "yaxis": {
            "backgroundcolor": "#E5ECF6",
            "gridcolor": "white",
            "gridwidth": 2,
            "linecolor": "white",
            "showbackground": true,
            "ticks": "",
            "zerolinecolor": "white"
           },
           "zaxis": {
            "backgroundcolor": "#E5ECF6",
            "gridcolor": "white",
            "gridwidth": 2,
            "linecolor": "white",
            "showbackground": true,
            "ticks": "",
            "zerolinecolor": "white"
           }
          },
          "shapedefaults": {
           "line": {
            "color": "#2a3f5f"
           }
          },
          "ternary": {
           "aaxis": {
            "gridcolor": "white",
            "linecolor": "white",
            "ticks": ""
           },
           "baxis": {
            "gridcolor": "white",
            "linecolor": "white",
            "ticks": ""
           },
           "bgcolor": "#E5ECF6",
           "caxis": {
            "gridcolor": "white",
            "linecolor": "white",
            "ticks": ""
           }
          },
          "title": {
           "x": 0.05
          },
          "xaxis": {
           "automargin": true,
           "gridcolor": "white",
           "linecolor": "white",
           "ticks": "",
           "title": {
            "standoff": 15
           },
           "zerolinecolor": "white",
           "zerolinewidth": 2
          },
          "yaxis": {
           "automargin": true,
           "gridcolor": "white",
           "linecolor": "white",
           "ticks": "",
           "title": {
            "standoff": 15
           },
           "zerolinecolor": "white",
           "zerolinewidth": 2
          }
         }
        },
        "title": {
         "font": {
          "color": "#4D5663"
         }
        },
        "xaxis": {
         "gridcolor": "#E1E5ED",
         "showgrid": true,
         "tickfont": {
          "color": "#4D5663"
         },
         "title": {
          "font": {
           "color": "#4D5663"
          },
          "text": ""
         },
         "zerolinecolor": "#E1E5ED"
        },
        "yaxis": {
         "gridcolor": "#E1E5ED",
         "showgrid": true,
         "tickfont": {
          "color": "#4D5663"
         },
         "title": {
          "font": {
           "color": "#4D5663"
          },
          "text": ""
         },
         "zerolinecolor": "#E1E5ED"
        }
       }
      },
      "text/html": [
       "<div>                            <div id=\"64f66335-843e-43a3-9969-c9bc168fa8a5\" class=\"plotly-graph-div\" style=\"height:525px; width:100%;\"></div>            <script type=\"text/javascript\">                require([\"plotly\"], function(Plotly) {                    window.PLOTLYENV=window.PLOTLYENV || {};\n",
       "                    window.PLOTLYENV.BASE_URL='https://plot.ly';                                    if (document.getElementById(\"64f66335-843e-43a3-9969-c9bc168fa8a5\")) {                    Plotly.newPlot(                        \"64f66335-843e-43a3-9969-c9bc168fa8a5\",                        [{\"marker\": {\"color\": \"rgba(255, 153, 51, 0.6)\", \"line\": {\"color\": \"rgba(255, 153, 51, 1.0)\", \"width\": 1}}, \"name\": \"Values\", \"orientation\": \"v\", \"text\": \"\", \"type\": \"bar\", \"x\": [\"A\", \"B\", \"C\"], \"y\": [32, 43, 50]}],                        {\"legend\": {\"bgcolor\": \"#F5F6F9\", \"font\": {\"color\": \"#4D5663\"}}, \"paper_bgcolor\": \"#F5F6F9\", \"plot_bgcolor\": \"#F5F6F9\", \"template\": {\"data\": {\"bar\": [{\"error_x\": {\"color\": \"#2a3f5f\"}, \"error_y\": {\"color\": \"#2a3f5f\"}, \"marker\": {\"line\": {\"color\": \"#E5ECF6\", \"width\": 0.5}}, \"type\": \"bar\"}], \"barpolar\": [{\"marker\": {\"line\": {\"color\": \"#E5ECF6\", \"width\": 0.5}}, \"type\": \"barpolar\"}], \"carpet\": [{\"aaxis\": {\"endlinecolor\": \"#2a3f5f\", \"gridcolor\": \"white\", \"linecolor\": \"white\", \"minorgridcolor\": \"white\", \"startlinecolor\": \"#2a3f5f\"}, \"baxis\": {\"endlinecolor\": \"#2a3f5f\", \"gridcolor\": \"white\", \"linecolor\": \"white\", \"minorgridcolor\": \"white\", \"startlinecolor\": \"#2a3f5f\"}, \"type\": \"carpet\"}], \"choropleth\": [{\"colorbar\": {\"outlinewidth\": 0, \"ticks\": \"\"}, \"type\": \"choropleth\"}], \"contour\": [{\"colorbar\": {\"outlinewidth\": 0, \"ticks\": \"\"}, \"colorscale\": [[0.0, \"#0d0887\"], [0.1111111111111111, \"#46039f\"], [0.2222222222222222, \"#7201a8\"], [0.3333333333333333, \"#9c179e\"], [0.4444444444444444, \"#bd3786\"], [0.5555555555555556, \"#d8576b\"], [0.6666666666666666, \"#ed7953\"], [0.7777777777777778, \"#fb9f3a\"], [0.8888888888888888, \"#fdca26\"], [1.0, \"#f0f921\"]], \"type\": \"contour\"}], \"contourcarpet\": [{\"colorbar\": {\"outlinewidth\": 0, \"ticks\": \"\"}, \"type\": \"contourcarpet\"}], \"heatmap\": [{\"colorbar\": {\"outlinewidth\": 0, \"ticks\": \"\"}, \"colorscale\": [[0.0, \"#0d0887\"], [0.1111111111111111, \"#46039f\"], [0.2222222222222222, \"#7201a8\"], [0.3333333333333333, \"#9c179e\"], [0.4444444444444444, \"#bd3786\"], [0.5555555555555556, \"#d8576b\"], [0.6666666666666666, \"#ed7953\"], [0.7777777777777778, \"#fb9f3a\"], [0.8888888888888888, \"#fdca26\"], [1.0, \"#f0f921\"]], \"type\": \"heatmap\"}], \"heatmapgl\": [{\"colorbar\": {\"outlinewidth\": 0, \"ticks\": \"\"}, \"colorscale\": [[0.0, \"#0d0887\"], [0.1111111111111111, \"#46039f\"], [0.2222222222222222, \"#7201a8\"], [0.3333333333333333, \"#9c179e\"], [0.4444444444444444, \"#bd3786\"], [0.5555555555555556, \"#d8576b\"], [0.6666666666666666, \"#ed7953\"], [0.7777777777777778, \"#fb9f3a\"], [0.8888888888888888, \"#fdca26\"], [1.0, \"#f0f921\"]], \"type\": \"heatmapgl\"}], \"histogram\": [{\"marker\": {\"colorbar\": {\"outlinewidth\": 0, \"ticks\": \"\"}}, \"type\": \"histogram\"}], \"histogram2d\": [{\"colorbar\": {\"outlinewidth\": 0, \"ticks\": \"\"}, \"colorscale\": [[0.0, \"#0d0887\"], [0.1111111111111111, \"#46039f\"], [0.2222222222222222, \"#7201a8\"], [0.3333333333333333, \"#9c179e\"], [0.4444444444444444, \"#bd3786\"], [0.5555555555555556, \"#d8576b\"], [0.6666666666666666, \"#ed7953\"], [0.7777777777777778, \"#fb9f3a\"], [0.8888888888888888, \"#fdca26\"], [1.0, \"#f0f921\"]], \"type\": \"histogram2d\"}], \"histogram2dcontour\": [{\"colorbar\": {\"outlinewidth\": 0, \"ticks\": \"\"}, \"colorscale\": [[0.0, \"#0d0887\"], [0.1111111111111111, \"#46039f\"], [0.2222222222222222, \"#7201a8\"], [0.3333333333333333, \"#9c179e\"], [0.4444444444444444, \"#bd3786\"], [0.5555555555555556, \"#d8576b\"], [0.6666666666666666, \"#ed7953\"], [0.7777777777777778, \"#fb9f3a\"], [0.8888888888888888, \"#fdca26\"], [1.0, \"#f0f921\"]], \"type\": \"histogram2dcontour\"}], \"mesh3d\": [{\"colorbar\": {\"outlinewidth\": 0, \"ticks\": \"\"}, \"type\": \"mesh3d\"}], \"parcoords\": [{\"line\": {\"colorbar\": {\"outlinewidth\": 0, \"ticks\": \"\"}}, \"type\": \"parcoords\"}], \"pie\": [{\"automargin\": true, \"type\": \"pie\"}], \"scatter\": [{\"marker\": {\"colorbar\": {\"outlinewidth\": 0, \"ticks\": \"\"}}, \"type\": \"scatter\"}], \"scatter3d\": [{\"line\": {\"colorbar\": {\"outlinewidth\": 0, \"ticks\": \"\"}}, \"marker\": {\"colorbar\": {\"outlinewidth\": 0, \"ticks\": \"\"}}, \"type\": \"scatter3d\"}], \"scattercarpet\": [{\"marker\": {\"colorbar\": {\"outlinewidth\": 0, \"ticks\": \"\"}}, \"type\": \"scattercarpet\"}], \"scattergeo\": [{\"marker\": {\"colorbar\": {\"outlinewidth\": 0, \"ticks\": \"\"}}, \"type\": \"scattergeo\"}], \"scattergl\": [{\"marker\": {\"colorbar\": {\"outlinewidth\": 0, \"ticks\": \"\"}}, \"type\": \"scattergl\"}], \"scattermapbox\": [{\"marker\": {\"colorbar\": {\"outlinewidth\": 0, \"ticks\": \"\"}}, \"type\": \"scattermapbox\"}], \"scatterpolar\": [{\"marker\": {\"colorbar\": {\"outlinewidth\": 0, \"ticks\": \"\"}}, \"type\": \"scatterpolar\"}], \"scatterpolargl\": [{\"marker\": {\"colorbar\": {\"outlinewidth\": 0, \"ticks\": \"\"}}, \"type\": \"scatterpolargl\"}], \"scatterternary\": [{\"marker\": {\"colorbar\": {\"outlinewidth\": 0, \"ticks\": \"\"}}, \"type\": \"scatterternary\"}], \"surface\": [{\"colorbar\": {\"outlinewidth\": 0, \"ticks\": \"\"}, \"colorscale\": [[0.0, \"#0d0887\"], [0.1111111111111111, \"#46039f\"], [0.2222222222222222, \"#7201a8\"], [0.3333333333333333, \"#9c179e\"], [0.4444444444444444, \"#bd3786\"], [0.5555555555555556, \"#d8576b\"], [0.6666666666666666, \"#ed7953\"], [0.7777777777777778, \"#fb9f3a\"], [0.8888888888888888, \"#fdca26\"], [1.0, \"#f0f921\"]], \"type\": \"surface\"}], \"table\": [{\"cells\": {\"fill\": {\"color\": \"#EBF0F8\"}, \"line\": {\"color\": \"white\"}}, \"header\": {\"fill\": {\"color\": \"#C8D4E3\"}, \"line\": {\"color\": \"white\"}}, \"type\": \"table\"}]}, \"layout\": {\"annotationdefaults\": {\"arrowcolor\": \"#2a3f5f\", \"arrowhead\": 0, \"arrowwidth\": 1}, \"autotypenumbers\": \"strict\", \"coloraxis\": {\"colorbar\": {\"outlinewidth\": 0, \"ticks\": \"\"}}, \"colorscale\": {\"diverging\": [[0, \"#8e0152\"], [0.1, \"#c51b7d\"], [0.2, \"#de77ae\"], [0.3, \"#f1b6da\"], [0.4, \"#fde0ef\"], [0.5, \"#f7f7f7\"], [0.6, \"#e6f5d0\"], [0.7, \"#b8e186\"], [0.8, \"#7fbc41\"], [0.9, \"#4d9221\"], [1, \"#276419\"]], \"sequential\": [[0.0, \"#0d0887\"], [0.1111111111111111, \"#46039f\"], [0.2222222222222222, \"#7201a8\"], [0.3333333333333333, \"#9c179e\"], [0.4444444444444444, \"#bd3786\"], [0.5555555555555556, \"#d8576b\"], [0.6666666666666666, \"#ed7953\"], [0.7777777777777778, \"#fb9f3a\"], [0.8888888888888888, \"#fdca26\"], [1.0, \"#f0f921\"]], \"sequentialminus\": [[0.0, \"#0d0887\"], [0.1111111111111111, \"#46039f\"], [0.2222222222222222, \"#7201a8\"], [0.3333333333333333, \"#9c179e\"], [0.4444444444444444, \"#bd3786\"], [0.5555555555555556, \"#d8576b\"], [0.6666666666666666, \"#ed7953\"], [0.7777777777777778, \"#fb9f3a\"], [0.8888888888888888, \"#fdca26\"], [1.0, \"#f0f921\"]]}, \"colorway\": [\"#636efa\", \"#EF553B\", \"#00cc96\", \"#ab63fa\", \"#FFA15A\", \"#19d3f3\", \"#FF6692\", \"#B6E880\", \"#FF97FF\", \"#FECB52\"], \"font\": {\"color\": \"#2a3f5f\"}, \"geo\": {\"bgcolor\": \"white\", \"lakecolor\": \"white\", \"landcolor\": \"#E5ECF6\", \"showlakes\": true, \"showland\": true, \"subunitcolor\": \"white\"}, \"hoverlabel\": {\"align\": \"left\"}, \"hovermode\": \"closest\", \"mapbox\": {\"style\": \"light\"}, \"paper_bgcolor\": \"white\", \"plot_bgcolor\": \"#E5ECF6\", \"polar\": {\"angularaxis\": {\"gridcolor\": \"white\", \"linecolor\": \"white\", \"ticks\": \"\"}, \"bgcolor\": \"#E5ECF6\", \"radialaxis\": {\"gridcolor\": \"white\", \"linecolor\": \"white\", \"ticks\": \"\"}}, \"scene\": {\"xaxis\": {\"backgroundcolor\": \"#E5ECF6\", \"gridcolor\": \"white\", \"gridwidth\": 2, \"linecolor\": \"white\", \"showbackground\": true, \"ticks\": \"\", \"zerolinecolor\": \"white\"}, \"yaxis\": {\"backgroundcolor\": \"#E5ECF6\", \"gridcolor\": \"white\", \"gridwidth\": 2, \"linecolor\": \"white\", \"showbackground\": true, \"ticks\": \"\", \"zerolinecolor\": \"white\"}, \"zaxis\": {\"backgroundcolor\": \"#E5ECF6\", \"gridcolor\": \"white\", \"gridwidth\": 2, \"linecolor\": \"white\", \"showbackground\": true, \"ticks\": \"\", \"zerolinecolor\": \"white\"}}, \"shapedefaults\": {\"line\": {\"color\": \"#2a3f5f\"}}, \"ternary\": {\"aaxis\": {\"gridcolor\": \"white\", \"linecolor\": \"white\", \"ticks\": \"\"}, \"baxis\": {\"gridcolor\": \"white\", \"linecolor\": \"white\", \"ticks\": \"\"}, \"bgcolor\": \"#E5ECF6\", \"caxis\": {\"gridcolor\": \"white\", \"linecolor\": \"white\", \"ticks\": \"\"}}, \"title\": {\"x\": 0.05}, \"xaxis\": {\"automargin\": true, \"gridcolor\": \"white\", \"linecolor\": \"white\", \"ticks\": \"\", \"title\": {\"standoff\": 15}, \"zerolinecolor\": \"white\", \"zerolinewidth\": 2}, \"yaxis\": {\"automargin\": true, \"gridcolor\": \"white\", \"linecolor\": \"white\", \"ticks\": \"\", \"title\": {\"standoff\": 15}, \"zerolinecolor\": \"white\", \"zerolinewidth\": 2}}}, \"title\": {\"font\": {\"color\": \"#4D5663\"}}, \"xaxis\": {\"gridcolor\": \"#E1E5ED\", \"showgrid\": true, \"tickfont\": {\"color\": \"#4D5663\"}, \"title\": {\"font\": {\"color\": \"#4D5663\"}, \"text\": \"\"}, \"zerolinecolor\": \"#E1E5ED\"}, \"yaxis\": {\"gridcolor\": \"#E1E5ED\", \"showgrid\": true, \"tickfont\": {\"color\": \"#4D5663\"}, \"title\": {\"font\": {\"color\": \"#4D5663\"}, \"text\": \"\"}, \"zerolinecolor\": \"#E1E5ED\"}},                        {\"showLink\": true, \"linkText\": \"Export to plot.ly\", \"plotlyServerURL\": \"https://plot.ly\", \"responsive\": true}                    ).then(function(){\n",
       "                            \n",
       "var gd = document.getElementById('64f66335-843e-43a3-9969-c9bc168fa8a5');\n",
       "var x = new MutationObserver(function (mutations, observer) {{\n",
       "        var display = window.getComputedStyle(gd).display;\n",
       "        if (!display || display === 'none') {{\n",
       "            console.log([gd, 'removed!']);\n",
       "            Plotly.purge(gd);\n",
       "            observer.disconnect();\n",
       "        }}\n",
       "}});\n",
       "\n",
       "// Listen for the removal of the full notebook cells\n",
       "var notebookContainer = gd.closest('#notebook-container');\n",
       "if (notebookContainer) {{\n",
       "    x.observe(notebookContainer, {childList: true});\n",
       "}}\n",
       "\n",
       "// Listen for the clearing of the current output cell\n",
       "var outputEl = gd.closest('.output');\n",
       "if (outputEl) {{\n",
       "    x.observe(outputEl, {childList: true});\n",
       "}}\n",
       "\n",
       "                        })                };                });            </script>        </div>"
      ]
     },
     "metadata": {},
     "output_type": "display_data"
    }
   ],
   "source": [
    "df2.iplot(kind='bar',x='Category',y='Values')"
   ]
  },
  {
   "cell_type": "code",
   "execution_count": 17,
   "metadata": {},
   "outputs": [
    {
     "data": {
      "application/vnd.plotly.v1+json": {
       "config": {
        "linkText": "Export to plot.ly",
        "plotlyServerURL": "https://plot.ly",
        "showLink": true
       },
       "data": [
        {
         "marker": {
          "color": "rgba(255, 153, 51, 0.6)",
          "line": {
           "color": "rgba(255, 153, 51, 1.0)",
           "width": 1
          }
         },
         "name": "None",
         "orientation": "v",
         "text": "",
         "type": "bar",
         "x": [
          "A",
          "B",
          "C",
          "D"
         ],
         "y": [
          100,
          100,
          100,
          100
         ]
        }
       ],
       "layout": {
        "legend": {
         "bgcolor": "#F5F6F9",
         "font": {
          "color": "#4D5663"
         }
        },
        "paper_bgcolor": "#F5F6F9",
        "plot_bgcolor": "#F5F6F9",
        "template": {
         "data": {
          "bar": [
           {
            "error_x": {
             "color": "#2a3f5f"
            },
            "error_y": {
             "color": "#2a3f5f"
            },
            "marker": {
             "line": {
              "color": "#E5ECF6",
              "width": 0.5
             }
            },
            "type": "bar"
           }
          ],
          "barpolar": [
           {
            "marker": {
             "line": {
              "color": "#E5ECF6",
              "width": 0.5
             }
            },
            "type": "barpolar"
           }
          ],
          "carpet": [
           {
            "aaxis": {
             "endlinecolor": "#2a3f5f",
             "gridcolor": "white",
             "linecolor": "white",
             "minorgridcolor": "white",
             "startlinecolor": "#2a3f5f"
            },
            "baxis": {
             "endlinecolor": "#2a3f5f",
             "gridcolor": "white",
             "linecolor": "white",
             "minorgridcolor": "white",
             "startlinecolor": "#2a3f5f"
            },
            "type": "carpet"
           }
          ],
          "choropleth": [
           {
            "colorbar": {
             "outlinewidth": 0,
             "ticks": ""
            },
            "type": "choropleth"
           }
          ],
          "contour": [
           {
            "colorbar": {
             "outlinewidth": 0,
             "ticks": ""
            },
            "colorscale": [
             [
              0,
              "#0d0887"
             ],
             [
              0.1111111111111111,
              "#46039f"
             ],
             [
              0.2222222222222222,
              "#7201a8"
             ],
             [
              0.3333333333333333,
              "#9c179e"
             ],
             [
              0.4444444444444444,
              "#bd3786"
             ],
             [
              0.5555555555555556,
              "#d8576b"
             ],
             [
              0.6666666666666666,
              "#ed7953"
             ],
             [
              0.7777777777777778,
              "#fb9f3a"
             ],
             [
              0.8888888888888888,
              "#fdca26"
             ],
             [
              1,
              "#f0f921"
             ]
            ],
            "type": "contour"
           }
          ],
          "contourcarpet": [
           {
            "colorbar": {
             "outlinewidth": 0,
             "ticks": ""
            },
            "type": "contourcarpet"
           }
          ],
          "heatmap": [
           {
            "colorbar": {
             "outlinewidth": 0,
             "ticks": ""
            },
            "colorscale": [
             [
              0,
              "#0d0887"
             ],
             [
              0.1111111111111111,
              "#46039f"
             ],
             [
              0.2222222222222222,
              "#7201a8"
             ],
             [
              0.3333333333333333,
              "#9c179e"
             ],
             [
              0.4444444444444444,
              "#bd3786"
             ],
             [
              0.5555555555555556,
              "#d8576b"
             ],
             [
              0.6666666666666666,
              "#ed7953"
             ],
             [
              0.7777777777777778,
              "#fb9f3a"
             ],
             [
              0.8888888888888888,
              "#fdca26"
             ],
             [
              1,
              "#f0f921"
             ]
            ],
            "type": "heatmap"
           }
          ],
          "heatmapgl": [
           {
            "colorbar": {
             "outlinewidth": 0,
             "ticks": ""
            },
            "colorscale": [
             [
              0,
              "#0d0887"
             ],
             [
              0.1111111111111111,
              "#46039f"
             ],
             [
              0.2222222222222222,
              "#7201a8"
             ],
             [
              0.3333333333333333,
              "#9c179e"
             ],
             [
              0.4444444444444444,
              "#bd3786"
             ],
             [
              0.5555555555555556,
              "#d8576b"
             ],
             [
              0.6666666666666666,
              "#ed7953"
             ],
             [
              0.7777777777777778,
              "#fb9f3a"
             ],
             [
              0.8888888888888888,
              "#fdca26"
             ],
             [
              1,
              "#f0f921"
             ]
            ],
            "type": "heatmapgl"
           }
          ],
          "histogram": [
           {
            "marker": {
             "colorbar": {
              "outlinewidth": 0,
              "ticks": ""
             }
            },
            "type": "histogram"
           }
          ],
          "histogram2d": [
           {
            "colorbar": {
             "outlinewidth": 0,
             "ticks": ""
            },
            "colorscale": [
             [
              0,
              "#0d0887"
             ],
             [
              0.1111111111111111,
              "#46039f"
             ],
             [
              0.2222222222222222,
              "#7201a8"
             ],
             [
              0.3333333333333333,
              "#9c179e"
             ],
             [
              0.4444444444444444,
              "#bd3786"
             ],
             [
              0.5555555555555556,
              "#d8576b"
             ],
             [
              0.6666666666666666,
              "#ed7953"
             ],
             [
              0.7777777777777778,
              "#fb9f3a"
             ],
             [
              0.8888888888888888,
              "#fdca26"
             ],
             [
              1,
              "#f0f921"
             ]
            ],
            "type": "histogram2d"
           }
          ],
          "histogram2dcontour": [
           {
            "colorbar": {
             "outlinewidth": 0,
             "ticks": ""
            },
            "colorscale": [
             [
              0,
              "#0d0887"
             ],
             [
              0.1111111111111111,
              "#46039f"
             ],
             [
              0.2222222222222222,
              "#7201a8"
             ],
             [
              0.3333333333333333,
              "#9c179e"
             ],
             [
              0.4444444444444444,
              "#bd3786"
             ],
             [
              0.5555555555555556,
              "#d8576b"
             ],
             [
              0.6666666666666666,
              "#ed7953"
             ],
             [
              0.7777777777777778,
              "#fb9f3a"
             ],
             [
              0.8888888888888888,
              "#fdca26"
             ],
             [
              1,
              "#f0f921"
             ]
            ],
            "type": "histogram2dcontour"
           }
          ],
          "mesh3d": [
           {
            "colorbar": {
             "outlinewidth": 0,
             "ticks": ""
            },
            "type": "mesh3d"
           }
          ],
          "parcoords": [
           {
            "line": {
             "colorbar": {
              "outlinewidth": 0,
              "ticks": ""
             }
            },
            "type": "parcoords"
           }
          ],
          "pie": [
           {
            "automargin": true,
            "type": "pie"
           }
          ],
          "scatter": [
           {
            "marker": {
             "colorbar": {
              "outlinewidth": 0,
              "ticks": ""
             }
            },
            "type": "scatter"
           }
          ],
          "scatter3d": [
           {
            "line": {
             "colorbar": {
              "outlinewidth": 0,
              "ticks": ""
             }
            },
            "marker": {
             "colorbar": {
              "outlinewidth": 0,
              "ticks": ""
             }
            },
            "type": "scatter3d"
           }
          ],
          "scattercarpet": [
           {
            "marker": {
             "colorbar": {
              "outlinewidth": 0,
              "ticks": ""
             }
            },
            "type": "scattercarpet"
           }
          ],
          "scattergeo": [
           {
            "marker": {
             "colorbar": {
              "outlinewidth": 0,
              "ticks": ""
             }
            },
            "type": "scattergeo"
           }
          ],
          "scattergl": [
           {
            "marker": {
             "colorbar": {
              "outlinewidth": 0,
              "ticks": ""
             }
            },
            "type": "scattergl"
           }
          ],
          "scattermapbox": [
           {
            "marker": {
             "colorbar": {
              "outlinewidth": 0,
              "ticks": ""
             }
            },
            "type": "scattermapbox"
           }
          ],
          "scatterpolar": [
           {
            "marker": {
             "colorbar": {
              "outlinewidth": 0,
              "ticks": ""
             }
            },
            "type": "scatterpolar"
           }
          ],
          "scatterpolargl": [
           {
            "marker": {
             "colorbar": {
              "outlinewidth": 0,
              "ticks": ""
             }
            },
            "type": "scatterpolargl"
           }
          ],
          "scatterternary": [
           {
            "marker": {
             "colorbar": {
              "outlinewidth": 0,
              "ticks": ""
             }
            },
            "type": "scatterternary"
           }
          ],
          "surface": [
           {
            "colorbar": {
             "outlinewidth": 0,
             "ticks": ""
            },
            "colorscale": [
             [
              0,
              "#0d0887"
             ],
             [
              0.1111111111111111,
              "#46039f"
             ],
             [
              0.2222222222222222,
              "#7201a8"
             ],
             [
              0.3333333333333333,
              "#9c179e"
             ],
             [
              0.4444444444444444,
              "#bd3786"
             ],
             [
              0.5555555555555556,
              "#d8576b"
             ],
             [
              0.6666666666666666,
              "#ed7953"
             ],
             [
              0.7777777777777778,
              "#fb9f3a"
             ],
             [
              0.8888888888888888,
              "#fdca26"
             ],
             [
              1,
              "#f0f921"
             ]
            ],
            "type": "surface"
           }
          ],
          "table": [
           {
            "cells": {
             "fill": {
              "color": "#EBF0F8"
             },
             "line": {
              "color": "white"
             }
            },
            "header": {
             "fill": {
              "color": "#C8D4E3"
             },
             "line": {
              "color": "white"
             }
            },
            "type": "table"
           }
          ]
         },
         "layout": {
          "annotationdefaults": {
           "arrowcolor": "#2a3f5f",
           "arrowhead": 0,
           "arrowwidth": 1
          },
          "autotypenumbers": "strict",
          "coloraxis": {
           "colorbar": {
            "outlinewidth": 0,
            "ticks": ""
           }
          },
          "colorscale": {
           "diverging": [
            [
             0,
             "#8e0152"
            ],
            [
             0.1,
             "#c51b7d"
            ],
            [
             0.2,
             "#de77ae"
            ],
            [
             0.3,
             "#f1b6da"
            ],
            [
             0.4,
             "#fde0ef"
            ],
            [
             0.5,
             "#f7f7f7"
            ],
            [
             0.6,
             "#e6f5d0"
            ],
            [
             0.7,
             "#b8e186"
            ],
            [
             0.8,
             "#7fbc41"
            ],
            [
             0.9,
             "#4d9221"
            ],
            [
             1,
             "#276419"
            ]
           ],
           "sequential": [
            [
             0,
             "#0d0887"
            ],
            [
             0.1111111111111111,
             "#46039f"
            ],
            [
             0.2222222222222222,
             "#7201a8"
            ],
            [
             0.3333333333333333,
             "#9c179e"
            ],
            [
             0.4444444444444444,
             "#bd3786"
            ],
            [
             0.5555555555555556,
             "#d8576b"
            ],
            [
             0.6666666666666666,
             "#ed7953"
            ],
            [
             0.7777777777777778,
             "#fb9f3a"
            ],
            [
             0.8888888888888888,
             "#fdca26"
            ],
            [
             1,
             "#f0f921"
            ]
           ],
           "sequentialminus": [
            [
             0,
             "#0d0887"
            ],
            [
             0.1111111111111111,
             "#46039f"
            ],
            [
             0.2222222222222222,
             "#7201a8"
            ],
            [
             0.3333333333333333,
             "#9c179e"
            ],
            [
             0.4444444444444444,
             "#bd3786"
            ],
            [
             0.5555555555555556,
             "#d8576b"
            ],
            [
             0.6666666666666666,
             "#ed7953"
            ],
            [
             0.7777777777777778,
             "#fb9f3a"
            ],
            [
             0.8888888888888888,
             "#fdca26"
            ],
            [
             1,
             "#f0f921"
            ]
           ]
          },
          "colorway": [
           "#636efa",
           "#EF553B",
           "#00cc96",
           "#ab63fa",
           "#FFA15A",
           "#19d3f3",
           "#FF6692",
           "#B6E880",
           "#FF97FF",
           "#FECB52"
          ],
          "font": {
           "color": "#2a3f5f"
          },
          "geo": {
           "bgcolor": "white",
           "lakecolor": "white",
           "landcolor": "#E5ECF6",
           "showlakes": true,
           "showland": true,
           "subunitcolor": "white"
          },
          "hoverlabel": {
           "align": "left"
          },
          "hovermode": "closest",
          "mapbox": {
           "style": "light"
          },
          "paper_bgcolor": "white",
          "plot_bgcolor": "#E5ECF6",
          "polar": {
           "angularaxis": {
            "gridcolor": "white",
            "linecolor": "white",
            "ticks": ""
           },
           "bgcolor": "#E5ECF6",
           "radialaxis": {
            "gridcolor": "white",
            "linecolor": "white",
            "ticks": ""
           }
          },
          "scene": {
           "xaxis": {
            "backgroundcolor": "#E5ECF6",
            "gridcolor": "white",
            "gridwidth": 2,
            "linecolor": "white",
            "showbackground": true,
            "ticks": "",
            "zerolinecolor": "white"
           },
           "yaxis": {
            "backgroundcolor": "#E5ECF6",
            "gridcolor": "white",
            "gridwidth": 2,
            "linecolor": "white",
            "showbackground": true,
            "ticks": "",
            "zerolinecolor": "white"
           },
           "zaxis": {
            "backgroundcolor": "#E5ECF6",
            "gridcolor": "white",
            "gridwidth": 2,
            "linecolor": "white",
            "showbackground": true,
            "ticks": "",
            "zerolinecolor": "white"
           }
          },
          "shapedefaults": {
           "line": {
            "color": "#2a3f5f"
           }
          },
          "ternary": {
           "aaxis": {
            "gridcolor": "white",
            "linecolor": "white",
            "ticks": ""
           },
           "baxis": {
            "gridcolor": "white",
            "linecolor": "white",
            "ticks": ""
           },
           "bgcolor": "#E5ECF6",
           "caxis": {
            "gridcolor": "white",
            "linecolor": "white",
            "ticks": ""
           }
          },
          "title": {
           "x": 0.05
          },
          "xaxis": {
           "automargin": true,
           "gridcolor": "white",
           "linecolor": "white",
           "ticks": "",
           "title": {
            "standoff": 15
           },
           "zerolinecolor": "white",
           "zerolinewidth": 2
          },
          "yaxis": {
           "automargin": true,
           "gridcolor": "white",
           "linecolor": "white",
           "ticks": "",
           "title": {
            "standoff": 15
           },
           "zerolinecolor": "white",
           "zerolinewidth": 2
          }
         }
        },
        "title": {
         "font": {
          "color": "#4D5663"
         }
        },
        "xaxis": {
         "gridcolor": "#E1E5ED",
         "showgrid": true,
         "tickfont": {
          "color": "#4D5663"
         },
         "title": {
          "font": {
           "color": "#4D5663"
          },
          "text": ""
         },
         "zerolinecolor": "#E1E5ED"
        },
        "yaxis": {
         "gridcolor": "#E1E5ED",
         "showgrid": true,
         "tickfont": {
          "color": "#4D5663"
         },
         "title": {
          "font": {
           "color": "#4D5663"
          },
          "text": ""
         },
         "zerolinecolor": "#E1E5ED"
        }
       }
      },
      "text/html": [
       "<div>                            <div id=\"23f7a2e6-c9c8-430a-9f18-2ce4a4f38b81\" class=\"plotly-graph-div\" style=\"height:525px; width:100%;\"></div>            <script type=\"text/javascript\">                require([\"plotly\"], function(Plotly) {                    window.PLOTLYENV=window.PLOTLYENV || {};\n",
       "                    window.PLOTLYENV.BASE_URL='https://plot.ly';                                    if (document.getElementById(\"23f7a2e6-c9c8-430a-9f18-2ce4a4f38b81\")) {                    Plotly.newPlot(                        \"23f7a2e6-c9c8-430a-9f18-2ce4a4f38b81\",                        [{\"marker\": {\"color\": \"rgba(255, 153, 51, 0.6)\", \"line\": {\"color\": \"rgba(255, 153, 51, 1.0)\", \"width\": 1}}, \"name\": \"None\", \"orientation\": \"v\", \"text\": \"\", \"type\": \"bar\", \"x\": [\"A\", \"B\", \"C\", \"D\"], \"y\": [100, 100, 100, 100]}],                        {\"legend\": {\"bgcolor\": \"#F5F6F9\", \"font\": {\"color\": \"#4D5663\"}}, \"paper_bgcolor\": \"#F5F6F9\", \"plot_bgcolor\": \"#F5F6F9\", \"template\": {\"data\": {\"bar\": [{\"error_x\": {\"color\": \"#2a3f5f\"}, \"error_y\": {\"color\": \"#2a3f5f\"}, \"marker\": {\"line\": {\"color\": \"#E5ECF6\", \"width\": 0.5}}, \"type\": \"bar\"}], \"barpolar\": [{\"marker\": {\"line\": {\"color\": \"#E5ECF6\", \"width\": 0.5}}, \"type\": \"barpolar\"}], \"carpet\": [{\"aaxis\": {\"endlinecolor\": \"#2a3f5f\", \"gridcolor\": \"white\", \"linecolor\": \"white\", \"minorgridcolor\": \"white\", \"startlinecolor\": \"#2a3f5f\"}, \"baxis\": {\"endlinecolor\": \"#2a3f5f\", \"gridcolor\": \"white\", \"linecolor\": \"white\", \"minorgridcolor\": \"white\", \"startlinecolor\": \"#2a3f5f\"}, \"type\": \"carpet\"}], \"choropleth\": [{\"colorbar\": {\"outlinewidth\": 0, \"ticks\": \"\"}, \"type\": \"choropleth\"}], \"contour\": [{\"colorbar\": {\"outlinewidth\": 0, \"ticks\": \"\"}, \"colorscale\": [[0.0, \"#0d0887\"], [0.1111111111111111, \"#46039f\"], [0.2222222222222222, \"#7201a8\"], [0.3333333333333333, \"#9c179e\"], [0.4444444444444444, \"#bd3786\"], [0.5555555555555556, \"#d8576b\"], [0.6666666666666666, \"#ed7953\"], [0.7777777777777778, \"#fb9f3a\"], [0.8888888888888888, \"#fdca26\"], [1.0, \"#f0f921\"]], \"type\": \"contour\"}], \"contourcarpet\": [{\"colorbar\": {\"outlinewidth\": 0, \"ticks\": \"\"}, \"type\": \"contourcarpet\"}], \"heatmap\": [{\"colorbar\": {\"outlinewidth\": 0, \"ticks\": \"\"}, \"colorscale\": [[0.0, \"#0d0887\"], [0.1111111111111111, \"#46039f\"], [0.2222222222222222, \"#7201a8\"], [0.3333333333333333, \"#9c179e\"], [0.4444444444444444, \"#bd3786\"], [0.5555555555555556, \"#d8576b\"], [0.6666666666666666, \"#ed7953\"], [0.7777777777777778, \"#fb9f3a\"], [0.8888888888888888, \"#fdca26\"], [1.0, \"#f0f921\"]], \"type\": \"heatmap\"}], \"heatmapgl\": [{\"colorbar\": {\"outlinewidth\": 0, \"ticks\": \"\"}, \"colorscale\": [[0.0, \"#0d0887\"], [0.1111111111111111, \"#46039f\"], [0.2222222222222222, \"#7201a8\"], [0.3333333333333333, \"#9c179e\"], [0.4444444444444444, \"#bd3786\"], [0.5555555555555556, \"#d8576b\"], [0.6666666666666666, \"#ed7953\"], [0.7777777777777778, \"#fb9f3a\"], [0.8888888888888888, \"#fdca26\"], [1.0, \"#f0f921\"]], \"type\": \"heatmapgl\"}], \"histogram\": [{\"marker\": {\"colorbar\": {\"outlinewidth\": 0, \"ticks\": \"\"}}, \"type\": \"histogram\"}], \"histogram2d\": [{\"colorbar\": {\"outlinewidth\": 0, \"ticks\": \"\"}, \"colorscale\": [[0.0, \"#0d0887\"], [0.1111111111111111, \"#46039f\"], [0.2222222222222222, \"#7201a8\"], [0.3333333333333333, \"#9c179e\"], [0.4444444444444444, \"#bd3786\"], [0.5555555555555556, \"#d8576b\"], [0.6666666666666666, \"#ed7953\"], [0.7777777777777778, \"#fb9f3a\"], [0.8888888888888888, \"#fdca26\"], [1.0, \"#f0f921\"]], \"type\": \"histogram2d\"}], \"histogram2dcontour\": [{\"colorbar\": {\"outlinewidth\": 0, \"ticks\": \"\"}, \"colorscale\": [[0.0, \"#0d0887\"], [0.1111111111111111, \"#46039f\"], [0.2222222222222222, \"#7201a8\"], [0.3333333333333333, \"#9c179e\"], [0.4444444444444444, \"#bd3786\"], [0.5555555555555556, \"#d8576b\"], [0.6666666666666666, \"#ed7953\"], [0.7777777777777778, \"#fb9f3a\"], [0.8888888888888888, \"#fdca26\"], [1.0, \"#f0f921\"]], \"type\": \"histogram2dcontour\"}], \"mesh3d\": [{\"colorbar\": {\"outlinewidth\": 0, \"ticks\": \"\"}, \"type\": \"mesh3d\"}], \"parcoords\": [{\"line\": {\"colorbar\": {\"outlinewidth\": 0, \"ticks\": \"\"}}, \"type\": \"parcoords\"}], \"pie\": [{\"automargin\": true, \"type\": \"pie\"}], \"scatter\": [{\"marker\": {\"colorbar\": {\"outlinewidth\": 0, \"ticks\": \"\"}}, \"type\": \"scatter\"}], \"scatter3d\": [{\"line\": {\"colorbar\": {\"outlinewidth\": 0, \"ticks\": \"\"}}, \"marker\": {\"colorbar\": {\"outlinewidth\": 0, \"ticks\": \"\"}}, \"type\": \"scatter3d\"}], \"scattercarpet\": [{\"marker\": {\"colorbar\": {\"outlinewidth\": 0, \"ticks\": \"\"}}, \"type\": \"scattercarpet\"}], \"scattergeo\": [{\"marker\": {\"colorbar\": {\"outlinewidth\": 0, \"ticks\": \"\"}}, \"type\": \"scattergeo\"}], \"scattergl\": [{\"marker\": {\"colorbar\": {\"outlinewidth\": 0, \"ticks\": \"\"}}, \"type\": \"scattergl\"}], \"scattermapbox\": [{\"marker\": {\"colorbar\": {\"outlinewidth\": 0, \"ticks\": \"\"}}, \"type\": \"scattermapbox\"}], \"scatterpolar\": [{\"marker\": {\"colorbar\": {\"outlinewidth\": 0, \"ticks\": \"\"}}, \"type\": \"scatterpolar\"}], \"scatterpolargl\": [{\"marker\": {\"colorbar\": {\"outlinewidth\": 0, \"ticks\": \"\"}}, \"type\": \"scatterpolargl\"}], \"scatterternary\": [{\"marker\": {\"colorbar\": {\"outlinewidth\": 0, \"ticks\": \"\"}}, \"type\": \"scatterternary\"}], \"surface\": [{\"colorbar\": {\"outlinewidth\": 0, \"ticks\": \"\"}, \"colorscale\": [[0.0, \"#0d0887\"], [0.1111111111111111, \"#46039f\"], [0.2222222222222222, \"#7201a8\"], [0.3333333333333333, \"#9c179e\"], [0.4444444444444444, \"#bd3786\"], [0.5555555555555556, \"#d8576b\"], [0.6666666666666666, \"#ed7953\"], [0.7777777777777778, \"#fb9f3a\"], [0.8888888888888888, \"#fdca26\"], [1.0, \"#f0f921\"]], \"type\": \"surface\"}], \"table\": [{\"cells\": {\"fill\": {\"color\": \"#EBF0F8\"}, \"line\": {\"color\": \"white\"}}, \"header\": {\"fill\": {\"color\": \"#C8D4E3\"}, \"line\": {\"color\": \"white\"}}, \"type\": \"table\"}]}, \"layout\": {\"annotationdefaults\": {\"arrowcolor\": \"#2a3f5f\", \"arrowhead\": 0, \"arrowwidth\": 1}, \"autotypenumbers\": \"strict\", \"coloraxis\": {\"colorbar\": {\"outlinewidth\": 0, \"ticks\": \"\"}}, \"colorscale\": {\"diverging\": [[0, \"#8e0152\"], [0.1, \"#c51b7d\"], [0.2, \"#de77ae\"], [0.3, \"#f1b6da\"], [0.4, \"#fde0ef\"], [0.5, \"#f7f7f7\"], [0.6, \"#e6f5d0\"], [0.7, \"#b8e186\"], [0.8, \"#7fbc41\"], [0.9, \"#4d9221\"], [1, \"#276419\"]], \"sequential\": [[0.0, \"#0d0887\"], [0.1111111111111111, \"#46039f\"], [0.2222222222222222, \"#7201a8\"], [0.3333333333333333, \"#9c179e\"], [0.4444444444444444, \"#bd3786\"], [0.5555555555555556, \"#d8576b\"], [0.6666666666666666, \"#ed7953\"], [0.7777777777777778, \"#fb9f3a\"], [0.8888888888888888, \"#fdca26\"], [1.0, \"#f0f921\"]], \"sequentialminus\": [[0.0, \"#0d0887\"], [0.1111111111111111, \"#46039f\"], [0.2222222222222222, \"#7201a8\"], [0.3333333333333333, \"#9c179e\"], [0.4444444444444444, \"#bd3786\"], [0.5555555555555556, \"#d8576b\"], [0.6666666666666666, \"#ed7953\"], [0.7777777777777778, \"#fb9f3a\"], [0.8888888888888888, \"#fdca26\"], [1.0, \"#f0f921\"]]}, \"colorway\": [\"#636efa\", \"#EF553B\", \"#00cc96\", \"#ab63fa\", \"#FFA15A\", \"#19d3f3\", \"#FF6692\", \"#B6E880\", \"#FF97FF\", \"#FECB52\"], \"font\": {\"color\": \"#2a3f5f\"}, \"geo\": {\"bgcolor\": \"white\", \"lakecolor\": \"white\", \"landcolor\": \"#E5ECF6\", \"showlakes\": true, \"showland\": true, \"subunitcolor\": \"white\"}, \"hoverlabel\": {\"align\": \"left\"}, \"hovermode\": \"closest\", \"mapbox\": {\"style\": \"light\"}, \"paper_bgcolor\": \"white\", \"plot_bgcolor\": \"#E5ECF6\", \"polar\": {\"angularaxis\": {\"gridcolor\": \"white\", \"linecolor\": \"white\", \"ticks\": \"\"}, \"bgcolor\": \"#E5ECF6\", \"radialaxis\": {\"gridcolor\": \"white\", \"linecolor\": \"white\", \"ticks\": \"\"}}, \"scene\": {\"xaxis\": {\"backgroundcolor\": \"#E5ECF6\", \"gridcolor\": \"white\", \"gridwidth\": 2, \"linecolor\": \"white\", \"showbackground\": true, \"ticks\": \"\", \"zerolinecolor\": \"white\"}, \"yaxis\": {\"backgroundcolor\": \"#E5ECF6\", \"gridcolor\": \"white\", \"gridwidth\": 2, \"linecolor\": \"white\", \"showbackground\": true, \"ticks\": \"\", \"zerolinecolor\": \"white\"}, \"zaxis\": {\"backgroundcolor\": \"#E5ECF6\", \"gridcolor\": \"white\", \"gridwidth\": 2, \"linecolor\": \"white\", \"showbackground\": true, \"ticks\": \"\", \"zerolinecolor\": \"white\"}}, \"shapedefaults\": {\"line\": {\"color\": \"#2a3f5f\"}}, \"ternary\": {\"aaxis\": {\"gridcolor\": \"white\", \"linecolor\": \"white\", \"ticks\": \"\"}, \"baxis\": {\"gridcolor\": \"white\", \"linecolor\": \"white\", \"ticks\": \"\"}, \"bgcolor\": \"#E5ECF6\", \"caxis\": {\"gridcolor\": \"white\", \"linecolor\": \"white\", \"ticks\": \"\"}}, \"title\": {\"x\": 0.05}, \"xaxis\": {\"automargin\": true, \"gridcolor\": \"white\", \"linecolor\": \"white\", \"ticks\": \"\", \"title\": {\"standoff\": 15}, \"zerolinecolor\": \"white\", \"zerolinewidth\": 2}, \"yaxis\": {\"automargin\": true, \"gridcolor\": \"white\", \"linecolor\": \"white\", \"ticks\": \"\", \"title\": {\"standoff\": 15}, \"zerolinecolor\": \"white\", \"zerolinewidth\": 2}}}, \"title\": {\"font\": {\"color\": \"#4D5663\"}}, \"xaxis\": {\"gridcolor\": \"#E1E5ED\", \"showgrid\": true, \"tickfont\": {\"color\": \"#4D5663\"}, \"title\": {\"font\": {\"color\": \"#4D5663\"}, \"text\": \"\"}, \"zerolinecolor\": \"#E1E5ED\"}, \"yaxis\": {\"gridcolor\": \"#E1E5ED\", \"showgrid\": true, \"tickfont\": {\"color\": \"#4D5663\"}, \"title\": {\"font\": {\"color\": \"#4D5663\"}, \"text\": \"\"}, \"zerolinecolor\": \"#E1E5ED\"}},                        {\"showLink\": true, \"linkText\": \"Export to plot.ly\", \"plotlyServerURL\": \"https://plot.ly\", \"responsive\": true}                    ).then(function(){\n",
       "                            \n",
       "var gd = document.getElementById('23f7a2e6-c9c8-430a-9f18-2ce4a4f38b81');\n",
       "var x = new MutationObserver(function (mutations, observer) {{\n",
       "        var display = window.getComputedStyle(gd).display;\n",
       "        if (!display || display === 'none') {{\n",
       "            console.log([gd, 'removed!']);\n",
       "            Plotly.purge(gd);\n",
       "            observer.disconnect();\n",
       "        }}\n",
       "}});\n",
       "\n",
       "// Listen for the removal of the full notebook cells\n",
       "var notebookContainer = gd.closest('#notebook-container');\n",
       "if (notebookContainer) {{\n",
       "    x.observe(notebookContainer, {childList: true});\n",
       "}}\n",
       "\n",
       "// Listen for the clearing of the current output cell\n",
       "var outputEl = gd.closest('.output');\n",
       "if (outputEl) {{\n",
       "    x.observe(outputEl, {childList: true});\n",
       "}}\n",
       "\n",
       "                        })                };                });            </script>        </div>"
      ]
     },
     "metadata": {},
     "output_type": "display_data"
    }
   ],
   "source": [
    "df.count().iplot(kind='bar')"
   ]
  },
  {
   "cell_type": "markdown",
   "metadata": {},
   "source": [
    "## Boxplots"
   ]
  },
  {
   "cell_type": "code",
   "execution_count": 18,
   "metadata": {},
   "outputs": [
    {
     "data": {
      "application/vnd.plotly.v1+json": {
       "config": {
        "linkText": "Export to plot.ly",
        "plotlyServerURL": "https://plot.ly",
        "showLink": true
       },
       "data": [
        {
         "boxpoints": false,
         "line": {
          "width": 1.3
         },
         "marker": {
          "color": "rgba(255, 153, 51, 1.0)"
         },
         "name": "A",
         "orientation": "v",
         "type": "box",
         "y": [
          -0.39249119533846083,
          -1.3888802447524282,
          0.9320187198753848,
          0.694353564039704,
          0.7344257361752629,
          -1.2230733342365738,
          -0.8244809005601621,
          0.7162297255286217,
          0.2165294575147262,
          -0.2408870384182345,
          1.1114063553829503,
          0.11623195119570866,
          0.11865011429650428,
          0.6419190655473598,
          0.5924914375347973,
          -1.5309904914242096,
          -1.0144836912833508,
          0.17787108284173206,
          1.1945581244349286,
          1.2415482353883005,
          -0.4112001758408989,
          1.7949556218804894,
          0.9533968117682318,
          -0.05388169104593645,
          0.24708490471611128,
          0.25877047914625495,
          0.48537772746154373,
          -0.6316121968562575,
          0.06979028490490342,
          0.19179517799331644,
          -1.6389060193460128,
          0.9568316005620361,
          0.26717277970941045,
          -0.3026993847893387,
          1.1358386331024715,
          0.10544743176293345,
          -0.3299778399054059,
          0.27100520046695425,
          0.06640897537997871,
          1.2022134310294064,
          -0.8275038600805332,
          -1.8297538154580024,
          0.6949224280793794,
          -0.5453678996930036,
          1.0511010453471554,
          0.5928559996789496,
          -0.06112588854125373,
          -0.33259830544963653,
          -0.9095544388303258,
          -0.06519574555535969,
          -0.7396712807137552,
          -0.7972607228576862,
          0.8992819989759496,
          -0.48843079131869044,
          0.6247337472023909,
          -0.04368661259913243,
          1.0707374155366922,
          -1.2750425970263084,
          -2.1286830059622077,
          -0.16041042808617528,
          0.8995574231400747,
          -1.1093579889045484,
          0.24647782191751233,
          0.1622166523400865,
          -1.9262665166541684,
          -0.11425757020942486,
          1.6970107669806103,
          -0.5660708839996262,
          -0.5255668865650605,
          -0.013986122764662883,
          -0.7297632456108951,
          1.4244002945727672,
          -1.77433674788825,
          -0.5638562033370994,
          -0.5015545170673178,
          -1.5485746003489604,
          -0.42447048714593744,
          0.5227658730223655,
          -1.5510798620613335,
          -0.4326482754580784,
          -0.19418294085652998,
          2.320301562215529,
          0.6421355412935974,
          1.0132407626820426,
          0.8751950847102844,
          0.06786618667413867,
          -1.1957715770422013,
          -0.8756342227097039,
          0.8339918704633829,
          -0.9198970809358937,
          -1.3972272495036677,
          1.023120644082157,
          -1.457450824800944,
          -0.16951331764207347,
          -1.129058458402131,
          2.127667416680669,
          -0.8176154890128692,
          1.2109557386846754,
          -0.30743944371779625,
          0.16609731130823885
         ]
        },
        {
         "boxpoints": false,
         "line": {
          "width": 1.3
         },
         "marker": {
          "color": "rgba(55, 128, 191, 1.0)"
         },
         "name": "B",
         "orientation": "v",
         "type": "box",
         "y": [
          0.10480144276968774,
          -2.2448421163275762,
          -0.10385752502981002,
          0.07587343198180303,
          0.8253080764609732,
          -0.46590149353816884,
          1.720000398792707,
          0.04699268025148138,
          0.6888697082875861,
          -1.5391049448586651,
          1.531707361237052,
          -0.09993967946466119,
          -1.254504242294646,
          -1.2205349028615027,
          1.0727852640083417,
          2.567033067274972,
          -0.6521242358147255,
          1.18401797836042,
          0.5975387129010653,
          1.1964442867936949,
          2.160759870882936,
          -0.08331842428728174,
          -1.5832430789407055,
          -0.47278583853194756,
          -0.8189897202884268,
          0.5523291035570072,
          0.6360732149381493,
          0.6078394093485547,
          -1.524513836860753,
          0.019809751507857323,
          0.36345148832240715,
          0.5229061031796399,
          -1.397573910854617,
          0.5051465500992074,
          2.74628313657978,
          0.8120454689264269,
          -1.2650901112701955,
          1.232961382327399,
          -0.3204634182661983,
          1.7667021889194712,
          -0.5183017375342086,
          0.9557565205566079,
          -0.8086490205068385,
          -0.45212422534360897,
          1.2309789313304136,
          -1.3160441618070073,
          -2.0787989453683213,
          -0.2514029947741344,
          0.9867684647074665,
          -2.1990333320540243,
          -0.34497633052762716,
          0.8639628692687408,
          -0.21389997301921213,
          1.0066686519064196,
          0.015285295518240219,
          0.16553727871273421,
          -0.3422559844465687,
          0.18582729884952723,
          -0.5185663434101322,
          0.18913410433325986,
          0.39113332341307633,
          -0.18854993521329608,
          -0.14869197202417253,
          -1.1771622810743556,
          1.3307583915936658,
          -1.0811490526736167,
          1.0091713921321324,
          -0.04562912974048219,
          -0.44860879206069726,
          -0.875699653930691,
          -0.9595772536161237,
          2.2610482349970145,
          0.673684214746933,
          0.3855515807541555,
          -0.5870000829314124,
          -0.6238089402650726,
          1.8241779691481275,
          1.3040691198754766,
          1.4022082707660175,
          -0.02802869965795411,
          -1.3025100590842051,
          0.42446491321503954,
          -1.332092580693879,
          0.24818581948371962,
          -0.5430116861802801,
          -0.25308285294068034,
          -0.7847086131345495,
          0.09962225805782671,
          -0.4468545812432021,
          -1.3879365467126263,
          -1.8354406655645414,
          0.20141758971530174,
          0.6401032427603514,
          0.16832901628415473,
          0.3181880472684637,
          -0.5806466226491991,
          0.6052428295290574,
          2.367193516786903,
          -1.430962307666061,
          1.322035884985864
         ]
        },
        {
         "boxpoints": false,
         "line": {
          "width": 1.3
         },
         "marker": {
          "color": "rgba(50, 171, 96, 1.0)"
         },
         "name": "C",
         "orientation": "v",
         "type": "box",
         "y": [
          1.262553816272815,
          -1.1312557642920869,
          -1.1781643467734917,
          -0.040049755965456645,
          0.3775276948122276,
          -0.1835377139042649,
          3.2845053496903334,
          -0.17001909195977002,
          1.2723768678324126,
          0.11515065592126898,
          -0.09795599482709719,
          -0.315118246635823,
          0.1303795582218475,
          0.1934309273749824,
          -0.15700279297617625,
          0.1355005381328716,
          -0.36170610267805064,
          -0.7296906375113784,
          0.967917008890089,
          0.08101502544623371,
          -0.7121024219343551,
          0.25150715334657064,
          1.3207142931406897,
          -0.7640006693031689,
          -2.0419995307825802,
          0.8557271987160892,
          -0.2667276886830243,
          0.2556003823611708,
          -0.1404043230126173,
          0.06946071379905819,
          -0.48265634382018247,
          0.38991158300036804,
          1.1514677316517041,
          0.04327112231623401,
          0.16999677247215608,
          -1.301362660406228,
          -0.4389181617111678,
          -0.2741905611165989,
          -0.8800900233876539,
          -1.1340494603714055,
          0.6664892396325672,
          -1.8055961576689588,
          1.321351407120175,
          1.4250517922344206,
          1.3472459104122083,
          -0.004453262139512292,
          0.7490165419436738,
          0.7194009489746745,
          -1.3110385371336761,
          -0.44112586565230005,
          -2.1706587330360105,
          -1.0409700261702066,
          -1.4548992791934483,
          -0.2549378491600471,
          0.15441372440608092,
          0.2971687002806099,
          -0.34980117477422745,
          -0.950796048165758,
          0.8110675981560487,
          -0.47315604585092913,
          -0.6644216823215673,
          0.18540603803740488,
          -1.1679486757592947,
          -0.9289797647673192,
          -1.7675116350142936,
          0.8678474620139809,
          2.0967793770906322,
          -0.08152292625404282,
          0.2554994751702368,
          -0.4943892750842958,
          1.270761433397232,
          -2.5825683776574135,
          -0.46722176713795577,
          1.9218430644214242,
          0.1089838289729727,
          0.6945648693019376,
          1.3355507057913318,
          -0.8645998266815484,
          0.6898737364799554,
          -0.6081416493163475,
          -0.6789194788399318,
          0.9008873933257342,
          1.3601004837458617,
          -0.5920848140497326,
          -0.5917390162676318,
          -0.0666286771665744,
          -0.06253202279846254,
          1.5049696631772043,
          -0.23985914874085418,
          -0.9898416201349332,
          -0.5967129176045103,
          -0.05223050061835646,
          -0.8017070028742392,
          0.7027432376554948,
          -0.749255610086444,
          -0.6053289414724052,
          -1.3322298257831455,
          0.1653817387832196,
          -1.4808261546521626,
          -1.6107761066626145
         ]
        },
        {
         "boxpoints": false,
         "line": {
          "width": 1.3
         },
         "marker": {
          "color": "rgba(128, 0, 128, 1.0)"
         },
         "name": "D",
         "orientation": "v",
         "type": "box",
         "y": [
          -1.5358627875003739,
          0.06548290336662309,
          -0.8079937212589396,
          -0.6440551079816648,
          -0.040769064291493434,
          0.18714145228738116,
          -0.054901915594329616,
          -0.3643694822485636,
          1.146609059044325,
          1.0192292972838897,
          0.895097874011055,
          -2.383937229455519,
          -2.542843656486311,
          1.2960827540249615,
          1.0723567212065517,
          -0.6507274922468583,
          -0.29293379375665585,
          0.3460315198837977,
          -0.09962138708788137,
          1.1939042771345394,
          -0.47218918626376266,
          -1.62969939297132,
          -0.5566240014855384,
          -0.24481130346445587,
          0.562605618427525,
          -0.8482663035942708,
          -0.670587067739321,
          -2.3318080258655596,
          -0.615926835103948,
          0.3210035162003755,
          1.031682174420211,
          0.6254573040796039,
          0.9372397290889352,
          -0.9757589876634554,
          -1.1100950292047358,
          0.5066657285885308,
          -1.2420928695653852,
          -0.42320781681759534,
          -0.5218466201269218,
          -0.050456628261667455,
          -0.8296913187279658,
          -1.3290266063019278,
          -1.4775658985607254,
          -0.8781983454919082,
          0.9879607729666382,
          1.016597645161363,
          0.369600471833716,
          -0.883274953133442,
          -1.2952266725962698,
          -0.24594961730833692,
          -0.2741775354424396,
          0.03204721204159266,
          0.5580925732828539,
          -0.36955433697025497,
          -0.9799433295112487,
          0.07598562686524854,
          -0.30926100523398176,
          1.8001282128534324,
          -0.09616649611101727,
          -0.9095300492922991,
          -0.8747134737168203,
          0.7287346795419107,
          0.8896795463867703,
          -0.13183711628422762,
          1.5212968665174014,
          -0.10200381107198399,
          -0.027319829348091886,
          -0.18124818094030268,
          -0.5983209667738654,
          1.1896826215735987,
          -1.460386729170942,
          1.110808064789999,
          0.024611131521987014,
          0.6949332321192025,
          -0.9332432718000083,
          0.6927311054497955,
          -0.0428582712371396,
          -0.6085795683215991,
          0.8675058278177395,
          1.2217752261253048,
          0.6725150690847547,
          0.38187648956293124,
          -0.3249963627140331,
          -0.8953924669590061,
          -0.6843153532339907,
          0.615350101819938,
          0.6526633943573716,
          -0.6110226975148664,
          -0.5440619610659326,
          -1.2287517540107722,
          0.4336478708056217,
          -0.25584838718160796,
          0.27413404970423416,
          -0.03315047515053486,
          0.006506711124766794,
          -0.01964487911993876,
          -0.7686623781963896,
          -0.6975844031157828,
          -0.04654454869085646,
          -0.10655674043640209
         ]
        }
       ],
       "layout": {
        "legend": {
         "bgcolor": "#F5F6F9",
         "font": {
          "color": "#4D5663"
         }
        },
        "paper_bgcolor": "#F5F6F9",
        "plot_bgcolor": "#F5F6F9",
        "template": {
         "data": {
          "bar": [
           {
            "error_x": {
             "color": "#2a3f5f"
            },
            "error_y": {
             "color": "#2a3f5f"
            },
            "marker": {
             "line": {
              "color": "#E5ECF6",
              "width": 0.5
             }
            },
            "type": "bar"
           }
          ],
          "barpolar": [
           {
            "marker": {
             "line": {
              "color": "#E5ECF6",
              "width": 0.5
             }
            },
            "type": "barpolar"
           }
          ],
          "carpet": [
           {
            "aaxis": {
             "endlinecolor": "#2a3f5f",
             "gridcolor": "white",
             "linecolor": "white",
             "minorgridcolor": "white",
             "startlinecolor": "#2a3f5f"
            },
            "baxis": {
             "endlinecolor": "#2a3f5f",
             "gridcolor": "white",
             "linecolor": "white",
             "minorgridcolor": "white",
             "startlinecolor": "#2a3f5f"
            },
            "type": "carpet"
           }
          ],
          "choropleth": [
           {
            "colorbar": {
             "outlinewidth": 0,
             "ticks": ""
            },
            "type": "choropleth"
           }
          ],
          "contour": [
           {
            "colorbar": {
             "outlinewidth": 0,
             "ticks": ""
            },
            "colorscale": [
             [
              0,
              "#0d0887"
             ],
             [
              0.1111111111111111,
              "#46039f"
             ],
             [
              0.2222222222222222,
              "#7201a8"
             ],
             [
              0.3333333333333333,
              "#9c179e"
             ],
             [
              0.4444444444444444,
              "#bd3786"
             ],
             [
              0.5555555555555556,
              "#d8576b"
             ],
             [
              0.6666666666666666,
              "#ed7953"
             ],
             [
              0.7777777777777778,
              "#fb9f3a"
             ],
             [
              0.8888888888888888,
              "#fdca26"
             ],
             [
              1,
              "#f0f921"
             ]
            ],
            "type": "contour"
           }
          ],
          "contourcarpet": [
           {
            "colorbar": {
             "outlinewidth": 0,
             "ticks": ""
            },
            "type": "contourcarpet"
           }
          ],
          "heatmap": [
           {
            "colorbar": {
             "outlinewidth": 0,
             "ticks": ""
            },
            "colorscale": [
             [
              0,
              "#0d0887"
             ],
             [
              0.1111111111111111,
              "#46039f"
             ],
             [
              0.2222222222222222,
              "#7201a8"
             ],
             [
              0.3333333333333333,
              "#9c179e"
             ],
             [
              0.4444444444444444,
              "#bd3786"
             ],
             [
              0.5555555555555556,
              "#d8576b"
             ],
             [
              0.6666666666666666,
              "#ed7953"
             ],
             [
              0.7777777777777778,
              "#fb9f3a"
             ],
             [
              0.8888888888888888,
              "#fdca26"
             ],
             [
              1,
              "#f0f921"
             ]
            ],
            "type": "heatmap"
           }
          ],
          "heatmapgl": [
           {
            "colorbar": {
             "outlinewidth": 0,
             "ticks": ""
            },
            "colorscale": [
             [
              0,
              "#0d0887"
             ],
             [
              0.1111111111111111,
              "#46039f"
             ],
             [
              0.2222222222222222,
              "#7201a8"
             ],
             [
              0.3333333333333333,
              "#9c179e"
             ],
             [
              0.4444444444444444,
              "#bd3786"
             ],
             [
              0.5555555555555556,
              "#d8576b"
             ],
             [
              0.6666666666666666,
              "#ed7953"
             ],
             [
              0.7777777777777778,
              "#fb9f3a"
             ],
             [
              0.8888888888888888,
              "#fdca26"
             ],
             [
              1,
              "#f0f921"
             ]
            ],
            "type": "heatmapgl"
           }
          ],
          "histogram": [
           {
            "marker": {
             "colorbar": {
              "outlinewidth": 0,
              "ticks": ""
             }
            },
            "type": "histogram"
           }
          ],
          "histogram2d": [
           {
            "colorbar": {
             "outlinewidth": 0,
             "ticks": ""
            },
            "colorscale": [
             [
              0,
              "#0d0887"
             ],
             [
              0.1111111111111111,
              "#46039f"
             ],
             [
              0.2222222222222222,
              "#7201a8"
             ],
             [
              0.3333333333333333,
              "#9c179e"
             ],
             [
              0.4444444444444444,
              "#bd3786"
             ],
             [
              0.5555555555555556,
              "#d8576b"
             ],
             [
              0.6666666666666666,
              "#ed7953"
             ],
             [
              0.7777777777777778,
              "#fb9f3a"
             ],
             [
              0.8888888888888888,
              "#fdca26"
             ],
             [
              1,
              "#f0f921"
             ]
            ],
            "type": "histogram2d"
           }
          ],
          "histogram2dcontour": [
           {
            "colorbar": {
             "outlinewidth": 0,
             "ticks": ""
            },
            "colorscale": [
             [
              0,
              "#0d0887"
             ],
             [
              0.1111111111111111,
              "#46039f"
             ],
             [
              0.2222222222222222,
              "#7201a8"
             ],
             [
              0.3333333333333333,
              "#9c179e"
             ],
             [
              0.4444444444444444,
              "#bd3786"
             ],
             [
              0.5555555555555556,
              "#d8576b"
             ],
             [
              0.6666666666666666,
              "#ed7953"
             ],
             [
              0.7777777777777778,
              "#fb9f3a"
             ],
             [
              0.8888888888888888,
              "#fdca26"
             ],
             [
              1,
              "#f0f921"
             ]
            ],
            "type": "histogram2dcontour"
           }
          ],
          "mesh3d": [
           {
            "colorbar": {
             "outlinewidth": 0,
             "ticks": ""
            },
            "type": "mesh3d"
           }
          ],
          "parcoords": [
           {
            "line": {
             "colorbar": {
              "outlinewidth": 0,
              "ticks": ""
             }
            },
            "type": "parcoords"
           }
          ],
          "pie": [
           {
            "automargin": true,
            "type": "pie"
           }
          ],
          "scatter": [
           {
            "marker": {
             "colorbar": {
              "outlinewidth": 0,
              "ticks": ""
             }
            },
            "type": "scatter"
           }
          ],
          "scatter3d": [
           {
            "line": {
             "colorbar": {
              "outlinewidth": 0,
              "ticks": ""
             }
            },
            "marker": {
             "colorbar": {
              "outlinewidth": 0,
              "ticks": ""
             }
            },
            "type": "scatter3d"
           }
          ],
          "scattercarpet": [
           {
            "marker": {
             "colorbar": {
              "outlinewidth": 0,
              "ticks": ""
             }
            },
            "type": "scattercarpet"
           }
          ],
          "scattergeo": [
           {
            "marker": {
             "colorbar": {
              "outlinewidth": 0,
              "ticks": ""
             }
            },
            "type": "scattergeo"
           }
          ],
          "scattergl": [
           {
            "marker": {
             "colorbar": {
              "outlinewidth": 0,
              "ticks": ""
             }
            },
            "type": "scattergl"
           }
          ],
          "scattermapbox": [
           {
            "marker": {
             "colorbar": {
              "outlinewidth": 0,
              "ticks": ""
             }
            },
            "type": "scattermapbox"
           }
          ],
          "scatterpolar": [
           {
            "marker": {
             "colorbar": {
              "outlinewidth": 0,
              "ticks": ""
             }
            },
            "type": "scatterpolar"
           }
          ],
          "scatterpolargl": [
           {
            "marker": {
             "colorbar": {
              "outlinewidth": 0,
              "ticks": ""
             }
            },
            "type": "scatterpolargl"
           }
          ],
          "scatterternary": [
           {
            "marker": {
             "colorbar": {
              "outlinewidth": 0,
              "ticks": ""
             }
            },
            "type": "scatterternary"
           }
          ],
          "surface": [
           {
            "colorbar": {
             "outlinewidth": 0,
             "ticks": ""
            },
            "colorscale": [
             [
              0,
              "#0d0887"
             ],
             [
              0.1111111111111111,
              "#46039f"
             ],
             [
              0.2222222222222222,
              "#7201a8"
             ],
             [
              0.3333333333333333,
              "#9c179e"
             ],
             [
              0.4444444444444444,
              "#bd3786"
             ],
             [
              0.5555555555555556,
              "#d8576b"
             ],
             [
              0.6666666666666666,
              "#ed7953"
             ],
             [
              0.7777777777777778,
              "#fb9f3a"
             ],
             [
              0.8888888888888888,
              "#fdca26"
             ],
             [
              1,
              "#f0f921"
             ]
            ],
            "type": "surface"
           }
          ],
          "table": [
           {
            "cells": {
             "fill": {
              "color": "#EBF0F8"
             },
             "line": {
              "color": "white"
             }
            },
            "header": {
             "fill": {
              "color": "#C8D4E3"
             },
             "line": {
              "color": "white"
             }
            },
            "type": "table"
           }
          ]
         },
         "layout": {
          "annotationdefaults": {
           "arrowcolor": "#2a3f5f",
           "arrowhead": 0,
           "arrowwidth": 1
          },
          "autotypenumbers": "strict",
          "coloraxis": {
           "colorbar": {
            "outlinewidth": 0,
            "ticks": ""
           }
          },
          "colorscale": {
           "diverging": [
            [
             0,
             "#8e0152"
            ],
            [
             0.1,
             "#c51b7d"
            ],
            [
             0.2,
             "#de77ae"
            ],
            [
             0.3,
             "#f1b6da"
            ],
            [
             0.4,
             "#fde0ef"
            ],
            [
             0.5,
             "#f7f7f7"
            ],
            [
             0.6,
             "#e6f5d0"
            ],
            [
             0.7,
             "#b8e186"
            ],
            [
             0.8,
             "#7fbc41"
            ],
            [
             0.9,
             "#4d9221"
            ],
            [
             1,
             "#276419"
            ]
           ],
           "sequential": [
            [
             0,
             "#0d0887"
            ],
            [
             0.1111111111111111,
             "#46039f"
            ],
            [
             0.2222222222222222,
             "#7201a8"
            ],
            [
             0.3333333333333333,
             "#9c179e"
            ],
            [
             0.4444444444444444,
             "#bd3786"
            ],
            [
             0.5555555555555556,
             "#d8576b"
            ],
            [
             0.6666666666666666,
             "#ed7953"
            ],
            [
             0.7777777777777778,
             "#fb9f3a"
            ],
            [
             0.8888888888888888,
             "#fdca26"
            ],
            [
             1,
             "#f0f921"
            ]
           ],
           "sequentialminus": [
            [
             0,
             "#0d0887"
            ],
            [
             0.1111111111111111,
             "#46039f"
            ],
            [
             0.2222222222222222,
             "#7201a8"
            ],
            [
             0.3333333333333333,
             "#9c179e"
            ],
            [
             0.4444444444444444,
             "#bd3786"
            ],
            [
             0.5555555555555556,
             "#d8576b"
            ],
            [
             0.6666666666666666,
             "#ed7953"
            ],
            [
             0.7777777777777778,
             "#fb9f3a"
            ],
            [
             0.8888888888888888,
             "#fdca26"
            ],
            [
             1,
             "#f0f921"
            ]
           ]
          },
          "colorway": [
           "#636efa",
           "#EF553B",
           "#00cc96",
           "#ab63fa",
           "#FFA15A",
           "#19d3f3",
           "#FF6692",
           "#B6E880",
           "#FF97FF",
           "#FECB52"
          ],
          "font": {
           "color": "#2a3f5f"
          },
          "geo": {
           "bgcolor": "white",
           "lakecolor": "white",
           "landcolor": "#E5ECF6",
           "showlakes": true,
           "showland": true,
           "subunitcolor": "white"
          },
          "hoverlabel": {
           "align": "left"
          },
          "hovermode": "closest",
          "mapbox": {
           "style": "light"
          },
          "paper_bgcolor": "white",
          "plot_bgcolor": "#E5ECF6",
          "polar": {
           "angularaxis": {
            "gridcolor": "white",
            "linecolor": "white",
            "ticks": ""
           },
           "bgcolor": "#E5ECF6",
           "radialaxis": {
            "gridcolor": "white",
            "linecolor": "white",
            "ticks": ""
           }
          },
          "scene": {
           "xaxis": {
            "backgroundcolor": "#E5ECF6",
            "gridcolor": "white",
            "gridwidth": 2,
            "linecolor": "white",
            "showbackground": true,
            "ticks": "",
            "zerolinecolor": "white"
           },
           "yaxis": {
            "backgroundcolor": "#E5ECF6",
            "gridcolor": "white",
            "gridwidth": 2,
            "linecolor": "white",
            "showbackground": true,
            "ticks": "",
            "zerolinecolor": "white"
           },
           "zaxis": {
            "backgroundcolor": "#E5ECF6",
            "gridcolor": "white",
            "gridwidth": 2,
            "linecolor": "white",
            "showbackground": true,
            "ticks": "",
            "zerolinecolor": "white"
           }
          },
          "shapedefaults": {
           "line": {
            "color": "#2a3f5f"
           }
          },
          "ternary": {
           "aaxis": {
            "gridcolor": "white",
            "linecolor": "white",
            "ticks": ""
           },
           "baxis": {
            "gridcolor": "white",
            "linecolor": "white",
            "ticks": ""
           },
           "bgcolor": "#E5ECF6",
           "caxis": {
            "gridcolor": "white",
            "linecolor": "white",
            "ticks": ""
           }
          },
          "title": {
           "x": 0.05
          },
          "xaxis": {
           "automargin": true,
           "gridcolor": "white",
           "linecolor": "white",
           "ticks": "",
           "title": {
            "standoff": 15
           },
           "zerolinecolor": "white",
           "zerolinewidth": 2
          },
          "yaxis": {
           "automargin": true,
           "gridcolor": "white",
           "linecolor": "white",
           "ticks": "",
           "title": {
            "standoff": 15
           },
           "zerolinecolor": "white",
           "zerolinewidth": 2
          }
         }
        },
        "title": {
         "font": {
          "color": "#4D5663"
         }
        },
        "xaxis": {
         "gridcolor": "#E1E5ED",
         "showgrid": true,
         "tickfont": {
          "color": "#4D5663"
         },
         "title": {
          "font": {
           "color": "#4D5663"
          },
          "text": ""
         },
         "zerolinecolor": "#E1E5ED"
        },
        "yaxis": {
         "gridcolor": "#E1E5ED",
         "showgrid": true,
         "tickfont": {
          "color": "#4D5663"
         },
         "title": {
          "font": {
           "color": "#4D5663"
          },
          "text": ""
         },
         "zerolinecolor": "#E1E5ED"
        }
       }
      },
      "text/html": [
       "<div>                            <div id=\"550dcbf8-2a16-4ce5-8176-999d7501d541\" class=\"plotly-graph-div\" style=\"height:525px; width:100%;\"></div>            <script type=\"text/javascript\">                require([\"plotly\"], function(Plotly) {                    window.PLOTLYENV=window.PLOTLYENV || {};\n",
       "                    window.PLOTLYENV.BASE_URL='https://plot.ly';                                    if (document.getElementById(\"550dcbf8-2a16-4ce5-8176-999d7501d541\")) {                    Plotly.newPlot(                        \"550dcbf8-2a16-4ce5-8176-999d7501d541\",                        [{\"boxpoints\": false, \"line\": {\"width\": 1.3}, \"marker\": {\"color\": \"rgba(255, 153, 51, 1.0)\"}, \"name\": \"A\", \"orientation\": \"v\", \"type\": \"box\", \"y\": [-0.39249119533846083, -1.3888802447524282, 0.9320187198753848, 0.694353564039704, 0.7344257361752629, -1.2230733342365738, -0.8244809005601621, 0.7162297255286217, 0.2165294575147262, -0.2408870384182345, 1.1114063553829503, 0.11623195119570866, 0.11865011429650428, 0.6419190655473598, 0.5924914375347973, -1.5309904914242096, -1.0144836912833508, 0.17787108284173206, 1.1945581244349286, 1.2415482353883005, -0.4112001758408989, 1.7949556218804894, 0.9533968117682318, -0.05388169104593645, 0.24708490471611128, 0.25877047914625495, 0.48537772746154373, -0.6316121968562575, 0.06979028490490342, 0.19179517799331644, -1.6389060193460128, 0.9568316005620361, 0.26717277970941045, -0.3026993847893387, 1.1358386331024715, 0.10544743176293345, -0.3299778399054059, 0.27100520046695425, 0.06640897537997871, 1.2022134310294064, -0.8275038600805332, -1.8297538154580024, 0.6949224280793794, -0.5453678996930036, 1.0511010453471554, 0.5928559996789496, -0.06112588854125373, -0.33259830544963653, -0.9095544388303258, -0.06519574555535969, -0.7396712807137552, -0.7972607228576862, 0.8992819989759496, -0.48843079131869044, 0.6247337472023909, -0.04368661259913243, 1.0707374155366922, -1.2750425970263084, -2.1286830059622077, -0.16041042808617528, 0.8995574231400747, -1.1093579889045484, 0.24647782191751233, 0.1622166523400865, -1.9262665166541684, -0.11425757020942486, 1.6970107669806103, -0.5660708839996262, -0.5255668865650605, -0.013986122764662883, -0.7297632456108951, 1.4244002945727672, -1.77433674788825, -0.5638562033370994, -0.5015545170673178, -1.5485746003489604, -0.42447048714593744, 0.5227658730223655, -1.5510798620613335, -0.4326482754580784, -0.19418294085652998, 2.320301562215529, 0.6421355412935974, 1.0132407626820426, 0.8751950847102844, 0.06786618667413867, -1.1957715770422013, -0.8756342227097039, 0.8339918704633829, -0.9198970809358937, -1.3972272495036677, 1.023120644082157, -1.457450824800944, -0.16951331764207347, -1.129058458402131, 2.127667416680669, -0.8176154890128692, 1.2109557386846754, -0.30743944371779625, 0.16609731130823885]}, {\"boxpoints\": false, \"line\": {\"width\": 1.3}, \"marker\": {\"color\": \"rgba(55, 128, 191, 1.0)\"}, \"name\": \"B\", \"orientation\": \"v\", \"type\": \"box\", \"y\": [0.10480144276968774, -2.2448421163275762, -0.10385752502981002, 0.07587343198180303, 0.8253080764609732, -0.46590149353816884, 1.720000398792707, 0.04699268025148138, 0.6888697082875861, -1.5391049448586651, 1.531707361237052, -0.09993967946466119, -1.254504242294646, -1.2205349028615027, 1.0727852640083417, 2.567033067274972, -0.6521242358147255, 1.18401797836042, 0.5975387129010653, 1.1964442867936949, 2.160759870882936, -0.08331842428728174, -1.5832430789407055, -0.47278583853194756, -0.8189897202884268, 0.5523291035570072, 0.6360732149381493, 0.6078394093485547, -1.524513836860753, 0.019809751507857323, 0.36345148832240715, 0.5229061031796399, -1.397573910854617, 0.5051465500992074, 2.74628313657978, 0.8120454689264269, -1.2650901112701955, 1.232961382327399, -0.3204634182661983, 1.7667021889194712, -0.5183017375342086, 0.9557565205566079, -0.8086490205068385, -0.45212422534360897, 1.2309789313304136, -1.3160441618070073, -2.0787989453683213, -0.2514029947741344, 0.9867684647074665, -2.1990333320540243, -0.34497633052762716, 0.8639628692687408, -0.21389997301921213, 1.0066686519064196, 0.015285295518240219, 0.16553727871273421, -0.3422559844465687, 0.18582729884952723, -0.5185663434101322, 0.18913410433325986, 0.39113332341307633, -0.18854993521329608, -0.14869197202417253, -1.1771622810743556, 1.3307583915936658, -1.0811490526736167, 1.0091713921321324, -0.04562912974048219, -0.44860879206069726, -0.875699653930691, -0.9595772536161237, 2.2610482349970145, 0.673684214746933, 0.3855515807541555, -0.5870000829314124, -0.6238089402650726, 1.8241779691481275, 1.3040691198754766, 1.4022082707660175, -0.02802869965795411, -1.3025100590842051, 0.42446491321503954, -1.332092580693879, 0.24818581948371962, -0.5430116861802801, -0.25308285294068034, -0.7847086131345495, 0.09962225805782671, -0.4468545812432021, -1.3879365467126263, -1.8354406655645414, 0.20141758971530174, 0.6401032427603514, 0.16832901628415473, 0.3181880472684637, -0.5806466226491991, 0.6052428295290574, 2.367193516786903, -1.430962307666061, 1.322035884985864]}, {\"boxpoints\": false, \"line\": {\"width\": 1.3}, \"marker\": {\"color\": \"rgba(50, 171, 96, 1.0)\"}, \"name\": \"C\", \"orientation\": \"v\", \"type\": \"box\", \"y\": [1.262553816272815, -1.1312557642920869, -1.1781643467734917, -0.040049755965456645, 0.3775276948122276, -0.1835377139042649, 3.2845053496903334, -0.17001909195977002, 1.2723768678324126, 0.11515065592126898, -0.09795599482709719, -0.315118246635823, 0.1303795582218475, 0.1934309273749824, -0.15700279297617625, 0.1355005381328716, -0.36170610267805064, -0.7296906375113784, 0.967917008890089, 0.08101502544623371, -0.7121024219343551, 0.25150715334657064, 1.3207142931406897, -0.7640006693031689, -2.0419995307825802, 0.8557271987160892, -0.2667276886830243, 0.2556003823611708, -0.1404043230126173, 0.06946071379905819, -0.48265634382018247, 0.38991158300036804, 1.1514677316517041, 0.04327112231623401, 0.16999677247215608, -1.301362660406228, -0.4389181617111678, -0.2741905611165989, -0.8800900233876539, -1.1340494603714055, 0.6664892396325672, -1.8055961576689588, 1.321351407120175, 1.4250517922344206, 1.3472459104122083, -0.004453262139512292, 0.7490165419436738, 0.7194009489746745, -1.3110385371336761, -0.44112586565230005, -2.1706587330360105, -1.0409700261702066, -1.4548992791934483, -0.2549378491600471, 0.15441372440608092, 0.2971687002806099, -0.34980117477422745, -0.950796048165758, 0.8110675981560487, -0.47315604585092913, -0.6644216823215673, 0.18540603803740488, -1.1679486757592947, -0.9289797647673192, -1.7675116350142936, 0.8678474620139809, 2.0967793770906322, -0.08152292625404282, 0.2554994751702368, -0.4943892750842958, 1.270761433397232, -2.5825683776574135, -0.46722176713795577, 1.9218430644214242, 0.1089838289729727, 0.6945648693019376, 1.3355507057913318, -0.8645998266815484, 0.6898737364799554, -0.6081416493163475, -0.6789194788399318, 0.9008873933257342, 1.3601004837458617, -0.5920848140497326, -0.5917390162676318, -0.0666286771665744, -0.06253202279846254, 1.5049696631772043, -0.23985914874085418, -0.9898416201349332, -0.5967129176045103, -0.05223050061835646, -0.8017070028742392, 0.7027432376554948, -0.749255610086444, -0.6053289414724052, -1.3322298257831455, 0.1653817387832196, -1.4808261546521626, -1.6107761066626145]}, {\"boxpoints\": false, \"line\": {\"width\": 1.3}, \"marker\": {\"color\": \"rgba(128, 0, 128, 1.0)\"}, \"name\": \"D\", \"orientation\": \"v\", \"type\": \"box\", \"y\": [-1.5358627875003739, 0.06548290336662309, -0.8079937212589396, -0.6440551079816648, -0.040769064291493434, 0.18714145228738116, -0.054901915594329616, -0.3643694822485636, 1.146609059044325, 1.0192292972838897, 0.895097874011055, -2.383937229455519, -2.542843656486311, 1.2960827540249615, 1.0723567212065517, -0.6507274922468583, -0.29293379375665585, 0.3460315198837977, -0.09962138708788137, 1.1939042771345394, -0.47218918626376266, -1.62969939297132, -0.5566240014855384, -0.24481130346445587, 0.562605618427525, -0.8482663035942708, -0.670587067739321, -2.3318080258655596, -0.615926835103948, 0.3210035162003755, 1.031682174420211, 0.6254573040796039, 0.9372397290889352, -0.9757589876634554, -1.1100950292047358, 0.5066657285885308, -1.2420928695653852, -0.42320781681759534, -0.5218466201269218, -0.050456628261667455, -0.8296913187279658, -1.3290266063019278, -1.4775658985607254, -0.8781983454919082, 0.9879607729666382, 1.016597645161363, 0.369600471833716, -0.883274953133442, -1.2952266725962698, -0.24594961730833692, -0.2741775354424396, 0.03204721204159266, 0.5580925732828539, -0.36955433697025497, -0.9799433295112487, 0.07598562686524854, -0.30926100523398176, 1.8001282128534324, -0.09616649611101727, -0.9095300492922991, -0.8747134737168203, 0.7287346795419107, 0.8896795463867703, -0.13183711628422762, 1.5212968665174014, -0.10200381107198399, -0.027319829348091886, -0.18124818094030268, -0.5983209667738654, 1.1896826215735987, -1.460386729170942, 1.110808064789999, 0.024611131521987014, 0.6949332321192025, -0.9332432718000083, 0.6927311054497955, -0.0428582712371396, -0.6085795683215991, 0.8675058278177395, 1.2217752261253048, 0.6725150690847547, 0.38187648956293124, -0.3249963627140331, -0.8953924669590061, -0.6843153532339907, 0.615350101819938, 0.6526633943573716, -0.6110226975148664, -0.5440619610659326, -1.2287517540107722, 0.4336478708056217, -0.25584838718160796, 0.27413404970423416, -0.03315047515053486, 0.006506711124766794, -0.01964487911993876, -0.7686623781963896, -0.6975844031157828, -0.04654454869085646, -0.10655674043640209]}],                        {\"legend\": {\"bgcolor\": \"#F5F6F9\", \"font\": {\"color\": \"#4D5663\"}}, \"paper_bgcolor\": \"#F5F6F9\", \"plot_bgcolor\": \"#F5F6F9\", \"template\": {\"data\": {\"bar\": [{\"error_x\": {\"color\": \"#2a3f5f\"}, \"error_y\": {\"color\": \"#2a3f5f\"}, \"marker\": {\"line\": {\"color\": \"#E5ECF6\", \"width\": 0.5}}, \"type\": \"bar\"}], \"barpolar\": [{\"marker\": {\"line\": {\"color\": \"#E5ECF6\", \"width\": 0.5}}, \"type\": \"barpolar\"}], \"carpet\": [{\"aaxis\": {\"endlinecolor\": \"#2a3f5f\", \"gridcolor\": \"white\", \"linecolor\": \"white\", \"minorgridcolor\": \"white\", \"startlinecolor\": \"#2a3f5f\"}, \"baxis\": {\"endlinecolor\": \"#2a3f5f\", \"gridcolor\": \"white\", \"linecolor\": \"white\", \"minorgridcolor\": \"white\", \"startlinecolor\": \"#2a3f5f\"}, \"type\": \"carpet\"}], \"choropleth\": [{\"colorbar\": {\"outlinewidth\": 0, \"ticks\": \"\"}, \"type\": \"choropleth\"}], \"contour\": [{\"colorbar\": {\"outlinewidth\": 0, \"ticks\": \"\"}, \"colorscale\": [[0.0, \"#0d0887\"], [0.1111111111111111, \"#46039f\"], [0.2222222222222222, \"#7201a8\"], [0.3333333333333333, \"#9c179e\"], [0.4444444444444444, \"#bd3786\"], [0.5555555555555556, \"#d8576b\"], [0.6666666666666666, \"#ed7953\"], [0.7777777777777778, \"#fb9f3a\"], [0.8888888888888888, \"#fdca26\"], [1.0, \"#f0f921\"]], \"type\": \"contour\"}], \"contourcarpet\": [{\"colorbar\": {\"outlinewidth\": 0, \"ticks\": \"\"}, \"type\": \"contourcarpet\"}], \"heatmap\": [{\"colorbar\": {\"outlinewidth\": 0, \"ticks\": \"\"}, \"colorscale\": [[0.0, \"#0d0887\"], [0.1111111111111111, \"#46039f\"], [0.2222222222222222, \"#7201a8\"], [0.3333333333333333, \"#9c179e\"], [0.4444444444444444, \"#bd3786\"], [0.5555555555555556, \"#d8576b\"], [0.6666666666666666, \"#ed7953\"], [0.7777777777777778, \"#fb9f3a\"], [0.8888888888888888, \"#fdca26\"], [1.0, \"#f0f921\"]], \"type\": \"heatmap\"}], \"heatmapgl\": [{\"colorbar\": {\"outlinewidth\": 0, \"ticks\": \"\"}, \"colorscale\": [[0.0, \"#0d0887\"], [0.1111111111111111, \"#46039f\"], [0.2222222222222222, \"#7201a8\"], [0.3333333333333333, \"#9c179e\"], [0.4444444444444444, \"#bd3786\"], [0.5555555555555556, \"#d8576b\"], [0.6666666666666666, \"#ed7953\"], [0.7777777777777778, \"#fb9f3a\"], [0.8888888888888888, \"#fdca26\"], [1.0, \"#f0f921\"]], \"type\": \"heatmapgl\"}], \"histogram\": [{\"marker\": {\"colorbar\": {\"outlinewidth\": 0, \"ticks\": \"\"}}, \"type\": \"histogram\"}], \"histogram2d\": [{\"colorbar\": {\"outlinewidth\": 0, \"ticks\": \"\"}, \"colorscale\": [[0.0, \"#0d0887\"], [0.1111111111111111, \"#46039f\"], [0.2222222222222222, \"#7201a8\"], [0.3333333333333333, \"#9c179e\"], [0.4444444444444444, \"#bd3786\"], [0.5555555555555556, \"#d8576b\"], [0.6666666666666666, \"#ed7953\"], [0.7777777777777778, \"#fb9f3a\"], [0.8888888888888888, \"#fdca26\"], [1.0, \"#f0f921\"]], \"type\": \"histogram2d\"}], \"histogram2dcontour\": [{\"colorbar\": {\"outlinewidth\": 0, \"ticks\": \"\"}, \"colorscale\": [[0.0, \"#0d0887\"], [0.1111111111111111, \"#46039f\"], [0.2222222222222222, \"#7201a8\"], [0.3333333333333333, \"#9c179e\"], [0.4444444444444444, \"#bd3786\"], [0.5555555555555556, \"#d8576b\"], [0.6666666666666666, \"#ed7953\"], [0.7777777777777778, \"#fb9f3a\"], [0.8888888888888888, \"#fdca26\"], [1.0, \"#f0f921\"]], \"type\": \"histogram2dcontour\"}], \"mesh3d\": [{\"colorbar\": {\"outlinewidth\": 0, \"ticks\": \"\"}, \"type\": \"mesh3d\"}], \"parcoords\": [{\"line\": {\"colorbar\": {\"outlinewidth\": 0, \"ticks\": \"\"}}, \"type\": \"parcoords\"}], \"pie\": [{\"automargin\": true, \"type\": \"pie\"}], \"scatter\": [{\"marker\": {\"colorbar\": {\"outlinewidth\": 0, \"ticks\": \"\"}}, \"type\": \"scatter\"}], \"scatter3d\": [{\"line\": {\"colorbar\": {\"outlinewidth\": 0, \"ticks\": \"\"}}, \"marker\": {\"colorbar\": {\"outlinewidth\": 0, \"ticks\": \"\"}}, \"type\": \"scatter3d\"}], \"scattercarpet\": [{\"marker\": {\"colorbar\": {\"outlinewidth\": 0, \"ticks\": \"\"}}, \"type\": \"scattercarpet\"}], \"scattergeo\": [{\"marker\": {\"colorbar\": {\"outlinewidth\": 0, \"ticks\": \"\"}}, \"type\": \"scattergeo\"}], \"scattergl\": [{\"marker\": {\"colorbar\": {\"outlinewidth\": 0, \"ticks\": \"\"}}, \"type\": \"scattergl\"}], \"scattermapbox\": [{\"marker\": {\"colorbar\": {\"outlinewidth\": 0, \"ticks\": \"\"}}, \"type\": \"scattermapbox\"}], \"scatterpolar\": [{\"marker\": {\"colorbar\": {\"outlinewidth\": 0, \"ticks\": \"\"}}, \"type\": \"scatterpolar\"}], \"scatterpolargl\": [{\"marker\": {\"colorbar\": {\"outlinewidth\": 0, \"ticks\": \"\"}}, \"type\": \"scatterpolargl\"}], \"scatterternary\": [{\"marker\": {\"colorbar\": {\"outlinewidth\": 0, \"ticks\": \"\"}}, \"type\": \"scatterternary\"}], \"surface\": [{\"colorbar\": {\"outlinewidth\": 0, \"ticks\": \"\"}, \"colorscale\": [[0.0, \"#0d0887\"], [0.1111111111111111, \"#46039f\"], [0.2222222222222222, \"#7201a8\"], [0.3333333333333333, \"#9c179e\"], [0.4444444444444444, \"#bd3786\"], [0.5555555555555556, \"#d8576b\"], [0.6666666666666666, \"#ed7953\"], [0.7777777777777778, \"#fb9f3a\"], [0.8888888888888888, \"#fdca26\"], [1.0, \"#f0f921\"]], \"type\": \"surface\"}], \"table\": [{\"cells\": {\"fill\": {\"color\": \"#EBF0F8\"}, \"line\": {\"color\": \"white\"}}, \"header\": {\"fill\": {\"color\": \"#C8D4E3\"}, \"line\": {\"color\": \"white\"}}, \"type\": \"table\"}]}, \"layout\": {\"annotationdefaults\": {\"arrowcolor\": \"#2a3f5f\", \"arrowhead\": 0, \"arrowwidth\": 1}, \"autotypenumbers\": \"strict\", \"coloraxis\": {\"colorbar\": {\"outlinewidth\": 0, \"ticks\": \"\"}}, \"colorscale\": {\"diverging\": [[0, \"#8e0152\"], [0.1, \"#c51b7d\"], [0.2, \"#de77ae\"], [0.3, \"#f1b6da\"], [0.4, \"#fde0ef\"], [0.5, \"#f7f7f7\"], [0.6, \"#e6f5d0\"], [0.7, \"#b8e186\"], [0.8, \"#7fbc41\"], [0.9, \"#4d9221\"], [1, \"#276419\"]], \"sequential\": [[0.0, \"#0d0887\"], [0.1111111111111111, \"#46039f\"], [0.2222222222222222, \"#7201a8\"], [0.3333333333333333, \"#9c179e\"], [0.4444444444444444, \"#bd3786\"], [0.5555555555555556, \"#d8576b\"], [0.6666666666666666, \"#ed7953\"], [0.7777777777777778, \"#fb9f3a\"], [0.8888888888888888, \"#fdca26\"], [1.0, \"#f0f921\"]], \"sequentialminus\": [[0.0, \"#0d0887\"], [0.1111111111111111, \"#46039f\"], [0.2222222222222222, \"#7201a8\"], [0.3333333333333333, \"#9c179e\"], [0.4444444444444444, \"#bd3786\"], [0.5555555555555556, \"#d8576b\"], [0.6666666666666666, \"#ed7953\"], [0.7777777777777778, \"#fb9f3a\"], [0.8888888888888888, \"#fdca26\"], [1.0, \"#f0f921\"]]}, \"colorway\": [\"#636efa\", \"#EF553B\", \"#00cc96\", \"#ab63fa\", \"#FFA15A\", \"#19d3f3\", \"#FF6692\", \"#B6E880\", \"#FF97FF\", \"#FECB52\"], \"font\": {\"color\": \"#2a3f5f\"}, \"geo\": {\"bgcolor\": \"white\", \"lakecolor\": \"white\", \"landcolor\": \"#E5ECF6\", \"showlakes\": true, \"showland\": true, \"subunitcolor\": \"white\"}, \"hoverlabel\": {\"align\": \"left\"}, \"hovermode\": \"closest\", \"mapbox\": {\"style\": \"light\"}, \"paper_bgcolor\": \"white\", \"plot_bgcolor\": \"#E5ECF6\", \"polar\": {\"angularaxis\": {\"gridcolor\": \"white\", \"linecolor\": \"white\", \"ticks\": \"\"}, \"bgcolor\": \"#E5ECF6\", \"radialaxis\": {\"gridcolor\": \"white\", \"linecolor\": \"white\", \"ticks\": \"\"}}, \"scene\": {\"xaxis\": {\"backgroundcolor\": \"#E5ECF6\", \"gridcolor\": \"white\", \"gridwidth\": 2, \"linecolor\": \"white\", \"showbackground\": true, \"ticks\": \"\", \"zerolinecolor\": \"white\"}, \"yaxis\": {\"backgroundcolor\": \"#E5ECF6\", \"gridcolor\": \"white\", \"gridwidth\": 2, \"linecolor\": \"white\", \"showbackground\": true, \"ticks\": \"\", \"zerolinecolor\": \"white\"}, \"zaxis\": {\"backgroundcolor\": \"#E5ECF6\", \"gridcolor\": \"white\", \"gridwidth\": 2, \"linecolor\": \"white\", \"showbackground\": true, \"ticks\": \"\", \"zerolinecolor\": \"white\"}}, \"shapedefaults\": {\"line\": {\"color\": \"#2a3f5f\"}}, \"ternary\": {\"aaxis\": {\"gridcolor\": \"white\", \"linecolor\": \"white\", \"ticks\": \"\"}, \"baxis\": {\"gridcolor\": \"white\", \"linecolor\": \"white\", \"ticks\": \"\"}, \"bgcolor\": \"#E5ECF6\", \"caxis\": {\"gridcolor\": \"white\", \"linecolor\": \"white\", \"ticks\": \"\"}}, \"title\": {\"x\": 0.05}, \"xaxis\": {\"automargin\": true, \"gridcolor\": \"white\", \"linecolor\": \"white\", \"ticks\": \"\", \"title\": {\"standoff\": 15}, \"zerolinecolor\": \"white\", \"zerolinewidth\": 2}, \"yaxis\": {\"automargin\": true, \"gridcolor\": \"white\", \"linecolor\": \"white\", \"ticks\": \"\", \"title\": {\"standoff\": 15}, \"zerolinecolor\": \"white\", \"zerolinewidth\": 2}}}, \"title\": {\"font\": {\"color\": \"#4D5663\"}}, \"xaxis\": {\"gridcolor\": \"#E1E5ED\", \"showgrid\": true, \"tickfont\": {\"color\": \"#4D5663\"}, \"title\": {\"font\": {\"color\": \"#4D5663\"}, \"text\": \"\"}, \"zerolinecolor\": \"#E1E5ED\"}, \"yaxis\": {\"gridcolor\": \"#E1E5ED\", \"showgrid\": true, \"tickfont\": {\"color\": \"#4D5663\"}, \"title\": {\"font\": {\"color\": \"#4D5663\"}, \"text\": \"\"}, \"zerolinecolor\": \"#E1E5ED\"}},                        {\"showLink\": true, \"linkText\": \"Export to plot.ly\", \"plotlyServerURL\": \"https://plot.ly\", \"responsive\": true}                    ).then(function(){\n",
       "                            \n",
       "var gd = document.getElementById('550dcbf8-2a16-4ce5-8176-999d7501d541');\n",
       "var x = new MutationObserver(function (mutations, observer) {{\n",
       "        var display = window.getComputedStyle(gd).display;\n",
       "        if (!display || display === 'none') {{\n",
       "            console.log([gd, 'removed!']);\n",
       "            Plotly.purge(gd);\n",
       "            observer.disconnect();\n",
       "        }}\n",
       "}});\n",
       "\n",
       "// Listen for the removal of the full notebook cells\n",
       "var notebookContainer = gd.closest('#notebook-container');\n",
       "if (notebookContainer) {{\n",
       "    x.observe(notebookContainer, {childList: true});\n",
       "}}\n",
       "\n",
       "// Listen for the clearing of the current output cell\n",
       "var outputEl = gd.closest('.output');\n",
       "if (outputEl) {{\n",
       "    x.observe(outputEl, {childList: true});\n",
       "}}\n",
       "\n",
       "                        })                };                });            </script>        </div>"
      ]
     },
     "metadata": {},
     "output_type": "display_data"
    }
   ],
   "source": [
    "df.iplot(kind='box')"
   ]
  },
  {
   "cell_type": "markdown",
   "metadata": {},
   "source": [
    "## 3d Surface"
   ]
  },
  {
   "cell_type": "code",
   "execution_count": 19,
   "metadata": {
    "scrolled": true
   },
   "outputs": [
    {
     "data": {
      "application/vnd.plotly.v1+json": {
       "config": {
        "linkText": "Export to plot.ly",
        "plotlyServerURL": "https://plot.ly",
        "showLink": true
       },
       "data": [
        {
         "colorscale": [
          [
           0,
           "rgb(165,0,38)"
          ],
          [
           0.1,
           "rgb(215,48,39)"
          ],
          [
           0.2,
           "rgb(244,109,67)"
          ],
          [
           0.3,
           "rgb(253,174,97)"
          ],
          [
           0.4,
           "rgb(254,224,144)"
          ],
          [
           0.5,
           "rgb(255,255,191)"
          ],
          [
           0.6,
           "rgb(224,243,248)"
          ],
          [
           0.7,
           "rgb(171,217,233)"
          ],
          [
           0.8,
           "rgb(116,173,209)"
          ],
          [
           0.9,
           "rgb(69,117,180)"
          ],
          [
           1,
           "rgb(49,54,149)"
          ]
         ],
         "type": "surface",
         "x": [
          0,
          1,
          2,
          3,
          4
         ],
         "y": [
          "x",
          "y",
          "z"
         ],
         "z": [
          [
           1,
           2,
           3,
           4,
           5
          ],
          [
           10,
           20,
           30,
           20,
           10
          ],
          [
           5,
           4,
           3,
           2,
           1
          ]
         ]
        }
       ],
       "layout": {
        "legend": {
         "bgcolor": "#F5F6F9",
         "font": {
          "color": "#4D5663"
         }
        },
        "paper_bgcolor": "#F5F6F9",
        "plot_bgcolor": "#F5F6F9",
        "template": {
         "data": {
          "bar": [
           {
            "error_x": {
             "color": "#2a3f5f"
            },
            "error_y": {
             "color": "#2a3f5f"
            },
            "marker": {
             "line": {
              "color": "#E5ECF6",
              "width": 0.5
             }
            },
            "type": "bar"
           }
          ],
          "barpolar": [
           {
            "marker": {
             "line": {
              "color": "#E5ECF6",
              "width": 0.5
             }
            },
            "type": "barpolar"
           }
          ],
          "carpet": [
           {
            "aaxis": {
             "endlinecolor": "#2a3f5f",
             "gridcolor": "white",
             "linecolor": "white",
             "minorgridcolor": "white",
             "startlinecolor": "#2a3f5f"
            },
            "baxis": {
             "endlinecolor": "#2a3f5f",
             "gridcolor": "white",
             "linecolor": "white",
             "minorgridcolor": "white",
             "startlinecolor": "#2a3f5f"
            },
            "type": "carpet"
           }
          ],
          "choropleth": [
           {
            "colorbar": {
             "outlinewidth": 0,
             "ticks": ""
            },
            "type": "choropleth"
           }
          ],
          "contour": [
           {
            "colorbar": {
             "outlinewidth": 0,
             "ticks": ""
            },
            "colorscale": [
             [
              0,
              "#0d0887"
             ],
             [
              0.1111111111111111,
              "#46039f"
             ],
             [
              0.2222222222222222,
              "#7201a8"
             ],
             [
              0.3333333333333333,
              "#9c179e"
             ],
             [
              0.4444444444444444,
              "#bd3786"
             ],
             [
              0.5555555555555556,
              "#d8576b"
             ],
             [
              0.6666666666666666,
              "#ed7953"
             ],
             [
              0.7777777777777778,
              "#fb9f3a"
             ],
             [
              0.8888888888888888,
              "#fdca26"
             ],
             [
              1,
              "#f0f921"
             ]
            ],
            "type": "contour"
           }
          ],
          "contourcarpet": [
           {
            "colorbar": {
             "outlinewidth": 0,
             "ticks": ""
            },
            "type": "contourcarpet"
           }
          ],
          "heatmap": [
           {
            "colorbar": {
             "outlinewidth": 0,
             "ticks": ""
            },
            "colorscale": [
             [
              0,
              "#0d0887"
             ],
             [
              0.1111111111111111,
              "#46039f"
             ],
             [
              0.2222222222222222,
              "#7201a8"
             ],
             [
              0.3333333333333333,
              "#9c179e"
             ],
             [
              0.4444444444444444,
              "#bd3786"
             ],
             [
              0.5555555555555556,
              "#d8576b"
             ],
             [
              0.6666666666666666,
              "#ed7953"
             ],
             [
              0.7777777777777778,
              "#fb9f3a"
             ],
             [
              0.8888888888888888,
              "#fdca26"
             ],
             [
              1,
              "#f0f921"
             ]
            ],
            "type": "heatmap"
           }
          ],
          "heatmapgl": [
           {
            "colorbar": {
             "outlinewidth": 0,
             "ticks": ""
            },
            "colorscale": [
             [
              0,
              "#0d0887"
             ],
             [
              0.1111111111111111,
              "#46039f"
             ],
             [
              0.2222222222222222,
              "#7201a8"
             ],
             [
              0.3333333333333333,
              "#9c179e"
             ],
             [
              0.4444444444444444,
              "#bd3786"
             ],
             [
              0.5555555555555556,
              "#d8576b"
             ],
             [
              0.6666666666666666,
              "#ed7953"
             ],
             [
              0.7777777777777778,
              "#fb9f3a"
             ],
             [
              0.8888888888888888,
              "#fdca26"
             ],
             [
              1,
              "#f0f921"
             ]
            ],
            "type": "heatmapgl"
           }
          ],
          "histogram": [
           {
            "marker": {
             "colorbar": {
              "outlinewidth": 0,
              "ticks": ""
             }
            },
            "type": "histogram"
           }
          ],
          "histogram2d": [
           {
            "colorbar": {
             "outlinewidth": 0,
             "ticks": ""
            },
            "colorscale": [
             [
              0,
              "#0d0887"
             ],
             [
              0.1111111111111111,
              "#46039f"
             ],
             [
              0.2222222222222222,
              "#7201a8"
             ],
             [
              0.3333333333333333,
              "#9c179e"
             ],
             [
              0.4444444444444444,
              "#bd3786"
             ],
             [
              0.5555555555555556,
              "#d8576b"
             ],
             [
              0.6666666666666666,
              "#ed7953"
             ],
             [
              0.7777777777777778,
              "#fb9f3a"
             ],
             [
              0.8888888888888888,
              "#fdca26"
             ],
             [
              1,
              "#f0f921"
             ]
            ],
            "type": "histogram2d"
           }
          ],
          "histogram2dcontour": [
           {
            "colorbar": {
             "outlinewidth": 0,
             "ticks": ""
            },
            "colorscale": [
             [
              0,
              "#0d0887"
             ],
             [
              0.1111111111111111,
              "#46039f"
             ],
             [
              0.2222222222222222,
              "#7201a8"
             ],
             [
              0.3333333333333333,
              "#9c179e"
             ],
             [
              0.4444444444444444,
              "#bd3786"
             ],
             [
              0.5555555555555556,
              "#d8576b"
             ],
             [
              0.6666666666666666,
              "#ed7953"
             ],
             [
              0.7777777777777778,
              "#fb9f3a"
             ],
             [
              0.8888888888888888,
              "#fdca26"
             ],
             [
              1,
              "#f0f921"
             ]
            ],
            "type": "histogram2dcontour"
           }
          ],
          "mesh3d": [
           {
            "colorbar": {
             "outlinewidth": 0,
             "ticks": ""
            },
            "type": "mesh3d"
           }
          ],
          "parcoords": [
           {
            "line": {
             "colorbar": {
              "outlinewidth": 0,
              "ticks": ""
             }
            },
            "type": "parcoords"
           }
          ],
          "pie": [
           {
            "automargin": true,
            "type": "pie"
           }
          ],
          "scatter": [
           {
            "marker": {
             "colorbar": {
              "outlinewidth": 0,
              "ticks": ""
             }
            },
            "type": "scatter"
           }
          ],
          "scatter3d": [
           {
            "line": {
             "colorbar": {
              "outlinewidth": 0,
              "ticks": ""
             }
            },
            "marker": {
             "colorbar": {
              "outlinewidth": 0,
              "ticks": ""
             }
            },
            "type": "scatter3d"
           }
          ],
          "scattercarpet": [
           {
            "marker": {
             "colorbar": {
              "outlinewidth": 0,
              "ticks": ""
             }
            },
            "type": "scattercarpet"
           }
          ],
          "scattergeo": [
           {
            "marker": {
             "colorbar": {
              "outlinewidth": 0,
              "ticks": ""
             }
            },
            "type": "scattergeo"
           }
          ],
          "scattergl": [
           {
            "marker": {
             "colorbar": {
              "outlinewidth": 0,
              "ticks": ""
             }
            },
            "type": "scattergl"
           }
          ],
          "scattermapbox": [
           {
            "marker": {
             "colorbar": {
              "outlinewidth": 0,
              "ticks": ""
             }
            },
            "type": "scattermapbox"
           }
          ],
          "scatterpolar": [
           {
            "marker": {
             "colorbar": {
              "outlinewidth": 0,
              "ticks": ""
             }
            },
            "type": "scatterpolar"
           }
          ],
          "scatterpolargl": [
           {
            "marker": {
             "colorbar": {
              "outlinewidth": 0,
              "ticks": ""
             }
            },
            "type": "scatterpolargl"
           }
          ],
          "scatterternary": [
           {
            "marker": {
             "colorbar": {
              "outlinewidth": 0,
              "ticks": ""
             }
            },
            "type": "scatterternary"
           }
          ],
          "surface": [
           {
            "colorbar": {
             "outlinewidth": 0,
             "ticks": ""
            },
            "colorscale": [
             [
              0,
              "#0d0887"
             ],
             [
              0.1111111111111111,
              "#46039f"
             ],
             [
              0.2222222222222222,
              "#7201a8"
             ],
             [
              0.3333333333333333,
              "#9c179e"
             ],
             [
              0.4444444444444444,
              "#bd3786"
             ],
             [
              0.5555555555555556,
              "#d8576b"
             ],
             [
              0.6666666666666666,
              "#ed7953"
             ],
             [
              0.7777777777777778,
              "#fb9f3a"
             ],
             [
              0.8888888888888888,
              "#fdca26"
             ],
             [
              1,
              "#f0f921"
             ]
            ],
            "type": "surface"
           }
          ],
          "table": [
           {
            "cells": {
             "fill": {
              "color": "#EBF0F8"
             },
             "line": {
              "color": "white"
             }
            },
            "header": {
             "fill": {
              "color": "#C8D4E3"
             },
             "line": {
              "color": "white"
             }
            },
            "type": "table"
           }
          ]
         },
         "layout": {
          "annotationdefaults": {
           "arrowcolor": "#2a3f5f",
           "arrowhead": 0,
           "arrowwidth": 1
          },
          "autotypenumbers": "strict",
          "coloraxis": {
           "colorbar": {
            "outlinewidth": 0,
            "ticks": ""
           }
          },
          "colorscale": {
           "diverging": [
            [
             0,
             "#8e0152"
            ],
            [
             0.1,
             "#c51b7d"
            ],
            [
             0.2,
             "#de77ae"
            ],
            [
             0.3,
             "#f1b6da"
            ],
            [
             0.4,
             "#fde0ef"
            ],
            [
             0.5,
             "#f7f7f7"
            ],
            [
             0.6,
             "#e6f5d0"
            ],
            [
             0.7,
             "#b8e186"
            ],
            [
             0.8,
             "#7fbc41"
            ],
            [
             0.9,
             "#4d9221"
            ],
            [
             1,
             "#276419"
            ]
           ],
           "sequential": [
            [
             0,
             "#0d0887"
            ],
            [
             0.1111111111111111,
             "#46039f"
            ],
            [
             0.2222222222222222,
             "#7201a8"
            ],
            [
             0.3333333333333333,
             "#9c179e"
            ],
            [
             0.4444444444444444,
             "#bd3786"
            ],
            [
             0.5555555555555556,
             "#d8576b"
            ],
            [
             0.6666666666666666,
             "#ed7953"
            ],
            [
             0.7777777777777778,
             "#fb9f3a"
            ],
            [
             0.8888888888888888,
             "#fdca26"
            ],
            [
             1,
             "#f0f921"
            ]
           ],
           "sequentialminus": [
            [
             0,
             "#0d0887"
            ],
            [
             0.1111111111111111,
             "#46039f"
            ],
            [
             0.2222222222222222,
             "#7201a8"
            ],
            [
             0.3333333333333333,
             "#9c179e"
            ],
            [
             0.4444444444444444,
             "#bd3786"
            ],
            [
             0.5555555555555556,
             "#d8576b"
            ],
            [
             0.6666666666666666,
             "#ed7953"
            ],
            [
             0.7777777777777778,
             "#fb9f3a"
            ],
            [
             0.8888888888888888,
             "#fdca26"
            ],
            [
             1,
             "#f0f921"
            ]
           ]
          },
          "colorway": [
           "#636efa",
           "#EF553B",
           "#00cc96",
           "#ab63fa",
           "#FFA15A",
           "#19d3f3",
           "#FF6692",
           "#B6E880",
           "#FF97FF",
           "#FECB52"
          ],
          "font": {
           "color": "#2a3f5f"
          },
          "geo": {
           "bgcolor": "white",
           "lakecolor": "white",
           "landcolor": "#E5ECF6",
           "showlakes": true,
           "showland": true,
           "subunitcolor": "white"
          },
          "hoverlabel": {
           "align": "left"
          },
          "hovermode": "closest",
          "mapbox": {
           "style": "light"
          },
          "paper_bgcolor": "white",
          "plot_bgcolor": "#E5ECF6",
          "polar": {
           "angularaxis": {
            "gridcolor": "white",
            "linecolor": "white",
            "ticks": ""
           },
           "bgcolor": "#E5ECF6",
           "radialaxis": {
            "gridcolor": "white",
            "linecolor": "white",
            "ticks": ""
           }
          },
          "scene": {
           "xaxis": {
            "backgroundcolor": "#E5ECF6",
            "gridcolor": "white",
            "gridwidth": 2,
            "linecolor": "white",
            "showbackground": true,
            "ticks": "",
            "zerolinecolor": "white"
           },
           "yaxis": {
            "backgroundcolor": "#E5ECF6",
            "gridcolor": "white",
            "gridwidth": 2,
            "linecolor": "white",
            "showbackground": true,
            "ticks": "",
            "zerolinecolor": "white"
           },
           "zaxis": {
            "backgroundcolor": "#E5ECF6",
            "gridcolor": "white",
            "gridwidth": 2,
            "linecolor": "white",
            "showbackground": true,
            "ticks": "",
            "zerolinecolor": "white"
           }
          },
          "shapedefaults": {
           "line": {
            "color": "#2a3f5f"
           }
          },
          "ternary": {
           "aaxis": {
            "gridcolor": "white",
            "linecolor": "white",
            "ticks": ""
           },
           "baxis": {
            "gridcolor": "white",
            "linecolor": "white",
            "ticks": ""
           },
           "bgcolor": "#E5ECF6",
           "caxis": {
            "gridcolor": "white",
            "linecolor": "white",
            "ticks": ""
           }
          },
          "title": {
           "x": 0.05
          },
          "xaxis": {
           "automargin": true,
           "gridcolor": "white",
           "linecolor": "white",
           "ticks": "",
           "title": {
            "standoff": 15
           },
           "zerolinecolor": "white",
           "zerolinewidth": 2
          },
          "yaxis": {
           "automargin": true,
           "gridcolor": "white",
           "linecolor": "white",
           "ticks": "",
           "title": {
            "standoff": 15
           },
           "zerolinecolor": "white",
           "zerolinewidth": 2
          }
         }
        },
        "title": {
         "font": {
          "color": "#4D5663"
         }
        },
        "xaxis": {
         "gridcolor": "#E1E5ED",
         "showgrid": true,
         "tickfont": {
          "color": "#4D5663"
         },
         "title": {
          "font": {
           "color": "#4D5663"
          },
          "text": ""
         },
         "zerolinecolor": "#E1E5ED"
        },
        "yaxis": {
         "gridcolor": "#E1E5ED",
         "showgrid": true,
         "tickfont": {
          "color": "#4D5663"
         },
         "title": {
          "font": {
           "color": "#4D5663"
          },
          "text": ""
         },
         "zerolinecolor": "#E1E5ED"
        }
       }
      },
      "text/html": [
       "<div>                            <div id=\"1648d03a-7dbb-4217-9415-0221c0e67935\" class=\"plotly-graph-div\" style=\"height:525px; width:100%;\"></div>            <script type=\"text/javascript\">                require([\"plotly\"], function(Plotly) {                    window.PLOTLYENV=window.PLOTLYENV || {};\n",
       "                    window.PLOTLYENV.BASE_URL='https://plot.ly';                                    if (document.getElementById(\"1648d03a-7dbb-4217-9415-0221c0e67935\")) {                    Plotly.newPlot(                        \"1648d03a-7dbb-4217-9415-0221c0e67935\",                        [{\"colorscale\": [[0.0, \"rgb(165,0,38)\"], [0.1, \"rgb(215,48,39)\"], [0.2, \"rgb(244,109,67)\"], [0.3, \"rgb(253,174,97)\"], [0.4, \"rgb(254,224,144)\"], [0.5, \"rgb(255,255,191)\"], [0.6, \"rgb(224,243,248)\"], [0.7, \"rgb(171,217,233)\"], [0.8, \"rgb(116,173,209)\"], [0.9, \"rgb(69,117,180)\"], [1.0, \"rgb(49,54,149)\"]], \"type\": \"surface\", \"x\": [0, 1, 2, 3, 4], \"y\": [\"x\", \"y\", \"z\"], \"z\": [[1, 2, 3, 4, 5], [10, 20, 30, 20, 10], [5, 4, 3, 2, 1]]}],                        {\"legend\": {\"bgcolor\": \"#F5F6F9\", \"font\": {\"color\": \"#4D5663\"}}, \"paper_bgcolor\": \"#F5F6F9\", \"plot_bgcolor\": \"#F5F6F9\", \"template\": {\"data\": {\"bar\": [{\"error_x\": {\"color\": \"#2a3f5f\"}, \"error_y\": {\"color\": \"#2a3f5f\"}, \"marker\": {\"line\": {\"color\": \"#E5ECF6\", \"width\": 0.5}}, \"type\": \"bar\"}], \"barpolar\": [{\"marker\": {\"line\": {\"color\": \"#E5ECF6\", \"width\": 0.5}}, \"type\": \"barpolar\"}], \"carpet\": [{\"aaxis\": {\"endlinecolor\": \"#2a3f5f\", \"gridcolor\": \"white\", \"linecolor\": \"white\", \"minorgridcolor\": \"white\", \"startlinecolor\": \"#2a3f5f\"}, \"baxis\": {\"endlinecolor\": \"#2a3f5f\", \"gridcolor\": \"white\", \"linecolor\": \"white\", \"minorgridcolor\": \"white\", \"startlinecolor\": \"#2a3f5f\"}, \"type\": \"carpet\"}], \"choropleth\": [{\"colorbar\": {\"outlinewidth\": 0, \"ticks\": \"\"}, \"type\": \"choropleth\"}], \"contour\": [{\"colorbar\": {\"outlinewidth\": 0, \"ticks\": \"\"}, \"colorscale\": [[0.0, \"#0d0887\"], [0.1111111111111111, \"#46039f\"], [0.2222222222222222, \"#7201a8\"], [0.3333333333333333, \"#9c179e\"], [0.4444444444444444, \"#bd3786\"], [0.5555555555555556, \"#d8576b\"], [0.6666666666666666, \"#ed7953\"], [0.7777777777777778, \"#fb9f3a\"], [0.8888888888888888, \"#fdca26\"], [1.0, \"#f0f921\"]], \"type\": \"contour\"}], \"contourcarpet\": [{\"colorbar\": {\"outlinewidth\": 0, \"ticks\": \"\"}, \"type\": \"contourcarpet\"}], \"heatmap\": [{\"colorbar\": {\"outlinewidth\": 0, \"ticks\": \"\"}, \"colorscale\": [[0.0, \"#0d0887\"], [0.1111111111111111, \"#46039f\"], [0.2222222222222222, \"#7201a8\"], [0.3333333333333333, \"#9c179e\"], [0.4444444444444444, \"#bd3786\"], [0.5555555555555556, \"#d8576b\"], [0.6666666666666666, \"#ed7953\"], [0.7777777777777778, \"#fb9f3a\"], [0.8888888888888888, \"#fdca26\"], [1.0, \"#f0f921\"]], \"type\": \"heatmap\"}], \"heatmapgl\": [{\"colorbar\": {\"outlinewidth\": 0, \"ticks\": \"\"}, \"colorscale\": [[0.0, \"#0d0887\"], [0.1111111111111111, \"#46039f\"], [0.2222222222222222, \"#7201a8\"], [0.3333333333333333, \"#9c179e\"], [0.4444444444444444, \"#bd3786\"], [0.5555555555555556, \"#d8576b\"], [0.6666666666666666, \"#ed7953\"], [0.7777777777777778, \"#fb9f3a\"], [0.8888888888888888, \"#fdca26\"], [1.0, \"#f0f921\"]], \"type\": \"heatmapgl\"}], \"histogram\": [{\"marker\": {\"colorbar\": {\"outlinewidth\": 0, \"ticks\": \"\"}}, \"type\": \"histogram\"}], \"histogram2d\": [{\"colorbar\": {\"outlinewidth\": 0, \"ticks\": \"\"}, \"colorscale\": [[0.0, \"#0d0887\"], [0.1111111111111111, \"#46039f\"], [0.2222222222222222, \"#7201a8\"], [0.3333333333333333, \"#9c179e\"], [0.4444444444444444, \"#bd3786\"], [0.5555555555555556, \"#d8576b\"], [0.6666666666666666, \"#ed7953\"], [0.7777777777777778, \"#fb9f3a\"], [0.8888888888888888, \"#fdca26\"], [1.0, \"#f0f921\"]], \"type\": \"histogram2d\"}], \"histogram2dcontour\": [{\"colorbar\": {\"outlinewidth\": 0, \"ticks\": \"\"}, \"colorscale\": [[0.0, \"#0d0887\"], [0.1111111111111111, \"#46039f\"], [0.2222222222222222, \"#7201a8\"], [0.3333333333333333, \"#9c179e\"], [0.4444444444444444, \"#bd3786\"], [0.5555555555555556, \"#d8576b\"], [0.6666666666666666, \"#ed7953\"], [0.7777777777777778, \"#fb9f3a\"], [0.8888888888888888, \"#fdca26\"], [1.0, \"#f0f921\"]], \"type\": \"histogram2dcontour\"}], \"mesh3d\": [{\"colorbar\": {\"outlinewidth\": 0, \"ticks\": \"\"}, \"type\": \"mesh3d\"}], \"parcoords\": [{\"line\": {\"colorbar\": {\"outlinewidth\": 0, \"ticks\": \"\"}}, \"type\": \"parcoords\"}], \"pie\": [{\"automargin\": true, \"type\": \"pie\"}], \"scatter\": [{\"marker\": {\"colorbar\": {\"outlinewidth\": 0, \"ticks\": \"\"}}, \"type\": \"scatter\"}], \"scatter3d\": [{\"line\": {\"colorbar\": {\"outlinewidth\": 0, \"ticks\": \"\"}}, \"marker\": {\"colorbar\": {\"outlinewidth\": 0, \"ticks\": \"\"}}, \"type\": \"scatter3d\"}], \"scattercarpet\": [{\"marker\": {\"colorbar\": {\"outlinewidth\": 0, \"ticks\": \"\"}}, \"type\": \"scattercarpet\"}], \"scattergeo\": [{\"marker\": {\"colorbar\": {\"outlinewidth\": 0, \"ticks\": \"\"}}, \"type\": \"scattergeo\"}], \"scattergl\": [{\"marker\": {\"colorbar\": {\"outlinewidth\": 0, \"ticks\": \"\"}}, \"type\": \"scattergl\"}], \"scattermapbox\": [{\"marker\": {\"colorbar\": {\"outlinewidth\": 0, \"ticks\": \"\"}}, \"type\": \"scattermapbox\"}], \"scatterpolar\": [{\"marker\": {\"colorbar\": {\"outlinewidth\": 0, \"ticks\": \"\"}}, \"type\": \"scatterpolar\"}], \"scatterpolargl\": [{\"marker\": {\"colorbar\": {\"outlinewidth\": 0, \"ticks\": \"\"}}, \"type\": \"scatterpolargl\"}], \"scatterternary\": [{\"marker\": {\"colorbar\": {\"outlinewidth\": 0, \"ticks\": \"\"}}, \"type\": \"scatterternary\"}], \"surface\": [{\"colorbar\": {\"outlinewidth\": 0, \"ticks\": \"\"}, \"colorscale\": [[0.0, \"#0d0887\"], [0.1111111111111111, \"#46039f\"], [0.2222222222222222, \"#7201a8\"], [0.3333333333333333, \"#9c179e\"], [0.4444444444444444, \"#bd3786\"], [0.5555555555555556, \"#d8576b\"], [0.6666666666666666, \"#ed7953\"], [0.7777777777777778, \"#fb9f3a\"], [0.8888888888888888, \"#fdca26\"], [1.0, \"#f0f921\"]], \"type\": \"surface\"}], \"table\": [{\"cells\": {\"fill\": {\"color\": \"#EBF0F8\"}, \"line\": {\"color\": \"white\"}}, \"header\": {\"fill\": {\"color\": \"#C8D4E3\"}, \"line\": {\"color\": \"white\"}}, \"type\": \"table\"}]}, \"layout\": {\"annotationdefaults\": {\"arrowcolor\": \"#2a3f5f\", \"arrowhead\": 0, \"arrowwidth\": 1}, \"autotypenumbers\": \"strict\", \"coloraxis\": {\"colorbar\": {\"outlinewidth\": 0, \"ticks\": \"\"}}, \"colorscale\": {\"diverging\": [[0, \"#8e0152\"], [0.1, \"#c51b7d\"], [0.2, \"#de77ae\"], [0.3, \"#f1b6da\"], [0.4, \"#fde0ef\"], [0.5, \"#f7f7f7\"], [0.6, \"#e6f5d0\"], [0.7, \"#b8e186\"], [0.8, \"#7fbc41\"], [0.9, \"#4d9221\"], [1, \"#276419\"]], \"sequential\": [[0.0, \"#0d0887\"], [0.1111111111111111, \"#46039f\"], [0.2222222222222222, \"#7201a8\"], [0.3333333333333333, \"#9c179e\"], [0.4444444444444444, \"#bd3786\"], [0.5555555555555556, \"#d8576b\"], [0.6666666666666666, \"#ed7953\"], [0.7777777777777778, \"#fb9f3a\"], [0.8888888888888888, \"#fdca26\"], [1.0, \"#f0f921\"]], \"sequentialminus\": [[0.0, \"#0d0887\"], [0.1111111111111111, \"#46039f\"], [0.2222222222222222, \"#7201a8\"], [0.3333333333333333, \"#9c179e\"], [0.4444444444444444, \"#bd3786\"], [0.5555555555555556, \"#d8576b\"], [0.6666666666666666, \"#ed7953\"], [0.7777777777777778, \"#fb9f3a\"], [0.8888888888888888, \"#fdca26\"], [1.0, \"#f0f921\"]]}, \"colorway\": [\"#636efa\", \"#EF553B\", \"#00cc96\", \"#ab63fa\", \"#FFA15A\", \"#19d3f3\", \"#FF6692\", \"#B6E880\", \"#FF97FF\", \"#FECB52\"], \"font\": {\"color\": \"#2a3f5f\"}, \"geo\": {\"bgcolor\": \"white\", \"lakecolor\": \"white\", \"landcolor\": \"#E5ECF6\", \"showlakes\": true, \"showland\": true, \"subunitcolor\": \"white\"}, \"hoverlabel\": {\"align\": \"left\"}, \"hovermode\": \"closest\", \"mapbox\": {\"style\": \"light\"}, \"paper_bgcolor\": \"white\", \"plot_bgcolor\": \"#E5ECF6\", \"polar\": {\"angularaxis\": {\"gridcolor\": \"white\", \"linecolor\": \"white\", \"ticks\": \"\"}, \"bgcolor\": \"#E5ECF6\", \"radialaxis\": {\"gridcolor\": \"white\", \"linecolor\": \"white\", \"ticks\": \"\"}}, \"scene\": {\"xaxis\": {\"backgroundcolor\": \"#E5ECF6\", \"gridcolor\": \"white\", \"gridwidth\": 2, \"linecolor\": \"white\", \"showbackground\": true, \"ticks\": \"\", \"zerolinecolor\": \"white\"}, \"yaxis\": {\"backgroundcolor\": \"#E5ECF6\", \"gridcolor\": \"white\", \"gridwidth\": 2, \"linecolor\": \"white\", \"showbackground\": true, \"ticks\": \"\", \"zerolinecolor\": \"white\"}, \"zaxis\": {\"backgroundcolor\": \"#E5ECF6\", \"gridcolor\": \"white\", \"gridwidth\": 2, \"linecolor\": \"white\", \"showbackground\": true, \"ticks\": \"\", \"zerolinecolor\": \"white\"}}, \"shapedefaults\": {\"line\": {\"color\": \"#2a3f5f\"}}, \"ternary\": {\"aaxis\": {\"gridcolor\": \"white\", \"linecolor\": \"white\", \"ticks\": \"\"}, \"baxis\": {\"gridcolor\": \"white\", \"linecolor\": \"white\", \"ticks\": \"\"}, \"bgcolor\": \"#E5ECF6\", \"caxis\": {\"gridcolor\": \"white\", \"linecolor\": \"white\", \"ticks\": \"\"}}, \"title\": {\"x\": 0.05}, \"xaxis\": {\"automargin\": true, \"gridcolor\": \"white\", \"linecolor\": \"white\", \"ticks\": \"\", \"title\": {\"standoff\": 15}, \"zerolinecolor\": \"white\", \"zerolinewidth\": 2}, \"yaxis\": {\"automargin\": true, \"gridcolor\": \"white\", \"linecolor\": \"white\", \"ticks\": \"\", \"title\": {\"standoff\": 15}, \"zerolinecolor\": \"white\", \"zerolinewidth\": 2}}}, \"title\": {\"font\": {\"color\": \"#4D5663\"}}, \"xaxis\": {\"gridcolor\": \"#E1E5ED\", \"showgrid\": true, \"tickfont\": {\"color\": \"#4D5663\"}, \"title\": {\"font\": {\"color\": \"#4D5663\"}, \"text\": \"\"}, \"zerolinecolor\": \"#E1E5ED\"}, \"yaxis\": {\"gridcolor\": \"#E1E5ED\", \"showgrid\": true, \"tickfont\": {\"color\": \"#4D5663\"}, \"title\": {\"font\": {\"color\": \"#4D5663\"}, \"text\": \"\"}, \"zerolinecolor\": \"#E1E5ED\"}},                        {\"showLink\": true, \"linkText\": \"Export to plot.ly\", \"plotlyServerURL\": \"https://plot.ly\", \"responsive\": true}                    ).then(function(){\n",
       "                            \n",
       "var gd = document.getElementById('1648d03a-7dbb-4217-9415-0221c0e67935');\n",
       "var x = new MutationObserver(function (mutations, observer) {{\n",
       "        var display = window.getComputedStyle(gd).display;\n",
       "        if (!display || display === 'none') {{\n",
       "            console.log([gd, 'removed!']);\n",
       "            Plotly.purge(gd);\n",
       "            observer.disconnect();\n",
       "        }}\n",
       "}});\n",
       "\n",
       "// Listen for the removal of the full notebook cells\n",
       "var notebookContainer = gd.closest('#notebook-container');\n",
       "if (notebookContainer) {{\n",
       "    x.observe(notebookContainer, {childList: true});\n",
       "}}\n",
       "\n",
       "// Listen for the clearing of the current output cell\n",
       "var outputEl = gd.closest('.output');\n",
       "if (outputEl) {{\n",
       "    x.observe(outputEl, {childList: true});\n",
       "}}\n",
       "\n",
       "                        })                };                });            </script>        </div>"
      ]
     },
     "metadata": {},
     "output_type": "display_data"
    }
   ],
   "source": [
    "df3 = pd.DataFrame({'x':[1,2,3,4,5],'y':[10,20,30,20,10],'z':[5,4,3,2,1]})\n",
    "df3.iplot(kind='surface',colorscale='rdylbu')"
   ]
  },
  {
   "cell_type": "markdown",
   "metadata": {},
   "source": [
    "## Spread"
   ]
  },
  {
   "cell_type": "code",
   "execution_count": 20,
   "metadata": {},
   "outputs": [
    {
     "name": "stderr",
     "output_type": "stream",
     "text": [
      "C:\\Users\\harik\\anaconda3\\lib\\site-packages\\cufflinks\\plotlytools.py:849: FutureWarning:\n",
      "\n",
      "The pandas.np module is deprecated and will be removed from pandas in a future version. Import numpy directly instead\n",
      "\n",
      "C:\\Users\\harik\\anaconda3\\lib\\site-packages\\cufflinks\\plotlytools.py:850: FutureWarning:\n",
      "\n",
      "The pandas.np module is deprecated and will be removed from pandas in a future version. Import numpy directly instead\n",
      "\n"
     ]
    },
    {
     "data": {
      "application/vnd.plotly.v1+json": {
       "config": {
        "linkText": "Export to plot.ly",
        "plotlyServerURL": "https://plot.ly",
        "showLink": true
       },
       "data": [
        {
         "line": {
          "color": "rgba(255, 153, 51, 1.0)",
          "dash": "solid",
          "shape": "linear",
          "width": 1.3
         },
         "mode": "lines",
         "name": "A",
         "text": "",
         "type": "scatter",
         "x": [
          0,
          1,
          2,
          3,
          4,
          5,
          6,
          7,
          8,
          9,
          10,
          11,
          12,
          13,
          14,
          15,
          16,
          17,
          18,
          19,
          20,
          21,
          22,
          23,
          24,
          25,
          26,
          27,
          28,
          29,
          30,
          31,
          32,
          33,
          34,
          35,
          36,
          37,
          38,
          39,
          40,
          41,
          42,
          43,
          44,
          45,
          46,
          47,
          48,
          49,
          50,
          51,
          52,
          53,
          54,
          55,
          56,
          57,
          58,
          59,
          60,
          61,
          62,
          63,
          64,
          65,
          66,
          67,
          68,
          69,
          70,
          71,
          72,
          73,
          74,
          75,
          76,
          77,
          78,
          79,
          80,
          81,
          82,
          83,
          84,
          85,
          86,
          87,
          88,
          89,
          90,
          91,
          92,
          93,
          94,
          95,
          96,
          97,
          98,
          99
         ],
         "y": [
          -0.39249119533846083,
          -1.3888802447524282,
          0.9320187198753848,
          0.694353564039704,
          0.7344257361752629,
          -1.2230733342365738,
          -0.8244809005601621,
          0.7162297255286217,
          0.2165294575147262,
          -0.2408870384182345,
          1.1114063553829503,
          0.11623195119570866,
          0.11865011429650428,
          0.6419190655473598,
          0.5924914375347973,
          -1.5309904914242096,
          -1.0144836912833508,
          0.17787108284173206,
          1.1945581244349286,
          1.2415482353883005,
          -0.4112001758408989,
          1.7949556218804894,
          0.9533968117682318,
          -0.05388169104593645,
          0.24708490471611128,
          0.25877047914625495,
          0.48537772746154373,
          -0.6316121968562575,
          0.06979028490490342,
          0.19179517799331644,
          -1.6389060193460128,
          0.9568316005620361,
          0.26717277970941045,
          -0.3026993847893387,
          1.1358386331024715,
          0.10544743176293345,
          -0.3299778399054059,
          0.27100520046695425,
          0.06640897537997871,
          1.2022134310294064,
          -0.8275038600805332,
          -1.8297538154580024,
          0.6949224280793794,
          -0.5453678996930036,
          1.0511010453471554,
          0.5928559996789496,
          -0.06112588854125373,
          -0.33259830544963653,
          -0.9095544388303258,
          -0.06519574555535969,
          -0.7396712807137552,
          -0.7972607228576862,
          0.8992819989759496,
          -0.48843079131869044,
          0.6247337472023909,
          -0.04368661259913243,
          1.0707374155366922,
          -1.2750425970263084,
          -2.1286830059622077,
          -0.16041042808617528,
          0.8995574231400747,
          -1.1093579889045484,
          0.24647782191751233,
          0.1622166523400865,
          -1.9262665166541684,
          -0.11425757020942486,
          1.6970107669806103,
          -0.5660708839996262,
          -0.5255668865650605,
          -0.013986122764662883,
          -0.7297632456108951,
          1.4244002945727672,
          -1.77433674788825,
          -0.5638562033370994,
          -0.5015545170673178,
          -1.5485746003489604,
          -0.42447048714593744,
          0.5227658730223655,
          -1.5510798620613335,
          -0.4326482754580784,
          -0.19418294085652998,
          2.320301562215529,
          0.6421355412935974,
          1.0132407626820426,
          0.8751950847102844,
          0.06786618667413867,
          -1.1957715770422013,
          -0.8756342227097039,
          0.8339918704633829,
          -0.9198970809358937,
          -1.3972272495036677,
          1.023120644082157,
          -1.457450824800944,
          -0.16951331764207347,
          -1.129058458402131,
          2.127667416680669,
          -0.8176154890128692,
          1.2109557386846754,
          -0.30743944371779625,
          0.16609731130823885
         ]
        },
        {
         "line": {
          "color": "rgba(55, 128, 191, 1.0)",
          "dash": "solid",
          "shape": "linear",
          "width": 1.3
         },
         "mode": "lines",
         "name": "B",
         "text": "",
         "type": "scatter",
         "x": [
          0,
          1,
          2,
          3,
          4,
          5,
          6,
          7,
          8,
          9,
          10,
          11,
          12,
          13,
          14,
          15,
          16,
          17,
          18,
          19,
          20,
          21,
          22,
          23,
          24,
          25,
          26,
          27,
          28,
          29,
          30,
          31,
          32,
          33,
          34,
          35,
          36,
          37,
          38,
          39,
          40,
          41,
          42,
          43,
          44,
          45,
          46,
          47,
          48,
          49,
          50,
          51,
          52,
          53,
          54,
          55,
          56,
          57,
          58,
          59,
          60,
          61,
          62,
          63,
          64,
          65,
          66,
          67,
          68,
          69,
          70,
          71,
          72,
          73,
          74,
          75,
          76,
          77,
          78,
          79,
          80,
          81,
          82,
          83,
          84,
          85,
          86,
          87,
          88,
          89,
          90,
          91,
          92,
          93,
          94,
          95,
          96,
          97,
          98,
          99
         ],
         "y": [
          0.10480144276968774,
          -2.2448421163275762,
          -0.10385752502981002,
          0.07587343198180303,
          0.8253080764609732,
          -0.46590149353816884,
          1.720000398792707,
          0.04699268025148138,
          0.6888697082875861,
          -1.5391049448586651,
          1.531707361237052,
          -0.09993967946466119,
          -1.254504242294646,
          -1.2205349028615027,
          1.0727852640083417,
          2.567033067274972,
          -0.6521242358147255,
          1.18401797836042,
          0.5975387129010653,
          1.1964442867936949,
          2.160759870882936,
          -0.08331842428728174,
          -1.5832430789407055,
          -0.47278583853194756,
          -0.8189897202884268,
          0.5523291035570072,
          0.6360732149381493,
          0.6078394093485547,
          -1.524513836860753,
          0.019809751507857323,
          0.36345148832240715,
          0.5229061031796399,
          -1.397573910854617,
          0.5051465500992074,
          2.74628313657978,
          0.8120454689264269,
          -1.2650901112701955,
          1.232961382327399,
          -0.3204634182661983,
          1.7667021889194712,
          -0.5183017375342086,
          0.9557565205566079,
          -0.8086490205068385,
          -0.45212422534360897,
          1.2309789313304136,
          -1.3160441618070073,
          -2.0787989453683213,
          -0.2514029947741344,
          0.9867684647074665,
          -2.1990333320540243,
          -0.34497633052762716,
          0.8639628692687408,
          -0.21389997301921213,
          1.0066686519064196,
          0.015285295518240219,
          0.16553727871273421,
          -0.3422559844465687,
          0.18582729884952723,
          -0.5185663434101322,
          0.18913410433325986,
          0.39113332341307633,
          -0.18854993521329608,
          -0.14869197202417253,
          -1.1771622810743556,
          1.3307583915936658,
          -1.0811490526736167,
          1.0091713921321324,
          -0.04562912974048219,
          -0.44860879206069726,
          -0.875699653930691,
          -0.9595772536161237,
          2.2610482349970145,
          0.673684214746933,
          0.3855515807541555,
          -0.5870000829314124,
          -0.6238089402650726,
          1.8241779691481275,
          1.3040691198754766,
          1.4022082707660175,
          -0.02802869965795411,
          -1.3025100590842051,
          0.42446491321503954,
          -1.332092580693879,
          0.24818581948371962,
          -0.5430116861802801,
          -0.25308285294068034,
          -0.7847086131345495,
          0.09962225805782671,
          -0.4468545812432021,
          -1.3879365467126263,
          -1.8354406655645414,
          0.20141758971530174,
          0.6401032427603514,
          0.16832901628415473,
          0.3181880472684637,
          -0.5806466226491991,
          0.6052428295290574,
          2.367193516786903,
          -1.430962307666061,
          1.322035884985864
         ]
        },
        {
         "connectgaps": false,
         "fill": "tozeroy",
         "line": {
          "color": "green",
          "dash": "solid",
          "shape": "linear",
          "width": 0.5
         },
         "mode": "lines",
         "name": "Spread",
         "showlegend": false,
         "type": "scatter",
         "x": [
          0,
          1,
          2,
          3,
          4,
          5,
          6,
          7,
          8,
          9,
          10,
          11,
          12,
          13,
          14,
          15,
          16,
          17,
          18,
          19,
          20,
          21,
          22,
          23,
          24,
          25,
          26,
          27,
          28,
          29,
          30,
          31,
          32,
          33,
          34,
          35,
          36,
          37,
          38,
          39,
          40,
          41,
          42,
          43,
          44,
          45,
          46,
          47,
          48,
          49,
          50,
          51,
          52,
          53,
          54,
          55,
          56,
          57,
          58,
          59,
          60,
          61,
          62,
          63,
          64,
          65,
          66,
          67,
          68,
          69,
          70,
          71,
          72,
          73,
          74,
          75,
          76,
          77,
          78,
          79,
          80,
          81,
          82,
          83,
          84,
          85,
          86,
          87,
          88,
          89,
          90,
          91,
          92,
          93,
          94,
          95,
          96,
          97,
          98,
          99
         ],
         "xaxis": "x2",
         "y": [
          "",
          0.855961871575148,
          1.0358762449051948,
          0.618480132057901,
          "",
          "",
          "",
          0.6692370452771403,
          "",
          1.2982179064404307,
          "",
          0.21617163066036985,
          1.3731543565911501,
          1.8624539684088623,
          "",
          "",
          "",
          "",
          0.5970194115338633,
          0.04510394859460565,
          "",
          1.8782740461677712,
          2.5366398907089374,
          0.4189041474860111,
          1.066074625004538,
          "",
          "",
          "",
          1.5943041217656564,
          0.17198542648545911,
          "",
          0.43392549738239616,
          1.6647466905640274,
          "",
          "",
          "",
          0.9351122713647897,
          "",
          0.386872393646177,
          "",
          "",
          "",
          1.503571448586218,
          "",
          "",
          1.908900161485957,
          2.0176730568270678,
          "",
          "",
          2.1338375864986645,
          "",
          "",
          1.1131819719951617,
          "",
          0.6094484516841507,
          "",
          1.412993399983261,
          "",
          "",
          "",
          0.5084240997269984,
          "",
          0.39516979394168483,
          1.3393789334144421,
          "",
          0.9668914824641919,
          0.6878393748484779,
          "",
          "",
          0.8617135311660281,
          0.22981400800522855,
          "",
          "",
          "",
          0.08544556586409457,
          "",
          "",
          "",
          "",
          "",
          1.1083271182276753,
          1.8958366490004894,
          1.9742281219874764,
          0.7650549431983229,
          1.4182067708905643,
          0.320949039614819,
          "",
          "",
          1.280846451706585,
          0.4680394657767326,
          0.4382134160608737,
          0.8217030543668552,
          "",
          "",
          "",
          2.708314039329868,
          "",
          "",
          1.1235228639482646,
          ""
         ],
         "yaxis": "y2"
        },
        {
         "connectgaps": false,
         "fill": "tozeroy",
         "line": {
          "color": "red",
          "dash": "solid",
          "shape": "linear",
          "width": 0.5
         },
         "mode": "lines",
         "name": "Spread",
         "showlegend": false,
         "type": "scatter",
         "x": [
          0,
          1,
          2,
          3,
          4,
          5,
          6,
          7,
          8,
          9,
          10,
          11,
          12,
          13,
          14,
          15,
          16,
          17,
          18,
          19,
          20,
          21,
          22,
          23,
          24,
          25,
          26,
          27,
          28,
          29,
          30,
          31,
          32,
          33,
          34,
          35,
          36,
          37,
          38,
          39,
          40,
          41,
          42,
          43,
          44,
          45,
          46,
          47,
          48,
          49,
          50,
          51,
          52,
          53,
          54,
          55,
          56,
          57,
          58,
          59,
          60,
          61,
          62,
          63,
          64,
          65,
          66,
          67,
          68,
          69,
          70,
          71,
          72,
          73,
          74,
          75,
          76,
          77,
          78,
          79,
          80,
          81,
          82,
          83,
          84,
          85,
          86,
          87,
          88,
          89,
          90,
          91,
          92,
          93,
          94,
          95,
          96,
          97,
          98,
          99
         ],
         "xaxis": "x2",
         "y": [
          -0.49729263810814855,
          "",
          "",
          "",
          -0.0908823402857103,
          -0.7571718406984049,
          -2.544481299352869,
          "",
          -0.4723402507728599,
          "",
          -0.4203010058541017,
          "",
          "",
          "",
          -0.48029382647354446,
          -4.098023558699182,
          -0.36235945546862536,
          -1.006146895518688,
          "",
          "",
          -2.571960046723835,
          "",
          "",
          "",
          "",
          -0.2935586244107522,
          -0.15069548747660555,
          -1.2394516062048122,
          "",
          "",
          -2.00235750766842,
          "",
          "",
          -0.8078459348885461,
          -1.6104445034773085,
          -0.7065980371634935,
          "",
          -0.9619561818604447,
          "",
          -0.5644887578900648,
          -0.3092021225463246,
          -2.7855103360146103,
          "",
          -0.09324367434939462,
          -0.17987788598325816,
          "",
          "",
          -0.08119531067550212,
          -1.8963229035377922,
          "",
          -0.39469495018612805,
          -1.6612235921264271,
          "",
          -1.4950994432251101,
          "",
          -0.20922389131186664,
          "",
          -1.4608698958758357,
          -1.6101166625520755,
          -0.34954453241943517,
          "",
          -0.9208080536912523,
          "",
          "",
          -3.257024908247834,
          "",
          "",
          -0.5204417542591441,
          -0.0769580945043632,
          "",
          "",
          -0.8366479404242473,
          -2.4480209626351828,
          -0.9494077840912549,
          "",
          -0.9247656600838878,
          -2.248648456294065,
          -0.781303246853111,
          -2.953288132827351,
          -0.40461957580012425,
          "",
          "",
          "",
          "",
          "",
          "",
          -0.41106296390765173,
          -0.9752564807675306,
          "",
          "",
          "",
          "",
          -2.0975540675612954,
          -0.3378423339262282,
          -1.4472465056705948,
          "",
          -1.4228583185419266,
          -1.1562377781022275,
          "",
          -1.155938573677625
         ],
         "yaxis": "y2"
        }
       ],
       "layout": {
        "hovermode": "x",
        "legend": {
         "bgcolor": "#F5F6F9",
         "font": {
          "color": "#4D5663"
         }
        },
        "paper_bgcolor": "#F5F6F9",
        "plot_bgcolor": "#F5F6F9",
        "template": {
         "data": {
          "bar": [
           {
            "error_x": {
             "color": "#2a3f5f"
            },
            "error_y": {
             "color": "#2a3f5f"
            },
            "marker": {
             "line": {
              "color": "#E5ECF6",
              "width": 0.5
             }
            },
            "type": "bar"
           }
          ],
          "barpolar": [
           {
            "marker": {
             "line": {
              "color": "#E5ECF6",
              "width": 0.5
             }
            },
            "type": "barpolar"
           }
          ],
          "carpet": [
           {
            "aaxis": {
             "endlinecolor": "#2a3f5f",
             "gridcolor": "white",
             "linecolor": "white",
             "minorgridcolor": "white",
             "startlinecolor": "#2a3f5f"
            },
            "baxis": {
             "endlinecolor": "#2a3f5f",
             "gridcolor": "white",
             "linecolor": "white",
             "minorgridcolor": "white",
             "startlinecolor": "#2a3f5f"
            },
            "type": "carpet"
           }
          ],
          "choropleth": [
           {
            "colorbar": {
             "outlinewidth": 0,
             "ticks": ""
            },
            "type": "choropleth"
           }
          ],
          "contour": [
           {
            "colorbar": {
             "outlinewidth": 0,
             "ticks": ""
            },
            "colorscale": [
             [
              0,
              "#0d0887"
             ],
             [
              0.1111111111111111,
              "#46039f"
             ],
             [
              0.2222222222222222,
              "#7201a8"
             ],
             [
              0.3333333333333333,
              "#9c179e"
             ],
             [
              0.4444444444444444,
              "#bd3786"
             ],
             [
              0.5555555555555556,
              "#d8576b"
             ],
             [
              0.6666666666666666,
              "#ed7953"
             ],
             [
              0.7777777777777778,
              "#fb9f3a"
             ],
             [
              0.8888888888888888,
              "#fdca26"
             ],
             [
              1,
              "#f0f921"
             ]
            ],
            "type": "contour"
           }
          ],
          "contourcarpet": [
           {
            "colorbar": {
             "outlinewidth": 0,
             "ticks": ""
            },
            "type": "contourcarpet"
           }
          ],
          "heatmap": [
           {
            "colorbar": {
             "outlinewidth": 0,
             "ticks": ""
            },
            "colorscale": [
             [
              0,
              "#0d0887"
             ],
             [
              0.1111111111111111,
              "#46039f"
             ],
             [
              0.2222222222222222,
              "#7201a8"
             ],
             [
              0.3333333333333333,
              "#9c179e"
             ],
             [
              0.4444444444444444,
              "#bd3786"
             ],
             [
              0.5555555555555556,
              "#d8576b"
             ],
             [
              0.6666666666666666,
              "#ed7953"
             ],
             [
              0.7777777777777778,
              "#fb9f3a"
             ],
             [
              0.8888888888888888,
              "#fdca26"
             ],
             [
              1,
              "#f0f921"
             ]
            ],
            "type": "heatmap"
           }
          ],
          "heatmapgl": [
           {
            "colorbar": {
             "outlinewidth": 0,
             "ticks": ""
            },
            "colorscale": [
             [
              0,
              "#0d0887"
             ],
             [
              0.1111111111111111,
              "#46039f"
             ],
             [
              0.2222222222222222,
              "#7201a8"
             ],
             [
              0.3333333333333333,
              "#9c179e"
             ],
             [
              0.4444444444444444,
              "#bd3786"
             ],
             [
              0.5555555555555556,
              "#d8576b"
             ],
             [
              0.6666666666666666,
              "#ed7953"
             ],
             [
              0.7777777777777778,
              "#fb9f3a"
             ],
             [
              0.8888888888888888,
              "#fdca26"
             ],
             [
              1,
              "#f0f921"
             ]
            ],
            "type": "heatmapgl"
           }
          ],
          "histogram": [
           {
            "marker": {
             "colorbar": {
              "outlinewidth": 0,
              "ticks": ""
             }
            },
            "type": "histogram"
           }
          ],
          "histogram2d": [
           {
            "colorbar": {
             "outlinewidth": 0,
             "ticks": ""
            },
            "colorscale": [
             [
              0,
              "#0d0887"
             ],
             [
              0.1111111111111111,
              "#46039f"
             ],
             [
              0.2222222222222222,
              "#7201a8"
             ],
             [
              0.3333333333333333,
              "#9c179e"
             ],
             [
              0.4444444444444444,
              "#bd3786"
             ],
             [
              0.5555555555555556,
              "#d8576b"
             ],
             [
              0.6666666666666666,
              "#ed7953"
             ],
             [
              0.7777777777777778,
              "#fb9f3a"
             ],
             [
              0.8888888888888888,
              "#fdca26"
             ],
             [
              1,
              "#f0f921"
             ]
            ],
            "type": "histogram2d"
           }
          ],
          "histogram2dcontour": [
           {
            "colorbar": {
             "outlinewidth": 0,
             "ticks": ""
            },
            "colorscale": [
             [
              0,
              "#0d0887"
             ],
             [
              0.1111111111111111,
              "#46039f"
             ],
             [
              0.2222222222222222,
              "#7201a8"
             ],
             [
              0.3333333333333333,
              "#9c179e"
             ],
             [
              0.4444444444444444,
              "#bd3786"
             ],
             [
              0.5555555555555556,
              "#d8576b"
             ],
             [
              0.6666666666666666,
              "#ed7953"
             ],
             [
              0.7777777777777778,
              "#fb9f3a"
             ],
             [
              0.8888888888888888,
              "#fdca26"
             ],
             [
              1,
              "#f0f921"
             ]
            ],
            "type": "histogram2dcontour"
           }
          ],
          "mesh3d": [
           {
            "colorbar": {
             "outlinewidth": 0,
             "ticks": ""
            },
            "type": "mesh3d"
           }
          ],
          "parcoords": [
           {
            "line": {
             "colorbar": {
              "outlinewidth": 0,
              "ticks": ""
             }
            },
            "type": "parcoords"
           }
          ],
          "pie": [
           {
            "automargin": true,
            "type": "pie"
           }
          ],
          "scatter": [
           {
            "marker": {
             "colorbar": {
              "outlinewidth": 0,
              "ticks": ""
             }
            },
            "type": "scatter"
           }
          ],
          "scatter3d": [
           {
            "line": {
             "colorbar": {
              "outlinewidth": 0,
              "ticks": ""
             }
            },
            "marker": {
             "colorbar": {
              "outlinewidth": 0,
              "ticks": ""
             }
            },
            "type": "scatter3d"
           }
          ],
          "scattercarpet": [
           {
            "marker": {
             "colorbar": {
              "outlinewidth": 0,
              "ticks": ""
             }
            },
            "type": "scattercarpet"
           }
          ],
          "scattergeo": [
           {
            "marker": {
             "colorbar": {
              "outlinewidth": 0,
              "ticks": ""
             }
            },
            "type": "scattergeo"
           }
          ],
          "scattergl": [
           {
            "marker": {
             "colorbar": {
              "outlinewidth": 0,
              "ticks": ""
             }
            },
            "type": "scattergl"
           }
          ],
          "scattermapbox": [
           {
            "marker": {
             "colorbar": {
              "outlinewidth": 0,
              "ticks": ""
             }
            },
            "type": "scattermapbox"
           }
          ],
          "scatterpolar": [
           {
            "marker": {
             "colorbar": {
              "outlinewidth": 0,
              "ticks": ""
             }
            },
            "type": "scatterpolar"
           }
          ],
          "scatterpolargl": [
           {
            "marker": {
             "colorbar": {
              "outlinewidth": 0,
              "ticks": ""
             }
            },
            "type": "scatterpolargl"
           }
          ],
          "scatterternary": [
           {
            "marker": {
             "colorbar": {
              "outlinewidth": 0,
              "ticks": ""
             }
            },
            "type": "scatterternary"
           }
          ],
          "surface": [
           {
            "colorbar": {
             "outlinewidth": 0,
             "ticks": ""
            },
            "colorscale": [
             [
              0,
              "#0d0887"
             ],
             [
              0.1111111111111111,
              "#46039f"
             ],
             [
              0.2222222222222222,
              "#7201a8"
             ],
             [
              0.3333333333333333,
              "#9c179e"
             ],
             [
              0.4444444444444444,
              "#bd3786"
             ],
             [
              0.5555555555555556,
              "#d8576b"
             ],
             [
              0.6666666666666666,
              "#ed7953"
             ],
             [
              0.7777777777777778,
              "#fb9f3a"
             ],
             [
              0.8888888888888888,
              "#fdca26"
             ],
             [
              1,
              "#f0f921"
             ]
            ],
            "type": "surface"
           }
          ],
          "table": [
           {
            "cells": {
             "fill": {
              "color": "#EBF0F8"
             },
             "line": {
              "color": "white"
             }
            },
            "header": {
             "fill": {
              "color": "#C8D4E3"
             },
             "line": {
              "color": "white"
             }
            },
            "type": "table"
           }
          ]
         },
         "layout": {
          "annotationdefaults": {
           "arrowcolor": "#2a3f5f",
           "arrowhead": 0,
           "arrowwidth": 1
          },
          "autotypenumbers": "strict",
          "coloraxis": {
           "colorbar": {
            "outlinewidth": 0,
            "ticks": ""
           }
          },
          "colorscale": {
           "diverging": [
            [
             0,
             "#8e0152"
            ],
            [
             0.1,
             "#c51b7d"
            ],
            [
             0.2,
             "#de77ae"
            ],
            [
             0.3,
             "#f1b6da"
            ],
            [
             0.4,
             "#fde0ef"
            ],
            [
             0.5,
             "#f7f7f7"
            ],
            [
             0.6,
             "#e6f5d0"
            ],
            [
             0.7,
             "#b8e186"
            ],
            [
             0.8,
             "#7fbc41"
            ],
            [
             0.9,
             "#4d9221"
            ],
            [
             1,
             "#276419"
            ]
           ],
           "sequential": [
            [
             0,
             "#0d0887"
            ],
            [
             0.1111111111111111,
             "#46039f"
            ],
            [
             0.2222222222222222,
             "#7201a8"
            ],
            [
             0.3333333333333333,
             "#9c179e"
            ],
            [
             0.4444444444444444,
             "#bd3786"
            ],
            [
             0.5555555555555556,
             "#d8576b"
            ],
            [
             0.6666666666666666,
             "#ed7953"
            ],
            [
             0.7777777777777778,
             "#fb9f3a"
            ],
            [
             0.8888888888888888,
             "#fdca26"
            ],
            [
             1,
             "#f0f921"
            ]
           ],
           "sequentialminus": [
            [
             0,
             "#0d0887"
            ],
            [
             0.1111111111111111,
             "#46039f"
            ],
            [
             0.2222222222222222,
             "#7201a8"
            ],
            [
             0.3333333333333333,
             "#9c179e"
            ],
            [
             0.4444444444444444,
             "#bd3786"
            ],
            [
             0.5555555555555556,
             "#d8576b"
            ],
            [
             0.6666666666666666,
             "#ed7953"
            ],
            [
             0.7777777777777778,
             "#fb9f3a"
            ],
            [
             0.8888888888888888,
             "#fdca26"
            ],
            [
             1,
             "#f0f921"
            ]
           ]
          },
          "colorway": [
           "#636efa",
           "#EF553B",
           "#00cc96",
           "#ab63fa",
           "#FFA15A",
           "#19d3f3",
           "#FF6692",
           "#B6E880",
           "#FF97FF",
           "#FECB52"
          ],
          "font": {
           "color": "#2a3f5f"
          },
          "geo": {
           "bgcolor": "white",
           "lakecolor": "white",
           "landcolor": "#E5ECF6",
           "showlakes": true,
           "showland": true,
           "subunitcolor": "white"
          },
          "hoverlabel": {
           "align": "left"
          },
          "hovermode": "closest",
          "mapbox": {
           "style": "light"
          },
          "paper_bgcolor": "white",
          "plot_bgcolor": "#E5ECF6",
          "polar": {
           "angularaxis": {
            "gridcolor": "white",
            "linecolor": "white",
            "ticks": ""
           },
           "bgcolor": "#E5ECF6",
           "radialaxis": {
            "gridcolor": "white",
            "linecolor": "white",
            "ticks": ""
           }
          },
          "scene": {
           "xaxis": {
            "backgroundcolor": "#E5ECF6",
            "gridcolor": "white",
            "gridwidth": 2,
            "linecolor": "white",
            "showbackground": true,
            "ticks": "",
            "zerolinecolor": "white"
           },
           "yaxis": {
            "backgroundcolor": "#E5ECF6",
            "gridcolor": "white",
            "gridwidth": 2,
            "linecolor": "white",
            "showbackground": true,
            "ticks": "",
            "zerolinecolor": "white"
           },
           "zaxis": {
            "backgroundcolor": "#E5ECF6",
            "gridcolor": "white",
            "gridwidth": 2,
            "linecolor": "white",
            "showbackground": true,
            "ticks": "",
            "zerolinecolor": "white"
           }
          },
          "shapedefaults": {
           "line": {
            "color": "#2a3f5f"
           }
          },
          "ternary": {
           "aaxis": {
            "gridcolor": "white",
            "linecolor": "white",
            "ticks": ""
           },
           "baxis": {
            "gridcolor": "white",
            "linecolor": "white",
            "ticks": ""
           },
           "bgcolor": "#E5ECF6",
           "caxis": {
            "gridcolor": "white",
            "linecolor": "white",
            "ticks": ""
           }
          },
          "title": {
           "x": 0.05
          },
          "xaxis": {
           "automargin": true,
           "gridcolor": "white",
           "linecolor": "white",
           "ticks": "",
           "title": {
            "standoff": 15
           },
           "zerolinecolor": "white",
           "zerolinewidth": 2
          },
          "yaxis": {
           "automargin": true,
           "gridcolor": "white",
           "linecolor": "white",
           "ticks": "",
           "title": {
            "standoff": 15
           },
           "zerolinecolor": "white",
           "zerolinewidth": 2
          }
         }
        },
        "title": {
         "font": {
          "color": "#4D5663"
         }
        },
        "xaxis": {
         "gridcolor": "#E1E5ED",
         "showgrid": true,
         "tickfont": {
          "color": "#4D5663"
         },
         "title": {
          "font": {
           "color": "#4D5663"
          },
          "text": ""
         },
         "zerolinecolor": "#E1E5ED"
        },
        "xaxis2": {
         "anchor": "y2",
         "gridcolor": "#E1E5ED",
         "showgrid": true,
         "showticklabels": false,
         "tickfont": {
          "color": "#4D5663"
         },
         "title": {
          "font": {
           "color": "#4D5663"
          },
          "text": ""
         },
         "zerolinecolor": "#E1E5ED"
        },
        "yaxis": {
         "domain": [
          0.3,
          1
         ],
         "gridcolor": "#E1E5ED",
         "showgrid": true,
         "tickfont": {
          "color": "#4D5663"
         },
         "title": {
          "font": {
           "color": "#4D5663"
          },
          "text": ""
         },
         "zerolinecolor": "#E1E5ED"
        },
        "yaxis2": {
         "domain": [
          0,
          0.25
         ],
         "gridcolor": "#E1E5ED",
         "showgrid": true,
         "tickfont": {
          "color": "#4D5663"
         },
         "title": {
          "font": {
           "color": "#4D5663"
          },
          "text": "Spread"
         },
         "zerolinecolor": "#E1E5ED"
        }
       }
      },
      "text/html": [
       "<div>                            <div id=\"afee220f-d41e-4561-8f18-f06727011da6\" class=\"plotly-graph-div\" style=\"height:525px; width:100%;\"></div>            <script type=\"text/javascript\">                require([\"plotly\"], function(Plotly) {                    window.PLOTLYENV=window.PLOTLYENV || {};\n",
       "                    window.PLOTLYENV.BASE_URL='https://plot.ly';                                    if (document.getElementById(\"afee220f-d41e-4561-8f18-f06727011da6\")) {                    Plotly.newPlot(                        \"afee220f-d41e-4561-8f18-f06727011da6\",                        [{\"line\": {\"color\": \"rgba(255, 153, 51, 1.0)\", \"dash\": \"solid\", \"shape\": \"linear\", \"width\": 1.3}, \"mode\": \"lines\", \"name\": \"A\", \"text\": \"\", \"type\": \"scatter\", \"x\": [0, 1, 2, 3, 4, 5, 6, 7, 8, 9, 10, 11, 12, 13, 14, 15, 16, 17, 18, 19, 20, 21, 22, 23, 24, 25, 26, 27, 28, 29, 30, 31, 32, 33, 34, 35, 36, 37, 38, 39, 40, 41, 42, 43, 44, 45, 46, 47, 48, 49, 50, 51, 52, 53, 54, 55, 56, 57, 58, 59, 60, 61, 62, 63, 64, 65, 66, 67, 68, 69, 70, 71, 72, 73, 74, 75, 76, 77, 78, 79, 80, 81, 82, 83, 84, 85, 86, 87, 88, 89, 90, 91, 92, 93, 94, 95, 96, 97, 98, 99], \"y\": [-0.39249119533846083, -1.3888802447524282, 0.9320187198753848, 0.694353564039704, 0.7344257361752629, -1.2230733342365738, -0.8244809005601621, 0.7162297255286217, 0.2165294575147262, -0.2408870384182345, 1.1114063553829503, 0.11623195119570866, 0.11865011429650428, 0.6419190655473598, 0.5924914375347973, -1.5309904914242096, -1.0144836912833508, 0.17787108284173206, 1.1945581244349286, 1.2415482353883005, -0.4112001758408989, 1.7949556218804894, 0.9533968117682318, -0.05388169104593645, 0.24708490471611128, 0.25877047914625495, 0.48537772746154373, -0.6316121968562575, 0.06979028490490342, 0.19179517799331644, -1.6389060193460128, 0.9568316005620361, 0.26717277970941045, -0.3026993847893387, 1.1358386331024715, 0.10544743176293345, -0.3299778399054059, 0.27100520046695425, 0.06640897537997871, 1.2022134310294064, -0.8275038600805332, -1.8297538154580024, 0.6949224280793794, -0.5453678996930036, 1.0511010453471554, 0.5928559996789496, -0.06112588854125373, -0.33259830544963653, -0.9095544388303258, -0.06519574555535969, -0.7396712807137552, -0.7972607228576862, 0.8992819989759496, -0.48843079131869044, 0.6247337472023909, -0.04368661259913243, 1.0707374155366922, -1.2750425970263084, -2.1286830059622077, -0.16041042808617528, 0.8995574231400747, -1.1093579889045484, 0.24647782191751233, 0.1622166523400865, -1.9262665166541684, -0.11425757020942486, 1.6970107669806103, -0.5660708839996262, -0.5255668865650605, -0.013986122764662883, -0.7297632456108951, 1.4244002945727672, -1.77433674788825, -0.5638562033370994, -0.5015545170673178, -1.5485746003489604, -0.42447048714593744, 0.5227658730223655, -1.5510798620613335, -0.4326482754580784, -0.19418294085652998, 2.320301562215529, 0.6421355412935974, 1.0132407626820426, 0.8751950847102844, 0.06786618667413867, -1.1957715770422013, -0.8756342227097039, 0.8339918704633829, -0.9198970809358937, -1.3972272495036677, 1.023120644082157, -1.457450824800944, -0.16951331764207347, -1.129058458402131, 2.127667416680669, -0.8176154890128692, 1.2109557386846754, -0.30743944371779625, 0.16609731130823885]}, {\"line\": {\"color\": \"rgba(55, 128, 191, 1.0)\", \"dash\": \"solid\", \"shape\": \"linear\", \"width\": 1.3}, \"mode\": \"lines\", \"name\": \"B\", \"text\": \"\", \"type\": \"scatter\", \"x\": [0, 1, 2, 3, 4, 5, 6, 7, 8, 9, 10, 11, 12, 13, 14, 15, 16, 17, 18, 19, 20, 21, 22, 23, 24, 25, 26, 27, 28, 29, 30, 31, 32, 33, 34, 35, 36, 37, 38, 39, 40, 41, 42, 43, 44, 45, 46, 47, 48, 49, 50, 51, 52, 53, 54, 55, 56, 57, 58, 59, 60, 61, 62, 63, 64, 65, 66, 67, 68, 69, 70, 71, 72, 73, 74, 75, 76, 77, 78, 79, 80, 81, 82, 83, 84, 85, 86, 87, 88, 89, 90, 91, 92, 93, 94, 95, 96, 97, 98, 99], \"y\": [0.10480144276968774, -2.2448421163275762, -0.10385752502981002, 0.07587343198180303, 0.8253080764609732, -0.46590149353816884, 1.720000398792707, 0.04699268025148138, 0.6888697082875861, -1.5391049448586651, 1.531707361237052, -0.09993967946466119, -1.254504242294646, -1.2205349028615027, 1.0727852640083417, 2.567033067274972, -0.6521242358147255, 1.18401797836042, 0.5975387129010653, 1.1964442867936949, 2.160759870882936, -0.08331842428728174, -1.5832430789407055, -0.47278583853194756, -0.8189897202884268, 0.5523291035570072, 0.6360732149381493, 0.6078394093485547, -1.524513836860753, 0.019809751507857323, 0.36345148832240715, 0.5229061031796399, -1.397573910854617, 0.5051465500992074, 2.74628313657978, 0.8120454689264269, -1.2650901112701955, 1.232961382327399, -0.3204634182661983, 1.7667021889194712, -0.5183017375342086, 0.9557565205566079, -0.8086490205068385, -0.45212422534360897, 1.2309789313304136, -1.3160441618070073, -2.0787989453683213, -0.2514029947741344, 0.9867684647074665, -2.1990333320540243, -0.34497633052762716, 0.8639628692687408, -0.21389997301921213, 1.0066686519064196, 0.015285295518240219, 0.16553727871273421, -0.3422559844465687, 0.18582729884952723, -0.5185663434101322, 0.18913410433325986, 0.39113332341307633, -0.18854993521329608, -0.14869197202417253, -1.1771622810743556, 1.3307583915936658, -1.0811490526736167, 1.0091713921321324, -0.04562912974048219, -0.44860879206069726, -0.875699653930691, -0.9595772536161237, 2.2610482349970145, 0.673684214746933, 0.3855515807541555, -0.5870000829314124, -0.6238089402650726, 1.8241779691481275, 1.3040691198754766, 1.4022082707660175, -0.02802869965795411, -1.3025100590842051, 0.42446491321503954, -1.332092580693879, 0.24818581948371962, -0.5430116861802801, -0.25308285294068034, -0.7847086131345495, 0.09962225805782671, -0.4468545812432021, -1.3879365467126263, -1.8354406655645414, 0.20141758971530174, 0.6401032427603514, 0.16832901628415473, 0.3181880472684637, -0.5806466226491991, 0.6052428295290574, 2.367193516786903, -1.430962307666061, 1.322035884985864]}, {\"connectgaps\": false, \"fill\": \"tozeroy\", \"line\": {\"color\": \"green\", \"dash\": \"solid\", \"shape\": \"linear\", \"width\": 0.5}, \"mode\": \"lines\", \"name\": \"Spread\", \"showlegend\": false, \"type\": \"scatter\", \"x\": [0, 1, 2, 3, 4, 5, 6, 7, 8, 9, 10, 11, 12, 13, 14, 15, 16, 17, 18, 19, 20, 21, 22, 23, 24, 25, 26, 27, 28, 29, 30, 31, 32, 33, 34, 35, 36, 37, 38, 39, 40, 41, 42, 43, 44, 45, 46, 47, 48, 49, 50, 51, 52, 53, 54, 55, 56, 57, 58, 59, 60, 61, 62, 63, 64, 65, 66, 67, 68, 69, 70, 71, 72, 73, 74, 75, 76, 77, 78, 79, 80, 81, 82, 83, 84, 85, 86, 87, 88, 89, 90, 91, 92, 93, 94, 95, 96, 97, 98, 99], \"xaxis\": \"x2\", \"y\": [\"\", 0.855961871575148, 1.0358762449051948, 0.618480132057901, \"\", \"\", \"\", 0.6692370452771403, \"\", 1.2982179064404307, \"\", 0.21617163066036985, 1.3731543565911501, 1.8624539684088623, \"\", \"\", \"\", \"\", 0.5970194115338633, 0.04510394859460565, \"\", 1.8782740461677712, 2.5366398907089374, 0.4189041474860111, 1.066074625004538, \"\", \"\", \"\", 1.5943041217656564, 0.17198542648545911, \"\", 0.43392549738239616, 1.6647466905640274, \"\", \"\", \"\", 0.9351122713647897, \"\", 0.386872393646177, \"\", \"\", \"\", 1.503571448586218, \"\", \"\", 1.908900161485957, 2.0176730568270678, \"\", \"\", 2.1338375864986645, \"\", \"\", 1.1131819719951617, \"\", 0.6094484516841507, \"\", 1.412993399983261, \"\", \"\", \"\", 0.5084240997269984, \"\", 0.39516979394168483, 1.3393789334144421, \"\", 0.9668914824641919, 0.6878393748484779, \"\", \"\", 0.8617135311660281, 0.22981400800522855, \"\", \"\", \"\", 0.08544556586409457, \"\", \"\", \"\", \"\", \"\", 1.1083271182276753, 1.8958366490004894, 1.9742281219874764, 0.7650549431983229, 1.4182067708905643, 0.320949039614819, \"\", \"\", 1.280846451706585, 0.4680394657767326, 0.4382134160608737, 0.8217030543668552, \"\", \"\", \"\", 2.708314039329868, \"\", \"\", 1.1235228639482646, \"\"], \"yaxis\": \"y2\"}, {\"connectgaps\": false, \"fill\": \"tozeroy\", \"line\": {\"color\": \"red\", \"dash\": \"solid\", \"shape\": \"linear\", \"width\": 0.5}, \"mode\": \"lines\", \"name\": \"Spread\", \"showlegend\": false, \"type\": \"scatter\", \"x\": [0, 1, 2, 3, 4, 5, 6, 7, 8, 9, 10, 11, 12, 13, 14, 15, 16, 17, 18, 19, 20, 21, 22, 23, 24, 25, 26, 27, 28, 29, 30, 31, 32, 33, 34, 35, 36, 37, 38, 39, 40, 41, 42, 43, 44, 45, 46, 47, 48, 49, 50, 51, 52, 53, 54, 55, 56, 57, 58, 59, 60, 61, 62, 63, 64, 65, 66, 67, 68, 69, 70, 71, 72, 73, 74, 75, 76, 77, 78, 79, 80, 81, 82, 83, 84, 85, 86, 87, 88, 89, 90, 91, 92, 93, 94, 95, 96, 97, 98, 99], \"xaxis\": \"x2\", \"y\": [-0.49729263810814855, \"\", \"\", \"\", -0.0908823402857103, -0.7571718406984049, -2.544481299352869, \"\", -0.4723402507728599, \"\", -0.4203010058541017, \"\", \"\", \"\", -0.48029382647354446, -4.098023558699182, -0.36235945546862536, -1.006146895518688, \"\", \"\", -2.571960046723835, \"\", \"\", \"\", \"\", -0.2935586244107522, -0.15069548747660555, -1.2394516062048122, \"\", \"\", -2.00235750766842, \"\", \"\", -0.8078459348885461, -1.6104445034773085, -0.7065980371634935, \"\", -0.9619561818604447, \"\", -0.5644887578900648, -0.3092021225463246, -2.7855103360146103, \"\", -0.09324367434939462, -0.17987788598325816, \"\", \"\", -0.08119531067550212, -1.8963229035377922, \"\", -0.39469495018612805, -1.6612235921264271, \"\", -1.4950994432251101, \"\", -0.20922389131186664, \"\", -1.4608698958758357, -1.6101166625520755, -0.34954453241943517, \"\", -0.9208080536912523, \"\", \"\", -3.257024908247834, \"\", \"\", -0.5204417542591441, -0.0769580945043632, \"\", \"\", -0.8366479404242473, -2.4480209626351828, -0.9494077840912549, \"\", -0.9247656600838878, -2.248648456294065, -0.781303246853111, -2.953288132827351, -0.40461957580012425, \"\", \"\", \"\", \"\", \"\", \"\", -0.41106296390765173, -0.9752564807675306, \"\", \"\", \"\", \"\", -2.0975540675612954, -0.3378423339262282, -1.4472465056705948, \"\", -1.4228583185419266, -1.1562377781022275, \"\", -1.155938573677625], \"yaxis\": \"y2\"}],                        {\"hovermode\": \"x\", \"legend\": {\"bgcolor\": \"#F5F6F9\", \"font\": {\"color\": \"#4D5663\"}}, \"paper_bgcolor\": \"#F5F6F9\", \"plot_bgcolor\": \"#F5F6F9\", \"template\": {\"data\": {\"bar\": [{\"error_x\": {\"color\": \"#2a3f5f\"}, \"error_y\": {\"color\": \"#2a3f5f\"}, \"marker\": {\"line\": {\"color\": \"#E5ECF6\", \"width\": 0.5}}, \"type\": \"bar\"}], \"barpolar\": [{\"marker\": {\"line\": {\"color\": \"#E5ECF6\", \"width\": 0.5}}, \"type\": \"barpolar\"}], \"carpet\": [{\"aaxis\": {\"endlinecolor\": \"#2a3f5f\", \"gridcolor\": \"white\", \"linecolor\": \"white\", \"minorgridcolor\": \"white\", \"startlinecolor\": \"#2a3f5f\"}, \"baxis\": {\"endlinecolor\": \"#2a3f5f\", \"gridcolor\": \"white\", \"linecolor\": \"white\", \"minorgridcolor\": \"white\", \"startlinecolor\": \"#2a3f5f\"}, \"type\": \"carpet\"}], \"choropleth\": [{\"colorbar\": {\"outlinewidth\": 0, \"ticks\": \"\"}, \"type\": \"choropleth\"}], \"contour\": [{\"colorbar\": {\"outlinewidth\": 0, \"ticks\": \"\"}, \"colorscale\": [[0.0, \"#0d0887\"], [0.1111111111111111, \"#46039f\"], [0.2222222222222222, \"#7201a8\"], [0.3333333333333333, \"#9c179e\"], [0.4444444444444444, \"#bd3786\"], [0.5555555555555556, \"#d8576b\"], [0.6666666666666666, \"#ed7953\"], [0.7777777777777778, \"#fb9f3a\"], [0.8888888888888888, \"#fdca26\"], [1.0, \"#f0f921\"]], \"type\": \"contour\"}], \"contourcarpet\": [{\"colorbar\": {\"outlinewidth\": 0, \"ticks\": \"\"}, \"type\": \"contourcarpet\"}], \"heatmap\": [{\"colorbar\": {\"outlinewidth\": 0, \"ticks\": \"\"}, \"colorscale\": [[0.0, \"#0d0887\"], [0.1111111111111111, \"#46039f\"], [0.2222222222222222, \"#7201a8\"], [0.3333333333333333, \"#9c179e\"], [0.4444444444444444, \"#bd3786\"], [0.5555555555555556, \"#d8576b\"], [0.6666666666666666, \"#ed7953\"], [0.7777777777777778, \"#fb9f3a\"], [0.8888888888888888, \"#fdca26\"], [1.0, \"#f0f921\"]], \"type\": \"heatmap\"}], \"heatmapgl\": [{\"colorbar\": {\"outlinewidth\": 0, \"ticks\": \"\"}, \"colorscale\": [[0.0, \"#0d0887\"], [0.1111111111111111, \"#46039f\"], [0.2222222222222222, \"#7201a8\"], [0.3333333333333333, \"#9c179e\"], [0.4444444444444444, \"#bd3786\"], [0.5555555555555556, \"#d8576b\"], [0.6666666666666666, \"#ed7953\"], [0.7777777777777778, \"#fb9f3a\"], [0.8888888888888888, \"#fdca26\"], [1.0, \"#f0f921\"]], \"type\": \"heatmapgl\"}], \"histogram\": [{\"marker\": {\"colorbar\": {\"outlinewidth\": 0, \"ticks\": \"\"}}, \"type\": \"histogram\"}], \"histogram2d\": [{\"colorbar\": {\"outlinewidth\": 0, \"ticks\": \"\"}, \"colorscale\": [[0.0, \"#0d0887\"], [0.1111111111111111, \"#46039f\"], [0.2222222222222222, \"#7201a8\"], [0.3333333333333333, \"#9c179e\"], [0.4444444444444444, \"#bd3786\"], [0.5555555555555556, \"#d8576b\"], [0.6666666666666666, \"#ed7953\"], [0.7777777777777778, \"#fb9f3a\"], [0.8888888888888888, \"#fdca26\"], [1.0, \"#f0f921\"]], \"type\": \"histogram2d\"}], \"histogram2dcontour\": [{\"colorbar\": {\"outlinewidth\": 0, \"ticks\": \"\"}, \"colorscale\": [[0.0, \"#0d0887\"], [0.1111111111111111, \"#46039f\"], [0.2222222222222222, \"#7201a8\"], [0.3333333333333333, \"#9c179e\"], [0.4444444444444444, \"#bd3786\"], [0.5555555555555556, \"#d8576b\"], [0.6666666666666666, \"#ed7953\"], [0.7777777777777778, \"#fb9f3a\"], [0.8888888888888888, \"#fdca26\"], [1.0, \"#f0f921\"]], \"type\": \"histogram2dcontour\"}], \"mesh3d\": [{\"colorbar\": {\"outlinewidth\": 0, \"ticks\": \"\"}, \"type\": \"mesh3d\"}], \"parcoords\": [{\"line\": {\"colorbar\": {\"outlinewidth\": 0, \"ticks\": \"\"}}, \"type\": \"parcoords\"}], \"pie\": [{\"automargin\": true, \"type\": \"pie\"}], \"scatter\": [{\"marker\": {\"colorbar\": {\"outlinewidth\": 0, \"ticks\": \"\"}}, \"type\": \"scatter\"}], \"scatter3d\": [{\"line\": {\"colorbar\": {\"outlinewidth\": 0, \"ticks\": \"\"}}, \"marker\": {\"colorbar\": {\"outlinewidth\": 0, \"ticks\": \"\"}}, \"type\": \"scatter3d\"}], \"scattercarpet\": [{\"marker\": {\"colorbar\": {\"outlinewidth\": 0, \"ticks\": \"\"}}, \"type\": \"scattercarpet\"}], \"scattergeo\": [{\"marker\": {\"colorbar\": {\"outlinewidth\": 0, \"ticks\": \"\"}}, \"type\": \"scattergeo\"}], \"scattergl\": [{\"marker\": {\"colorbar\": {\"outlinewidth\": 0, \"ticks\": \"\"}}, \"type\": \"scattergl\"}], \"scattermapbox\": [{\"marker\": {\"colorbar\": {\"outlinewidth\": 0, \"ticks\": \"\"}}, \"type\": \"scattermapbox\"}], \"scatterpolar\": [{\"marker\": {\"colorbar\": {\"outlinewidth\": 0, \"ticks\": \"\"}}, \"type\": \"scatterpolar\"}], \"scatterpolargl\": [{\"marker\": {\"colorbar\": {\"outlinewidth\": 0, \"ticks\": \"\"}}, \"type\": \"scatterpolargl\"}], \"scatterternary\": [{\"marker\": {\"colorbar\": {\"outlinewidth\": 0, \"ticks\": \"\"}}, \"type\": \"scatterternary\"}], \"surface\": [{\"colorbar\": {\"outlinewidth\": 0, \"ticks\": \"\"}, \"colorscale\": [[0.0, \"#0d0887\"], [0.1111111111111111, \"#46039f\"], [0.2222222222222222, \"#7201a8\"], [0.3333333333333333, \"#9c179e\"], [0.4444444444444444, \"#bd3786\"], [0.5555555555555556, \"#d8576b\"], [0.6666666666666666, \"#ed7953\"], [0.7777777777777778, \"#fb9f3a\"], [0.8888888888888888, \"#fdca26\"], [1.0, \"#f0f921\"]], \"type\": \"surface\"}], \"table\": [{\"cells\": {\"fill\": {\"color\": \"#EBF0F8\"}, \"line\": {\"color\": \"white\"}}, \"header\": {\"fill\": {\"color\": \"#C8D4E3\"}, \"line\": {\"color\": \"white\"}}, \"type\": \"table\"}]}, \"layout\": {\"annotationdefaults\": {\"arrowcolor\": \"#2a3f5f\", \"arrowhead\": 0, \"arrowwidth\": 1}, \"autotypenumbers\": \"strict\", \"coloraxis\": {\"colorbar\": {\"outlinewidth\": 0, \"ticks\": \"\"}}, \"colorscale\": {\"diverging\": [[0, \"#8e0152\"], [0.1, \"#c51b7d\"], [0.2, \"#de77ae\"], [0.3, \"#f1b6da\"], [0.4, \"#fde0ef\"], [0.5, \"#f7f7f7\"], [0.6, \"#e6f5d0\"], [0.7, \"#b8e186\"], [0.8, \"#7fbc41\"], [0.9, \"#4d9221\"], [1, \"#276419\"]], \"sequential\": [[0.0, \"#0d0887\"], [0.1111111111111111, \"#46039f\"], [0.2222222222222222, \"#7201a8\"], [0.3333333333333333, \"#9c179e\"], [0.4444444444444444, \"#bd3786\"], [0.5555555555555556, \"#d8576b\"], [0.6666666666666666, \"#ed7953\"], [0.7777777777777778, \"#fb9f3a\"], [0.8888888888888888, \"#fdca26\"], [1.0, \"#f0f921\"]], \"sequentialminus\": [[0.0, \"#0d0887\"], [0.1111111111111111, \"#46039f\"], [0.2222222222222222, \"#7201a8\"], [0.3333333333333333, \"#9c179e\"], [0.4444444444444444, \"#bd3786\"], [0.5555555555555556, \"#d8576b\"], [0.6666666666666666, \"#ed7953\"], [0.7777777777777778, \"#fb9f3a\"], [0.8888888888888888, \"#fdca26\"], [1.0, \"#f0f921\"]]}, \"colorway\": [\"#636efa\", \"#EF553B\", \"#00cc96\", \"#ab63fa\", \"#FFA15A\", \"#19d3f3\", \"#FF6692\", \"#B6E880\", \"#FF97FF\", \"#FECB52\"], \"font\": {\"color\": \"#2a3f5f\"}, \"geo\": {\"bgcolor\": \"white\", \"lakecolor\": \"white\", \"landcolor\": \"#E5ECF6\", \"showlakes\": true, \"showland\": true, \"subunitcolor\": \"white\"}, \"hoverlabel\": {\"align\": \"left\"}, \"hovermode\": \"closest\", \"mapbox\": {\"style\": \"light\"}, \"paper_bgcolor\": \"white\", \"plot_bgcolor\": \"#E5ECF6\", \"polar\": {\"angularaxis\": {\"gridcolor\": \"white\", \"linecolor\": \"white\", \"ticks\": \"\"}, \"bgcolor\": \"#E5ECF6\", \"radialaxis\": {\"gridcolor\": \"white\", \"linecolor\": \"white\", \"ticks\": \"\"}}, \"scene\": {\"xaxis\": {\"backgroundcolor\": \"#E5ECF6\", \"gridcolor\": \"white\", \"gridwidth\": 2, \"linecolor\": \"white\", \"showbackground\": true, \"ticks\": \"\", \"zerolinecolor\": \"white\"}, \"yaxis\": {\"backgroundcolor\": \"#E5ECF6\", \"gridcolor\": \"white\", \"gridwidth\": 2, \"linecolor\": \"white\", \"showbackground\": true, \"ticks\": \"\", \"zerolinecolor\": \"white\"}, \"zaxis\": {\"backgroundcolor\": \"#E5ECF6\", \"gridcolor\": \"white\", \"gridwidth\": 2, \"linecolor\": \"white\", \"showbackground\": true, \"ticks\": \"\", \"zerolinecolor\": \"white\"}}, \"shapedefaults\": {\"line\": {\"color\": \"#2a3f5f\"}}, \"ternary\": {\"aaxis\": {\"gridcolor\": \"white\", \"linecolor\": \"white\", \"ticks\": \"\"}, \"baxis\": {\"gridcolor\": \"white\", \"linecolor\": \"white\", \"ticks\": \"\"}, \"bgcolor\": \"#E5ECF6\", \"caxis\": {\"gridcolor\": \"white\", \"linecolor\": \"white\", \"ticks\": \"\"}}, \"title\": {\"x\": 0.05}, \"xaxis\": {\"automargin\": true, \"gridcolor\": \"white\", \"linecolor\": \"white\", \"ticks\": \"\", \"title\": {\"standoff\": 15}, \"zerolinecolor\": \"white\", \"zerolinewidth\": 2}, \"yaxis\": {\"automargin\": true, \"gridcolor\": \"white\", \"linecolor\": \"white\", \"ticks\": \"\", \"title\": {\"standoff\": 15}, \"zerolinecolor\": \"white\", \"zerolinewidth\": 2}}}, \"title\": {\"font\": {\"color\": \"#4D5663\"}}, \"xaxis\": {\"gridcolor\": \"#E1E5ED\", \"showgrid\": true, \"tickfont\": {\"color\": \"#4D5663\"}, \"title\": {\"font\": {\"color\": \"#4D5663\"}, \"text\": \"\"}, \"zerolinecolor\": \"#E1E5ED\"}, \"xaxis2\": {\"anchor\": \"y2\", \"gridcolor\": \"#E1E5ED\", \"showgrid\": true, \"showticklabels\": false, \"tickfont\": {\"color\": \"#4D5663\"}, \"title\": {\"font\": {\"color\": \"#4D5663\"}, \"text\": \"\"}, \"zerolinecolor\": \"#E1E5ED\"}, \"yaxis\": {\"domain\": [0.3, 1], \"gridcolor\": \"#E1E5ED\", \"showgrid\": true, \"tickfont\": {\"color\": \"#4D5663\"}, \"title\": {\"font\": {\"color\": \"#4D5663\"}, \"text\": \"\"}, \"zerolinecolor\": \"#E1E5ED\"}, \"yaxis2\": {\"domain\": [0, 0.25], \"gridcolor\": \"#E1E5ED\", \"showgrid\": true, \"tickfont\": {\"color\": \"#4D5663\"}, \"title\": {\"font\": {\"color\": \"#4D5663\"}, \"text\": \"Spread\"}, \"zerolinecolor\": \"#E1E5ED\"}},                        {\"showLink\": true, \"linkText\": \"Export to plot.ly\", \"plotlyServerURL\": \"https://plot.ly\", \"responsive\": true}                    ).then(function(){\n",
       "                            \n",
       "var gd = document.getElementById('afee220f-d41e-4561-8f18-f06727011da6');\n",
       "var x = new MutationObserver(function (mutations, observer) {{\n",
       "        var display = window.getComputedStyle(gd).display;\n",
       "        if (!display || display === 'none') {{\n",
       "            console.log([gd, 'removed!']);\n",
       "            Plotly.purge(gd);\n",
       "            observer.disconnect();\n",
       "        }}\n",
       "}});\n",
       "\n",
       "// Listen for the removal of the full notebook cells\n",
       "var notebookContainer = gd.closest('#notebook-container');\n",
       "if (notebookContainer) {{\n",
       "    x.observe(notebookContainer, {childList: true});\n",
       "}}\n",
       "\n",
       "// Listen for the clearing of the current output cell\n",
       "var outputEl = gd.closest('.output');\n",
       "if (outputEl) {{\n",
       "    x.observe(outputEl, {childList: true});\n",
       "}}\n",
       "\n",
       "                        })                };                });            </script>        </div>"
      ]
     },
     "metadata": {},
     "output_type": "display_data"
    }
   ],
   "source": [
    "df[['A','B']].iplot(kind='spread')"
   ]
  },
  {
   "cell_type": "markdown",
   "metadata": {},
   "source": [
    "## histogram"
   ]
  },
  {
   "cell_type": "code",
   "execution_count": 21,
   "metadata": {},
   "outputs": [
    {
     "data": {
      "application/vnd.plotly.v1+json": {
       "config": {
        "linkText": "Export to plot.ly",
        "plotlyServerURL": "https://plot.ly",
        "showLink": true
       },
       "data": [
        {
         "histfunc": "count",
         "histnorm": "",
         "marker": {
          "color": "rgba(255, 153, 51, 1.0)",
          "line": {
           "color": "#4D5663",
           "width": 1.3
          }
         },
         "name": "A",
         "nbinsx": 25,
         "opacity": 0.8,
         "orientation": "v",
         "type": "histogram",
         "x": [
          -0.39249119533846083,
          -1.3888802447524282,
          0.9320187198753848,
          0.694353564039704,
          0.7344257361752629,
          -1.2230733342365738,
          -0.8244809005601621,
          0.7162297255286217,
          0.2165294575147262,
          -0.2408870384182345,
          1.1114063553829503,
          0.11623195119570866,
          0.11865011429650428,
          0.6419190655473598,
          0.5924914375347973,
          -1.5309904914242096,
          -1.0144836912833508,
          0.17787108284173206,
          1.1945581244349286,
          1.2415482353883005,
          -0.4112001758408989,
          1.7949556218804894,
          0.9533968117682318,
          -0.05388169104593645,
          0.24708490471611128,
          0.25877047914625495,
          0.48537772746154373,
          -0.6316121968562575,
          0.06979028490490342,
          0.19179517799331644,
          -1.6389060193460128,
          0.9568316005620361,
          0.26717277970941045,
          -0.3026993847893387,
          1.1358386331024715,
          0.10544743176293345,
          -0.3299778399054059,
          0.27100520046695425,
          0.06640897537997871,
          1.2022134310294064,
          -0.8275038600805332,
          -1.8297538154580024,
          0.6949224280793794,
          -0.5453678996930036,
          1.0511010453471554,
          0.5928559996789496,
          -0.06112588854125373,
          -0.33259830544963653,
          -0.9095544388303258,
          -0.06519574555535969,
          -0.7396712807137552,
          -0.7972607228576862,
          0.8992819989759496,
          -0.48843079131869044,
          0.6247337472023909,
          -0.04368661259913243,
          1.0707374155366922,
          -1.2750425970263084,
          -2.1286830059622077,
          -0.16041042808617528,
          0.8995574231400747,
          -1.1093579889045484,
          0.24647782191751233,
          0.1622166523400865,
          -1.9262665166541684,
          -0.11425757020942486,
          1.6970107669806103,
          -0.5660708839996262,
          -0.5255668865650605,
          -0.013986122764662883,
          -0.7297632456108951,
          1.4244002945727672,
          -1.77433674788825,
          -0.5638562033370994,
          -0.5015545170673178,
          -1.5485746003489604,
          -0.42447048714593744,
          0.5227658730223655,
          -1.5510798620613335,
          -0.4326482754580784,
          -0.19418294085652998,
          2.320301562215529,
          0.6421355412935974,
          1.0132407626820426,
          0.8751950847102844,
          0.06786618667413867,
          -1.1957715770422013,
          -0.8756342227097039,
          0.8339918704633829,
          -0.9198970809358937,
          -1.3972272495036677,
          1.023120644082157,
          -1.457450824800944,
          -0.16951331764207347,
          -1.129058458402131,
          2.127667416680669,
          -0.8176154890128692,
          1.2109557386846754,
          -0.30743944371779625,
          0.16609731130823885
         ]
        }
       ],
       "layout": {
        "barmode": "overlay",
        "legend": {
         "bgcolor": "#F5F6F9",
         "font": {
          "color": "#4D5663"
         }
        },
        "paper_bgcolor": "#F5F6F9",
        "plot_bgcolor": "#F5F6F9",
        "template": {
         "data": {
          "bar": [
           {
            "error_x": {
             "color": "#2a3f5f"
            },
            "error_y": {
             "color": "#2a3f5f"
            },
            "marker": {
             "line": {
              "color": "#E5ECF6",
              "width": 0.5
             }
            },
            "type": "bar"
           }
          ],
          "barpolar": [
           {
            "marker": {
             "line": {
              "color": "#E5ECF6",
              "width": 0.5
             }
            },
            "type": "barpolar"
           }
          ],
          "carpet": [
           {
            "aaxis": {
             "endlinecolor": "#2a3f5f",
             "gridcolor": "white",
             "linecolor": "white",
             "minorgridcolor": "white",
             "startlinecolor": "#2a3f5f"
            },
            "baxis": {
             "endlinecolor": "#2a3f5f",
             "gridcolor": "white",
             "linecolor": "white",
             "minorgridcolor": "white",
             "startlinecolor": "#2a3f5f"
            },
            "type": "carpet"
           }
          ],
          "choropleth": [
           {
            "colorbar": {
             "outlinewidth": 0,
             "ticks": ""
            },
            "type": "choropleth"
           }
          ],
          "contour": [
           {
            "colorbar": {
             "outlinewidth": 0,
             "ticks": ""
            },
            "colorscale": [
             [
              0,
              "#0d0887"
             ],
             [
              0.1111111111111111,
              "#46039f"
             ],
             [
              0.2222222222222222,
              "#7201a8"
             ],
             [
              0.3333333333333333,
              "#9c179e"
             ],
             [
              0.4444444444444444,
              "#bd3786"
             ],
             [
              0.5555555555555556,
              "#d8576b"
             ],
             [
              0.6666666666666666,
              "#ed7953"
             ],
             [
              0.7777777777777778,
              "#fb9f3a"
             ],
             [
              0.8888888888888888,
              "#fdca26"
             ],
             [
              1,
              "#f0f921"
             ]
            ],
            "type": "contour"
           }
          ],
          "contourcarpet": [
           {
            "colorbar": {
             "outlinewidth": 0,
             "ticks": ""
            },
            "type": "contourcarpet"
           }
          ],
          "heatmap": [
           {
            "colorbar": {
             "outlinewidth": 0,
             "ticks": ""
            },
            "colorscale": [
             [
              0,
              "#0d0887"
             ],
             [
              0.1111111111111111,
              "#46039f"
             ],
             [
              0.2222222222222222,
              "#7201a8"
             ],
             [
              0.3333333333333333,
              "#9c179e"
             ],
             [
              0.4444444444444444,
              "#bd3786"
             ],
             [
              0.5555555555555556,
              "#d8576b"
             ],
             [
              0.6666666666666666,
              "#ed7953"
             ],
             [
              0.7777777777777778,
              "#fb9f3a"
             ],
             [
              0.8888888888888888,
              "#fdca26"
             ],
             [
              1,
              "#f0f921"
             ]
            ],
            "type": "heatmap"
           }
          ],
          "heatmapgl": [
           {
            "colorbar": {
             "outlinewidth": 0,
             "ticks": ""
            },
            "colorscale": [
             [
              0,
              "#0d0887"
             ],
             [
              0.1111111111111111,
              "#46039f"
             ],
             [
              0.2222222222222222,
              "#7201a8"
             ],
             [
              0.3333333333333333,
              "#9c179e"
             ],
             [
              0.4444444444444444,
              "#bd3786"
             ],
             [
              0.5555555555555556,
              "#d8576b"
             ],
             [
              0.6666666666666666,
              "#ed7953"
             ],
             [
              0.7777777777777778,
              "#fb9f3a"
             ],
             [
              0.8888888888888888,
              "#fdca26"
             ],
             [
              1,
              "#f0f921"
             ]
            ],
            "type": "heatmapgl"
           }
          ],
          "histogram": [
           {
            "marker": {
             "colorbar": {
              "outlinewidth": 0,
              "ticks": ""
             }
            },
            "type": "histogram"
           }
          ],
          "histogram2d": [
           {
            "colorbar": {
             "outlinewidth": 0,
             "ticks": ""
            },
            "colorscale": [
             [
              0,
              "#0d0887"
             ],
             [
              0.1111111111111111,
              "#46039f"
             ],
             [
              0.2222222222222222,
              "#7201a8"
             ],
             [
              0.3333333333333333,
              "#9c179e"
             ],
             [
              0.4444444444444444,
              "#bd3786"
             ],
             [
              0.5555555555555556,
              "#d8576b"
             ],
             [
              0.6666666666666666,
              "#ed7953"
             ],
             [
              0.7777777777777778,
              "#fb9f3a"
             ],
             [
              0.8888888888888888,
              "#fdca26"
             ],
             [
              1,
              "#f0f921"
             ]
            ],
            "type": "histogram2d"
           }
          ],
          "histogram2dcontour": [
           {
            "colorbar": {
             "outlinewidth": 0,
             "ticks": ""
            },
            "colorscale": [
             [
              0,
              "#0d0887"
             ],
             [
              0.1111111111111111,
              "#46039f"
             ],
             [
              0.2222222222222222,
              "#7201a8"
             ],
             [
              0.3333333333333333,
              "#9c179e"
             ],
             [
              0.4444444444444444,
              "#bd3786"
             ],
             [
              0.5555555555555556,
              "#d8576b"
             ],
             [
              0.6666666666666666,
              "#ed7953"
             ],
             [
              0.7777777777777778,
              "#fb9f3a"
             ],
             [
              0.8888888888888888,
              "#fdca26"
             ],
             [
              1,
              "#f0f921"
             ]
            ],
            "type": "histogram2dcontour"
           }
          ],
          "mesh3d": [
           {
            "colorbar": {
             "outlinewidth": 0,
             "ticks": ""
            },
            "type": "mesh3d"
           }
          ],
          "parcoords": [
           {
            "line": {
             "colorbar": {
              "outlinewidth": 0,
              "ticks": ""
             }
            },
            "type": "parcoords"
           }
          ],
          "pie": [
           {
            "automargin": true,
            "type": "pie"
           }
          ],
          "scatter": [
           {
            "marker": {
             "colorbar": {
              "outlinewidth": 0,
              "ticks": ""
             }
            },
            "type": "scatter"
           }
          ],
          "scatter3d": [
           {
            "line": {
             "colorbar": {
              "outlinewidth": 0,
              "ticks": ""
             }
            },
            "marker": {
             "colorbar": {
              "outlinewidth": 0,
              "ticks": ""
             }
            },
            "type": "scatter3d"
           }
          ],
          "scattercarpet": [
           {
            "marker": {
             "colorbar": {
              "outlinewidth": 0,
              "ticks": ""
             }
            },
            "type": "scattercarpet"
           }
          ],
          "scattergeo": [
           {
            "marker": {
             "colorbar": {
              "outlinewidth": 0,
              "ticks": ""
             }
            },
            "type": "scattergeo"
           }
          ],
          "scattergl": [
           {
            "marker": {
             "colorbar": {
              "outlinewidth": 0,
              "ticks": ""
             }
            },
            "type": "scattergl"
           }
          ],
          "scattermapbox": [
           {
            "marker": {
             "colorbar": {
              "outlinewidth": 0,
              "ticks": ""
             }
            },
            "type": "scattermapbox"
           }
          ],
          "scatterpolar": [
           {
            "marker": {
             "colorbar": {
              "outlinewidth": 0,
              "ticks": ""
             }
            },
            "type": "scatterpolar"
           }
          ],
          "scatterpolargl": [
           {
            "marker": {
             "colorbar": {
              "outlinewidth": 0,
              "ticks": ""
             }
            },
            "type": "scatterpolargl"
           }
          ],
          "scatterternary": [
           {
            "marker": {
             "colorbar": {
              "outlinewidth": 0,
              "ticks": ""
             }
            },
            "type": "scatterternary"
           }
          ],
          "surface": [
           {
            "colorbar": {
             "outlinewidth": 0,
             "ticks": ""
            },
            "colorscale": [
             [
              0,
              "#0d0887"
             ],
             [
              0.1111111111111111,
              "#46039f"
             ],
             [
              0.2222222222222222,
              "#7201a8"
             ],
             [
              0.3333333333333333,
              "#9c179e"
             ],
             [
              0.4444444444444444,
              "#bd3786"
             ],
             [
              0.5555555555555556,
              "#d8576b"
             ],
             [
              0.6666666666666666,
              "#ed7953"
             ],
             [
              0.7777777777777778,
              "#fb9f3a"
             ],
             [
              0.8888888888888888,
              "#fdca26"
             ],
             [
              1,
              "#f0f921"
             ]
            ],
            "type": "surface"
           }
          ],
          "table": [
           {
            "cells": {
             "fill": {
              "color": "#EBF0F8"
             },
             "line": {
              "color": "white"
             }
            },
            "header": {
             "fill": {
              "color": "#C8D4E3"
             },
             "line": {
              "color": "white"
             }
            },
            "type": "table"
           }
          ]
         },
         "layout": {
          "annotationdefaults": {
           "arrowcolor": "#2a3f5f",
           "arrowhead": 0,
           "arrowwidth": 1
          },
          "autotypenumbers": "strict",
          "coloraxis": {
           "colorbar": {
            "outlinewidth": 0,
            "ticks": ""
           }
          },
          "colorscale": {
           "diverging": [
            [
             0,
             "#8e0152"
            ],
            [
             0.1,
             "#c51b7d"
            ],
            [
             0.2,
             "#de77ae"
            ],
            [
             0.3,
             "#f1b6da"
            ],
            [
             0.4,
             "#fde0ef"
            ],
            [
             0.5,
             "#f7f7f7"
            ],
            [
             0.6,
             "#e6f5d0"
            ],
            [
             0.7,
             "#b8e186"
            ],
            [
             0.8,
             "#7fbc41"
            ],
            [
             0.9,
             "#4d9221"
            ],
            [
             1,
             "#276419"
            ]
           ],
           "sequential": [
            [
             0,
             "#0d0887"
            ],
            [
             0.1111111111111111,
             "#46039f"
            ],
            [
             0.2222222222222222,
             "#7201a8"
            ],
            [
             0.3333333333333333,
             "#9c179e"
            ],
            [
             0.4444444444444444,
             "#bd3786"
            ],
            [
             0.5555555555555556,
             "#d8576b"
            ],
            [
             0.6666666666666666,
             "#ed7953"
            ],
            [
             0.7777777777777778,
             "#fb9f3a"
            ],
            [
             0.8888888888888888,
             "#fdca26"
            ],
            [
             1,
             "#f0f921"
            ]
           ],
           "sequentialminus": [
            [
             0,
             "#0d0887"
            ],
            [
             0.1111111111111111,
             "#46039f"
            ],
            [
             0.2222222222222222,
             "#7201a8"
            ],
            [
             0.3333333333333333,
             "#9c179e"
            ],
            [
             0.4444444444444444,
             "#bd3786"
            ],
            [
             0.5555555555555556,
             "#d8576b"
            ],
            [
             0.6666666666666666,
             "#ed7953"
            ],
            [
             0.7777777777777778,
             "#fb9f3a"
            ],
            [
             0.8888888888888888,
             "#fdca26"
            ],
            [
             1,
             "#f0f921"
            ]
           ]
          },
          "colorway": [
           "#636efa",
           "#EF553B",
           "#00cc96",
           "#ab63fa",
           "#FFA15A",
           "#19d3f3",
           "#FF6692",
           "#B6E880",
           "#FF97FF",
           "#FECB52"
          ],
          "font": {
           "color": "#2a3f5f"
          },
          "geo": {
           "bgcolor": "white",
           "lakecolor": "white",
           "landcolor": "#E5ECF6",
           "showlakes": true,
           "showland": true,
           "subunitcolor": "white"
          },
          "hoverlabel": {
           "align": "left"
          },
          "hovermode": "closest",
          "mapbox": {
           "style": "light"
          },
          "paper_bgcolor": "white",
          "plot_bgcolor": "#E5ECF6",
          "polar": {
           "angularaxis": {
            "gridcolor": "white",
            "linecolor": "white",
            "ticks": ""
           },
           "bgcolor": "#E5ECF6",
           "radialaxis": {
            "gridcolor": "white",
            "linecolor": "white",
            "ticks": ""
           }
          },
          "scene": {
           "xaxis": {
            "backgroundcolor": "#E5ECF6",
            "gridcolor": "white",
            "gridwidth": 2,
            "linecolor": "white",
            "showbackground": true,
            "ticks": "",
            "zerolinecolor": "white"
           },
           "yaxis": {
            "backgroundcolor": "#E5ECF6",
            "gridcolor": "white",
            "gridwidth": 2,
            "linecolor": "white",
            "showbackground": true,
            "ticks": "",
            "zerolinecolor": "white"
           },
           "zaxis": {
            "backgroundcolor": "#E5ECF6",
            "gridcolor": "white",
            "gridwidth": 2,
            "linecolor": "white",
            "showbackground": true,
            "ticks": "",
            "zerolinecolor": "white"
           }
          },
          "shapedefaults": {
           "line": {
            "color": "#2a3f5f"
           }
          },
          "ternary": {
           "aaxis": {
            "gridcolor": "white",
            "linecolor": "white",
            "ticks": ""
           },
           "baxis": {
            "gridcolor": "white",
            "linecolor": "white",
            "ticks": ""
           },
           "bgcolor": "#E5ECF6",
           "caxis": {
            "gridcolor": "white",
            "linecolor": "white",
            "ticks": ""
           }
          },
          "title": {
           "x": 0.05
          },
          "xaxis": {
           "automargin": true,
           "gridcolor": "white",
           "linecolor": "white",
           "ticks": "",
           "title": {
            "standoff": 15
           },
           "zerolinecolor": "white",
           "zerolinewidth": 2
          },
          "yaxis": {
           "automargin": true,
           "gridcolor": "white",
           "linecolor": "white",
           "ticks": "",
           "title": {
            "standoff": 15
           },
           "zerolinecolor": "white",
           "zerolinewidth": 2
          }
         }
        },
        "title": {
         "font": {
          "color": "#4D5663"
         }
        },
        "xaxis": {
         "gridcolor": "#E1E5ED",
         "showgrid": true,
         "tickfont": {
          "color": "#4D5663"
         },
         "title": {
          "font": {
           "color": "#4D5663"
          },
          "text": ""
         },
         "zerolinecolor": "#E1E5ED"
        },
        "yaxis": {
         "gridcolor": "#E1E5ED",
         "showgrid": true,
         "tickfont": {
          "color": "#4D5663"
         },
         "title": {
          "font": {
           "color": "#4D5663"
          },
          "text": ""
         },
         "zerolinecolor": "#E1E5ED"
        }
       }
      },
      "text/html": [
       "<div>                            <div id=\"6e616cf5-4617-49ce-a1d1-7991ebda5e85\" class=\"plotly-graph-div\" style=\"height:525px; width:100%;\"></div>            <script type=\"text/javascript\">                require([\"plotly\"], function(Plotly) {                    window.PLOTLYENV=window.PLOTLYENV || {};\n",
       "                    window.PLOTLYENV.BASE_URL='https://plot.ly';                                    if (document.getElementById(\"6e616cf5-4617-49ce-a1d1-7991ebda5e85\")) {                    Plotly.newPlot(                        \"6e616cf5-4617-49ce-a1d1-7991ebda5e85\",                        [{\"histfunc\": \"count\", \"histnorm\": \"\", \"marker\": {\"color\": \"rgba(255, 153, 51, 1.0)\", \"line\": {\"color\": \"#4D5663\", \"width\": 1.3}}, \"name\": \"A\", \"nbinsx\": 25, \"opacity\": 0.8, \"orientation\": \"v\", \"type\": \"histogram\", \"x\": [-0.39249119533846083, -1.3888802447524282, 0.9320187198753848, 0.694353564039704, 0.7344257361752629, -1.2230733342365738, -0.8244809005601621, 0.7162297255286217, 0.2165294575147262, -0.2408870384182345, 1.1114063553829503, 0.11623195119570866, 0.11865011429650428, 0.6419190655473598, 0.5924914375347973, -1.5309904914242096, -1.0144836912833508, 0.17787108284173206, 1.1945581244349286, 1.2415482353883005, -0.4112001758408989, 1.7949556218804894, 0.9533968117682318, -0.05388169104593645, 0.24708490471611128, 0.25877047914625495, 0.48537772746154373, -0.6316121968562575, 0.06979028490490342, 0.19179517799331644, -1.6389060193460128, 0.9568316005620361, 0.26717277970941045, -0.3026993847893387, 1.1358386331024715, 0.10544743176293345, -0.3299778399054059, 0.27100520046695425, 0.06640897537997871, 1.2022134310294064, -0.8275038600805332, -1.8297538154580024, 0.6949224280793794, -0.5453678996930036, 1.0511010453471554, 0.5928559996789496, -0.06112588854125373, -0.33259830544963653, -0.9095544388303258, -0.06519574555535969, -0.7396712807137552, -0.7972607228576862, 0.8992819989759496, -0.48843079131869044, 0.6247337472023909, -0.04368661259913243, 1.0707374155366922, -1.2750425970263084, -2.1286830059622077, -0.16041042808617528, 0.8995574231400747, -1.1093579889045484, 0.24647782191751233, 0.1622166523400865, -1.9262665166541684, -0.11425757020942486, 1.6970107669806103, -0.5660708839996262, -0.5255668865650605, -0.013986122764662883, -0.7297632456108951, 1.4244002945727672, -1.77433674788825, -0.5638562033370994, -0.5015545170673178, -1.5485746003489604, -0.42447048714593744, 0.5227658730223655, -1.5510798620613335, -0.4326482754580784, -0.19418294085652998, 2.320301562215529, 0.6421355412935974, 1.0132407626820426, 0.8751950847102844, 0.06786618667413867, -1.1957715770422013, -0.8756342227097039, 0.8339918704633829, -0.9198970809358937, -1.3972272495036677, 1.023120644082157, -1.457450824800944, -0.16951331764207347, -1.129058458402131, 2.127667416680669, -0.8176154890128692, 1.2109557386846754, -0.30743944371779625, 0.16609731130823885]}],                        {\"barmode\": \"overlay\", \"legend\": {\"bgcolor\": \"#F5F6F9\", \"font\": {\"color\": \"#4D5663\"}}, \"paper_bgcolor\": \"#F5F6F9\", \"plot_bgcolor\": \"#F5F6F9\", \"template\": {\"data\": {\"bar\": [{\"error_x\": {\"color\": \"#2a3f5f\"}, \"error_y\": {\"color\": \"#2a3f5f\"}, \"marker\": {\"line\": {\"color\": \"#E5ECF6\", \"width\": 0.5}}, \"type\": \"bar\"}], \"barpolar\": [{\"marker\": {\"line\": {\"color\": \"#E5ECF6\", \"width\": 0.5}}, \"type\": \"barpolar\"}], \"carpet\": [{\"aaxis\": {\"endlinecolor\": \"#2a3f5f\", \"gridcolor\": \"white\", \"linecolor\": \"white\", \"minorgridcolor\": \"white\", \"startlinecolor\": \"#2a3f5f\"}, \"baxis\": {\"endlinecolor\": \"#2a3f5f\", \"gridcolor\": \"white\", \"linecolor\": \"white\", \"minorgridcolor\": \"white\", \"startlinecolor\": \"#2a3f5f\"}, \"type\": \"carpet\"}], \"choropleth\": [{\"colorbar\": {\"outlinewidth\": 0, \"ticks\": \"\"}, \"type\": \"choropleth\"}], \"contour\": [{\"colorbar\": {\"outlinewidth\": 0, \"ticks\": \"\"}, \"colorscale\": [[0.0, \"#0d0887\"], [0.1111111111111111, \"#46039f\"], [0.2222222222222222, \"#7201a8\"], [0.3333333333333333, \"#9c179e\"], [0.4444444444444444, \"#bd3786\"], [0.5555555555555556, \"#d8576b\"], [0.6666666666666666, \"#ed7953\"], [0.7777777777777778, \"#fb9f3a\"], [0.8888888888888888, \"#fdca26\"], [1.0, \"#f0f921\"]], \"type\": \"contour\"}], \"contourcarpet\": [{\"colorbar\": {\"outlinewidth\": 0, \"ticks\": \"\"}, \"type\": \"contourcarpet\"}], \"heatmap\": [{\"colorbar\": {\"outlinewidth\": 0, \"ticks\": \"\"}, \"colorscale\": [[0.0, \"#0d0887\"], [0.1111111111111111, \"#46039f\"], [0.2222222222222222, \"#7201a8\"], [0.3333333333333333, \"#9c179e\"], [0.4444444444444444, \"#bd3786\"], [0.5555555555555556, \"#d8576b\"], [0.6666666666666666, \"#ed7953\"], [0.7777777777777778, \"#fb9f3a\"], [0.8888888888888888, \"#fdca26\"], [1.0, \"#f0f921\"]], \"type\": \"heatmap\"}], \"heatmapgl\": [{\"colorbar\": {\"outlinewidth\": 0, \"ticks\": \"\"}, \"colorscale\": [[0.0, \"#0d0887\"], [0.1111111111111111, \"#46039f\"], [0.2222222222222222, \"#7201a8\"], [0.3333333333333333, \"#9c179e\"], [0.4444444444444444, \"#bd3786\"], [0.5555555555555556, \"#d8576b\"], [0.6666666666666666, \"#ed7953\"], [0.7777777777777778, \"#fb9f3a\"], [0.8888888888888888, \"#fdca26\"], [1.0, \"#f0f921\"]], \"type\": \"heatmapgl\"}], \"histogram\": [{\"marker\": {\"colorbar\": {\"outlinewidth\": 0, \"ticks\": \"\"}}, \"type\": \"histogram\"}], \"histogram2d\": [{\"colorbar\": {\"outlinewidth\": 0, \"ticks\": \"\"}, \"colorscale\": [[0.0, \"#0d0887\"], [0.1111111111111111, \"#46039f\"], [0.2222222222222222, \"#7201a8\"], [0.3333333333333333, \"#9c179e\"], [0.4444444444444444, \"#bd3786\"], [0.5555555555555556, \"#d8576b\"], [0.6666666666666666, \"#ed7953\"], [0.7777777777777778, \"#fb9f3a\"], [0.8888888888888888, \"#fdca26\"], [1.0, \"#f0f921\"]], \"type\": \"histogram2d\"}], \"histogram2dcontour\": [{\"colorbar\": {\"outlinewidth\": 0, \"ticks\": \"\"}, \"colorscale\": [[0.0, \"#0d0887\"], [0.1111111111111111, \"#46039f\"], [0.2222222222222222, \"#7201a8\"], [0.3333333333333333, \"#9c179e\"], [0.4444444444444444, \"#bd3786\"], [0.5555555555555556, \"#d8576b\"], [0.6666666666666666, \"#ed7953\"], [0.7777777777777778, \"#fb9f3a\"], [0.8888888888888888, \"#fdca26\"], [1.0, \"#f0f921\"]], \"type\": \"histogram2dcontour\"}], \"mesh3d\": [{\"colorbar\": {\"outlinewidth\": 0, \"ticks\": \"\"}, \"type\": \"mesh3d\"}], \"parcoords\": [{\"line\": {\"colorbar\": {\"outlinewidth\": 0, \"ticks\": \"\"}}, \"type\": \"parcoords\"}], \"pie\": [{\"automargin\": true, \"type\": \"pie\"}], \"scatter\": [{\"marker\": {\"colorbar\": {\"outlinewidth\": 0, \"ticks\": \"\"}}, \"type\": \"scatter\"}], \"scatter3d\": [{\"line\": {\"colorbar\": {\"outlinewidth\": 0, \"ticks\": \"\"}}, \"marker\": {\"colorbar\": {\"outlinewidth\": 0, \"ticks\": \"\"}}, \"type\": \"scatter3d\"}], \"scattercarpet\": [{\"marker\": {\"colorbar\": {\"outlinewidth\": 0, \"ticks\": \"\"}}, \"type\": \"scattercarpet\"}], \"scattergeo\": [{\"marker\": {\"colorbar\": {\"outlinewidth\": 0, \"ticks\": \"\"}}, \"type\": \"scattergeo\"}], \"scattergl\": [{\"marker\": {\"colorbar\": {\"outlinewidth\": 0, \"ticks\": \"\"}}, \"type\": \"scattergl\"}], \"scattermapbox\": [{\"marker\": {\"colorbar\": {\"outlinewidth\": 0, \"ticks\": \"\"}}, \"type\": \"scattermapbox\"}], \"scatterpolar\": [{\"marker\": {\"colorbar\": {\"outlinewidth\": 0, \"ticks\": \"\"}}, \"type\": \"scatterpolar\"}], \"scatterpolargl\": [{\"marker\": {\"colorbar\": {\"outlinewidth\": 0, \"ticks\": \"\"}}, \"type\": \"scatterpolargl\"}], \"scatterternary\": [{\"marker\": {\"colorbar\": {\"outlinewidth\": 0, \"ticks\": \"\"}}, \"type\": \"scatterternary\"}], \"surface\": [{\"colorbar\": {\"outlinewidth\": 0, \"ticks\": \"\"}, \"colorscale\": [[0.0, \"#0d0887\"], [0.1111111111111111, \"#46039f\"], [0.2222222222222222, \"#7201a8\"], [0.3333333333333333, \"#9c179e\"], [0.4444444444444444, \"#bd3786\"], [0.5555555555555556, \"#d8576b\"], [0.6666666666666666, \"#ed7953\"], [0.7777777777777778, \"#fb9f3a\"], [0.8888888888888888, \"#fdca26\"], [1.0, \"#f0f921\"]], \"type\": \"surface\"}], \"table\": [{\"cells\": {\"fill\": {\"color\": \"#EBF0F8\"}, \"line\": {\"color\": \"white\"}}, \"header\": {\"fill\": {\"color\": \"#C8D4E3\"}, \"line\": {\"color\": \"white\"}}, \"type\": \"table\"}]}, \"layout\": {\"annotationdefaults\": {\"arrowcolor\": \"#2a3f5f\", \"arrowhead\": 0, \"arrowwidth\": 1}, \"autotypenumbers\": \"strict\", \"coloraxis\": {\"colorbar\": {\"outlinewidth\": 0, \"ticks\": \"\"}}, \"colorscale\": {\"diverging\": [[0, \"#8e0152\"], [0.1, \"#c51b7d\"], [0.2, \"#de77ae\"], [0.3, \"#f1b6da\"], [0.4, \"#fde0ef\"], [0.5, \"#f7f7f7\"], [0.6, \"#e6f5d0\"], [0.7, \"#b8e186\"], [0.8, \"#7fbc41\"], [0.9, \"#4d9221\"], [1, \"#276419\"]], \"sequential\": [[0.0, \"#0d0887\"], [0.1111111111111111, \"#46039f\"], [0.2222222222222222, \"#7201a8\"], [0.3333333333333333, \"#9c179e\"], [0.4444444444444444, \"#bd3786\"], [0.5555555555555556, \"#d8576b\"], [0.6666666666666666, \"#ed7953\"], [0.7777777777777778, \"#fb9f3a\"], [0.8888888888888888, \"#fdca26\"], [1.0, \"#f0f921\"]], \"sequentialminus\": [[0.0, \"#0d0887\"], [0.1111111111111111, \"#46039f\"], [0.2222222222222222, \"#7201a8\"], [0.3333333333333333, \"#9c179e\"], [0.4444444444444444, \"#bd3786\"], [0.5555555555555556, \"#d8576b\"], [0.6666666666666666, \"#ed7953\"], [0.7777777777777778, \"#fb9f3a\"], [0.8888888888888888, \"#fdca26\"], [1.0, \"#f0f921\"]]}, \"colorway\": [\"#636efa\", \"#EF553B\", \"#00cc96\", \"#ab63fa\", \"#FFA15A\", \"#19d3f3\", \"#FF6692\", \"#B6E880\", \"#FF97FF\", \"#FECB52\"], \"font\": {\"color\": \"#2a3f5f\"}, \"geo\": {\"bgcolor\": \"white\", \"lakecolor\": \"white\", \"landcolor\": \"#E5ECF6\", \"showlakes\": true, \"showland\": true, \"subunitcolor\": \"white\"}, \"hoverlabel\": {\"align\": \"left\"}, \"hovermode\": \"closest\", \"mapbox\": {\"style\": \"light\"}, \"paper_bgcolor\": \"white\", \"plot_bgcolor\": \"#E5ECF6\", \"polar\": {\"angularaxis\": {\"gridcolor\": \"white\", \"linecolor\": \"white\", \"ticks\": \"\"}, \"bgcolor\": \"#E5ECF6\", \"radialaxis\": {\"gridcolor\": \"white\", \"linecolor\": \"white\", \"ticks\": \"\"}}, \"scene\": {\"xaxis\": {\"backgroundcolor\": \"#E5ECF6\", \"gridcolor\": \"white\", \"gridwidth\": 2, \"linecolor\": \"white\", \"showbackground\": true, \"ticks\": \"\", \"zerolinecolor\": \"white\"}, \"yaxis\": {\"backgroundcolor\": \"#E5ECF6\", \"gridcolor\": \"white\", \"gridwidth\": 2, \"linecolor\": \"white\", \"showbackground\": true, \"ticks\": \"\", \"zerolinecolor\": \"white\"}, \"zaxis\": {\"backgroundcolor\": \"#E5ECF6\", \"gridcolor\": \"white\", \"gridwidth\": 2, \"linecolor\": \"white\", \"showbackground\": true, \"ticks\": \"\", \"zerolinecolor\": \"white\"}}, \"shapedefaults\": {\"line\": {\"color\": \"#2a3f5f\"}}, \"ternary\": {\"aaxis\": {\"gridcolor\": \"white\", \"linecolor\": \"white\", \"ticks\": \"\"}, \"baxis\": {\"gridcolor\": \"white\", \"linecolor\": \"white\", \"ticks\": \"\"}, \"bgcolor\": \"#E5ECF6\", \"caxis\": {\"gridcolor\": \"white\", \"linecolor\": \"white\", \"ticks\": \"\"}}, \"title\": {\"x\": 0.05}, \"xaxis\": {\"automargin\": true, \"gridcolor\": \"white\", \"linecolor\": \"white\", \"ticks\": \"\", \"title\": {\"standoff\": 15}, \"zerolinecolor\": \"white\", \"zerolinewidth\": 2}, \"yaxis\": {\"automargin\": true, \"gridcolor\": \"white\", \"linecolor\": \"white\", \"ticks\": \"\", \"title\": {\"standoff\": 15}, \"zerolinecolor\": \"white\", \"zerolinewidth\": 2}}}, \"title\": {\"font\": {\"color\": \"#4D5663\"}}, \"xaxis\": {\"gridcolor\": \"#E1E5ED\", \"showgrid\": true, \"tickfont\": {\"color\": \"#4D5663\"}, \"title\": {\"font\": {\"color\": \"#4D5663\"}, \"text\": \"\"}, \"zerolinecolor\": \"#E1E5ED\"}, \"yaxis\": {\"gridcolor\": \"#E1E5ED\", \"showgrid\": true, \"tickfont\": {\"color\": \"#4D5663\"}, \"title\": {\"font\": {\"color\": \"#4D5663\"}, \"text\": \"\"}, \"zerolinecolor\": \"#E1E5ED\"}},                        {\"showLink\": true, \"linkText\": \"Export to plot.ly\", \"plotlyServerURL\": \"https://plot.ly\", \"responsive\": true}                    ).then(function(){\n",
       "                            \n",
       "var gd = document.getElementById('6e616cf5-4617-49ce-a1d1-7991ebda5e85');\n",
       "var x = new MutationObserver(function (mutations, observer) {{\n",
       "        var display = window.getComputedStyle(gd).display;\n",
       "        if (!display || display === 'none') {{\n",
       "            console.log([gd, 'removed!']);\n",
       "            Plotly.purge(gd);\n",
       "            observer.disconnect();\n",
       "        }}\n",
       "}});\n",
       "\n",
       "// Listen for the removal of the full notebook cells\n",
       "var notebookContainer = gd.closest('#notebook-container');\n",
       "if (notebookContainer) {{\n",
       "    x.observe(notebookContainer, {childList: true});\n",
       "}}\n",
       "\n",
       "// Listen for the clearing of the current output cell\n",
       "var outputEl = gd.closest('.output');\n",
       "if (outputEl) {{\n",
       "    x.observe(outputEl, {childList: true});\n",
       "}}\n",
       "\n",
       "                        })                };                });            </script>        </div>"
      ]
     },
     "metadata": {},
     "output_type": "display_data"
    }
   ],
   "source": [
    "df['A'].iplot(kind='hist',bins=25)"
   ]
  },
  {
   "cell_type": "code",
   "execution_count": 24,
   "metadata": {},
   "outputs": [
    {
     "data": {
      "application/vnd.plotly.v1+json": {
       "config": {
        "linkText": "Export to plot.ly",
        "plotlyServerURL": "https://plot.ly",
        "showLink": true
       },
       "data": [
        {
         "marker": {
          "color": [
           "rgb(255, 153, 51)",
           "rgb(55, 128, 191)",
           "rgb(50, 171, 96)",
           "rgb(128, 0, 128)",
           "rgb(219, 64, 82)",
           "rgb(0, 128, 128)",
           "rgb(255, 255, 51)",
           "rgb(128, 128, 0)",
           "rgb(251, 128, 114)",
           "rgb(128, 177, 211)"
          ],
          "line": {
           "width": 1.3
          },
          "size": [
           77,
           36,
           35,
           55,
           62,
           52,
           112,
           53,
           77,
           57,
           54,
           50,
           58,
           59,
           53,
           58,
           49,
           43,
           72,
           57,
           43,
           60,
           78,
           42,
           21,
           70,
           51,
           60,
           53,
           57,
           47,
           62,
           75,
           56,
           58,
           33,
           48,
           51,
           41,
           36,
           67,
           25,
           78,
           80,
           78,
           55,
           68,
           68,
           33,
           48,
           19,
           38,
           31,
           51,
           58,
           61,
           50,
           39,
           69,
           47,
           44,
           59,
           36,
           40,
           25,
           70,
           91,
           54,
           60,
           47,
           77,
           12,
           48,
           88,
           57,
           67,
           78,
           41,
           67,
           45,
           44,
           71,
           79,
           45,
           45,
           54,
           54,
           81,
           51,
           39,
           45,
           55,
           42,
           67,
           43,
           45,
           33,
           58,
           30,
           28
          ],
          "symbol": "circle"
         },
         "mode": "markers",
         "text": "",
         "type": "scatter",
         "x": [
          -0.39249119533846083,
          -1.3888802447524282,
          0.9320187198753848,
          0.694353564039704,
          0.7344257361752629,
          -1.2230733342365738,
          -0.8244809005601621,
          0.7162297255286217,
          0.2165294575147262,
          -0.2408870384182345,
          1.1114063553829503,
          0.11623195119570866,
          0.11865011429650428,
          0.6419190655473598,
          0.5924914375347973,
          -1.5309904914242096,
          -1.0144836912833508,
          0.17787108284173206,
          1.1945581244349286,
          1.2415482353883005,
          -0.4112001758408989,
          1.7949556218804894,
          0.9533968117682318,
          -0.05388169104593645,
          0.24708490471611128,
          0.25877047914625495,
          0.48537772746154373,
          -0.6316121968562575,
          0.06979028490490342,
          0.19179517799331644,
          -1.6389060193460128,
          0.9568316005620361,
          0.26717277970941045,
          -0.3026993847893387,
          1.1358386331024715,
          0.10544743176293345,
          -0.3299778399054059,
          0.27100520046695425,
          0.06640897537997871,
          1.2022134310294064,
          -0.8275038600805332,
          -1.8297538154580024,
          0.6949224280793794,
          -0.5453678996930036,
          1.0511010453471554,
          0.5928559996789496,
          -0.06112588854125373,
          -0.33259830544963653,
          -0.9095544388303258,
          -0.06519574555535969,
          -0.7396712807137552,
          -0.7972607228576862,
          0.8992819989759496,
          -0.48843079131869044,
          0.6247337472023909,
          -0.04368661259913243,
          1.0707374155366922,
          -1.2750425970263084,
          -2.1286830059622077,
          -0.16041042808617528,
          0.8995574231400747,
          -1.1093579889045484,
          0.24647782191751233,
          0.1622166523400865,
          -1.9262665166541684,
          -0.11425757020942486,
          1.6970107669806103,
          -0.5660708839996262,
          -0.5255668865650605,
          -0.013986122764662883,
          -0.7297632456108951,
          1.4244002945727672,
          -1.77433674788825,
          -0.5638562033370994,
          -0.5015545170673178,
          -1.5485746003489604,
          -0.42447048714593744,
          0.5227658730223655,
          -1.5510798620613335,
          -0.4326482754580784,
          -0.19418294085652998,
          2.320301562215529,
          0.6421355412935974,
          1.0132407626820426,
          0.8751950847102844,
          0.06786618667413867,
          -1.1957715770422013,
          -0.8756342227097039,
          0.8339918704633829,
          -0.9198970809358937,
          -1.3972272495036677,
          1.023120644082157,
          -1.457450824800944,
          -0.16951331764207347,
          -1.129058458402131,
          2.127667416680669,
          -0.8176154890128692,
          1.2109557386846754,
          -0.30743944371779625,
          0.16609731130823885
         ],
         "y": [
          0.10480144276968774,
          -2.2448421163275762,
          -0.10385752502981002,
          0.07587343198180303,
          0.8253080764609732,
          -0.46590149353816884,
          1.720000398792707,
          0.04699268025148138,
          0.6888697082875861,
          -1.5391049448586651,
          1.531707361237052,
          -0.09993967946466119,
          -1.254504242294646,
          -1.2205349028615027,
          1.0727852640083417,
          2.567033067274972,
          -0.6521242358147255,
          1.18401797836042,
          0.5975387129010653,
          1.1964442867936949,
          2.160759870882936,
          -0.08331842428728174,
          -1.5832430789407055,
          -0.47278583853194756,
          -0.8189897202884268,
          0.5523291035570072,
          0.6360732149381493,
          0.6078394093485547,
          -1.524513836860753,
          0.019809751507857323,
          0.36345148832240715,
          0.5229061031796399,
          -1.397573910854617,
          0.5051465500992074,
          2.74628313657978,
          0.8120454689264269,
          -1.2650901112701955,
          1.232961382327399,
          -0.3204634182661983,
          1.7667021889194712,
          -0.5183017375342086,
          0.9557565205566079,
          -0.8086490205068385,
          -0.45212422534360897,
          1.2309789313304136,
          -1.3160441618070073,
          -2.0787989453683213,
          -0.2514029947741344,
          0.9867684647074665,
          -2.1990333320540243,
          -0.34497633052762716,
          0.8639628692687408,
          -0.21389997301921213,
          1.0066686519064196,
          0.015285295518240219,
          0.16553727871273421,
          -0.3422559844465687,
          0.18582729884952723,
          -0.5185663434101322,
          0.18913410433325986,
          0.39113332341307633,
          -0.18854993521329608,
          -0.14869197202417253,
          -1.1771622810743556,
          1.3307583915936658,
          -1.0811490526736167,
          1.0091713921321324,
          -0.04562912974048219,
          -0.44860879206069726,
          -0.875699653930691,
          -0.9595772536161237,
          2.2610482349970145,
          0.673684214746933,
          0.3855515807541555,
          -0.5870000829314124,
          -0.6238089402650726,
          1.8241779691481275,
          1.3040691198754766,
          1.4022082707660175,
          -0.02802869965795411,
          -1.3025100590842051,
          0.42446491321503954,
          -1.332092580693879,
          0.24818581948371962,
          -0.5430116861802801,
          -0.25308285294068034,
          -0.7847086131345495,
          0.09962225805782671,
          -0.4468545812432021,
          -1.3879365467126263,
          -1.8354406655645414,
          0.20141758971530174,
          0.6401032427603514,
          0.16832901628415473,
          0.3181880472684637,
          -0.5806466226491991,
          0.6052428295290574,
          2.367193516786903,
          -1.430962307666061,
          1.322035884985864
         ]
        }
       ],
       "layout": {
        "legend": {
         "bgcolor": "#F5F6F9",
         "font": {
          "color": "#4D5663"
         }
        },
        "paper_bgcolor": "#F5F6F9",
        "plot_bgcolor": "#F5F6F9",
        "template": {
         "data": {
          "bar": [
           {
            "error_x": {
             "color": "#2a3f5f"
            },
            "error_y": {
             "color": "#2a3f5f"
            },
            "marker": {
             "line": {
              "color": "#E5ECF6",
              "width": 0.5
             }
            },
            "type": "bar"
           }
          ],
          "barpolar": [
           {
            "marker": {
             "line": {
              "color": "#E5ECF6",
              "width": 0.5
             }
            },
            "type": "barpolar"
           }
          ],
          "carpet": [
           {
            "aaxis": {
             "endlinecolor": "#2a3f5f",
             "gridcolor": "white",
             "linecolor": "white",
             "minorgridcolor": "white",
             "startlinecolor": "#2a3f5f"
            },
            "baxis": {
             "endlinecolor": "#2a3f5f",
             "gridcolor": "white",
             "linecolor": "white",
             "minorgridcolor": "white",
             "startlinecolor": "#2a3f5f"
            },
            "type": "carpet"
           }
          ],
          "choropleth": [
           {
            "colorbar": {
             "outlinewidth": 0,
             "ticks": ""
            },
            "type": "choropleth"
           }
          ],
          "contour": [
           {
            "colorbar": {
             "outlinewidth": 0,
             "ticks": ""
            },
            "colorscale": [
             [
              0,
              "#0d0887"
             ],
             [
              0.1111111111111111,
              "#46039f"
             ],
             [
              0.2222222222222222,
              "#7201a8"
             ],
             [
              0.3333333333333333,
              "#9c179e"
             ],
             [
              0.4444444444444444,
              "#bd3786"
             ],
             [
              0.5555555555555556,
              "#d8576b"
             ],
             [
              0.6666666666666666,
              "#ed7953"
             ],
             [
              0.7777777777777778,
              "#fb9f3a"
             ],
             [
              0.8888888888888888,
              "#fdca26"
             ],
             [
              1,
              "#f0f921"
             ]
            ],
            "type": "contour"
           }
          ],
          "contourcarpet": [
           {
            "colorbar": {
             "outlinewidth": 0,
             "ticks": ""
            },
            "type": "contourcarpet"
           }
          ],
          "heatmap": [
           {
            "colorbar": {
             "outlinewidth": 0,
             "ticks": ""
            },
            "colorscale": [
             [
              0,
              "#0d0887"
             ],
             [
              0.1111111111111111,
              "#46039f"
             ],
             [
              0.2222222222222222,
              "#7201a8"
             ],
             [
              0.3333333333333333,
              "#9c179e"
             ],
             [
              0.4444444444444444,
              "#bd3786"
             ],
             [
              0.5555555555555556,
              "#d8576b"
             ],
             [
              0.6666666666666666,
              "#ed7953"
             ],
             [
              0.7777777777777778,
              "#fb9f3a"
             ],
             [
              0.8888888888888888,
              "#fdca26"
             ],
             [
              1,
              "#f0f921"
             ]
            ],
            "type": "heatmap"
           }
          ],
          "heatmapgl": [
           {
            "colorbar": {
             "outlinewidth": 0,
             "ticks": ""
            },
            "colorscale": [
             [
              0,
              "#0d0887"
             ],
             [
              0.1111111111111111,
              "#46039f"
             ],
             [
              0.2222222222222222,
              "#7201a8"
             ],
             [
              0.3333333333333333,
              "#9c179e"
             ],
             [
              0.4444444444444444,
              "#bd3786"
             ],
             [
              0.5555555555555556,
              "#d8576b"
             ],
             [
              0.6666666666666666,
              "#ed7953"
             ],
             [
              0.7777777777777778,
              "#fb9f3a"
             ],
             [
              0.8888888888888888,
              "#fdca26"
             ],
             [
              1,
              "#f0f921"
             ]
            ],
            "type": "heatmapgl"
           }
          ],
          "histogram": [
           {
            "marker": {
             "colorbar": {
              "outlinewidth": 0,
              "ticks": ""
             }
            },
            "type": "histogram"
           }
          ],
          "histogram2d": [
           {
            "colorbar": {
             "outlinewidth": 0,
             "ticks": ""
            },
            "colorscale": [
             [
              0,
              "#0d0887"
             ],
             [
              0.1111111111111111,
              "#46039f"
             ],
             [
              0.2222222222222222,
              "#7201a8"
             ],
             [
              0.3333333333333333,
              "#9c179e"
             ],
             [
              0.4444444444444444,
              "#bd3786"
             ],
             [
              0.5555555555555556,
              "#d8576b"
             ],
             [
              0.6666666666666666,
              "#ed7953"
             ],
             [
              0.7777777777777778,
              "#fb9f3a"
             ],
             [
              0.8888888888888888,
              "#fdca26"
             ],
             [
              1,
              "#f0f921"
             ]
            ],
            "type": "histogram2d"
           }
          ],
          "histogram2dcontour": [
           {
            "colorbar": {
             "outlinewidth": 0,
             "ticks": ""
            },
            "colorscale": [
             [
              0,
              "#0d0887"
             ],
             [
              0.1111111111111111,
              "#46039f"
             ],
             [
              0.2222222222222222,
              "#7201a8"
             ],
             [
              0.3333333333333333,
              "#9c179e"
             ],
             [
              0.4444444444444444,
              "#bd3786"
             ],
             [
              0.5555555555555556,
              "#d8576b"
             ],
             [
              0.6666666666666666,
              "#ed7953"
             ],
             [
              0.7777777777777778,
              "#fb9f3a"
             ],
             [
              0.8888888888888888,
              "#fdca26"
             ],
             [
              1,
              "#f0f921"
             ]
            ],
            "type": "histogram2dcontour"
           }
          ],
          "mesh3d": [
           {
            "colorbar": {
             "outlinewidth": 0,
             "ticks": ""
            },
            "type": "mesh3d"
           }
          ],
          "parcoords": [
           {
            "line": {
             "colorbar": {
              "outlinewidth": 0,
              "ticks": ""
             }
            },
            "type": "parcoords"
           }
          ],
          "pie": [
           {
            "automargin": true,
            "type": "pie"
           }
          ],
          "scatter": [
           {
            "marker": {
             "colorbar": {
              "outlinewidth": 0,
              "ticks": ""
             }
            },
            "type": "scatter"
           }
          ],
          "scatter3d": [
           {
            "line": {
             "colorbar": {
              "outlinewidth": 0,
              "ticks": ""
             }
            },
            "marker": {
             "colorbar": {
              "outlinewidth": 0,
              "ticks": ""
             }
            },
            "type": "scatter3d"
           }
          ],
          "scattercarpet": [
           {
            "marker": {
             "colorbar": {
              "outlinewidth": 0,
              "ticks": ""
             }
            },
            "type": "scattercarpet"
           }
          ],
          "scattergeo": [
           {
            "marker": {
             "colorbar": {
              "outlinewidth": 0,
              "ticks": ""
             }
            },
            "type": "scattergeo"
           }
          ],
          "scattergl": [
           {
            "marker": {
             "colorbar": {
              "outlinewidth": 0,
              "ticks": ""
             }
            },
            "type": "scattergl"
           }
          ],
          "scattermapbox": [
           {
            "marker": {
             "colorbar": {
              "outlinewidth": 0,
              "ticks": ""
             }
            },
            "type": "scattermapbox"
           }
          ],
          "scatterpolar": [
           {
            "marker": {
             "colorbar": {
              "outlinewidth": 0,
              "ticks": ""
             }
            },
            "type": "scatterpolar"
           }
          ],
          "scatterpolargl": [
           {
            "marker": {
             "colorbar": {
              "outlinewidth": 0,
              "ticks": ""
             }
            },
            "type": "scatterpolargl"
           }
          ],
          "scatterternary": [
           {
            "marker": {
             "colorbar": {
              "outlinewidth": 0,
              "ticks": ""
             }
            },
            "type": "scatterternary"
           }
          ],
          "surface": [
           {
            "colorbar": {
             "outlinewidth": 0,
             "ticks": ""
            },
            "colorscale": [
             [
              0,
              "#0d0887"
             ],
             [
              0.1111111111111111,
              "#46039f"
             ],
             [
              0.2222222222222222,
              "#7201a8"
             ],
             [
              0.3333333333333333,
              "#9c179e"
             ],
             [
              0.4444444444444444,
              "#bd3786"
             ],
             [
              0.5555555555555556,
              "#d8576b"
             ],
             [
              0.6666666666666666,
              "#ed7953"
             ],
             [
              0.7777777777777778,
              "#fb9f3a"
             ],
             [
              0.8888888888888888,
              "#fdca26"
             ],
             [
              1,
              "#f0f921"
             ]
            ],
            "type": "surface"
           }
          ],
          "table": [
           {
            "cells": {
             "fill": {
              "color": "#EBF0F8"
             },
             "line": {
              "color": "white"
             }
            },
            "header": {
             "fill": {
              "color": "#C8D4E3"
             },
             "line": {
              "color": "white"
             }
            },
            "type": "table"
           }
          ]
         },
         "layout": {
          "annotationdefaults": {
           "arrowcolor": "#2a3f5f",
           "arrowhead": 0,
           "arrowwidth": 1
          },
          "autotypenumbers": "strict",
          "coloraxis": {
           "colorbar": {
            "outlinewidth": 0,
            "ticks": ""
           }
          },
          "colorscale": {
           "diverging": [
            [
             0,
             "#8e0152"
            ],
            [
             0.1,
             "#c51b7d"
            ],
            [
             0.2,
             "#de77ae"
            ],
            [
             0.3,
             "#f1b6da"
            ],
            [
             0.4,
             "#fde0ef"
            ],
            [
             0.5,
             "#f7f7f7"
            ],
            [
             0.6,
             "#e6f5d0"
            ],
            [
             0.7,
             "#b8e186"
            ],
            [
             0.8,
             "#7fbc41"
            ],
            [
             0.9,
             "#4d9221"
            ],
            [
             1,
             "#276419"
            ]
           ],
           "sequential": [
            [
             0,
             "#0d0887"
            ],
            [
             0.1111111111111111,
             "#46039f"
            ],
            [
             0.2222222222222222,
             "#7201a8"
            ],
            [
             0.3333333333333333,
             "#9c179e"
            ],
            [
             0.4444444444444444,
             "#bd3786"
            ],
            [
             0.5555555555555556,
             "#d8576b"
            ],
            [
             0.6666666666666666,
             "#ed7953"
            ],
            [
             0.7777777777777778,
             "#fb9f3a"
            ],
            [
             0.8888888888888888,
             "#fdca26"
            ],
            [
             1,
             "#f0f921"
            ]
           ],
           "sequentialminus": [
            [
             0,
             "#0d0887"
            ],
            [
             0.1111111111111111,
             "#46039f"
            ],
            [
             0.2222222222222222,
             "#7201a8"
            ],
            [
             0.3333333333333333,
             "#9c179e"
            ],
            [
             0.4444444444444444,
             "#bd3786"
            ],
            [
             0.5555555555555556,
             "#d8576b"
            ],
            [
             0.6666666666666666,
             "#ed7953"
            ],
            [
             0.7777777777777778,
             "#fb9f3a"
            ],
            [
             0.8888888888888888,
             "#fdca26"
            ],
            [
             1,
             "#f0f921"
            ]
           ]
          },
          "colorway": [
           "#636efa",
           "#EF553B",
           "#00cc96",
           "#ab63fa",
           "#FFA15A",
           "#19d3f3",
           "#FF6692",
           "#B6E880",
           "#FF97FF",
           "#FECB52"
          ],
          "font": {
           "color": "#2a3f5f"
          },
          "geo": {
           "bgcolor": "white",
           "lakecolor": "white",
           "landcolor": "#E5ECF6",
           "showlakes": true,
           "showland": true,
           "subunitcolor": "white"
          },
          "hoverlabel": {
           "align": "left"
          },
          "hovermode": "closest",
          "mapbox": {
           "style": "light"
          },
          "paper_bgcolor": "white",
          "plot_bgcolor": "#E5ECF6",
          "polar": {
           "angularaxis": {
            "gridcolor": "white",
            "linecolor": "white",
            "ticks": ""
           },
           "bgcolor": "#E5ECF6",
           "radialaxis": {
            "gridcolor": "white",
            "linecolor": "white",
            "ticks": ""
           }
          },
          "scene": {
           "xaxis": {
            "backgroundcolor": "#E5ECF6",
            "gridcolor": "white",
            "gridwidth": 2,
            "linecolor": "white",
            "showbackground": true,
            "ticks": "",
            "zerolinecolor": "white"
           },
           "yaxis": {
            "backgroundcolor": "#E5ECF6",
            "gridcolor": "white",
            "gridwidth": 2,
            "linecolor": "white",
            "showbackground": true,
            "ticks": "",
            "zerolinecolor": "white"
           },
           "zaxis": {
            "backgroundcolor": "#E5ECF6",
            "gridcolor": "white",
            "gridwidth": 2,
            "linecolor": "white",
            "showbackground": true,
            "ticks": "",
            "zerolinecolor": "white"
           }
          },
          "shapedefaults": {
           "line": {
            "color": "#2a3f5f"
           }
          },
          "ternary": {
           "aaxis": {
            "gridcolor": "white",
            "linecolor": "white",
            "ticks": ""
           },
           "baxis": {
            "gridcolor": "white",
            "linecolor": "white",
            "ticks": ""
           },
           "bgcolor": "#E5ECF6",
           "caxis": {
            "gridcolor": "white",
            "linecolor": "white",
            "ticks": ""
           }
          },
          "title": {
           "x": 0.05
          },
          "xaxis": {
           "automargin": true,
           "gridcolor": "white",
           "linecolor": "white",
           "ticks": "",
           "title": {
            "standoff": 15
           },
           "zerolinecolor": "white",
           "zerolinewidth": 2
          },
          "yaxis": {
           "automargin": true,
           "gridcolor": "white",
           "linecolor": "white",
           "ticks": "",
           "title": {
            "standoff": 15
           },
           "zerolinecolor": "white",
           "zerolinewidth": 2
          }
         }
        },
        "title": {
         "font": {
          "color": "#4D5663"
         }
        },
        "xaxis": {
         "gridcolor": "#E1E5ED",
         "showgrid": true,
         "tickfont": {
          "color": "#4D5663"
         },
         "title": {
          "font": {
           "color": "#4D5663"
          },
          "text": ""
         },
         "zerolinecolor": "#E1E5ED"
        },
        "yaxis": {
         "gridcolor": "#E1E5ED",
         "showgrid": true,
         "tickfont": {
          "color": "#4D5663"
         },
         "title": {
          "font": {
           "color": "#4D5663"
          },
          "text": ""
         },
         "zerolinecolor": "#E1E5ED"
        }
       }
      },
      "text/html": [
       "<div>                            <div id=\"0d5fa8d4-cfdb-4350-8a20-632612980bd8\" class=\"plotly-graph-div\" style=\"height:525px; width:100%;\"></div>            <script type=\"text/javascript\">                require([\"plotly\"], function(Plotly) {                    window.PLOTLYENV=window.PLOTLYENV || {};\n",
       "                    window.PLOTLYENV.BASE_URL='https://plot.ly';                                    if (document.getElementById(\"0d5fa8d4-cfdb-4350-8a20-632612980bd8\")) {                    Plotly.newPlot(                        \"0d5fa8d4-cfdb-4350-8a20-632612980bd8\",                        [{\"marker\": {\"color\": [\"rgb(255, 153, 51)\", \"rgb(55, 128, 191)\", \"rgb(50, 171, 96)\", \"rgb(128, 0, 128)\", \"rgb(219, 64, 82)\", \"rgb(0, 128, 128)\", \"rgb(255, 255, 51)\", \"rgb(128, 128, 0)\", \"rgb(251, 128, 114)\", \"rgb(128, 177, 211)\"], \"line\": {\"width\": 1.3}, \"size\": [77, 36, 35, 55, 62, 52, 112, 53, 77, 57, 54, 50, 58, 59, 53, 58, 49, 43, 72, 57, 43, 60, 78, 42, 21, 70, 51, 60, 53, 57, 47, 62, 75, 56, 58, 33, 48, 51, 41, 36, 67, 25, 78, 80, 78, 55, 68, 68, 33, 48, 19, 38, 31, 51, 58, 61, 50, 39, 69, 47, 44, 59, 36, 40, 25, 70, 91, 54, 60, 47, 77, 12, 48, 88, 57, 67, 78, 41, 67, 45, 44, 71, 79, 45, 45, 54, 54, 81, 51, 39, 45, 55, 42, 67, 43, 45, 33, 58, 30, 28], \"symbol\": \"circle\"}, \"mode\": \"markers\", \"text\": \"\", \"type\": \"scatter\", \"x\": [-0.39249119533846083, -1.3888802447524282, 0.9320187198753848, 0.694353564039704, 0.7344257361752629, -1.2230733342365738, -0.8244809005601621, 0.7162297255286217, 0.2165294575147262, -0.2408870384182345, 1.1114063553829503, 0.11623195119570866, 0.11865011429650428, 0.6419190655473598, 0.5924914375347973, -1.5309904914242096, -1.0144836912833508, 0.17787108284173206, 1.1945581244349286, 1.2415482353883005, -0.4112001758408989, 1.7949556218804894, 0.9533968117682318, -0.05388169104593645, 0.24708490471611128, 0.25877047914625495, 0.48537772746154373, -0.6316121968562575, 0.06979028490490342, 0.19179517799331644, -1.6389060193460128, 0.9568316005620361, 0.26717277970941045, -0.3026993847893387, 1.1358386331024715, 0.10544743176293345, -0.3299778399054059, 0.27100520046695425, 0.06640897537997871, 1.2022134310294064, -0.8275038600805332, -1.8297538154580024, 0.6949224280793794, -0.5453678996930036, 1.0511010453471554, 0.5928559996789496, -0.06112588854125373, -0.33259830544963653, -0.9095544388303258, -0.06519574555535969, -0.7396712807137552, -0.7972607228576862, 0.8992819989759496, -0.48843079131869044, 0.6247337472023909, -0.04368661259913243, 1.0707374155366922, -1.2750425970263084, -2.1286830059622077, -0.16041042808617528, 0.8995574231400747, -1.1093579889045484, 0.24647782191751233, 0.1622166523400865, -1.9262665166541684, -0.11425757020942486, 1.6970107669806103, -0.5660708839996262, -0.5255668865650605, -0.013986122764662883, -0.7297632456108951, 1.4244002945727672, -1.77433674788825, -0.5638562033370994, -0.5015545170673178, -1.5485746003489604, -0.42447048714593744, 0.5227658730223655, -1.5510798620613335, -0.4326482754580784, -0.19418294085652998, 2.320301562215529, 0.6421355412935974, 1.0132407626820426, 0.8751950847102844, 0.06786618667413867, -1.1957715770422013, -0.8756342227097039, 0.8339918704633829, -0.9198970809358937, -1.3972272495036677, 1.023120644082157, -1.457450824800944, -0.16951331764207347, -1.129058458402131, 2.127667416680669, -0.8176154890128692, 1.2109557386846754, -0.30743944371779625, 0.16609731130823885], \"y\": [0.10480144276968774, -2.2448421163275762, -0.10385752502981002, 0.07587343198180303, 0.8253080764609732, -0.46590149353816884, 1.720000398792707, 0.04699268025148138, 0.6888697082875861, -1.5391049448586651, 1.531707361237052, -0.09993967946466119, -1.254504242294646, -1.2205349028615027, 1.0727852640083417, 2.567033067274972, -0.6521242358147255, 1.18401797836042, 0.5975387129010653, 1.1964442867936949, 2.160759870882936, -0.08331842428728174, -1.5832430789407055, -0.47278583853194756, -0.8189897202884268, 0.5523291035570072, 0.6360732149381493, 0.6078394093485547, -1.524513836860753, 0.019809751507857323, 0.36345148832240715, 0.5229061031796399, -1.397573910854617, 0.5051465500992074, 2.74628313657978, 0.8120454689264269, -1.2650901112701955, 1.232961382327399, -0.3204634182661983, 1.7667021889194712, -0.5183017375342086, 0.9557565205566079, -0.8086490205068385, -0.45212422534360897, 1.2309789313304136, -1.3160441618070073, -2.0787989453683213, -0.2514029947741344, 0.9867684647074665, -2.1990333320540243, -0.34497633052762716, 0.8639628692687408, -0.21389997301921213, 1.0066686519064196, 0.015285295518240219, 0.16553727871273421, -0.3422559844465687, 0.18582729884952723, -0.5185663434101322, 0.18913410433325986, 0.39113332341307633, -0.18854993521329608, -0.14869197202417253, -1.1771622810743556, 1.3307583915936658, -1.0811490526736167, 1.0091713921321324, -0.04562912974048219, -0.44860879206069726, -0.875699653930691, -0.9595772536161237, 2.2610482349970145, 0.673684214746933, 0.3855515807541555, -0.5870000829314124, -0.6238089402650726, 1.8241779691481275, 1.3040691198754766, 1.4022082707660175, -0.02802869965795411, -1.3025100590842051, 0.42446491321503954, -1.332092580693879, 0.24818581948371962, -0.5430116861802801, -0.25308285294068034, -0.7847086131345495, 0.09962225805782671, -0.4468545812432021, -1.3879365467126263, -1.8354406655645414, 0.20141758971530174, 0.6401032427603514, 0.16832901628415473, 0.3181880472684637, -0.5806466226491991, 0.6052428295290574, 2.367193516786903, -1.430962307666061, 1.322035884985864]}],                        {\"legend\": {\"bgcolor\": \"#F5F6F9\", \"font\": {\"color\": \"#4D5663\"}}, \"paper_bgcolor\": \"#F5F6F9\", \"plot_bgcolor\": \"#F5F6F9\", \"template\": {\"data\": {\"bar\": [{\"error_x\": {\"color\": \"#2a3f5f\"}, \"error_y\": {\"color\": \"#2a3f5f\"}, \"marker\": {\"line\": {\"color\": \"#E5ECF6\", \"width\": 0.5}}, \"type\": \"bar\"}], \"barpolar\": [{\"marker\": {\"line\": {\"color\": \"#E5ECF6\", \"width\": 0.5}}, \"type\": \"barpolar\"}], \"carpet\": [{\"aaxis\": {\"endlinecolor\": \"#2a3f5f\", \"gridcolor\": \"white\", \"linecolor\": \"white\", \"minorgridcolor\": \"white\", \"startlinecolor\": \"#2a3f5f\"}, \"baxis\": {\"endlinecolor\": \"#2a3f5f\", \"gridcolor\": \"white\", \"linecolor\": \"white\", \"minorgridcolor\": \"white\", \"startlinecolor\": \"#2a3f5f\"}, \"type\": \"carpet\"}], \"choropleth\": [{\"colorbar\": {\"outlinewidth\": 0, \"ticks\": \"\"}, \"type\": \"choropleth\"}], \"contour\": [{\"colorbar\": {\"outlinewidth\": 0, \"ticks\": \"\"}, \"colorscale\": [[0.0, \"#0d0887\"], [0.1111111111111111, \"#46039f\"], [0.2222222222222222, \"#7201a8\"], [0.3333333333333333, \"#9c179e\"], [0.4444444444444444, \"#bd3786\"], [0.5555555555555556, \"#d8576b\"], [0.6666666666666666, \"#ed7953\"], [0.7777777777777778, \"#fb9f3a\"], [0.8888888888888888, \"#fdca26\"], [1.0, \"#f0f921\"]], \"type\": \"contour\"}], \"contourcarpet\": [{\"colorbar\": {\"outlinewidth\": 0, \"ticks\": \"\"}, \"type\": \"contourcarpet\"}], \"heatmap\": [{\"colorbar\": {\"outlinewidth\": 0, \"ticks\": \"\"}, \"colorscale\": [[0.0, \"#0d0887\"], [0.1111111111111111, \"#46039f\"], [0.2222222222222222, \"#7201a8\"], [0.3333333333333333, \"#9c179e\"], [0.4444444444444444, \"#bd3786\"], [0.5555555555555556, \"#d8576b\"], [0.6666666666666666, \"#ed7953\"], [0.7777777777777778, \"#fb9f3a\"], [0.8888888888888888, \"#fdca26\"], [1.0, \"#f0f921\"]], \"type\": \"heatmap\"}], \"heatmapgl\": [{\"colorbar\": {\"outlinewidth\": 0, \"ticks\": \"\"}, \"colorscale\": [[0.0, \"#0d0887\"], [0.1111111111111111, \"#46039f\"], [0.2222222222222222, \"#7201a8\"], [0.3333333333333333, \"#9c179e\"], [0.4444444444444444, \"#bd3786\"], [0.5555555555555556, \"#d8576b\"], [0.6666666666666666, \"#ed7953\"], [0.7777777777777778, \"#fb9f3a\"], [0.8888888888888888, \"#fdca26\"], [1.0, \"#f0f921\"]], \"type\": \"heatmapgl\"}], \"histogram\": [{\"marker\": {\"colorbar\": {\"outlinewidth\": 0, \"ticks\": \"\"}}, \"type\": \"histogram\"}], \"histogram2d\": [{\"colorbar\": {\"outlinewidth\": 0, \"ticks\": \"\"}, \"colorscale\": [[0.0, \"#0d0887\"], [0.1111111111111111, \"#46039f\"], [0.2222222222222222, \"#7201a8\"], [0.3333333333333333, \"#9c179e\"], [0.4444444444444444, \"#bd3786\"], [0.5555555555555556, \"#d8576b\"], [0.6666666666666666, \"#ed7953\"], [0.7777777777777778, \"#fb9f3a\"], [0.8888888888888888, \"#fdca26\"], [1.0, \"#f0f921\"]], \"type\": \"histogram2d\"}], \"histogram2dcontour\": [{\"colorbar\": {\"outlinewidth\": 0, \"ticks\": \"\"}, \"colorscale\": [[0.0, \"#0d0887\"], [0.1111111111111111, \"#46039f\"], [0.2222222222222222, \"#7201a8\"], [0.3333333333333333, \"#9c179e\"], [0.4444444444444444, \"#bd3786\"], [0.5555555555555556, \"#d8576b\"], [0.6666666666666666, \"#ed7953\"], [0.7777777777777778, \"#fb9f3a\"], [0.8888888888888888, \"#fdca26\"], [1.0, \"#f0f921\"]], \"type\": \"histogram2dcontour\"}], \"mesh3d\": [{\"colorbar\": {\"outlinewidth\": 0, \"ticks\": \"\"}, \"type\": \"mesh3d\"}], \"parcoords\": [{\"line\": {\"colorbar\": {\"outlinewidth\": 0, \"ticks\": \"\"}}, \"type\": \"parcoords\"}], \"pie\": [{\"automargin\": true, \"type\": \"pie\"}], \"scatter\": [{\"marker\": {\"colorbar\": {\"outlinewidth\": 0, \"ticks\": \"\"}}, \"type\": \"scatter\"}], \"scatter3d\": [{\"line\": {\"colorbar\": {\"outlinewidth\": 0, \"ticks\": \"\"}}, \"marker\": {\"colorbar\": {\"outlinewidth\": 0, \"ticks\": \"\"}}, \"type\": \"scatter3d\"}], \"scattercarpet\": [{\"marker\": {\"colorbar\": {\"outlinewidth\": 0, \"ticks\": \"\"}}, \"type\": \"scattercarpet\"}], \"scattergeo\": [{\"marker\": {\"colorbar\": {\"outlinewidth\": 0, \"ticks\": \"\"}}, \"type\": \"scattergeo\"}], \"scattergl\": [{\"marker\": {\"colorbar\": {\"outlinewidth\": 0, \"ticks\": \"\"}}, \"type\": \"scattergl\"}], \"scattermapbox\": [{\"marker\": {\"colorbar\": {\"outlinewidth\": 0, \"ticks\": \"\"}}, \"type\": \"scattermapbox\"}], \"scatterpolar\": [{\"marker\": {\"colorbar\": {\"outlinewidth\": 0, \"ticks\": \"\"}}, \"type\": \"scatterpolar\"}], \"scatterpolargl\": [{\"marker\": {\"colorbar\": {\"outlinewidth\": 0, \"ticks\": \"\"}}, \"type\": \"scatterpolargl\"}], \"scatterternary\": [{\"marker\": {\"colorbar\": {\"outlinewidth\": 0, \"ticks\": \"\"}}, \"type\": \"scatterternary\"}], \"surface\": [{\"colorbar\": {\"outlinewidth\": 0, \"ticks\": \"\"}, \"colorscale\": [[0.0, \"#0d0887\"], [0.1111111111111111, \"#46039f\"], [0.2222222222222222, \"#7201a8\"], [0.3333333333333333, \"#9c179e\"], [0.4444444444444444, \"#bd3786\"], [0.5555555555555556, \"#d8576b\"], [0.6666666666666666, \"#ed7953\"], [0.7777777777777778, \"#fb9f3a\"], [0.8888888888888888, \"#fdca26\"], [1.0, \"#f0f921\"]], \"type\": \"surface\"}], \"table\": [{\"cells\": {\"fill\": {\"color\": \"#EBF0F8\"}, \"line\": {\"color\": \"white\"}}, \"header\": {\"fill\": {\"color\": \"#C8D4E3\"}, \"line\": {\"color\": \"white\"}}, \"type\": \"table\"}]}, \"layout\": {\"annotationdefaults\": {\"arrowcolor\": \"#2a3f5f\", \"arrowhead\": 0, \"arrowwidth\": 1}, \"autotypenumbers\": \"strict\", \"coloraxis\": {\"colorbar\": {\"outlinewidth\": 0, \"ticks\": \"\"}}, \"colorscale\": {\"diverging\": [[0, \"#8e0152\"], [0.1, \"#c51b7d\"], [0.2, \"#de77ae\"], [0.3, \"#f1b6da\"], [0.4, \"#fde0ef\"], [0.5, \"#f7f7f7\"], [0.6, \"#e6f5d0\"], [0.7, \"#b8e186\"], [0.8, \"#7fbc41\"], [0.9, \"#4d9221\"], [1, \"#276419\"]], \"sequential\": [[0.0, \"#0d0887\"], [0.1111111111111111, \"#46039f\"], [0.2222222222222222, \"#7201a8\"], [0.3333333333333333, \"#9c179e\"], [0.4444444444444444, \"#bd3786\"], [0.5555555555555556, \"#d8576b\"], [0.6666666666666666, \"#ed7953\"], [0.7777777777777778, \"#fb9f3a\"], [0.8888888888888888, \"#fdca26\"], [1.0, \"#f0f921\"]], \"sequentialminus\": [[0.0, \"#0d0887\"], [0.1111111111111111, \"#46039f\"], [0.2222222222222222, \"#7201a8\"], [0.3333333333333333, \"#9c179e\"], [0.4444444444444444, \"#bd3786\"], [0.5555555555555556, \"#d8576b\"], [0.6666666666666666, \"#ed7953\"], [0.7777777777777778, \"#fb9f3a\"], [0.8888888888888888, \"#fdca26\"], [1.0, \"#f0f921\"]]}, \"colorway\": [\"#636efa\", \"#EF553B\", \"#00cc96\", \"#ab63fa\", \"#FFA15A\", \"#19d3f3\", \"#FF6692\", \"#B6E880\", \"#FF97FF\", \"#FECB52\"], \"font\": {\"color\": \"#2a3f5f\"}, \"geo\": {\"bgcolor\": \"white\", \"lakecolor\": \"white\", \"landcolor\": \"#E5ECF6\", \"showlakes\": true, \"showland\": true, \"subunitcolor\": \"white\"}, \"hoverlabel\": {\"align\": \"left\"}, \"hovermode\": \"closest\", \"mapbox\": {\"style\": \"light\"}, \"paper_bgcolor\": \"white\", \"plot_bgcolor\": \"#E5ECF6\", \"polar\": {\"angularaxis\": {\"gridcolor\": \"white\", \"linecolor\": \"white\", \"ticks\": \"\"}, \"bgcolor\": \"#E5ECF6\", \"radialaxis\": {\"gridcolor\": \"white\", \"linecolor\": \"white\", \"ticks\": \"\"}}, \"scene\": {\"xaxis\": {\"backgroundcolor\": \"#E5ECF6\", \"gridcolor\": \"white\", \"gridwidth\": 2, \"linecolor\": \"white\", \"showbackground\": true, \"ticks\": \"\", \"zerolinecolor\": \"white\"}, \"yaxis\": {\"backgroundcolor\": \"#E5ECF6\", \"gridcolor\": \"white\", \"gridwidth\": 2, \"linecolor\": \"white\", \"showbackground\": true, \"ticks\": \"\", \"zerolinecolor\": \"white\"}, \"zaxis\": {\"backgroundcolor\": \"#E5ECF6\", \"gridcolor\": \"white\", \"gridwidth\": 2, \"linecolor\": \"white\", \"showbackground\": true, \"ticks\": \"\", \"zerolinecolor\": \"white\"}}, \"shapedefaults\": {\"line\": {\"color\": \"#2a3f5f\"}}, \"ternary\": {\"aaxis\": {\"gridcolor\": \"white\", \"linecolor\": \"white\", \"ticks\": \"\"}, \"baxis\": {\"gridcolor\": \"white\", \"linecolor\": \"white\", \"ticks\": \"\"}, \"bgcolor\": \"#E5ECF6\", \"caxis\": {\"gridcolor\": \"white\", \"linecolor\": \"white\", \"ticks\": \"\"}}, \"title\": {\"x\": 0.05}, \"xaxis\": {\"automargin\": true, \"gridcolor\": \"white\", \"linecolor\": \"white\", \"ticks\": \"\", \"title\": {\"standoff\": 15}, \"zerolinecolor\": \"white\", \"zerolinewidth\": 2}, \"yaxis\": {\"automargin\": true, \"gridcolor\": \"white\", \"linecolor\": \"white\", \"ticks\": \"\", \"title\": {\"standoff\": 15}, \"zerolinecolor\": \"white\", \"zerolinewidth\": 2}}}, \"title\": {\"font\": {\"color\": \"#4D5663\"}}, \"xaxis\": {\"gridcolor\": \"#E1E5ED\", \"showgrid\": true, \"tickfont\": {\"color\": \"#4D5663\"}, \"title\": {\"font\": {\"color\": \"#4D5663\"}, \"text\": \"\"}, \"zerolinecolor\": \"#E1E5ED\"}, \"yaxis\": {\"gridcolor\": \"#E1E5ED\", \"showgrid\": true, \"tickfont\": {\"color\": \"#4D5663\"}, \"title\": {\"font\": {\"color\": \"#4D5663\"}, \"text\": \"\"}, \"zerolinecolor\": \"#E1E5ED\"}},                        {\"showLink\": true, \"linkText\": \"Export to plot.ly\", \"plotlyServerURL\": \"https://plot.ly\", \"responsive\": true}                    ).then(function(){\n",
       "                            \n",
       "var gd = document.getElementById('0d5fa8d4-cfdb-4350-8a20-632612980bd8');\n",
       "var x = new MutationObserver(function (mutations, observer) {{\n",
       "        var display = window.getComputedStyle(gd).display;\n",
       "        if (!display || display === 'none') {{\n",
       "            console.log([gd, 'removed!']);\n",
       "            Plotly.purge(gd);\n",
       "            observer.disconnect();\n",
       "        }}\n",
       "}});\n",
       "\n",
       "// Listen for the removal of the full notebook cells\n",
       "var notebookContainer = gd.closest('#notebook-container');\n",
       "if (notebookContainer) {{\n",
       "    x.observe(notebookContainer, {childList: true});\n",
       "}}\n",
       "\n",
       "// Listen for the clearing of the current output cell\n",
       "var outputEl = gd.closest('.output');\n",
       "if (outputEl) {{\n",
       "    x.observe(outputEl, {childList: true});\n",
       "}}\n",
       "\n",
       "                        })                };                });            </script>        </div>"
      ]
     },
     "metadata": {},
     "output_type": "display_data"
    }
   ],
   "source": [
    "df.iplot(kind='bubble',x='A',y='B',size='C')"
   ]
  },
  {
   "cell_type": "markdown",
   "metadata": {},
   "source": [
    "## scatter_matrix()\n",
    "\n",
    "Similar to sns.pairplot()"
   ]
  },
  {
   "cell_type": "code",
   "execution_count": 25,
   "metadata": {
    "scrolled": true
   },
   "outputs": [
    {
     "data": {
      "application/vnd.plotly.v1+json": {
       "config": {
        "linkText": "Export to plot.ly",
        "plotlyServerURL": "https://plot.ly",
        "showLink": true
       },
       "data": [
        {
         "histfunc": "count",
         "histnorm": "",
         "marker": {
          "color": "rgba(255, 153, 51, 1.0)",
          "line": {
           "color": "#4D5663",
           "width": 1.3
          }
         },
         "name": "A",
         "nbinsx": 10,
         "opacity": 0.8,
         "orientation": "v",
         "type": "histogram",
         "x": [
          -0.39249119533846083,
          -1.3888802447524282,
          0.9320187198753848,
          0.694353564039704,
          0.7344257361752629,
          -1.2230733342365738,
          -0.8244809005601621,
          0.7162297255286217,
          0.2165294575147262,
          -0.2408870384182345,
          1.1114063553829503,
          0.11623195119570866,
          0.11865011429650428,
          0.6419190655473598,
          0.5924914375347973,
          -1.5309904914242096,
          -1.0144836912833508,
          0.17787108284173206,
          1.1945581244349286,
          1.2415482353883005,
          -0.4112001758408989,
          1.7949556218804894,
          0.9533968117682318,
          -0.05388169104593645,
          0.24708490471611128,
          0.25877047914625495,
          0.48537772746154373,
          -0.6316121968562575,
          0.06979028490490342,
          0.19179517799331644,
          -1.6389060193460128,
          0.9568316005620361,
          0.26717277970941045,
          -0.3026993847893387,
          1.1358386331024715,
          0.10544743176293345,
          -0.3299778399054059,
          0.27100520046695425,
          0.06640897537997871,
          1.2022134310294064,
          -0.8275038600805332,
          -1.8297538154580024,
          0.6949224280793794,
          -0.5453678996930036,
          1.0511010453471554,
          0.5928559996789496,
          -0.06112588854125373,
          -0.33259830544963653,
          -0.9095544388303258,
          -0.06519574555535969,
          -0.7396712807137552,
          -0.7972607228576862,
          0.8992819989759496,
          -0.48843079131869044,
          0.6247337472023909,
          -0.04368661259913243,
          1.0707374155366922,
          -1.2750425970263084,
          -2.1286830059622077,
          -0.16041042808617528,
          0.8995574231400747,
          -1.1093579889045484,
          0.24647782191751233,
          0.1622166523400865,
          -1.9262665166541684,
          -0.11425757020942486,
          1.6970107669806103,
          -0.5660708839996262,
          -0.5255668865650605,
          -0.013986122764662883,
          -0.7297632456108951,
          1.4244002945727672,
          -1.77433674788825,
          -0.5638562033370994,
          -0.5015545170673178,
          -1.5485746003489604,
          -0.42447048714593744,
          0.5227658730223655,
          -1.5510798620613335,
          -0.4326482754580784,
          -0.19418294085652998,
          2.320301562215529,
          0.6421355412935974,
          1.0132407626820426,
          0.8751950847102844,
          0.06786618667413867,
          -1.1957715770422013,
          -0.8756342227097039,
          0.8339918704633829,
          -0.9198970809358937,
          -1.3972272495036677,
          1.023120644082157,
          -1.457450824800944,
          -0.16951331764207347,
          -1.129058458402131,
          2.127667416680669,
          -0.8176154890128692,
          1.2109557386846754,
          -0.30743944371779625,
          0.16609731130823885
         ],
         "xaxis": "x",
         "yaxis": "y"
        },
        {
         "line": {
          "color": "rgba(128, 128, 128, 1.0)",
          "dash": "solid",
          "shape": "linear",
          "width": 1.3
         },
         "marker": {
          "size": 2,
          "symbol": "circle"
         },
         "mode": "markers",
         "name": "A",
         "text": "",
         "type": "scatter",
         "x": [
          0.10480144276968774,
          -2.2448421163275762,
          -0.10385752502981002,
          0.07587343198180303,
          0.8253080764609732,
          -0.46590149353816884,
          1.720000398792707,
          0.04699268025148138,
          0.6888697082875861,
          -1.5391049448586651,
          1.531707361237052,
          -0.09993967946466119,
          -1.254504242294646,
          -1.2205349028615027,
          1.0727852640083417,
          2.567033067274972,
          -0.6521242358147255,
          1.18401797836042,
          0.5975387129010653,
          1.1964442867936949,
          2.160759870882936,
          -0.08331842428728174,
          -1.5832430789407055,
          -0.47278583853194756,
          -0.8189897202884268,
          0.5523291035570072,
          0.6360732149381493,
          0.6078394093485547,
          -1.524513836860753,
          0.019809751507857323,
          0.36345148832240715,
          0.5229061031796399,
          -1.397573910854617,
          0.5051465500992074,
          2.74628313657978,
          0.8120454689264269,
          -1.2650901112701955,
          1.232961382327399,
          -0.3204634182661983,
          1.7667021889194712,
          -0.5183017375342086,
          0.9557565205566079,
          -0.8086490205068385,
          -0.45212422534360897,
          1.2309789313304136,
          -1.3160441618070073,
          -2.0787989453683213,
          -0.2514029947741344,
          0.9867684647074665,
          -2.1990333320540243,
          -0.34497633052762716,
          0.8639628692687408,
          -0.21389997301921213,
          1.0066686519064196,
          0.015285295518240219,
          0.16553727871273421,
          -0.3422559844465687,
          0.18582729884952723,
          -0.5185663434101322,
          0.18913410433325986,
          0.39113332341307633,
          -0.18854993521329608,
          -0.14869197202417253,
          -1.1771622810743556,
          1.3307583915936658,
          -1.0811490526736167,
          1.0091713921321324,
          -0.04562912974048219,
          -0.44860879206069726,
          -0.875699653930691,
          -0.9595772536161237,
          2.2610482349970145,
          0.673684214746933,
          0.3855515807541555,
          -0.5870000829314124,
          -0.6238089402650726,
          1.8241779691481275,
          1.3040691198754766,
          1.4022082707660175,
          -0.02802869965795411,
          -1.3025100590842051,
          0.42446491321503954,
          -1.332092580693879,
          0.24818581948371962,
          -0.5430116861802801,
          -0.25308285294068034,
          -0.7847086131345495,
          0.09962225805782671,
          -0.4468545812432021,
          -1.3879365467126263,
          -1.8354406655645414,
          0.20141758971530174,
          0.6401032427603514,
          0.16832901628415473,
          0.3181880472684637,
          -0.5806466226491991,
          0.6052428295290574,
          2.367193516786903,
          -1.430962307666061,
          1.322035884985864
         ],
         "xaxis": "x2",
         "y": [
          -0.39249119533846083,
          -1.3888802447524282,
          0.9320187198753848,
          0.694353564039704,
          0.7344257361752629,
          -1.2230733342365738,
          -0.8244809005601621,
          0.7162297255286217,
          0.2165294575147262,
          -0.2408870384182345,
          1.1114063553829503,
          0.11623195119570866,
          0.11865011429650428,
          0.6419190655473598,
          0.5924914375347973,
          -1.5309904914242096,
          -1.0144836912833508,
          0.17787108284173206,
          1.1945581244349286,
          1.2415482353883005,
          -0.4112001758408989,
          1.7949556218804894,
          0.9533968117682318,
          -0.05388169104593645,
          0.24708490471611128,
          0.25877047914625495,
          0.48537772746154373,
          -0.6316121968562575,
          0.06979028490490342,
          0.19179517799331644,
          -1.6389060193460128,
          0.9568316005620361,
          0.26717277970941045,
          -0.3026993847893387,
          1.1358386331024715,
          0.10544743176293345,
          -0.3299778399054059,
          0.27100520046695425,
          0.06640897537997871,
          1.2022134310294064,
          -0.8275038600805332,
          -1.8297538154580024,
          0.6949224280793794,
          -0.5453678996930036,
          1.0511010453471554,
          0.5928559996789496,
          -0.06112588854125373,
          -0.33259830544963653,
          -0.9095544388303258,
          -0.06519574555535969,
          -0.7396712807137552,
          -0.7972607228576862,
          0.8992819989759496,
          -0.48843079131869044,
          0.6247337472023909,
          -0.04368661259913243,
          1.0707374155366922,
          -1.2750425970263084,
          -2.1286830059622077,
          -0.16041042808617528,
          0.8995574231400747,
          -1.1093579889045484,
          0.24647782191751233,
          0.1622166523400865,
          -1.9262665166541684,
          -0.11425757020942486,
          1.6970107669806103,
          -0.5660708839996262,
          -0.5255668865650605,
          -0.013986122764662883,
          -0.7297632456108951,
          1.4244002945727672,
          -1.77433674788825,
          -0.5638562033370994,
          -0.5015545170673178,
          -1.5485746003489604,
          -0.42447048714593744,
          0.5227658730223655,
          -1.5510798620613335,
          -0.4326482754580784,
          -0.19418294085652998,
          2.320301562215529,
          0.6421355412935974,
          1.0132407626820426,
          0.8751950847102844,
          0.06786618667413867,
          -1.1957715770422013,
          -0.8756342227097039,
          0.8339918704633829,
          -0.9198970809358937,
          -1.3972272495036677,
          1.023120644082157,
          -1.457450824800944,
          -0.16951331764207347,
          -1.129058458402131,
          2.127667416680669,
          -0.8176154890128692,
          1.2109557386846754,
          -0.30743944371779625,
          0.16609731130823885
         ],
         "yaxis": "y2"
        },
        {
         "line": {
          "color": "rgba(128, 128, 128, 1.0)",
          "dash": "solid",
          "shape": "linear",
          "width": 1.3
         },
         "marker": {
          "size": 2,
          "symbol": "circle"
         },
         "mode": "markers",
         "name": "A",
         "text": "",
         "type": "scatter",
         "x": [
          1.262553816272815,
          -1.1312557642920869,
          -1.1781643467734917,
          -0.040049755965456645,
          0.3775276948122276,
          -0.1835377139042649,
          3.2845053496903334,
          -0.17001909195977002,
          1.2723768678324126,
          0.11515065592126898,
          -0.09795599482709719,
          -0.315118246635823,
          0.1303795582218475,
          0.1934309273749824,
          -0.15700279297617625,
          0.1355005381328716,
          -0.36170610267805064,
          -0.7296906375113784,
          0.967917008890089,
          0.08101502544623371,
          -0.7121024219343551,
          0.25150715334657064,
          1.3207142931406897,
          -0.7640006693031689,
          -2.0419995307825802,
          0.8557271987160892,
          -0.2667276886830243,
          0.2556003823611708,
          -0.1404043230126173,
          0.06946071379905819,
          -0.48265634382018247,
          0.38991158300036804,
          1.1514677316517041,
          0.04327112231623401,
          0.16999677247215608,
          -1.301362660406228,
          -0.4389181617111678,
          -0.2741905611165989,
          -0.8800900233876539,
          -1.1340494603714055,
          0.6664892396325672,
          -1.8055961576689588,
          1.321351407120175,
          1.4250517922344206,
          1.3472459104122083,
          -0.004453262139512292,
          0.7490165419436738,
          0.7194009489746745,
          -1.3110385371336761,
          -0.44112586565230005,
          -2.1706587330360105,
          -1.0409700261702066,
          -1.4548992791934483,
          -0.2549378491600471,
          0.15441372440608092,
          0.2971687002806099,
          -0.34980117477422745,
          -0.950796048165758,
          0.8110675981560487,
          -0.47315604585092913,
          -0.6644216823215673,
          0.18540603803740488,
          -1.1679486757592947,
          -0.9289797647673192,
          -1.7675116350142936,
          0.8678474620139809,
          2.0967793770906322,
          -0.08152292625404282,
          0.2554994751702368,
          -0.4943892750842958,
          1.270761433397232,
          -2.5825683776574135,
          -0.46722176713795577,
          1.9218430644214242,
          0.1089838289729727,
          0.6945648693019376,
          1.3355507057913318,
          -0.8645998266815484,
          0.6898737364799554,
          -0.6081416493163475,
          -0.6789194788399318,
          0.9008873933257342,
          1.3601004837458617,
          -0.5920848140497326,
          -0.5917390162676318,
          -0.0666286771665744,
          -0.06253202279846254,
          1.5049696631772043,
          -0.23985914874085418,
          -0.9898416201349332,
          -0.5967129176045103,
          -0.05223050061835646,
          -0.8017070028742392,
          0.7027432376554948,
          -0.749255610086444,
          -0.6053289414724052,
          -1.3322298257831455,
          0.1653817387832196,
          -1.4808261546521626,
          -1.6107761066626145
         ],
         "xaxis": "x3",
         "y": [
          -0.39249119533846083,
          -1.3888802447524282,
          0.9320187198753848,
          0.694353564039704,
          0.7344257361752629,
          -1.2230733342365738,
          -0.8244809005601621,
          0.7162297255286217,
          0.2165294575147262,
          -0.2408870384182345,
          1.1114063553829503,
          0.11623195119570866,
          0.11865011429650428,
          0.6419190655473598,
          0.5924914375347973,
          -1.5309904914242096,
          -1.0144836912833508,
          0.17787108284173206,
          1.1945581244349286,
          1.2415482353883005,
          -0.4112001758408989,
          1.7949556218804894,
          0.9533968117682318,
          -0.05388169104593645,
          0.24708490471611128,
          0.25877047914625495,
          0.48537772746154373,
          -0.6316121968562575,
          0.06979028490490342,
          0.19179517799331644,
          -1.6389060193460128,
          0.9568316005620361,
          0.26717277970941045,
          -0.3026993847893387,
          1.1358386331024715,
          0.10544743176293345,
          -0.3299778399054059,
          0.27100520046695425,
          0.06640897537997871,
          1.2022134310294064,
          -0.8275038600805332,
          -1.8297538154580024,
          0.6949224280793794,
          -0.5453678996930036,
          1.0511010453471554,
          0.5928559996789496,
          -0.06112588854125373,
          -0.33259830544963653,
          -0.9095544388303258,
          -0.06519574555535969,
          -0.7396712807137552,
          -0.7972607228576862,
          0.8992819989759496,
          -0.48843079131869044,
          0.6247337472023909,
          -0.04368661259913243,
          1.0707374155366922,
          -1.2750425970263084,
          -2.1286830059622077,
          -0.16041042808617528,
          0.8995574231400747,
          -1.1093579889045484,
          0.24647782191751233,
          0.1622166523400865,
          -1.9262665166541684,
          -0.11425757020942486,
          1.6970107669806103,
          -0.5660708839996262,
          -0.5255668865650605,
          -0.013986122764662883,
          -0.7297632456108951,
          1.4244002945727672,
          -1.77433674788825,
          -0.5638562033370994,
          -0.5015545170673178,
          -1.5485746003489604,
          -0.42447048714593744,
          0.5227658730223655,
          -1.5510798620613335,
          -0.4326482754580784,
          -0.19418294085652998,
          2.320301562215529,
          0.6421355412935974,
          1.0132407626820426,
          0.8751950847102844,
          0.06786618667413867,
          -1.1957715770422013,
          -0.8756342227097039,
          0.8339918704633829,
          -0.9198970809358937,
          -1.3972272495036677,
          1.023120644082157,
          -1.457450824800944,
          -0.16951331764207347,
          -1.129058458402131,
          2.127667416680669,
          -0.8176154890128692,
          1.2109557386846754,
          -0.30743944371779625,
          0.16609731130823885
         ],
         "yaxis": "y3"
        },
        {
         "line": {
          "color": "rgba(128, 128, 128, 1.0)",
          "dash": "solid",
          "shape": "linear",
          "width": 1.3
         },
         "marker": {
          "size": 2,
          "symbol": "circle"
         },
         "mode": "markers",
         "name": "A",
         "text": "",
         "type": "scatter",
         "x": [
          -1.5358627875003739,
          0.06548290336662309,
          -0.8079937212589396,
          -0.6440551079816648,
          -0.040769064291493434,
          0.18714145228738116,
          -0.054901915594329616,
          -0.3643694822485636,
          1.146609059044325,
          1.0192292972838897,
          0.895097874011055,
          -2.383937229455519,
          -2.542843656486311,
          1.2960827540249615,
          1.0723567212065517,
          -0.6507274922468583,
          -0.29293379375665585,
          0.3460315198837977,
          -0.09962138708788137,
          1.1939042771345394,
          -0.47218918626376266,
          -1.62969939297132,
          -0.5566240014855384,
          -0.24481130346445587,
          0.562605618427525,
          -0.8482663035942708,
          -0.670587067739321,
          -2.3318080258655596,
          -0.615926835103948,
          0.3210035162003755,
          1.031682174420211,
          0.6254573040796039,
          0.9372397290889352,
          -0.9757589876634554,
          -1.1100950292047358,
          0.5066657285885308,
          -1.2420928695653852,
          -0.42320781681759534,
          -0.5218466201269218,
          -0.050456628261667455,
          -0.8296913187279658,
          -1.3290266063019278,
          -1.4775658985607254,
          -0.8781983454919082,
          0.9879607729666382,
          1.016597645161363,
          0.369600471833716,
          -0.883274953133442,
          -1.2952266725962698,
          -0.24594961730833692,
          -0.2741775354424396,
          0.03204721204159266,
          0.5580925732828539,
          -0.36955433697025497,
          -0.9799433295112487,
          0.07598562686524854,
          -0.30926100523398176,
          1.8001282128534324,
          -0.09616649611101727,
          -0.9095300492922991,
          -0.8747134737168203,
          0.7287346795419107,
          0.8896795463867703,
          -0.13183711628422762,
          1.5212968665174014,
          -0.10200381107198399,
          -0.027319829348091886,
          -0.18124818094030268,
          -0.5983209667738654,
          1.1896826215735987,
          -1.460386729170942,
          1.110808064789999,
          0.024611131521987014,
          0.6949332321192025,
          -0.9332432718000083,
          0.6927311054497955,
          -0.0428582712371396,
          -0.6085795683215991,
          0.8675058278177395,
          1.2217752261253048,
          0.6725150690847547,
          0.38187648956293124,
          -0.3249963627140331,
          -0.8953924669590061,
          -0.6843153532339907,
          0.615350101819938,
          0.6526633943573716,
          -0.6110226975148664,
          -0.5440619610659326,
          -1.2287517540107722,
          0.4336478708056217,
          -0.25584838718160796,
          0.27413404970423416,
          -0.03315047515053486,
          0.006506711124766794,
          -0.01964487911993876,
          -0.7686623781963896,
          -0.6975844031157828,
          -0.04654454869085646,
          -0.10655674043640209
         ],
         "xaxis": "x4",
         "y": [
          -0.39249119533846083,
          -1.3888802447524282,
          0.9320187198753848,
          0.694353564039704,
          0.7344257361752629,
          -1.2230733342365738,
          -0.8244809005601621,
          0.7162297255286217,
          0.2165294575147262,
          -0.2408870384182345,
          1.1114063553829503,
          0.11623195119570866,
          0.11865011429650428,
          0.6419190655473598,
          0.5924914375347973,
          -1.5309904914242096,
          -1.0144836912833508,
          0.17787108284173206,
          1.1945581244349286,
          1.2415482353883005,
          -0.4112001758408989,
          1.7949556218804894,
          0.9533968117682318,
          -0.05388169104593645,
          0.24708490471611128,
          0.25877047914625495,
          0.48537772746154373,
          -0.6316121968562575,
          0.06979028490490342,
          0.19179517799331644,
          -1.6389060193460128,
          0.9568316005620361,
          0.26717277970941045,
          -0.3026993847893387,
          1.1358386331024715,
          0.10544743176293345,
          -0.3299778399054059,
          0.27100520046695425,
          0.06640897537997871,
          1.2022134310294064,
          -0.8275038600805332,
          -1.8297538154580024,
          0.6949224280793794,
          -0.5453678996930036,
          1.0511010453471554,
          0.5928559996789496,
          -0.06112588854125373,
          -0.33259830544963653,
          -0.9095544388303258,
          -0.06519574555535969,
          -0.7396712807137552,
          -0.7972607228576862,
          0.8992819989759496,
          -0.48843079131869044,
          0.6247337472023909,
          -0.04368661259913243,
          1.0707374155366922,
          -1.2750425970263084,
          -2.1286830059622077,
          -0.16041042808617528,
          0.8995574231400747,
          -1.1093579889045484,
          0.24647782191751233,
          0.1622166523400865,
          -1.9262665166541684,
          -0.11425757020942486,
          1.6970107669806103,
          -0.5660708839996262,
          -0.5255668865650605,
          -0.013986122764662883,
          -0.7297632456108951,
          1.4244002945727672,
          -1.77433674788825,
          -0.5638562033370994,
          -0.5015545170673178,
          -1.5485746003489604,
          -0.42447048714593744,
          0.5227658730223655,
          -1.5510798620613335,
          -0.4326482754580784,
          -0.19418294085652998,
          2.320301562215529,
          0.6421355412935974,
          1.0132407626820426,
          0.8751950847102844,
          0.06786618667413867,
          -1.1957715770422013,
          -0.8756342227097039,
          0.8339918704633829,
          -0.9198970809358937,
          -1.3972272495036677,
          1.023120644082157,
          -1.457450824800944,
          -0.16951331764207347,
          -1.129058458402131,
          2.127667416680669,
          -0.8176154890128692,
          1.2109557386846754,
          -0.30743944371779625,
          0.16609731130823885
         ],
         "yaxis": "y4"
        },
        {
         "line": {
          "color": "rgba(128, 128, 128, 1.0)",
          "dash": "solid",
          "shape": "linear",
          "width": 1.3
         },
         "marker": {
          "size": 2,
          "symbol": "circle"
         },
         "mode": "markers",
         "name": "B",
         "text": "",
         "type": "scatter",
         "x": [
          -0.39249119533846083,
          -1.3888802447524282,
          0.9320187198753848,
          0.694353564039704,
          0.7344257361752629,
          -1.2230733342365738,
          -0.8244809005601621,
          0.7162297255286217,
          0.2165294575147262,
          -0.2408870384182345,
          1.1114063553829503,
          0.11623195119570866,
          0.11865011429650428,
          0.6419190655473598,
          0.5924914375347973,
          -1.5309904914242096,
          -1.0144836912833508,
          0.17787108284173206,
          1.1945581244349286,
          1.2415482353883005,
          -0.4112001758408989,
          1.7949556218804894,
          0.9533968117682318,
          -0.05388169104593645,
          0.24708490471611128,
          0.25877047914625495,
          0.48537772746154373,
          -0.6316121968562575,
          0.06979028490490342,
          0.19179517799331644,
          -1.6389060193460128,
          0.9568316005620361,
          0.26717277970941045,
          -0.3026993847893387,
          1.1358386331024715,
          0.10544743176293345,
          -0.3299778399054059,
          0.27100520046695425,
          0.06640897537997871,
          1.2022134310294064,
          -0.8275038600805332,
          -1.8297538154580024,
          0.6949224280793794,
          -0.5453678996930036,
          1.0511010453471554,
          0.5928559996789496,
          -0.06112588854125373,
          -0.33259830544963653,
          -0.9095544388303258,
          -0.06519574555535969,
          -0.7396712807137552,
          -0.7972607228576862,
          0.8992819989759496,
          -0.48843079131869044,
          0.6247337472023909,
          -0.04368661259913243,
          1.0707374155366922,
          -1.2750425970263084,
          -2.1286830059622077,
          -0.16041042808617528,
          0.8995574231400747,
          -1.1093579889045484,
          0.24647782191751233,
          0.1622166523400865,
          -1.9262665166541684,
          -0.11425757020942486,
          1.6970107669806103,
          -0.5660708839996262,
          -0.5255668865650605,
          -0.013986122764662883,
          -0.7297632456108951,
          1.4244002945727672,
          -1.77433674788825,
          -0.5638562033370994,
          -0.5015545170673178,
          -1.5485746003489604,
          -0.42447048714593744,
          0.5227658730223655,
          -1.5510798620613335,
          -0.4326482754580784,
          -0.19418294085652998,
          2.320301562215529,
          0.6421355412935974,
          1.0132407626820426,
          0.8751950847102844,
          0.06786618667413867,
          -1.1957715770422013,
          -0.8756342227097039,
          0.8339918704633829,
          -0.9198970809358937,
          -1.3972272495036677,
          1.023120644082157,
          -1.457450824800944,
          -0.16951331764207347,
          -1.129058458402131,
          2.127667416680669,
          -0.8176154890128692,
          1.2109557386846754,
          -0.30743944371779625,
          0.16609731130823885
         ],
         "xaxis": "x5",
         "y": [
          0.10480144276968774,
          -2.2448421163275762,
          -0.10385752502981002,
          0.07587343198180303,
          0.8253080764609732,
          -0.46590149353816884,
          1.720000398792707,
          0.04699268025148138,
          0.6888697082875861,
          -1.5391049448586651,
          1.531707361237052,
          -0.09993967946466119,
          -1.254504242294646,
          -1.2205349028615027,
          1.0727852640083417,
          2.567033067274972,
          -0.6521242358147255,
          1.18401797836042,
          0.5975387129010653,
          1.1964442867936949,
          2.160759870882936,
          -0.08331842428728174,
          -1.5832430789407055,
          -0.47278583853194756,
          -0.8189897202884268,
          0.5523291035570072,
          0.6360732149381493,
          0.6078394093485547,
          -1.524513836860753,
          0.019809751507857323,
          0.36345148832240715,
          0.5229061031796399,
          -1.397573910854617,
          0.5051465500992074,
          2.74628313657978,
          0.8120454689264269,
          -1.2650901112701955,
          1.232961382327399,
          -0.3204634182661983,
          1.7667021889194712,
          -0.5183017375342086,
          0.9557565205566079,
          -0.8086490205068385,
          -0.45212422534360897,
          1.2309789313304136,
          -1.3160441618070073,
          -2.0787989453683213,
          -0.2514029947741344,
          0.9867684647074665,
          -2.1990333320540243,
          -0.34497633052762716,
          0.8639628692687408,
          -0.21389997301921213,
          1.0066686519064196,
          0.015285295518240219,
          0.16553727871273421,
          -0.3422559844465687,
          0.18582729884952723,
          -0.5185663434101322,
          0.18913410433325986,
          0.39113332341307633,
          -0.18854993521329608,
          -0.14869197202417253,
          -1.1771622810743556,
          1.3307583915936658,
          -1.0811490526736167,
          1.0091713921321324,
          -0.04562912974048219,
          -0.44860879206069726,
          -0.875699653930691,
          -0.9595772536161237,
          2.2610482349970145,
          0.673684214746933,
          0.3855515807541555,
          -0.5870000829314124,
          -0.6238089402650726,
          1.8241779691481275,
          1.3040691198754766,
          1.4022082707660175,
          -0.02802869965795411,
          -1.3025100590842051,
          0.42446491321503954,
          -1.332092580693879,
          0.24818581948371962,
          -0.5430116861802801,
          -0.25308285294068034,
          -0.7847086131345495,
          0.09962225805782671,
          -0.4468545812432021,
          -1.3879365467126263,
          -1.8354406655645414,
          0.20141758971530174,
          0.6401032427603514,
          0.16832901628415473,
          0.3181880472684637,
          -0.5806466226491991,
          0.6052428295290574,
          2.367193516786903,
          -1.430962307666061,
          1.322035884985864
         ],
         "yaxis": "y5"
        },
        {
         "histfunc": "count",
         "histnorm": "",
         "marker": {
          "color": "rgba(55, 128, 191, 1.0)",
          "line": {
           "color": "#4D5663",
           "width": 1.3
          }
         },
         "name": "B",
         "nbinsx": 10,
         "opacity": 0.8,
         "orientation": "v",
         "type": "histogram",
         "x": [
          0.10480144276968774,
          -2.2448421163275762,
          -0.10385752502981002,
          0.07587343198180303,
          0.8253080764609732,
          -0.46590149353816884,
          1.720000398792707,
          0.04699268025148138,
          0.6888697082875861,
          -1.5391049448586651,
          1.531707361237052,
          -0.09993967946466119,
          -1.254504242294646,
          -1.2205349028615027,
          1.0727852640083417,
          2.567033067274972,
          -0.6521242358147255,
          1.18401797836042,
          0.5975387129010653,
          1.1964442867936949,
          2.160759870882936,
          -0.08331842428728174,
          -1.5832430789407055,
          -0.47278583853194756,
          -0.8189897202884268,
          0.5523291035570072,
          0.6360732149381493,
          0.6078394093485547,
          -1.524513836860753,
          0.019809751507857323,
          0.36345148832240715,
          0.5229061031796399,
          -1.397573910854617,
          0.5051465500992074,
          2.74628313657978,
          0.8120454689264269,
          -1.2650901112701955,
          1.232961382327399,
          -0.3204634182661983,
          1.7667021889194712,
          -0.5183017375342086,
          0.9557565205566079,
          -0.8086490205068385,
          -0.45212422534360897,
          1.2309789313304136,
          -1.3160441618070073,
          -2.0787989453683213,
          -0.2514029947741344,
          0.9867684647074665,
          -2.1990333320540243,
          -0.34497633052762716,
          0.8639628692687408,
          -0.21389997301921213,
          1.0066686519064196,
          0.015285295518240219,
          0.16553727871273421,
          -0.3422559844465687,
          0.18582729884952723,
          -0.5185663434101322,
          0.18913410433325986,
          0.39113332341307633,
          -0.18854993521329608,
          -0.14869197202417253,
          -1.1771622810743556,
          1.3307583915936658,
          -1.0811490526736167,
          1.0091713921321324,
          -0.04562912974048219,
          -0.44860879206069726,
          -0.875699653930691,
          -0.9595772536161237,
          2.2610482349970145,
          0.673684214746933,
          0.3855515807541555,
          -0.5870000829314124,
          -0.6238089402650726,
          1.8241779691481275,
          1.3040691198754766,
          1.4022082707660175,
          -0.02802869965795411,
          -1.3025100590842051,
          0.42446491321503954,
          -1.332092580693879,
          0.24818581948371962,
          -0.5430116861802801,
          -0.25308285294068034,
          -0.7847086131345495,
          0.09962225805782671,
          -0.4468545812432021,
          -1.3879365467126263,
          -1.8354406655645414,
          0.20141758971530174,
          0.6401032427603514,
          0.16832901628415473,
          0.3181880472684637,
          -0.5806466226491991,
          0.6052428295290574,
          2.367193516786903,
          -1.430962307666061,
          1.322035884985864
         ],
         "xaxis": "x6",
         "yaxis": "y6"
        },
        {
         "line": {
          "color": "rgba(128, 128, 128, 1.0)",
          "dash": "solid",
          "shape": "linear",
          "width": 1.3
         },
         "marker": {
          "size": 2,
          "symbol": "circle"
         },
         "mode": "markers",
         "name": "B",
         "text": "",
         "type": "scatter",
         "x": [
          1.262553816272815,
          -1.1312557642920869,
          -1.1781643467734917,
          -0.040049755965456645,
          0.3775276948122276,
          -0.1835377139042649,
          3.2845053496903334,
          -0.17001909195977002,
          1.2723768678324126,
          0.11515065592126898,
          -0.09795599482709719,
          -0.315118246635823,
          0.1303795582218475,
          0.1934309273749824,
          -0.15700279297617625,
          0.1355005381328716,
          -0.36170610267805064,
          -0.7296906375113784,
          0.967917008890089,
          0.08101502544623371,
          -0.7121024219343551,
          0.25150715334657064,
          1.3207142931406897,
          -0.7640006693031689,
          -2.0419995307825802,
          0.8557271987160892,
          -0.2667276886830243,
          0.2556003823611708,
          -0.1404043230126173,
          0.06946071379905819,
          -0.48265634382018247,
          0.38991158300036804,
          1.1514677316517041,
          0.04327112231623401,
          0.16999677247215608,
          -1.301362660406228,
          -0.4389181617111678,
          -0.2741905611165989,
          -0.8800900233876539,
          -1.1340494603714055,
          0.6664892396325672,
          -1.8055961576689588,
          1.321351407120175,
          1.4250517922344206,
          1.3472459104122083,
          -0.004453262139512292,
          0.7490165419436738,
          0.7194009489746745,
          -1.3110385371336761,
          -0.44112586565230005,
          -2.1706587330360105,
          -1.0409700261702066,
          -1.4548992791934483,
          -0.2549378491600471,
          0.15441372440608092,
          0.2971687002806099,
          -0.34980117477422745,
          -0.950796048165758,
          0.8110675981560487,
          -0.47315604585092913,
          -0.6644216823215673,
          0.18540603803740488,
          -1.1679486757592947,
          -0.9289797647673192,
          -1.7675116350142936,
          0.8678474620139809,
          2.0967793770906322,
          -0.08152292625404282,
          0.2554994751702368,
          -0.4943892750842958,
          1.270761433397232,
          -2.5825683776574135,
          -0.46722176713795577,
          1.9218430644214242,
          0.1089838289729727,
          0.6945648693019376,
          1.3355507057913318,
          -0.8645998266815484,
          0.6898737364799554,
          -0.6081416493163475,
          -0.6789194788399318,
          0.9008873933257342,
          1.3601004837458617,
          -0.5920848140497326,
          -0.5917390162676318,
          -0.0666286771665744,
          -0.06253202279846254,
          1.5049696631772043,
          -0.23985914874085418,
          -0.9898416201349332,
          -0.5967129176045103,
          -0.05223050061835646,
          -0.8017070028742392,
          0.7027432376554948,
          -0.749255610086444,
          -0.6053289414724052,
          -1.3322298257831455,
          0.1653817387832196,
          -1.4808261546521626,
          -1.6107761066626145
         ],
         "xaxis": "x7",
         "y": [
          0.10480144276968774,
          -2.2448421163275762,
          -0.10385752502981002,
          0.07587343198180303,
          0.8253080764609732,
          -0.46590149353816884,
          1.720000398792707,
          0.04699268025148138,
          0.6888697082875861,
          -1.5391049448586651,
          1.531707361237052,
          -0.09993967946466119,
          -1.254504242294646,
          -1.2205349028615027,
          1.0727852640083417,
          2.567033067274972,
          -0.6521242358147255,
          1.18401797836042,
          0.5975387129010653,
          1.1964442867936949,
          2.160759870882936,
          -0.08331842428728174,
          -1.5832430789407055,
          -0.47278583853194756,
          -0.8189897202884268,
          0.5523291035570072,
          0.6360732149381493,
          0.6078394093485547,
          -1.524513836860753,
          0.019809751507857323,
          0.36345148832240715,
          0.5229061031796399,
          -1.397573910854617,
          0.5051465500992074,
          2.74628313657978,
          0.8120454689264269,
          -1.2650901112701955,
          1.232961382327399,
          -0.3204634182661983,
          1.7667021889194712,
          -0.5183017375342086,
          0.9557565205566079,
          -0.8086490205068385,
          -0.45212422534360897,
          1.2309789313304136,
          -1.3160441618070073,
          -2.0787989453683213,
          -0.2514029947741344,
          0.9867684647074665,
          -2.1990333320540243,
          -0.34497633052762716,
          0.8639628692687408,
          -0.21389997301921213,
          1.0066686519064196,
          0.015285295518240219,
          0.16553727871273421,
          -0.3422559844465687,
          0.18582729884952723,
          -0.5185663434101322,
          0.18913410433325986,
          0.39113332341307633,
          -0.18854993521329608,
          -0.14869197202417253,
          -1.1771622810743556,
          1.3307583915936658,
          -1.0811490526736167,
          1.0091713921321324,
          -0.04562912974048219,
          -0.44860879206069726,
          -0.875699653930691,
          -0.9595772536161237,
          2.2610482349970145,
          0.673684214746933,
          0.3855515807541555,
          -0.5870000829314124,
          -0.6238089402650726,
          1.8241779691481275,
          1.3040691198754766,
          1.4022082707660175,
          -0.02802869965795411,
          -1.3025100590842051,
          0.42446491321503954,
          -1.332092580693879,
          0.24818581948371962,
          -0.5430116861802801,
          -0.25308285294068034,
          -0.7847086131345495,
          0.09962225805782671,
          -0.4468545812432021,
          -1.3879365467126263,
          -1.8354406655645414,
          0.20141758971530174,
          0.6401032427603514,
          0.16832901628415473,
          0.3181880472684637,
          -0.5806466226491991,
          0.6052428295290574,
          2.367193516786903,
          -1.430962307666061,
          1.322035884985864
         ],
         "yaxis": "y7"
        },
        {
         "line": {
          "color": "rgba(128, 128, 128, 1.0)",
          "dash": "solid",
          "shape": "linear",
          "width": 1.3
         },
         "marker": {
          "size": 2,
          "symbol": "circle"
         },
         "mode": "markers",
         "name": "B",
         "text": "",
         "type": "scatter",
         "x": [
          -1.5358627875003739,
          0.06548290336662309,
          -0.8079937212589396,
          -0.6440551079816648,
          -0.040769064291493434,
          0.18714145228738116,
          -0.054901915594329616,
          -0.3643694822485636,
          1.146609059044325,
          1.0192292972838897,
          0.895097874011055,
          -2.383937229455519,
          -2.542843656486311,
          1.2960827540249615,
          1.0723567212065517,
          -0.6507274922468583,
          -0.29293379375665585,
          0.3460315198837977,
          -0.09962138708788137,
          1.1939042771345394,
          -0.47218918626376266,
          -1.62969939297132,
          -0.5566240014855384,
          -0.24481130346445587,
          0.562605618427525,
          -0.8482663035942708,
          -0.670587067739321,
          -2.3318080258655596,
          -0.615926835103948,
          0.3210035162003755,
          1.031682174420211,
          0.6254573040796039,
          0.9372397290889352,
          -0.9757589876634554,
          -1.1100950292047358,
          0.5066657285885308,
          -1.2420928695653852,
          -0.42320781681759534,
          -0.5218466201269218,
          -0.050456628261667455,
          -0.8296913187279658,
          -1.3290266063019278,
          -1.4775658985607254,
          -0.8781983454919082,
          0.9879607729666382,
          1.016597645161363,
          0.369600471833716,
          -0.883274953133442,
          -1.2952266725962698,
          -0.24594961730833692,
          -0.2741775354424396,
          0.03204721204159266,
          0.5580925732828539,
          -0.36955433697025497,
          -0.9799433295112487,
          0.07598562686524854,
          -0.30926100523398176,
          1.8001282128534324,
          -0.09616649611101727,
          -0.9095300492922991,
          -0.8747134737168203,
          0.7287346795419107,
          0.8896795463867703,
          -0.13183711628422762,
          1.5212968665174014,
          -0.10200381107198399,
          -0.027319829348091886,
          -0.18124818094030268,
          -0.5983209667738654,
          1.1896826215735987,
          -1.460386729170942,
          1.110808064789999,
          0.024611131521987014,
          0.6949332321192025,
          -0.9332432718000083,
          0.6927311054497955,
          -0.0428582712371396,
          -0.6085795683215991,
          0.8675058278177395,
          1.2217752261253048,
          0.6725150690847547,
          0.38187648956293124,
          -0.3249963627140331,
          -0.8953924669590061,
          -0.6843153532339907,
          0.615350101819938,
          0.6526633943573716,
          -0.6110226975148664,
          -0.5440619610659326,
          -1.2287517540107722,
          0.4336478708056217,
          -0.25584838718160796,
          0.27413404970423416,
          -0.03315047515053486,
          0.006506711124766794,
          -0.01964487911993876,
          -0.7686623781963896,
          -0.6975844031157828,
          -0.04654454869085646,
          -0.10655674043640209
         ],
         "xaxis": "x8",
         "y": [
          0.10480144276968774,
          -2.2448421163275762,
          -0.10385752502981002,
          0.07587343198180303,
          0.8253080764609732,
          -0.46590149353816884,
          1.720000398792707,
          0.04699268025148138,
          0.6888697082875861,
          -1.5391049448586651,
          1.531707361237052,
          -0.09993967946466119,
          -1.254504242294646,
          -1.2205349028615027,
          1.0727852640083417,
          2.567033067274972,
          -0.6521242358147255,
          1.18401797836042,
          0.5975387129010653,
          1.1964442867936949,
          2.160759870882936,
          -0.08331842428728174,
          -1.5832430789407055,
          -0.47278583853194756,
          -0.8189897202884268,
          0.5523291035570072,
          0.6360732149381493,
          0.6078394093485547,
          -1.524513836860753,
          0.019809751507857323,
          0.36345148832240715,
          0.5229061031796399,
          -1.397573910854617,
          0.5051465500992074,
          2.74628313657978,
          0.8120454689264269,
          -1.2650901112701955,
          1.232961382327399,
          -0.3204634182661983,
          1.7667021889194712,
          -0.5183017375342086,
          0.9557565205566079,
          -0.8086490205068385,
          -0.45212422534360897,
          1.2309789313304136,
          -1.3160441618070073,
          -2.0787989453683213,
          -0.2514029947741344,
          0.9867684647074665,
          -2.1990333320540243,
          -0.34497633052762716,
          0.8639628692687408,
          -0.21389997301921213,
          1.0066686519064196,
          0.015285295518240219,
          0.16553727871273421,
          -0.3422559844465687,
          0.18582729884952723,
          -0.5185663434101322,
          0.18913410433325986,
          0.39113332341307633,
          -0.18854993521329608,
          -0.14869197202417253,
          -1.1771622810743556,
          1.3307583915936658,
          -1.0811490526736167,
          1.0091713921321324,
          -0.04562912974048219,
          -0.44860879206069726,
          -0.875699653930691,
          -0.9595772536161237,
          2.2610482349970145,
          0.673684214746933,
          0.3855515807541555,
          -0.5870000829314124,
          -0.6238089402650726,
          1.8241779691481275,
          1.3040691198754766,
          1.4022082707660175,
          -0.02802869965795411,
          -1.3025100590842051,
          0.42446491321503954,
          -1.332092580693879,
          0.24818581948371962,
          -0.5430116861802801,
          -0.25308285294068034,
          -0.7847086131345495,
          0.09962225805782671,
          -0.4468545812432021,
          -1.3879365467126263,
          -1.8354406655645414,
          0.20141758971530174,
          0.6401032427603514,
          0.16832901628415473,
          0.3181880472684637,
          -0.5806466226491991,
          0.6052428295290574,
          2.367193516786903,
          -1.430962307666061,
          1.322035884985864
         ],
         "yaxis": "y8"
        },
        {
         "line": {
          "color": "rgba(128, 128, 128, 1.0)",
          "dash": "solid",
          "shape": "linear",
          "width": 1.3
         },
         "marker": {
          "size": 2,
          "symbol": "circle"
         },
         "mode": "markers",
         "name": "C",
         "text": "",
         "type": "scatter",
         "x": [
          -0.39249119533846083,
          -1.3888802447524282,
          0.9320187198753848,
          0.694353564039704,
          0.7344257361752629,
          -1.2230733342365738,
          -0.8244809005601621,
          0.7162297255286217,
          0.2165294575147262,
          -0.2408870384182345,
          1.1114063553829503,
          0.11623195119570866,
          0.11865011429650428,
          0.6419190655473598,
          0.5924914375347973,
          -1.5309904914242096,
          -1.0144836912833508,
          0.17787108284173206,
          1.1945581244349286,
          1.2415482353883005,
          -0.4112001758408989,
          1.7949556218804894,
          0.9533968117682318,
          -0.05388169104593645,
          0.24708490471611128,
          0.25877047914625495,
          0.48537772746154373,
          -0.6316121968562575,
          0.06979028490490342,
          0.19179517799331644,
          -1.6389060193460128,
          0.9568316005620361,
          0.26717277970941045,
          -0.3026993847893387,
          1.1358386331024715,
          0.10544743176293345,
          -0.3299778399054059,
          0.27100520046695425,
          0.06640897537997871,
          1.2022134310294064,
          -0.8275038600805332,
          -1.8297538154580024,
          0.6949224280793794,
          -0.5453678996930036,
          1.0511010453471554,
          0.5928559996789496,
          -0.06112588854125373,
          -0.33259830544963653,
          -0.9095544388303258,
          -0.06519574555535969,
          -0.7396712807137552,
          -0.7972607228576862,
          0.8992819989759496,
          -0.48843079131869044,
          0.6247337472023909,
          -0.04368661259913243,
          1.0707374155366922,
          -1.2750425970263084,
          -2.1286830059622077,
          -0.16041042808617528,
          0.8995574231400747,
          -1.1093579889045484,
          0.24647782191751233,
          0.1622166523400865,
          -1.9262665166541684,
          -0.11425757020942486,
          1.6970107669806103,
          -0.5660708839996262,
          -0.5255668865650605,
          -0.013986122764662883,
          -0.7297632456108951,
          1.4244002945727672,
          -1.77433674788825,
          -0.5638562033370994,
          -0.5015545170673178,
          -1.5485746003489604,
          -0.42447048714593744,
          0.5227658730223655,
          -1.5510798620613335,
          -0.4326482754580784,
          -0.19418294085652998,
          2.320301562215529,
          0.6421355412935974,
          1.0132407626820426,
          0.8751950847102844,
          0.06786618667413867,
          -1.1957715770422013,
          -0.8756342227097039,
          0.8339918704633829,
          -0.9198970809358937,
          -1.3972272495036677,
          1.023120644082157,
          -1.457450824800944,
          -0.16951331764207347,
          -1.129058458402131,
          2.127667416680669,
          -0.8176154890128692,
          1.2109557386846754,
          -0.30743944371779625,
          0.16609731130823885
         ],
         "xaxis": "x9",
         "y": [
          1.262553816272815,
          -1.1312557642920869,
          -1.1781643467734917,
          -0.040049755965456645,
          0.3775276948122276,
          -0.1835377139042649,
          3.2845053496903334,
          -0.17001909195977002,
          1.2723768678324126,
          0.11515065592126898,
          -0.09795599482709719,
          -0.315118246635823,
          0.1303795582218475,
          0.1934309273749824,
          -0.15700279297617625,
          0.1355005381328716,
          -0.36170610267805064,
          -0.7296906375113784,
          0.967917008890089,
          0.08101502544623371,
          -0.7121024219343551,
          0.25150715334657064,
          1.3207142931406897,
          -0.7640006693031689,
          -2.0419995307825802,
          0.8557271987160892,
          -0.2667276886830243,
          0.2556003823611708,
          -0.1404043230126173,
          0.06946071379905819,
          -0.48265634382018247,
          0.38991158300036804,
          1.1514677316517041,
          0.04327112231623401,
          0.16999677247215608,
          -1.301362660406228,
          -0.4389181617111678,
          -0.2741905611165989,
          -0.8800900233876539,
          -1.1340494603714055,
          0.6664892396325672,
          -1.8055961576689588,
          1.321351407120175,
          1.4250517922344206,
          1.3472459104122083,
          -0.004453262139512292,
          0.7490165419436738,
          0.7194009489746745,
          -1.3110385371336761,
          -0.44112586565230005,
          -2.1706587330360105,
          -1.0409700261702066,
          -1.4548992791934483,
          -0.2549378491600471,
          0.15441372440608092,
          0.2971687002806099,
          -0.34980117477422745,
          -0.950796048165758,
          0.8110675981560487,
          -0.47315604585092913,
          -0.6644216823215673,
          0.18540603803740488,
          -1.1679486757592947,
          -0.9289797647673192,
          -1.7675116350142936,
          0.8678474620139809,
          2.0967793770906322,
          -0.08152292625404282,
          0.2554994751702368,
          -0.4943892750842958,
          1.270761433397232,
          -2.5825683776574135,
          -0.46722176713795577,
          1.9218430644214242,
          0.1089838289729727,
          0.6945648693019376,
          1.3355507057913318,
          -0.8645998266815484,
          0.6898737364799554,
          -0.6081416493163475,
          -0.6789194788399318,
          0.9008873933257342,
          1.3601004837458617,
          -0.5920848140497326,
          -0.5917390162676318,
          -0.0666286771665744,
          -0.06253202279846254,
          1.5049696631772043,
          -0.23985914874085418,
          -0.9898416201349332,
          -0.5967129176045103,
          -0.05223050061835646,
          -0.8017070028742392,
          0.7027432376554948,
          -0.749255610086444,
          -0.6053289414724052,
          -1.3322298257831455,
          0.1653817387832196,
          -1.4808261546521626,
          -1.6107761066626145
         ],
         "yaxis": "y9"
        },
        {
         "line": {
          "color": "rgba(128, 128, 128, 1.0)",
          "dash": "solid",
          "shape": "linear",
          "width": 1.3
         },
         "marker": {
          "size": 2,
          "symbol": "circle"
         },
         "mode": "markers",
         "name": "C",
         "text": "",
         "type": "scatter",
         "x": [
          0.10480144276968774,
          -2.2448421163275762,
          -0.10385752502981002,
          0.07587343198180303,
          0.8253080764609732,
          -0.46590149353816884,
          1.720000398792707,
          0.04699268025148138,
          0.6888697082875861,
          -1.5391049448586651,
          1.531707361237052,
          -0.09993967946466119,
          -1.254504242294646,
          -1.2205349028615027,
          1.0727852640083417,
          2.567033067274972,
          -0.6521242358147255,
          1.18401797836042,
          0.5975387129010653,
          1.1964442867936949,
          2.160759870882936,
          -0.08331842428728174,
          -1.5832430789407055,
          -0.47278583853194756,
          -0.8189897202884268,
          0.5523291035570072,
          0.6360732149381493,
          0.6078394093485547,
          -1.524513836860753,
          0.019809751507857323,
          0.36345148832240715,
          0.5229061031796399,
          -1.397573910854617,
          0.5051465500992074,
          2.74628313657978,
          0.8120454689264269,
          -1.2650901112701955,
          1.232961382327399,
          -0.3204634182661983,
          1.7667021889194712,
          -0.5183017375342086,
          0.9557565205566079,
          -0.8086490205068385,
          -0.45212422534360897,
          1.2309789313304136,
          -1.3160441618070073,
          -2.0787989453683213,
          -0.2514029947741344,
          0.9867684647074665,
          -2.1990333320540243,
          -0.34497633052762716,
          0.8639628692687408,
          -0.21389997301921213,
          1.0066686519064196,
          0.015285295518240219,
          0.16553727871273421,
          -0.3422559844465687,
          0.18582729884952723,
          -0.5185663434101322,
          0.18913410433325986,
          0.39113332341307633,
          -0.18854993521329608,
          -0.14869197202417253,
          -1.1771622810743556,
          1.3307583915936658,
          -1.0811490526736167,
          1.0091713921321324,
          -0.04562912974048219,
          -0.44860879206069726,
          -0.875699653930691,
          -0.9595772536161237,
          2.2610482349970145,
          0.673684214746933,
          0.3855515807541555,
          -0.5870000829314124,
          -0.6238089402650726,
          1.8241779691481275,
          1.3040691198754766,
          1.4022082707660175,
          -0.02802869965795411,
          -1.3025100590842051,
          0.42446491321503954,
          -1.332092580693879,
          0.24818581948371962,
          -0.5430116861802801,
          -0.25308285294068034,
          -0.7847086131345495,
          0.09962225805782671,
          -0.4468545812432021,
          -1.3879365467126263,
          -1.8354406655645414,
          0.20141758971530174,
          0.6401032427603514,
          0.16832901628415473,
          0.3181880472684637,
          -0.5806466226491991,
          0.6052428295290574,
          2.367193516786903,
          -1.430962307666061,
          1.322035884985864
         ],
         "xaxis": "x10",
         "y": [
          1.262553816272815,
          -1.1312557642920869,
          -1.1781643467734917,
          -0.040049755965456645,
          0.3775276948122276,
          -0.1835377139042649,
          3.2845053496903334,
          -0.17001909195977002,
          1.2723768678324126,
          0.11515065592126898,
          -0.09795599482709719,
          -0.315118246635823,
          0.1303795582218475,
          0.1934309273749824,
          -0.15700279297617625,
          0.1355005381328716,
          -0.36170610267805064,
          -0.7296906375113784,
          0.967917008890089,
          0.08101502544623371,
          -0.7121024219343551,
          0.25150715334657064,
          1.3207142931406897,
          -0.7640006693031689,
          -2.0419995307825802,
          0.8557271987160892,
          -0.2667276886830243,
          0.2556003823611708,
          -0.1404043230126173,
          0.06946071379905819,
          -0.48265634382018247,
          0.38991158300036804,
          1.1514677316517041,
          0.04327112231623401,
          0.16999677247215608,
          -1.301362660406228,
          -0.4389181617111678,
          -0.2741905611165989,
          -0.8800900233876539,
          -1.1340494603714055,
          0.6664892396325672,
          -1.8055961576689588,
          1.321351407120175,
          1.4250517922344206,
          1.3472459104122083,
          -0.004453262139512292,
          0.7490165419436738,
          0.7194009489746745,
          -1.3110385371336761,
          -0.44112586565230005,
          -2.1706587330360105,
          -1.0409700261702066,
          -1.4548992791934483,
          -0.2549378491600471,
          0.15441372440608092,
          0.2971687002806099,
          -0.34980117477422745,
          -0.950796048165758,
          0.8110675981560487,
          -0.47315604585092913,
          -0.6644216823215673,
          0.18540603803740488,
          -1.1679486757592947,
          -0.9289797647673192,
          -1.7675116350142936,
          0.8678474620139809,
          2.0967793770906322,
          -0.08152292625404282,
          0.2554994751702368,
          -0.4943892750842958,
          1.270761433397232,
          -2.5825683776574135,
          -0.46722176713795577,
          1.9218430644214242,
          0.1089838289729727,
          0.6945648693019376,
          1.3355507057913318,
          -0.8645998266815484,
          0.6898737364799554,
          -0.6081416493163475,
          -0.6789194788399318,
          0.9008873933257342,
          1.3601004837458617,
          -0.5920848140497326,
          -0.5917390162676318,
          -0.0666286771665744,
          -0.06253202279846254,
          1.5049696631772043,
          -0.23985914874085418,
          -0.9898416201349332,
          -0.5967129176045103,
          -0.05223050061835646,
          -0.8017070028742392,
          0.7027432376554948,
          -0.749255610086444,
          -0.6053289414724052,
          -1.3322298257831455,
          0.1653817387832196,
          -1.4808261546521626,
          -1.6107761066626145
         ],
         "yaxis": "y10"
        },
        {
         "histfunc": "count",
         "histnorm": "",
         "marker": {
          "color": "rgba(50, 171, 96, 1.0)",
          "line": {
           "color": "#4D5663",
           "width": 1.3
          }
         },
         "name": "C",
         "nbinsx": 10,
         "opacity": 0.8,
         "orientation": "v",
         "type": "histogram",
         "x": [
          1.262553816272815,
          -1.1312557642920869,
          -1.1781643467734917,
          -0.040049755965456645,
          0.3775276948122276,
          -0.1835377139042649,
          3.2845053496903334,
          -0.17001909195977002,
          1.2723768678324126,
          0.11515065592126898,
          -0.09795599482709719,
          -0.315118246635823,
          0.1303795582218475,
          0.1934309273749824,
          -0.15700279297617625,
          0.1355005381328716,
          -0.36170610267805064,
          -0.7296906375113784,
          0.967917008890089,
          0.08101502544623371,
          -0.7121024219343551,
          0.25150715334657064,
          1.3207142931406897,
          -0.7640006693031689,
          -2.0419995307825802,
          0.8557271987160892,
          -0.2667276886830243,
          0.2556003823611708,
          -0.1404043230126173,
          0.06946071379905819,
          -0.48265634382018247,
          0.38991158300036804,
          1.1514677316517041,
          0.04327112231623401,
          0.16999677247215608,
          -1.301362660406228,
          -0.4389181617111678,
          -0.2741905611165989,
          -0.8800900233876539,
          -1.1340494603714055,
          0.6664892396325672,
          -1.8055961576689588,
          1.321351407120175,
          1.4250517922344206,
          1.3472459104122083,
          -0.004453262139512292,
          0.7490165419436738,
          0.7194009489746745,
          -1.3110385371336761,
          -0.44112586565230005,
          -2.1706587330360105,
          -1.0409700261702066,
          -1.4548992791934483,
          -0.2549378491600471,
          0.15441372440608092,
          0.2971687002806099,
          -0.34980117477422745,
          -0.950796048165758,
          0.8110675981560487,
          -0.47315604585092913,
          -0.6644216823215673,
          0.18540603803740488,
          -1.1679486757592947,
          -0.9289797647673192,
          -1.7675116350142936,
          0.8678474620139809,
          2.0967793770906322,
          -0.08152292625404282,
          0.2554994751702368,
          -0.4943892750842958,
          1.270761433397232,
          -2.5825683776574135,
          -0.46722176713795577,
          1.9218430644214242,
          0.1089838289729727,
          0.6945648693019376,
          1.3355507057913318,
          -0.8645998266815484,
          0.6898737364799554,
          -0.6081416493163475,
          -0.6789194788399318,
          0.9008873933257342,
          1.3601004837458617,
          -0.5920848140497326,
          -0.5917390162676318,
          -0.0666286771665744,
          -0.06253202279846254,
          1.5049696631772043,
          -0.23985914874085418,
          -0.9898416201349332,
          -0.5967129176045103,
          -0.05223050061835646,
          -0.8017070028742392,
          0.7027432376554948,
          -0.749255610086444,
          -0.6053289414724052,
          -1.3322298257831455,
          0.1653817387832196,
          -1.4808261546521626,
          -1.6107761066626145
         ],
         "xaxis": "x11",
         "yaxis": "y11"
        },
        {
         "line": {
          "color": "rgba(128, 128, 128, 1.0)",
          "dash": "solid",
          "shape": "linear",
          "width": 1.3
         },
         "marker": {
          "size": 2,
          "symbol": "circle"
         },
         "mode": "markers",
         "name": "C",
         "text": "",
         "type": "scatter",
         "x": [
          -1.5358627875003739,
          0.06548290336662309,
          -0.8079937212589396,
          -0.6440551079816648,
          -0.040769064291493434,
          0.18714145228738116,
          -0.054901915594329616,
          -0.3643694822485636,
          1.146609059044325,
          1.0192292972838897,
          0.895097874011055,
          -2.383937229455519,
          -2.542843656486311,
          1.2960827540249615,
          1.0723567212065517,
          -0.6507274922468583,
          -0.29293379375665585,
          0.3460315198837977,
          -0.09962138708788137,
          1.1939042771345394,
          -0.47218918626376266,
          -1.62969939297132,
          -0.5566240014855384,
          -0.24481130346445587,
          0.562605618427525,
          -0.8482663035942708,
          -0.670587067739321,
          -2.3318080258655596,
          -0.615926835103948,
          0.3210035162003755,
          1.031682174420211,
          0.6254573040796039,
          0.9372397290889352,
          -0.9757589876634554,
          -1.1100950292047358,
          0.5066657285885308,
          -1.2420928695653852,
          -0.42320781681759534,
          -0.5218466201269218,
          -0.050456628261667455,
          -0.8296913187279658,
          -1.3290266063019278,
          -1.4775658985607254,
          -0.8781983454919082,
          0.9879607729666382,
          1.016597645161363,
          0.369600471833716,
          -0.883274953133442,
          -1.2952266725962698,
          -0.24594961730833692,
          -0.2741775354424396,
          0.03204721204159266,
          0.5580925732828539,
          -0.36955433697025497,
          -0.9799433295112487,
          0.07598562686524854,
          -0.30926100523398176,
          1.8001282128534324,
          -0.09616649611101727,
          -0.9095300492922991,
          -0.8747134737168203,
          0.7287346795419107,
          0.8896795463867703,
          -0.13183711628422762,
          1.5212968665174014,
          -0.10200381107198399,
          -0.027319829348091886,
          -0.18124818094030268,
          -0.5983209667738654,
          1.1896826215735987,
          -1.460386729170942,
          1.110808064789999,
          0.024611131521987014,
          0.6949332321192025,
          -0.9332432718000083,
          0.6927311054497955,
          -0.0428582712371396,
          -0.6085795683215991,
          0.8675058278177395,
          1.2217752261253048,
          0.6725150690847547,
          0.38187648956293124,
          -0.3249963627140331,
          -0.8953924669590061,
          -0.6843153532339907,
          0.615350101819938,
          0.6526633943573716,
          -0.6110226975148664,
          -0.5440619610659326,
          -1.2287517540107722,
          0.4336478708056217,
          -0.25584838718160796,
          0.27413404970423416,
          -0.03315047515053486,
          0.006506711124766794,
          -0.01964487911993876,
          -0.7686623781963896,
          -0.6975844031157828,
          -0.04654454869085646,
          -0.10655674043640209
         ],
         "xaxis": "x12",
         "y": [
          1.262553816272815,
          -1.1312557642920869,
          -1.1781643467734917,
          -0.040049755965456645,
          0.3775276948122276,
          -0.1835377139042649,
          3.2845053496903334,
          -0.17001909195977002,
          1.2723768678324126,
          0.11515065592126898,
          -0.09795599482709719,
          -0.315118246635823,
          0.1303795582218475,
          0.1934309273749824,
          -0.15700279297617625,
          0.1355005381328716,
          -0.36170610267805064,
          -0.7296906375113784,
          0.967917008890089,
          0.08101502544623371,
          -0.7121024219343551,
          0.25150715334657064,
          1.3207142931406897,
          -0.7640006693031689,
          -2.0419995307825802,
          0.8557271987160892,
          -0.2667276886830243,
          0.2556003823611708,
          -0.1404043230126173,
          0.06946071379905819,
          -0.48265634382018247,
          0.38991158300036804,
          1.1514677316517041,
          0.04327112231623401,
          0.16999677247215608,
          -1.301362660406228,
          -0.4389181617111678,
          -0.2741905611165989,
          -0.8800900233876539,
          -1.1340494603714055,
          0.6664892396325672,
          -1.8055961576689588,
          1.321351407120175,
          1.4250517922344206,
          1.3472459104122083,
          -0.004453262139512292,
          0.7490165419436738,
          0.7194009489746745,
          -1.3110385371336761,
          -0.44112586565230005,
          -2.1706587330360105,
          -1.0409700261702066,
          -1.4548992791934483,
          -0.2549378491600471,
          0.15441372440608092,
          0.2971687002806099,
          -0.34980117477422745,
          -0.950796048165758,
          0.8110675981560487,
          -0.47315604585092913,
          -0.6644216823215673,
          0.18540603803740488,
          -1.1679486757592947,
          -0.9289797647673192,
          -1.7675116350142936,
          0.8678474620139809,
          2.0967793770906322,
          -0.08152292625404282,
          0.2554994751702368,
          -0.4943892750842958,
          1.270761433397232,
          -2.5825683776574135,
          -0.46722176713795577,
          1.9218430644214242,
          0.1089838289729727,
          0.6945648693019376,
          1.3355507057913318,
          -0.8645998266815484,
          0.6898737364799554,
          -0.6081416493163475,
          -0.6789194788399318,
          0.9008873933257342,
          1.3601004837458617,
          -0.5920848140497326,
          -0.5917390162676318,
          -0.0666286771665744,
          -0.06253202279846254,
          1.5049696631772043,
          -0.23985914874085418,
          -0.9898416201349332,
          -0.5967129176045103,
          -0.05223050061835646,
          -0.8017070028742392,
          0.7027432376554948,
          -0.749255610086444,
          -0.6053289414724052,
          -1.3322298257831455,
          0.1653817387832196,
          -1.4808261546521626,
          -1.6107761066626145
         ],
         "yaxis": "y12"
        },
        {
         "line": {
          "color": "rgba(128, 128, 128, 1.0)",
          "dash": "solid",
          "shape": "linear",
          "width": 1.3
         },
         "marker": {
          "size": 2,
          "symbol": "circle"
         },
         "mode": "markers",
         "name": "D",
         "text": "",
         "type": "scatter",
         "x": [
          -0.39249119533846083,
          -1.3888802447524282,
          0.9320187198753848,
          0.694353564039704,
          0.7344257361752629,
          -1.2230733342365738,
          -0.8244809005601621,
          0.7162297255286217,
          0.2165294575147262,
          -0.2408870384182345,
          1.1114063553829503,
          0.11623195119570866,
          0.11865011429650428,
          0.6419190655473598,
          0.5924914375347973,
          -1.5309904914242096,
          -1.0144836912833508,
          0.17787108284173206,
          1.1945581244349286,
          1.2415482353883005,
          -0.4112001758408989,
          1.7949556218804894,
          0.9533968117682318,
          -0.05388169104593645,
          0.24708490471611128,
          0.25877047914625495,
          0.48537772746154373,
          -0.6316121968562575,
          0.06979028490490342,
          0.19179517799331644,
          -1.6389060193460128,
          0.9568316005620361,
          0.26717277970941045,
          -0.3026993847893387,
          1.1358386331024715,
          0.10544743176293345,
          -0.3299778399054059,
          0.27100520046695425,
          0.06640897537997871,
          1.2022134310294064,
          -0.8275038600805332,
          -1.8297538154580024,
          0.6949224280793794,
          -0.5453678996930036,
          1.0511010453471554,
          0.5928559996789496,
          -0.06112588854125373,
          -0.33259830544963653,
          -0.9095544388303258,
          -0.06519574555535969,
          -0.7396712807137552,
          -0.7972607228576862,
          0.8992819989759496,
          -0.48843079131869044,
          0.6247337472023909,
          -0.04368661259913243,
          1.0707374155366922,
          -1.2750425970263084,
          -2.1286830059622077,
          -0.16041042808617528,
          0.8995574231400747,
          -1.1093579889045484,
          0.24647782191751233,
          0.1622166523400865,
          -1.9262665166541684,
          -0.11425757020942486,
          1.6970107669806103,
          -0.5660708839996262,
          -0.5255668865650605,
          -0.013986122764662883,
          -0.7297632456108951,
          1.4244002945727672,
          -1.77433674788825,
          -0.5638562033370994,
          -0.5015545170673178,
          -1.5485746003489604,
          -0.42447048714593744,
          0.5227658730223655,
          -1.5510798620613335,
          -0.4326482754580784,
          -0.19418294085652998,
          2.320301562215529,
          0.6421355412935974,
          1.0132407626820426,
          0.8751950847102844,
          0.06786618667413867,
          -1.1957715770422013,
          -0.8756342227097039,
          0.8339918704633829,
          -0.9198970809358937,
          -1.3972272495036677,
          1.023120644082157,
          -1.457450824800944,
          -0.16951331764207347,
          -1.129058458402131,
          2.127667416680669,
          -0.8176154890128692,
          1.2109557386846754,
          -0.30743944371779625,
          0.16609731130823885
         ],
         "xaxis": "x13",
         "y": [
          -1.5358627875003739,
          0.06548290336662309,
          -0.8079937212589396,
          -0.6440551079816648,
          -0.040769064291493434,
          0.18714145228738116,
          -0.054901915594329616,
          -0.3643694822485636,
          1.146609059044325,
          1.0192292972838897,
          0.895097874011055,
          -2.383937229455519,
          -2.542843656486311,
          1.2960827540249615,
          1.0723567212065517,
          -0.6507274922468583,
          -0.29293379375665585,
          0.3460315198837977,
          -0.09962138708788137,
          1.1939042771345394,
          -0.47218918626376266,
          -1.62969939297132,
          -0.5566240014855384,
          -0.24481130346445587,
          0.562605618427525,
          -0.8482663035942708,
          -0.670587067739321,
          -2.3318080258655596,
          -0.615926835103948,
          0.3210035162003755,
          1.031682174420211,
          0.6254573040796039,
          0.9372397290889352,
          -0.9757589876634554,
          -1.1100950292047358,
          0.5066657285885308,
          -1.2420928695653852,
          -0.42320781681759534,
          -0.5218466201269218,
          -0.050456628261667455,
          -0.8296913187279658,
          -1.3290266063019278,
          -1.4775658985607254,
          -0.8781983454919082,
          0.9879607729666382,
          1.016597645161363,
          0.369600471833716,
          -0.883274953133442,
          -1.2952266725962698,
          -0.24594961730833692,
          -0.2741775354424396,
          0.03204721204159266,
          0.5580925732828539,
          -0.36955433697025497,
          -0.9799433295112487,
          0.07598562686524854,
          -0.30926100523398176,
          1.8001282128534324,
          -0.09616649611101727,
          -0.9095300492922991,
          -0.8747134737168203,
          0.7287346795419107,
          0.8896795463867703,
          -0.13183711628422762,
          1.5212968665174014,
          -0.10200381107198399,
          -0.027319829348091886,
          -0.18124818094030268,
          -0.5983209667738654,
          1.1896826215735987,
          -1.460386729170942,
          1.110808064789999,
          0.024611131521987014,
          0.6949332321192025,
          -0.9332432718000083,
          0.6927311054497955,
          -0.0428582712371396,
          -0.6085795683215991,
          0.8675058278177395,
          1.2217752261253048,
          0.6725150690847547,
          0.38187648956293124,
          -0.3249963627140331,
          -0.8953924669590061,
          -0.6843153532339907,
          0.615350101819938,
          0.6526633943573716,
          -0.6110226975148664,
          -0.5440619610659326,
          -1.2287517540107722,
          0.4336478708056217,
          -0.25584838718160796,
          0.27413404970423416,
          -0.03315047515053486,
          0.006506711124766794,
          -0.01964487911993876,
          -0.7686623781963896,
          -0.6975844031157828,
          -0.04654454869085646,
          -0.10655674043640209
         ],
         "yaxis": "y13"
        },
        {
         "line": {
          "color": "rgba(128, 128, 128, 1.0)",
          "dash": "solid",
          "shape": "linear",
          "width": 1.3
         },
         "marker": {
          "size": 2,
          "symbol": "circle"
         },
         "mode": "markers",
         "name": "D",
         "text": "",
         "type": "scatter",
         "x": [
          0.10480144276968774,
          -2.2448421163275762,
          -0.10385752502981002,
          0.07587343198180303,
          0.8253080764609732,
          -0.46590149353816884,
          1.720000398792707,
          0.04699268025148138,
          0.6888697082875861,
          -1.5391049448586651,
          1.531707361237052,
          -0.09993967946466119,
          -1.254504242294646,
          -1.2205349028615027,
          1.0727852640083417,
          2.567033067274972,
          -0.6521242358147255,
          1.18401797836042,
          0.5975387129010653,
          1.1964442867936949,
          2.160759870882936,
          -0.08331842428728174,
          -1.5832430789407055,
          -0.47278583853194756,
          -0.8189897202884268,
          0.5523291035570072,
          0.6360732149381493,
          0.6078394093485547,
          -1.524513836860753,
          0.019809751507857323,
          0.36345148832240715,
          0.5229061031796399,
          -1.397573910854617,
          0.5051465500992074,
          2.74628313657978,
          0.8120454689264269,
          -1.2650901112701955,
          1.232961382327399,
          -0.3204634182661983,
          1.7667021889194712,
          -0.5183017375342086,
          0.9557565205566079,
          -0.8086490205068385,
          -0.45212422534360897,
          1.2309789313304136,
          -1.3160441618070073,
          -2.0787989453683213,
          -0.2514029947741344,
          0.9867684647074665,
          -2.1990333320540243,
          -0.34497633052762716,
          0.8639628692687408,
          -0.21389997301921213,
          1.0066686519064196,
          0.015285295518240219,
          0.16553727871273421,
          -0.3422559844465687,
          0.18582729884952723,
          -0.5185663434101322,
          0.18913410433325986,
          0.39113332341307633,
          -0.18854993521329608,
          -0.14869197202417253,
          -1.1771622810743556,
          1.3307583915936658,
          -1.0811490526736167,
          1.0091713921321324,
          -0.04562912974048219,
          -0.44860879206069726,
          -0.875699653930691,
          -0.9595772536161237,
          2.2610482349970145,
          0.673684214746933,
          0.3855515807541555,
          -0.5870000829314124,
          -0.6238089402650726,
          1.8241779691481275,
          1.3040691198754766,
          1.4022082707660175,
          -0.02802869965795411,
          -1.3025100590842051,
          0.42446491321503954,
          -1.332092580693879,
          0.24818581948371962,
          -0.5430116861802801,
          -0.25308285294068034,
          -0.7847086131345495,
          0.09962225805782671,
          -0.4468545812432021,
          -1.3879365467126263,
          -1.8354406655645414,
          0.20141758971530174,
          0.6401032427603514,
          0.16832901628415473,
          0.3181880472684637,
          -0.5806466226491991,
          0.6052428295290574,
          2.367193516786903,
          -1.430962307666061,
          1.322035884985864
         ],
         "xaxis": "x14",
         "y": [
          -1.5358627875003739,
          0.06548290336662309,
          -0.8079937212589396,
          -0.6440551079816648,
          -0.040769064291493434,
          0.18714145228738116,
          -0.054901915594329616,
          -0.3643694822485636,
          1.146609059044325,
          1.0192292972838897,
          0.895097874011055,
          -2.383937229455519,
          -2.542843656486311,
          1.2960827540249615,
          1.0723567212065517,
          -0.6507274922468583,
          -0.29293379375665585,
          0.3460315198837977,
          -0.09962138708788137,
          1.1939042771345394,
          -0.47218918626376266,
          -1.62969939297132,
          -0.5566240014855384,
          -0.24481130346445587,
          0.562605618427525,
          -0.8482663035942708,
          -0.670587067739321,
          -2.3318080258655596,
          -0.615926835103948,
          0.3210035162003755,
          1.031682174420211,
          0.6254573040796039,
          0.9372397290889352,
          -0.9757589876634554,
          -1.1100950292047358,
          0.5066657285885308,
          -1.2420928695653852,
          -0.42320781681759534,
          -0.5218466201269218,
          -0.050456628261667455,
          -0.8296913187279658,
          -1.3290266063019278,
          -1.4775658985607254,
          -0.8781983454919082,
          0.9879607729666382,
          1.016597645161363,
          0.369600471833716,
          -0.883274953133442,
          -1.2952266725962698,
          -0.24594961730833692,
          -0.2741775354424396,
          0.03204721204159266,
          0.5580925732828539,
          -0.36955433697025497,
          -0.9799433295112487,
          0.07598562686524854,
          -0.30926100523398176,
          1.8001282128534324,
          -0.09616649611101727,
          -0.9095300492922991,
          -0.8747134737168203,
          0.7287346795419107,
          0.8896795463867703,
          -0.13183711628422762,
          1.5212968665174014,
          -0.10200381107198399,
          -0.027319829348091886,
          -0.18124818094030268,
          -0.5983209667738654,
          1.1896826215735987,
          -1.460386729170942,
          1.110808064789999,
          0.024611131521987014,
          0.6949332321192025,
          -0.9332432718000083,
          0.6927311054497955,
          -0.0428582712371396,
          -0.6085795683215991,
          0.8675058278177395,
          1.2217752261253048,
          0.6725150690847547,
          0.38187648956293124,
          -0.3249963627140331,
          -0.8953924669590061,
          -0.6843153532339907,
          0.615350101819938,
          0.6526633943573716,
          -0.6110226975148664,
          -0.5440619610659326,
          -1.2287517540107722,
          0.4336478708056217,
          -0.25584838718160796,
          0.27413404970423416,
          -0.03315047515053486,
          0.006506711124766794,
          -0.01964487911993876,
          -0.7686623781963896,
          -0.6975844031157828,
          -0.04654454869085646,
          -0.10655674043640209
         ],
         "yaxis": "y14"
        },
        {
         "line": {
          "color": "rgba(128, 128, 128, 1.0)",
          "dash": "solid",
          "shape": "linear",
          "width": 1.3
         },
         "marker": {
          "size": 2,
          "symbol": "circle"
         },
         "mode": "markers",
         "name": "D",
         "text": "",
         "type": "scatter",
         "x": [
          1.262553816272815,
          -1.1312557642920869,
          -1.1781643467734917,
          -0.040049755965456645,
          0.3775276948122276,
          -0.1835377139042649,
          3.2845053496903334,
          -0.17001909195977002,
          1.2723768678324126,
          0.11515065592126898,
          -0.09795599482709719,
          -0.315118246635823,
          0.1303795582218475,
          0.1934309273749824,
          -0.15700279297617625,
          0.1355005381328716,
          -0.36170610267805064,
          -0.7296906375113784,
          0.967917008890089,
          0.08101502544623371,
          -0.7121024219343551,
          0.25150715334657064,
          1.3207142931406897,
          -0.7640006693031689,
          -2.0419995307825802,
          0.8557271987160892,
          -0.2667276886830243,
          0.2556003823611708,
          -0.1404043230126173,
          0.06946071379905819,
          -0.48265634382018247,
          0.38991158300036804,
          1.1514677316517041,
          0.04327112231623401,
          0.16999677247215608,
          -1.301362660406228,
          -0.4389181617111678,
          -0.2741905611165989,
          -0.8800900233876539,
          -1.1340494603714055,
          0.6664892396325672,
          -1.8055961576689588,
          1.321351407120175,
          1.4250517922344206,
          1.3472459104122083,
          -0.004453262139512292,
          0.7490165419436738,
          0.7194009489746745,
          -1.3110385371336761,
          -0.44112586565230005,
          -2.1706587330360105,
          -1.0409700261702066,
          -1.4548992791934483,
          -0.2549378491600471,
          0.15441372440608092,
          0.2971687002806099,
          -0.34980117477422745,
          -0.950796048165758,
          0.8110675981560487,
          -0.47315604585092913,
          -0.6644216823215673,
          0.18540603803740488,
          -1.1679486757592947,
          -0.9289797647673192,
          -1.7675116350142936,
          0.8678474620139809,
          2.0967793770906322,
          -0.08152292625404282,
          0.2554994751702368,
          -0.4943892750842958,
          1.270761433397232,
          -2.5825683776574135,
          -0.46722176713795577,
          1.9218430644214242,
          0.1089838289729727,
          0.6945648693019376,
          1.3355507057913318,
          -0.8645998266815484,
          0.6898737364799554,
          -0.6081416493163475,
          -0.6789194788399318,
          0.9008873933257342,
          1.3601004837458617,
          -0.5920848140497326,
          -0.5917390162676318,
          -0.0666286771665744,
          -0.06253202279846254,
          1.5049696631772043,
          -0.23985914874085418,
          -0.9898416201349332,
          -0.5967129176045103,
          -0.05223050061835646,
          -0.8017070028742392,
          0.7027432376554948,
          -0.749255610086444,
          -0.6053289414724052,
          -1.3322298257831455,
          0.1653817387832196,
          -1.4808261546521626,
          -1.6107761066626145
         ],
         "xaxis": "x15",
         "y": [
          -1.5358627875003739,
          0.06548290336662309,
          -0.8079937212589396,
          -0.6440551079816648,
          -0.040769064291493434,
          0.18714145228738116,
          -0.054901915594329616,
          -0.3643694822485636,
          1.146609059044325,
          1.0192292972838897,
          0.895097874011055,
          -2.383937229455519,
          -2.542843656486311,
          1.2960827540249615,
          1.0723567212065517,
          -0.6507274922468583,
          -0.29293379375665585,
          0.3460315198837977,
          -0.09962138708788137,
          1.1939042771345394,
          -0.47218918626376266,
          -1.62969939297132,
          -0.5566240014855384,
          -0.24481130346445587,
          0.562605618427525,
          -0.8482663035942708,
          -0.670587067739321,
          -2.3318080258655596,
          -0.615926835103948,
          0.3210035162003755,
          1.031682174420211,
          0.6254573040796039,
          0.9372397290889352,
          -0.9757589876634554,
          -1.1100950292047358,
          0.5066657285885308,
          -1.2420928695653852,
          -0.42320781681759534,
          -0.5218466201269218,
          -0.050456628261667455,
          -0.8296913187279658,
          -1.3290266063019278,
          -1.4775658985607254,
          -0.8781983454919082,
          0.9879607729666382,
          1.016597645161363,
          0.369600471833716,
          -0.883274953133442,
          -1.2952266725962698,
          -0.24594961730833692,
          -0.2741775354424396,
          0.03204721204159266,
          0.5580925732828539,
          -0.36955433697025497,
          -0.9799433295112487,
          0.07598562686524854,
          -0.30926100523398176,
          1.8001282128534324,
          -0.09616649611101727,
          -0.9095300492922991,
          -0.8747134737168203,
          0.7287346795419107,
          0.8896795463867703,
          -0.13183711628422762,
          1.5212968665174014,
          -0.10200381107198399,
          -0.027319829348091886,
          -0.18124818094030268,
          -0.5983209667738654,
          1.1896826215735987,
          -1.460386729170942,
          1.110808064789999,
          0.024611131521987014,
          0.6949332321192025,
          -0.9332432718000083,
          0.6927311054497955,
          -0.0428582712371396,
          -0.6085795683215991,
          0.8675058278177395,
          1.2217752261253048,
          0.6725150690847547,
          0.38187648956293124,
          -0.3249963627140331,
          -0.8953924669590061,
          -0.6843153532339907,
          0.615350101819938,
          0.6526633943573716,
          -0.6110226975148664,
          -0.5440619610659326,
          -1.2287517540107722,
          0.4336478708056217,
          -0.25584838718160796,
          0.27413404970423416,
          -0.03315047515053486,
          0.006506711124766794,
          -0.01964487911993876,
          -0.7686623781963896,
          -0.6975844031157828,
          -0.04654454869085646,
          -0.10655674043640209
         ],
         "yaxis": "y15"
        },
        {
         "histfunc": "count",
         "histnorm": "",
         "marker": {
          "color": "rgba(128, 0, 128, 1.0)",
          "line": {
           "color": "#4D5663",
           "width": 1.3
          }
         },
         "name": "D",
         "nbinsx": 10,
         "opacity": 0.8,
         "orientation": "v",
         "type": "histogram",
         "x": [
          -1.5358627875003739,
          0.06548290336662309,
          -0.8079937212589396,
          -0.6440551079816648,
          -0.040769064291493434,
          0.18714145228738116,
          -0.054901915594329616,
          -0.3643694822485636,
          1.146609059044325,
          1.0192292972838897,
          0.895097874011055,
          -2.383937229455519,
          -2.542843656486311,
          1.2960827540249615,
          1.0723567212065517,
          -0.6507274922468583,
          -0.29293379375665585,
          0.3460315198837977,
          -0.09962138708788137,
          1.1939042771345394,
          -0.47218918626376266,
          -1.62969939297132,
          -0.5566240014855384,
          -0.24481130346445587,
          0.562605618427525,
          -0.8482663035942708,
          -0.670587067739321,
          -2.3318080258655596,
          -0.615926835103948,
          0.3210035162003755,
          1.031682174420211,
          0.6254573040796039,
          0.9372397290889352,
          -0.9757589876634554,
          -1.1100950292047358,
          0.5066657285885308,
          -1.2420928695653852,
          -0.42320781681759534,
          -0.5218466201269218,
          -0.050456628261667455,
          -0.8296913187279658,
          -1.3290266063019278,
          -1.4775658985607254,
          -0.8781983454919082,
          0.9879607729666382,
          1.016597645161363,
          0.369600471833716,
          -0.883274953133442,
          -1.2952266725962698,
          -0.24594961730833692,
          -0.2741775354424396,
          0.03204721204159266,
          0.5580925732828539,
          -0.36955433697025497,
          -0.9799433295112487,
          0.07598562686524854,
          -0.30926100523398176,
          1.8001282128534324,
          -0.09616649611101727,
          -0.9095300492922991,
          -0.8747134737168203,
          0.7287346795419107,
          0.8896795463867703,
          -0.13183711628422762,
          1.5212968665174014,
          -0.10200381107198399,
          -0.027319829348091886,
          -0.18124818094030268,
          -0.5983209667738654,
          1.1896826215735987,
          -1.460386729170942,
          1.110808064789999,
          0.024611131521987014,
          0.6949332321192025,
          -0.9332432718000083,
          0.6927311054497955,
          -0.0428582712371396,
          -0.6085795683215991,
          0.8675058278177395,
          1.2217752261253048,
          0.6725150690847547,
          0.38187648956293124,
          -0.3249963627140331,
          -0.8953924669590061,
          -0.6843153532339907,
          0.615350101819938,
          0.6526633943573716,
          -0.6110226975148664,
          -0.5440619610659326,
          -1.2287517540107722,
          0.4336478708056217,
          -0.25584838718160796,
          0.27413404970423416,
          -0.03315047515053486,
          0.006506711124766794,
          -0.01964487911993876,
          -0.7686623781963896,
          -0.6975844031157828,
          -0.04654454869085646,
          -0.10655674043640209
         ],
         "xaxis": "x16",
         "yaxis": "y16"
        }
       ],
       "layout": {
        "bargap": 0.02,
        "legend": {
         "bgcolor": "#F5F6F9",
         "font": {
          "color": "#4D5663"
         }
        },
        "paper_bgcolor": "#F5F6F9",
        "plot_bgcolor": "#F5F6F9",
        "showlegend": false,
        "template": {
         "data": {
          "bar": [
           {
            "error_x": {
             "color": "#2a3f5f"
            },
            "error_y": {
             "color": "#2a3f5f"
            },
            "marker": {
             "line": {
              "color": "#E5ECF6",
              "width": 0.5
             }
            },
            "type": "bar"
           }
          ],
          "barpolar": [
           {
            "marker": {
             "line": {
              "color": "#E5ECF6",
              "width": 0.5
             }
            },
            "type": "barpolar"
           }
          ],
          "carpet": [
           {
            "aaxis": {
             "endlinecolor": "#2a3f5f",
             "gridcolor": "white",
             "linecolor": "white",
             "minorgridcolor": "white",
             "startlinecolor": "#2a3f5f"
            },
            "baxis": {
             "endlinecolor": "#2a3f5f",
             "gridcolor": "white",
             "linecolor": "white",
             "minorgridcolor": "white",
             "startlinecolor": "#2a3f5f"
            },
            "type": "carpet"
           }
          ],
          "choropleth": [
           {
            "colorbar": {
             "outlinewidth": 0,
             "ticks": ""
            },
            "type": "choropleth"
           }
          ],
          "contour": [
           {
            "colorbar": {
             "outlinewidth": 0,
             "ticks": ""
            },
            "colorscale": [
             [
              0,
              "#0d0887"
             ],
             [
              0.1111111111111111,
              "#46039f"
             ],
             [
              0.2222222222222222,
              "#7201a8"
             ],
             [
              0.3333333333333333,
              "#9c179e"
             ],
             [
              0.4444444444444444,
              "#bd3786"
             ],
             [
              0.5555555555555556,
              "#d8576b"
             ],
             [
              0.6666666666666666,
              "#ed7953"
             ],
             [
              0.7777777777777778,
              "#fb9f3a"
             ],
             [
              0.8888888888888888,
              "#fdca26"
             ],
             [
              1,
              "#f0f921"
             ]
            ],
            "type": "contour"
           }
          ],
          "contourcarpet": [
           {
            "colorbar": {
             "outlinewidth": 0,
             "ticks": ""
            },
            "type": "contourcarpet"
           }
          ],
          "heatmap": [
           {
            "colorbar": {
             "outlinewidth": 0,
             "ticks": ""
            },
            "colorscale": [
             [
              0,
              "#0d0887"
             ],
             [
              0.1111111111111111,
              "#46039f"
             ],
             [
              0.2222222222222222,
              "#7201a8"
             ],
             [
              0.3333333333333333,
              "#9c179e"
             ],
             [
              0.4444444444444444,
              "#bd3786"
             ],
             [
              0.5555555555555556,
              "#d8576b"
             ],
             [
              0.6666666666666666,
              "#ed7953"
             ],
             [
              0.7777777777777778,
              "#fb9f3a"
             ],
             [
              0.8888888888888888,
              "#fdca26"
             ],
             [
              1,
              "#f0f921"
             ]
            ],
            "type": "heatmap"
           }
          ],
          "heatmapgl": [
           {
            "colorbar": {
             "outlinewidth": 0,
             "ticks": ""
            },
            "colorscale": [
             [
              0,
              "#0d0887"
             ],
             [
              0.1111111111111111,
              "#46039f"
             ],
             [
              0.2222222222222222,
              "#7201a8"
             ],
             [
              0.3333333333333333,
              "#9c179e"
             ],
             [
              0.4444444444444444,
              "#bd3786"
             ],
             [
              0.5555555555555556,
              "#d8576b"
             ],
             [
              0.6666666666666666,
              "#ed7953"
             ],
             [
              0.7777777777777778,
              "#fb9f3a"
             ],
             [
              0.8888888888888888,
              "#fdca26"
             ],
             [
              1,
              "#f0f921"
             ]
            ],
            "type": "heatmapgl"
           }
          ],
          "histogram": [
           {
            "marker": {
             "colorbar": {
              "outlinewidth": 0,
              "ticks": ""
             }
            },
            "type": "histogram"
           }
          ],
          "histogram2d": [
           {
            "colorbar": {
             "outlinewidth": 0,
             "ticks": ""
            },
            "colorscale": [
             [
              0,
              "#0d0887"
             ],
             [
              0.1111111111111111,
              "#46039f"
             ],
             [
              0.2222222222222222,
              "#7201a8"
             ],
             [
              0.3333333333333333,
              "#9c179e"
             ],
             [
              0.4444444444444444,
              "#bd3786"
             ],
             [
              0.5555555555555556,
              "#d8576b"
             ],
             [
              0.6666666666666666,
              "#ed7953"
             ],
             [
              0.7777777777777778,
              "#fb9f3a"
             ],
             [
              0.8888888888888888,
              "#fdca26"
             ],
             [
              1,
              "#f0f921"
             ]
            ],
            "type": "histogram2d"
           }
          ],
          "histogram2dcontour": [
           {
            "colorbar": {
             "outlinewidth": 0,
             "ticks": ""
            },
            "colorscale": [
             [
              0,
              "#0d0887"
             ],
             [
              0.1111111111111111,
              "#46039f"
             ],
             [
              0.2222222222222222,
              "#7201a8"
             ],
             [
              0.3333333333333333,
              "#9c179e"
             ],
             [
              0.4444444444444444,
              "#bd3786"
             ],
             [
              0.5555555555555556,
              "#d8576b"
             ],
             [
              0.6666666666666666,
              "#ed7953"
             ],
             [
              0.7777777777777778,
              "#fb9f3a"
             ],
             [
              0.8888888888888888,
              "#fdca26"
             ],
             [
              1,
              "#f0f921"
             ]
            ],
            "type": "histogram2dcontour"
           }
          ],
          "mesh3d": [
           {
            "colorbar": {
             "outlinewidth": 0,
             "ticks": ""
            },
            "type": "mesh3d"
           }
          ],
          "parcoords": [
           {
            "line": {
             "colorbar": {
              "outlinewidth": 0,
              "ticks": ""
             }
            },
            "type": "parcoords"
           }
          ],
          "pie": [
           {
            "automargin": true,
            "type": "pie"
           }
          ],
          "scatter": [
           {
            "marker": {
             "colorbar": {
              "outlinewidth": 0,
              "ticks": ""
             }
            },
            "type": "scatter"
           }
          ],
          "scatter3d": [
           {
            "line": {
             "colorbar": {
              "outlinewidth": 0,
              "ticks": ""
             }
            },
            "marker": {
             "colorbar": {
              "outlinewidth": 0,
              "ticks": ""
             }
            },
            "type": "scatter3d"
           }
          ],
          "scattercarpet": [
           {
            "marker": {
             "colorbar": {
              "outlinewidth": 0,
              "ticks": ""
             }
            },
            "type": "scattercarpet"
           }
          ],
          "scattergeo": [
           {
            "marker": {
             "colorbar": {
              "outlinewidth": 0,
              "ticks": ""
             }
            },
            "type": "scattergeo"
           }
          ],
          "scattergl": [
           {
            "marker": {
             "colorbar": {
              "outlinewidth": 0,
              "ticks": ""
             }
            },
            "type": "scattergl"
           }
          ],
          "scattermapbox": [
           {
            "marker": {
             "colorbar": {
              "outlinewidth": 0,
              "ticks": ""
             }
            },
            "type": "scattermapbox"
           }
          ],
          "scatterpolar": [
           {
            "marker": {
             "colorbar": {
              "outlinewidth": 0,
              "ticks": ""
             }
            },
            "type": "scatterpolar"
           }
          ],
          "scatterpolargl": [
           {
            "marker": {
             "colorbar": {
              "outlinewidth": 0,
              "ticks": ""
             }
            },
            "type": "scatterpolargl"
           }
          ],
          "scatterternary": [
           {
            "marker": {
             "colorbar": {
              "outlinewidth": 0,
              "ticks": ""
             }
            },
            "type": "scatterternary"
           }
          ],
          "surface": [
           {
            "colorbar": {
             "outlinewidth": 0,
             "ticks": ""
            },
            "colorscale": [
             [
              0,
              "#0d0887"
             ],
             [
              0.1111111111111111,
              "#46039f"
             ],
             [
              0.2222222222222222,
              "#7201a8"
             ],
             [
              0.3333333333333333,
              "#9c179e"
             ],
             [
              0.4444444444444444,
              "#bd3786"
             ],
             [
              0.5555555555555556,
              "#d8576b"
             ],
             [
              0.6666666666666666,
              "#ed7953"
             ],
             [
              0.7777777777777778,
              "#fb9f3a"
             ],
             [
              0.8888888888888888,
              "#fdca26"
             ],
             [
              1,
              "#f0f921"
             ]
            ],
            "type": "surface"
           }
          ],
          "table": [
           {
            "cells": {
             "fill": {
              "color": "#EBF0F8"
             },
             "line": {
              "color": "white"
             }
            },
            "header": {
             "fill": {
              "color": "#C8D4E3"
             },
             "line": {
              "color": "white"
             }
            },
            "type": "table"
           }
          ]
         },
         "layout": {
          "annotationdefaults": {
           "arrowcolor": "#2a3f5f",
           "arrowhead": 0,
           "arrowwidth": 1
          },
          "autotypenumbers": "strict",
          "coloraxis": {
           "colorbar": {
            "outlinewidth": 0,
            "ticks": ""
           }
          },
          "colorscale": {
           "diverging": [
            [
             0,
             "#8e0152"
            ],
            [
             0.1,
             "#c51b7d"
            ],
            [
             0.2,
             "#de77ae"
            ],
            [
             0.3,
             "#f1b6da"
            ],
            [
             0.4,
             "#fde0ef"
            ],
            [
             0.5,
             "#f7f7f7"
            ],
            [
             0.6,
             "#e6f5d0"
            ],
            [
             0.7,
             "#b8e186"
            ],
            [
             0.8,
             "#7fbc41"
            ],
            [
             0.9,
             "#4d9221"
            ],
            [
             1,
             "#276419"
            ]
           ],
           "sequential": [
            [
             0,
             "#0d0887"
            ],
            [
             0.1111111111111111,
             "#46039f"
            ],
            [
             0.2222222222222222,
             "#7201a8"
            ],
            [
             0.3333333333333333,
             "#9c179e"
            ],
            [
             0.4444444444444444,
             "#bd3786"
            ],
            [
             0.5555555555555556,
             "#d8576b"
            ],
            [
             0.6666666666666666,
             "#ed7953"
            ],
            [
             0.7777777777777778,
             "#fb9f3a"
            ],
            [
             0.8888888888888888,
             "#fdca26"
            ],
            [
             1,
             "#f0f921"
            ]
           ],
           "sequentialminus": [
            [
             0,
             "#0d0887"
            ],
            [
             0.1111111111111111,
             "#46039f"
            ],
            [
             0.2222222222222222,
             "#7201a8"
            ],
            [
             0.3333333333333333,
             "#9c179e"
            ],
            [
             0.4444444444444444,
             "#bd3786"
            ],
            [
             0.5555555555555556,
             "#d8576b"
            ],
            [
             0.6666666666666666,
             "#ed7953"
            ],
            [
             0.7777777777777778,
             "#fb9f3a"
            ],
            [
             0.8888888888888888,
             "#fdca26"
            ],
            [
             1,
             "#f0f921"
            ]
           ]
          },
          "colorway": [
           "#636efa",
           "#EF553B",
           "#00cc96",
           "#ab63fa",
           "#FFA15A",
           "#19d3f3",
           "#FF6692",
           "#B6E880",
           "#FF97FF",
           "#FECB52"
          ],
          "font": {
           "color": "#2a3f5f"
          },
          "geo": {
           "bgcolor": "white",
           "lakecolor": "white",
           "landcolor": "#E5ECF6",
           "showlakes": true,
           "showland": true,
           "subunitcolor": "white"
          },
          "hoverlabel": {
           "align": "left"
          },
          "hovermode": "closest",
          "mapbox": {
           "style": "light"
          },
          "paper_bgcolor": "white",
          "plot_bgcolor": "#E5ECF6",
          "polar": {
           "angularaxis": {
            "gridcolor": "white",
            "linecolor": "white",
            "ticks": ""
           },
           "bgcolor": "#E5ECF6",
           "radialaxis": {
            "gridcolor": "white",
            "linecolor": "white",
            "ticks": ""
           }
          },
          "scene": {
           "xaxis": {
            "backgroundcolor": "#E5ECF6",
            "gridcolor": "white",
            "gridwidth": 2,
            "linecolor": "white",
            "showbackground": true,
            "ticks": "",
            "zerolinecolor": "white"
           },
           "yaxis": {
            "backgroundcolor": "#E5ECF6",
            "gridcolor": "white",
            "gridwidth": 2,
            "linecolor": "white",
            "showbackground": true,
            "ticks": "",
            "zerolinecolor": "white"
           },
           "zaxis": {
            "backgroundcolor": "#E5ECF6",
            "gridcolor": "white",
            "gridwidth": 2,
            "linecolor": "white",
            "showbackground": true,
            "ticks": "",
            "zerolinecolor": "white"
           }
          },
          "shapedefaults": {
           "line": {
            "color": "#2a3f5f"
           }
          },
          "ternary": {
           "aaxis": {
            "gridcolor": "white",
            "linecolor": "white",
            "ticks": ""
           },
           "baxis": {
            "gridcolor": "white",
            "linecolor": "white",
            "ticks": ""
           },
           "bgcolor": "#E5ECF6",
           "caxis": {
            "gridcolor": "white",
            "linecolor": "white",
            "ticks": ""
           }
          },
          "title": {
           "x": 0.05
          },
          "xaxis": {
           "automargin": true,
           "gridcolor": "white",
           "linecolor": "white",
           "ticks": "",
           "title": {
            "standoff": 15
           },
           "zerolinecolor": "white",
           "zerolinewidth": 2
          },
          "yaxis": {
           "automargin": true,
           "gridcolor": "white",
           "linecolor": "white",
           "ticks": "",
           "title": {
            "standoff": 15
           },
           "zerolinecolor": "white",
           "zerolinewidth": 2
          }
         }
        },
        "title": {
         "font": {
          "color": "#4D5663"
         }
        },
        "xaxis": {
         "anchor": "y",
         "domain": [
          0,
          0.2125
         ],
         "gridcolor": "#E1E5ED",
         "showgrid": false,
         "tickfont": {
          "color": "#4D5663"
         },
         "title": {
          "font": {
           "color": "#4D5663"
          },
          "text": ""
         },
         "zerolinecolor": "#E1E5ED"
        },
        "xaxis10": {
         "anchor": "y10",
         "domain": [
          0.2625,
          0.475
         ],
         "gridcolor": "#E1E5ED",
         "showgrid": false,
         "tickfont": {
          "color": "#4D5663"
         },
         "title": {
          "font": {
           "color": "#4D5663"
          },
          "text": ""
         },
         "zerolinecolor": "#E1E5ED"
        },
        "xaxis11": {
         "anchor": "y11",
         "domain": [
          0.525,
          0.7375
         ],
         "gridcolor": "#E1E5ED",
         "showgrid": false,
         "tickfont": {
          "color": "#4D5663"
         },
         "title": {
          "font": {
           "color": "#4D5663"
          },
          "text": ""
         },
         "zerolinecolor": "#E1E5ED"
        },
        "xaxis12": {
         "anchor": "y12",
         "domain": [
          0.7875,
          1
         ],
         "gridcolor": "#E1E5ED",
         "showgrid": false,
         "tickfont": {
          "color": "#4D5663"
         },
         "title": {
          "font": {
           "color": "#4D5663"
          },
          "text": ""
         },
         "zerolinecolor": "#E1E5ED"
        },
        "xaxis13": {
         "anchor": "y13",
         "domain": [
          0,
          0.2125
         ],
         "gridcolor": "#E1E5ED",
         "showgrid": false,
         "tickfont": {
          "color": "#4D5663"
         },
         "title": {
          "font": {
           "color": "#4D5663"
          },
          "text": ""
         },
         "zerolinecolor": "#E1E5ED"
        },
        "xaxis14": {
         "anchor": "y14",
         "domain": [
          0.2625,
          0.475
         ],
         "gridcolor": "#E1E5ED",
         "showgrid": false,
         "tickfont": {
          "color": "#4D5663"
         },
         "title": {
          "font": {
           "color": "#4D5663"
          },
          "text": ""
         },
         "zerolinecolor": "#E1E5ED"
        },
        "xaxis15": {
         "anchor": "y15",
         "domain": [
          0.525,
          0.7375
         ],
         "gridcolor": "#E1E5ED",
         "showgrid": false,
         "tickfont": {
          "color": "#4D5663"
         },
         "title": {
          "font": {
           "color": "#4D5663"
          },
          "text": ""
         },
         "zerolinecolor": "#E1E5ED"
        },
        "xaxis16": {
         "anchor": "y16",
         "domain": [
          0.7875,
          1
         ],
         "gridcolor": "#E1E5ED",
         "showgrid": false,
         "tickfont": {
          "color": "#4D5663"
         },
         "title": {
          "font": {
           "color": "#4D5663"
          },
          "text": ""
         },
         "zerolinecolor": "#E1E5ED"
        },
        "xaxis2": {
         "anchor": "y2",
         "domain": [
          0.2625,
          0.475
         ],
         "gridcolor": "#E1E5ED",
         "showgrid": false,
         "tickfont": {
          "color": "#4D5663"
         },
         "title": {
          "font": {
           "color": "#4D5663"
          },
          "text": ""
         },
         "zerolinecolor": "#E1E5ED"
        },
        "xaxis3": {
         "anchor": "y3",
         "domain": [
          0.525,
          0.7375
         ],
         "gridcolor": "#E1E5ED",
         "showgrid": false,
         "tickfont": {
          "color": "#4D5663"
         },
         "title": {
          "font": {
           "color": "#4D5663"
          },
          "text": ""
         },
         "zerolinecolor": "#E1E5ED"
        },
        "xaxis4": {
         "anchor": "y4",
         "domain": [
          0.7875,
          1
         ],
         "gridcolor": "#E1E5ED",
         "showgrid": false,
         "tickfont": {
          "color": "#4D5663"
         },
         "title": {
          "font": {
           "color": "#4D5663"
          },
          "text": ""
         },
         "zerolinecolor": "#E1E5ED"
        },
        "xaxis5": {
         "anchor": "y5",
         "domain": [
          0,
          0.2125
         ],
         "gridcolor": "#E1E5ED",
         "showgrid": false,
         "tickfont": {
          "color": "#4D5663"
         },
         "title": {
          "font": {
           "color": "#4D5663"
          },
          "text": ""
         },
         "zerolinecolor": "#E1E5ED"
        },
        "xaxis6": {
         "anchor": "y6",
         "domain": [
          0.2625,
          0.475
         ],
         "gridcolor": "#E1E5ED",
         "showgrid": false,
         "tickfont": {
          "color": "#4D5663"
         },
         "title": {
          "font": {
           "color": "#4D5663"
          },
          "text": ""
         },
         "zerolinecolor": "#E1E5ED"
        },
        "xaxis7": {
         "anchor": "y7",
         "domain": [
          0.525,
          0.7375
         ],
         "gridcolor": "#E1E5ED",
         "showgrid": false,
         "tickfont": {
          "color": "#4D5663"
         },
         "title": {
          "font": {
           "color": "#4D5663"
          },
          "text": ""
         },
         "zerolinecolor": "#E1E5ED"
        },
        "xaxis8": {
         "anchor": "y8",
         "domain": [
          0.7875,
          1
         ],
         "gridcolor": "#E1E5ED",
         "showgrid": false,
         "tickfont": {
          "color": "#4D5663"
         },
         "title": {
          "font": {
           "color": "#4D5663"
          },
          "text": ""
         },
         "zerolinecolor": "#E1E5ED"
        },
        "xaxis9": {
         "anchor": "y9",
         "domain": [
          0,
          0.2125
         ],
         "gridcolor": "#E1E5ED",
         "showgrid": false,
         "tickfont": {
          "color": "#4D5663"
         },
         "title": {
          "font": {
           "color": "#4D5663"
          },
          "text": ""
         },
         "zerolinecolor": "#E1E5ED"
        },
        "yaxis": {
         "anchor": "x",
         "domain": [
          0.8025,
          1
         ],
         "gridcolor": "#E1E5ED",
         "showgrid": false,
         "tickfont": {
          "color": "#4D5663"
         },
         "title": {
          "font": {
           "color": "#4D5663"
          },
          "text": ""
         },
         "zerolinecolor": "#E1E5ED"
        },
        "yaxis10": {
         "anchor": "x10",
         "domain": [
          0.2675,
          0.465
         ],
         "gridcolor": "#E1E5ED",
         "showgrid": false,
         "tickfont": {
          "color": "#4D5663"
         },
         "title": {
          "font": {
           "color": "#4D5663"
          },
          "text": ""
         },
         "zerolinecolor": "#E1E5ED"
        },
        "yaxis11": {
         "anchor": "x11",
         "domain": [
          0.2675,
          0.465
         ],
         "gridcolor": "#E1E5ED",
         "showgrid": false,
         "tickfont": {
          "color": "#4D5663"
         },
         "title": {
          "font": {
           "color": "#4D5663"
          },
          "text": ""
         },
         "zerolinecolor": "#E1E5ED"
        },
        "yaxis12": {
         "anchor": "x12",
         "domain": [
          0.2675,
          0.465
         ],
         "gridcolor": "#E1E5ED",
         "showgrid": false,
         "tickfont": {
          "color": "#4D5663"
         },
         "title": {
          "font": {
           "color": "#4D5663"
          },
          "text": ""
         },
         "zerolinecolor": "#E1E5ED"
        },
        "yaxis13": {
         "anchor": "x13",
         "domain": [
          0,
          0.1975
         ],
         "gridcolor": "#E1E5ED",
         "showgrid": false,
         "tickfont": {
          "color": "#4D5663"
         },
         "title": {
          "font": {
           "color": "#4D5663"
          },
          "text": ""
         },
         "zerolinecolor": "#E1E5ED"
        },
        "yaxis14": {
         "anchor": "x14",
         "domain": [
          0,
          0.1975
         ],
         "gridcolor": "#E1E5ED",
         "showgrid": false,
         "tickfont": {
          "color": "#4D5663"
         },
         "title": {
          "font": {
           "color": "#4D5663"
          },
          "text": ""
         },
         "zerolinecolor": "#E1E5ED"
        },
        "yaxis15": {
         "anchor": "x15",
         "domain": [
          0,
          0.1975
         ],
         "gridcolor": "#E1E5ED",
         "showgrid": false,
         "tickfont": {
          "color": "#4D5663"
         },
         "title": {
          "font": {
           "color": "#4D5663"
          },
          "text": ""
         },
         "zerolinecolor": "#E1E5ED"
        },
        "yaxis16": {
         "anchor": "x16",
         "domain": [
          0,
          0.1975
         ],
         "gridcolor": "#E1E5ED",
         "showgrid": false,
         "tickfont": {
          "color": "#4D5663"
         },
         "title": {
          "font": {
           "color": "#4D5663"
          },
          "text": ""
         },
         "zerolinecolor": "#E1E5ED"
        },
        "yaxis2": {
         "anchor": "x2",
         "domain": [
          0.8025,
          1
         ],
         "gridcolor": "#E1E5ED",
         "showgrid": false,
         "tickfont": {
          "color": "#4D5663"
         },
         "title": {
          "font": {
           "color": "#4D5663"
          },
          "text": ""
         },
         "zerolinecolor": "#E1E5ED"
        },
        "yaxis3": {
         "anchor": "x3",
         "domain": [
          0.8025,
          1
         ],
         "gridcolor": "#E1E5ED",
         "showgrid": false,
         "tickfont": {
          "color": "#4D5663"
         },
         "title": {
          "font": {
           "color": "#4D5663"
          },
          "text": ""
         },
         "zerolinecolor": "#E1E5ED"
        },
        "yaxis4": {
         "anchor": "x4",
         "domain": [
          0.8025,
          1
         ],
         "gridcolor": "#E1E5ED",
         "showgrid": false,
         "tickfont": {
          "color": "#4D5663"
         },
         "title": {
          "font": {
           "color": "#4D5663"
          },
          "text": ""
         },
         "zerolinecolor": "#E1E5ED"
        },
        "yaxis5": {
         "anchor": "x5",
         "domain": [
          0.535,
          0.7325
         ],
         "gridcolor": "#E1E5ED",
         "showgrid": false,
         "tickfont": {
          "color": "#4D5663"
         },
         "title": {
          "font": {
           "color": "#4D5663"
          },
          "text": ""
         },
         "zerolinecolor": "#E1E5ED"
        },
        "yaxis6": {
         "anchor": "x6",
         "domain": [
          0.535,
          0.7325
         ],
         "gridcolor": "#E1E5ED",
         "showgrid": false,
         "tickfont": {
          "color": "#4D5663"
         },
         "title": {
          "font": {
           "color": "#4D5663"
          },
          "text": ""
         },
         "zerolinecolor": "#E1E5ED"
        },
        "yaxis7": {
         "anchor": "x7",
         "domain": [
          0.535,
          0.7325
         ],
         "gridcolor": "#E1E5ED",
         "showgrid": false,
         "tickfont": {
          "color": "#4D5663"
         },
         "title": {
          "font": {
           "color": "#4D5663"
          },
          "text": ""
         },
         "zerolinecolor": "#E1E5ED"
        },
        "yaxis8": {
         "anchor": "x8",
         "domain": [
          0.535,
          0.7325
         ],
         "gridcolor": "#E1E5ED",
         "showgrid": false,
         "tickfont": {
          "color": "#4D5663"
         },
         "title": {
          "font": {
           "color": "#4D5663"
          },
          "text": ""
         },
         "zerolinecolor": "#E1E5ED"
        },
        "yaxis9": {
         "anchor": "x9",
         "domain": [
          0.2675,
          0.465
         ],
         "gridcolor": "#E1E5ED",
         "showgrid": false,
         "tickfont": {
          "color": "#4D5663"
         },
         "title": {
          "font": {
           "color": "#4D5663"
          },
          "text": ""
         },
         "zerolinecolor": "#E1E5ED"
        }
       }
      },
      "text/html": [
       "<div>                            <div id=\"921c3372-fd37-4499-a31e-f3cadef40ea2\" class=\"plotly-graph-div\" style=\"height:525px; width:100%;\"></div>            <script type=\"text/javascript\">                require([\"plotly\"], function(Plotly) {                    window.PLOTLYENV=window.PLOTLYENV || {};\n",
       "                    window.PLOTLYENV.BASE_URL='https://plot.ly';                                    if (document.getElementById(\"921c3372-fd37-4499-a31e-f3cadef40ea2\")) {                    Plotly.newPlot(                        \"921c3372-fd37-4499-a31e-f3cadef40ea2\",                        [{\"histfunc\": \"count\", \"histnorm\": \"\", \"marker\": {\"color\": \"rgba(255, 153, 51, 1.0)\", \"line\": {\"color\": \"#4D5663\", \"width\": 1.3}}, \"name\": \"A\", \"nbinsx\": 10, \"opacity\": 0.8, \"orientation\": \"v\", \"type\": \"histogram\", \"x\": [-0.39249119533846083, -1.3888802447524282, 0.9320187198753848, 0.694353564039704, 0.7344257361752629, -1.2230733342365738, -0.8244809005601621, 0.7162297255286217, 0.2165294575147262, -0.2408870384182345, 1.1114063553829503, 0.11623195119570866, 0.11865011429650428, 0.6419190655473598, 0.5924914375347973, -1.5309904914242096, -1.0144836912833508, 0.17787108284173206, 1.1945581244349286, 1.2415482353883005, -0.4112001758408989, 1.7949556218804894, 0.9533968117682318, -0.05388169104593645, 0.24708490471611128, 0.25877047914625495, 0.48537772746154373, -0.6316121968562575, 0.06979028490490342, 0.19179517799331644, -1.6389060193460128, 0.9568316005620361, 0.26717277970941045, -0.3026993847893387, 1.1358386331024715, 0.10544743176293345, -0.3299778399054059, 0.27100520046695425, 0.06640897537997871, 1.2022134310294064, -0.8275038600805332, -1.8297538154580024, 0.6949224280793794, -0.5453678996930036, 1.0511010453471554, 0.5928559996789496, -0.06112588854125373, -0.33259830544963653, -0.9095544388303258, -0.06519574555535969, -0.7396712807137552, -0.7972607228576862, 0.8992819989759496, -0.48843079131869044, 0.6247337472023909, -0.04368661259913243, 1.0707374155366922, -1.2750425970263084, -2.1286830059622077, -0.16041042808617528, 0.8995574231400747, -1.1093579889045484, 0.24647782191751233, 0.1622166523400865, -1.9262665166541684, -0.11425757020942486, 1.6970107669806103, -0.5660708839996262, -0.5255668865650605, -0.013986122764662883, -0.7297632456108951, 1.4244002945727672, -1.77433674788825, -0.5638562033370994, -0.5015545170673178, -1.5485746003489604, -0.42447048714593744, 0.5227658730223655, -1.5510798620613335, -0.4326482754580784, -0.19418294085652998, 2.320301562215529, 0.6421355412935974, 1.0132407626820426, 0.8751950847102844, 0.06786618667413867, -1.1957715770422013, -0.8756342227097039, 0.8339918704633829, -0.9198970809358937, -1.3972272495036677, 1.023120644082157, -1.457450824800944, -0.16951331764207347, -1.129058458402131, 2.127667416680669, -0.8176154890128692, 1.2109557386846754, -0.30743944371779625, 0.16609731130823885], \"xaxis\": \"x\", \"yaxis\": \"y\"}, {\"line\": {\"color\": \"rgba(128, 128, 128, 1.0)\", \"dash\": \"solid\", \"shape\": \"linear\", \"width\": 1.3}, \"marker\": {\"size\": 2, \"symbol\": \"circle\"}, \"mode\": \"markers\", \"name\": \"A\", \"text\": \"\", \"type\": \"scatter\", \"x\": [0.10480144276968774, -2.2448421163275762, -0.10385752502981002, 0.07587343198180303, 0.8253080764609732, -0.46590149353816884, 1.720000398792707, 0.04699268025148138, 0.6888697082875861, -1.5391049448586651, 1.531707361237052, -0.09993967946466119, -1.254504242294646, -1.2205349028615027, 1.0727852640083417, 2.567033067274972, -0.6521242358147255, 1.18401797836042, 0.5975387129010653, 1.1964442867936949, 2.160759870882936, -0.08331842428728174, -1.5832430789407055, -0.47278583853194756, -0.8189897202884268, 0.5523291035570072, 0.6360732149381493, 0.6078394093485547, -1.524513836860753, 0.019809751507857323, 0.36345148832240715, 0.5229061031796399, -1.397573910854617, 0.5051465500992074, 2.74628313657978, 0.8120454689264269, -1.2650901112701955, 1.232961382327399, -0.3204634182661983, 1.7667021889194712, -0.5183017375342086, 0.9557565205566079, -0.8086490205068385, -0.45212422534360897, 1.2309789313304136, -1.3160441618070073, -2.0787989453683213, -0.2514029947741344, 0.9867684647074665, -2.1990333320540243, -0.34497633052762716, 0.8639628692687408, -0.21389997301921213, 1.0066686519064196, 0.015285295518240219, 0.16553727871273421, -0.3422559844465687, 0.18582729884952723, -0.5185663434101322, 0.18913410433325986, 0.39113332341307633, -0.18854993521329608, -0.14869197202417253, -1.1771622810743556, 1.3307583915936658, -1.0811490526736167, 1.0091713921321324, -0.04562912974048219, -0.44860879206069726, -0.875699653930691, -0.9595772536161237, 2.2610482349970145, 0.673684214746933, 0.3855515807541555, -0.5870000829314124, -0.6238089402650726, 1.8241779691481275, 1.3040691198754766, 1.4022082707660175, -0.02802869965795411, -1.3025100590842051, 0.42446491321503954, -1.332092580693879, 0.24818581948371962, -0.5430116861802801, -0.25308285294068034, -0.7847086131345495, 0.09962225805782671, -0.4468545812432021, -1.3879365467126263, -1.8354406655645414, 0.20141758971530174, 0.6401032427603514, 0.16832901628415473, 0.3181880472684637, -0.5806466226491991, 0.6052428295290574, 2.367193516786903, -1.430962307666061, 1.322035884985864], \"xaxis\": \"x2\", \"y\": [-0.39249119533846083, -1.3888802447524282, 0.9320187198753848, 0.694353564039704, 0.7344257361752629, -1.2230733342365738, -0.8244809005601621, 0.7162297255286217, 0.2165294575147262, -0.2408870384182345, 1.1114063553829503, 0.11623195119570866, 0.11865011429650428, 0.6419190655473598, 0.5924914375347973, -1.5309904914242096, -1.0144836912833508, 0.17787108284173206, 1.1945581244349286, 1.2415482353883005, -0.4112001758408989, 1.7949556218804894, 0.9533968117682318, -0.05388169104593645, 0.24708490471611128, 0.25877047914625495, 0.48537772746154373, -0.6316121968562575, 0.06979028490490342, 0.19179517799331644, -1.6389060193460128, 0.9568316005620361, 0.26717277970941045, -0.3026993847893387, 1.1358386331024715, 0.10544743176293345, -0.3299778399054059, 0.27100520046695425, 0.06640897537997871, 1.2022134310294064, -0.8275038600805332, -1.8297538154580024, 0.6949224280793794, -0.5453678996930036, 1.0511010453471554, 0.5928559996789496, -0.06112588854125373, -0.33259830544963653, -0.9095544388303258, -0.06519574555535969, -0.7396712807137552, -0.7972607228576862, 0.8992819989759496, -0.48843079131869044, 0.6247337472023909, -0.04368661259913243, 1.0707374155366922, -1.2750425970263084, -2.1286830059622077, -0.16041042808617528, 0.8995574231400747, -1.1093579889045484, 0.24647782191751233, 0.1622166523400865, -1.9262665166541684, -0.11425757020942486, 1.6970107669806103, -0.5660708839996262, -0.5255668865650605, -0.013986122764662883, -0.7297632456108951, 1.4244002945727672, -1.77433674788825, -0.5638562033370994, -0.5015545170673178, -1.5485746003489604, -0.42447048714593744, 0.5227658730223655, -1.5510798620613335, -0.4326482754580784, -0.19418294085652998, 2.320301562215529, 0.6421355412935974, 1.0132407626820426, 0.8751950847102844, 0.06786618667413867, -1.1957715770422013, -0.8756342227097039, 0.8339918704633829, -0.9198970809358937, -1.3972272495036677, 1.023120644082157, -1.457450824800944, -0.16951331764207347, -1.129058458402131, 2.127667416680669, -0.8176154890128692, 1.2109557386846754, -0.30743944371779625, 0.16609731130823885], \"yaxis\": \"y2\"}, {\"line\": {\"color\": \"rgba(128, 128, 128, 1.0)\", \"dash\": \"solid\", \"shape\": \"linear\", \"width\": 1.3}, \"marker\": {\"size\": 2, \"symbol\": \"circle\"}, \"mode\": \"markers\", \"name\": \"A\", \"text\": \"\", \"type\": \"scatter\", \"x\": [1.262553816272815, -1.1312557642920869, -1.1781643467734917, -0.040049755965456645, 0.3775276948122276, -0.1835377139042649, 3.2845053496903334, -0.17001909195977002, 1.2723768678324126, 0.11515065592126898, -0.09795599482709719, -0.315118246635823, 0.1303795582218475, 0.1934309273749824, -0.15700279297617625, 0.1355005381328716, -0.36170610267805064, -0.7296906375113784, 0.967917008890089, 0.08101502544623371, -0.7121024219343551, 0.25150715334657064, 1.3207142931406897, -0.7640006693031689, -2.0419995307825802, 0.8557271987160892, -0.2667276886830243, 0.2556003823611708, -0.1404043230126173, 0.06946071379905819, -0.48265634382018247, 0.38991158300036804, 1.1514677316517041, 0.04327112231623401, 0.16999677247215608, -1.301362660406228, -0.4389181617111678, -0.2741905611165989, -0.8800900233876539, -1.1340494603714055, 0.6664892396325672, -1.8055961576689588, 1.321351407120175, 1.4250517922344206, 1.3472459104122083, -0.004453262139512292, 0.7490165419436738, 0.7194009489746745, -1.3110385371336761, -0.44112586565230005, -2.1706587330360105, -1.0409700261702066, -1.4548992791934483, -0.2549378491600471, 0.15441372440608092, 0.2971687002806099, -0.34980117477422745, -0.950796048165758, 0.8110675981560487, -0.47315604585092913, -0.6644216823215673, 0.18540603803740488, -1.1679486757592947, -0.9289797647673192, -1.7675116350142936, 0.8678474620139809, 2.0967793770906322, -0.08152292625404282, 0.2554994751702368, -0.4943892750842958, 1.270761433397232, -2.5825683776574135, -0.46722176713795577, 1.9218430644214242, 0.1089838289729727, 0.6945648693019376, 1.3355507057913318, -0.8645998266815484, 0.6898737364799554, -0.6081416493163475, -0.6789194788399318, 0.9008873933257342, 1.3601004837458617, -0.5920848140497326, -0.5917390162676318, -0.0666286771665744, -0.06253202279846254, 1.5049696631772043, -0.23985914874085418, -0.9898416201349332, -0.5967129176045103, -0.05223050061835646, -0.8017070028742392, 0.7027432376554948, -0.749255610086444, -0.6053289414724052, -1.3322298257831455, 0.1653817387832196, -1.4808261546521626, -1.6107761066626145], \"xaxis\": \"x3\", \"y\": [-0.39249119533846083, -1.3888802447524282, 0.9320187198753848, 0.694353564039704, 0.7344257361752629, -1.2230733342365738, -0.8244809005601621, 0.7162297255286217, 0.2165294575147262, -0.2408870384182345, 1.1114063553829503, 0.11623195119570866, 0.11865011429650428, 0.6419190655473598, 0.5924914375347973, -1.5309904914242096, -1.0144836912833508, 0.17787108284173206, 1.1945581244349286, 1.2415482353883005, -0.4112001758408989, 1.7949556218804894, 0.9533968117682318, -0.05388169104593645, 0.24708490471611128, 0.25877047914625495, 0.48537772746154373, -0.6316121968562575, 0.06979028490490342, 0.19179517799331644, -1.6389060193460128, 0.9568316005620361, 0.26717277970941045, -0.3026993847893387, 1.1358386331024715, 0.10544743176293345, -0.3299778399054059, 0.27100520046695425, 0.06640897537997871, 1.2022134310294064, -0.8275038600805332, -1.8297538154580024, 0.6949224280793794, -0.5453678996930036, 1.0511010453471554, 0.5928559996789496, -0.06112588854125373, -0.33259830544963653, -0.9095544388303258, -0.06519574555535969, -0.7396712807137552, -0.7972607228576862, 0.8992819989759496, -0.48843079131869044, 0.6247337472023909, -0.04368661259913243, 1.0707374155366922, -1.2750425970263084, -2.1286830059622077, -0.16041042808617528, 0.8995574231400747, -1.1093579889045484, 0.24647782191751233, 0.1622166523400865, -1.9262665166541684, -0.11425757020942486, 1.6970107669806103, -0.5660708839996262, -0.5255668865650605, -0.013986122764662883, -0.7297632456108951, 1.4244002945727672, -1.77433674788825, -0.5638562033370994, -0.5015545170673178, -1.5485746003489604, -0.42447048714593744, 0.5227658730223655, -1.5510798620613335, -0.4326482754580784, -0.19418294085652998, 2.320301562215529, 0.6421355412935974, 1.0132407626820426, 0.8751950847102844, 0.06786618667413867, -1.1957715770422013, -0.8756342227097039, 0.8339918704633829, -0.9198970809358937, -1.3972272495036677, 1.023120644082157, -1.457450824800944, -0.16951331764207347, -1.129058458402131, 2.127667416680669, -0.8176154890128692, 1.2109557386846754, -0.30743944371779625, 0.16609731130823885], \"yaxis\": \"y3\"}, {\"line\": {\"color\": \"rgba(128, 128, 128, 1.0)\", \"dash\": \"solid\", \"shape\": \"linear\", \"width\": 1.3}, \"marker\": {\"size\": 2, \"symbol\": \"circle\"}, \"mode\": \"markers\", \"name\": \"A\", \"text\": \"\", \"type\": \"scatter\", \"x\": [-1.5358627875003739, 0.06548290336662309, -0.8079937212589396, -0.6440551079816648, -0.040769064291493434, 0.18714145228738116, -0.054901915594329616, -0.3643694822485636, 1.146609059044325, 1.0192292972838897, 0.895097874011055, -2.383937229455519, -2.542843656486311, 1.2960827540249615, 1.0723567212065517, -0.6507274922468583, -0.29293379375665585, 0.3460315198837977, -0.09962138708788137, 1.1939042771345394, -0.47218918626376266, -1.62969939297132, -0.5566240014855384, -0.24481130346445587, 0.562605618427525, -0.8482663035942708, -0.670587067739321, -2.3318080258655596, -0.615926835103948, 0.3210035162003755, 1.031682174420211, 0.6254573040796039, 0.9372397290889352, -0.9757589876634554, -1.1100950292047358, 0.5066657285885308, -1.2420928695653852, -0.42320781681759534, -0.5218466201269218, -0.050456628261667455, -0.8296913187279658, -1.3290266063019278, -1.4775658985607254, -0.8781983454919082, 0.9879607729666382, 1.016597645161363, 0.369600471833716, -0.883274953133442, -1.2952266725962698, -0.24594961730833692, -0.2741775354424396, 0.03204721204159266, 0.5580925732828539, -0.36955433697025497, -0.9799433295112487, 0.07598562686524854, -0.30926100523398176, 1.8001282128534324, -0.09616649611101727, -0.9095300492922991, -0.8747134737168203, 0.7287346795419107, 0.8896795463867703, -0.13183711628422762, 1.5212968665174014, -0.10200381107198399, -0.027319829348091886, -0.18124818094030268, -0.5983209667738654, 1.1896826215735987, -1.460386729170942, 1.110808064789999, 0.024611131521987014, 0.6949332321192025, -0.9332432718000083, 0.6927311054497955, -0.0428582712371396, -0.6085795683215991, 0.8675058278177395, 1.2217752261253048, 0.6725150690847547, 0.38187648956293124, -0.3249963627140331, -0.8953924669590061, -0.6843153532339907, 0.615350101819938, 0.6526633943573716, -0.6110226975148664, -0.5440619610659326, -1.2287517540107722, 0.4336478708056217, -0.25584838718160796, 0.27413404970423416, -0.03315047515053486, 0.006506711124766794, -0.01964487911993876, -0.7686623781963896, -0.6975844031157828, -0.04654454869085646, -0.10655674043640209], \"xaxis\": \"x4\", \"y\": [-0.39249119533846083, -1.3888802447524282, 0.9320187198753848, 0.694353564039704, 0.7344257361752629, -1.2230733342365738, -0.8244809005601621, 0.7162297255286217, 0.2165294575147262, -0.2408870384182345, 1.1114063553829503, 0.11623195119570866, 0.11865011429650428, 0.6419190655473598, 0.5924914375347973, -1.5309904914242096, -1.0144836912833508, 0.17787108284173206, 1.1945581244349286, 1.2415482353883005, -0.4112001758408989, 1.7949556218804894, 0.9533968117682318, -0.05388169104593645, 0.24708490471611128, 0.25877047914625495, 0.48537772746154373, -0.6316121968562575, 0.06979028490490342, 0.19179517799331644, -1.6389060193460128, 0.9568316005620361, 0.26717277970941045, -0.3026993847893387, 1.1358386331024715, 0.10544743176293345, -0.3299778399054059, 0.27100520046695425, 0.06640897537997871, 1.2022134310294064, -0.8275038600805332, -1.8297538154580024, 0.6949224280793794, -0.5453678996930036, 1.0511010453471554, 0.5928559996789496, -0.06112588854125373, -0.33259830544963653, -0.9095544388303258, -0.06519574555535969, -0.7396712807137552, -0.7972607228576862, 0.8992819989759496, -0.48843079131869044, 0.6247337472023909, -0.04368661259913243, 1.0707374155366922, -1.2750425970263084, -2.1286830059622077, -0.16041042808617528, 0.8995574231400747, -1.1093579889045484, 0.24647782191751233, 0.1622166523400865, -1.9262665166541684, -0.11425757020942486, 1.6970107669806103, -0.5660708839996262, -0.5255668865650605, -0.013986122764662883, -0.7297632456108951, 1.4244002945727672, -1.77433674788825, -0.5638562033370994, -0.5015545170673178, -1.5485746003489604, -0.42447048714593744, 0.5227658730223655, -1.5510798620613335, -0.4326482754580784, -0.19418294085652998, 2.320301562215529, 0.6421355412935974, 1.0132407626820426, 0.8751950847102844, 0.06786618667413867, -1.1957715770422013, -0.8756342227097039, 0.8339918704633829, -0.9198970809358937, -1.3972272495036677, 1.023120644082157, -1.457450824800944, -0.16951331764207347, -1.129058458402131, 2.127667416680669, -0.8176154890128692, 1.2109557386846754, -0.30743944371779625, 0.16609731130823885], \"yaxis\": \"y4\"}, {\"line\": {\"color\": \"rgba(128, 128, 128, 1.0)\", \"dash\": \"solid\", \"shape\": \"linear\", \"width\": 1.3}, \"marker\": {\"size\": 2, \"symbol\": \"circle\"}, \"mode\": \"markers\", \"name\": \"B\", \"text\": \"\", \"type\": \"scatter\", \"x\": [-0.39249119533846083, -1.3888802447524282, 0.9320187198753848, 0.694353564039704, 0.7344257361752629, -1.2230733342365738, -0.8244809005601621, 0.7162297255286217, 0.2165294575147262, -0.2408870384182345, 1.1114063553829503, 0.11623195119570866, 0.11865011429650428, 0.6419190655473598, 0.5924914375347973, -1.5309904914242096, -1.0144836912833508, 0.17787108284173206, 1.1945581244349286, 1.2415482353883005, -0.4112001758408989, 1.7949556218804894, 0.9533968117682318, -0.05388169104593645, 0.24708490471611128, 0.25877047914625495, 0.48537772746154373, -0.6316121968562575, 0.06979028490490342, 0.19179517799331644, -1.6389060193460128, 0.9568316005620361, 0.26717277970941045, -0.3026993847893387, 1.1358386331024715, 0.10544743176293345, -0.3299778399054059, 0.27100520046695425, 0.06640897537997871, 1.2022134310294064, -0.8275038600805332, -1.8297538154580024, 0.6949224280793794, -0.5453678996930036, 1.0511010453471554, 0.5928559996789496, -0.06112588854125373, -0.33259830544963653, -0.9095544388303258, -0.06519574555535969, -0.7396712807137552, -0.7972607228576862, 0.8992819989759496, -0.48843079131869044, 0.6247337472023909, -0.04368661259913243, 1.0707374155366922, -1.2750425970263084, -2.1286830059622077, -0.16041042808617528, 0.8995574231400747, -1.1093579889045484, 0.24647782191751233, 0.1622166523400865, -1.9262665166541684, -0.11425757020942486, 1.6970107669806103, -0.5660708839996262, -0.5255668865650605, -0.013986122764662883, -0.7297632456108951, 1.4244002945727672, -1.77433674788825, -0.5638562033370994, -0.5015545170673178, -1.5485746003489604, -0.42447048714593744, 0.5227658730223655, -1.5510798620613335, -0.4326482754580784, -0.19418294085652998, 2.320301562215529, 0.6421355412935974, 1.0132407626820426, 0.8751950847102844, 0.06786618667413867, -1.1957715770422013, -0.8756342227097039, 0.8339918704633829, -0.9198970809358937, -1.3972272495036677, 1.023120644082157, -1.457450824800944, -0.16951331764207347, -1.129058458402131, 2.127667416680669, -0.8176154890128692, 1.2109557386846754, -0.30743944371779625, 0.16609731130823885], \"xaxis\": \"x5\", \"y\": [0.10480144276968774, -2.2448421163275762, -0.10385752502981002, 0.07587343198180303, 0.8253080764609732, -0.46590149353816884, 1.720000398792707, 0.04699268025148138, 0.6888697082875861, -1.5391049448586651, 1.531707361237052, -0.09993967946466119, -1.254504242294646, -1.2205349028615027, 1.0727852640083417, 2.567033067274972, -0.6521242358147255, 1.18401797836042, 0.5975387129010653, 1.1964442867936949, 2.160759870882936, -0.08331842428728174, -1.5832430789407055, -0.47278583853194756, -0.8189897202884268, 0.5523291035570072, 0.6360732149381493, 0.6078394093485547, -1.524513836860753, 0.019809751507857323, 0.36345148832240715, 0.5229061031796399, -1.397573910854617, 0.5051465500992074, 2.74628313657978, 0.8120454689264269, -1.2650901112701955, 1.232961382327399, -0.3204634182661983, 1.7667021889194712, -0.5183017375342086, 0.9557565205566079, -0.8086490205068385, -0.45212422534360897, 1.2309789313304136, -1.3160441618070073, -2.0787989453683213, -0.2514029947741344, 0.9867684647074665, -2.1990333320540243, -0.34497633052762716, 0.8639628692687408, -0.21389997301921213, 1.0066686519064196, 0.015285295518240219, 0.16553727871273421, -0.3422559844465687, 0.18582729884952723, -0.5185663434101322, 0.18913410433325986, 0.39113332341307633, -0.18854993521329608, -0.14869197202417253, -1.1771622810743556, 1.3307583915936658, -1.0811490526736167, 1.0091713921321324, -0.04562912974048219, -0.44860879206069726, -0.875699653930691, -0.9595772536161237, 2.2610482349970145, 0.673684214746933, 0.3855515807541555, -0.5870000829314124, -0.6238089402650726, 1.8241779691481275, 1.3040691198754766, 1.4022082707660175, -0.02802869965795411, -1.3025100590842051, 0.42446491321503954, -1.332092580693879, 0.24818581948371962, -0.5430116861802801, -0.25308285294068034, -0.7847086131345495, 0.09962225805782671, -0.4468545812432021, -1.3879365467126263, -1.8354406655645414, 0.20141758971530174, 0.6401032427603514, 0.16832901628415473, 0.3181880472684637, -0.5806466226491991, 0.6052428295290574, 2.367193516786903, -1.430962307666061, 1.322035884985864], \"yaxis\": \"y5\"}, {\"histfunc\": \"count\", \"histnorm\": \"\", \"marker\": {\"color\": \"rgba(55, 128, 191, 1.0)\", \"line\": {\"color\": \"#4D5663\", \"width\": 1.3}}, \"name\": \"B\", \"nbinsx\": 10, \"opacity\": 0.8, \"orientation\": \"v\", \"type\": \"histogram\", \"x\": [0.10480144276968774, -2.2448421163275762, -0.10385752502981002, 0.07587343198180303, 0.8253080764609732, -0.46590149353816884, 1.720000398792707, 0.04699268025148138, 0.6888697082875861, -1.5391049448586651, 1.531707361237052, -0.09993967946466119, -1.254504242294646, -1.2205349028615027, 1.0727852640083417, 2.567033067274972, -0.6521242358147255, 1.18401797836042, 0.5975387129010653, 1.1964442867936949, 2.160759870882936, -0.08331842428728174, -1.5832430789407055, -0.47278583853194756, -0.8189897202884268, 0.5523291035570072, 0.6360732149381493, 0.6078394093485547, -1.524513836860753, 0.019809751507857323, 0.36345148832240715, 0.5229061031796399, -1.397573910854617, 0.5051465500992074, 2.74628313657978, 0.8120454689264269, -1.2650901112701955, 1.232961382327399, -0.3204634182661983, 1.7667021889194712, -0.5183017375342086, 0.9557565205566079, -0.8086490205068385, -0.45212422534360897, 1.2309789313304136, -1.3160441618070073, -2.0787989453683213, -0.2514029947741344, 0.9867684647074665, -2.1990333320540243, -0.34497633052762716, 0.8639628692687408, -0.21389997301921213, 1.0066686519064196, 0.015285295518240219, 0.16553727871273421, -0.3422559844465687, 0.18582729884952723, -0.5185663434101322, 0.18913410433325986, 0.39113332341307633, -0.18854993521329608, -0.14869197202417253, -1.1771622810743556, 1.3307583915936658, -1.0811490526736167, 1.0091713921321324, -0.04562912974048219, -0.44860879206069726, -0.875699653930691, -0.9595772536161237, 2.2610482349970145, 0.673684214746933, 0.3855515807541555, -0.5870000829314124, -0.6238089402650726, 1.8241779691481275, 1.3040691198754766, 1.4022082707660175, -0.02802869965795411, -1.3025100590842051, 0.42446491321503954, -1.332092580693879, 0.24818581948371962, -0.5430116861802801, -0.25308285294068034, -0.7847086131345495, 0.09962225805782671, -0.4468545812432021, -1.3879365467126263, -1.8354406655645414, 0.20141758971530174, 0.6401032427603514, 0.16832901628415473, 0.3181880472684637, -0.5806466226491991, 0.6052428295290574, 2.367193516786903, -1.430962307666061, 1.322035884985864], \"xaxis\": \"x6\", \"yaxis\": \"y6\"}, {\"line\": {\"color\": \"rgba(128, 128, 128, 1.0)\", \"dash\": \"solid\", \"shape\": \"linear\", \"width\": 1.3}, \"marker\": {\"size\": 2, \"symbol\": \"circle\"}, \"mode\": \"markers\", \"name\": \"B\", \"text\": \"\", \"type\": \"scatter\", \"x\": [1.262553816272815, -1.1312557642920869, -1.1781643467734917, -0.040049755965456645, 0.3775276948122276, -0.1835377139042649, 3.2845053496903334, -0.17001909195977002, 1.2723768678324126, 0.11515065592126898, -0.09795599482709719, -0.315118246635823, 0.1303795582218475, 0.1934309273749824, -0.15700279297617625, 0.1355005381328716, -0.36170610267805064, -0.7296906375113784, 0.967917008890089, 0.08101502544623371, -0.7121024219343551, 0.25150715334657064, 1.3207142931406897, -0.7640006693031689, -2.0419995307825802, 0.8557271987160892, -0.2667276886830243, 0.2556003823611708, -0.1404043230126173, 0.06946071379905819, -0.48265634382018247, 0.38991158300036804, 1.1514677316517041, 0.04327112231623401, 0.16999677247215608, -1.301362660406228, -0.4389181617111678, -0.2741905611165989, -0.8800900233876539, -1.1340494603714055, 0.6664892396325672, -1.8055961576689588, 1.321351407120175, 1.4250517922344206, 1.3472459104122083, -0.004453262139512292, 0.7490165419436738, 0.7194009489746745, -1.3110385371336761, -0.44112586565230005, -2.1706587330360105, -1.0409700261702066, -1.4548992791934483, -0.2549378491600471, 0.15441372440608092, 0.2971687002806099, -0.34980117477422745, -0.950796048165758, 0.8110675981560487, -0.47315604585092913, -0.6644216823215673, 0.18540603803740488, -1.1679486757592947, -0.9289797647673192, -1.7675116350142936, 0.8678474620139809, 2.0967793770906322, -0.08152292625404282, 0.2554994751702368, -0.4943892750842958, 1.270761433397232, -2.5825683776574135, -0.46722176713795577, 1.9218430644214242, 0.1089838289729727, 0.6945648693019376, 1.3355507057913318, -0.8645998266815484, 0.6898737364799554, -0.6081416493163475, -0.6789194788399318, 0.9008873933257342, 1.3601004837458617, -0.5920848140497326, -0.5917390162676318, -0.0666286771665744, -0.06253202279846254, 1.5049696631772043, -0.23985914874085418, -0.9898416201349332, -0.5967129176045103, -0.05223050061835646, -0.8017070028742392, 0.7027432376554948, -0.749255610086444, -0.6053289414724052, -1.3322298257831455, 0.1653817387832196, -1.4808261546521626, -1.6107761066626145], \"xaxis\": \"x7\", \"y\": [0.10480144276968774, -2.2448421163275762, -0.10385752502981002, 0.07587343198180303, 0.8253080764609732, -0.46590149353816884, 1.720000398792707, 0.04699268025148138, 0.6888697082875861, -1.5391049448586651, 1.531707361237052, -0.09993967946466119, -1.254504242294646, -1.2205349028615027, 1.0727852640083417, 2.567033067274972, -0.6521242358147255, 1.18401797836042, 0.5975387129010653, 1.1964442867936949, 2.160759870882936, -0.08331842428728174, -1.5832430789407055, -0.47278583853194756, -0.8189897202884268, 0.5523291035570072, 0.6360732149381493, 0.6078394093485547, -1.524513836860753, 0.019809751507857323, 0.36345148832240715, 0.5229061031796399, -1.397573910854617, 0.5051465500992074, 2.74628313657978, 0.8120454689264269, -1.2650901112701955, 1.232961382327399, -0.3204634182661983, 1.7667021889194712, -0.5183017375342086, 0.9557565205566079, -0.8086490205068385, -0.45212422534360897, 1.2309789313304136, -1.3160441618070073, -2.0787989453683213, -0.2514029947741344, 0.9867684647074665, -2.1990333320540243, -0.34497633052762716, 0.8639628692687408, -0.21389997301921213, 1.0066686519064196, 0.015285295518240219, 0.16553727871273421, -0.3422559844465687, 0.18582729884952723, -0.5185663434101322, 0.18913410433325986, 0.39113332341307633, -0.18854993521329608, -0.14869197202417253, -1.1771622810743556, 1.3307583915936658, -1.0811490526736167, 1.0091713921321324, -0.04562912974048219, -0.44860879206069726, -0.875699653930691, -0.9595772536161237, 2.2610482349970145, 0.673684214746933, 0.3855515807541555, -0.5870000829314124, -0.6238089402650726, 1.8241779691481275, 1.3040691198754766, 1.4022082707660175, -0.02802869965795411, -1.3025100590842051, 0.42446491321503954, -1.332092580693879, 0.24818581948371962, -0.5430116861802801, -0.25308285294068034, -0.7847086131345495, 0.09962225805782671, -0.4468545812432021, -1.3879365467126263, -1.8354406655645414, 0.20141758971530174, 0.6401032427603514, 0.16832901628415473, 0.3181880472684637, -0.5806466226491991, 0.6052428295290574, 2.367193516786903, -1.430962307666061, 1.322035884985864], \"yaxis\": \"y7\"}, {\"line\": {\"color\": \"rgba(128, 128, 128, 1.0)\", \"dash\": \"solid\", \"shape\": \"linear\", \"width\": 1.3}, \"marker\": {\"size\": 2, \"symbol\": \"circle\"}, \"mode\": \"markers\", \"name\": \"B\", \"text\": \"\", \"type\": \"scatter\", \"x\": [-1.5358627875003739, 0.06548290336662309, -0.8079937212589396, -0.6440551079816648, -0.040769064291493434, 0.18714145228738116, -0.054901915594329616, -0.3643694822485636, 1.146609059044325, 1.0192292972838897, 0.895097874011055, -2.383937229455519, -2.542843656486311, 1.2960827540249615, 1.0723567212065517, -0.6507274922468583, -0.29293379375665585, 0.3460315198837977, -0.09962138708788137, 1.1939042771345394, -0.47218918626376266, -1.62969939297132, -0.5566240014855384, -0.24481130346445587, 0.562605618427525, -0.8482663035942708, -0.670587067739321, -2.3318080258655596, -0.615926835103948, 0.3210035162003755, 1.031682174420211, 0.6254573040796039, 0.9372397290889352, -0.9757589876634554, -1.1100950292047358, 0.5066657285885308, -1.2420928695653852, -0.42320781681759534, -0.5218466201269218, -0.050456628261667455, -0.8296913187279658, -1.3290266063019278, -1.4775658985607254, -0.8781983454919082, 0.9879607729666382, 1.016597645161363, 0.369600471833716, -0.883274953133442, -1.2952266725962698, -0.24594961730833692, -0.2741775354424396, 0.03204721204159266, 0.5580925732828539, -0.36955433697025497, -0.9799433295112487, 0.07598562686524854, -0.30926100523398176, 1.8001282128534324, -0.09616649611101727, -0.9095300492922991, -0.8747134737168203, 0.7287346795419107, 0.8896795463867703, -0.13183711628422762, 1.5212968665174014, -0.10200381107198399, -0.027319829348091886, -0.18124818094030268, -0.5983209667738654, 1.1896826215735987, -1.460386729170942, 1.110808064789999, 0.024611131521987014, 0.6949332321192025, -0.9332432718000083, 0.6927311054497955, -0.0428582712371396, -0.6085795683215991, 0.8675058278177395, 1.2217752261253048, 0.6725150690847547, 0.38187648956293124, -0.3249963627140331, -0.8953924669590061, -0.6843153532339907, 0.615350101819938, 0.6526633943573716, -0.6110226975148664, -0.5440619610659326, -1.2287517540107722, 0.4336478708056217, -0.25584838718160796, 0.27413404970423416, -0.03315047515053486, 0.006506711124766794, -0.01964487911993876, -0.7686623781963896, -0.6975844031157828, -0.04654454869085646, -0.10655674043640209], \"xaxis\": \"x8\", \"y\": [0.10480144276968774, -2.2448421163275762, -0.10385752502981002, 0.07587343198180303, 0.8253080764609732, -0.46590149353816884, 1.720000398792707, 0.04699268025148138, 0.6888697082875861, -1.5391049448586651, 1.531707361237052, -0.09993967946466119, -1.254504242294646, -1.2205349028615027, 1.0727852640083417, 2.567033067274972, -0.6521242358147255, 1.18401797836042, 0.5975387129010653, 1.1964442867936949, 2.160759870882936, -0.08331842428728174, -1.5832430789407055, -0.47278583853194756, -0.8189897202884268, 0.5523291035570072, 0.6360732149381493, 0.6078394093485547, -1.524513836860753, 0.019809751507857323, 0.36345148832240715, 0.5229061031796399, -1.397573910854617, 0.5051465500992074, 2.74628313657978, 0.8120454689264269, -1.2650901112701955, 1.232961382327399, -0.3204634182661983, 1.7667021889194712, -0.5183017375342086, 0.9557565205566079, -0.8086490205068385, -0.45212422534360897, 1.2309789313304136, -1.3160441618070073, -2.0787989453683213, -0.2514029947741344, 0.9867684647074665, -2.1990333320540243, -0.34497633052762716, 0.8639628692687408, -0.21389997301921213, 1.0066686519064196, 0.015285295518240219, 0.16553727871273421, -0.3422559844465687, 0.18582729884952723, -0.5185663434101322, 0.18913410433325986, 0.39113332341307633, -0.18854993521329608, -0.14869197202417253, -1.1771622810743556, 1.3307583915936658, -1.0811490526736167, 1.0091713921321324, -0.04562912974048219, -0.44860879206069726, -0.875699653930691, -0.9595772536161237, 2.2610482349970145, 0.673684214746933, 0.3855515807541555, -0.5870000829314124, -0.6238089402650726, 1.8241779691481275, 1.3040691198754766, 1.4022082707660175, -0.02802869965795411, -1.3025100590842051, 0.42446491321503954, -1.332092580693879, 0.24818581948371962, -0.5430116861802801, -0.25308285294068034, -0.7847086131345495, 0.09962225805782671, -0.4468545812432021, -1.3879365467126263, -1.8354406655645414, 0.20141758971530174, 0.6401032427603514, 0.16832901628415473, 0.3181880472684637, -0.5806466226491991, 0.6052428295290574, 2.367193516786903, -1.430962307666061, 1.322035884985864], \"yaxis\": \"y8\"}, {\"line\": {\"color\": \"rgba(128, 128, 128, 1.0)\", \"dash\": \"solid\", \"shape\": \"linear\", \"width\": 1.3}, \"marker\": {\"size\": 2, \"symbol\": \"circle\"}, \"mode\": \"markers\", \"name\": \"C\", \"text\": \"\", \"type\": \"scatter\", \"x\": [-0.39249119533846083, -1.3888802447524282, 0.9320187198753848, 0.694353564039704, 0.7344257361752629, -1.2230733342365738, -0.8244809005601621, 0.7162297255286217, 0.2165294575147262, -0.2408870384182345, 1.1114063553829503, 0.11623195119570866, 0.11865011429650428, 0.6419190655473598, 0.5924914375347973, -1.5309904914242096, -1.0144836912833508, 0.17787108284173206, 1.1945581244349286, 1.2415482353883005, -0.4112001758408989, 1.7949556218804894, 0.9533968117682318, -0.05388169104593645, 0.24708490471611128, 0.25877047914625495, 0.48537772746154373, -0.6316121968562575, 0.06979028490490342, 0.19179517799331644, -1.6389060193460128, 0.9568316005620361, 0.26717277970941045, -0.3026993847893387, 1.1358386331024715, 0.10544743176293345, -0.3299778399054059, 0.27100520046695425, 0.06640897537997871, 1.2022134310294064, -0.8275038600805332, -1.8297538154580024, 0.6949224280793794, -0.5453678996930036, 1.0511010453471554, 0.5928559996789496, -0.06112588854125373, -0.33259830544963653, -0.9095544388303258, -0.06519574555535969, -0.7396712807137552, -0.7972607228576862, 0.8992819989759496, -0.48843079131869044, 0.6247337472023909, -0.04368661259913243, 1.0707374155366922, -1.2750425970263084, -2.1286830059622077, -0.16041042808617528, 0.8995574231400747, -1.1093579889045484, 0.24647782191751233, 0.1622166523400865, -1.9262665166541684, -0.11425757020942486, 1.6970107669806103, -0.5660708839996262, -0.5255668865650605, -0.013986122764662883, -0.7297632456108951, 1.4244002945727672, -1.77433674788825, -0.5638562033370994, -0.5015545170673178, -1.5485746003489604, -0.42447048714593744, 0.5227658730223655, -1.5510798620613335, -0.4326482754580784, -0.19418294085652998, 2.320301562215529, 0.6421355412935974, 1.0132407626820426, 0.8751950847102844, 0.06786618667413867, -1.1957715770422013, -0.8756342227097039, 0.8339918704633829, -0.9198970809358937, -1.3972272495036677, 1.023120644082157, -1.457450824800944, -0.16951331764207347, -1.129058458402131, 2.127667416680669, -0.8176154890128692, 1.2109557386846754, -0.30743944371779625, 0.16609731130823885], \"xaxis\": \"x9\", \"y\": [1.262553816272815, -1.1312557642920869, -1.1781643467734917, -0.040049755965456645, 0.3775276948122276, -0.1835377139042649, 3.2845053496903334, -0.17001909195977002, 1.2723768678324126, 0.11515065592126898, -0.09795599482709719, -0.315118246635823, 0.1303795582218475, 0.1934309273749824, -0.15700279297617625, 0.1355005381328716, -0.36170610267805064, -0.7296906375113784, 0.967917008890089, 0.08101502544623371, -0.7121024219343551, 0.25150715334657064, 1.3207142931406897, -0.7640006693031689, -2.0419995307825802, 0.8557271987160892, -0.2667276886830243, 0.2556003823611708, -0.1404043230126173, 0.06946071379905819, -0.48265634382018247, 0.38991158300036804, 1.1514677316517041, 0.04327112231623401, 0.16999677247215608, -1.301362660406228, -0.4389181617111678, -0.2741905611165989, -0.8800900233876539, -1.1340494603714055, 0.6664892396325672, -1.8055961576689588, 1.321351407120175, 1.4250517922344206, 1.3472459104122083, -0.004453262139512292, 0.7490165419436738, 0.7194009489746745, -1.3110385371336761, -0.44112586565230005, -2.1706587330360105, -1.0409700261702066, -1.4548992791934483, -0.2549378491600471, 0.15441372440608092, 0.2971687002806099, -0.34980117477422745, -0.950796048165758, 0.8110675981560487, -0.47315604585092913, -0.6644216823215673, 0.18540603803740488, -1.1679486757592947, -0.9289797647673192, -1.7675116350142936, 0.8678474620139809, 2.0967793770906322, -0.08152292625404282, 0.2554994751702368, -0.4943892750842958, 1.270761433397232, -2.5825683776574135, -0.46722176713795577, 1.9218430644214242, 0.1089838289729727, 0.6945648693019376, 1.3355507057913318, -0.8645998266815484, 0.6898737364799554, -0.6081416493163475, -0.6789194788399318, 0.9008873933257342, 1.3601004837458617, -0.5920848140497326, -0.5917390162676318, -0.0666286771665744, -0.06253202279846254, 1.5049696631772043, -0.23985914874085418, -0.9898416201349332, -0.5967129176045103, -0.05223050061835646, -0.8017070028742392, 0.7027432376554948, -0.749255610086444, -0.6053289414724052, -1.3322298257831455, 0.1653817387832196, -1.4808261546521626, -1.6107761066626145], \"yaxis\": \"y9\"}, {\"line\": {\"color\": \"rgba(128, 128, 128, 1.0)\", \"dash\": \"solid\", \"shape\": \"linear\", \"width\": 1.3}, \"marker\": {\"size\": 2, \"symbol\": \"circle\"}, \"mode\": \"markers\", \"name\": \"C\", \"text\": \"\", \"type\": \"scatter\", \"x\": [0.10480144276968774, -2.2448421163275762, -0.10385752502981002, 0.07587343198180303, 0.8253080764609732, -0.46590149353816884, 1.720000398792707, 0.04699268025148138, 0.6888697082875861, -1.5391049448586651, 1.531707361237052, -0.09993967946466119, -1.254504242294646, -1.2205349028615027, 1.0727852640083417, 2.567033067274972, -0.6521242358147255, 1.18401797836042, 0.5975387129010653, 1.1964442867936949, 2.160759870882936, -0.08331842428728174, -1.5832430789407055, -0.47278583853194756, -0.8189897202884268, 0.5523291035570072, 0.6360732149381493, 0.6078394093485547, -1.524513836860753, 0.019809751507857323, 0.36345148832240715, 0.5229061031796399, -1.397573910854617, 0.5051465500992074, 2.74628313657978, 0.8120454689264269, -1.2650901112701955, 1.232961382327399, -0.3204634182661983, 1.7667021889194712, -0.5183017375342086, 0.9557565205566079, -0.8086490205068385, -0.45212422534360897, 1.2309789313304136, -1.3160441618070073, -2.0787989453683213, -0.2514029947741344, 0.9867684647074665, -2.1990333320540243, -0.34497633052762716, 0.8639628692687408, -0.21389997301921213, 1.0066686519064196, 0.015285295518240219, 0.16553727871273421, -0.3422559844465687, 0.18582729884952723, -0.5185663434101322, 0.18913410433325986, 0.39113332341307633, -0.18854993521329608, -0.14869197202417253, -1.1771622810743556, 1.3307583915936658, -1.0811490526736167, 1.0091713921321324, -0.04562912974048219, -0.44860879206069726, -0.875699653930691, -0.9595772536161237, 2.2610482349970145, 0.673684214746933, 0.3855515807541555, -0.5870000829314124, -0.6238089402650726, 1.8241779691481275, 1.3040691198754766, 1.4022082707660175, -0.02802869965795411, -1.3025100590842051, 0.42446491321503954, -1.332092580693879, 0.24818581948371962, -0.5430116861802801, -0.25308285294068034, -0.7847086131345495, 0.09962225805782671, -0.4468545812432021, -1.3879365467126263, -1.8354406655645414, 0.20141758971530174, 0.6401032427603514, 0.16832901628415473, 0.3181880472684637, -0.5806466226491991, 0.6052428295290574, 2.367193516786903, -1.430962307666061, 1.322035884985864], \"xaxis\": \"x10\", \"y\": [1.262553816272815, -1.1312557642920869, -1.1781643467734917, -0.040049755965456645, 0.3775276948122276, -0.1835377139042649, 3.2845053496903334, -0.17001909195977002, 1.2723768678324126, 0.11515065592126898, -0.09795599482709719, -0.315118246635823, 0.1303795582218475, 0.1934309273749824, -0.15700279297617625, 0.1355005381328716, -0.36170610267805064, -0.7296906375113784, 0.967917008890089, 0.08101502544623371, -0.7121024219343551, 0.25150715334657064, 1.3207142931406897, -0.7640006693031689, -2.0419995307825802, 0.8557271987160892, -0.2667276886830243, 0.2556003823611708, -0.1404043230126173, 0.06946071379905819, -0.48265634382018247, 0.38991158300036804, 1.1514677316517041, 0.04327112231623401, 0.16999677247215608, -1.301362660406228, -0.4389181617111678, -0.2741905611165989, -0.8800900233876539, -1.1340494603714055, 0.6664892396325672, -1.8055961576689588, 1.321351407120175, 1.4250517922344206, 1.3472459104122083, -0.004453262139512292, 0.7490165419436738, 0.7194009489746745, -1.3110385371336761, -0.44112586565230005, -2.1706587330360105, -1.0409700261702066, -1.4548992791934483, -0.2549378491600471, 0.15441372440608092, 0.2971687002806099, -0.34980117477422745, -0.950796048165758, 0.8110675981560487, -0.47315604585092913, -0.6644216823215673, 0.18540603803740488, -1.1679486757592947, -0.9289797647673192, -1.7675116350142936, 0.8678474620139809, 2.0967793770906322, -0.08152292625404282, 0.2554994751702368, -0.4943892750842958, 1.270761433397232, -2.5825683776574135, -0.46722176713795577, 1.9218430644214242, 0.1089838289729727, 0.6945648693019376, 1.3355507057913318, -0.8645998266815484, 0.6898737364799554, -0.6081416493163475, -0.6789194788399318, 0.9008873933257342, 1.3601004837458617, -0.5920848140497326, -0.5917390162676318, -0.0666286771665744, -0.06253202279846254, 1.5049696631772043, -0.23985914874085418, -0.9898416201349332, -0.5967129176045103, -0.05223050061835646, -0.8017070028742392, 0.7027432376554948, -0.749255610086444, -0.6053289414724052, -1.3322298257831455, 0.1653817387832196, -1.4808261546521626, -1.6107761066626145], \"yaxis\": \"y10\"}, {\"histfunc\": \"count\", \"histnorm\": \"\", \"marker\": {\"color\": \"rgba(50, 171, 96, 1.0)\", \"line\": {\"color\": \"#4D5663\", \"width\": 1.3}}, \"name\": \"C\", \"nbinsx\": 10, \"opacity\": 0.8, \"orientation\": \"v\", \"type\": \"histogram\", \"x\": [1.262553816272815, -1.1312557642920869, -1.1781643467734917, -0.040049755965456645, 0.3775276948122276, -0.1835377139042649, 3.2845053496903334, -0.17001909195977002, 1.2723768678324126, 0.11515065592126898, -0.09795599482709719, -0.315118246635823, 0.1303795582218475, 0.1934309273749824, -0.15700279297617625, 0.1355005381328716, -0.36170610267805064, -0.7296906375113784, 0.967917008890089, 0.08101502544623371, -0.7121024219343551, 0.25150715334657064, 1.3207142931406897, -0.7640006693031689, -2.0419995307825802, 0.8557271987160892, -0.2667276886830243, 0.2556003823611708, -0.1404043230126173, 0.06946071379905819, -0.48265634382018247, 0.38991158300036804, 1.1514677316517041, 0.04327112231623401, 0.16999677247215608, -1.301362660406228, -0.4389181617111678, -0.2741905611165989, -0.8800900233876539, -1.1340494603714055, 0.6664892396325672, -1.8055961576689588, 1.321351407120175, 1.4250517922344206, 1.3472459104122083, -0.004453262139512292, 0.7490165419436738, 0.7194009489746745, -1.3110385371336761, -0.44112586565230005, -2.1706587330360105, -1.0409700261702066, -1.4548992791934483, -0.2549378491600471, 0.15441372440608092, 0.2971687002806099, -0.34980117477422745, -0.950796048165758, 0.8110675981560487, -0.47315604585092913, -0.6644216823215673, 0.18540603803740488, -1.1679486757592947, -0.9289797647673192, -1.7675116350142936, 0.8678474620139809, 2.0967793770906322, -0.08152292625404282, 0.2554994751702368, -0.4943892750842958, 1.270761433397232, -2.5825683776574135, -0.46722176713795577, 1.9218430644214242, 0.1089838289729727, 0.6945648693019376, 1.3355507057913318, -0.8645998266815484, 0.6898737364799554, -0.6081416493163475, -0.6789194788399318, 0.9008873933257342, 1.3601004837458617, -0.5920848140497326, -0.5917390162676318, -0.0666286771665744, -0.06253202279846254, 1.5049696631772043, -0.23985914874085418, -0.9898416201349332, -0.5967129176045103, -0.05223050061835646, -0.8017070028742392, 0.7027432376554948, -0.749255610086444, -0.6053289414724052, -1.3322298257831455, 0.1653817387832196, -1.4808261546521626, -1.6107761066626145], \"xaxis\": \"x11\", \"yaxis\": \"y11\"}, {\"line\": {\"color\": \"rgba(128, 128, 128, 1.0)\", \"dash\": \"solid\", \"shape\": \"linear\", \"width\": 1.3}, \"marker\": {\"size\": 2, \"symbol\": \"circle\"}, \"mode\": \"markers\", \"name\": \"C\", \"text\": \"\", \"type\": \"scatter\", \"x\": [-1.5358627875003739, 0.06548290336662309, -0.8079937212589396, -0.6440551079816648, -0.040769064291493434, 0.18714145228738116, -0.054901915594329616, -0.3643694822485636, 1.146609059044325, 1.0192292972838897, 0.895097874011055, -2.383937229455519, -2.542843656486311, 1.2960827540249615, 1.0723567212065517, -0.6507274922468583, -0.29293379375665585, 0.3460315198837977, -0.09962138708788137, 1.1939042771345394, -0.47218918626376266, -1.62969939297132, -0.5566240014855384, -0.24481130346445587, 0.562605618427525, -0.8482663035942708, -0.670587067739321, -2.3318080258655596, -0.615926835103948, 0.3210035162003755, 1.031682174420211, 0.6254573040796039, 0.9372397290889352, -0.9757589876634554, -1.1100950292047358, 0.5066657285885308, -1.2420928695653852, -0.42320781681759534, -0.5218466201269218, -0.050456628261667455, -0.8296913187279658, -1.3290266063019278, -1.4775658985607254, -0.8781983454919082, 0.9879607729666382, 1.016597645161363, 0.369600471833716, -0.883274953133442, -1.2952266725962698, -0.24594961730833692, -0.2741775354424396, 0.03204721204159266, 0.5580925732828539, -0.36955433697025497, -0.9799433295112487, 0.07598562686524854, -0.30926100523398176, 1.8001282128534324, -0.09616649611101727, -0.9095300492922991, -0.8747134737168203, 0.7287346795419107, 0.8896795463867703, -0.13183711628422762, 1.5212968665174014, -0.10200381107198399, -0.027319829348091886, -0.18124818094030268, -0.5983209667738654, 1.1896826215735987, -1.460386729170942, 1.110808064789999, 0.024611131521987014, 0.6949332321192025, -0.9332432718000083, 0.6927311054497955, -0.0428582712371396, -0.6085795683215991, 0.8675058278177395, 1.2217752261253048, 0.6725150690847547, 0.38187648956293124, -0.3249963627140331, -0.8953924669590061, -0.6843153532339907, 0.615350101819938, 0.6526633943573716, -0.6110226975148664, -0.5440619610659326, -1.2287517540107722, 0.4336478708056217, -0.25584838718160796, 0.27413404970423416, -0.03315047515053486, 0.006506711124766794, -0.01964487911993876, -0.7686623781963896, -0.6975844031157828, -0.04654454869085646, -0.10655674043640209], \"xaxis\": \"x12\", \"y\": [1.262553816272815, -1.1312557642920869, -1.1781643467734917, -0.040049755965456645, 0.3775276948122276, -0.1835377139042649, 3.2845053496903334, -0.17001909195977002, 1.2723768678324126, 0.11515065592126898, -0.09795599482709719, -0.315118246635823, 0.1303795582218475, 0.1934309273749824, -0.15700279297617625, 0.1355005381328716, -0.36170610267805064, -0.7296906375113784, 0.967917008890089, 0.08101502544623371, -0.7121024219343551, 0.25150715334657064, 1.3207142931406897, -0.7640006693031689, -2.0419995307825802, 0.8557271987160892, -0.2667276886830243, 0.2556003823611708, -0.1404043230126173, 0.06946071379905819, -0.48265634382018247, 0.38991158300036804, 1.1514677316517041, 0.04327112231623401, 0.16999677247215608, -1.301362660406228, -0.4389181617111678, -0.2741905611165989, -0.8800900233876539, -1.1340494603714055, 0.6664892396325672, -1.8055961576689588, 1.321351407120175, 1.4250517922344206, 1.3472459104122083, -0.004453262139512292, 0.7490165419436738, 0.7194009489746745, -1.3110385371336761, -0.44112586565230005, -2.1706587330360105, -1.0409700261702066, -1.4548992791934483, -0.2549378491600471, 0.15441372440608092, 0.2971687002806099, -0.34980117477422745, -0.950796048165758, 0.8110675981560487, -0.47315604585092913, -0.6644216823215673, 0.18540603803740488, -1.1679486757592947, -0.9289797647673192, -1.7675116350142936, 0.8678474620139809, 2.0967793770906322, -0.08152292625404282, 0.2554994751702368, -0.4943892750842958, 1.270761433397232, -2.5825683776574135, -0.46722176713795577, 1.9218430644214242, 0.1089838289729727, 0.6945648693019376, 1.3355507057913318, -0.8645998266815484, 0.6898737364799554, -0.6081416493163475, -0.6789194788399318, 0.9008873933257342, 1.3601004837458617, -0.5920848140497326, -0.5917390162676318, -0.0666286771665744, -0.06253202279846254, 1.5049696631772043, -0.23985914874085418, -0.9898416201349332, -0.5967129176045103, -0.05223050061835646, -0.8017070028742392, 0.7027432376554948, -0.749255610086444, -0.6053289414724052, -1.3322298257831455, 0.1653817387832196, -1.4808261546521626, -1.6107761066626145], \"yaxis\": \"y12\"}, {\"line\": {\"color\": \"rgba(128, 128, 128, 1.0)\", \"dash\": \"solid\", \"shape\": \"linear\", \"width\": 1.3}, \"marker\": {\"size\": 2, \"symbol\": \"circle\"}, \"mode\": \"markers\", \"name\": \"D\", \"text\": \"\", \"type\": \"scatter\", \"x\": [-0.39249119533846083, -1.3888802447524282, 0.9320187198753848, 0.694353564039704, 0.7344257361752629, -1.2230733342365738, -0.8244809005601621, 0.7162297255286217, 0.2165294575147262, -0.2408870384182345, 1.1114063553829503, 0.11623195119570866, 0.11865011429650428, 0.6419190655473598, 0.5924914375347973, -1.5309904914242096, -1.0144836912833508, 0.17787108284173206, 1.1945581244349286, 1.2415482353883005, -0.4112001758408989, 1.7949556218804894, 0.9533968117682318, -0.05388169104593645, 0.24708490471611128, 0.25877047914625495, 0.48537772746154373, -0.6316121968562575, 0.06979028490490342, 0.19179517799331644, -1.6389060193460128, 0.9568316005620361, 0.26717277970941045, -0.3026993847893387, 1.1358386331024715, 0.10544743176293345, -0.3299778399054059, 0.27100520046695425, 0.06640897537997871, 1.2022134310294064, -0.8275038600805332, -1.8297538154580024, 0.6949224280793794, -0.5453678996930036, 1.0511010453471554, 0.5928559996789496, -0.06112588854125373, -0.33259830544963653, -0.9095544388303258, -0.06519574555535969, -0.7396712807137552, -0.7972607228576862, 0.8992819989759496, -0.48843079131869044, 0.6247337472023909, -0.04368661259913243, 1.0707374155366922, -1.2750425970263084, -2.1286830059622077, -0.16041042808617528, 0.8995574231400747, -1.1093579889045484, 0.24647782191751233, 0.1622166523400865, -1.9262665166541684, -0.11425757020942486, 1.6970107669806103, -0.5660708839996262, -0.5255668865650605, -0.013986122764662883, -0.7297632456108951, 1.4244002945727672, -1.77433674788825, -0.5638562033370994, -0.5015545170673178, -1.5485746003489604, -0.42447048714593744, 0.5227658730223655, -1.5510798620613335, -0.4326482754580784, -0.19418294085652998, 2.320301562215529, 0.6421355412935974, 1.0132407626820426, 0.8751950847102844, 0.06786618667413867, -1.1957715770422013, -0.8756342227097039, 0.8339918704633829, -0.9198970809358937, -1.3972272495036677, 1.023120644082157, -1.457450824800944, -0.16951331764207347, -1.129058458402131, 2.127667416680669, -0.8176154890128692, 1.2109557386846754, -0.30743944371779625, 0.16609731130823885], \"xaxis\": \"x13\", \"y\": [-1.5358627875003739, 0.06548290336662309, -0.8079937212589396, -0.6440551079816648, -0.040769064291493434, 0.18714145228738116, -0.054901915594329616, -0.3643694822485636, 1.146609059044325, 1.0192292972838897, 0.895097874011055, -2.383937229455519, -2.542843656486311, 1.2960827540249615, 1.0723567212065517, -0.6507274922468583, -0.29293379375665585, 0.3460315198837977, -0.09962138708788137, 1.1939042771345394, -0.47218918626376266, -1.62969939297132, -0.5566240014855384, -0.24481130346445587, 0.562605618427525, -0.8482663035942708, -0.670587067739321, -2.3318080258655596, -0.615926835103948, 0.3210035162003755, 1.031682174420211, 0.6254573040796039, 0.9372397290889352, -0.9757589876634554, -1.1100950292047358, 0.5066657285885308, -1.2420928695653852, -0.42320781681759534, -0.5218466201269218, -0.050456628261667455, -0.8296913187279658, -1.3290266063019278, -1.4775658985607254, -0.8781983454919082, 0.9879607729666382, 1.016597645161363, 0.369600471833716, -0.883274953133442, -1.2952266725962698, -0.24594961730833692, -0.2741775354424396, 0.03204721204159266, 0.5580925732828539, -0.36955433697025497, -0.9799433295112487, 0.07598562686524854, -0.30926100523398176, 1.8001282128534324, -0.09616649611101727, -0.9095300492922991, -0.8747134737168203, 0.7287346795419107, 0.8896795463867703, -0.13183711628422762, 1.5212968665174014, -0.10200381107198399, -0.027319829348091886, -0.18124818094030268, -0.5983209667738654, 1.1896826215735987, -1.460386729170942, 1.110808064789999, 0.024611131521987014, 0.6949332321192025, -0.9332432718000083, 0.6927311054497955, -0.0428582712371396, -0.6085795683215991, 0.8675058278177395, 1.2217752261253048, 0.6725150690847547, 0.38187648956293124, -0.3249963627140331, -0.8953924669590061, -0.6843153532339907, 0.615350101819938, 0.6526633943573716, -0.6110226975148664, -0.5440619610659326, -1.2287517540107722, 0.4336478708056217, -0.25584838718160796, 0.27413404970423416, -0.03315047515053486, 0.006506711124766794, -0.01964487911993876, -0.7686623781963896, -0.6975844031157828, -0.04654454869085646, -0.10655674043640209], \"yaxis\": \"y13\"}, {\"line\": {\"color\": \"rgba(128, 128, 128, 1.0)\", \"dash\": \"solid\", \"shape\": \"linear\", \"width\": 1.3}, \"marker\": {\"size\": 2, \"symbol\": \"circle\"}, \"mode\": \"markers\", \"name\": \"D\", \"text\": \"\", \"type\": \"scatter\", \"x\": [0.10480144276968774, -2.2448421163275762, -0.10385752502981002, 0.07587343198180303, 0.8253080764609732, -0.46590149353816884, 1.720000398792707, 0.04699268025148138, 0.6888697082875861, -1.5391049448586651, 1.531707361237052, -0.09993967946466119, -1.254504242294646, -1.2205349028615027, 1.0727852640083417, 2.567033067274972, -0.6521242358147255, 1.18401797836042, 0.5975387129010653, 1.1964442867936949, 2.160759870882936, -0.08331842428728174, -1.5832430789407055, -0.47278583853194756, -0.8189897202884268, 0.5523291035570072, 0.6360732149381493, 0.6078394093485547, -1.524513836860753, 0.019809751507857323, 0.36345148832240715, 0.5229061031796399, -1.397573910854617, 0.5051465500992074, 2.74628313657978, 0.8120454689264269, -1.2650901112701955, 1.232961382327399, -0.3204634182661983, 1.7667021889194712, -0.5183017375342086, 0.9557565205566079, -0.8086490205068385, -0.45212422534360897, 1.2309789313304136, -1.3160441618070073, -2.0787989453683213, -0.2514029947741344, 0.9867684647074665, -2.1990333320540243, -0.34497633052762716, 0.8639628692687408, -0.21389997301921213, 1.0066686519064196, 0.015285295518240219, 0.16553727871273421, -0.3422559844465687, 0.18582729884952723, -0.5185663434101322, 0.18913410433325986, 0.39113332341307633, -0.18854993521329608, -0.14869197202417253, -1.1771622810743556, 1.3307583915936658, -1.0811490526736167, 1.0091713921321324, -0.04562912974048219, -0.44860879206069726, -0.875699653930691, -0.9595772536161237, 2.2610482349970145, 0.673684214746933, 0.3855515807541555, -0.5870000829314124, -0.6238089402650726, 1.8241779691481275, 1.3040691198754766, 1.4022082707660175, -0.02802869965795411, -1.3025100590842051, 0.42446491321503954, -1.332092580693879, 0.24818581948371962, -0.5430116861802801, -0.25308285294068034, -0.7847086131345495, 0.09962225805782671, -0.4468545812432021, -1.3879365467126263, -1.8354406655645414, 0.20141758971530174, 0.6401032427603514, 0.16832901628415473, 0.3181880472684637, -0.5806466226491991, 0.6052428295290574, 2.367193516786903, -1.430962307666061, 1.322035884985864], \"xaxis\": \"x14\", \"y\": [-1.5358627875003739, 0.06548290336662309, -0.8079937212589396, -0.6440551079816648, -0.040769064291493434, 0.18714145228738116, -0.054901915594329616, -0.3643694822485636, 1.146609059044325, 1.0192292972838897, 0.895097874011055, -2.383937229455519, -2.542843656486311, 1.2960827540249615, 1.0723567212065517, -0.6507274922468583, -0.29293379375665585, 0.3460315198837977, -0.09962138708788137, 1.1939042771345394, -0.47218918626376266, -1.62969939297132, -0.5566240014855384, -0.24481130346445587, 0.562605618427525, -0.8482663035942708, -0.670587067739321, -2.3318080258655596, -0.615926835103948, 0.3210035162003755, 1.031682174420211, 0.6254573040796039, 0.9372397290889352, -0.9757589876634554, -1.1100950292047358, 0.5066657285885308, -1.2420928695653852, -0.42320781681759534, -0.5218466201269218, -0.050456628261667455, -0.8296913187279658, -1.3290266063019278, -1.4775658985607254, -0.8781983454919082, 0.9879607729666382, 1.016597645161363, 0.369600471833716, -0.883274953133442, -1.2952266725962698, -0.24594961730833692, -0.2741775354424396, 0.03204721204159266, 0.5580925732828539, -0.36955433697025497, -0.9799433295112487, 0.07598562686524854, -0.30926100523398176, 1.8001282128534324, -0.09616649611101727, -0.9095300492922991, -0.8747134737168203, 0.7287346795419107, 0.8896795463867703, -0.13183711628422762, 1.5212968665174014, -0.10200381107198399, -0.027319829348091886, -0.18124818094030268, -0.5983209667738654, 1.1896826215735987, -1.460386729170942, 1.110808064789999, 0.024611131521987014, 0.6949332321192025, -0.9332432718000083, 0.6927311054497955, -0.0428582712371396, -0.6085795683215991, 0.8675058278177395, 1.2217752261253048, 0.6725150690847547, 0.38187648956293124, -0.3249963627140331, -0.8953924669590061, -0.6843153532339907, 0.615350101819938, 0.6526633943573716, -0.6110226975148664, -0.5440619610659326, -1.2287517540107722, 0.4336478708056217, -0.25584838718160796, 0.27413404970423416, -0.03315047515053486, 0.006506711124766794, -0.01964487911993876, -0.7686623781963896, -0.6975844031157828, -0.04654454869085646, -0.10655674043640209], \"yaxis\": \"y14\"}, {\"line\": {\"color\": \"rgba(128, 128, 128, 1.0)\", \"dash\": \"solid\", \"shape\": \"linear\", \"width\": 1.3}, \"marker\": {\"size\": 2, \"symbol\": \"circle\"}, \"mode\": \"markers\", \"name\": \"D\", \"text\": \"\", \"type\": \"scatter\", \"x\": [1.262553816272815, -1.1312557642920869, -1.1781643467734917, -0.040049755965456645, 0.3775276948122276, -0.1835377139042649, 3.2845053496903334, -0.17001909195977002, 1.2723768678324126, 0.11515065592126898, -0.09795599482709719, -0.315118246635823, 0.1303795582218475, 0.1934309273749824, -0.15700279297617625, 0.1355005381328716, -0.36170610267805064, -0.7296906375113784, 0.967917008890089, 0.08101502544623371, -0.7121024219343551, 0.25150715334657064, 1.3207142931406897, -0.7640006693031689, -2.0419995307825802, 0.8557271987160892, -0.2667276886830243, 0.2556003823611708, -0.1404043230126173, 0.06946071379905819, -0.48265634382018247, 0.38991158300036804, 1.1514677316517041, 0.04327112231623401, 0.16999677247215608, -1.301362660406228, -0.4389181617111678, -0.2741905611165989, -0.8800900233876539, -1.1340494603714055, 0.6664892396325672, -1.8055961576689588, 1.321351407120175, 1.4250517922344206, 1.3472459104122083, -0.004453262139512292, 0.7490165419436738, 0.7194009489746745, -1.3110385371336761, -0.44112586565230005, -2.1706587330360105, -1.0409700261702066, -1.4548992791934483, -0.2549378491600471, 0.15441372440608092, 0.2971687002806099, -0.34980117477422745, -0.950796048165758, 0.8110675981560487, -0.47315604585092913, -0.6644216823215673, 0.18540603803740488, -1.1679486757592947, -0.9289797647673192, -1.7675116350142936, 0.8678474620139809, 2.0967793770906322, -0.08152292625404282, 0.2554994751702368, -0.4943892750842958, 1.270761433397232, -2.5825683776574135, -0.46722176713795577, 1.9218430644214242, 0.1089838289729727, 0.6945648693019376, 1.3355507057913318, -0.8645998266815484, 0.6898737364799554, -0.6081416493163475, -0.6789194788399318, 0.9008873933257342, 1.3601004837458617, -0.5920848140497326, -0.5917390162676318, -0.0666286771665744, -0.06253202279846254, 1.5049696631772043, -0.23985914874085418, -0.9898416201349332, -0.5967129176045103, -0.05223050061835646, -0.8017070028742392, 0.7027432376554948, -0.749255610086444, -0.6053289414724052, -1.3322298257831455, 0.1653817387832196, -1.4808261546521626, -1.6107761066626145], \"xaxis\": \"x15\", \"y\": [-1.5358627875003739, 0.06548290336662309, -0.8079937212589396, -0.6440551079816648, -0.040769064291493434, 0.18714145228738116, -0.054901915594329616, -0.3643694822485636, 1.146609059044325, 1.0192292972838897, 0.895097874011055, -2.383937229455519, -2.542843656486311, 1.2960827540249615, 1.0723567212065517, -0.6507274922468583, -0.29293379375665585, 0.3460315198837977, -0.09962138708788137, 1.1939042771345394, -0.47218918626376266, -1.62969939297132, -0.5566240014855384, -0.24481130346445587, 0.562605618427525, -0.8482663035942708, -0.670587067739321, -2.3318080258655596, -0.615926835103948, 0.3210035162003755, 1.031682174420211, 0.6254573040796039, 0.9372397290889352, -0.9757589876634554, -1.1100950292047358, 0.5066657285885308, -1.2420928695653852, -0.42320781681759534, -0.5218466201269218, -0.050456628261667455, -0.8296913187279658, -1.3290266063019278, -1.4775658985607254, -0.8781983454919082, 0.9879607729666382, 1.016597645161363, 0.369600471833716, -0.883274953133442, -1.2952266725962698, -0.24594961730833692, -0.2741775354424396, 0.03204721204159266, 0.5580925732828539, -0.36955433697025497, -0.9799433295112487, 0.07598562686524854, -0.30926100523398176, 1.8001282128534324, -0.09616649611101727, -0.9095300492922991, -0.8747134737168203, 0.7287346795419107, 0.8896795463867703, -0.13183711628422762, 1.5212968665174014, -0.10200381107198399, -0.027319829348091886, -0.18124818094030268, -0.5983209667738654, 1.1896826215735987, -1.460386729170942, 1.110808064789999, 0.024611131521987014, 0.6949332321192025, -0.9332432718000083, 0.6927311054497955, -0.0428582712371396, -0.6085795683215991, 0.8675058278177395, 1.2217752261253048, 0.6725150690847547, 0.38187648956293124, -0.3249963627140331, -0.8953924669590061, -0.6843153532339907, 0.615350101819938, 0.6526633943573716, -0.6110226975148664, -0.5440619610659326, -1.2287517540107722, 0.4336478708056217, -0.25584838718160796, 0.27413404970423416, -0.03315047515053486, 0.006506711124766794, -0.01964487911993876, -0.7686623781963896, -0.6975844031157828, -0.04654454869085646, -0.10655674043640209], \"yaxis\": \"y15\"}, {\"histfunc\": \"count\", \"histnorm\": \"\", \"marker\": {\"color\": \"rgba(128, 0, 128, 1.0)\", \"line\": {\"color\": \"#4D5663\", \"width\": 1.3}}, \"name\": \"D\", \"nbinsx\": 10, \"opacity\": 0.8, \"orientation\": \"v\", \"type\": \"histogram\", \"x\": [-1.5358627875003739, 0.06548290336662309, -0.8079937212589396, -0.6440551079816648, -0.040769064291493434, 0.18714145228738116, -0.054901915594329616, -0.3643694822485636, 1.146609059044325, 1.0192292972838897, 0.895097874011055, -2.383937229455519, -2.542843656486311, 1.2960827540249615, 1.0723567212065517, -0.6507274922468583, -0.29293379375665585, 0.3460315198837977, -0.09962138708788137, 1.1939042771345394, -0.47218918626376266, -1.62969939297132, -0.5566240014855384, -0.24481130346445587, 0.562605618427525, -0.8482663035942708, -0.670587067739321, -2.3318080258655596, -0.615926835103948, 0.3210035162003755, 1.031682174420211, 0.6254573040796039, 0.9372397290889352, -0.9757589876634554, -1.1100950292047358, 0.5066657285885308, -1.2420928695653852, -0.42320781681759534, -0.5218466201269218, -0.050456628261667455, -0.8296913187279658, -1.3290266063019278, -1.4775658985607254, -0.8781983454919082, 0.9879607729666382, 1.016597645161363, 0.369600471833716, -0.883274953133442, -1.2952266725962698, -0.24594961730833692, -0.2741775354424396, 0.03204721204159266, 0.5580925732828539, -0.36955433697025497, -0.9799433295112487, 0.07598562686524854, -0.30926100523398176, 1.8001282128534324, -0.09616649611101727, -0.9095300492922991, -0.8747134737168203, 0.7287346795419107, 0.8896795463867703, -0.13183711628422762, 1.5212968665174014, -0.10200381107198399, -0.027319829348091886, -0.18124818094030268, -0.5983209667738654, 1.1896826215735987, -1.460386729170942, 1.110808064789999, 0.024611131521987014, 0.6949332321192025, -0.9332432718000083, 0.6927311054497955, -0.0428582712371396, -0.6085795683215991, 0.8675058278177395, 1.2217752261253048, 0.6725150690847547, 0.38187648956293124, -0.3249963627140331, -0.8953924669590061, -0.6843153532339907, 0.615350101819938, 0.6526633943573716, -0.6110226975148664, -0.5440619610659326, -1.2287517540107722, 0.4336478708056217, -0.25584838718160796, 0.27413404970423416, -0.03315047515053486, 0.006506711124766794, -0.01964487911993876, -0.7686623781963896, -0.6975844031157828, -0.04654454869085646, -0.10655674043640209], \"xaxis\": \"x16\", \"yaxis\": \"y16\"}],                        {\"bargap\": 0.02, \"legend\": {\"bgcolor\": \"#F5F6F9\", \"font\": {\"color\": \"#4D5663\"}}, \"paper_bgcolor\": \"#F5F6F9\", \"plot_bgcolor\": \"#F5F6F9\", \"showlegend\": false, \"template\": {\"data\": {\"bar\": [{\"error_x\": {\"color\": \"#2a3f5f\"}, \"error_y\": {\"color\": \"#2a3f5f\"}, \"marker\": {\"line\": {\"color\": \"#E5ECF6\", \"width\": 0.5}}, \"type\": \"bar\"}], \"barpolar\": [{\"marker\": {\"line\": {\"color\": \"#E5ECF6\", \"width\": 0.5}}, \"type\": \"barpolar\"}], \"carpet\": [{\"aaxis\": {\"endlinecolor\": \"#2a3f5f\", \"gridcolor\": \"white\", \"linecolor\": \"white\", \"minorgridcolor\": \"white\", \"startlinecolor\": \"#2a3f5f\"}, \"baxis\": {\"endlinecolor\": \"#2a3f5f\", \"gridcolor\": \"white\", \"linecolor\": \"white\", \"minorgridcolor\": \"white\", \"startlinecolor\": \"#2a3f5f\"}, \"type\": \"carpet\"}], \"choropleth\": [{\"colorbar\": {\"outlinewidth\": 0, \"ticks\": \"\"}, \"type\": \"choropleth\"}], \"contour\": [{\"colorbar\": {\"outlinewidth\": 0, \"ticks\": \"\"}, \"colorscale\": [[0.0, \"#0d0887\"], [0.1111111111111111, \"#46039f\"], [0.2222222222222222, \"#7201a8\"], [0.3333333333333333, \"#9c179e\"], [0.4444444444444444, \"#bd3786\"], [0.5555555555555556, \"#d8576b\"], [0.6666666666666666, \"#ed7953\"], [0.7777777777777778, \"#fb9f3a\"], [0.8888888888888888, \"#fdca26\"], [1.0, \"#f0f921\"]], \"type\": \"contour\"}], \"contourcarpet\": [{\"colorbar\": {\"outlinewidth\": 0, \"ticks\": \"\"}, \"type\": \"contourcarpet\"}], \"heatmap\": [{\"colorbar\": {\"outlinewidth\": 0, \"ticks\": \"\"}, \"colorscale\": [[0.0, \"#0d0887\"], [0.1111111111111111, \"#46039f\"], [0.2222222222222222, \"#7201a8\"], [0.3333333333333333, \"#9c179e\"], [0.4444444444444444, \"#bd3786\"], [0.5555555555555556, \"#d8576b\"], [0.6666666666666666, \"#ed7953\"], [0.7777777777777778, \"#fb9f3a\"], [0.8888888888888888, \"#fdca26\"], [1.0, \"#f0f921\"]], \"type\": \"heatmap\"}], \"heatmapgl\": [{\"colorbar\": {\"outlinewidth\": 0, \"ticks\": \"\"}, \"colorscale\": [[0.0, \"#0d0887\"], [0.1111111111111111, \"#46039f\"], [0.2222222222222222, \"#7201a8\"], [0.3333333333333333, \"#9c179e\"], [0.4444444444444444, \"#bd3786\"], [0.5555555555555556, \"#d8576b\"], [0.6666666666666666, \"#ed7953\"], [0.7777777777777778, \"#fb9f3a\"], [0.8888888888888888, \"#fdca26\"], [1.0, \"#f0f921\"]], \"type\": \"heatmapgl\"}], \"histogram\": [{\"marker\": {\"colorbar\": {\"outlinewidth\": 0, \"ticks\": \"\"}}, \"type\": \"histogram\"}], \"histogram2d\": [{\"colorbar\": {\"outlinewidth\": 0, \"ticks\": \"\"}, \"colorscale\": [[0.0, \"#0d0887\"], [0.1111111111111111, \"#46039f\"], [0.2222222222222222, \"#7201a8\"], [0.3333333333333333, \"#9c179e\"], [0.4444444444444444, \"#bd3786\"], [0.5555555555555556, \"#d8576b\"], [0.6666666666666666, \"#ed7953\"], [0.7777777777777778, \"#fb9f3a\"], [0.8888888888888888, \"#fdca26\"], [1.0, \"#f0f921\"]], \"type\": \"histogram2d\"}], \"histogram2dcontour\": [{\"colorbar\": {\"outlinewidth\": 0, \"ticks\": \"\"}, \"colorscale\": [[0.0, \"#0d0887\"], [0.1111111111111111, \"#46039f\"], [0.2222222222222222, \"#7201a8\"], [0.3333333333333333, \"#9c179e\"], [0.4444444444444444, \"#bd3786\"], [0.5555555555555556, \"#d8576b\"], [0.6666666666666666, \"#ed7953\"], [0.7777777777777778, \"#fb9f3a\"], [0.8888888888888888, \"#fdca26\"], [1.0, \"#f0f921\"]], \"type\": \"histogram2dcontour\"}], \"mesh3d\": [{\"colorbar\": {\"outlinewidth\": 0, \"ticks\": \"\"}, \"type\": \"mesh3d\"}], \"parcoords\": [{\"line\": {\"colorbar\": {\"outlinewidth\": 0, \"ticks\": \"\"}}, \"type\": \"parcoords\"}], \"pie\": [{\"automargin\": true, \"type\": \"pie\"}], \"scatter\": [{\"marker\": {\"colorbar\": {\"outlinewidth\": 0, \"ticks\": \"\"}}, \"type\": \"scatter\"}], \"scatter3d\": [{\"line\": {\"colorbar\": {\"outlinewidth\": 0, \"ticks\": \"\"}}, \"marker\": {\"colorbar\": {\"outlinewidth\": 0, \"ticks\": \"\"}}, \"type\": \"scatter3d\"}], \"scattercarpet\": [{\"marker\": {\"colorbar\": {\"outlinewidth\": 0, \"ticks\": \"\"}}, \"type\": \"scattercarpet\"}], \"scattergeo\": [{\"marker\": {\"colorbar\": {\"outlinewidth\": 0, \"ticks\": \"\"}}, \"type\": \"scattergeo\"}], \"scattergl\": [{\"marker\": {\"colorbar\": {\"outlinewidth\": 0, \"ticks\": \"\"}}, \"type\": \"scattergl\"}], \"scattermapbox\": [{\"marker\": {\"colorbar\": {\"outlinewidth\": 0, \"ticks\": \"\"}}, \"type\": \"scattermapbox\"}], \"scatterpolar\": [{\"marker\": {\"colorbar\": {\"outlinewidth\": 0, \"ticks\": \"\"}}, \"type\": \"scatterpolar\"}], \"scatterpolargl\": [{\"marker\": {\"colorbar\": {\"outlinewidth\": 0, \"ticks\": \"\"}}, \"type\": \"scatterpolargl\"}], \"scatterternary\": [{\"marker\": {\"colorbar\": {\"outlinewidth\": 0, \"ticks\": \"\"}}, \"type\": \"scatterternary\"}], \"surface\": [{\"colorbar\": {\"outlinewidth\": 0, \"ticks\": \"\"}, \"colorscale\": [[0.0, \"#0d0887\"], [0.1111111111111111, \"#46039f\"], [0.2222222222222222, \"#7201a8\"], [0.3333333333333333, \"#9c179e\"], [0.4444444444444444, \"#bd3786\"], [0.5555555555555556, \"#d8576b\"], [0.6666666666666666, \"#ed7953\"], [0.7777777777777778, \"#fb9f3a\"], [0.8888888888888888, \"#fdca26\"], [1.0, \"#f0f921\"]], \"type\": \"surface\"}], \"table\": [{\"cells\": {\"fill\": {\"color\": \"#EBF0F8\"}, \"line\": {\"color\": \"white\"}}, \"header\": {\"fill\": {\"color\": \"#C8D4E3\"}, \"line\": {\"color\": \"white\"}}, \"type\": \"table\"}]}, \"layout\": {\"annotationdefaults\": {\"arrowcolor\": \"#2a3f5f\", \"arrowhead\": 0, \"arrowwidth\": 1}, \"autotypenumbers\": \"strict\", \"coloraxis\": {\"colorbar\": {\"outlinewidth\": 0, \"ticks\": \"\"}}, \"colorscale\": {\"diverging\": [[0, \"#8e0152\"], [0.1, \"#c51b7d\"], [0.2, \"#de77ae\"], [0.3, \"#f1b6da\"], [0.4, \"#fde0ef\"], [0.5, \"#f7f7f7\"], [0.6, \"#e6f5d0\"], [0.7, \"#b8e186\"], [0.8, \"#7fbc41\"], [0.9, \"#4d9221\"], [1, \"#276419\"]], \"sequential\": [[0.0, \"#0d0887\"], [0.1111111111111111, \"#46039f\"], [0.2222222222222222, \"#7201a8\"], [0.3333333333333333, \"#9c179e\"], [0.4444444444444444, \"#bd3786\"], [0.5555555555555556, \"#d8576b\"], [0.6666666666666666, \"#ed7953\"], [0.7777777777777778, \"#fb9f3a\"], [0.8888888888888888, \"#fdca26\"], [1.0, \"#f0f921\"]], \"sequentialminus\": [[0.0, \"#0d0887\"], [0.1111111111111111, \"#46039f\"], [0.2222222222222222, \"#7201a8\"], [0.3333333333333333, \"#9c179e\"], [0.4444444444444444, \"#bd3786\"], [0.5555555555555556, \"#d8576b\"], [0.6666666666666666, \"#ed7953\"], [0.7777777777777778, \"#fb9f3a\"], [0.8888888888888888, \"#fdca26\"], [1.0, \"#f0f921\"]]}, \"colorway\": [\"#636efa\", \"#EF553B\", \"#00cc96\", \"#ab63fa\", \"#FFA15A\", \"#19d3f3\", \"#FF6692\", \"#B6E880\", \"#FF97FF\", \"#FECB52\"], \"font\": {\"color\": \"#2a3f5f\"}, \"geo\": {\"bgcolor\": \"white\", \"lakecolor\": \"white\", \"landcolor\": \"#E5ECF6\", \"showlakes\": true, \"showland\": true, \"subunitcolor\": \"white\"}, \"hoverlabel\": {\"align\": \"left\"}, \"hovermode\": \"closest\", \"mapbox\": {\"style\": \"light\"}, \"paper_bgcolor\": \"white\", \"plot_bgcolor\": \"#E5ECF6\", \"polar\": {\"angularaxis\": {\"gridcolor\": \"white\", \"linecolor\": \"white\", \"ticks\": \"\"}, \"bgcolor\": \"#E5ECF6\", \"radialaxis\": {\"gridcolor\": \"white\", \"linecolor\": \"white\", \"ticks\": \"\"}}, \"scene\": {\"xaxis\": {\"backgroundcolor\": \"#E5ECF6\", \"gridcolor\": \"white\", \"gridwidth\": 2, \"linecolor\": \"white\", \"showbackground\": true, \"ticks\": \"\", \"zerolinecolor\": \"white\"}, \"yaxis\": {\"backgroundcolor\": \"#E5ECF6\", \"gridcolor\": \"white\", \"gridwidth\": 2, \"linecolor\": \"white\", \"showbackground\": true, \"ticks\": \"\", \"zerolinecolor\": \"white\"}, \"zaxis\": {\"backgroundcolor\": \"#E5ECF6\", \"gridcolor\": \"white\", \"gridwidth\": 2, \"linecolor\": \"white\", \"showbackground\": true, \"ticks\": \"\", \"zerolinecolor\": \"white\"}}, \"shapedefaults\": {\"line\": {\"color\": \"#2a3f5f\"}}, \"ternary\": {\"aaxis\": {\"gridcolor\": \"white\", \"linecolor\": \"white\", \"ticks\": \"\"}, \"baxis\": {\"gridcolor\": \"white\", \"linecolor\": \"white\", \"ticks\": \"\"}, \"bgcolor\": \"#E5ECF6\", \"caxis\": {\"gridcolor\": \"white\", \"linecolor\": \"white\", \"ticks\": \"\"}}, \"title\": {\"x\": 0.05}, \"xaxis\": {\"automargin\": true, \"gridcolor\": \"white\", \"linecolor\": \"white\", \"ticks\": \"\", \"title\": {\"standoff\": 15}, \"zerolinecolor\": \"white\", \"zerolinewidth\": 2}, \"yaxis\": {\"automargin\": true, \"gridcolor\": \"white\", \"linecolor\": \"white\", \"ticks\": \"\", \"title\": {\"standoff\": 15}, \"zerolinecolor\": \"white\", \"zerolinewidth\": 2}}}, \"title\": {\"font\": {\"color\": \"#4D5663\"}}, \"xaxis\": {\"anchor\": \"y\", \"domain\": [0.0, 0.2125], \"gridcolor\": \"#E1E5ED\", \"showgrid\": false, \"tickfont\": {\"color\": \"#4D5663\"}, \"title\": {\"font\": {\"color\": \"#4D5663\"}, \"text\": \"\"}, \"zerolinecolor\": \"#E1E5ED\"}, \"xaxis10\": {\"anchor\": \"y10\", \"domain\": [0.2625, 0.475], \"gridcolor\": \"#E1E5ED\", \"showgrid\": false, \"tickfont\": {\"color\": \"#4D5663\"}, \"title\": {\"font\": {\"color\": \"#4D5663\"}, \"text\": \"\"}, \"zerolinecolor\": \"#E1E5ED\"}, \"xaxis11\": {\"anchor\": \"y11\", \"domain\": [0.525, 0.7375], \"gridcolor\": \"#E1E5ED\", \"showgrid\": false, \"tickfont\": {\"color\": \"#4D5663\"}, \"title\": {\"font\": {\"color\": \"#4D5663\"}, \"text\": \"\"}, \"zerolinecolor\": \"#E1E5ED\"}, \"xaxis12\": {\"anchor\": \"y12\", \"domain\": [0.7875, 1.0], \"gridcolor\": \"#E1E5ED\", \"showgrid\": false, \"tickfont\": {\"color\": \"#4D5663\"}, \"title\": {\"font\": {\"color\": \"#4D5663\"}, \"text\": \"\"}, \"zerolinecolor\": \"#E1E5ED\"}, \"xaxis13\": {\"anchor\": \"y13\", \"domain\": [0.0, 0.2125], \"gridcolor\": \"#E1E5ED\", \"showgrid\": false, \"tickfont\": {\"color\": \"#4D5663\"}, \"title\": {\"font\": {\"color\": \"#4D5663\"}, \"text\": \"\"}, \"zerolinecolor\": \"#E1E5ED\"}, \"xaxis14\": {\"anchor\": \"y14\", \"domain\": [0.2625, 0.475], \"gridcolor\": \"#E1E5ED\", \"showgrid\": false, \"tickfont\": {\"color\": \"#4D5663\"}, \"title\": {\"font\": {\"color\": \"#4D5663\"}, \"text\": \"\"}, \"zerolinecolor\": \"#E1E5ED\"}, \"xaxis15\": {\"anchor\": \"y15\", \"domain\": [0.525, 0.7375], \"gridcolor\": \"#E1E5ED\", \"showgrid\": false, \"tickfont\": {\"color\": \"#4D5663\"}, \"title\": {\"font\": {\"color\": \"#4D5663\"}, \"text\": \"\"}, \"zerolinecolor\": \"#E1E5ED\"}, \"xaxis16\": {\"anchor\": \"y16\", \"domain\": [0.7875, 1.0], \"gridcolor\": \"#E1E5ED\", \"showgrid\": false, \"tickfont\": {\"color\": \"#4D5663\"}, \"title\": {\"font\": {\"color\": \"#4D5663\"}, \"text\": \"\"}, \"zerolinecolor\": \"#E1E5ED\"}, \"xaxis2\": {\"anchor\": \"y2\", \"domain\": [0.2625, 0.475], \"gridcolor\": \"#E1E5ED\", \"showgrid\": false, \"tickfont\": {\"color\": \"#4D5663\"}, \"title\": {\"font\": {\"color\": \"#4D5663\"}, \"text\": \"\"}, \"zerolinecolor\": \"#E1E5ED\"}, \"xaxis3\": {\"anchor\": \"y3\", \"domain\": [0.525, 0.7375], \"gridcolor\": \"#E1E5ED\", \"showgrid\": false, \"tickfont\": {\"color\": \"#4D5663\"}, \"title\": {\"font\": {\"color\": \"#4D5663\"}, \"text\": \"\"}, \"zerolinecolor\": \"#E1E5ED\"}, \"xaxis4\": {\"anchor\": \"y4\", \"domain\": [0.7875, 1.0], \"gridcolor\": \"#E1E5ED\", \"showgrid\": false, \"tickfont\": {\"color\": \"#4D5663\"}, \"title\": {\"font\": {\"color\": \"#4D5663\"}, \"text\": \"\"}, \"zerolinecolor\": \"#E1E5ED\"}, \"xaxis5\": {\"anchor\": \"y5\", \"domain\": [0.0, 0.2125], \"gridcolor\": \"#E1E5ED\", \"showgrid\": false, \"tickfont\": {\"color\": \"#4D5663\"}, \"title\": {\"font\": {\"color\": \"#4D5663\"}, \"text\": \"\"}, \"zerolinecolor\": \"#E1E5ED\"}, \"xaxis6\": {\"anchor\": \"y6\", \"domain\": [0.2625, 0.475], \"gridcolor\": \"#E1E5ED\", \"showgrid\": false, \"tickfont\": {\"color\": \"#4D5663\"}, \"title\": {\"font\": {\"color\": \"#4D5663\"}, \"text\": \"\"}, \"zerolinecolor\": \"#E1E5ED\"}, \"xaxis7\": {\"anchor\": \"y7\", \"domain\": [0.525, 0.7375], \"gridcolor\": \"#E1E5ED\", \"showgrid\": false, \"tickfont\": {\"color\": \"#4D5663\"}, \"title\": {\"font\": {\"color\": \"#4D5663\"}, \"text\": \"\"}, \"zerolinecolor\": \"#E1E5ED\"}, \"xaxis8\": {\"anchor\": \"y8\", \"domain\": [0.7875, 1.0], \"gridcolor\": \"#E1E5ED\", \"showgrid\": false, \"tickfont\": {\"color\": \"#4D5663\"}, \"title\": {\"font\": {\"color\": \"#4D5663\"}, \"text\": \"\"}, \"zerolinecolor\": \"#E1E5ED\"}, \"xaxis9\": {\"anchor\": \"y9\", \"domain\": [0.0, 0.2125], \"gridcolor\": \"#E1E5ED\", \"showgrid\": false, \"tickfont\": {\"color\": \"#4D5663\"}, \"title\": {\"font\": {\"color\": \"#4D5663\"}, \"text\": \"\"}, \"zerolinecolor\": \"#E1E5ED\"}, \"yaxis\": {\"anchor\": \"x\", \"domain\": [0.8025, 1.0], \"gridcolor\": \"#E1E5ED\", \"showgrid\": false, \"tickfont\": {\"color\": \"#4D5663\"}, \"title\": {\"font\": {\"color\": \"#4D5663\"}, \"text\": \"\"}, \"zerolinecolor\": \"#E1E5ED\"}, \"yaxis10\": {\"anchor\": \"x10\", \"domain\": [0.2675, 0.465], \"gridcolor\": \"#E1E5ED\", \"showgrid\": false, \"tickfont\": {\"color\": \"#4D5663\"}, \"title\": {\"font\": {\"color\": \"#4D5663\"}, \"text\": \"\"}, \"zerolinecolor\": \"#E1E5ED\"}, \"yaxis11\": {\"anchor\": \"x11\", \"domain\": [0.2675, 0.465], \"gridcolor\": \"#E1E5ED\", \"showgrid\": false, \"tickfont\": {\"color\": \"#4D5663\"}, \"title\": {\"font\": {\"color\": \"#4D5663\"}, \"text\": \"\"}, \"zerolinecolor\": \"#E1E5ED\"}, \"yaxis12\": {\"anchor\": \"x12\", \"domain\": [0.2675, 0.465], \"gridcolor\": \"#E1E5ED\", \"showgrid\": false, \"tickfont\": {\"color\": \"#4D5663\"}, \"title\": {\"font\": {\"color\": \"#4D5663\"}, \"text\": \"\"}, \"zerolinecolor\": \"#E1E5ED\"}, \"yaxis13\": {\"anchor\": \"x13\", \"domain\": [0.0, 0.1975], \"gridcolor\": \"#E1E5ED\", \"showgrid\": false, \"tickfont\": {\"color\": \"#4D5663\"}, \"title\": {\"font\": {\"color\": \"#4D5663\"}, \"text\": \"\"}, \"zerolinecolor\": \"#E1E5ED\"}, \"yaxis14\": {\"anchor\": \"x14\", \"domain\": [0.0, 0.1975], \"gridcolor\": \"#E1E5ED\", \"showgrid\": false, \"tickfont\": {\"color\": \"#4D5663\"}, \"title\": {\"font\": {\"color\": \"#4D5663\"}, \"text\": \"\"}, \"zerolinecolor\": \"#E1E5ED\"}, \"yaxis15\": {\"anchor\": \"x15\", \"domain\": [0.0, 0.1975], \"gridcolor\": \"#E1E5ED\", \"showgrid\": false, \"tickfont\": {\"color\": \"#4D5663\"}, \"title\": {\"font\": {\"color\": \"#4D5663\"}, \"text\": \"\"}, \"zerolinecolor\": \"#E1E5ED\"}, \"yaxis16\": {\"anchor\": \"x16\", \"domain\": [0.0, 0.1975], \"gridcolor\": \"#E1E5ED\", \"showgrid\": false, \"tickfont\": {\"color\": \"#4D5663\"}, \"title\": {\"font\": {\"color\": \"#4D5663\"}, \"text\": \"\"}, \"zerolinecolor\": \"#E1E5ED\"}, \"yaxis2\": {\"anchor\": \"x2\", \"domain\": [0.8025, 1.0], \"gridcolor\": \"#E1E5ED\", \"showgrid\": false, \"tickfont\": {\"color\": \"#4D5663\"}, \"title\": {\"font\": {\"color\": \"#4D5663\"}, \"text\": \"\"}, \"zerolinecolor\": \"#E1E5ED\"}, \"yaxis3\": {\"anchor\": \"x3\", \"domain\": [0.8025, 1.0], \"gridcolor\": \"#E1E5ED\", \"showgrid\": false, \"tickfont\": {\"color\": \"#4D5663\"}, \"title\": {\"font\": {\"color\": \"#4D5663\"}, \"text\": \"\"}, \"zerolinecolor\": \"#E1E5ED\"}, \"yaxis4\": {\"anchor\": \"x4\", \"domain\": [0.8025, 1.0], \"gridcolor\": \"#E1E5ED\", \"showgrid\": false, \"tickfont\": {\"color\": \"#4D5663\"}, \"title\": {\"font\": {\"color\": \"#4D5663\"}, \"text\": \"\"}, \"zerolinecolor\": \"#E1E5ED\"}, \"yaxis5\": {\"anchor\": \"x5\", \"domain\": [0.535, 0.7325], \"gridcolor\": \"#E1E5ED\", \"showgrid\": false, \"tickfont\": {\"color\": \"#4D5663\"}, \"title\": {\"font\": {\"color\": \"#4D5663\"}, \"text\": \"\"}, \"zerolinecolor\": \"#E1E5ED\"}, \"yaxis6\": {\"anchor\": \"x6\", \"domain\": [0.535, 0.7325], \"gridcolor\": \"#E1E5ED\", \"showgrid\": false, \"tickfont\": {\"color\": \"#4D5663\"}, \"title\": {\"font\": {\"color\": \"#4D5663\"}, \"text\": \"\"}, \"zerolinecolor\": \"#E1E5ED\"}, \"yaxis7\": {\"anchor\": \"x7\", \"domain\": [0.535, 0.7325], \"gridcolor\": \"#E1E5ED\", \"showgrid\": false, \"tickfont\": {\"color\": \"#4D5663\"}, \"title\": {\"font\": {\"color\": \"#4D5663\"}, \"text\": \"\"}, \"zerolinecolor\": \"#E1E5ED\"}, \"yaxis8\": {\"anchor\": \"x8\", \"domain\": [0.535, 0.7325], \"gridcolor\": \"#E1E5ED\", \"showgrid\": false, \"tickfont\": {\"color\": \"#4D5663\"}, \"title\": {\"font\": {\"color\": \"#4D5663\"}, \"text\": \"\"}, \"zerolinecolor\": \"#E1E5ED\"}, \"yaxis9\": {\"anchor\": \"x9\", \"domain\": [0.2675, 0.465], \"gridcolor\": \"#E1E5ED\", \"showgrid\": false, \"tickfont\": {\"color\": \"#4D5663\"}, \"title\": {\"font\": {\"color\": \"#4D5663\"}, \"text\": \"\"}, \"zerolinecolor\": \"#E1E5ED\"}},                        {\"showLink\": true, \"linkText\": \"Export to plot.ly\", \"plotlyServerURL\": \"https://plot.ly\", \"responsive\": true}                    ).then(function(){\n",
       "                            \n",
       "var gd = document.getElementById('921c3372-fd37-4499-a31e-f3cadef40ea2');\n",
       "var x = new MutationObserver(function (mutations, observer) {{\n",
       "        var display = window.getComputedStyle(gd).display;\n",
       "        if (!display || display === 'none') {{\n",
       "            console.log([gd, 'removed!']);\n",
       "            Plotly.purge(gd);\n",
       "            observer.disconnect();\n",
       "        }}\n",
       "}});\n",
       "\n",
       "// Listen for the removal of the full notebook cells\n",
       "var notebookContainer = gd.closest('#notebook-container');\n",
       "if (notebookContainer) {{\n",
       "    x.observe(notebookContainer, {childList: true});\n",
       "}}\n",
       "\n",
       "// Listen for the clearing of the current output cell\n",
       "var outputEl = gd.closest('.output');\n",
       "if (outputEl) {{\n",
       "    x.observe(outputEl, {childList: true});\n",
       "}}\n",
       "\n",
       "                        })                };                });            </script>        </div>"
      ]
     },
     "metadata": {},
     "output_type": "display_data"
    }
   ],
   "source": [
    "df.scatter_matrix()"
   ]
  }
 ],
 "metadata": {
  "kernelspec": {
   "display_name": "Python 3",
   "language": "python",
   "name": "python3"
  },
  "language_info": {
   "codemirror_mode": {
    "name": "ipython",
    "version": 3
   },
   "file_extension": ".py",
   "mimetype": "text/x-python",
   "name": "python",
   "nbconvert_exporter": "python",
   "pygments_lexer": "ipython3",
   "version": "3.8.5"
  }
 },
 "nbformat": 4,
 "nbformat_minor": 1
}
