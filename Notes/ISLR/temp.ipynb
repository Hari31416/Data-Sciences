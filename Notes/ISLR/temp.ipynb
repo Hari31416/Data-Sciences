{
 "cells": [
  {
   "cell_type": "code",
   "execution_count": 1,
   "metadata": {},
   "outputs": [],
   "source": [
    "from life_saving_tools.files.notebook import Notebook"
   ]
  },
  {
   "cell_type": "code",
   "execution_count": 2,
   "metadata": {},
   "outputs": [],
   "source": [
    "n = Notebook()"
   ]
  },
  {
   "cell_type": "code",
   "execution_count": 7,
   "metadata": {},
   "outputs": [
    {
     "name": "stdout",
     "output_type": "stream",
     "text": [
      "Converting the Notebook to HTML.\n",
      "Looking for the Headers and their positions.\n",
      "Getting correct order of the Headers.\n",
      "Creating the Contents.\n",
      "Content copied to clipboard.\n"
     ]
    }
   ],
   "source": [
    "n.create_content(\"Support_Vector_Machine.ipynb\")"
   ]
  },
  {
   "cell_type": "code",
   "execution_count": 3,
   "metadata": {},
   "outputs": [
    {
     "name": "stderr",
     "output_type": "stream",
     "text": [
      "Exporting notebooks...: 100%|██████████| 9/9 [00:05<00:00,  1.55it/s]\n"
     ]
    }
   ],
   "source": [
    "files = n.export_directory()"
   ]
  },
  {
   "cell_type": "code",
   "execution_count": 12,
   "metadata": {},
   "outputs": [
    {
     "data": {
      "text/plain": [
       "'Classification.html'"
      ]
     },
     "execution_count": 12,
     "metadata": {},
     "output_type": "execute_result"
    }
   ],
   "source": [
    "files[0].split(\"\\\\\")[-1]"
   ]
  },
  {
   "cell_type": "code",
   "execution_count": null,
   "metadata": {},
   "outputs": [],
   "source": [
    "base_dir = r\"Notes\\ISLR\""
   ]
  },
  {
   "cell_type": "code",
   "execution_count": 15,
   "metadata": {},
   "outputs": [
    {
     "name": "stdout",
     "output_type": "stream",
     "text": [
      "<li>\n",
      "        <a href=\"Notes/ISLR/Classification.html\" target = 'blank' class = 'links'>Classification</a>\n",
      "        </li>\n",
      "        <li>\n",
      "        <a href=\"Notes/ISLR/Linear_Model_Selection_and_Regularization.html\" target = 'blank' class = 'links'>Linear Model Selection And Regularization</a>\n",
      "        </li>\n",
      "        <li>\n",
      "        <a href=\"Notes/ISLR/Linear_Regression.html\" target = 'blank' class = 'links'>Linear Regression</a>\n",
      "        </li>\n",
      "        <li>\n",
      "        <a href=\"Notes/ISLR/Moving_Beyond_Linearity.html\" target = 'blank' class = 'links'>Moving Beyond Linearity</a>\n",
      "        </li>\n",
      "        <li>\n",
      "        <a href=\"Notes/ISLR/Resampling_Methods.html\" target = 'blank' class = 'links'>Resampling Methods</a>\n",
      "        </li>\n",
      "        <li>\n",
      "        <a href=\"Notes/ISLR/Support_Vector_Machine.html\" target = 'blank' class = 'links'>Support Vector Machine</a>\n",
      "        </li>\n",
      "        <li>\n",
      "        <a href=\"Notes/ISLR/temp.html\" target = 'blank' class = 'links'>Temp</a>\n",
      "        </li>\n",
      "        <li>\n",
      "        <a href=\"Notes/ISLR/Tree_Based_Methods.html\" target = 'blank' class = 'links'>Tree Based Methods</a>\n",
      "        </li>\n",
      "        <li>\n",
      "        <a href=\"Notes/ISLR/Unsupervised_Learning.html\" target = 'blank' class = 'links'>Unsupervised Learning</a>\n",
      "        </li>\n",
      "        \n"
     ]
    }
   ],
   "source": [
    "string = ''\n",
    "for file_path in files:\n",
    "    final_path = file_path.split(\"\\\\\")[-1]\n",
    "    if \".ipynb_checkpoints\" in final_path:\n",
    "        pass\n",
    "    else:\n",
    "        title = final_path.split(\"/\")[-1]\n",
    "        title = title.split(\".\")[0]\n",
    "        title = title.replace(\"_\", \" \").title()\n",
    "        txt = f\"\"\"<li>\n",
    "        <a href=\"Notes/ISLR/{final_path}\" target = 'blank' class = 'links'>{title}</a>\n",
    "        </li>\n",
    "        \"\"\"\n",
    "        string += txt\n",
    "\n",
    "print(string)"
   ]
  },
  {
   "cell_type": "code",
   "execution_count": 16,
   "metadata": {},
   "outputs": [],
   "source": [
    "import pyperclip\n",
    "pyperclip.copy(string)"
   ]
  },
  {
   "cell_type": "code",
   "execution_count": null,
   "metadata": {},
   "outputs": [],
   "source": []
  }
 ],
 "metadata": {
  "interpreter": {
   "hash": "21040c1b576dca9f4f330277849b9f4819256d524dee23c2b89e431027dafe11"
  },
  "kernelspec": {
   "display_name": "Python 3.8.5",
   "language": "python",
   "name": "python3"
  },
  "language_info": {
   "codemirror_mode": {
    "name": "ipython",
    "version": 3
   },
   "file_extension": ".py",
   "mimetype": "text/x-python",
   "name": "python",
   "nbconvert_exporter": "python",
   "pygments_lexer": "ipython3",
   "version": "3.8.5"
  },
  "orig_nbformat": 4
 },
 "nbformat": 4,
 "nbformat_minor": 2
}
