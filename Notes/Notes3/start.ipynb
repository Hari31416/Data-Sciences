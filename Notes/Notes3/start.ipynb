{
 "cells": [
  {
   "cell_type": "code",
   "execution_count": 1,
   "metadata": {},
   "outputs": [],
   "source": [
    "import os\n",
    "import shutil\n",
    "from life_saving_tools.Files import Notebook\n",
    "import nbformat\n",
    "from nbconvert import HTMLExporter"
   ]
  },
  {
   "cell_type": "markdown",
   "metadata": {},
   "source": [
    "## Saving Notebooks to HTML"
   ]
  },
  {
   "cell_type": "markdown",
   "metadata": {},
   "source": [
    "### Steps\n",
    "1. Remove The Logo\n",
    "2. Remove the 'Great Job' text\n",
    "3. Save the notebook as HTML\n",
    "4. Keep track of output file path\n",
    "5. Excluding the Exercises"
   ]
  },
  {
   "cell_type": "code",
   "execution_count": 2,
   "metadata": {},
   "outputs": [
    {
     "name": "stdout",
     "output_type": "stream",
     "text": [
      "190\n"
     ]
    }
   ],
   "source": [
    "i=0\n",
    "for folder, _, files in os.walk('.'):\n",
    "    for file in files:\n",
    "        if file.endswith('.ipynb'):\n",
    "            i+=1\n",
    "\n",
    "print(i)"
   ]
  },
  {
   "cell_type": "code",
   "execution_count": 5,
   "metadata": {},
   "outputs": [],
   "source": [
    "file = r\"01-Python-Crash-Course\\01-Python Crash Course.ipynb\"\n",
    "notebook = nbformat.read(file, as_version=4)"
   ]
  },
  {
   "cell_type": "code",
   "execution_count": 6,
   "metadata": {},
   "outputs": [],
   "source": [
    "import re\n",
    "def remove_logo(notebook):\n",
    "    regex = re.compile(r'</a>\\n___')\n",
    "    text = notebook.cells[0].source\n",
    "    try:\n",
    "        find_index = regex.search(text).span()[1]\n",
    "    except AttributeError:\n",
    "        find_index = 0\n",
    "    text = text[find_index:]\n",
    "    notebook.cells[0].source = text"
   ]
  },
  {
   "cell_type": "code",
   "execution_count": 15,
   "metadata": {},
   "outputs": [],
   "source": [
    "def convert_new(input, output = None):\n",
    "    #Loading the file\n",
    "    notebook = nbformat.read(input, as_version=4)\n",
    "    #Removing the logo\n",
    "    \n",
    "    remove_logo(notebook)\n",
    "    #Removing the final text\n",
    "    text = notebook.cells[-1].source\n",
    "    if \"Great Job\" in text:\n",
    "        notebook.cells[-1].source = \"\"\n",
    "    #Converting to HTML\n",
    "    html_exporter = HTMLExporter(template_name=\"classic\")\n",
    "    (body, _) = html_exporter.from_notebook_node(notebook)\n",
    "    # Fixing the title\n",
    "    title = input.split(os.path.sep)[-1].split(\".\")[0]\n",
    "    title = title.replace(\"_\", \" \").title()\n",
    "    title = title.replace(\"-\", \" \")\n",
    "    regex =re.compile(r\"\\d\")\n",
    "    title = regex.sub(\"\", title)\n",
    "    body = re.sub(\"<title>Notebook</title>\", f\"<title>{title.strip()}</title>\", body)\n",
    "\n",
    "    if output is None:\n",
    "        #Fixing the path\n",
    "        output = os.path.splitext(input)[0].replace(\" \", \"_\") + \".html\"\n",
    "\n",
    "    with open(output, \"w\", encoding='utf-8') as f:\n",
    "        f.write(body)\n",
    "    \n",
    "    #Fixing the title\n",
    "    return output, title"
   ]
  },
  {
   "cell_type": "code",
   "execution_count": 10,
   "metadata": {},
   "outputs": [
    {
     "data": {
      "text/plain": [
       "('01-Python-Crash-Course\\\\01-Python_Crash_Course.html', ' Python Crash Course')"
      ]
     },
     "execution_count": 10,
     "metadata": {},
     "output_type": "execute_result"
    }
   ],
   "source": [
    "convert_new(file)"
   ]
  },
  {
   "cell_type": "code",
   "execution_count": 16,
   "metadata": {},
   "outputs": [],
   "source": [
    "from IPython.display import clear_output"
   ]
  },
  {
   "cell_type": "code",
   "execution_count": 17,
   "metadata": {},
   "outputs": [],
   "source": [
    "titles = []\n",
    "paths = []\n",
    "for folder, _, files in os.walk(\".\"):\n",
    "    print(\"Currently on: \", folder)\n",
    "    if \"checkpoint\" in folder.lower():\n",
    "            print(\"Found a checkpoint Folder: \", file)\n",
    "            print(\"Skipped\")\n",
    "            continue\n",
    "        \n",
    "    for file in files:\n",
    "        if \"exercise\" in file.lower():\n",
    "            print(\"Found an exercise: \", file)\n",
    "            print(\"Skipped\")\n",
    "            continue\n",
    "        if file.endswith(\".ipynb\"):\n",
    "            print(\"Converting: \", file)\n",
    "            path, title = convert_new(os.path.join(folder, file))\n",
    "            paths.append(path)\n",
    "            titles.append(title)\n",
    "            print(\"Converted\")\n",
    "    clear_output()"
   ]
  },
  {
   "cell_type": "markdown",
   "metadata": {},
   "source": [
    "text = \"\"\"<li><a href='Notes\\Tensorflow_Deep_Learning\\00_tensorflow_fundamentals.html' target='blank' class='links'> Tensorflow Fundamentals</a></li>\"\"\""
   ]
  },
  {
   "cell_type": "code",
   "execution_count": null,
   "metadata": {},
   "outputs": [],
   "source": [
    "skeleton = \"\"\"\"<li><a href='Notes\\Notes1\\Tensorflow_Deep_Learning\\00_tensorflow_fundamentals.html'\\\n",
    "target='blank' class='links'> Tensorflow Fundamentals</a></li>\"\"\""
   ]
  },
  {
   "cell_type": "code",
   "execution_count": 90,
   "metadata": {},
   "outputs": [
    {
     "data": {
      "text/plain": [
       "'Notes1\\\\01-Python-Crash-Course\\\\01-Python_Crash_Course.html'"
      ]
     },
     "execution_count": 90,
     "metadata": {},
     "output_type": "execute_result"
    }
   ],
   "source": [
    "path = paths[1].replace(\".\", \"Notes1\", 1)\n",
    "path"
   ]
  },
  {
   "cell_type": "code",
   "execution_count": 92,
   "metadata": {},
   "outputs": [
    {
     "data": {
      "text/plain": [
       "'Python Crash Course'"
      ]
     },
     "execution_count": 92,
     "metadata": {},
     "output_type": "execute_result"
    }
   ],
   "source": [
    "titles[1]"
   ]
  },
  {
   "cell_type": "code",
   "execution_count": null,
   "metadata": {},
   "outputs": [],
   "source": []
  },
  {
   "cell_type": "code",
   "execution_count": 23,
   "metadata": {},
   "outputs": [],
   "source": [
    "import pyperclip\n",
    "text = \"\"\n",
    "for title, path in zip(titles, paths):\n",
    "    if 'checkpoint' in path.lower():\n",
    "        continue\n",
    "    if \"untitled\" in title.lower():\n",
    "        continue\n",
    "    path = path.replace(\".\", \"Notes3\", 1)\n",
    "    text+= f\"\"\"<li><a href='Notes\\{path}' target='blank' class='links'>{title}</a></li>\"\"\"\n",
    "\n",
    "pyperclip.copy(text)"
   ]
  },
  {
   "cell_type": "code",
   "execution_count": 22,
   "metadata": {},
   "outputs": [],
   "source": []
  },
  {
   "cell_type": "code",
   "execution_count": 21,
   "metadata": {},
   "outputs": [
    {
     "name": "stdout",
     "output_type": "stream",
     "text": [
      "<li><a href='Notes\\Notes3\\start.html' target='blank' class='links'>Start</a></li><li><a href='Notes\\Notes3\\01-Python-Crash-Course\\01-Python_Crash_Course.html' target='blank' class='links'> Python Crash Course</a></li><li><a href='Notes\\Notes3\\02-Numpy\\00-NumPy-Arrays.html' target='blank' class='links'> Numpy Arrays</a></li><li><a href='Notes\\Notes3\\02-Numpy\\01-NumPy-Indexing-and-Selection.html' target='blank' class='links'> Numpy Indexing And Selection</a></li><li><a href='Notes\\Notes3\\02-Numpy\\02-NumPy-Operations.html' target='blank' class='links'> Numpy Operations</a></li><li><a href='Notes\\Notes3\\03-Pandas\\00-Series.html' target='blank' class='links'> Series</a></li><li><a href='Notes\\Notes3\\03-Pandas\\01-DataFrames.html' target='blank' class='links'> Dataframes</a></li><li><a href='Notes\\Notes3\\03-Pandas\\02-Conditional-Filtering.html' target='blank' class='links'> Conditional Filtering</a></li><li><a href='Notes\\Notes3\\03-Pandas\\03-Useful-Methods.html' target='blank' class='links'> Useful Methods</a></li><li><a href='Notes\\Notes3\\03-Pandas\\04-Missing-Data.html' target='blank' class='links'> Missing Data</a></li><li><a href='Notes\\Notes3\\03-Pandas\\05-Groupby-Operations-and-MultiIndex.html' target='blank' class='links'> Groupby Operations And Multiindex</a></li><li><a href='Notes\\Notes3\\03-Pandas\\06-Combining-DataFrames.html' target='blank' class='links'> Combining Dataframes</a></li><li><a href='Notes\\Notes3\\03-Pandas\\07-Text-Methods.html' target='blank' class='links'> Text Methods</a></li><li><a href='Notes\\Notes3\\03-Pandas\\08-Time-Methods.html' target='blank' class='links'> Time Methods</a></li><li><a href='Notes\\Notes3\\03-Pandas\\09-Inputs-and-Outputs.html' target='blank' class='links'> Inputs And Outputs</a></li><li><a href='Notes\\Notes3\\03-Pandas\\10-Pivot-Tables.html' target='blank' class='links'> Pivot Tables</a></li><li><a href='Notes\\Notes3\\04-Matplotlib\\00-Matplotlib-Basics.html' target='blank' class='links'> Matplotlib Basics</a></li><li><a href='Notes\\Notes3\\04-Matplotlib\\01-Matplotlib-Figures.html' target='blank' class='links'> Matplotlib Figures</a></li><li><a href='Notes\\Notes3\\04-Matplotlib\\02-Matplotlib-SubPlots.html' target='blank' class='links'> Matplotlib Subplots</a></li><li><a href='Notes\\Notes3\\04-Matplotlib\\03-Matplotlib-Styling-Plots.html' target='blank' class='links'> Matplotlib Styling Plots</a></li><li><a href='Notes\\Notes3\\04-Matplotlib\\06-Additional-Matplotlib-Commands-NO_VIDEO.html' target='blank' class='links'> Additional Matplotlib Commands No Video</a></li><li><a href='Notes\\Notes3\\05-Seaborn\\00-Scatter-Plots.html' target='blank' class='links'> Scatter Plots</a></li><li><a href='Notes\\Notes3\\05-Seaborn\\01-Distribution-Plots.html' target='blank' class='links'> Distribution Plots</a></li><li><a href='Notes\\Notes3\\05-Seaborn\\02-Categorical-Plots-Stat-Estimation.html' target='blank' class='links'> Categorical Plots Stat Estimation</a></li><li><a href='Notes\\Notes3\\05-Seaborn\\03-Categorical-Plots-Distributions.html' target='blank' class='links'> Categorical Plots Distributions</a></li><li><a href='Notes\\Notes3\\05-Seaborn\\04-Comparison-Plots.html' target='blank' class='links'> Comparison Plots</a></li><li><a href='Notes\\Notes3\\05-Seaborn\\05-Seaborn-Grids.html' target='blank' class='links'> Seaborn Grids</a></li><li><a href='Notes\\Notes3\\05-Seaborn\\06-Matrix-Plots.html' target='blank' class='links'> Matrix Plots</a></li><li><a href='Notes\\Notes3\\06-Capstone-Project\\00-Capstone-Project.html' target='blank' class='links'> Capstone Project</a></li><li><a href='Notes\\Notes3\\06-Capstone-Project\\01-Capstone-Project-Solutions_.html' target='blank' class='links'> Capstone Project Solutions </a></li><li><a href='Notes\\Notes3\\07-Overview-of-Machine-Learning\\Template.html' target='blank' class='links'>Template</a></li><li><a href='Notes\\Notes3\\08-Linear-Regression-Models\\00-Intro-to-Simple-Linear-Regression.html' target='blank' class='links'> Intro To Simple Linear Regression</a></li><li><a href='Notes\\Notes3\\08-Linear-Regression-Models\\01-Linear-Regression-with-Scitkit-Learn.html' target='blank' class='links'> Linear Regression With Scitkit Learn</a></li><li><a href='Notes\\Notes3\\08-Linear-Regression-Models\\02-Polynomial-Regression.html' target='blank' class='links'> Polynomial Regression</a></li><li><a href='Notes\\Notes3\\08-Linear-Regression-Models\\03-Regularization-Ridge-Lasso-ElasticNet.html' target='blank' class='links'> Regularization Ridge Lasso Elasticnet</a></li><li><a href='Notes\\Notes3\\08-Linear-Regression-Models\\04-Linear-Regression-Project-DataSet_.html' target='blank' class='links'> Linear Regression Project Dataset </a></li><li><a href='Notes\\Notes3\\09-Feature-Engineering\\00-Dealing-with-Outliers.html' target='blank' class='links'> Dealing With Outliers</a></li><li><a href='Notes\\Notes3\\09-Feature-Engineering\\01-Dealing-with-Missing-Data.html' target='blank' class='links'> Dealing With Missing Data</a></li><li><a href='Notes\\Notes3\\09-Feature-Engineering\\02-Dealing-with-Categorical-Data.html' target='blank' class='links'> Dealing With Categorical Data</a></li><li><a href='Notes\\Notes3\\10-Cross-Val-and-LinReg-Project\\00-Cross-Validation.html' target='blank' class='links'> Cross Validation</a></li><li><a href='Notes\\Notes3\\10-Cross-Val-and-LinReg-Project\\01-Grid-Search.html' target='blank' class='links'> Grid Search</a></li><li><a href='Notes\\Notes3\\11-Logistic-Regression-Models\\00-Logistic-Regression.html' target='blank' class='links'> Logistic Regression</a></li><li><a href='Notes\\Notes3\\11-Logistic-Regression-Models\\01-Multi-Class-Logistic-Regression.html' target='blank' class='links'> Multi Class Logistic Regression</a></li><li><a href='Notes\\Notes3\\12-K-Nearest-Neighbors\\00-KNN-Classification.html' target='blank' class='links'> Knn Classification</a></li><li><a href='Notes\\Notes3\\13-Support-Vector-Machines\\00-SVM-Classification.html' target='blank' class='links'> Svm Classification</a></li><li><a href='Notes\\Notes3\\13-Support-Vector-Machines\\01-SVM-Regression.html' target='blank' class='links'> Svm Regression</a></li><li><a href='Notes\\Notes3\\14-Decision-Trees\\00-Decision-Trees.html' target='blank' class='links'> Decision Trees</a></li><li><a href='Notes\\Notes3\\15-Random-Forests\\00-Random-Forest-Classification.html' target='blank' class='links'> Random Forest Classification</a></li><li><a href='Notes\\Notes3\\15-Random-Forests\\01-Random-Forest-Regression.html' target='blank' class='links'> Random Forest Regression</a></li><li><a href='Notes\\Notes3\\16-Boosted-Trees\\00-AdaBoost.html' target='blank' class='links'> Adaboost</a></li><li><a href='Notes\\Notes3\\16-Boosted-Trees\\01-Gradient-Boosting.html' target='blank' class='links'> Gradient Boosting</a></li><li><a href='Notes\\Notes3\\17-Supervised-Learning-Capstone-Project\\00-Sup-Learning-Capstone-Tree-Methods_.html' target='blank' class='links'> Sup Learning Capstone Tree Methods </a></li><li><a href='Notes\\Notes3\\17-Supervised-Learning-Capstone-Project\\01-Sup-Learning-Capstone-Tree-Methods-SOLNs.html' target='blank' class='links'> Sup Learning Capstone Tree Methods Solns</a></li><li><a href='Notes\\Notes3\\18-Naive-Bayes-and-NLP\\00-Feature-Extraction-From-Text.html' target='blank' class='links'> Feature Extraction From Text</a></li><li><a href='Notes\\Notes3\\18-Naive-Bayes-and-NLP\\01-Text-Classification.html' target='blank' class='links'> Text Classification</a></li><li><a href='Notes\\Notes3\\18-Naive-Bayes-and-NLP\\02-Text-Classification-Assessment_.html' target='blank' class='links'> Text Classification Assessment </a></li><li><a href='Notes\\Notes3\\18-Naive-Bayes-and-NLP\\03-Text-Classification-Assessment-Solution.html' target='blank' class='links'> Text Classification Assessment Solution</a></li><li><a href='Notes\\Notes3\\19-Unsupervised-Learning-Overview\\Blank_on_Purpose.html' target='blank' class='links'>Blank On Purpose</a></li><li><a href='Notes\\Notes3\\20-Kmeans-Clustering\\00-Kmeans-Clustering.html' target='blank' class='links'> Kmeans Clustering</a></li><li><a href='Notes\\Notes3\\20-Kmeans-Clustering\\01-Kmeans-Color-Quantization.html' target='blank' class='links'> Kmeans Color Quantization</a></li><li><a href='Notes\\Notes3\\20-Kmeans-Clustering\\03-Kmeans-Clustering-Project-Solutions.html' target='blank' class='links'> Kmeans Clustering Project Solutions</a></li><li><a href='Notes\\Notes3\\21-Hierarchal-Clustering\\00-Hierarchal-Clustering-Example.html' target='blank' class='links'> Hierarchal Clustering Example</a></li><li><a href='Notes\\Notes3\\21-Hierarchical-Clustering\\00-Hierarchical-Clustering.html' target='blank' class='links'> Hierarchical Clustering</a></li><li><a href='Notes\\Notes3\\22-DBSCAN\\00-DBSCAN.html' target='blank' class='links'> Dbscan</a></li><li><a href='Notes\\Notes3\\22-DBSCAN\\01-DBSCAN-Hyperparameters.html' target='blank' class='links'> Dbscan Hyperparameters</a></li><li><a href='Notes\\Notes3\\22-DBSCAN\\03-DBSCAN-Project-Solutions.html' target='blank' class='links'> Dbscan Project Solutions</a></li><li><a href='Notes\\Notes3\\23-PCA-Principal-Component-Analysis\\00-PCA-Manual-Implementation.html' target='blank' class='links'> Pca Manual Implementation</a></li><li><a href='Notes\\Notes3\\23-PCA-Principal-Component-Analysis\\01-PCA-Scikit-Learn.html' target='blank' class='links'> Pca Scikit Learn</a></li><li><a href='Notes\\Notes3\\24-Model-Deployment\\00-Model-Persistence.html' target='blank' class='links'> Model Persistence</a></li><li><a href='Notes\\Notes3\\24-Model-Deployment\\01-Serving-Model-as-API.html' target='blank' class='links'> Serving Model As Api</a></li>\n"
     ]
    }
   ],
   "source": [
    "print(text)"
   ]
  },
  {
   "cell_type": "code",
   "execution_count": null,
   "metadata": {},
   "outputs": [],
   "source": []
  }
 ],
 "metadata": {
  "interpreter": {
   "hash": "ce44b17c45080b8f56a19c9450d52461d624c968fcd959bb1916985c5ffa2b94"
  },
  "kernelspec": {
   "display_name": "Python 3.8.5 64-bit ('base': conda)",
   "language": "python",
   "name": "python3"
  },
  "language_info": {
   "codemirror_mode": {
    "name": "ipython",
    "version": 3
   },
   "file_extension": ".py",
   "mimetype": "text/x-python",
   "name": "python",
   "nbconvert_exporter": "python",
   "pygments_lexer": "ipython3",
   "version": "3.8.5"
  },
  "orig_nbformat": 4
 },
 "nbformat": 4,
 "nbformat_minor": 2
}
