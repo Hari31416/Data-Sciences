{
 "cells": [
  {
   "cell_type": "code",
   "execution_count": 1,
   "metadata": {},
   "outputs": [],
   "source": [
    "import torch, torchvision\n",
    "import os\n",
    "import numpy as np\n",
    "import matplotlib.pyplot as plt\n",
    "import torch.nn as nn\n",
    "import torchvision.datasets as datasets\n",
    "import torchvision.transforms as transforms\n",
    "from torch.utils.data import DataLoader\n",
    "from torch_train import TorchTrain\n",
    "from torchmetrics import Accuracy, Precision, Recall"
   ]
  },
  {
   "cell_type": "code",
   "execution_count": 2,
   "metadata": {},
   "outputs": [],
   "source": [
    "to_tensor = transforms.ToTensor()\n",
    "train_data = datasets.FashionMNIST(\n",
    "    root=\"data\", train=True, download=True, transform=to_tensor\n",
    ")\n",
    "test_data = datasets.FashionMNIST(\n",
    "    root=\"data\", train=False, download=True, transform=to_tensor\n",
    ")\n",
    "\n",
    "BATCH_SIZE = 32\n",
    "train_loader = DataLoader(train_data, batch_size=BATCH_SIZE, shuffle=True)\n",
    "test_loader = DataLoader(test_data, batch_size=BATCH_SIZE, shuffle=False)\n",
    "\n",
    "\n",
    "class Model0(nn.Module):\n",
    "    def __init__(self):\n",
    "        super().__init__()\n",
    "        self.flatten = nn.Flatten()\n",
    "        self.linear = nn.Linear(784, 10)\n",
    "\n",
    "    def forward(self, x):\n",
    "        x = self.flatten(x)\n",
    "        x = self.linear(x)\n",
    "        return x\n",
    "\n",
    "\n",
    "model0 = Model0()\n",
    "\n",
    "loss = nn.CrossEntropyLoss()\n",
    "optimizer = torch.optim.Adam(model0.parameters(), lr=0.001)\n",
    "\n",
    "acc = Accuracy(task=\"multiclass\", num_classes=10)\n",
    "precision = Precision(num_classes=10, task=\"multiclass\")\n",
    "recall = Recall(num_classes=10, task=\"multiclass\")\n",
    "metrics = {\"accuracy\": acc, \"precision\": precision, \"recall\": recall}\n",
    "\n",
    "tt = TorchTrain(model0, optimizer, loss, metrics=metrics)\n"
   ]
  },
  {
   "cell_type": "code",
   "execution_count": 3,
   "metadata": {},
   "outputs": [
    {
     "name": "stdout",
     "output_type": "stream",
     "text": [
      "Epoch  1/ 2 Batch  300/ 300[====================] Train loss: 0.8842 | Train Accuracy: 0.7100 | Train Precision: 0.7100 | Train Recall: 0.7100\n",
      "Epoch    1/   2[====================] Test loss: 0.6693 | Test Accuracy: 0.7752 | Test Precision: 0.7752 | Test Recall: 0.7752\n",
      "Epoch  2/ 2 Batch  300/ 300[====================] Train loss: 0.6142 | Train Accuracy: 0.7916 | Train Precision: 0.7916 | Train Recall: 0.7916\n",
      "Epoch    2/   2[==============================] Test loss: 0.5937 | Test Accuracy: 0.8019 | Test Precision: 0.8019 | Test Recall: 0.8019\n"
     ]
    }
   ],
   "source": [
    "history = tt.fit(train_loader, test_loader, epochs=2, train_steps_per_epoch=300, validation_steps_per_epoch=200)"
   ]
  },
  {
   "cell_type": "code",
   "execution_count": 4,
   "metadata": {},
   "outputs": [
    {
     "name": "stdout",
     "output_type": "stream",
     "text": [
      "313/313[====================] Score: 0.800819\r"
     ]
    },
    {
     "data": {
      "text/plain": [
       "0.8008186900958466"
      ]
     },
     "execution_count": 4,
     "metadata": {},
     "output_type": "execute_result"
    }
   ],
   "source": [
    "tt.evaluate(test_loader, recall)"
   ]
  },
  {
   "cell_type": "code",
   "execution_count": 4,
   "metadata": {},
   "outputs": [
    {
     "data": {
      "text/html": [
       "<div>\n",
       "<style scoped>\n",
       "    .dataframe tbody tr th:only-of-type {\n",
       "        vertical-align: middle;\n",
       "    }\n",
       "\n",
       "    .dataframe tbody tr th {\n",
       "        vertical-align: top;\n",
       "    }\n",
       "\n",
       "    .dataframe thead th {\n",
       "        text-align: right;\n",
       "    }\n",
       "</style>\n",
       "<table border=\"1\" class=\"dataframe\">\n",
       "  <thead>\n",
       "    <tr style=\"text-align: right;\">\n",
       "      <th></th>\n",
       "      <th>train_loss</th>\n",
       "      <th>val_loss</th>\n",
       "      <th>train_accuracy</th>\n",
       "      <th>val_accuracy</th>\n",
       "      <th>train_precision</th>\n",
       "      <th>val_precision</th>\n",
       "      <th>train_recall</th>\n",
       "      <th>val_recall</th>\n",
       "    </tr>\n",
       "  </thead>\n",
       "  <tbody>\n",
       "    <tr>\n",
       "      <th>0</th>\n",
       "      <td>0.594331</td>\n",
       "      <td>0.505593</td>\n",
       "      <td>0.80235</td>\n",
       "      <td>0.829219</td>\n",
       "      <td>0.80235</td>\n",
       "      <td>0.829219</td>\n",
       "      <td>0.80235</td>\n",
       "      <td>0.829219</td>\n",
       "    </tr>\n",
       "    <tr>\n",
       "      <th>1</th>\n",
       "      <td>0.460607</td>\n",
       "      <td>0.479129</td>\n",
       "      <td>0.84325</td>\n",
       "      <td>0.834375</td>\n",
       "      <td>0.84325</td>\n",
       "      <td>0.834375</td>\n",
       "      <td>0.84325</td>\n",
       "      <td>0.834375</td>\n",
       "    </tr>\n",
       "  </tbody>\n",
       "</table>\n",
       "</div>"
      ],
      "text/plain": [
       "   train_loss  val_loss  train_accuracy  val_accuracy  train_precision  \\\n",
       "0    0.594331  0.505593         0.80235      0.829219          0.80235   \n",
       "1    0.460607  0.479129         0.84325      0.834375          0.84325   \n",
       "\n",
       "   val_precision  train_recall  val_recall  \n",
       "0       0.829219       0.80235    0.829219  \n",
       "1       0.834375       0.84325    0.834375  "
      ]
     },
     "execution_count": 4,
     "metadata": {},
     "output_type": "execute_result"
    }
   ],
   "source": [
    "import pandas as pd\n",
    "\n",
    "pd.DataFrame(history)"
   ]
  },
  {
   "cell_type": "code",
   "execution_count": 5,
   "metadata": {},
   "outputs": [
    {
     "data": {
      "text/plain": [
       "(0, {}, 0, {})"
      ]
     },
     "execution_count": 5,
     "metadata": {},
     "output_type": "execute_result"
    }
   ],
   "source": [
    "tt.train_loss, tt.train_metrics, tt.test_loss, tt.test_metrics"
   ]
  },
  {
   "cell_type": "code",
   "execution_count": 6,
   "metadata": {},
   "outputs": [
    {
     "data": {
      "text/plain": [
       "([0.5943314106782277, 0.4606070199012756],\n",
       " [0.5055934737622738, 0.47912943303585054])"
      ]
     },
     "execution_count": 6,
     "metadata": {},
     "output_type": "execute_result"
    }
   ],
   "source": [
    "tt.train_loss_all, tt.test_loss_all"
   ]
  },
  {
   "cell_type": "code",
   "execution_count": 7,
   "metadata": {},
   "outputs": [
    {
     "data": {
      "text/plain": [
       "[{'Accuracy': 0.80235, 'Precision': 0.80235, 'Recall': 0.80235},\n",
       " {'Accuracy': 0.84325, 'Precision': 0.84325, 'Recall': 0.84325}]"
      ]
     },
     "execution_count": 7,
     "metadata": {},
     "output_type": "execute_result"
    }
   ],
   "source": [
    "tt.train_metrics_all"
   ]
  },
  {
   "cell_type": "code",
   "execution_count": 8,
   "metadata": {},
   "outputs": [
    {
     "data": {
      "text/plain": [
       "[{'Accuracy': 0.82921875, 'Precision': 0.82921875, 'Recall': 0.82921875},\n",
       " {'Accuracy': 0.834375, 'Precision': 0.834375, 'Recall': 0.834375}]"
      ]
     },
     "execution_count": 8,
     "metadata": {},
     "output_type": "execute_result"
    }
   ],
   "source": [
    "tt.test_metrics_all"
   ]
  },
  {
   "cell_type": "code",
   "execution_count": 9,
   "metadata": {},
   "outputs": [
    {
     "data": {
      "text/plain": [
       "{'Accuracy': 0.80235, 'Precision': 0.80235, 'Recall': 0.80235}"
      ]
     },
     "execution_count": 9,
     "metadata": {},
     "output_type": "execute_result"
    }
   ],
   "source": [
    "tt.train_metrics_all[0]"
   ]
  },
  {
   "cell_type": "code",
   "execution_count": null,
   "metadata": {},
   "outputs": [],
   "source": []
  }
 ],
 "metadata": {
  "kernelspec": {
   "display_name": "data-science",
   "language": "python",
   "name": "python3"
  },
  "language_info": {
   "codemirror_mode": {
    "name": "ipython",
    "version": 3
   },
   "file_extension": ".py",
   "mimetype": "text/x-python",
   "name": "python",
   "nbconvert_exporter": "python",
   "pygments_lexer": "ipython3",
   "version": "3.9.15"
  },
  "orig_nbformat": 4
 },
 "nbformat": 4,
 "nbformat_minor": 2
}
